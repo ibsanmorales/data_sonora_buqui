{
 "cells": [
  {
   "cell_type": "markdown",
   "metadata": {},
   "source": [
    "## Estadísticas e indicadores educativos para Sonora"
   ]
  },
  {
   "cell_type": "markdown",
   "metadata": {},
   "source": [
    "Los datos se obtuvieron del sitio web https://planeacion.sep.gob.mx/entidadfederativa.aspx el 11 de Abril del 2022.\n",
    "\n",
    "\n",
    "* Estadística educativa\n",
    "\n",
    "Pendientes: "
   ]
  },
  {
   "cell_type": "code",
   "execution_count": 84,
   "metadata": {},
   "outputs": [],
   "source": [
    "#Importando librerias necesarias\n",
    "import pandas as pd\n",
    "import pathlib\n",
    "import numpy as np\n",
    "\n",
    "#Todo lo relacionado a graficar\n",
    "import plotly.express as px"
   ]
  },
  {
   "cell_type": "markdown",
   "metadata": {},
   "source": [
    "### Lectura de datos"
   ]
  },
  {
   "cell_type": "code",
   "execution_count": 85,
   "metadata": {},
   "outputs": [],
   "source": [
    "#Definiendo el Path del archivo\n",
    "path = pathlib.Path('..', 'data_dir/estadistica_e_indicadores_educativos_26SON.xlsx')"
   ]
  },
  {
   "cell_type": "code",
   "execution_count": 86,
   "metadata": {},
   "outputs": [],
   "source": [
    "#Leyendo los datos\n",
    "data_escolar = pd.read_excel(path, sheet_name='SON', header = 10, skipfooter=2)"
   ]
  },
  {
   "cell_type": "code",
   "execution_count": 87,
   "metadata": {},
   "outputs": [
    {
     "data": {
      "text/html": [
       "<div>\n",
       "<style scoped>\n",
       "    .dataframe tbody tr th:only-of-type {\n",
       "        vertical-align: middle;\n",
       "    }\n",
       "\n",
       "    .dataframe tbody tr th {\n",
       "        vertical-align: top;\n",
       "    }\n",
       "\n",
       "    .dataframe thead th {\n",
       "        text-align: right;\n",
       "    }\n",
       "</style>\n",
       "<table border=\"1\" class=\"dataframe\">\n",
       "  <thead>\n",
       "    <tr style=\"text-align: right;\">\n",
       "      <th></th>\n",
       "      <th>Nivel educativo/Indicador</th>\n",
       "      <th>2019-2020</th>\n",
       "      <th>2020-2021</th>\n",
       "      <th>Unnamed: 3</th>\n",
       "      <th>2021-2022e/</th>\n",
       "      <th>Unnamed: 5</th>\n",
       "    </tr>\n",
       "  </thead>\n",
       "  <tbody>\n",
       "    <tr>\n",
       "      <th>0</th>\n",
       "      <td>NaN</td>\n",
       "      <td>%</td>\n",
       "      <td>%</td>\n",
       "      <td>Nacional %</td>\n",
       "      <td>%</td>\n",
       "      <td>Nacional %</td>\n",
       "    </tr>\n",
       "    <tr>\n",
       "      <th>1</th>\n",
       "      <td>Educación básica</td>\n",
       "      <td>NaN</td>\n",
       "      <td>NaN</td>\n",
       "      <td>NaN</td>\n",
       "      <td>NaN</td>\n",
       "      <td>NaN</td>\n",
       "    </tr>\n",
       "    <tr>\n",
       "      <th>2</th>\n",
       "      <td>Cobertura (3 a 14 años de edad)1/</td>\n",
       "      <td>88.077762</td>\n",
       "      <td>86.496115</td>\n",
       "      <td>92.022565</td>\n",
       "      <td>86.472379</td>\n",
       "      <td>91.701771</td>\n",
       "    </tr>\n",
       "    <tr>\n",
       "      <th>3</th>\n",
       "      <td>Tasa neta de escolarización (3 a 14 años de ed...</td>\n",
       "      <td>87.477162</td>\n",
       "      <td>85.800633</td>\n",
       "      <td>91.205153</td>\n",
       "      <td>85.777163</td>\n",
       "      <td>90.887268</td>\n",
       "    </tr>\n",
       "    <tr>\n",
       "      <th>4</th>\n",
       "      <td>Educación preescolar</td>\n",
       "      <td>NaN</td>\n",
       "      <td>NaN</td>\n",
       "      <td>NaN</td>\n",
       "      <td>NaN</td>\n",
       "      <td>NaN</td>\n",
       "    </tr>\n",
       "  </tbody>\n",
       "</table>\n",
       "</div>"
      ],
      "text/plain": [
       "                           Nivel educativo/Indicador  2019-2020  2020-2021  \\\n",
       "0                                                NaN          %          %   \n",
       "1                                   Educación básica        NaN        NaN   \n",
       "2                  Cobertura (3 a 14 años de edad)1/  88.077762  86.496115   \n",
       "3  Tasa neta de escolarización (3 a 14 años de ed...  87.477162  85.800633   \n",
       "4                               Educación preescolar        NaN        NaN   \n",
       "\n",
       "   Unnamed: 3 2021-2022e/  Unnamed: 5  \n",
       "0  Nacional %           %  Nacional %  \n",
       "1         NaN         NaN         NaN  \n",
       "2   92.022565   86.472379   91.701771  \n",
       "3   91.205153   85.777163   90.887268  \n",
       "4         NaN         NaN         NaN  "
      ]
     },
     "execution_count": 87,
     "metadata": {},
     "output_type": "execute_result"
    }
   ],
   "source": [
    "#Confirmamos que los datos se leyeron correctamente\n",
    "data_escolar.head()"
   ]
  },
  {
   "cell_type": "markdown",
   "metadata": {},
   "source": [
    "### Limpieza de Datos"
   ]
  },
  {
   "cell_type": "code",
   "execution_count": 88,
   "metadata": {},
   "outputs": [
    {
     "data": {
      "text/plain": [
       "Index(['Nivel educativo/Indicador', '2019-2020', '2020-2021', 'Unnamed: 3',\n",
       "       '2021-2022e/', 'Unnamed: 5'],\n",
       "      dtype='object')"
      ]
     },
     "execution_count": 88,
     "metadata": {},
     "output_type": "execute_result"
    }
   ],
   "source": [
    "data_escolar.columns"
   ]
  },
  {
   "cell_type": "code",
   "execution_count": 89,
   "metadata": {},
   "outputs": [
    {
     "data": {
      "text/html": [
       "<div>\n",
       "<style scoped>\n",
       "    .dataframe tbody tr th:only-of-type {\n",
       "        vertical-align: middle;\n",
       "    }\n",
       "\n",
       "    .dataframe tbody tr th {\n",
       "        vertical-align: top;\n",
       "    }\n",
       "\n",
       "    .dataframe thead th {\n",
       "        text-align: right;\n",
       "    }\n",
       "</style>\n",
       "<table border=\"1\" class=\"dataframe\">\n",
       "  <thead>\n",
       "    <tr style=\"text-align: right;\">\n",
       "      <th></th>\n",
       "      <th>Indicador</th>\n",
       "      <th>2019_2020</th>\n",
       "      <th>2020_2021</th>\n",
       "      <th>2020_2021_nacional</th>\n",
       "      <th>2021_2022</th>\n",
       "      <th>2021_2022_nacional</th>\n",
       "    </tr>\n",
       "  </thead>\n",
       "  <tbody>\n",
       "    <tr>\n",
       "      <th>0</th>\n",
       "      <td>NaN</td>\n",
       "      <td>%</td>\n",
       "      <td>%</td>\n",
       "      <td>Nacional %</td>\n",
       "      <td>%</td>\n",
       "      <td>Nacional %</td>\n",
       "    </tr>\n",
       "    <tr>\n",
       "      <th>1</th>\n",
       "      <td>Educación básica</td>\n",
       "      <td>NaN</td>\n",
       "      <td>NaN</td>\n",
       "      <td>NaN</td>\n",
       "      <td>NaN</td>\n",
       "      <td>NaN</td>\n",
       "    </tr>\n",
       "    <tr>\n",
       "      <th>2</th>\n",
       "      <td>Cobertura (3 a 14 años de edad)1/</td>\n",
       "      <td>88.077762</td>\n",
       "      <td>86.496115</td>\n",
       "      <td>92.022565</td>\n",
       "      <td>86.472379</td>\n",
       "      <td>91.701771</td>\n",
       "    </tr>\n",
       "    <tr>\n",
       "      <th>3</th>\n",
       "      <td>Tasa neta de escolarización (3 a 14 años de ed...</td>\n",
       "      <td>87.477162</td>\n",
       "      <td>85.800633</td>\n",
       "      <td>91.205153</td>\n",
       "      <td>85.777163</td>\n",
       "      <td>90.887268</td>\n",
       "    </tr>\n",
       "    <tr>\n",
       "      <th>4</th>\n",
       "      <td>Educación preescolar</td>\n",
       "      <td>NaN</td>\n",
       "      <td>NaN</td>\n",
       "      <td>NaN</td>\n",
       "      <td>NaN</td>\n",
       "      <td>NaN</td>\n",
       "    </tr>\n",
       "  </tbody>\n",
       "</table>\n",
       "</div>"
      ],
      "text/plain": [
       "                                           Indicador  2019_2020  2020_2021  \\\n",
       "0                                                NaN          %          %   \n",
       "1                                   Educación básica        NaN        NaN   \n",
       "2                  Cobertura (3 a 14 años de edad)1/  88.077762  86.496115   \n",
       "3  Tasa neta de escolarización (3 a 14 años de ed...  87.477162  85.800633   \n",
       "4                               Educación preescolar        NaN        NaN   \n",
       "\n",
       "  2020_2021_nacional  2021_2022 2021_2022_nacional  \n",
       "0         Nacional %          %         Nacional %  \n",
       "1                NaN        NaN                NaN  \n",
       "2          92.022565  86.472379          91.701771  \n",
       "3          91.205153  85.777163          90.887268  \n",
       "4                NaN        NaN                NaN  "
      ]
     },
     "execution_count": 89,
     "metadata": {},
     "output_type": "execute_result"
    }
   ],
   "source": [
    "#Primero arreglaremos los nombres de columnas\n",
    "data_escolar = data_escolar.rename({'Nivel educativo/Indicador': 'Indicador',\n",
    "                    '2019-2020' : '2019_2020',\n",
    "                    '2020-2021': '2020_2021',\n",
    "                    'Unnamed: 3': '2020_2021_nacional',\n",
    "                    '2021-2022e/': '2021_2022',\n",
    "                    'Unnamed: 5':'2021_2022_nacional'},axis=1)\n",
    "data_escolar.head()"
   ]
  },
  {
   "cell_type": "code",
   "execution_count": 90,
   "metadata": {},
   "outputs": [
    {
     "data": {
      "text/html": [
       "<div>\n",
       "<style scoped>\n",
       "    .dataframe tbody tr th:only-of-type {\n",
       "        vertical-align: middle;\n",
       "    }\n",
       "\n",
       "    .dataframe tbody tr th {\n",
       "        vertical-align: top;\n",
       "    }\n",
       "\n",
       "    .dataframe thead th {\n",
       "        text-align: right;\n",
       "    }\n",
       "</style>\n",
       "<table border=\"1\" class=\"dataframe\">\n",
       "  <thead>\n",
       "    <tr style=\"text-align: right;\">\n",
       "      <th></th>\n",
       "      <th>Indicador</th>\n",
       "      <th>2019_2020</th>\n",
       "      <th>2020_2021</th>\n",
       "      <th>2020_2021_nacional</th>\n",
       "      <th>2021_2022</th>\n",
       "      <th>2021_2022_nacional</th>\n",
       "    </tr>\n",
       "  </thead>\n",
       "  <tbody>\n",
       "    <tr>\n",
       "      <th>1</th>\n",
       "      <td>Educación básica</td>\n",
       "      <td>NaN</td>\n",
       "      <td>NaN</td>\n",
       "      <td>NaN</td>\n",
       "      <td>NaN</td>\n",
       "      <td>NaN</td>\n",
       "    </tr>\n",
       "    <tr>\n",
       "      <th>2</th>\n",
       "      <td>Cobertura (3 a 14 años de edad)1/</td>\n",
       "      <td>88.077762</td>\n",
       "      <td>86.496115</td>\n",
       "      <td>92.022565</td>\n",
       "      <td>86.472379</td>\n",
       "      <td>91.701771</td>\n",
       "    </tr>\n",
       "    <tr>\n",
       "      <th>3</th>\n",
       "      <td>Tasa neta de escolarización (3 a 14 años de ed...</td>\n",
       "      <td>87.477162</td>\n",
       "      <td>85.800633</td>\n",
       "      <td>91.205153</td>\n",
       "      <td>85.777163</td>\n",
       "      <td>90.887268</td>\n",
       "    </tr>\n",
       "    <tr>\n",
       "      <th>4</th>\n",
       "      <td>Educación preescolar</td>\n",
       "      <td>NaN</td>\n",
       "      <td>NaN</td>\n",
       "      <td>NaN</td>\n",
       "      <td>NaN</td>\n",
       "      <td>NaN</td>\n",
       "    </tr>\n",
       "    <tr>\n",
       "      <th>5</th>\n",
       "      <td>Atención de 3 años1/</td>\n",
       "      <td>28.15435</td>\n",
       "      <td>22.941829</td>\n",
       "      <td>40.897886</td>\n",
       "      <td>23.784795</td>\n",
       "      <td>41.65429</td>\n",
       "    </tr>\n",
       "  </tbody>\n",
       "</table>\n",
       "</div>"
      ],
      "text/plain": [
       "                                           Indicador  2019_2020  2020_2021  \\\n",
       "1                                   Educación básica        NaN        NaN   \n",
       "2                  Cobertura (3 a 14 años de edad)1/  88.077762  86.496115   \n",
       "3  Tasa neta de escolarización (3 a 14 años de ed...  87.477162  85.800633   \n",
       "4                               Educación preescolar        NaN        NaN   \n",
       "5                               Atención de 3 años1/   28.15435  22.941829   \n",
       "\n",
       "  2020_2021_nacional  2021_2022 2021_2022_nacional  \n",
       "1                NaN        NaN                NaN  \n",
       "2          92.022565  86.472379          91.701771  \n",
       "3          91.205153  85.777163          90.887268  \n",
       "4                NaN        NaN                NaN  \n",
       "5          40.897886  23.784795           41.65429  "
      ]
     },
     "execution_count": 90,
     "metadata": {},
     "output_type": "execute_result"
    }
   ],
   "source": [
    "#AHora ya podemos remover el primer registro porque tiene informacion redundante\n",
    "data_escolar.drop(0,axis=0,inplace=True)\n",
    "data_escolar.head()"
   ]
  },
  {
   "cell_type": "code",
   "execution_count": 91,
   "metadata": {},
   "outputs": [
    {
     "data": {
      "text/html": [
       "<div>\n",
       "<style scoped>\n",
       "    .dataframe tbody tr th:only-of-type {\n",
       "        vertical-align: middle;\n",
       "    }\n",
       "\n",
       "    .dataframe tbody tr th {\n",
       "        vertical-align: top;\n",
       "    }\n",
       "\n",
       "    .dataframe thead th {\n",
       "        text-align: right;\n",
       "    }\n",
       "</style>\n",
       "<table border=\"1\" class=\"dataframe\">\n",
       "  <thead>\n",
       "    <tr style=\"text-align: right;\">\n",
       "      <th></th>\n",
       "      <th>Indicador</th>\n",
       "      <th>2019_2020</th>\n",
       "      <th>2020_2021</th>\n",
       "      <th>2020_2021_nacional</th>\n",
       "      <th>2021_2022</th>\n",
       "      <th>2021_2022_nacional</th>\n",
       "      <th>nivel_escolaridad</th>\n",
       "    </tr>\n",
       "  </thead>\n",
       "  <tbody>\n",
       "    <tr>\n",
       "      <th>1</th>\n",
       "      <td>Educación básica</td>\n",
       "      <td>NaN</td>\n",
       "      <td>NaN</td>\n",
       "      <td>NaN</td>\n",
       "      <td>NaN</td>\n",
       "      <td>NaN</td>\n",
       "      <td>Educación básica</td>\n",
       "    </tr>\n",
       "    <tr>\n",
       "      <th>2</th>\n",
       "      <td>Cobertura (3 a 14 años de edad)1/</td>\n",
       "      <td>88.077762</td>\n",
       "      <td>86.496115</td>\n",
       "      <td>92.022565</td>\n",
       "      <td>86.472379</td>\n",
       "      <td>91.701771</td>\n",
       "      <td>Educación básica</td>\n",
       "    </tr>\n",
       "    <tr>\n",
       "      <th>3</th>\n",
       "      <td>Tasa neta de escolarización (3 a 14 años de ed...</td>\n",
       "      <td>87.477162</td>\n",
       "      <td>85.800633</td>\n",
       "      <td>91.205153</td>\n",
       "      <td>85.777163</td>\n",
       "      <td>90.887268</td>\n",
       "      <td>Educación básica</td>\n",
       "    </tr>\n",
       "    <tr>\n",
       "      <th>4</th>\n",
       "      <td>Educación preescolar</td>\n",
       "      <td>NaN</td>\n",
       "      <td>NaN</td>\n",
       "      <td>NaN</td>\n",
       "      <td>NaN</td>\n",
       "      <td>NaN</td>\n",
       "      <td>Educación preescolar</td>\n",
       "    </tr>\n",
       "    <tr>\n",
       "      <th>5</th>\n",
       "      <td>Atención de 3 años1/</td>\n",
       "      <td>28.15435</td>\n",
       "      <td>22.941829</td>\n",
       "      <td>40.897886</td>\n",
       "      <td>23.784795</td>\n",
       "      <td>41.65429</td>\n",
       "      <td>Educación preescolar</td>\n",
       "    </tr>\n",
       "  </tbody>\n",
       "</table>\n",
       "</div>"
      ],
      "text/plain": [
       "                                           Indicador  2019_2020  2020_2021  \\\n",
       "1                                   Educación básica        NaN        NaN   \n",
       "2                  Cobertura (3 a 14 años de edad)1/  88.077762  86.496115   \n",
       "3  Tasa neta de escolarización (3 a 14 años de ed...  87.477162  85.800633   \n",
       "4                               Educación preescolar        NaN        NaN   \n",
       "5                               Atención de 3 años1/   28.15435  22.941829   \n",
       "\n",
       "  2020_2021_nacional  2021_2022 2021_2022_nacional     nivel_escolaridad  \n",
       "1                NaN        NaN                NaN      Educación básica  \n",
       "2          92.022565  86.472379          91.701771      Educación básica  \n",
       "3          91.205153  85.777163          90.887268      Educación básica  \n",
       "4                NaN        NaN                NaN  Educación preescolar  \n",
       "5          40.897886  23.784795           41.65429  Educación preescolar  "
      ]
     },
     "execution_count": 91,
     "metadata": {},
     "output_type": "execute_result"
    }
   ],
   "source": [
    "#Ahora crearemos una nueva columna con el nivel de escolaridad para cada uno de los indicadores\n",
    "nivel_escolaridad = None\n",
    "for index, row in data_escolar.iterrows():\n",
    "    if pd.isna(row['2019_2020']):\n",
    "        nivel_escolaridad = row['Indicador']\n",
    "        data_escolar.loc[index, 'nivel_escolaridad'] = nivel_escolaridad\n",
    "    else:\n",
    "        data_escolar.loc[index, 'nivel_escolaridad'] = nivel_escolaridad\n",
    "\n",
    "data_escolar.head()"
   ]
  },
  {
   "cell_type": "code",
   "execution_count": 92,
   "metadata": {},
   "outputs": [
    {
     "data": {
      "text/plain": [
       "array(['Educación básica', 'Educación preescolar', 'Educación primaria',\n",
       "       'Educación secundaria', 'Educación media superior',\n",
       "       'Educación superior', 'Otros indicadores'], dtype=object)"
      ]
     },
     "execution_count": 92,
     "metadata": {},
     "output_type": "execute_result"
    }
   ],
   "source": [
    "data_escolar.nivel_escolaridad.unique()"
   ]
  },
  {
   "cell_type": "code",
   "execution_count": 93,
   "metadata": {},
   "outputs": [
    {
     "data": {
      "text/html": [
       "<div>\n",
       "<style scoped>\n",
       "    .dataframe tbody tr th:only-of-type {\n",
       "        vertical-align: middle;\n",
       "    }\n",
       "\n",
       "    .dataframe tbody tr th {\n",
       "        vertical-align: top;\n",
       "    }\n",
       "\n",
       "    .dataframe thead th {\n",
       "        text-align: right;\n",
       "    }\n",
       "</style>\n",
       "<table border=\"1\" class=\"dataframe\">\n",
       "  <thead>\n",
       "    <tr style=\"text-align: right;\">\n",
       "      <th></th>\n",
       "      <th>Indicador</th>\n",
       "      <th>2019_2020</th>\n",
       "      <th>2020_2021</th>\n",
       "      <th>2020_2021_nacional</th>\n",
       "      <th>2021_2022</th>\n",
       "      <th>2021_2022_nacional</th>\n",
       "      <th>nivel_escolaridad</th>\n",
       "    </tr>\n",
       "  </thead>\n",
       "  <tbody>\n",
       "    <tr>\n",
       "      <th>1</th>\n",
       "      <td>Educación básica</td>\n",
       "      <td>NaN</td>\n",
       "      <td>NaN</td>\n",
       "      <td>NaN</td>\n",
       "      <td>NaN</td>\n",
       "      <td>NaN</td>\n",
       "      <td>Educación básica</td>\n",
       "    </tr>\n",
       "    <tr>\n",
       "      <th>2</th>\n",
       "      <td>Cobertura (3 a 14 años de edad)1/</td>\n",
       "      <td>88.077762</td>\n",
       "      <td>86.496115</td>\n",
       "      <td>92.022565</td>\n",
       "      <td>86.472379</td>\n",
       "      <td>91.701771</td>\n",
       "      <td>Educación básica</td>\n",
       "    </tr>\n",
       "    <tr>\n",
       "      <th>3</th>\n",
       "      <td>Tasa neta de escolarización (3 a 14 años de ed...</td>\n",
       "      <td>87.477162</td>\n",
       "      <td>85.800633</td>\n",
       "      <td>91.205153</td>\n",
       "      <td>85.777163</td>\n",
       "      <td>90.887268</td>\n",
       "      <td>Educación básica</td>\n",
       "    </tr>\n",
       "    <tr>\n",
       "      <th>4</th>\n",
       "      <td>Educación preescolar</td>\n",
       "      <td>NaN</td>\n",
       "      <td>NaN</td>\n",
       "      <td>NaN</td>\n",
       "      <td>NaN</td>\n",
       "      <td>NaN</td>\n",
       "      <td>Educación preescolar</td>\n",
       "    </tr>\n",
       "    <tr>\n",
       "      <th>5</th>\n",
       "      <td>Atención de 3 años1/</td>\n",
       "      <td>28.15435</td>\n",
       "      <td>22.941829</td>\n",
       "      <td>40.897886</td>\n",
       "      <td>23.784795</td>\n",
       "      <td>41.65429</td>\n",
       "      <td>Educación preescolar</td>\n",
       "    </tr>\n",
       "    <tr>\n",
       "      <th>6</th>\n",
       "      <td>Atención de 4 años1/</td>\n",
       "      <td>82.278677</td>\n",
       "      <td>71.490893</td>\n",
       "      <td>80.624743</td>\n",
       "      <td>72.346016</td>\n",
       "      <td>81.20968</td>\n",
       "      <td>Educación preescolar</td>\n",
       "    </tr>\n",
       "    <tr>\n",
       "      <th>7</th>\n",
       "      <td>Atención de 5 años1/</td>\n",
       "      <td>77.417681</td>\n",
       "      <td>74.057487</td>\n",
       "      <td>75.094608</td>\n",
       "      <td>73.956523</td>\n",
       "      <td>75.419292</td>\n",
       "      <td>Educación preescolar</td>\n",
       "    </tr>\n",
       "    <tr>\n",
       "      <th>8</th>\n",
       "      <td>Atención de 3, 4 y 5 años (Tasa neta de escola...</td>\n",
       "      <td>62.806387</td>\n",
       "      <td>56.375712</td>\n",
       "      <td>65.599139</td>\n",
       "      <td>56.839821</td>\n",
       "      <td>66.166459</td>\n",
       "      <td>Educación preescolar</td>\n",
       "    </tr>\n",
       "    <tr>\n",
       "      <th>9</th>\n",
       "      <td>Cobertura (3 a 5 años de edad)1/</td>\n",
       "      <td>63.559875</td>\n",
       "      <td>57.00468</td>\n",
       "      <td>65.908337</td>\n",
       "      <td>57.473698</td>\n",
       "      <td>66.479764</td>\n",
       "      <td>Educación preescolar</td>\n",
       "    </tr>\n",
       "    <tr>\n",
       "      <th>10</th>\n",
       "      <td>Educación primaria</td>\n",
       "      <td>NaN</td>\n",
       "      <td>NaN</td>\n",
       "      <td>NaN</td>\n",
       "      <td>NaN</td>\n",
       "      <td>NaN</td>\n",
       "      <td>Educación primaria</td>\n",
       "    </tr>\n",
       "    <tr>\n",
       "      <th>11</th>\n",
       "      <td>Abandono escolarp/</td>\n",
       "      <td>0.281927</td>\n",
       "      <td>0.226717</td>\n",
       "      <td>0.392441</td>\n",
       "      <td>0.198112</td>\n",
       "      <td>0.382257</td>\n",
       "      <td>Educación primaria</td>\n",
       "    </tr>\n",
       "    <tr>\n",
       "      <th>12</th>\n",
       "      <td>Reprobaciónp/</td>\n",
       "      <td>0.220672</td>\n",
       "      <td>0.215762</td>\n",
       "      <td>0.620267</td>\n",
       "      <td>0.210661</td>\n",
       "      <td>0.60832</td>\n",
       "      <td>Educación primaria</td>\n",
       "    </tr>\n",
       "    <tr>\n",
       "      <th>13</th>\n",
       "      <td>Eficiencia terminalp/</td>\n",
       "      <td>96.498849</td>\n",
       "      <td>97.359793</td>\n",
       "      <td>96.891692</td>\n",
       "      <td>97.645166</td>\n",
       "      <td>97.358666</td>\n",
       "      <td>Educación primaria</td>\n",
       "    </tr>\n",
       "    <tr>\n",
       "      <th>14</th>\n",
       "      <td>Tasa de terminación1/ p/</td>\n",
       "      <td>96.82152</td>\n",
       "      <td>96.135602</td>\n",
       "      <td>102.491031</td>\n",
       "      <td>95.065665</td>\n",
       "      <td>102.358345</td>\n",
       "      <td>Educación primaria</td>\n",
       "    </tr>\n",
       "    <tr>\n",
       "      <th>15</th>\n",
       "      <td>Cobertura (6 a 11 años de edad)1/</td>\n",
       "      <td>97.441698</td>\n",
       "      <td>96.508393</td>\n",
       "      <td>103.065361</td>\n",
       "      <td>95.775365</td>\n",
       "      <td>101.900484</td>\n",
       "      <td>Educación primaria</td>\n",
       "    </tr>\n",
       "    <tr>\n",
       "      <th>16</th>\n",
       "      <td>Tasa neta de escolarización (6 a 11 años de ed...</td>\n",
       "      <td>92.03834</td>\n",
       "      <td>91.175555</td>\n",
       "      <td>97.370495</td>\n",
       "      <td>90.482952</td>\n",
       "      <td>96.266126</td>\n",
       "      <td>Educación primaria</td>\n",
       "    </tr>\n",
       "    <tr>\n",
       "      <th>17</th>\n",
       "      <td>Educación secundaria</td>\n",
       "      <td>NaN</td>\n",
       "      <td>NaN</td>\n",
       "      <td>NaN</td>\n",
       "      <td>NaN</td>\n",
       "      <td>NaN</td>\n",
       "      <td>Educación secundaria</td>\n",
       "    </tr>\n",
       "    <tr>\n",
       "      <th>18</th>\n",
       "      <td>Absorción</td>\n",
       "      <td>99.32832</td>\n",
       "      <td>99.561514</td>\n",
       "      <td>94.532185</td>\n",
       "      <td>99.714135</td>\n",
       "      <td>95.00485</td>\n",
       "      <td>Educación secundaria</td>\n",
       "    </tr>\n",
       "    <tr>\n",
       "      <th>19</th>\n",
       "      <td>Abandono escolarp/</td>\n",
       "      <td>1.810957</td>\n",
       "      <td>1.079584</td>\n",
       "      <td>1.993207</td>\n",
       "      <td>0.664852</td>\n",
       "      <td>1.405706</td>\n",
       "      <td>Educación secundaria</td>\n",
       "    </tr>\n",
       "    <tr>\n",
       "      <th>20</th>\n",
       "      <td>Reprobaciónp/</td>\n",
       "      <td>2.518789</td>\n",
       "      <td>1.456085</td>\n",
       "      <td>1.76107</td>\n",
       "      <td>0.842127</td>\n",
       "      <td>1.547682</td>\n",
       "      <td>Educación secundaria</td>\n",
       "    </tr>\n",
       "    <tr>\n",
       "      <th>21</th>\n",
       "      <td>Eficiencia terminal p/</td>\n",
       "      <td>90.051783</td>\n",
       "      <td>95.162652</td>\n",
       "      <td>91.447735</td>\n",
       "      <td>97.67079</td>\n",
       "      <td>94.590783</td>\n",
       "      <td>Educación secundaria</td>\n",
       "    </tr>\n",
       "    <tr>\n",
       "      <th>22</th>\n",
       "      <td>Tasa de terminación1/ p/</td>\n",
       "      <td>86.106129</td>\n",
       "      <td>90.461705</td>\n",
       "      <td>90.932414</td>\n",
       "      <td>94.76429</td>\n",
       "      <td>93.583954</td>\n",
       "      <td>Educación secundaria</td>\n",
       "    </tr>\n",
       "    <tr>\n",
       "      <th>23</th>\n",
       "      <td>Cobertura (12 a 14 años de edad)1/</td>\n",
       "      <td>93.314148</td>\n",
       "      <td>95.077343</td>\n",
       "      <td>95.758169</td>\n",
       "      <td>95.800395</td>\n",
       "      <td>96.136445</td>\n",
       "      <td>Educación secundaria</td>\n",
       "    </tr>\n",
       "    <tr>\n",
       "      <th>24</th>\n",
       "      <td>Tasa neta de escolarización (12 a 14 años de e...</td>\n",
       "      <td>83.83035</td>\n",
       "      <td>85.277689</td>\n",
       "      <td>84.151426</td>\n",
       "      <td>85.926088</td>\n",
       "      <td>84.481904</td>\n",
       "      <td>Educación secundaria</td>\n",
       "    </tr>\n",
       "  </tbody>\n",
       "</table>\n",
       "</div>"
      ],
      "text/plain": [
       "                                            Indicador  2019_2020  2020_2021  \\\n",
       "1                                    Educación básica        NaN        NaN   \n",
       "2                   Cobertura (3 a 14 años de edad)1/  88.077762  86.496115   \n",
       "3   Tasa neta de escolarización (3 a 14 años de ed...  87.477162  85.800633   \n",
       "4                                Educación preescolar        NaN        NaN   \n",
       "5                                Atención de 3 años1/   28.15435  22.941829   \n",
       "6                                Atención de 4 años1/  82.278677  71.490893   \n",
       "7                                Atención de 5 años1/  77.417681  74.057487   \n",
       "8   Atención de 3, 4 y 5 años (Tasa neta de escola...  62.806387  56.375712   \n",
       "9                    Cobertura (3 a 5 años de edad)1/  63.559875   57.00468   \n",
       "10                                 Educación primaria        NaN        NaN   \n",
       "11                                 Abandono escolarp/   0.281927   0.226717   \n",
       "12                                      Reprobaciónp/   0.220672   0.215762   \n",
       "13                              Eficiencia terminalp/  96.498849  97.359793   \n",
       "14                           Tasa de terminación1/ p/   96.82152  96.135602   \n",
       "15                  Cobertura (6 a 11 años de edad)1/  97.441698  96.508393   \n",
       "16  Tasa neta de escolarización (6 a 11 años de ed...   92.03834  91.175555   \n",
       "17                               Educación secundaria        NaN        NaN   \n",
       "18                                          Absorción   99.32832  99.561514   \n",
       "19                                 Abandono escolarp/   1.810957   1.079584   \n",
       "20                                      Reprobaciónp/   2.518789   1.456085   \n",
       "21                             Eficiencia terminal p/  90.051783  95.162652   \n",
       "22                           Tasa de terminación1/ p/  86.106129  90.461705   \n",
       "23                 Cobertura (12 a 14 años de edad)1/  93.314148  95.077343   \n",
       "24  Tasa neta de escolarización (12 a 14 años de e...   83.83035  85.277689   \n",
       "\n",
       "   2020_2021_nacional  2021_2022 2021_2022_nacional     nivel_escolaridad  \n",
       "1                 NaN        NaN                NaN      Educación básica  \n",
       "2           92.022565  86.472379          91.701771      Educación básica  \n",
       "3           91.205153  85.777163          90.887268      Educación básica  \n",
       "4                 NaN        NaN                NaN  Educación preescolar  \n",
       "5           40.897886  23.784795           41.65429  Educación preescolar  \n",
       "6           80.624743  72.346016           81.20968  Educación preescolar  \n",
       "7           75.094608  73.956523          75.419292  Educación preescolar  \n",
       "8           65.599139  56.839821          66.166459  Educación preescolar  \n",
       "9           65.908337  57.473698          66.479764  Educación preescolar  \n",
       "10                NaN        NaN                NaN    Educación primaria  \n",
       "11           0.392441   0.198112           0.382257    Educación primaria  \n",
       "12           0.620267   0.210661            0.60832    Educación primaria  \n",
       "13          96.891692  97.645166          97.358666    Educación primaria  \n",
       "14         102.491031  95.065665         102.358345    Educación primaria  \n",
       "15         103.065361  95.775365         101.900484    Educación primaria  \n",
       "16          97.370495  90.482952          96.266126    Educación primaria  \n",
       "17                NaN        NaN                NaN  Educación secundaria  \n",
       "18          94.532185  99.714135           95.00485  Educación secundaria  \n",
       "19           1.993207   0.664852           1.405706  Educación secundaria  \n",
       "20            1.76107   0.842127           1.547682  Educación secundaria  \n",
       "21          91.447735   97.67079          94.590783  Educación secundaria  \n",
       "22          90.932414   94.76429          93.583954  Educación secundaria  \n",
       "23          95.758169  95.800395          96.136445  Educación secundaria  \n",
       "24          84.151426  85.926088          84.481904  Educación secundaria  "
      ]
     },
     "execution_count": 93,
     "metadata": {},
     "output_type": "execute_result"
    }
   ],
   "source": [
    "#Como solo nos interesa los datos de menores o iguales que 14 filtraremos por nivel de escolaridad\n",
    "data_escolar = data_escolar[data_escolar['nivel_escolaridad'].isin(['Educación básica', 'Educación preescolar', 'Educación primaria', 'Educación secundaria'])].copy()\n",
    "data_escolar"
   ]
  },
  {
   "cell_type": "code",
   "execution_count": 94,
   "metadata": {},
   "outputs": [
    {
     "data": {
      "text/html": [
       "<div>\n",
       "<style scoped>\n",
       "    .dataframe tbody tr th:only-of-type {\n",
       "        vertical-align: middle;\n",
       "    }\n",
       "\n",
       "    .dataframe tbody tr th {\n",
       "        vertical-align: top;\n",
       "    }\n",
       "\n",
       "    .dataframe thead th {\n",
       "        text-align: right;\n",
       "    }\n",
       "</style>\n",
       "<table border=\"1\" class=\"dataframe\">\n",
       "  <thead>\n",
       "    <tr style=\"text-align: right;\">\n",
       "      <th></th>\n",
       "      <th>Indicador</th>\n",
       "      <th>2019_2020</th>\n",
       "      <th>2020_2021</th>\n",
       "      <th>2020_2021_nacional</th>\n",
       "      <th>2021_2022</th>\n",
       "      <th>2021_2022_nacional</th>\n",
       "      <th>nivel_escolaridad</th>\n",
       "    </tr>\n",
       "  </thead>\n",
       "  <tbody>\n",
       "    <tr>\n",
       "      <th>2</th>\n",
       "      <td>Cobertura (3 a 14 años de edad)1/</td>\n",
       "      <td>88.077762</td>\n",
       "      <td>86.496115</td>\n",
       "      <td>92.022565</td>\n",
       "      <td>86.472379</td>\n",
       "      <td>91.701771</td>\n",
       "      <td>Educación básica</td>\n",
       "    </tr>\n",
       "    <tr>\n",
       "      <th>3</th>\n",
       "      <td>Tasa neta de escolarización (3 a 14 años de ed...</td>\n",
       "      <td>87.477162</td>\n",
       "      <td>85.800633</td>\n",
       "      <td>91.205153</td>\n",
       "      <td>85.777163</td>\n",
       "      <td>90.887268</td>\n",
       "      <td>Educación básica</td>\n",
       "    </tr>\n",
       "    <tr>\n",
       "      <th>5</th>\n",
       "      <td>Atención de 3 años1/</td>\n",
       "      <td>28.15435</td>\n",
       "      <td>22.941829</td>\n",
       "      <td>40.897886</td>\n",
       "      <td>23.784795</td>\n",
       "      <td>41.65429</td>\n",
       "      <td>Educación preescolar</td>\n",
       "    </tr>\n",
       "    <tr>\n",
       "      <th>6</th>\n",
       "      <td>Atención de 4 años1/</td>\n",
       "      <td>82.278677</td>\n",
       "      <td>71.490893</td>\n",
       "      <td>80.624743</td>\n",
       "      <td>72.346016</td>\n",
       "      <td>81.20968</td>\n",
       "      <td>Educación preescolar</td>\n",
       "    </tr>\n",
       "    <tr>\n",
       "      <th>7</th>\n",
       "      <td>Atención de 5 años1/</td>\n",
       "      <td>77.417681</td>\n",
       "      <td>74.057487</td>\n",
       "      <td>75.094608</td>\n",
       "      <td>73.956523</td>\n",
       "      <td>75.419292</td>\n",
       "      <td>Educación preescolar</td>\n",
       "    </tr>\n",
       "    <tr>\n",
       "      <th>8</th>\n",
       "      <td>Atención de 3, 4 y 5 años (Tasa neta de escola...</td>\n",
       "      <td>62.806387</td>\n",
       "      <td>56.375712</td>\n",
       "      <td>65.599139</td>\n",
       "      <td>56.839821</td>\n",
       "      <td>66.166459</td>\n",
       "      <td>Educación preescolar</td>\n",
       "    </tr>\n",
       "    <tr>\n",
       "      <th>9</th>\n",
       "      <td>Cobertura (3 a 5 años de edad)1/</td>\n",
       "      <td>63.559875</td>\n",
       "      <td>57.00468</td>\n",
       "      <td>65.908337</td>\n",
       "      <td>57.473698</td>\n",
       "      <td>66.479764</td>\n",
       "      <td>Educación preescolar</td>\n",
       "    </tr>\n",
       "    <tr>\n",
       "      <th>11</th>\n",
       "      <td>Abandono escolarp/</td>\n",
       "      <td>0.281927</td>\n",
       "      <td>0.226717</td>\n",
       "      <td>0.392441</td>\n",
       "      <td>0.198112</td>\n",
       "      <td>0.382257</td>\n",
       "      <td>Educación primaria</td>\n",
       "    </tr>\n",
       "    <tr>\n",
       "      <th>12</th>\n",
       "      <td>Reprobaciónp/</td>\n",
       "      <td>0.220672</td>\n",
       "      <td>0.215762</td>\n",
       "      <td>0.620267</td>\n",
       "      <td>0.210661</td>\n",
       "      <td>0.60832</td>\n",
       "      <td>Educación primaria</td>\n",
       "    </tr>\n",
       "    <tr>\n",
       "      <th>13</th>\n",
       "      <td>Eficiencia terminalp/</td>\n",
       "      <td>96.498849</td>\n",
       "      <td>97.359793</td>\n",
       "      <td>96.891692</td>\n",
       "      <td>97.645166</td>\n",
       "      <td>97.358666</td>\n",
       "      <td>Educación primaria</td>\n",
       "    </tr>\n",
       "    <tr>\n",
       "      <th>14</th>\n",
       "      <td>Tasa de terminación1/ p/</td>\n",
       "      <td>96.82152</td>\n",
       "      <td>96.135602</td>\n",
       "      <td>102.491031</td>\n",
       "      <td>95.065665</td>\n",
       "      <td>102.358345</td>\n",
       "      <td>Educación primaria</td>\n",
       "    </tr>\n",
       "    <tr>\n",
       "      <th>15</th>\n",
       "      <td>Cobertura (6 a 11 años de edad)1/</td>\n",
       "      <td>97.441698</td>\n",
       "      <td>96.508393</td>\n",
       "      <td>103.065361</td>\n",
       "      <td>95.775365</td>\n",
       "      <td>101.900484</td>\n",
       "      <td>Educación primaria</td>\n",
       "    </tr>\n",
       "    <tr>\n",
       "      <th>16</th>\n",
       "      <td>Tasa neta de escolarización (6 a 11 años de ed...</td>\n",
       "      <td>92.03834</td>\n",
       "      <td>91.175555</td>\n",
       "      <td>97.370495</td>\n",
       "      <td>90.482952</td>\n",
       "      <td>96.266126</td>\n",
       "      <td>Educación primaria</td>\n",
       "    </tr>\n",
       "    <tr>\n",
       "      <th>18</th>\n",
       "      <td>Absorción</td>\n",
       "      <td>99.32832</td>\n",
       "      <td>99.561514</td>\n",
       "      <td>94.532185</td>\n",
       "      <td>99.714135</td>\n",
       "      <td>95.00485</td>\n",
       "      <td>Educación secundaria</td>\n",
       "    </tr>\n",
       "    <tr>\n",
       "      <th>19</th>\n",
       "      <td>Abandono escolarp/</td>\n",
       "      <td>1.810957</td>\n",
       "      <td>1.079584</td>\n",
       "      <td>1.993207</td>\n",
       "      <td>0.664852</td>\n",
       "      <td>1.405706</td>\n",
       "      <td>Educación secundaria</td>\n",
       "    </tr>\n",
       "    <tr>\n",
       "      <th>20</th>\n",
       "      <td>Reprobaciónp/</td>\n",
       "      <td>2.518789</td>\n",
       "      <td>1.456085</td>\n",
       "      <td>1.76107</td>\n",
       "      <td>0.842127</td>\n",
       "      <td>1.547682</td>\n",
       "      <td>Educación secundaria</td>\n",
       "    </tr>\n",
       "    <tr>\n",
       "      <th>21</th>\n",
       "      <td>Eficiencia terminal p/</td>\n",
       "      <td>90.051783</td>\n",
       "      <td>95.162652</td>\n",
       "      <td>91.447735</td>\n",
       "      <td>97.67079</td>\n",
       "      <td>94.590783</td>\n",
       "      <td>Educación secundaria</td>\n",
       "    </tr>\n",
       "    <tr>\n",
       "      <th>22</th>\n",
       "      <td>Tasa de terminación1/ p/</td>\n",
       "      <td>86.106129</td>\n",
       "      <td>90.461705</td>\n",
       "      <td>90.932414</td>\n",
       "      <td>94.76429</td>\n",
       "      <td>93.583954</td>\n",
       "      <td>Educación secundaria</td>\n",
       "    </tr>\n",
       "    <tr>\n",
       "      <th>23</th>\n",
       "      <td>Cobertura (12 a 14 años de edad)1/</td>\n",
       "      <td>93.314148</td>\n",
       "      <td>95.077343</td>\n",
       "      <td>95.758169</td>\n",
       "      <td>95.800395</td>\n",
       "      <td>96.136445</td>\n",
       "      <td>Educación secundaria</td>\n",
       "    </tr>\n",
       "    <tr>\n",
       "      <th>24</th>\n",
       "      <td>Tasa neta de escolarización (12 a 14 años de e...</td>\n",
       "      <td>83.83035</td>\n",
       "      <td>85.277689</td>\n",
       "      <td>84.151426</td>\n",
       "      <td>85.926088</td>\n",
       "      <td>84.481904</td>\n",
       "      <td>Educación secundaria</td>\n",
       "    </tr>\n",
       "  </tbody>\n",
       "</table>\n",
       "</div>"
      ],
      "text/plain": [
       "                                            Indicador  2019_2020  2020_2021  \\\n",
       "2                   Cobertura (3 a 14 años de edad)1/  88.077762  86.496115   \n",
       "3   Tasa neta de escolarización (3 a 14 años de ed...  87.477162  85.800633   \n",
       "5                                Atención de 3 años1/   28.15435  22.941829   \n",
       "6                                Atención de 4 años1/  82.278677  71.490893   \n",
       "7                                Atención de 5 años1/  77.417681  74.057487   \n",
       "8   Atención de 3, 4 y 5 años (Tasa neta de escola...  62.806387  56.375712   \n",
       "9                    Cobertura (3 a 5 años de edad)1/  63.559875   57.00468   \n",
       "11                                 Abandono escolarp/   0.281927   0.226717   \n",
       "12                                      Reprobaciónp/   0.220672   0.215762   \n",
       "13                              Eficiencia terminalp/  96.498849  97.359793   \n",
       "14                           Tasa de terminación1/ p/   96.82152  96.135602   \n",
       "15                  Cobertura (6 a 11 años de edad)1/  97.441698  96.508393   \n",
       "16  Tasa neta de escolarización (6 a 11 años de ed...   92.03834  91.175555   \n",
       "18                                          Absorción   99.32832  99.561514   \n",
       "19                                 Abandono escolarp/   1.810957   1.079584   \n",
       "20                                      Reprobaciónp/   2.518789   1.456085   \n",
       "21                             Eficiencia terminal p/  90.051783  95.162652   \n",
       "22                           Tasa de terminación1/ p/  86.106129  90.461705   \n",
       "23                 Cobertura (12 a 14 años de edad)1/  93.314148  95.077343   \n",
       "24  Tasa neta de escolarización (12 a 14 años de e...   83.83035  85.277689   \n",
       "\n",
       "   2020_2021_nacional  2021_2022 2021_2022_nacional     nivel_escolaridad  \n",
       "2           92.022565  86.472379          91.701771      Educación básica  \n",
       "3           91.205153  85.777163          90.887268      Educación básica  \n",
       "5           40.897886  23.784795           41.65429  Educación preescolar  \n",
       "6           80.624743  72.346016           81.20968  Educación preescolar  \n",
       "7           75.094608  73.956523          75.419292  Educación preescolar  \n",
       "8           65.599139  56.839821          66.166459  Educación preescolar  \n",
       "9           65.908337  57.473698          66.479764  Educación preescolar  \n",
       "11           0.392441   0.198112           0.382257    Educación primaria  \n",
       "12           0.620267   0.210661            0.60832    Educación primaria  \n",
       "13          96.891692  97.645166          97.358666    Educación primaria  \n",
       "14         102.491031  95.065665         102.358345    Educación primaria  \n",
       "15         103.065361  95.775365         101.900484    Educación primaria  \n",
       "16          97.370495  90.482952          96.266126    Educación primaria  \n",
       "18          94.532185  99.714135           95.00485  Educación secundaria  \n",
       "19           1.993207   0.664852           1.405706  Educación secundaria  \n",
       "20            1.76107   0.842127           1.547682  Educación secundaria  \n",
       "21          91.447735   97.67079          94.590783  Educación secundaria  \n",
       "22          90.932414   94.76429          93.583954  Educación secundaria  \n",
       "23          95.758169  95.800395          96.136445  Educación secundaria  \n",
       "24          84.151426  85.926088          84.481904  Educación secundaria  "
      ]
     },
     "execution_count": 94,
     "metadata": {},
     "output_type": "execute_result"
    }
   ],
   "source": [
    "#Ya que tenemos la escolaridad en una columna, removeremos todos los registros que tengan valores perdidos\n",
    "data_escolar.dropna(inplace=True)\n",
    "data_escolar"
   ]
  },
  {
   "cell_type": "code",
   "execution_count": 97,
   "metadata": {},
   "outputs": [
    {
     "data": {
      "text/html": [
       "<div>\n",
       "<style scoped>\n",
       "    .dataframe tbody tr th:only-of-type {\n",
       "        vertical-align: middle;\n",
       "    }\n",
       "\n",
       "    .dataframe tbody tr th {\n",
       "        vertical-align: top;\n",
       "    }\n",
       "\n",
       "    .dataframe thead th {\n",
       "        text-align: right;\n",
       "    }\n",
       "</style>\n",
       "<table border=\"1\" class=\"dataframe\">\n",
       "  <thead>\n",
       "    <tr style=\"text-align: right;\">\n",
       "      <th></th>\n",
       "      <th>Indicador</th>\n",
       "      <th>2019_2020</th>\n",
       "      <th>2020_2021</th>\n",
       "      <th>2020_2021_nacional</th>\n",
       "      <th>2021_2022</th>\n",
       "      <th>2021_2022_nacional</th>\n",
       "      <th>nivel_escolaridad</th>\n",
       "    </tr>\n",
       "  </thead>\n",
       "  <tbody>\n",
       "    <tr>\n",
       "      <th>2</th>\n",
       "      <td>Cobertura (3 a 14 años de edad)</td>\n",
       "      <td>88.077762</td>\n",
       "      <td>86.496115</td>\n",
       "      <td>92.022565</td>\n",
       "      <td>86.472379</td>\n",
       "      <td>91.701771</td>\n",
       "      <td>Educación básica</td>\n",
       "    </tr>\n",
       "    <tr>\n",
       "      <th>3</th>\n",
       "      <td>Tasa neta de escolarización (3 a 14 años de edad)</td>\n",
       "      <td>87.477162</td>\n",
       "      <td>85.800633</td>\n",
       "      <td>91.205153</td>\n",
       "      <td>85.777163</td>\n",
       "      <td>90.887268</td>\n",
       "      <td>Educación básica</td>\n",
       "    </tr>\n",
       "    <tr>\n",
       "      <th>5</th>\n",
       "      <td>Atención de 3 años</td>\n",
       "      <td>28.15435</td>\n",
       "      <td>22.941829</td>\n",
       "      <td>40.897886</td>\n",
       "      <td>23.784795</td>\n",
       "      <td>41.65429</td>\n",
       "      <td>Educación preescolar</td>\n",
       "    </tr>\n",
       "    <tr>\n",
       "      <th>6</th>\n",
       "      <td>Atención de 4 años</td>\n",
       "      <td>82.278677</td>\n",
       "      <td>71.490893</td>\n",
       "      <td>80.624743</td>\n",
       "      <td>72.346016</td>\n",
       "      <td>81.20968</td>\n",
       "      <td>Educación preescolar</td>\n",
       "    </tr>\n",
       "    <tr>\n",
       "      <th>7</th>\n",
       "      <td>Atención de 5 años</td>\n",
       "      <td>77.417681</td>\n",
       "      <td>74.057487</td>\n",
       "      <td>75.094608</td>\n",
       "      <td>73.956523</td>\n",
       "      <td>75.419292</td>\n",
       "      <td>Educación preescolar</td>\n",
       "    </tr>\n",
       "  </tbody>\n",
       "</table>\n",
       "</div>"
      ],
      "text/plain": [
       "                                           Indicador  2019_2020  2020_2021  \\\n",
       "2                    Cobertura (3 a 14 años de edad)  88.077762  86.496115   \n",
       "3  Tasa neta de escolarización (3 a 14 años de edad)  87.477162  85.800633   \n",
       "5                                 Atención de 3 años   28.15435  22.941829   \n",
       "6                                 Atención de 4 años  82.278677  71.490893   \n",
       "7                                 Atención de 5 años  77.417681  74.057487   \n",
       "\n",
       "  2020_2021_nacional  2021_2022 2021_2022_nacional     nivel_escolaridad  \n",
       "2          92.022565  86.472379          91.701771      Educación básica  \n",
       "3          91.205153  85.777163          90.887268      Educación básica  \n",
       "5          40.897886  23.784795           41.65429  Educación preescolar  \n",
       "6          80.624743  72.346016           81.20968  Educación preescolar  \n",
       "7          75.094608  73.956523          75.419292  Educación preescolar  "
      ]
     },
     "execution_count": 97,
     "metadata": {},
     "output_type": "execute_result"
    }
   ],
   "source": [
    "# Debido a que el indicador tiene caracteres de escape (como 1/) al final, los removeremos \n",
    "mapping = { '1/':'', 'p/':'', '4/':'', '2/':''}\n",
    "for k, v in mapping.items():\n",
    "    data_escolar['Indicador'] = data_escolar.Indicador.str.replace(k, v)\n",
    "data_escolar.head()"
   ]
  },
  {
   "cell_type": "code",
   "execution_count": 125,
   "metadata": {},
   "outputs": [],
   "source": [
    "#Removemos los whitespaces que quedan al final de la columna indicador\n",
    "data_escolar.Indicador = data_escolar.Indicador.str.rstrip()\n"
   ]
  },
  {
   "cell_type": "code",
   "execution_count": 126,
   "metadata": {},
   "outputs": [
    {
     "data": {
      "text/html": [
       "<div>\n",
       "<style scoped>\n",
       "    .dataframe tbody tr th:only-of-type {\n",
       "        vertical-align: middle;\n",
       "    }\n",
       "\n",
       "    .dataframe tbody tr th {\n",
       "        vertical-align: top;\n",
       "    }\n",
       "\n",
       "    .dataframe thead th {\n",
       "        text-align: right;\n",
       "    }\n",
       "</style>\n",
       "<table border=\"1\" class=\"dataframe\">\n",
       "  <thead>\n",
       "    <tr style=\"text-align: right;\">\n",
       "      <th></th>\n",
       "      <th>Indicador</th>\n",
       "      <th>2019_2020</th>\n",
       "      <th>2020_2021</th>\n",
       "      <th>2020_2021_nacional</th>\n",
       "      <th>2021_2022</th>\n",
       "      <th>2021_2022_nacional</th>\n",
       "      <th>nivel_escolaridad</th>\n",
       "    </tr>\n",
       "  </thead>\n",
       "  <tbody>\n",
       "    <tr>\n",
       "      <th>2</th>\n",
       "      <td>Cobertura (3 a 14 años de edad)</td>\n",
       "      <td>88.077762</td>\n",
       "      <td>86.496115</td>\n",
       "      <td>92.022565</td>\n",
       "      <td>86.472379</td>\n",
       "      <td>91.701771</td>\n",
       "      <td>Educación básica</td>\n",
       "    </tr>\n",
       "    <tr>\n",
       "      <th>3</th>\n",
       "      <td>Tasa neta de escolarización (3 a 14 años de edad)</td>\n",
       "      <td>87.477162</td>\n",
       "      <td>85.800633</td>\n",
       "      <td>91.205153</td>\n",
       "      <td>85.777163</td>\n",
       "      <td>90.887268</td>\n",
       "      <td>Educación básica</td>\n",
       "    </tr>\n",
       "    <tr>\n",
       "      <th>5</th>\n",
       "      <td>Atención de 3 años</td>\n",
       "      <td>28.15435</td>\n",
       "      <td>22.941829</td>\n",
       "      <td>40.897886</td>\n",
       "      <td>23.784795</td>\n",
       "      <td>41.65429</td>\n",
       "      <td>Educación preescolar</td>\n",
       "    </tr>\n",
       "    <tr>\n",
       "      <th>6</th>\n",
       "      <td>Atención de 4 años</td>\n",
       "      <td>82.278677</td>\n",
       "      <td>71.490893</td>\n",
       "      <td>80.624743</td>\n",
       "      <td>72.346016</td>\n",
       "      <td>81.20968</td>\n",
       "      <td>Educación preescolar</td>\n",
       "    </tr>\n",
       "    <tr>\n",
       "      <th>7</th>\n",
       "      <td>Atención de 5 años</td>\n",
       "      <td>77.417681</td>\n",
       "      <td>74.057487</td>\n",
       "      <td>75.094608</td>\n",
       "      <td>73.956523</td>\n",
       "      <td>75.419292</td>\n",
       "      <td>Educación preescolar</td>\n",
       "    </tr>\n",
       "  </tbody>\n",
       "</table>\n",
       "</div>"
      ],
      "text/plain": [
       "                                           Indicador  2019_2020  2020_2021  \\\n",
       "2                    Cobertura (3 a 14 años de edad)  88.077762  86.496115   \n",
       "3  Tasa neta de escolarización (3 a 14 años de edad)  87.477162  85.800633   \n",
       "5                                 Atención de 3 años   28.15435  22.941829   \n",
       "6                                 Atención de 4 años  82.278677  71.490893   \n",
       "7                                 Atención de 5 años  77.417681  74.057487   \n",
       "\n",
       "  2020_2021_nacional  2021_2022 2021_2022_nacional     nivel_escolaridad  \n",
       "2          92.022565  86.472379          91.701771      Educación básica  \n",
       "3          91.205153  85.777163          90.887268      Educación básica  \n",
       "5          40.897886  23.784795           41.65429  Educación preescolar  \n",
       "6          80.624743  72.346016           81.20968  Educación preescolar  \n",
       "7          75.094608  73.956523          75.419292  Educación preescolar  "
      ]
     },
     "execution_count": 126,
     "metadata": {},
     "output_type": "execute_result"
    }
   ],
   "source": [
    "#Ya tenemos los datos para realizar un análisis de datos exploratorio\n",
    "data_escolar.head()"
   ]
  },
  {
   "cell_type": "markdown",
   "metadata": {},
   "source": [
    "### Análisis de Datos Exploratorio"
   ]
  },
  {
   "cell_type": "code",
   "execution_count": 129,
   "metadata": {},
   "outputs": [
    {
     "data": {
      "text/html": [
       "<div>\n",
       "<style scoped>\n",
       "    .dataframe tbody tr th:only-of-type {\n",
       "        vertical-align: middle;\n",
       "    }\n",
       "\n",
       "    .dataframe tbody tr th {\n",
       "        vertical-align: top;\n",
       "    }\n",
       "\n",
       "    .dataframe thead th {\n",
       "        text-align: right;\n",
       "    }\n",
       "</style>\n",
       "<table border=\"1\" class=\"dataframe\">\n",
       "  <thead>\n",
       "    <tr style=\"text-align: right;\">\n",
       "      <th></th>\n",
       "      <th>Indicador</th>\n",
       "      <th>nivel_escolaridad</th>\n",
       "      <th>Periodo</th>\n",
       "      <th>Porcentaje</th>\n",
       "    </tr>\n",
       "  </thead>\n",
       "  <tbody>\n",
       "    <tr>\n",
       "      <th>2</th>\n",
       "      <td>Cobertura (3 a 14 años de edad)</td>\n",
       "      <td>Educación básica</td>\n",
       "      <td>2019_2020</td>\n",
       "      <td>88.077762</td>\n",
       "    </tr>\n",
       "    <tr>\n",
       "      <th>3</th>\n",
       "      <td>Tasa neta de escolarización (3 a 14 años de edad)</td>\n",
       "      <td>Educación básica</td>\n",
       "      <td>2019_2020</td>\n",
       "      <td>87.477162</td>\n",
       "    </tr>\n",
       "    <tr>\n",
       "      <th>5</th>\n",
       "      <td>Atención de 3 años</td>\n",
       "      <td>Educación preescolar</td>\n",
       "      <td>2019_2020</td>\n",
       "      <td>28.15435</td>\n",
       "    </tr>\n",
       "    <tr>\n",
       "      <th>6</th>\n",
       "      <td>Atención de 4 años</td>\n",
       "      <td>Educación preescolar</td>\n",
       "      <td>2019_2020</td>\n",
       "      <td>82.278677</td>\n",
       "    </tr>\n",
       "    <tr>\n",
       "      <th>7</th>\n",
       "      <td>Atención de 5 años</td>\n",
       "      <td>Educación preescolar</td>\n",
       "      <td>2019_2020</td>\n",
       "      <td>77.417681</td>\n",
       "    </tr>\n",
       "  </tbody>\n",
       "</table>\n",
       "</div>"
      ],
      "text/plain": [
       "                                           Indicador     nivel_escolaridad  \\\n",
       "2                    Cobertura (3 a 14 años de edad)      Educación básica   \n",
       "3  Tasa neta de escolarización (3 a 14 años de edad)      Educación básica   \n",
       "5                                 Atención de 3 años  Educación preescolar   \n",
       "6                                 Atención de 4 años  Educación preescolar   \n",
       "7                                 Atención de 5 años  Educación preescolar   \n",
       "\n",
       "     Periodo Porcentaje  \n",
       "2  2019_2020  88.077762  \n",
       "3  2019_2020  87.477162  \n",
       "5  2019_2020   28.15435  \n",
       "6  2019_2020  82.278677  \n",
       "7  2019_2020  77.417681  "
      ]
     },
     "execution_count": 129,
     "metadata": {},
     "output_type": "execute_result"
    }
   ],
   "source": [
    "#Primerio haremos un subset de datos Tidy con los periodos que nos interesan (no contando los nacionales)\n",
    "data_escolar_subset = pd.melt(data_escolar, id_vars=['Indicador', 'nivel_escolaridad' ], value_vars=['2019_2020', '2020_2021', '2021_2022'], ignore_index=False,\n",
    "                value_name = 'Porcentaje', var_name= 'Periodo')\n",
    "data_escolar_subset.head()"
   ]
  },
  {
   "cell_type": "code",
   "execution_count": 130,
   "metadata": {},
   "outputs": [
    {
     "data": {
      "text/html": [
       "<div>\n",
       "<style scoped>\n",
       "    .dataframe tbody tr th:only-of-type {\n",
       "        vertical-align: middle;\n",
       "    }\n",
       "\n",
       "    .dataframe tbody tr th {\n",
       "        vertical-align: top;\n",
       "    }\n",
       "\n",
       "    .dataframe thead th {\n",
       "        text-align: right;\n",
       "    }\n",
       "</style>\n",
       "<table border=\"1\" class=\"dataframe\">\n",
       "  <thead>\n",
       "    <tr style=\"text-align: right;\">\n",
       "      <th></th>\n",
       "      <th>Indicador</th>\n",
       "      <th>nivel_escolaridad</th>\n",
       "      <th>Periodo</th>\n",
       "      <th>Porcentaje</th>\n",
       "    </tr>\n",
       "  </thead>\n",
       "  <tbody>\n",
       "    <tr>\n",
       "      <th>2</th>\n",
       "      <td>Cobertura (3 a 14 años de edad)</td>\n",
       "      <td>Educación básica</td>\n",
       "      <td>2019_2020</td>\n",
       "      <td>88.077762</td>\n",
       "    </tr>\n",
       "    <tr>\n",
       "      <th>3</th>\n",
       "      <td>Tasa neta de escolarización (3 a 14 años de edad)</td>\n",
       "      <td>Educación básica</td>\n",
       "      <td>2019_2020</td>\n",
       "      <td>87.477162</td>\n",
       "    </tr>\n",
       "    <tr>\n",
       "      <th>5</th>\n",
       "      <td>Atención de 3 años</td>\n",
       "      <td>Educación preescolar</td>\n",
       "      <td>2019_2020</td>\n",
       "      <td>28.15435</td>\n",
       "    </tr>\n",
       "    <tr>\n",
       "      <th>6</th>\n",
       "      <td>Atención de 4 años</td>\n",
       "      <td>Educación preescolar</td>\n",
       "      <td>2019_2020</td>\n",
       "      <td>82.278677</td>\n",
       "    </tr>\n",
       "    <tr>\n",
       "      <th>7</th>\n",
       "      <td>Atención de 5 años</td>\n",
       "      <td>Educación preescolar</td>\n",
       "      <td>2019_2020</td>\n",
       "      <td>77.417681</td>\n",
       "    </tr>\n",
       "    <tr>\n",
       "      <th>8</th>\n",
       "      <td>Atención de 3, 4 y 5 años (Tasa neta de escola...</td>\n",
       "      <td>Educación preescolar</td>\n",
       "      <td>2019_2020</td>\n",
       "      <td>62.806387</td>\n",
       "    </tr>\n",
       "    <tr>\n",
       "      <th>9</th>\n",
       "      <td>Cobertura (3 a 5 años de edad)</td>\n",
       "      <td>Educación preescolar</td>\n",
       "      <td>2019_2020</td>\n",
       "      <td>63.559875</td>\n",
       "    </tr>\n",
       "    <tr>\n",
       "      <th>11</th>\n",
       "      <td>Abandono escolar</td>\n",
       "      <td>Educación primaria</td>\n",
       "      <td>2019_2020</td>\n",
       "      <td>0.281927</td>\n",
       "    </tr>\n",
       "    <tr>\n",
       "      <th>12</th>\n",
       "      <td>Reprobación</td>\n",
       "      <td>Educación primaria</td>\n",
       "      <td>2019_2020</td>\n",
       "      <td>0.220672</td>\n",
       "    </tr>\n",
       "    <tr>\n",
       "      <th>13</th>\n",
       "      <td>Eficiencia terminal</td>\n",
       "      <td>Educación primaria</td>\n",
       "      <td>2019_2020</td>\n",
       "      <td>96.498849</td>\n",
       "    </tr>\n",
       "    <tr>\n",
       "      <th>14</th>\n",
       "      <td>Tasa de terminación</td>\n",
       "      <td>Educación primaria</td>\n",
       "      <td>2019_2020</td>\n",
       "      <td>96.82152</td>\n",
       "    </tr>\n",
       "    <tr>\n",
       "      <th>15</th>\n",
       "      <td>Cobertura (6 a 11 años de edad)</td>\n",
       "      <td>Educación primaria</td>\n",
       "      <td>2019_2020</td>\n",
       "      <td>97.441698</td>\n",
       "    </tr>\n",
       "    <tr>\n",
       "      <th>16</th>\n",
       "      <td>Tasa neta de escolarización (6 a 11 años de edad)</td>\n",
       "      <td>Educación primaria</td>\n",
       "      <td>2019_2020</td>\n",
       "      <td>92.03834</td>\n",
       "    </tr>\n",
       "    <tr>\n",
       "      <th>18</th>\n",
       "      <td>Absorción</td>\n",
       "      <td>Educación secundaria</td>\n",
       "      <td>2019_2020</td>\n",
       "      <td>99.32832</td>\n",
       "    </tr>\n",
       "    <tr>\n",
       "      <th>19</th>\n",
       "      <td>Abandono escolar</td>\n",
       "      <td>Educación secundaria</td>\n",
       "      <td>2019_2020</td>\n",
       "      <td>1.810957</td>\n",
       "    </tr>\n",
       "    <tr>\n",
       "      <th>20</th>\n",
       "      <td>Reprobación</td>\n",
       "      <td>Educación secundaria</td>\n",
       "      <td>2019_2020</td>\n",
       "      <td>2.518789</td>\n",
       "    </tr>\n",
       "    <tr>\n",
       "      <th>21</th>\n",
       "      <td>Eficiencia terminal</td>\n",
       "      <td>Educación secundaria</td>\n",
       "      <td>2019_2020</td>\n",
       "      <td>90.051783</td>\n",
       "    </tr>\n",
       "    <tr>\n",
       "      <th>22</th>\n",
       "      <td>Tasa de terminación</td>\n",
       "      <td>Educación secundaria</td>\n",
       "      <td>2019_2020</td>\n",
       "      <td>86.106129</td>\n",
       "    </tr>\n",
       "    <tr>\n",
       "      <th>23</th>\n",
       "      <td>Cobertura (12 a 14 años de edad)</td>\n",
       "      <td>Educación secundaria</td>\n",
       "      <td>2019_2020</td>\n",
       "      <td>93.314148</td>\n",
       "    </tr>\n",
       "    <tr>\n",
       "      <th>24</th>\n",
       "      <td>Tasa neta de escolarización (12 a 14 años de e...</td>\n",
       "      <td>Educación secundaria</td>\n",
       "      <td>2019_2020</td>\n",
       "      <td>83.83035</td>\n",
       "    </tr>\n",
       "    <tr>\n",
       "      <th>2</th>\n",
       "      <td>Cobertura (3 a 14 años de edad)</td>\n",
       "      <td>Educación básica</td>\n",
       "      <td>2020_2021</td>\n",
       "      <td>86.496115</td>\n",
       "    </tr>\n",
       "    <tr>\n",
       "      <th>3</th>\n",
       "      <td>Tasa neta de escolarización (3 a 14 años de edad)</td>\n",
       "      <td>Educación básica</td>\n",
       "      <td>2020_2021</td>\n",
       "      <td>85.800633</td>\n",
       "    </tr>\n",
       "    <tr>\n",
       "      <th>5</th>\n",
       "      <td>Atención de 3 años</td>\n",
       "      <td>Educación preescolar</td>\n",
       "      <td>2020_2021</td>\n",
       "      <td>22.941829</td>\n",
       "    </tr>\n",
       "    <tr>\n",
       "      <th>6</th>\n",
       "      <td>Atención de 4 años</td>\n",
       "      <td>Educación preescolar</td>\n",
       "      <td>2020_2021</td>\n",
       "      <td>71.490893</td>\n",
       "    </tr>\n",
       "    <tr>\n",
       "      <th>7</th>\n",
       "      <td>Atención de 5 años</td>\n",
       "      <td>Educación preescolar</td>\n",
       "      <td>2020_2021</td>\n",
       "      <td>74.057487</td>\n",
       "    </tr>\n",
       "    <tr>\n",
       "      <th>8</th>\n",
       "      <td>Atención de 3, 4 y 5 años (Tasa neta de escola...</td>\n",
       "      <td>Educación preescolar</td>\n",
       "      <td>2020_2021</td>\n",
       "      <td>56.375712</td>\n",
       "    </tr>\n",
       "    <tr>\n",
       "      <th>9</th>\n",
       "      <td>Cobertura (3 a 5 años de edad)</td>\n",
       "      <td>Educación preescolar</td>\n",
       "      <td>2020_2021</td>\n",
       "      <td>57.00468</td>\n",
       "    </tr>\n",
       "    <tr>\n",
       "      <th>11</th>\n",
       "      <td>Abandono escolar</td>\n",
       "      <td>Educación primaria</td>\n",
       "      <td>2020_2021</td>\n",
       "      <td>0.226717</td>\n",
       "    </tr>\n",
       "    <tr>\n",
       "      <th>12</th>\n",
       "      <td>Reprobación</td>\n",
       "      <td>Educación primaria</td>\n",
       "      <td>2020_2021</td>\n",
       "      <td>0.215762</td>\n",
       "    </tr>\n",
       "    <tr>\n",
       "      <th>13</th>\n",
       "      <td>Eficiencia terminal</td>\n",
       "      <td>Educación primaria</td>\n",
       "      <td>2020_2021</td>\n",
       "      <td>97.359793</td>\n",
       "    </tr>\n",
       "    <tr>\n",
       "      <th>14</th>\n",
       "      <td>Tasa de terminación</td>\n",
       "      <td>Educación primaria</td>\n",
       "      <td>2020_2021</td>\n",
       "      <td>96.135602</td>\n",
       "    </tr>\n",
       "    <tr>\n",
       "      <th>15</th>\n",
       "      <td>Cobertura (6 a 11 años de edad)</td>\n",
       "      <td>Educación primaria</td>\n",
       "      <td>2020_2021</td>\n",
       "      <td>96.508393</td>\n",
       "    </tr>\n",
       "    <tr>\n",
       "      <th>16</th>\n",
       "      <td>Tasa neta de escolarización (6 a 11 años de edad)</td>\n",
       "      <td>Educación primaria</td>\n",
       "      <td>2020_2021</td>\n",
       "      <td>91.175555</td>\n",
       "    </tr>\n",
       "    <tr>\n",
       "      <th>18</th>\n",
       "      <td>Absorción</td>\n",
       "      <td>Educación secundaria</td>\n",
       "      <td>2020_2021</td>\n",
       "      <td>99.561514</td>\n",
       "    </tr>\n",
       "    <tr>\n",
       "      <th>19</th>\n",
       "      <td>Abandono escolar</td>\n",
       "      <td>Educación secundaria</td>\n",
       "      <td>2020_2021</td>\n",
       "      <td>1.079584</td>\n",
       "    </tr>\n",
       "    <tr>\n",
       "      <th>20</th>\n",
       "      <td>Reprobación</td>\n",
       "      <td>Educación secundaria</td>\n",
       "      <td>2020_2021</td>\n",
       "      <td>1.456085</td>\n",
       "    </tr>\n",
       "    <tr>\n",
       "      <th>21</th>\n",
       "      <td>Eficiencia terminal</td>\n",
       "      <td>Educación secundaria</td>\n",
       "      <td>2020_2021</td>\n",
       "      <td>95.162652</td>\n",
       "    </tr>\n",
       "    <tr>\n",
       "      <th>22</th>\n",
       "      <td>Tasa de terminación</td>\n",
       "      <td>Educación secundaria</td>\n",
       "      <td>2020_2021</td>\n",
       "      <td>90.461705</td>\n",
       "    </tr>\n",
       "    <tr>\n",
       "      <th>23</th>\n",
       "      <td>Cobertura (12 a 14 años de edad)</td>\n",
       "      <td>Educación secundaria</td>\n",
       "      <td>2020_2021</td>\n",
       "      <td>95.077343</td>\n",
       "    </tr>\n",
       "    <tr>\n",
       "      <th>24</th>\n",
       "      <td>Tasa neta de escolarización (12 a 14 años de e...</td>\n",
       "      <td>Educación secundaria</td>\n",
       "      <td>2020_2021</td>\n",
       "      <td>85.277689</td>\n",
       "    </tr>\n",
       "    <tr>\n",
       "      <th>2</th>\n",
       "      <td>Cobertura (3 a 14 años de edad)</td>\n",
       "      <td>Educación básica</td>\n",
       "      <td>2021_2022</td>\n",
       "      <td>86.472379</td>\n",
       "    </tr>\n",
       "    <tr>\n",
       "      <th>3</th>\n",
       "      <td>Tasa neta de escolarización (3 a 14 años de edad)</td>\n",
       "      <td>Educación básica</td>\n",
       "      <td>2021_2022</td>\n",
       "      <td>85.777163</td>\n",
       "    </tr>\n",
       "    <tr>\n",
       "      <th>5</th>\n",
       "      <td>Atención de 3 años</td>\n",
       "      <td>Educación preescolar</td>\n",
       "      <td>2021_2022</td>\n",
       "      <td>23.784795</td>\n",
       "    </tr>\n",
       "    <tr>\n",
       "      <th>6</th>\n",
       "      <td>Atención de 4 años</td>\n",
       "      <td>Educación preescolar</td>\n",
       "      <td>2021_2022</td>\n",
       "      <td>72.346016</td>\n",
       "    </tr>\n",
       "    <tr>\n",
       "      <th>7</th>\n",
       "      <td>Atención de 5 años</td>\n",
       "      <td>Educación preescolar</td>\n",
       "      <td>2021_2022</td>\n",
       "      <td>73.956523</td>\n",
       "    </tr>\n",
       "    <tr>\n",
       "      <th>8</th>\n",
       "      <td>Atención de 3, 4 y 5 años (Tasa neta de escola...</td>\n",
       "      <td>Educación preescolar</td>\n",
       "      <td>2021_2022</td>\n",
       "      <td>56.839821</td>\n",
       "    </tr>\n",
       "    <tr>\n",
       "      <th>9</th>\n",
       "      <td>Cobertura (3 a 5 años de edad)</td>\n",
       "      <td>Educación preescolar</td>\n",
       "      <td>2021_2022</td>\n",
       "      <td>57.473698</td>\n",
       "    </tr>\n",
       "    <tr>\n",
       "      <th>11</th>\n",
       "      <td>Abandono escolar</td>\n",
       "      <td>Educación primaria</td>\n",
       "      <td>2021_2022</td>\n",
       "      <td>0.198112</td>\n",
       "    </tr>\n",
       "    <tr>\n",
       "      <th>12</th>\n",
       "      <td>Reprobación</td>\n",
       "      <td>Educación primaria</td>\n",
       "      <td>2021_2022</td>\n",
       "      <td>0.210661</td>\n",
       "    </tr>\n",
       "    <tr>\n",
       "      <th>13</th>\n",
       "      <td>Eficiencia terminal</td>\n",
       "      <td>Educación primaria</td>\n",
       "      <td>2021_2022</td>\n",
       "      <td>97.645166</td>\n",
       "    </tr>\n",
       "    <tr>\n",
       "      <th>14</th>\n",
       "      <td>Tasa de terminación</td>\n",
       "      <td>Educación primaria</td>\n",
       "      <td>2021_2022</td>\n",
       "      <td>95.065665</td>\n",
       "    </tr>\n",
       "    <tr>\n",
       "      <th>15</th>\n",
       "      <td>Cobertura (6 a 11 años de edad)</td>\n",
       "      <td>Educación primaria</td>\n",
       "      <td>2021_2022</td>\n",
       "      <td>95.775365</td>\n",
       "    </tr>\n",
       "    <tr>\n",
       "      <th>16</th>\n",
       "      <td>Tasa neta de escolarización (6 a 11 años de edad)</td>\n",
       "      <td>Educación primaria</td>\n",
       "      <td>2021_2022</td>\n",
       "      <td>90.482952</td>\n",
       "    </tr>\n",
       "    <tr>\n",
       "      <th>18</th>\n",
       "      <td>Absorción</td>\n",
       "      <td>Educación secundaria</td>\n",
       "      <td>2021_2022</td>\n",
       "      <td>99.714135</td>\n",
       "    </tr>\n",
       "    <tr>\n",
       "      <th>19</th>\n",
       "      <td>Abandono escolar</td>\n",
       "      <td>Educación secundaria</td>\n",
       "      <td>2021_2022</td>\n",
       "      <td>0.664852</td>\n",
       "    </tr>\n",
       "    <tr>\n",
       "      <th>20</th>\n",
       "      <td>Reprobación</td>\n",
       "      <td>Educación secundaria</td>\n",
       "      <td>2021_2022</td>\n",
       "      <td>0.842127</td>\n",
       "    </tr>\n",
       "    <tr>\n",
       "      <th>21</th>\n",
       "      <td>Eficiencia terminal</td>\n",
       "      <td>Educación secundaria</td>\n",
       "      <td>2021_2022</td>\n",
       "      <td>97.67079</td>\n",
       "    </tr>\n",
       "    <tr>\n",
       "      <th>22</th>\n",
       "      <td>Tasa de terminación</td>\n",
       "      <td>Educación secundaria</td>\n",
       "      <td>2021_2022</td>\n",
       "      <td>94.76429</td>\n",
       "    </tr>\n",
       "    <tr>\n",
       "      <th>23</th>\n",
       "      <td>Cobertura (12 a 14 años de edad)</td>\n",
       "      <td>Educación secundaria</td>\n",
       "      <td>2021_2022</td>\n",
       "      <td>95.800395</td>\n",
       "    </tr>\n",
       "    <tr>\n",
       "      <th>24</th>\n",
       "      <td>Tasa neta de escolarización (12 a 14 años de e...</td>\n",
       "      <td>Educación secundaria</td>\n",
       "      <td>2021_2022</td>\n",
       "      <td>85.926088</td>\n",
       "    </tr>\n",
       "  </tbody>\n",
       "</table>\n",
       "</div>"
      ],
      "text/plain": [
       "                                            Indicador     nivel_escolaridad  \\\n",
       "2                     Cobertura (3 a 14 años de edad)      Educación básica   \n",
       "3   Tasa neta de escolarización (3 a 14 años de edad)      Educación básica   \n",
       "5                                  Atención de 3 años  Educación preescolar   \n",
       "6                                  Atención de 4 años  Educación preescolar   \n",
       "7                                  Atención de 5 años  Educación preescolar   \n",
       "8   Atención de 3, 4 y 5 años (Tasa neta de escola...  Educación preescolar   \n",
       "9                      Cobertura (3 a 5 años de edad)  Educación preescolar   \n",
       "11                                   Abandono escolar    Educación primaria   \n",
       "12                                        Reprobación    Educación primaria   \n",
       "13                                Eficiencia terminal    Educación primaria   \n",
       "14                                Tasa de terminación    Educación primaria   \n",
       "15                    Cobertura (6 a 11 años de edad)    Educación primaria   \n",
       "16  Tasa neta de escolarización (6 a 11 años de edad)    Educación primaria   \n",
       "18                                          Absorción  Educación secundaria   \n",
       "19                                   Abandono escolar  Educación secundaria   \n",
       "20                                        Reprobación  Educación secundaria   \n",
       "21                                Eficiencia terminal  Educación secundaria   \n",
       "22                                Tasa de terminación  Educación secundaria   \n",
       "23                   Cobertura (12 a 14 años de edad)  Educación secundaria   \n",
       "24  Tasa neta de escolarización (12 a 14 años de e...  Educación secundaria   \n",
       "2                     Cobertura (3 a 14 años de edad)      Educación básica   \n",
       "3   Tasa neta de escolarización (3 a 14 años de edad)      Educación básica   \n",
       "5                                  Atención de 3 años  Educación preescolar   \n",
       "6                                  Atención de 4 años  Educación preescolar   \n",
       "7                                  Atención de 5 años  Educación preescolar   \n",
       "8   Atención de 3, 4 y 5 años (Tasa neta de escola...  Educación preescolar   \n",
       "9                      Cobertura (3 a 5 años de edad)  Educación preescolar   \n",
       "11                                   Abandono escolar    Educación primaria   \n",
       "12                                        Reprobación    Educación primaria   \n",
       "13                                Eficiencia terminal    Educación primaria   \n",
       "14                                Tasa de terminación    Educación primaria   \n",
       "15                    Cobertura (6 a 11 años de edad)    Educación primaria   \n",
       "16  Tasa neta de escolarización (6 a 11 años de edad)    Educación primaria   \n",
       "18                                          Absorción  Educación secundaria   \n",
       "19                                   Abandono escolar  Educación secundaria   \n",
       "20                                        Reprobación  Educación secundaria   \n",
       "21                                Eficiencia terminal  Educación secundaria   \n",
       "22                                Tasa de terminación  Educación secundaria   \n",
       "23                   Cobertura (12 a 14 años de edad)  Educación secundaria   \n",
       "24  Tasa neta de escolarización (12 a 14 años de e...  Educación secundaria   \n",
       "2                     Cobertura (3 a 14 años de edad)      Educación básica   \n",
       "3   Tasa neta de escolarización (3 a 14 años de edad)      Educación básica   \n",
       "5                                  Atención de 3 años  Educación preescolar   \n",
       "6                                  Atención de 4 años  Educación preescolar   \n",
       "7                                  Atención de 5 años  Educación preescolar   \n",
       "8   Atención de 3, 4 y 5 años (Tasa neta de escola...  Educación preescolar   \n",
       "9                      Cobertura (3 a 5 años de edad)  Educación preescolar   \n",
       "11                                   Abandono escolar    Educación primaria   \n",
       "12                                        Reprobación    Educación primaria   \n",
       "13                                Eficiencia terminal    Educación primaria   \n",
       "14                                Tasa de terminación    Educación primaria   \n",
       "15                    Cobertura (6 a 11 años de edad)    Educación primaria   \n",
       "16  Tasa neta de escolarización (6 a 11 años de edad)    Educación primaria   \n",
       "18                                          Absorción  Educación secundaria   \n",
       "19                                   Abandono escolar  Educación secundaria   \n",
       "20                                        Reprobación  Educación secundaria   \n",
       "21                                Eficiencia terminal  Educación secundaria   \n",
       "22                                Tasa de terminación  Educación secundaria   \n",
       "23                   Cobertura (12 a 14 años de edad)  Educación secundaria   \n",
       "24  Tasa neta de escolarización (12 a 14 años de e...  Educación secundaria   \n",
       "\n",
       "      Periodo Porcentaje  \n",
       "2   2019_2020  88.077762  \n",
       "3   2019_2020  87.477162  \n",
       "5   2019_2020   28.15435  \n",
       "6   2019_2020  82.278677  \n",
       "7   2019_2020  77.417681  \n",
       "8   2019_2020  62.806387  \n",
       "9   2019_2020  63.559875  \n",
       "11  2019_2020   0.281927  \n",
       "12  2019_2020   0.220672  \n",
       "13  2019_2020  96.498849  \n",
       "14  2019_2020   96.82152  \n",
       "15  2019_2020  97.441698  \n",
       "16  2019_2020   92.03834  \n",
       "18  2019_2020   99.32832  \n",
       "19  2019_2020   1.810957  \n",
       "20  2019_2020   2.518789  \n",
       "21  2019_2020  90.051783  \n",
       "22  2019_2020  86.106129  \n",
       "23  2019_2020  93.314148  \n",
       "24  2019_2020   83.83035  \n",
       "2   2020_2021  86.496115  \n",
       "3   2020_2021  85.800633  \n",
       "5   2020_2021  22.941829  \n",
       "6   2020_2021  71.490893  \n",
       "7   2020_2021  74.057487  \n",
       "8   2020_2021  56.375712  \n",
       "9   2020_2021   57.00468  \n",
       "11  2020_2021   0.226717  \n",
       "12  2020_2021   0.215762  \n",
       "13  2020_2021  97.359793  \n",
       "14  2020_2021  96.135602  \n",
       "15  2020_2021  96.508393  \n",
       "16  2020_2021  91.175555  \n",
       "18  2020_2021  99.561514  \n",
       "19  2020_2021   1.079584  \n",
       "20  2020_2021   1.456085  \n",
       "21  2020_2021  95.162652  \n",
       "22  2020_2021  90.461705  \n",
       "23  2020_2021  95.077343  \n",
       "24  2020_2021  85.277689  \n",
       "2   2021_2022  86.472379  \n",
       "3   2021_2022  85.777163  \n",
       "5   2021_2022  23.784795  \n",
       "6   2021_2022  72.346016  \n",
       "7   2021_2022  73.956523  \n",
       "8   2021_2022  56.839821  \n",
       "9   2021_2022  57.473698  \n",
       "11  2021_2022   0.198112  \n",
       "12  2021_2022   0.210661  \n",
       "13  2021_2022  97.645166  \n",
       "14  2021_2022  95.065665  \n",
       "15  2021_2022  95.775365  \n",
       "16  2021_2022  90.482952  \n",
       "18  2021_2022  99.714135  \n",
       "19  2021_2022   0.664852  \n",
       "20  2021_2022   0.842127  \n",
       "21  2021_2022   97.67079  \n",
       "22  2021_2022   94.76429  \n",
       "23  2021_2022  95.800395  \n",
       "24  2021_2022  85.926088  "
      ]
     },
     "execution_count": 130,
     "metadata": {},
     "output_type": "execute_result"
    }
   ],
   "source": [
    "data_escolar_subset"
   ]
  },
  {
   "cell_type": "markdown",
   "metadata": {},
   "source": [
    "#### Análisis de Educación Primaria y Secundaria"
   ]
  },
  {
   "cell_type": "code",
   "execution_count": 146,
   "metadata": {},
   "outputs": [],
   "source": [
    "def plotter_primaria_secundaria(indicador, dataframe):\n",
    "    '''Función que grafíca los diferentes indicadores\n",
    "        Comparando entre educación primaria, arregla los labels y le agrega el titulo\n",
    "    '''\n",
    "    dff = dataframe[dataframe['Indicador'] == indicador]\n",
    "    title = 'Comparación y evolución de ' + indicador + ' para educación Primaria y Secundaria'\n",
    "    fig = px.line(dff, x=\"Periodo\", y=\"Porcentaje\", color='nivel_escolaridad',title=title, labels={'nivel_escolaridad':'Escolaridad'})\n",
    "    fig.show()"
   ]
  },
  {
   "cell_type": "markdown",
   "metadata": {},
   "source": [
    "##### Comparativa de Abandono escolar"
   ]
  },
  {
   "cell_type": "code",
   "execution_count": 147,
   "metadata": {},
   "outputs": [
    {
     "data": {
      "application/vnd.plotly.v1+json": {
       "config": {
        "plotlyServerURL": "https://plot.ly"
       },
       "data": [
        {
         "hovertemplate": "Escolaridad=Educación primaria<br>Periodo=%{x}<br>Porcentaje=%{y}<extra></extra>",
         "legendgroup": "Educación primaria",
         "line": {
          "color": "#636efa",
          "dash": "solid"
         },
         "marker": {
          "symbol": "circle"
         },
         "mode": "lines",
         "name": "Educación primaria",
         "orientation": "v",
         "showlegend": true,
         "type": "scatter",
         "x": [
          "2019_2020",
          "2020_2021",
          "2021_2022"
         ],
         "xaxis": "x",
         "y": [
          0.2819273817498358,
          0.2267170774885363,
          0.19811195319771047
         ],
         "yaxis": "y"
        },
        {
         "hovertemplate": "Escolaridad=Educación secundaria<br>Periodo=%{x}<br>Porcentaje=%{y}<extra></extra>",
         "legendgroup": "Educación secundaria",
         "line": {
          "color": "#EF553B",
          "dash": "solid"
         },
         "marker": {
          "symbol": "circle"
         },
         "mode": "lines",
         "name": "Educación secundaria",
         "orientation": "v",
         "showlegend": true,
         "type": "scatter",
         "x": [
          "2019_2020",
          "2020_2021",
          "2021_2022"
         ],
         "xaxis": "x",
         "y": [
          1.8109567230179535,
          1.0795839555798215,
          0.6648518479740351
         ],
         "yaxis": "y"
        }
       ],
       "layout": {
        "legend": {
         "title": {
          "text": "Escolaridad"
         },
         "tracegroupgap": 0
        },
        "template": {
         "data": {
          "bar": [
           {
            "error_x": {
             "color": "#2a3f5f"
            },
            "error_y": {
             "color": "#2a3f5f"
            },
            "marker": {
             "line": {
              "color": "#E5ECF6",
              "width": 0.5
             },
             "pattern": {
              "fillmode": "overlay",
              "size": 10,
              "solidity": 0.2
             }
            },
            "type": "bar"
           }
          ],
          "barpolar": [
           {
            "marker": {
             "line": {
              "color": "#E5ECF6",
              "width": 0.5
             },
             "pattern": {
              "fillmode": "overlay",
              "size": 10,
              "solidity": 0.2
             }
            },
            "type": "barpolar"
           }
          ],
          "carpet": [
           {
            "aaxis": {
             "endlinecolor": "#2a3f5f",
             "gridcolor": "white",
             "linecolor": "white",
             "minorgridcolor": "white",
             "startlinecolor": "#2a3f5f"
            },
            "baxis": {
             "endlinecolor": "#2a3f5f",
             "gridcolor": "white",
             "linecolor": "white",
             "minorgridcolor": "white",
             "startlinecolor": "#2a3f5f"
            },
            "type": "carpet"
           }
          ],
          "choropleth": [
           {
            "colorbar": {
             "outlinewidth": 0,
             "ticks": ""
            },
            "type": "choropleth"
           }
          ],
          "contour": [
           {
            "colorbar": {
             "outlinewidth": 0,
             "ticks": ""
            },
            "colorscale": [
             [
              0,
              "#0d0887"
             ],
             [
              0.1111111111111111,
              "#46039f"
             ],
             [
              0.2222222222222222,
              "#7201a8"
             ],
             [
              0.3333333333333333,
              "#9c179e"
             ],
             [
              0.4444444444444444,
              "#bd3786"
             ],
             [
              0.5555555555555556,
              "#d8576b"
             ],
             [
              0.6666666666666666,
              "#ed7953"
             ],
             [
              0.7777777777777778,
              "#fb9f3a"
             ],
             [
              0.8888888888888888,
              "#fdca26"
             ],
             [
              1,
              "#f0f921"
             ]
            ],
            "type": "contour"
           }
          ],
          "contourcarpet": [
           {
            "colorbar": {
             "outlinewidth": 0,
             "ticks": ""
            },
            "type": "contourcarpet"
           }
          ],
          "heatmap": [
           {
            "colorbar": {
             "outlinewidth": 0,
             "ticks": ""
            },
            "colorscale": [
             [
              0,
              "#0d0887"
             ],
             [
              0.1111111111111111,
              "#46039f"
             ],
             [
              0.2222222222222222,
              "#7201a8"
             ],
             [
              0.3333333333333333,
              "#9c179e"
             ],
             [
              0.4444444444444444,
              "#bd3786"
             ],
             [
              0.5555555555555556,
              "#d8576b"
             ],
             [
              0.6666666666666666,
              "#ed7953"
             ],
             [
              0.7777777777777778,
              "#fb9f3a"
             ],
             [
              0.8888888888888888,
              "#fdca26"
             ],
             [
              1,
              "#f0f921"
             ]
            ],
            "type": "heatmap"
           }
          ],
          "heatmapgl": [
           {
            "colorbar": {
             "outlinewidth": 0,
             "ticks": ""
            },
            "colorscale": [
             [
              0,
              "#0d0887"
             ],
             [
              0.1111111111111111,
              "#46039f"
             ],
             [
              0.2222222222222222,
              "#7201a8"
             ],
             [
              0.3333333333333333,
              "#9c179e"
             ],
             [
              0.4444444444444444,
              "#bd3786"
             ],
             [
              0.5555555555555556,
              "#d8576b"
             ],
             [
              0.6666666666666666,
              "#ed7953"
             ],
             [
              0.7777777777777778,
              "#fb9f3a"
             ],
             [
              0.8888888888888888,
              "#fdca26"
             ],
             [
              1,
              "#f0f921"
             ]
            ],
            "type": "heatmapgl"
           }
          ],
          "histogram": [
           {
            "marker": {
             "pattern": {
              "fillmode": "overlay",
              "size": 10,
              "solidity": 0.2
             }
            },
            "type": "histogram"
           }
          ],
          "histogram2d": [
           {
            "colorbar": {
             "outlinewidth": 0,
             "ticks": ""
            },
            "colorscale": [
             [
              0,
              "#0d0887"
             ],
             [
              0.1111111111111111,
              "#46039f"
             ],
             [
              0.2222222222222222,
              "#7201a8"
             ],
             [
              0.3333333333333333,
              "#9c179e"
             ],
             [
              0.4444444444444444,
              "#bd3786"
             ],
             [
              0.5555555555555556,
              "#d8576b"
             ],
             [
              0.6666666666666666,
              "#ed7953"
             ],
             [
              0.7777777777777778,
              "#fb9f3a"
             ],
             [
              0.8888888888888888,
              "#fdca26"
             ],
             [
              1,
              "#f0f921"
             ]
            ],
            "type": "histogram2d"
           }
          ],
          "histogram2dcontour": [
           {
            "colorbar": {
             "outlinewidth": 0,
             "ticks": ""
            },
            "colorscale": [
             [
              0,
              "#0d0887"
             ],
             [
              0.1111111111111111,
              "#46039f"
             ],
             [
              0.2222222222222222,
              "#7201a8"
             ],
             [
              0.3333333333333333,
              "#9c179e"
             ],
             [
              0.4444444444444444,
              "#bd3786"
             ],
             [
              0.5555555555555556,
              "#d8576b"
             ],
             [
              0.6666666666666666,
              "#ed7953"
             ],
             [
              0.7777777777777778,
              "#fb9f3a"
             ],
             [
              0.8888888888888888,
              "#fdca26"
             ],
             [
              1,
              "#f0f921"
             ]
            ],
            "type": "histogram2dcontour"
           }
          ],
          "mesh3d": [
           {
            "colorbar": {
             "outlinewidth": 0,
             "ticks": ""
            },
            "type": "mesh3d"
           }
          ],
          "parcoords": [
           {
            "line": {
             "colorbar": {
              "outlinewidth": 0,
              "ticks": ""
             }
            },
            "type": "parcoords"
           }
          ],
          "pie": [
           {
            "automargin": true,
            "type": "pie"
           }
          ],
          "scatter": [
           {
            "fillpattern": {
             "fillmode": "overlay",
             "size": 10,
             "solidity": 0.2
            },
            "type": "scatter"
           }
          ],
          "scatter3d": [
           {
            "line": {
             "colorbar": {
              "outlinewidth": 0,
              "ticks": ""
             }
            },
            "marker": {
             "colorbar": {
              "outlinewidth": 0,
              "ticks": ""
             }
            },
            "type": "scatter3d"
           }
          ],
          "scattercarpet": [
           {
            "marker": {
             "colorbar": {
              "outlinewidth": 0,
              "ticks": ""
             }
            },
            "type": "scattercarpet"
           }
          ],
          "scattergeo": [
           {
            "marker": {
             "colorbar": {
              "outlinewidth": 0,
              "ticks": ""
             }
            },
            "type": "scattergeo"
           }
          ],
          "scattergl": [
           {
            "marker": {
             "colorbar": {
              "outlinewidth": 0,
              "ticks": ""
             }
            },
            "type": "scattergl"
           }
          ],
          "scattermapbox": [
           {
            "marker": {
             "colorbar": {
              "outlinewidth": 0,
              "ticks": ""
             }
            },
            "type": "scattermapbox"
           }
          ],
          "scatterpolar": [
           {
            "marker": {
             "colorbar": {
              "outlinewidth": 0,
              "ticks": ""
             }
            },
            "type": "scatterpolar"
           }
          ],
          "scatterpolargl": [
           {
            "marker": {
             "colorbar": {
              "outlinewidth": 0,
              "ticks": ""
             }
            },
            "type": "scatterpolargl"
           }
          ],
          "scatterternary": [
           {
            "marker": {
             "colorbar": {
              "outlinewidth": 0,
              "ticks": ""
             }
            },
            "type": "scatterternary"
           }
          ],
          "surface": [
           {
            "colorbar": {
             "outlinewidth": 0,
             "ticks": ""
            },
            "colorscale": [
             [
              0,
              "#0d0887"
             ],
             [
              0.1111111111111111,
              "#46039f"
             ],
             [
              0.2222222222222222,
              "#7201a8"
             ],
             [
              0.3333333333333333,
              "#9c179e"
             ],
             [
              0.4444444444444444,
              "#bd3786"
             ],
             [
              0.5555555555555556,
              "#d8576b"
             ],
             [
              0.6666666666666666,
              "#ed7953"
             ],
             [
              0.7777777777777778,
              "#fb9f3a"
             ],
             [
              0.8888888888888888,
              "#fdca26"
             ],
             [
              1,
              "#f0f921"
             ]
            ],
            "type": "surface"
           }
          ],
          "table": [
           {
            "cells": {
             "fill": {
              "color": "#EBF0F8"
             },
             "line": {
              "color": "white"
             }
            },
            "header": {
             "fill": {
              "color": "#C8D4E3"
             },
             "line": {
              "color": "white"
             }
            },
            "type": "table"
           }
          ]
         },
         "layout": {
          "annotationdefaults": {
           "arrowcolor": "#2a3f5f",
           "arrowhead": 0,
           "arrowwidth": 1
          },
          "autotypenumbers": "strict",
          "coloraxis": {
           "colorbar": {
            "outlinewidth": 0,
            "ticks": ""
           }
          },
          "colorscale": {
           "diverging": [
            [
             0,
             "#8e0152"
            ],
            [
             0.1,
             "#c51b7d"
            ],
            [
             0.2,
             "#de77ae"
            ],
            [
             0.3,
             "#f1b6da"
            ],
            [
             0.4,
             "#fde0ef"
            ],
            [
             0.5,
             "#f7f7f7"
            ],
            [
             0.6,
             "#e6f5d0"
            ],
            [
             0.7,
             "#b8e186"
            ],
            [
             0.8,
             "#7fbc41"
            ],
            [
             0.9,
             "#4d9221"
            ],
            [
             1,
             "#276419"
            ]
           ],
           "sequential": [
            [
             0,
             "#0d0887"
            ],
            [
             0.1111111111111111,
             "#46039f"
            ],
            [
             0.2222222222222222,
             "#7201a8"
            ],
            [
             0.3333333333333333,
             "#9c179e"
            ],
            [
             0.4444444444444444,
             "#bd3786"
            ],
            [
             0.5555555555555556,
             "#d8576b"
            ],
            [
             0.6666666666666666,
             "#ed7953"
            ],
            [
             0.7777777777777778,
             "#fb9f3a"
            ],
            [
             0.8888888888888888,
             "#fdca26"
            ],
            [
             1,
             "#f0f921"
            ]
           ],
           "sequentialminus": [
            [
             0,
             "#0d0887"
            ],
            [
             0.1111111111111111,
             "#46039f"
            ],
            [
             0.2222222222222222,
             "#7201a8"
            ],
            [
             0.3333333333333333,
             "#9c179e"
            ],
            [
             0.4444444444444444,
             "#bd3786"
            ],
            [
             0.5555555555555556,
             "#d8576b"
            ],
            [
             0.6666666666666666,
             "#ed7953"
            ],
            [
             0.7777777777777778,
             "#fb9f3a"
            ],
            [
             0.8888888888888888,
             "#fdca26"
            ],
            [
             1,
             "#f0f921"
            ]
           ]
          },
          "colorway": [
           "#636efa",
           "#EF553B",
           "#00cc96",
           "#ab63fa",
           "#FFA15A",
           "#19d3f3",
           "#FF6692",
           "#B6E880",
           "#FF97FF",
           "#FECB52"
          ],
          "font": {
           "color": "#2a3f5f"
          },
          "geo": {
           "bgcolor": "white",
           "lakecolor": "white",
           "landcolor": "#E5ECF6",
           "showlakes": true,
           "showland": true,
           "subunitcolor": "white"
          },
          "hoverlabel": {
           "align": "left"
          },
          "hovermode": "closest",
          "mapbox": {
           "style": "light"
          },
          "paper_bgcolor": "white",
          "plot_bgcolor": "#E5ECF6",
          "polar": {
           "angularaxis": {
            "gridcolor": "white",
            "linecolor": "white",
            "ticks": ""
           },
           "bgcolor": "#E5ECF6",
           "radialaxis": {
            "gridcolor": "white",
            "linecolor": "white",
            "ticks": ""
           }
          },
          "scene": {
           "xaxis": {
            "backgroundcolor": "#E5ECF6",
            "gridcolor": "white",
            "gridwidth": 2,
            "linecolor": "white",
            "showbackground": true,
            "ticks": "",
            "zerolinecolor": "white"
           },
           "yaxis": {
            "backgroundcolor": "#E5ECF6",
            "gridcolor": "white",
            "gridwidth": 2,
            "linecolor": "white",
            "showbackground": true,
            "ticks": "",
            "zerolinecolor": "white"
           },
           "zaxis": {
            "backgroundcolor": "#E5ECF6",
            "gridcolor": "white",
            "gridwidth": 2,
            "linecolor": "white",
            "showbackground": true,
            "ticks": "",
            "zerolinecolor": "white"
           }
          },
          "shapedefaults": {
           "line": {
            "color": "#2a3f5f"
           }
          },
          "ternary": {
           "aaxis": {
            "gridcolor": "white",
            "linecolor": "white",
            "ticks": ""
           },
           "baxis": {
            "gridcolor": "white",
            "linecolor": "white",
            "ticks": ""
           },
           "bgcolor": "#E5ECF6",
           "caxis": {
            "gridcolor": "white",
            "linecolor": "white",
            "ticks": ""
           }
          },
          "title": {
           "x": 0.05
          },
          "xaxis": {
           "automargin": true,
           "gridcolor": "white",
           "linecolor": "white",
           "ticks": "",
           "title": {
            "standoff": 15
           },
           "zerolinecolor": "white",
           "zerolinewidth": 2
          },
          "yaxis": {
           "automargin": true,
           "gridcolor": "white",
           "linecolor": "white",
           "ticks": "",
           "title": {
            "standoff": 15
           },
           "zerolinecolor": "white",
           "zerolinewidth": 2
          }
         }
        },
        "title": {
         "text": "Comparación y evolución de Abandono escolar para educación Primaria y Secundaria"
        },
        "xaxis": {
         "anchor": "y",
         "domain": [
          0,
          1
         ],
         "title": {
          "text": "Periodo"
         }
        },
        "yaxis": {
         "anchor": "x",
         "domain": [
          0,
          1
         ],
         "title": {
          "text": "Porcentaje"
         }
        }
       }
      }
     },
     "metadata": {},
     "output_type": "display_data"
    }
   ],
   "source": [
    "plotter_primaria_secundaria('Abandono escolar', data_escolar_subset)"
   ]
  },
  {
   "cell_type": "markdown",
   "metadata": {},
   "source": [
    "##### Comparativa de Reprobación"
   ]
  },
  {
   "cell_type": "code",
   "execution_count": 148,
   "metadata": {},
   "outputs": [
    {
     "data": {
      "application/vnd.plotly.v1+json": {
       "config": {
        "plotlyServerURL": "https://plot.ly"
       },
       "data": [
        {
         "hovertemplate": "Escolaridad=Educación primaria<br>Periodo=%{x}<br>Porcentaje=%{y}<extra></extra>",
         "legendgroup": "Educación primaria",
         "line": {
          "color": "#636efa",
          "dash": "solid"
         },
         "marker": {
          "symbol": "circle"
         },
         "mode": "lines",
         "name": "Educación primaria",
         "orientation": "v",
         "showlegend": true,
         "type": "scatter",
         "x": [
          "2019_2020",
          "2020_2021",
          "2021_2022"
         ],
         "xaxis": "x",
         "y": [
          0.22067163475757434,
          0.21576179371725068,
          0.21066062374152095
         ],
         "yaxis": "y"
        },
        {
         "hovertemplate": "Escolaridad=Educación secundaria<br>Periodo=%{x}<br>Porcentaje=%{y}<extra></extra>",
         "legendgroup": "Educación secundaria",
         "line": {
          "color": "#EF553B",
          "dash": "solid"
         },
         "marker": {
          "symbol": "circle"
         },
         "mode": "lines",
         "name": "Educación secundaria",
         "orientation": "v",
         "showlegend": true,
         "type": "scatter",
         "x": [
          "2019_2020",
          "2020_2021",
          "2021_2022"
         ],
         "xaxis": "x",
         "y": [
          2.5187890802685797,
          1.4560851617356207,
          0.8421274244059029
         ],
         "yaxis": "y"
        }
       ],
       "layout": {
        "legend": {
         "title": {
          "text": "Escolaridad"
         },
         "tracegroupgap": 0
        },
        "template": {
         "data": {
          "bar": [
           {
            "error_x": {
             "color": "#2a3f5f"
            },
            "error_y": {
             "color": "#2a3f5f"
            },
            "marker": {
             "line": {
              "color": "#E5ECF6",
              "width": 0.5
             },
             "pattern": {
              "fillmode": "overlay",
              "size": 10,
              "solidity": 0.2
             }
            },
            "type": "bar"
           }
          ],
          "barpolar": [
           {
            "marker": {
             "line": {
              "color": "#E5ECF6",
              "width": 0.5
             },
             "pattern": {
              "fillmode": "overlay",
              "size": 10,
              "solidity": 0.2
             }
            },
            "type": "barpolar"
           }
          ],
          "carpet": [
           {
            "aaxis": {
             "endlinecolor": "#2a3f5f",
             "gridcolor": "white",
             "linecolor": "white",
             "minorgridcolor": "white",
             "startlinecolor": "#2a3f5f"
            },
            "baxis": {
             "endlinecolor": "#2a3f5f",
             "gridcolor": "white",
             "linecolor": "white",
             "minorgridcolor": "white",
             "startlinecolor": "#2a3f5f"
            },
            "type": "carpet"
           }
          ],
          "choropleth": [
           {
            "colorbar": {
             "outlinewidth": 0,
             "ticks": ""
            },
            "type": "choropleth"
           }
          ],
          "contour": [
           {
            "colorbar": {
             "outlinewidth": 0,
             "ticks": ""
            },
            "colorscale": [
             [
              0,
              "#0d0887"
             ],
             [
              0.1111111111111111,
              "#46039f"
             ],
             [
              0.2222222222222222,
              "#7201a8"
             ],
             [
              0.3333333333333333,
              "#9c179e"
             ],
             [
              0.4444444444444444,
              "#bd3786"
             ],
             [
              0.5555555555555556,
              "#d8576b"
             ],
             [
              0.6666666666666666,
              "#ed7953"
             ],
             [
              0.7777777777777778,
              "#fb9f3a"
             ],
             [
              0.8888888888888888,
              "#fdca26"
             ],
             [
              1,
              "#f0f921"
             ]
            ],
            "type": "contour"
           }
          ],
          "contourcarpet": [
           {
            "colorbar": {
             "outlinewidth": 0,
             "ticks": ""
            },
            "type": "contourcarpet"
           }
          ],
          "heatmap": [
           {
            "colorbar": {
             "outlinewidth": 0,
             "ticks": ""
            },
            "colorscale": [
             [
              0,
              "#0d0887"
             ],
             [
              0.1111111111111111,
              "#46039f"
             ],
             [
              0.2222222222222222,
              "#7201a8"
             ],
             [
              0.3333333333333333,
              "#9c179e"
             ],
             [
              0.4444444444444444,
              "#bd3786"
             ],
             [
              0.5555555555555556,
              "#d8576b"
             ],
             [
              0.6666666666666666,
              "#ed7953"
             ],
             [
              0.7777777777777778,
              "#fb9f3a"
             ],
             [
              0.8888888888888888,
              "#fdca26"
             ],
             [
              1,
              "#f0f921"
             ]
            ],
            "type": "heatmap"
           }
          ],
          "heatmapgl": [
           {
            "colorbar": {
             "outlinewidth": 0,
             "ticks": ""
            },
            "colorscale": [
             [
              0,
              "#0d0887"
             ],
             [
              0.1111111111111111,
              "#46039f"
             ],
             [
              0.2222222222222222,
              "#7201a8"
             ],
             [
              0.3333333333333333,
              "#9c179e"
             ],
             [
              0.4444444444444444,
              "#bd3786"
             ],
             [
              0.5555555555555556,
              "#d8576b"
             ],
             [
              0.6666666666666666,
              "#ed7953"
             ],
             [
              0.7777777777777778,
              "#fb9f3a"
             ],
             [
              0.8888888888888888,
              "#fdca26"
             ],
             [
              1,
              "#f0f921"
             ]
            ],
            "type": "heatmapgl"
           }
          ],
          "histogram": [
           {
            "marker": {
             "pattern": {
              "fillmode": "overlay",
              "size": 10,
              "solidity": 0.2
             }
            },
            "type": "histogram"
           }
          ],
          "histogram2d": [
           {
            "colorbar": {
             "outlinewidth": 0,
             "ticks": ""
            },
            "colorscale": [
             [
              0,
              "#0d0887"
             ],
             [
              0.1111111111111111,
              "#46039f"
             ],
             [
              0.2222222222222222,
              "#7201a8"
             ],
             [
              0.3333333333333333,
              "#9c179e"
             ],
             [
              0.4444444444444444,
              "#bd3786"
             ],
             [
              0.5555555555555556,
              "#d8576b"
             ],
             [
              0.6666666666666666,
              "#ed7953"
             ],
             [
              0.7777777777777778,
              "#fb9f3a"
             ],
             [
              0.8888888888888888,
              "#fdca26"
             ],
             [
              1,
              "#f0f921"
             ]
            ],
            "type": "histogram2d"
           }
          ],
          "histogram2dcontour": [
           {
            "colorbar": {
             "outlinewidth": 0,
             "ticks": ""
            },
            "colorscale": [
             [
              0,
              "#0d0887"
             ],
             [
              0.1111111111111111,
              "#46039f"
             ],
             [
              0.2222222222222222,
              "#7201a8"
             ],
             [
              0.3333333333333333,
              "#9c179e"
             ],
             [
              0.4444444444444444,
              "#bd3786"
             ],
             [
              0.5555555555555556,
              "#d8576b"
             ],
             [
              0.6666666666666666,
              "#ed7953"
             ],
             [
              0.7777777777777778,
              "#fb9f3a"
             ],
             [
              0.8888888888888888,
              "#fdca26"
             ],
             [
              1,
              "#f0f921"
             ]
            ],
            "type": "histogram2dcontour"
           }
          ],
          "mesh3d": [
           {
            "colorbar": {
             "outlinewidth": 0,
             "ticks": ""
            },
            "type": "mesh3d"
           }
          ],
          "parcoords": [
           {
            "line": {
             "colorbar": {
              "outlinewidth": 0,
              "ticks": ""
             }
            },
            "type": "parcoords"
           }
          ],
          "pie": [
           {
            "automargin": true,
            "type": "pie"
           }
          ],
          "scatter": [
           {
            "fillpattern": {
             "fillmode": "overlay",
             "size": 10,
             "solidity": 0.2
            },
            "type": "scatter"
           }
          ],
          "scatter3d": [
           {
            "line": {
             "colorbar": {
              "outlinewidth": 0,
              "ticks": ""
             }
            },
            "marker": {
             "colorbar": {
              "outlinewidth": 0,
              "ticks": ""
             }
            },
            "type": "scatter3d"
           }
          ],
          "scattercarpet": [
           {
            "marker": {
             "colorbar": {
              "outlinewidth": 0,
              "ticks": ""
             }
            },
            "type": "scattercarpet"
           }
          ],
          "scattergeo": [
           {
            "marker": {
             "colorbar": {
              "outlinewidth": 0,
              "ticks": ""
             }
            },
            "type": "scattergeo"
           }
          ],
          "scattergl": [
           {
            "marker": {
             "colorbar": {
              "outlinewidth": 0,
              "ticks": ""
             }
            },
            "type": "scattergl"
           }
          ],
          "scattermapbox": [
           {
            "marker": {
             "colorbar": {
              "outlinewidth": 0,
              "ticks": ""
             }
            },
            "type": "scattermapbox"
           }
          ],
          "scatterpolar": [
           {
            "marker": {
             "colorbar": {
              "outlinewidth": 0,
              "ticks": ""
             }
            },
            "type": "scatterpolar"
           }
          ],
          "scatterpolargl": [
           {
            "marker": {
             "colorbar": {
              "outlinewidth": 0,
              "ticks": ""
             }
            },
            "type": "scatterpolargl"
           }
          ],
          "scatterternary": [
           {
            "marker": {
             "colorbar": {
              "outlinewidth": 0,
              "ticks": ""
             }
            },
            "type": "scatterternary"
           }
          ],
          "surface": [
           {
            "colorbar": {
             "outlinewidth": 0,
             "ticks": ""
            },
            "colorscale": [
             [
              0,
              "#0d0887"
             ],
             [
              0.1111111111111111,
              "#46039f"
             ],
             [
              0.2222222222222222,
              "#7201a8"
             ],
             [
              0.3333333333333333,
              "#9c179e"
             ],
             [
              0.4444444444444444,
              "#bd3786"
             ],
             [
              0.5555555555555556,
              "#d8576b"
             ],
             [
              0.6666666666666666,
              "#ed7953"
             ],
             [
              0.7777777777777778,
              "#fb9f3a"
             ],
             [
              0.8888888888888888,
              "#fdca26"
             ],
             [
              1,
              "#f0f921"
             ]
            ],
            "type": "surface"
           }
          ],
          "table": [
           {
            "cells": {
             "fill": {
              "color": "#EBF0F8"
             },
             "line": {
              "color": "white"
             }
            },
            "header": {
             "fill": {
              "color": "#C8D4E3"
             },
             "line": {
              "color": "white"
             }
            },
            "type": "table"
           }
          ]
         },
         "layout": {
          "annotationdefaults": {
           "arrowcolor": "#2a3f5f",
           "arrowhead": 0,
           "arrowwidth": 1
          },
          "autotypenumbers": "strict",
          "coloraxis": {
           "colorbar": {
            "outlinewidth": 0,
            "ticks": ""
           }
          },
          "colorscale": {
           "diverging": [
            [
             0,
             "#8e0152"
            ],
            [
             0.1,
             "#c51b7d"
            ],
            [
             0.2,
             "#de77ae"
            ],
            [
             0.3,
             "#f1b6da"
            ],
            [
             0.4,
             "#fde0ef"
            ],
            [
             0.5,
             "#f7f7f7"
            ],
            [
             0.6,
             "#e6f5d0"
            ],
            [
             0.7,
             "#b8e186"
            ],
            [
             0.8,
             "#7fbc41"
            ],
            [
             0.9,
             "#4d9221"
            ],
            [
             1,
             "#276419"
            ]
           ],
           "sequential": [
            [
             0,
             "#0d0887"
            ],
            [
             0.1111111111111111,
             "#46039f"
            ],
            [
             0.2222222222222222,
             "#7201a8"
            ],
            [
             0.3333333333333333,
             "#9c179e"
            ],
            [
             0.4444444444444444,
             "#bd3786"
            ],
            [
             0.5555555555555556,
             "#d8576b"
            ],
            [
             0.6666666666666666,
             "#ed7953"
            ],
            [
             0.7777777777777778,
             "#fb9f3a"
            ],
            [
             0.8888888888888888,
             "#fdca26"
            ],
            [
             1,
             "#f0f921"
            ]
           ],
           "sequentialminus": [
            [
             0,
             "#0d0887"
            ],
            [
             0.1111111111111111,
             "#46039f"
            ],
            [
             0.2222222222222222,
             "#7201a8"
            ],
            [
             0.3333333333333333,
             "#9c179e"
            ],
            [
             0.4444444444444444,
             "#bd3786"
            ],
            [
             0.5555555555555556,
             "#d8576b"
            ],
            [
             0.6666666666666666,
             "#ed7953"
            ],
            [
             0.7777777777777778,
             "#fb9f3a"
            ],
            [
             0.8888888888888888,
             "#fdca26"
            ],
            [
             1,
             "#f0f921"
            ]
           ]
          },
          "colorway": [
           "#636efa",
           "#EF553B",
           "#00cc96",
           "#ab63fa",
           "#FFA15A",
           "#19d3f3",
           "#FF6692",
           "#B6E880",
           "#FF97FF",
           "#FECB52"
          ],
          "font": {
           "color": "#2a3f5f"
          },
          "geo": {
           "bgcolor": "white",
           "lakecolor": "white",
           "landcolor": "#E5ECF6",
           "showlakes": true,
           "showland": true,
           "subunitcolor": "white"
          },
          "hoverlabel": {
           "align": "left"
          },
          "hovermode": "closest",
          "mapbox": {
           "style": "light"
          },
          "paper_bgcolor": "white",
          "plot_bgcolor": "#E5ECF6",
          "polar": {
           "angularaxis": {
            "gridcolor": "white",
            "linecolor": "white",
            "ticks": ""
           },
           "bgcolor": "#E5ECF6",
           "radialaxis": {
            "gridcolor": "white",
            "linecolor": "white",
            "ticks": ""
           }
          },
          "scene": {
           "xaxis": {
            "backgroundcolor": "#E5ECF6",
            "gridcolor": "white",
            "gridwidth": 2,
            "linecolor": "white",
            "showbackground": true,
            "ticks": "",
            "zerolinecolor": "white"
           },
           "yaxis": {
            "backgroundcolor": "#E5ECF6",
            "gridcolor": "white",
            "gridwidth": 2,
            "linecolor": "white",
            "showbackground": true,
            "ticks": "",
            "zerolinecolor": "white"
           },
           "zaxis": {
            "backgroundcolor": "#E5ECF6",
            "gridcolor": "white",
            "gridwidth": 2,
            "linecolor": "white",
            "showbackground": true,
            "ticks": "",
            "zerolinecolor": "white"
           }
          },
          "shapedefaults": {
           "line": {
            "color": "#2a3f5f"
           }
          },
          "ternary": {
           "aaxis": {
            "gridcolor": "white",
            "linecolor": "white",
            "ticks": ""
           },
           "baxis": {
            "gridcolor": "white",
            "linecolor": "white",
            "ticks": ""
           },
           "bgcolor": "#E5ECF6",
           "caxis": {
            "gridcolor": "white",
            "linecolor": "white",
            "ticks": ""
           }
          },
          "title": {
           "x": 0.05
          },
          "xaxis": {
           "automargin": true,
           "gridcolor": "white",
           "linecolor": "white",
           "ticks": "",
           "title": {
            "standoff": 15
           },
           "zerolinecolor": "white",
           "zerolinewidth": 2
          },
          "yaxis": {
           "automargin": true,
           "gridcolor": "white",
           "linecolor": "white",
           "ticks": "",
           "title": {
            "standoff": 15
           },
           "zerolinecolor": "white",
           "zerolinewidth": 2
          }
         }
        },
        "title": {
         "text": "Comparación y evolución de Reprobación para educación Primaria y Secundaria"
        },
        "xaxis": {
         "anchor": "y",
         "domain": [
          0,
          1
         ],
         "title": {
          "text": "Periodo"
         }
        },
        "yaxis": {
         "anchor": "x",
         "domain": [
          0,
          1
         ],
         "title": {
          "text": "Porcentaje"
         }
        }
       }
      }
     },
     "metadata": {},
     "output_type": "display_data"
    }
   ],
   "source": [
    "plotter_primaria_secundaria('Reprobación', data_escolar_subset)"
   ]
  },
  {
   "cell_type": "markdown",
   "metadata": {},
   "source": [
    "##### Comparativa de Tasa de Terminación"
   ]
  },
  {
   "cell_type": "code",
   "execution_count": 149,
   "metadata": {},
   "outputs": [
    {
     "data": {
      "application/vnd.plotly.v1+json": {
       "config": {
        "plotlyServerURL": "https://plot.ly"
       },
       "data": [
        {
         "hovertemplate": "Escolaridad=Educación primaria<br>Periodo=%{x}<br>Porcentaje=%{y}<extra></extra>",
         "legendgroup": "Educación primaria",
         "line": {
          "color": "#636efa",
          "dash": "solid"
         },
         "marker": {
          "symbol": "circle"
         },
         "mode": "lines",
         "name": "Educación primaria",
         "orientation": "v",
         "showlegend": true,
         "type": "scatter",
         "x": [
          "2019_2020",
          "2020_2021",
          "2021_2022"
         ],
         "xaxis": "x",
         "y": [
          96.82152048541319,
          96.13560215337124,
          95.0656653332327
         ],
         "yaxis": "y"
        },
        {
         "hovertemplate": "Escolaridad=Educación secundaria<br>Periodo=%{x}<br>Porcentaje=%{y}<extra></extra>",
         "legendgroup": "Educación secundaria",
         "line": {
          "color": "#EF553B",
          "dash": "solid"
         },
         "marker": {
          "symbol": "circle"
         },
         "mode": "lines",
         "name": "Educación secundaria",
         "orientation": "v",
         "showlegend": true,
         "type": "scatter",
         "x": [
          "2019_2020",
          "2020_2021",
          "2021_2022"
         ],
         "xaxis": "x",
         "y": [
          86.10612855007473,
          90.46170498656315,
          94.76429025384127
         ],
         "yaxis": "y"
        }
       ],
       "layout": {
        "legend": {
         "title": {
          "text": "Escolaridad"
         },
         "tracegroupgap": 0
        },
        "template": {
         "data": {
          "bar": [
           {
            "error_x": {
             "color": "#2a3f5f"
            },
            "error_y": {
             "color": "#2a3f5f"
            },
            "marker": {
             "line": {
              "color": "#E5ECF6",
              "width": 0.5
             },
             "pattern": {
              "fillmode": "overlay",
              "size": 10,
              "solidity": 0.2
             }
            },
            "type": "bar"
           }
          ],
          "barpolar": [
           {
            "marker": {
             "line": {
              "color": "#E5ECF6",
              "width": 0.5
             },
             "pattern": {
              "fillmode": "overlay",
              "size": 10,
              "solidity": 0.2
             }
            },
            "type": "barpolar"
           }
          ],
          "carpet": [
           {
            "aaxis": {
             "endlinecolor": "#2a3f5f",
             "gridcolor": "white",
             "linecolor": "white",
             "minorgridcolor": "white",
             "startlinecolor": "#2a3f5f"
            },
            "baxis": {
             "endlinecolor": "#2a3f5f",
             "gridcolor": "white",
             "linecolor": "white",
             "minorgridcolor": "white",
             "startlinecolor": "#2a3f5f"
            },
            "type": "carpet"
           }
          ],
          "choropleth": [
           {
            "colorbar": {
             "outlinewidth": 0,
             "ticks": ""
            },
            "type": "choropleth"
           }
          ],
          "contour": [
           {
            "colorbar": {
             "outlinewidth": 0,
             "ticks": ""
            },
            "colorscale": [
             [
              0,
              "#0d0887"
             ],
             [
              0.1111111111111111,
              "#46039f"
             ],
             [
              0.2222222222222222,
              "#7201a8"
             ],
             [
              0.3333333333333333,
              "#9c179e"
             ],
             [
              0.4444444444444444,
              "#bd3786"
             ],
             [
              0.5555555555555556,
              "#d8576b"
             ],
             [
              0.6666666666666666,
              "#ed7953"
             ],
             [
              0.7777777777777778,
              "#fb9f3a"
             ],
             [
              0.8888888888888888,
              "#fdca26"
             ],
             [
              1,
              "#f0f921"
             ]
            ],
            "type": "contour"
           }
          ],
          "contourcarpet": [
           {
            "colorbar": {
             "outlinewidth": 0,
             "ticks": ""
            },
            "type": "contourcarpet"
           }
          ],
          "heatmap": [
           {
            "colorbar": {
             "outlinewidth": 0,
             "ticks": ""
            },
            "colorscale": [
             [
              0,
              "#0d0887"
             ],
             [
              0.1111111111111111,
              "#46039f"
             ],
             [
              0.2222222222222222,
              "#7201a8"
             ],
             [
              0.3333333333333333,
              "#9c179e"
             ],
             [
              0.4444444444444444,
              "#bd3786"
             ],
             [
              0.5555555555555556,
              "#d8576b"
             ],
             [
              0.6666666666666666,
              "#ed7953"
             ],
             [
              0.7777777777777778,
              "#fb9f3a"
             ],
             [
              0.8888888888888888,
              "#fdca26"
             ],
             [
              1,
              "#f0f921"
             ]
            ],
            "type": "heatmap"
           }
          ],
          "heatmapgl": [
           {
            "colorbar": {
             "outlinewidth": 0,
             "ticks": ""
            },
            "colorscale": [
             [
              0,
              "#0d0887"
             ],
             [
              0.1111111111111111,
              "#46039f"
             ],
             [
              0.2222222222222222,
              "#7201a8"
             ],
             [
              0.3333333333333333,
              "#9c179e"
             ],
             [
              0.4444444444444444,
              "#bd3786"
             ],
             [
              0.5555555555555556,
              "#d8576b"
             ],
             [
              0.6666666666666666,
              "#ed7953"
             ],
             [
              0.7777777777777778,
              "#fb9f3a"
             ],
             [
              0.8888888888888888,
              "#fdca26"
             ],
             [
              1,
              "#f0f921"
             ]
            ],
            "type": "heatmapgl"
           }
          ],
          "histogram": [
           {
            "marker": {
             "pattern": {
              "fillmode": "overlay",
              "size": 10,
              "solidity": 0.2
             }
            },
            "type": "histogram"
           }
          ],
          "histogram2d": [
           {
            "colorbar": {
             "outlinewidth": 0,
             "ticks": ""
            },
            "colorscale": [
             [
              0,
              "#0d0887"
             ],
             [
              0.1111111111111111,
              "#46039f"
             ],
             [
              0.2222222222222222,
              "#7201a8"
             ],
             [
              0.3333333333333333,
              "#9c179e"
             ],
             [
              0.4444444444444444,
              "#bd3786"
             ],
             [
              0.5555555555555556,
              "#d8576b"
             ],
             [
              0.6666666666666666,
              "#ed7953"
             ],
             [
              0.7777777777777778,
              "#fb9f3a"
             ],
             [
              0.8888888888888888,
              "#fdca26"
             ],
             [
              1,
              "#f0f921"
             ]
            ],
            "type": "histogram2d"
           }
          ],
          "histogram2dcontour": [
           {
            "colorbar": {
             "outlinewidth": 0,
             "ticks": ""
            },
            "colorscale": [
             [
              0,
              "#0d0887"
             ],
             [
              0.1111111111111111,
              "#46039f"
             ],
             [
              0.2222222222222222,
              "#7201a8"
             ],
             [
              0.3333333333333333,
              "#9c179e"
             ],
             [
              0.4444444444444444,
              "#bd3786"
             ],
             [
              0.5555555555555556,
              "#d8576b"
             ],
             [
              0.6666666666666666,
              "#ed7953"
             ],
             [
              0.7777777777777778,
              "#fb9f3a"
             ],
             [
              0.8888888888888888,
              "#fdca26"
             ],
             [
              1,
              "#f0f921"
             ]
            ],
            "type": "histogram2dcontour"
           }
          ],
          "mesh3d": [
           {
            "colorbar": {
             "outlinewidth": 0,
             "ticks": ""
            },
            "type": "mesh3d"
           }
          ],
          "parcoords": [
           {
            "line": {
             "colorbar": {
              "outlinewidth": 0,
              "ticks": ""
             }
            },
            "type": "parcoords"
           }
          ],
          "pie": [
           {
            "automargin": true,
            "type": "pie"
           }
          ],
          "scatter": [
           {
            "fillpattern": {
             "fillmode": "overlay",
             "size": 10,
             "solidity": 0.2
            },
            "type": "scatter"
           }
          ],
          "scatter3d": [
           {
            "line": {
             "colorbar": {
              "outlinewidth": 0,
              "ticks": ""
             }
            },
            "marker": {
             "colorbar": {
              "outlinewidth": 0,
              "ticks": ""
             }
            },
            "type": "scatter3d"
           }
          ],
          "scattercarpet": [
           {
            "marker": {
             "colorbar": {
              "outlinewidth": 0,
              "ticks": ""
             }
            },
            "type": "scattercarpet"
           }
          ],
          "scattergeo": [
           {
            "marker": {
             "colorbar": {
              "outlinewidth": 0,
              "ticks": ""
             }
            },
            "type": "scattergeo"
           }
          ],
          "scattergl": [
           {
            "marker": {
             "colorbar": {
              "outlinewidth": 0,
              "ticks": ""
             }
            },
            "type": "scattergl"
           }
          ],
          "scattermapbox": [
           {
            "marker": {
             "colorbar": {
              "outlinewidth": 0,
              "ticks": ""
             }
            },
            "type": "scattermapbox"
           }
          ],
          "scatterpolar": [
           {
            "marker": {
             "colorbar": {
              "outlinewidth": 0,
              "ticks": ""
             }
            },
            "type": "scatterpolar"
           }
          ],
          "scatterpolargl": [
           {
            "marker": {
             "colorbar": {
              "outlinewidth": 0,
              "ticks": ""
             }
            },
            "type": "scatterpolargl"
           }
          ],
          "scatterternary": [
           {
            "marker": {
             "colorbar": {
              "outlinewidth": 0,
              "ticks": ""
             }
            },
            "type": "scatterternary"
           }
          ],
          "surface": [
           {
            "colorbar": {
             "outlinewidth": 0,
             "ticks": ""
            },
            "colorscale": [
             [
              0,
              "#0d0887"
             ],
             [
              0.1111111111111111,
              "#46039f"
             ],
             [
              0.2222222222222222,
              "#7201a8"
             ],
             [
              0.3333333333333333,
              "#9c179e"
             ],
             [
              0.4444444444444444,
              "#bd3786"
             ],
             [
              0.5555555555555556,
              "#d8576b"
             ],
             [
              0.6666666666666666,
              "#ed7953"
             ],
             [
              0.7777777777777778,
              "#fb9f3a"
             ],
             [
              0.8888888888888888,
              "#fdca26"
             ],
             [
              1,
              "#f0f921"
             ]
            ],
            "type": "surface"
           }
          ],
          "table": [
           {
            "cells": {
             "fill": {
              "color": "#EBF0F8"
             },
             "line": {
              "color": "white"
             }
            },
            "header": {
             "fill": {
              "color": "#C8D4E3"
             },
             "line": {
              "color": "white"
             }
            },
            "type": "table"
           }
          ]
         },
         "layout": {
          "annotationdefaults": {
           "arrowcolor": "#2a3f5f",
           "arrowhead": 0,
           "arrowwidth": 1
          },
          "autotypenumbers": "strict",
          "coloraxis": {
           "colorbar": {
            "outlinewidth": 0,
            "ticks": ""
           }
          },
          "colorscale": {
           "diverging": [
            [
             0,
             "#8e0152"
            ],
            [
             0.1,
             "#c51b7d"
            ],
            [
             0.2,
             "#de77ae"
            ],
            [
             0.3,
             "#f1b6da"
            ],
            [
             0.4,
             "#fde0ef"
            ],
            [
             0.5,
             "#f7f7f7"
            ],
            [
             0.6,
             "#e6f5d0"
            ],
            [
             0.7,
             "#b8e186"
            ],
            [
             0.8,
             "#7fbc41"
            ],
            [
             0.9,
             "#4d9221"
            ],
            [
             1,
             "#276419"
            ]
           ],
           "sequential": [
            [
             0,
             "#0d0887"
            ],
            [
             0.1111111111111111,
             "#46039f"
            ],
            [
             0.2222222222222222,
             "#7201a8"
            ],
            [
             0.3333333333333333,
             "#9c179e"
            ],
            [
             0.4444444444444444,
             "#bd3786"
            ],
            [
             0.5555555555555556,
             "#d8576b"
            ],
            [
             0.6666666666666666,
             "#ed7953"
            ],
            [
             0.7777777777777778,
             "#fb9f3a"
            ],
            [
             0.8888888888888888,
             "#fdca26"
            ],
            [
             1,
             "#f0f921"
            ]
           ],
           "sequentialminus": [
            [
             0,
             "#0d0887"
            ],
            [
             0.1111111111111111,
             "#46039f"
            ],
            [
             0.2222222222222222,
             "#7201a8"
            ],
            [
             0.3333333333333333,
             "#9c179e"
            ],
            [
             0.4444444444444444,
             "#bd3786"
            ],
            [
             0.5555555555555556,
             "#d8576b"
            ],
            [
             0.6666666666666666,
             "#ed7953"
            ],
            [
             0.7777777777777778,
             "#fb9f3a"
            ],
            [
             0.8888888888888888,
             "#fdca26"
            ],
            [
             1,
             "#f0f921"
            ]
           ]
          },
          "colorway": [
           "#636efa",
           "#EF553B",
           "#00cc96",
           "#ab63fa",
           "#FFA15A",
           "#19d3f3",
           "#FF6692",
           "#B6E880",
           "#FF97FF",
           "#FECB52"
          ],
          "font": {
           "color": "#2a3f5f"
          },
          "geo": {
           "bgcolor": "white",
           "lakecolor": "white",
           "landcolor": "#E5ECF6",
           "showlakes": true,
           "showland": true,
           "subunitcolor": "white"
          },
          "hoverlabel": {
           "align": "left"
          },
          "hovermode": "closest",
          "mapbox": {
           "style": "light"
          },
          "paper_bgcolor": "white",
          "plot_bgcolor": "#E5ECF6",
          "polar": {
           "angularaxis": {
            "gridcolor": "white",
            "linecolor": "white",
            "ticks": ""
           },
           "bgcolor": "#E5ECF6",
           "radialaxis": {
            "gridcolor": "white",
            "linecolor": "white",
            "ticks": ""
           }
          },
          "scene": {
           "xaxis": {
            "backgroundcolor": "#E5ECF6",
            "gridcolor": "white",
            "gridwidth": 2,
            "linecolor": "white",
            "showbackground": true,
            "ticks": "",
            "zerolinecolor": "white"
           },
           "yaxis": {
            "backgroundcolor": "#E5ECF6",
            "gridcolor": "white",
            "gridwidth": 2,
            "linecolor": "white",
            "showbackground": true,
            "ticks": "",
            "zerolinecolor": "white"
           },
           "zaxis": {
            "backgroundcolor": "#E5ECF6",
            "gridcolor": "white",
            "gridwidth": 2,
            "linecolor": "white",
            "showbackground": true,
            "ticks": "",
            "zerolinecolor": "white"
           }
          },
          "shapedefaults": {
           "line": {
            "color": "#2a3f5f"
           }
          },
          "ternary": {
           "aaxis": {
            "gridcolor": "white",
            "linecolor": "white",
            "ticks": ""
           },
           "baxis": {
            "gridcolor": "white",
            "linecolor": "white",
            "ticks": ""
           },
           "bgcolor": "#E5ECF6",
           "caxis": {
            "gridcolor": "white",
            "linecolor": "white",
            "ticks": ""
           }
          },
          "title": {
           "x": 0.05
          },
          "xaxis": {
           "automargin": true,
           "gridcolor": "white",
           "linecolor": "white",
           "ticks": "",
           "title": {
            "standoff": 15
           },
           "zerolinecolor": "white",
           "zerolinewidth": 2
          },
          "yaxis": {
           "automargin": true,
           "gridcolor": "white",
           "linecolor": "white",
           "ticks": "",
           "title": {
            "standoff": 15
           },
           "zerolinecolor": "white",
           "zerolinewidth": 2
          }
         }
        },
        "title": {
         "text": "Comparación y evolución de Tasa de terminación para educación Primaria y Secundaria"
        },
        "xaxis": {
         "anchor": "y",
         "domain": [
          0,
          1
         ],
         "title": {
          "text": "Periodo"
         }
        },
        "yaxis": {
         "anchor": "x",
         "domain": [
          0,
          1
         ],
         "title": {
          "text": "Porcentaje"
         }
        }
       }
      }
     },
     "metadata": {},
     "output_type": "display_data"
    }
   ],
   "source": [
    "plotter_primaria_secundaria('Tasa de terminación', data_escolar_subset)"
   ]
  },
  {
   "cell_type": "markdown",
   "metadata": {},
   "source": [
    "##### Comparativa de eficiencia terminal"
   ]
  },
  {
   "cell_type": "code",
   "execution_count": 150,
   "metadata": {},
   "outputs": [
    {
     "data": {
      "application/vnd.plotly.v1+json": {
       "config": {
        "plotlyServerURL": "https://plot.ly"
       },
       "data": [
        {
         "hovertemplate": "Escolaridad=Educación primaria<br>Periodo=%{x}<br>Porcentaje=%{y}<extra></extra>",
         "legendgroup": "Educación primaria",
         "line": {
          "color": "#636efa",
          "dash": "solid"
         },
         "marker": {
          "symbol": "circle"
         },
         "mode": "lines",
         "name": "Educación primaria",
         "orientation": "v",
         "showlegend": true,
         "type": "scatter",
         "x": [
          "2019_2020",
          "2020_2021",
          "2021_2022"
         ],
         "xaxis": "x",
         "y": [
          96.49884855179644,
          97.35979259598155,
          97.64516629196062
         ],
         "yaxis": "y"
        },
        {
         "hovertemplate": "Escolaridad=Educación secundaria<br>Periodo=%{x}<br>Porcentaje=%{y}<extra></extra>",
         "legendgroup": "Educación secundaria",
         "line": {
          "color": "#EF553B",
          "dash": "solid"
         },
         "marker": {
          "symbol": "circle"
         },
         "mode": "lines",
         "name": "Educación secundaria",
         "orientation": "v",
         "showlegend": true,
         "type": "scatter",
         "x": [
          "2019_2020",
          "2020_2021",
          "2021_2022"
         ],
         "xaxis": "x",
         "y": [
          90.05178309721543,
          95.16265190333156,
          97.67078950410357
         ],
         "yaxis": "y"
        }
       ],
       "layout": {
        "legend": {
         "title": {
          "text": "Escolaridad"
         },
         "tracegroupgap": 0
        },
        "template": {
         "data": {
          "bar": [
           {
            "error_x": {
             "color": "#2a3f5f"
            },
            "error_y": {
             "color": "#2a3f5f"
            },
            "marker": {
             "line": {
              "color": "#E5ECF6",
              "width": 0.5
             },
             "pattern": {
              "fillmode": "overlay",
              "size": 10,
              "solidity": 0.2
             }
            },
            "type": "bar"
           }
          ],
          "barpolar": [
           {
            "marker": {
             "line": {
              "color": "#E5ECF6",
              "width": 0.5
             },
             "pattern": {
              "fillmode": "overlay",
              "size": 10,
              "solidity": 0.2
             }
            },
            "type": "barpolar"
           }
          ],
          "carpet": [
           {
            "aaxis": {
             "endlinecolor": "#2a3f5f",
             "gridcolor": "white",
             "linecolor": "white",
             "minorgridcolor": "white",
             "startlinecolor": "#2a3f5f"
            },
            "baxis": {
             "endlinecolor": "#2a3f5f",
             "gridcolor": "white",
             "linecolor": "white",
             "minorgridcolor": "white",
             "startlinecolor": "#2a3f5f"
            },
            "type": "carpet"
           }
          ],
          "choropleth": [
           {
            "colorbar": {
             "outlinewidth": 0,
             "ticks": ""
            },
            "type": "choropleth"
           }
          ],
          "contour": [
           {
            "colorbar": {
             "outlinewidth": 0,
             "ticks": ""
            },
            "colorscale": [
             [
              0,
              "#0d0887"
             ],
             [
              0.1111111111111111,
              "#46039f"
             ],
             [
              0.2222222222222222,
              "#7201a8"
             ],
             [
              0.3333333333333333,
              "#9c179e"
             ],
             [
              0.4444444444444444,
              "#bd3786"
             ],
             [
              0.5555555555555556,
              "#d8576b"
             ],
             [
              0.6666666666666666,
              "#ed7953"
             ],
             [
              0.7777777777777778,
              "#fb9f3a"
             ],
             [
              0.8888888888888888,
              "#fdca26"
             ],
             [
              1,
              "#f0f921"
             ]
            ],
            "type": "contour"
           }
          ],
          "contourcarpet": [
           {
            "colorbar": {
             "outlinewidth": 0,
             "ticks": ""
            },
            "type": "contourcarpet"
           }
          ],
          "heatmap": [
           {
            "colorbar": {
             "outlinewidth": 0,
             "ticks": ""
            },
            "colorscale": [
             [
              0,
              "#0d0887"
             ],
             [
              0.1111111111111111,
              "#46039f"
             ],
             [
              0.2222222222222222,
              "#7201a8"
             ],
             [
              0.3333333333333333,
              "#9c179e"
             ],
             [
              0.4444444444444444,
              "#bd3786"
             ],
             [
              0.5555555555555556,
              "#d8576b"
             ],
             [
              0.6666666666666666,
              "#ed7953"
             ],
             [
              0.7777777777777778,
              "#fb9f3a"
             ],
             [
              0.8888888888888888,
              "#fdca26"
             ],
             [
              1,
              "#f0f921"
             ]
            ],
            "type": "heatmap"
           }
          ],
          "heatmapgl": [
           {
            "colorbar": {
             "outlinewidth": 0,
             "ticks": ""
            },
            "colorscale": [
             [
              0,
              "#0d0887"
             ],
             [
              0.1111111111111111,
              "#46039f"
             ],
             [
              0.2222222222222222,
              "#7201a8"
             ],
             [
              0.3333333333333333,
              "#9c179e"
             ],
             [
              0.4444444444444444,
              "#bd3786"
             ],
             [
              0.5555555555555556,
              "#d8576b"
             ],
             [
              0.6666666666666666,
              "#ed7953"
             ],
             [
              0.7777777777777778,
              "#fb9f3a"
             ],
             [
              0.8888888888888888,
              "#fdca26"
             ],
             [
              1,
              "#f0f921"
             ]
            ],
            "type": "heatmapgl"
           }
          ],
          "histogram": [
           {
            "marker": {
             "pattern": {
              "fillmode": "overlay",
              "size": 10,
              "solidity": 0.2
             }
            },
            "type": "histogram"
           }
          ],
          "histogram2d": [
           {
            "colorbar": {
             "outlinewidth": 0,
             "ticks": ""
            },
            "colorscale": [
             [
              0,
              "#0d0887"
             ],
             [
              0.1111111111111111,
              "#46039f"
             ],
             [
              0.2222222222222222,
              "#7201a8"
             ],
             [
              0.3333333333333333,
              "#9c179e"
             ],
             [
              0.4444444444444444,
              "#bd3786"
             ],
             [
              0.5555555555555556,
              "#d8576b"
             ],
             [
              0.6666666666666666,
              "#ed7953"
             ],
             [
              0.7777777777777778,
              "#fb9f3a"
             ],
             [
              0.8888888888888888,
              "#fdca26"
             ],
             [
              1,
              "#f0f921"
             ]
            ],
            "type": "histogram2d"
           }
          ],
          "histogram2dcontour": [
           {
            "colorbar": {
             "outlinewidth": 0,
             "ticks": ""
            },
            "colorscale": [
             [
              0,
              "#0d0887"
             ],
             [
              0.1111111111111111,
              "#46039f"
             ],
             [
              0.2222222222222222,
              "#7201a8"
             ],
             [
              0.3333333333333333,
              "#9c179e"
             ],
             [
              0.4444444444444444,
              "#bd3786"
             ],
             [
              0.5555555555555556,
              "#d8576b"
             ],
             [
              0.6666666666666666,
              "#ed7953"
             ],
             [
              0.7777777777777778,
              "#fb9f3a"
             ],
             [
              0.8888888888888888,
              "#fdca26"
             ],
             [
              1,
              "#f0f921"
             ]
            ],
            "type": "histogram2dcontour"
           }
          ],
          "mesh3d": [
           {
            "colorbar": {
             "outlinewidth": 0,
             "ticks": ""
            },
            "type": "mesh3d"
           }
          ],
          "parcoords": [
           {
            "line": {
             "colorbar": {
              "outlinewidth": 0,
              "ticks": ""
             }
            },
            "type": "parcoords"
           }
          ],
          "pie": [
           {
            "automargin": true,
            "type": "pie"
           }
          ],
          "scatter": [
           {
            "fillpattern": {
             "fillmode": "overlay",
             "size": 10,
             "solidity": 0.2
            },
            "type": "scatter"
           }
          ],
          "scatter3d": [
           {
            "line": {
             "colorbar": {
              "outlinewidth": 0,
              "ticks": ""
             }
            },
            "marker": {
             "colorbar": {
              "outlinewidth": 0,
              "ticks": ""
             }
            },
            "type": "scatter3d"
           }
          ],
          "scattercarpet": [
           {
            "marker": {
             "colorbar": {
              "outlinewidth": 0,
              "ticks": ""
             }
            },
            "type": "scattercarpet"
           }
          ],
          "scattergeo": [
           {
            "marker": {
             "colorbar": {
              "outlinewidth": 0,
              "ticks": ""
             }
            },
            "type": "scattergeo"
           }
          ],
          "scattergl": [
           {
            "marker": {
             "colorbar": {
              "outlinewidth": 0,
              "ticks": ""
             }
            },
            "type": "scattergl"
           }
          ],
          "scattermapbox": [
           {
            "marker": {
             "colorbar": {
              "outlinewidth": 0,
              "ticks": ""
             }
            },
            "type": "scattermapbox"
           }
          ],
          "scatterpolar": [
           {
            "marker": {
             "colorbar": {
              "outlinewidth": 0,
              "ticks": ""
             }
            },
            "type": "scatterpolar"
           }
          ],
          "scatterpolargl": [
           {
            "marker": {
             "colorbar": {
              "outlinewidth": 0,
              "ticks": ""
             }
            },
            "type": "scatterpolargl"
           }
          ],
          "scatterternary": [
           {
            "marker": {
             "colorbar": {
              "outlinewidth": 0,
              "ticks": ""
             }
            },
            "type": "scatterternary"
           }
          ],
          "surface": [
           {
            "colorbar": {
             "outlinewidth": 0,
             "ticks": ""
            },
            "colorscale": [
             [
              0,
              "#0d0887"
             ],
             [
              0.1111111111111111,
              "#46039f"
             ],
             [
              0.2222222222222222,
              "#7201a8"
             ],
             [
              0.3333333333333333,
              "#9c179e"
             ],
             [
              0.4444444444444444,
              "#bd3786"
             ],
             [
              0.5555555555555556,
              "#d8576b"
             ],
             [
              0.6666666666666666,
              "#ed7953"
             ],
             [
              0.7777777777777778,
              "#fb9f3a"
             ],
             [
              0.8888888888888888,
              "#fdca26"
             ],
             [
              1,
              "#f0f921"
             ]
            ],
            "type": "surface"
           }
          ],
          "table": [
           {
            "cells": {
             "fill": {
              "color": "#EBF0F8"
             },
             "line": {
              "color": "white"
             }
            },
            "header": {
             "fill": {
              "color": "#C8D4E3"
             },
             "line": {
              "color": "white"
             }
            },
            "type": "table"
           }
          ]
         },
         "layout": {
          "annotationdefaults": {
           "arrowcolor": "#2a3f5f",
           "arrowhead": 0,
           "arrowwidth": 1
          },
          "autotypenumbers": "strict",
          "coloraxis": {
           "colorbar": {
            "outlinewidth": 0,
            "ticks": ""
           }
          },
          "colorscale": {
           "diverging": [
            [
             0,
             "#8e0152"
            ],
            [
             0.1,
             "#c51b7d"
            ],
            [
             0.2,
             "#de77ae"
            ],
            [
             0.3,
             "#f1b6da"
            ],
            [
             0.4,
             "#fde0ef"
            ],
            [
             0.5,
             "#f7f7f7"
            ],
            [
             0.6,
             "#e6f5d0"
            ],
            [
             0.7,
             "#b8e186"
            ],
            [
             0.8,
             "#7fbc41"
            ],
            [
             0.9,
             "#4d9221"
            ],
            [
             1,
             "#276419"
            ]
           ],
           "sequential": [
            [
             0,
             "#0d0887"
            ],
            [
             0.1111111111111111,
             "#46039f"
            ],
            [
             0.2222222222222222,
             "#7201a8"
            ],
            [
             0.3333333333333333,
             "#9c179e"
            ],
            [
             0.4444444444444444,
             "#bd3786"
            ],
            [
             0.5555555555555556,
             "#d8576b"
            ],
            [
             0.6666666666666666,
             "#ed7953"
            ],
            [
             0.7777777777777778,
             "#fb9f3a"
            ],
            [
             0.8888888888888888,
             "#fdca26"
            ],
            [
             1,
             "#f0f921"
            ]
           ],
           "sequentialminus": [
            [
             0,
             "#0d0887"
            ],
            [
             0.1111111111111111,
             "#46039f"
            ],
            [
             0.2222222222222222,
             "#7201a8"
            ],
            [
             0.3333333333333333,
             "#9c179e"
            ],
            [
             0.4444444444444444,
             "#bd3786"
            ],
            [
             0.5555555555555556,
             "#d8576b"
            ],
            [
             0.6666666666666666,
             "#ed7953"
            ],
            [
             0.7777777777777778,
             "#fb9f3a"
            ],
            [
             0.8888888888888888,
             "#fdca26"
            ],
            [
             1,
             "#f0f921"
            ]
           ]
          },
          "colorway": [
           "#636efa",
           "#EF553B",
           "#00cc96",
           "#ab63fa",
           "#FFA15A",
           "#19d3f3",
           "#FF6692",
           "#B6E880",
           "#FF97FF",
           "#FECB52"
          ],
          "font": {
           "color": "#2a3f5f"
          },
          "geo": {
           "bgcolor": "white",
           "lakecolor": "white",
           "landcolor": "#E5ECF6",
           "showlakes": true,
           "showland": true,
           "subunitcolor": "white"
          },
          "hoverlabel": {
           "align": "left"
          },
          "hovermode": "closest",
          "mapbox": {
           "style": "light"
          },
          "paper_bgcolor": "white",
          "plot_bgcolor": "#E5ECF6",
          "polar": {
           "angularaxis": {
            "gridcolor": "white",
            "linecolor": "white",
            "ticks": ""
           },
           "bgcolor": "#E5ECF6",
           "radialaxis": {
            "gridcolor": "white",
            "linecolor": "white",
            "ticks": ""
           }
          },
          "scene": {
           "xaxis": {
            "backgroundcolor": "#E5ECF6",
            "gridcolor": "white",
            "gridwidth": 2,
            "linecolor": "white",
            "showbackground": true,
            "ticks": "",
            "zerolinecolor": "white"
           },
           "yaxis": {
            "backgroundcolor": "#E5ECF6",
            "gridcolor": "white",
            "gridwidth": 2,
            "linecolor": "white",
            "showbackground": true,
            "ticks": "",
            "zerolinecolor": "white"
           },
           "zaxis": {
            "backgroundcolor": "#E5ECF6",
            "gridcolor": "white",
            "gridwidth": 2,
            "linecolor": "white",
            "showbackground": true,
            "ticks": "",
            "zerolinecolor": "white"
           }
          },
          "shapedefaults": {
           "line": {
            "color": "#2a3f5f"
           }
          },
          "ternary": {
           "aaxis": {
            "gridcolor": "white",
            "linecolor": "white",
            "ticks": ""
           },
           "baxis": {
            "gridcolor": "white",
            "linecolor": "white",
            "ticks": ""
           },
           "bgcolor": "#E5ECF6",
           "caxis": {
            "gridcolor": "white",
            "linecolor": "white",
            "ticks": ""
           }
          },
          "title": {
           "x": 0.05
          },
          "xaxis": {
           "automargin": true,
           "gridcolor": "white",
           "linecolor": "white",
           "ticks": "",
           "title": {
            "standoff": 15
           },
           "zerolinecolor": "white",
           "zerolinewidth": 2
          },
          "yaxis": {
           "automargin": true,
           "gridcolor": "white",
           "linecolor": "white",
           "ticks": "",
           "title": {
            "standoff": 15
           },
           "zerolinecolor": "white",
           "zerolinewidth": 2
          }
         }
        },
        "title": {
         "text": "Comparación y evolución de Eficiencia terminal para educación Primaria y Secundaria"
        },
        "xaxis": {
         "anchor": "y",
         "domain": [
          0,
          1
         ],
         "title": {
          "text": "Periodo"
         }
        },
        "yaxis": {
         "anchor": "x",
         "domain": [
          0,
          1
         ],
         "title": {
          "text": "Porcentaje"
         }
        }
       }
      }
     },
     "metadata": {},
     "output_type": "display_data"
    }
   ],
   "source": [
    "plotter_primaria_secundaria('Eficiencia terminal', data_escolar_subset)\n"
   ]
  },
  {
   "cell_type": "markdown",
   "metadata": {},
   "source": [
    "#### Comparativas de todos los niveles escolares"
   ]
  },
  {
   "cell_type": "markdown",
   "metadata": {},
   "source": [
    "##### Comparativa de Tasa neta de escolarización"
   ]
  },
  {
   "cell_type": "code",
   "execution_count": 160,
   "metadata": {},
   "outputs": [
    {
     "data": {
      "application/vnd.plotly.v1+json": {
       "config": {
        "plotlyServerURL": "https://plot.ly"
       },
       "data": [
        {
         "hovertemplate": "Escolaridad=Educación básica<br>Periodo=%{x}<br>Porcentaje=%{y}<extra></extra>",
         "legendgroup": "Educación básica",
         "line": {
          "color": "#636efa",
          "dash": "solid"
         },
         "marker": {
          "symbol": "circle"
         },
         "mode": "lines",
         "name": "Educación básica",
         "orientation": "v",
         "showlegend": true,
         "type": "scatter",
         "x": [
          "2019_2020",
          "2020_2021",
          "2021_2022"
         ],
         "xaxis": "x",
         "y": [
          87.4771622873238,
          85.80063260410348,
          85.77716335973022
         ],
         "yaxis": "y"
        },
        {
         "hovertemplate": "Escolaridad=Educación preescolar<br>Periodo=%{x}<br>Porcentaje=%{y}<extra></extra>",
         "legendgroup": "Educación preescolar",
         "line": {
          "color": "#EF553B",
          "dash": "solid"
         },
         "marker": {
          "symbol": "circle"
         },
         "mode": "lines",
         "name": "Educación preescolar",
         "orientation": "v",
         "showlegend": true,
         "type": "scatter",
         "x": [
          "2019_2020",
          "2020_2021",
          "2021_2022"
         ],
         "xaxis": "x",
         "y": [
          62.80638719975185,
          56.37571206966224,
          56.839821146764855
         ],
         "yaxis": "y"
        },
        {
         "hovertemplate": "Escolaridad=Educación primaria<br>Periodo=%{x}<br>Porcentaje=%{y}<extra></extra>",
         "legendgroup": "Educación primaria",
         "line": {
          "color": "#00cc96",
          "dash": "solid"
         },
         "marker": {
          "symbol": "circle"
         },
         "mode": "lines",
         "name": "Educación primaria",
         "orientation": "v",
         "showlegend": true,
         "type": "scatter",
         "x": [
          "2019_2020",
          "2020_2021",
          "2021_2022"
         ],
         "xaxis": "x",
         "y": [
          92.03833967046894,
          91.17555525916329,
          90.48295183216071
         ],
         "yaxis": "y"
        },
        {
         "hovertemplate": "Escolaridad=Educación secundaria<br>Periodo=%{x}<br>Porcentaje=%{y}<extra></extra>",
         "legendgroup": "Educación secundaria",
         "line": {
          "color": "#ab63fa",
          "dash": "solid"
         },
         "marker": {
          "symbol": "circle"
         },
         "mode": "lines",
         "name": "Educación secundaria",
         "orientation": "v",
         "showlegend": true,
         "type": "scatter",
         "x": [
          "2019_2020",
          "2020_2021",
          "2021_2022"
         ],
         "xaxis": "x",
         "y": [
          83.83035039859166,
          85.27768916577534,
          85.92608845563113
         ],
         "yaxis": "y"
        }
       ],
       "layout": {
        "legend": {
         "title": {
          "text": "Escolaridad"
         },
         "tracegroupgap": 0
        },
        "template": {
         "data": {
          "bar": [
           {
            "error_x": {
             "color": "#2a3f5f"
            },
            "error_y": {
             "color": "#2a3f5f"
            },
            "marker": {
             "line": {
              "color": "#E5ECF6",
              "width": 0.5
             },
             "pattern": {
              "fillmode": "overlay",
              "size": 10,
              "solidity": 0.2
             }
            },
            "type": "bar"
           }
          ],
          "barpolar": [
           {
            "marker": {
             "line": {
              "color": "#E5ECF6",
              "width": 0.5
             },
             "pattern": {
              "fillmode": "overlay",
              "size": 10,
              "solidity": 0.2
             }
            },
            "type": "barpolar"
           }
          ],
          "carpet": [
           {
            "aaxis": {
             "endlinecolor": "#2a3f5f",
             "gridcolor": "white",
             "linecolor": "white",
             "minorgridcolor": "white",
             "startlinecolor": "#2a3f5f"
            },
            "baxis": {
             "endlinecolor": "#2a3f5f",
             "gridcolor": "white",
             "linecolor": "white",
             "minorgridcolor": "white",
             "startlinecolor": "#2a3f5f"
            },
            "type": "carpet"
           }
          ],
          "choropleth": [
           {
            "colorbar": {
             "outlinewidth": 0,
             "ticks": ""
            },
            "type": "choropleth"
           }
          ],
          "contour": [
           {
            "colorbar": {
             "outlinewidth": 0,
             "ticks": ""
            },
            "colorscale": [
             [
              0,
              "#0d0887"
             ],
             [
              0.1111111111111111,
              "#46039f"
             ],
             [
              0.2222222222222222,
              "#7201a8"
             ],
             [
              0.3333333333333333,
              "#9c179e"
             ],
             [
              0.4444444444444444,
              "#bd3786"
             ],
             [
              0.5555555555555556,
              "#d8576b"
             ],
             [
              0.6666666666666666,
              "#ed7953"
             ],
             [
              0.7777777777777778,
              "#fb9f3a"
             ],
             [
              0.8888888888888888,
              "#fdca26"
             ],
             [
              1,
              "#f0f921"
             ]
            ],
            "type": "contour"
           }
          ],
          "contourcarpet": [
           {
            "colorbar": {
             "outlinewidth": 0,
             "ticks": ""
            },
            "type": "contourcarpet"
           }
          ],
          "heatmap": [
           {
            "colorbar": {
             "outlinewidth": 0,
             "ticks": ""
            },
            "colorscale": [
             [
              0,
              "#0d0887"
             ],
             [
              0.1111111111111111,
              "#46039f"
             ],
             [
              0.2222222222222222,
              "#7201a8"
             ],
             [
              0.3333333333333333,
              "#9c179e"
             ],
             [
              0.4444444444444444,
              "#bd3786"
             ],
             [
              0.5555555555555556,
              "#d8576b"
             ],
             [
              0.6666666666666666,
              "#ed7953"
             ],
             [
              0.7777777777777778,
              "#fb9f3a"
             ],
             [
              0.8888888888888888,
              "#fdca26"
             ],
             [
              1,
              "#f0f921"
             ]
            ],
            "type": "heatmap"
           }
          ],
          "heatmapgl": [
           {
            "colorbar": {
             "outlinewidth": 0,
             "ticks": ""
            },
            "colorscale": [
             [
              0,
              "#0d0887"
             ],
             [
              0.1111111111111111,
              "#46039f"
             ],
             [
              0.2222222222222222,
              "#7201a8"
             ],
             [
              0.3333333333333333,
              "#9c179e"
             ],
             [
              0.4444444444444444,
              "#bd3786"
             ],
             [
              0.5555555555555556,
              "#d8576b"
             ],
             [
              0.6666666666666666,
              "#ed7953"
             ],
             [
              0.7777777777777778,
              "#fb9f3a"
             ],
             [
              0.8888888888888888,
              "#fdca26"
             ],
             [
              1,
              "#f0f921"
             ]
            ],
            "type": "heatmapgl"
           }
          ],
          "histogram": [
           {
            "marker": {
             "pattern": {
              "fillmode": "overlay",
              "size": 10,
              "solidity": 0.2
             }
            },
            "type": "histogram"
           }
          ],
          "histogram2d": [
           {
            "colorbar": {
             "outlinewidth": 0,
             "ticks": ""
            },
            "colorscale": [
             [
              0,
              "#0d0887"
             ],
             [
              0.1111111111111111,
              "#46039f"
             ],
             [
              0.2222222222222222,
              "#7201a8"
             ],
             [
              0.3333333333333333,
              "#9c179e"
             ],
             [
              0.4444444444444444,
              "#bd3786"
             ],
             [
              0.5555555555555556,
              "#d8576b"
             ],
             [
              0.6666666666666666,
              "#ed7953"
             ],
             [
              0.7777777777777778,
              "#fb9f3a"
             ],
             [
              0.8888888888888888,
              "#fdca26"
             ],
             [
              1,
              "#f0f921"
             ]
            ],
            "type": "histogram2d"
           }
          ],
          "histogram2dcontour": [
           {
            "colorbar": {
             "outlinewidth": 0,
             "ticks": ""
            },
            "colorscale": [
             [
              0,
              "#0d0887"
             ],
             [
              0.1111111111111111,
              "#46039f"
             ],
             [
              0.2222222222222222,
              "#7201a8"
             ],
             [
              0.3333333333333333,
              "#9c179e"
             ],
             [
              0.4444444444444444,
              "#bd3786"
             ],
             [
              0.5555555555555556,
              "#d8576b"
             ],
             [
              0.6666666666666666,
              "#ed7953"
             ],
             [
              0.7777777777777778,
              "#fb9f3a"
             ],
             [
              0.8888888888888888,
              "#fdca26"
             ],
             [
              1,
              "#f0f921"
             ]
            ],
            "type": "histogram2dcontour"
           }
          ],
          "mesh3d": [
           {
            "colorbar": {
             "outlinewidth": 0,
             "ticks": ""
            },
            "type": "mesh3d"
           }
          ],
          "parcoords": [
           {
            "line": {
             "colorbar": {
              "outlinewidth": 0,
              "ticks": ""
             }
            },
            "type": "parcoords"
           }
          ],
          "pie": [
           {
            "automargin": true,
            "type": "pie"
           }
          ],
          "scatter": [
           {
            "fillpattern": {
             "fillmode": "overlay",
             "size": 10,
             "solidity": 0.2
            },
            "type": "scatter"
           }
          ],
          "scatter3d": [
           {
            "line": {
             "colorbar": {
              "outlinewidth": 0,
              "ticks": ""
             }
            },
            "marker": {
             "colorbar": {
              "outlinewidth": 0,
              "ticks": ""
             }
            },
            "type": "scatter3d"
           }
          ],
          "scattercarpet": [
           {
            "marker": {
             "colorbar": {
              "outlinewidth": 0,
              "ticks": ""
             }
            },
            "type": "scattercarpet"
           }
          ],
          "scattergeo": [
           {
            "marker": {
             "colorbar": {
              "outlinewidth": 0,
              "ticks": ""
             }
            },
            "type": "scattergeo"
           }
          ],
          "scattergl": [
           {
            "marker": {
             "colorbar": {
              "outlinewidth": 0,
              "ticks": ""
             }
            },
            "type": "scattergl"
           }
          ],
          "scattermapbox": [
           {
            "marker": {
             "colorbar": {
              "outlinewidth": 0,
              "ticks": ""
             }
            },
            "type": "scattermapbox"
           }
          ],
          "scatterpolar": [
           {
            "marker": {
             "colorbar": {
              "outlinewidth": 0,
              "ticks": ""
             }
            },
            "type": "scatterpolar"
           }
          ],
          "scatterpolargl": [
           {
            "marker": {
             "colorbar": {
              "outlinewidth": 0,
              "ticks": ""
             }
            },
            "type": "scatterpolargl"
           }
          ],
          "scatterternary": [
           {
            "marker": {
             "colorbar": {
              "outlinewidth": 0,
              "ticks": ""
             }
            },
            "type": "scatterternary"
           }
          ],
          "surface": [
           {
            "colorbar": {
             "outlinewidth": 0,
             "ticks": ""
            },
            "colorscale": [
             [
              0,
              "#0d0887"
             ],
             [
              0.1111111111111111,
              "#46039f"
             ],
             [
              0.2222222222222222,
              "#7201a8"
             ],
             [
              0.3333333333333333,
              "#9c179e"
             ],
             [
              0.4444444444444444,
              "#bd3786"
             ],
             [
              0.5555555555555556,
              "#d8576b"
             ],
             [
              0.6666666666666666,
              "#ed7953"
             ],
             [
              0.7777777777777778,
              "#fb9f3a"
             ],
             [
              0.8888888888888888,
              "#fdca26"
             ],
             [
              1,
              "#f0f921"
             ]
            ],
            "type": "surface"
           }
          ],
          "table": [
           {
            "cells": {
             "fill": {
              "color": "#EBF0F8"
             },
             "line": {
              "color": "white"
             }
            },
            "header": {
             "fill": {
              "color": "#C8D4E3"
             },
             "line": {
              "color": "white"
             }
            },
            "type": "table"
           }
          ]
         },
         "layout": {
          "annotationdefaults": {
           "arrowcolor": "#2a3f5f",
           "arrowhead": 0,
           "arrowwidth": 1
          },
          "autotypenumbers": "strict",
          "coloraxis": {
           "colorbar": {
            "outlinewidth": 0,
            "ticks": ""
           }
          },
          "colorscale": {
           "diverging": [
            [
             0,
             "#8e0152"
            ],
            [
             0.1,
             "#c51b7d"
            ],
            [
             0.2,
             "#de77ae"
            ],
            [
             0.3,
             "#f1b6da"
            ],
            [
             0.4,
             "#fde0ef"
            ],
            [
             0.5,
             "#f7f7f7"
            ],
            [
             0.6,
             "#e6f5d0"
            ],
            [
             0.7,
             "#b8e186"
            ],
            [
             0.8,
             "#7fbc41"
            ],
            [
             0.9,
             "#4d9221"
            ],
            [
             1,
             "#276419"
            ]
           ],
           "sequential": [
            [
             0,
             "#0d0887"
            ],
            [
             0.1111111111111111,
             "#46039f"
            ],
            [
             0.2222222222222222,
             "#7201a8"
            ],
            [
             0.3333333333333333,
             "#9c179e"
            ],
            [
             0.4444444444444444,
             "#bd3786"
            ],
            [
             0.5555555555555556,
             "#d8576b"
            ],
            [
             0.6666666666666666,
             "#ed7953"
            ],
            [
             0.7777777777777778,
             "#fb9f3a"
            ],
            [
             0.8888888888888888,
             "#fdca26"
            ],
            [
             1,
             "#f0f921"
            ]
           ],
           "sequentialminus": [
            [
             0,
             "#0d0887"
            ],
            [
             0.1111111111111111,
             "#46039f"
            ],
            [
             0.2222222222222222,
             "#7201a8"
            ],
            [
             0.3333333333333333,
             "#9c179e"
            ],
            [
             0.4444444444444444,
             "#bd3786"
            ],
            [
             0.5555555555555556,
             "#d8576b"
            ],
            [
             0.6666666666666666,
             "#ed7953"
            ],
            [
             0.7777777777777778,
             "#fb9f3a"
            ],
            [
             0.8888888888888888,
             "#fdca26"
            ],
            [
             1,
             "#f0f921"
            ]
           ]
          },
          "colorway": [
           "#636efa",
           "#EF553B",
           "#00cc96",
           "#ab63fa",
           "#FFA15A",
           "#19d3f3",
           "#FF6692",
           "#B6E880",
           "#FF97FF",
           "#FECB52"
          ],
          "font": {
           "color": "#2a3f5f"
          },
          "geo": {
           "bgcolor": "white",
           "lakecolor": "white",
           "landcolor": "#E5ECF6",
           "showlakes": true,
           "showland": true,
           "subunitcolor": "white"
          },
          "hoverlabel": {
           "align": "left"
          },
          "hovermode": "closest",
          "mapbox": {
           "style": "light"
          },
          "paper_bgcolor": "white",
          "plot_bgcolor": "#E5ECF6",
          "polar": {
           "angularaxis": {
            "gridcolor": "white",
            "linecolor": "white",
            "ticks": ""
           },
           "bgcolor": "#E5ECF6",
           "radialaxis": {
            "gridcolor": "white",
            "linecolor": "white",
            "ticks": ""
           }
          },
          "scene": {
           "xaxis": {
            "backgroundcolor": "#E5ECF6",
            "gridcolor": "white",
            "gridwidth": 2,
            "linecolor": "white",
            "showbackground": true,
            "ticks": "",
            "zerolinecolor": "white"
           },
           "yaxis": {
            "backgroundcolor": "#E5ECF6",
            "gridcolor": "white",
            "gridwidth": 2,
            "linecolor": "white",
            "showbackground": true,
            "ticks": "",
            "zerolinecolor": "white"
           },
           "zaxis": {
            "backgroundcolor": "#E5ECF6",
            "gridcolor": "white",
            "gridwidth": 2,
            "linecolor": "white",
            "showbackground": true,
            "ticks": "",
            "zerolinecolor": "white"
           }
          },
          "shapedefaults": {
           "line": {
            "color": "#2a3f5f"
           }
          },
          "ternary": {
           "aaxis": {
            "gridcolor": "white",
            "linecolor": "white",
            "ticks": ""
           },
           "baxis": {
            "gridcolor": "white",
            "linecolor": "white",
            "ticks": ""
           },
           "bgcolor": "#E5ECF6",
           "caxis": {
            "gridcolor": "white",
            "linecolor": "white",
            "ticks": ""
           }
          },
          "title": {
           "x": 0.05
          },
          "xaxis": {
           "automargin": true,
           "gridcolor": "white",
           "linecolor": "white",
           "ticks": "",
           "title": {
            "standoff": 15
           },
           "zerolinecolor": "white",
           "zerolinewidth": 2
          },
          "yaxis": {
           "automargin": true,
           "gridcolor": "white",
           "linecolor": "white",
           "ticks": "",
           "title": {
            "standoff": 15
           },
           "zerolinecolor": "white",
           "zerolinewidth": 2
          }
         }
        },
        "title": {
         "text": "Comparación y evolución de Tasa neta de escolarización"
        },
        "xaxis": {
         "anchor": "y",
         "domain": [
          0,
          1
         ],
         "title": {
          "text": "Periodo"
         }
        },
        "yaxis": {
         "anchor": "x",
         "domain": [
          0,
          1
         ],
         "title": {
          "text": "Porcentaje"
         }
        }
       }
      }
     },
     "metadata": {},
     "output_type": "display_data"
    }
   ],
   "source": [
    "dff = data_escolar_subset[data_escolar_subset['Indicador'].str.contains('Tasa neta de escolarización')]\n",
    "title = 'Comparación y evolución de Tasa neta de escolarización'\n",
    "fig = px.line(dff, x=\"Periodo\", y=\"Porcentaje\", color='nivel_escolaridad', title = title,labels={'nivel_escolaridad':'Escolaridad'})\n",
    "fig.show()"
   ]
  },
  {
   "cell_type": "markdown",
   "metadata": {},
   "source": [
    "\n",
    "##### Comparativa de Cobertura"
   ]
  },
  {
   "cell_type": "code",
   "execution_count": 164,
   "metadata": {},
   "outputs": [
    {
     "data": {
      "application/vnd.plotly.v1+json": {
       "config": {
        "plotlyServerURL": "https://plot.ly"
       },
       "data": [
        {
         "hovertemplate": "Escolaridad=Educación básica<br>Periodo=%{x}<br>Porcentaje=%{y}<extra></extra>",
         "legendgroup": "Educación básica",
         "line": {
          "color": "#636efa",
          "dash": "solid"
         },
         "marker": {
          "symbol": "circle"
         },
         "mode": "lines",
         "name": "Educación básica",
         "orientation": "v",
         "showlegend": true,
         "type": "scatter",
         "x": [
          "2019_2020",
          "2020_2021",
          "2021_2022"
         ],
         "xaxis": "x",
         "y": [
          88.07776241166246,
          86.49611507218276,
          86.47237915631169
         ],
         "yaxis": "y"
        },
        {
         "hovertemplate": "Escolaridad=Educación preescolar<br>Periodo=%{x}<br>Porcentaje=%{y}<extra></extra>",
         "legendgroup": "Educación preescolar",
         "line": {
          "color": "#EF553B",
          "dash": "solid"
         },
         "marker": {
          "symbol": "circle"
         },
         "mode": "lines",
         "name": "Educación preescolar",
         "orientation": "v",
         "showlegend": true,
         "type": "scatter",
         "x": [
          "2019_2020",
          "2020_2021",
          "2021_2022"
         ],
         "xaxis": "x",
         "y": [
          63.559875151053014,
          57.004679780480494,
          57.47369805365597
         ],
         "yaxis": "y"
        },
        {
         "hovertemplate": "Escolaridad=Educación primaria<br>Periodo=%{x}<br>Porcentaje=%{y}<extra></extra>",
         "legendgroup": "Educación primaria",
         "line": {
          "color": "#00cc96",
          "dash": "solid"
         },
         "marker": {
          "symbol": "circle"
         },
         "mode": "lines",
         "name": "Educación primaria",
         "orientation": "v",
         "showlegend": true,
         "type": "scatter",
         "x": [
          "2019_2020",
          "2020_2021",
          "2021_2022"
         ],
         "xaxis": "x",
         "y": [
          97.44169835234474,
          96.50839319398662,
          95.77536531788226
         ],
         "yaxis": "y"
        },
        {
         "hovertemplate": "Escolaridad=Educación secundaria<br>Periodo=%{x}<br>Porcentaje=%{y}<extra></extra>",
         "legendgroup": "Educación secundaria",
         "line": {
          "color": "#ab63fa",
          "dash": "solid"
         },
         "marker": {
          "symbol": "circle"
         },
         "mode": "lines",
         "name": "Educación secundaria",
         "orientation": "v",
         "showlegend": true,
         "type": "scatter",
         "x": [
          "2019_2020",
          "2020_2021",
          "2021_2022"
         ],
         "xaxis": "x",
         "y": [
          93.314147663073,
          95.07734264072107,
          95.80039494718365
         ],
         "yaxis": "y"
        }
       ],
       "layout": {
        "legend": {
         "title": {
          "text": "Escolaridad"
         },
         "tracegroupgap": 0
        },
        "template": {
         "data": {
          "bar": [
           {
            "error_x": {
             "color": "#2a3f5f"
            },
            "error_y": {
             "color": "#2a3f5f"
            },
            "marker": {
             "line": {
              "color": "#E5ECF6",
              "width": 0.5
             },
             "pattern": {
              "fillmode": "overlay",
              "size": 10,
              "solidity": 0.2
             }
            },
            "type": "bar"
           }
          ],
          "barpolar": [
           {
            "marker": {
             "line": {
              "color": "#E5ECF6",
              "width": 0.5
             },
             "pattern": {
              "fillmode": "overlay",
              "size": 10,
              "solidity": 0.2
             }
            },
            "type": "barpolar"
           }
          ],
          "carpet": [
           {
            "aaxis": {
             "endlinecolor": "#2a3f5f",
             "gridcolor": "white",
             "linecolor": "white",
             "minorgridcolor": "white",
             "startlinecolor": "#2a3f5f"
            },
            "baxis": {
             "endlinecolor": "#2a3f5f",
             "gridcolor": "white",
             "linecolor": "white",
             "minorgridcolor": "white",
             "startlinecolor": "#2a3f5f"
            },
            "type": "carpet"
           }
          ],
          "choropleth": [
           {
            "colorbar": {
             "outlinewidth": 0,
             "ticks": ""
            },
            "type": "choropleth"
           }
          ],
          "contour": [
           {
            "colorbar": {
             "outlinewidth": 0,
             "ticks": ""
            },
            "colorscale": [
             [
              0,
              "#0d0887"
             ],
             [
              0.1111111111111111,
              "#46039f"
             ],
             [
              0.2222222222222222,
              "#7201a8"
             ],
             [
              0.3333333333333333,
              "#9c179e"
             ],
             [
              0.4444444444444444,
              "#bd3786"
             ],
             [
              0.5555555555555556,
              "#d8576b"
             ],
             [
              0.6666666666666666,
              "#ed7953"
             ],
             [
              0.7777777777777778,
              "#fb9f3a"
             ],
             [
              0.8888888888888888,
              "#fdca26"
             ],
             [
              1,
              "#f0f921"
             ]
            ],
            "type": "contour"
           }
          ],
          "contourcarpet": [
           {
            "colorbar": {
             "outlinewidth": 0,
             "ticks": ""
            },
            "type": "contourcarpet"
           }
          ],
          "heatmap": [
           {
            "colorbar": {
             "outlinewidth": 0,
             "ticks": ""
            },
            "colorscale": [
             [
              0,
              "#0d0887"
             ],
             [
              0.1111111111111111,
              "#46039f"
             ],
             [
              0.2222222222222222,
              "#7201a8"
             ],
             [
              0.3333333333333333,
              "#9c179e"
             ],
             [
              0.4444444444444444,
              "#bd3786"
             ],
             [
              0.5555555555555556,
              "#d8576b"
             ],
             [
              0.6666666666666666,
              "#ed7953"
             ],
             [
              0.7777777777777778,
              "#fb9f3a"
             ],
             [
              0.8888888888888888,
              "#fdca26"
             ],
             [
              1,
              "#f0f921"
             ]
            ],
            "type": "heatmap"
           }
          ],
          "heatmapgl": [
           {
            "colorbar": {
             "outlinewidth": 0,
             "ticks": ""
            },
            "colorscale": [
             [
              0,
              "#0d0887"
             ],
             [
              0.1111111111111111,
              "#46039f"
             ],
             [
              0.2222222222222222,
              "#7201a8"
             ],
             [
              0.3333333333333333,
              "#9c179e"
             ],
             [
              0.4444444444444444,
              "#bd3786"
             ],
             [
              0.5555555555555556,
              "#d8576b"
             ],
             [
              0.6666666666666666,
              "#ed7953"
             ],
             [
              0.7777777777777778,
              "#fb9f3a"
             ],
             [
              0.8888888888888888,
              "#fdca26"
             ],
             [
              1,
              "#f0f921"
             ]
            ],
            "type": "heatmapgl"
           }
          ],
          "histogram": [
           {
            "marker": {
             "pattern": {
              "fillmode": "overlay",
              "size": 10,
              "solidity": 0.2
             }
            },
            "type": "histogram"
           }
          ],
          "histogram2d": [
           {
            "colorbar": {
             "outlinewidth": 0,
             "ticks": ""
            },
            "colorscale": [
             [
              0,
              "#0d0887"
             ],
             [
              0.1111111111111111,
              "#46039f"
             ],
             [
              0.2222222222222222,
              "#7201a8"
             ],
             [
              0.3333333333333333,
              "#9c179e"
             ],
             [
              0.4444444444444444,
              "#bd3786"
             ],
             [
              0.5555555555555556,
              "#d8576b"
             ],
             [
              0.6666666666666666,
              "#ed7953"
             ],
             [
              0.7777777777777778,
              "#fb9f3a"
             ],
             [
              0.8888888888888888,
              "#fdca26"
             ],
             [
              1,
              "#f0f921"
             ]
            ],
            "type": "histogram2d"
           }
          ],
          "histogram2dcontour": [
           {
            "colorbar": {
             "outlinewidth": 0,
             "ticks": ""
            },
            "colorscale": [
             [
              0,
              "#0d0887"
             ],
             [
              0.1111111111111111,
              "#46039f"
             ],
             [
              0.2222222222222222,
              "#7201a8"
             ],
             [
              0.3333333333333333,
              "#9c179e"
             ],
             [
              0.4444444444444444,
              "#bd3786"
             ],
             [
              0.5555555555555556,
              "#d8576b"
             ],
             [
              0.6666666666666666,
              "#ed7953"
             ],
             [
              0.7777777777777778,
              "#fb9f3a"
             ],
             [
              0.8888888888888888,
              "#fdca26"
             ],
             [
              1,
              "#f0f921"
             ]
            ],
            "type": "histogram2dcontour"
           }
          ],
          "mesh3d": [
           {
            "colorbar": {
             "outlinewidth": 0,
             "ticks": ""
            },
            "type": "mesh3d"
           }
          ],
          "parcoords": [
           {
            "line": {
             "colorbar": {
              "outlinewidth": 0,
              "ticks": ""
             }
            },
            "type": "parcoords"
           }
          ],
          "pie": [
           {
            "automargin": true,
            "type": "pie"
           }
          ],
          "scatter": [
           {
            "fillpattern": {
             "fillmode": "overlay",
             "size": 10,
             "solidity": 0.2
            },
            "type": "scatter"
           }
          ],
          "scatter3d": [
           {
            "line": {
             "colorbar": {
              "outlinewidth": 0,
              "ticks": ""
             }
            },
            "marker": {
             "colorbar": {
              "outlinewidth": 0,
              "ticks": ""
             }
            },
            "type": "scatter3d"
           }
          ],
          "scattercarpet": [
           {
            "marker": {
             "colorbar": {
              "outlinewidth": 0,
              "ticks": ""
             }
            },
            "type": "scattercarpet"
           }
          ],
          "scattergeo": [
           {
            "marker": {
             "colorbar": {
              "outlinewidth": 0,
              "ticks": ""
             }
            },
            "type": "scattergeo"
           }
          ],
          "scattergl": [
           {
            "marker": {
             "colorbar": {
              "outlinewidth": 0,
              "ticks": ""
             }
            },
            "type": "scattergl"
           }
          ],
          "scattermapbox": [
           {
            "marker": {
             "colorbar": {
              "outlinewidth": 0,
              "ticks": ""
             }
            },
            "type": "scattermapbox"
           }
          ],
          "scatterpolar": [
           {
            "marker": {
             "colorbar": {
              "outlinewidth": 0,
              "ticks": ""
             }
            },
            "type": "scatterpolar"
           }
          ],
          "scatterpolargl": [
           {
            "marker": {
             "colorbar": {
              "outlinewidth": 0,
              "ticks": ""
             }
            },
            "type": "scatterpolargl"
           }
          ],
          "scatterternary": [
           {
            "marker": {
             "colorbar": {
              "outlinewidth": 0,
              "ticks": ""
             }
            },
            "type": "scatterternary"
           }
          ],
          "surface": [
           {
            "colorbar": {
             "outlinewidth": 0,
             "ticks": ""
            },
            "colorscale": [
             [
              0,
              "#0d0887"
             ],
             [
              0.1111111111111111,
              "#46039f"
             ],
             [
              0.2222222222222222,
              "#7201a8"
             ],
             [
              0.3333333333333333,
              "#9c179e"
             ],
             [
              0.4444444444444444,
              "#bd3786"
             ],
             [
              0.5555555555555556,
              "#d8576b"
             ],
             [
              0.6666666666666666,
              "#ed7953"
             ],
             [
              0.7777777777777778,
              "#fb9f3a"
             ],
             [
              0.8888888888888888,
              "#fdca26"
             ],
             [
              1,
              "#f0f921"
             ]
            ],
            "type": "surface"
           }
          ],
          "table": [
           {
            "cells": {
             "fill": {
              "color": "#EBF0F8"
             },
             "line": {
              "color": "white"
             }
            },
            "header": {
             "fill": {
              "color": "#C8D4E3"
             },
             "line": {
              "color": "white"
             }
            },
            "type": "table"
           }
          ]
         },
         "layout": {
          "annotationdefaults": {
           "arrowcolor": "#2a3f5f",
           "arrowhead": 0,
           "arrowwidth": 1
          },
          "autotypenumbers": "strict",
          "coloraxis": {
           "colorbar": {
            "outlinewidth": 0,
            "ticks": ""
           }
          },
          "colorscale": {
           "diverging": [
            [
             0,
             "#8e0152"
            ],
            [
             0.1,
             "#c51b7d"
            ],
            [
             0.2,
             "#de77ae"
            ],
            [
             0.3,
             "#f1b6da"
            ],
            [
             0.4,
             "#fde0ef"
            ],
            [
             0.5,
             "#f7f7f7"
            ],
            [
             0.6,
             "#e6f5d0"
            ],
            [
             0.7,
             "#b8e186"
            ],
            [
             0.8,
             "#7fbc41"
            ],
            [
             0.9,
             "#4d9221"
            ],
            [
             1,
             "#276419"
            ]
           ],
           "sequential": [
            [
             0,
             "#0d0887"
            ],
            [
             0.1111111111111111,
             "#46039f"
            ],
            [
             0.2222222222222222,
             "#7201a8"
            ],
            [
             0.3333333333333333,
             "#9c179e"
            ],
            [
             0.4444444444444444,
             "#bd3786"
            ],
            [
             0.5555555555555556,
             "#d8576b"
            ],
            [
             0.6666666666666666,
             "#ed7953"
            ],
            [
             0.7777777777777778,
             "#fb9f3a"
            ],
            [
             0.8888888888888888,
             "#fdca26"
            ],
            [
             1,
             "#f0f921"
            ]
           ],
           "sequentialminus": [
            [
             0,
             "#0d0887"
            ],
            [
             0.1111111111111111,
             "#46039f"
            ],
            [
             0.2222222222222222,
             "#7201a8"
            ],
            [
             0.3333333333333333,
             "#9c179e"
            ],
            [
             0.4444444444444444,
             "#bd3786"
            ],
            [
             0.5555555555555556,
             "#d8576b"
            ],
            [
             0.6666666666666666,
             "#ed7953"
            ],
            [
             0.7777777777777778,
             "#fb9f3a"
            ],
            [
             0.8888888888888888,
             "#fdca26"
            ],
            [
             1,
             "#f0f921"
            ]
           ]
          },
          "colorway": [
           "#636efa",
           "#EF553B",
           "#00cc96",
           "#ab63fa",
           "#FFA15A",
           "#19d3f3",
           "#FF6692",
           "#B6E880",
           "#FF97FF",
           "#FECB52"
          ],
          "font": {
           "color": "#2a3f5f"
          },
          "geo": {
           "bgcolor": "white",
           "lakecolor": "white",
           "landcolor": "#E5ECF6",
           "showlakes": true,
           "showland": true,
           "subunitcolor": "white"
          },
          "hoverlabel": {
           "align": "left"
          },
          "hovermode": "closest",
          "mapbox": {
           "style": "light"
          },
          "paper_bgcolor": "white",
          "plot_bgcolor": "#E5ECF6",
          "polar": {
           "angularaxis": {
            "gridcolor": "white",
            "linecolor": "white",
            "ticks": ""
           },
           "bgcolor": "#E5ECF6",
           "radialaxis": {
            "gridcolor": "white",
            "linecolor": "white",
            "ticks": ""
           }
          },
          "scene": {
           "xaxis": {
            "backgroundcolor": "#E5ECF6",
            "gridcolor": "white",
            "gridwidth": 2,
            "linecolor": "white",
            "showbackground": true,
            "ticks": "",
            "zerolinecolor": "white"
           },
           "yaxis": {
            "backgroundcolor": "#E5ECF6",
            "gridcolor": "white",
            "gridwidth": 2,
            "linecolor": "white",
            "showbackground": true,
            "ticks": "",
            "zerolinecolor": "white"
           },
           "zaxis": {
            "backgroundcolor": "#E5ECF6",
            "gridcolor": "white",
            "gridwidth": 2,
            "linecolor": "white",
            "showbackground": true,
            "ticks": "",
            "zerolinecolor": "white"
           }
          },
          "shapedefaults": {
           "line": {
            "color": "#2a3f5f"
           }
          },
          "ternary": {
           "aaxis": {
            "gridcolor": "white",
            "linecolor": "white",
            "ticks": ""
           },
           "baxis": {
            "gridcolor": "white",
            "linecolor": "white",
            "ticks": ""
           },
           "bgcolor": "#E5ECF6",
           "caxis": {
            "gridcolor": "white",
            "linecolor": "white",
            "ticks": ""
           }
          },
          "title": {
           "x": 0.05
          },
          "xaxis": {
           "automargin": true,
           "gridcolor": "white",
           "linecolor": "white",
           "ticks": "",
           "title": {
            "standoff": 15
           },
           "zerolinecolor": "white",
           "zerolinewidth": 2
          },
          "yaxis": {
           "automargin": true,
           "gridcolor": "white",
           "linecolor": "white",
           "ticks": "",
           "title": {
            "standoff": 15
           },
           "zerolinecolor": "white",
           "zerolinewidth": 2
          }
         }
        },
        "title": {
         "text": "Comparación y evolución de Cobertura"
        },
        "xaxis": {
         "anchor": "y",
         "domain": [
          0,
          1
         ],
         "title": {
          "text": "Periodo"
         }
        },
        "yaxis": {
         "anchor": "x",
         "domain": [
          0,
          1
         ],
         "title": {
          "text": "Porcentaje"
         }
        }
       }
      }
     },
     "metadata": {},
     "output_type": "display_data"
    }
   ],
   "source": [
    "dff = data_escolar_subset[data_escolar_subset['Indicador'].str.contains('Cobertura')]\n",
    "title = 'Comparación y evolución de Cobertura'\n",
    "fig = px.line(dff, x=\"Periodo\", y=\"Porcentaje\", color='nivel_escolaridad', title = title,labels={'nivel_escolaridad':'Escolaridad'})\n",
    "fig.show()"
   ]
  },
  {
   "cell_type": "markdown",
   "metadata": {},
   "source": [
    "##### Comparativa de atención por edad en preescolar"
   ]
  },
  {
   "cell_type": "code",
   "execution_count": 168,
   "metadata": {},
   "outputs": [
    {
     "data": {
      "application/vnd.plotly.v1+json": {
       "config": {
        "plotlyServerURL": "https://plot.ly"
       },
       "data": [
        {
         "hovertemplate": "Indicador=Atención de 3 años<br>Periodo=%{x}<br>Porcentaje=%{y}<extra></extra>",
         "legendgroup": "Atención de 3 años",
         "line": {
          "color": "#636efa",
          "dash": "solid"
         },
         "marker": {
          "symbol": "circle"
         },
         "mode": "lines",
         "name": "Atención de 3 años",
         "orientation": "v",
         "showlegend": true,
         "type": "scatter",
         "x": [
          "2019_2020",
          "2020_2021",
          "2021_2022"
         ],
         "xaxis": "x",
         "y": [
          28.154349914707556,
          22.94182869362056,
          23.784794763127
         ],
         "yaxis": "y"
        },
        {
         "hovertemplate": "Indicador=Atención de 4 años<br>Periodo=%{x}<br>Porcentaje=%{y}<extra></extra>",
         "legendgroup": "Atención de 4 años",
         "line": {
          "color": "#EF553B",
          "dash": "solid"
         },
         "marker": {
          "symbol": "circle"
         },
         "mode": "lines",
         "name": "Atención de 4 años",
         "orientation": "v",
         "showlegend": true,
         "type": "scatter",
         "x": [
          "2019_2020",
          "2020_2021",
          "2021_2022"
         ],
         "xaxis": "x",
         "y": [
          82.27867679755622,
          71.49089344053837,
          72.34601556635455
         ],
         "yaxis": "y"
        },
        {
         "hovertemplate": "Indicador=Atención de 5 años<br>Periodo=%{x}<br>Porcentaje=%{y}<extra></extra>",
         "legendgroup": "Atención de 5 años",
         "line": {
          "color": "#00cc96",
          "dash": "solid"
         },
         "marker": {
          "symbol": "circle"
         },
         "mode": "lines",
         "name": "Atención de 5 años",
         "orientation": "v",
         "showlegend": true,
         "type": "scatter",
         "x": [
          "2019_2020",
          "2020_2021",
          "2021_2022"
         ],
         "xaxis": "x",
         "y": [
          77.41768064125483,
          74.05748701812637,
          73.95652258833181
         ],
         "yaxis": "y"
        },
        {
         "hovertemplate": "Indicador=Atención de 3, 4 y 5 años (Tasa neta de escolarización)<br>Periodo=%{x}<br>Porcentaje=%{y}<extra></extra>",
         "legendgroup": "Atención de 3, 4 y 5 años (Tasa neta de escolarización)",
         "line": {
          "color": "#ab63fa",
          "dash": "solid"
         },
         "marker": {
          "symbol": "circle"
         },
         "mode": "lines",
         "name": "Atención de 3, 4 y 5 años (Tasa neta de escolarización)",
         "orientation": "v",
         "showlegend": true,
         "type": "scatter",
         "x": [
          "2019_2020",
          "2020_2021",
          "2021_2022"
         ],
         "xaxis": "x",
         "y": [
          62.80638719975185,
          56.37571206966224,
          56.839821146764855
         ],
         "yaxis": "y"
        }
       ],
       "layout": {
        "legend": {
         "title": {
          "text": "Indicador"
         },
         "tracegroupgap": 0
        },
        "template": {
         "data": {
          "bar": [
           {
            "error_x": {
             "color": "#2a3f5f"
            },
            "error_y": {
             "color": "#2a3f5f"
            },
            "marker": {
             "line": {
              "color": "#E5ECF6",
              "width": 0.5
             },
             "pattern": {
              "fillmode": "overlay",
              "size": 10,
              "solidity": 0.2
             }
            },
            "type": "bar"
           }
          ],
          "barpolar": [
           {
            "marker": {
             "line": {
              "color": "#E5ECF6",
              "width": 0.5
             },
             "pattern": {
              "fillmode": "overlay",
              "size": 10,
              "solidity": 0.2
             }
            },
            "type": "barpolar"
           }
          ],
          "carpet": [
           {
            "aaxis": {
             "endlinecolor": "#2a3f5f",
             "gridcolor": "white",
             "linecolor": "white",
             "minorgridcolor": "white",
             "startlinecolor": "#2a3f5f"
            },
            "baxis": {
             "endlinecolor": "#2a3f5f",
             "gridcolor": "white",
             "linecolor": "white",
             "minorgridcolor": "white",
             "startlinecolor": "#2a3f5f"
            },
            "type": "carpet"
           }
          ],
          "choropleth": [
           {
            "colorbar": {
             "outlinewidth": 0,
             "ticks": ""
            },
            "type": "choropleth"
           }
          ],
          "contour": [
           {
            "colorbar": {
             "outlinewidth": 0,
             "ticks": ""
            },
            "colorscale": [
             [
              0,
              "#0d0887"
             ],
             [
              0.1111111111111111,
              "#46039f"
             ],
             [
              0.2222222222222222,
              "#7201a8"
             ],
             [
              0.3333333333333333,
              "#9c179e"
             ],
             [
              0.4444444444444444,
              "#bd3786"
             ],
             [
              0.5555555555555556,
              "#d8576b"
             ],
             [
              0.6666666666666666,
              "#ed7953"
             ],
             [
              0.7777777777777778,
              "#fb9f3a"
             ],
             [
              0.8888888888888888,
              "#fdca26"
             ],
             [
              1,
              "#f0f921"
             ]
            ],
            "type": "contour"
           }
          ],
          "contourcarpet": [
           {
            "colorbar": {
             "outlinewidth": 0,
             "ticks": ""
            },
            "type": "contourcarpet"
           }
          ],
          "heatmap": [
           {
            "colorbar": {
             "outlinewidth": 0,
             "ticks": ""
            },
            "colorscale": [
             [
              0,
              "#0d0887"
             ],
             [
              0.1111111111111111,
              "#46039f"
             ],
             [
              0.2222222222222222,
              "#7201a8"
             ],
             [
              0.3333333333333333,
              "#9c179e"
             ],
             [
              0.4444444444444444,
              "#bd3786"
             ],
             [
              0.5555555555555556,
              "#d8576b"
             ],
             [
              0.6666666666666666,
              "#ed7953"
             ],
             [
              0.7777777777777778,
              "#fb9f3a"
             ],
             [
              0.8888888888888888,
              "#fdca26"
             ],
             [
              1,
              "#f0f921"
             ]
            ],
            "type": "heatmap"
           }
          ],
          "heatmapgl": [
           {
            "colorbar": {
             "outlinewidth": 0,
             "ticks": ""
            },
            "colorscale": [
             [
              0,
              "#0d0887"
             ],
             [
              0.1111111111111111,
              "#46039f"
             ],
             [
              0.2222222222222222,
              "#7201a8"
             ],
             [
              0.3333333333333333,
              "#9c179e"
             ],
             [
              0.4444444444444444,
              "#bd3786"
             ],
             [
              0.5555555555555556,
              "#d8576b"
             ],
             [
              0.6666666666666666,
              "#ed7953"
             ],
             [
              0.7777777777777778,
              "#fb9f3a"
             ],
             [
              0.8888888888888888,
              "#fdca26"
             ],
             [
              1,
              "#f0f921"
             ]
            ],
            "type": "heatmapgl"
           }
          ],
          "histogram": [
           {
            "marker": {
             "pattern": {
              "fillmode": "overlay",
              "size": 10,
              "solidity": 0.2
             }
            },
            "type": "histogram"
           }
          ],
          "histogram2d": [
           {
            "colorbar": {
             "outlinewidth": 0,
             "ticks": ""
            },
            "colorscale": [
             [
              0,
              "#0d0887"
             ],
             [
              0.1111111111111111,
              "#46039f"
             ],
             [
              0.2222222222222222,
              "#7201a8"
             ],
             [
              0.3333333333333333,
              "#9c179e"
             ],
             [
              0.4444444444444444,
              "#bd3786"
             ],
             [
              0.5555555555555556,
              "#d8576b"
             ],
             [
              0.6666666666666666,
              "#ed7953"
             ],
             [
              0.7777777777777778,
              "#fb9f3a"
             ],
             [
              0.8888888888888888,
              "#fdca26"
             ],
             [
              1,
              "#f0f921"
             ]
            ],
            "type": "histogram2d"
           }
          ],
          "histogram2dcontour": [
           {
            "colorbar": {
             "outlinewidth": 0,
             "ticks": ""
            },
            "colorscale": [
             [
              0,
              "#0d0887"
             ],
             [
              0.1111111111111111,
              "#46039f"
             ],
             [
              0.2222222222222222,
              "#7201a8"
             ],
             [
              0.3333333333333333,
              "#9c179e"
             ],
             [
              0.4444444444444444,
              "#bd3786"
             ],
             [
              0.5555555555555556,
              "#d8576b"
             ],
             [
              0.6666666666666666,
              "#ed7953"
             ],
             [
              0.7777777777777778,
              "#fb9f3a"
             ],
             [
              0.8888888888888888,
              "#fdca26"
             ],
             [
              1,
              "#f0f921"
             ]
            ],
            "type": "histogram2dcontour"
           }
          ],
          "mesh3d": [
           {
            "colorbar": {
             "outlinewidth": 0,
             "ticks": ""
            },
            "type": "mesh3d"
           }
          ],
          "parcoords": [
           {
            "line": {
             "colorbar": {
              "outlinewidth": 0,
              "ticks": ""
             }
            },
            "type": "parcoords"
           }
          ],
          "pie": [
           {
            "automargin": true,
            "type": "pie"
           }
          ],
          "scatter": [
           {
            "fillpattern": {
             "fillmode": "overlay",
             "size": 10,
             "solidity": 0.2
            },
            "type": "scatter"
           }
          ],
          "scatter3d": [
           {
            "line": {
             "colorbar": {
              "outlinewidth": 0,
              "ticks": ""
             }
            },
            "marker": {
             "colorbar": {
              "outlinewidth": 0,
              "ticks": ""
             }
            },
            "type": "scatter3d"
           }
          ],
          "scattercarpet": [
           {
            "marker": {
             "colorbar": {
              "outlinewidth": 0,
              "ticks": ""
             }
            },
            "type": "scattercarpet"
           }
          ],
          "scattergeo": [
           {
            "marker": {
             "colorbar": {
              "outlinewidth": 0,
              "ticks": ""
             }
            },
            "type": "scattergeo"
           }
          ],
          "scattergl": [
           {
            "marker": {
             "colorbar": {
              "outlinewidth": 0,
              "ticks": ""
             }
            },
            "type": "scattergl"
           }
          ],
          "scattermapbox": [
           {
            "marker": {
             "colorbar": {
              "outlinewidth": 0,
              "ticks": ""
             }
            },
            "type": "scattermapbox"
           }
          ],
          "scatterpolar": [
           {
            "marker": {
             "colorbar": {
              "outlinewidth": 0,
              "ticks": ""
             }
            },
            "type": "scatterpolar"
           }
          ],
          "scatterpolargl": [
           {
            "marker": {
             "colorbar": {
              "outlinewidth": 0,
              "ticks": ""
             }
            },
            "type": "scatterpolargl"
           }
          ],
          "scatterternary": [
           {
            "marker": {
             "colorbar": {
              "outlinewidth": 0,
              "ticks": ""
             }
            },
            "type": "scatterternary"
           }
          ],
          "surface": [
           {
            "colorbar": {
             "outlinewidth": 0,
             "ticks": ""
            },
            "colorscale": [
             [
              0,
              "#0d0887"
             ],
             [
              0.1111111111111111,
              "#46039f"
             ],
             [
              0.2222222222222222,
              "#7201a8"
             ],
             [
              0.3333333333333333,
              "#9c179e"
             ],
             [
              0.4444444444444444,
              "#bd3786"
             ],
             [
              0.5555555555555556,
              "#d8576b"
             ],
             [
              0.6666666666666666,
              "#ed7953"
             ],
             [
              0.7777777777777778,
              "#fb9f3a"
             ],
             [
              0.8888888888888888,
              "#fdca26"
             ],
             [
              1,
              "#f0f921"
             ]
            ],
            "type": "surface"
           }
          ],
          "table": [
           {
            "cells": {
             "fill": {
              "color": "#EBF0F8"
             },
             "line": {
              "color": "white"
             }
            },
            "header": {
             "fill": {
              "color": "#C8D4E3"
             },
             "line": {
              "color": "white"
             }
            },
            "type": "table"
           }
          ]
         },
         "layout": {
          "annotationdefaults": {
           "arrowcolor": "#2a3f5f",
           "arrowhead": 0,
           "arrowwidth": 1
          },
          "autotypenumbers": "strict",
          "coloraxis": {
           "colorbar": {
            "outlinewidth": 0,
            "ticks": ""
           }
          },
          "colorscale": {
           "diverging": [
            [
             0,
             "#8e0152"
            ],
            [
             0.1,
             "#c51b7d"
            ],
            [
             0.2,
             "#de77ae"
            ],
            [
             0.3,
             "#f1b6da"
            ],
            [
             0.4,
             "#fde0ef"
            ],
            [
             0.5,
             "#f7f7f7"
            ],
            [
             0.6,
             "#e6f5d0"
            ],
            [
             0.7,
             "#b8e186"
            ],
            [
             0.8,
             "#7fbc41"
            ],
            [
             0.9,
             "#4d9221"
            ],
            [
             1,
             "#276419"
            ]
           ],
           "sequential": [
            [
             0,
             "#0d0887"
            ],
            [
             0.1111111111111111,
             "#46039f"
            ],
            [
             0.2222222222222222,
             "#7201a8"
            ],
            [
             0.3333333333333333,
             "#9c179e"
            ],
            [
             0.4444444444444444,
             "#bd3786"
            ],
            [
             0.5555555555555556,
             "#d8576b"
            ],
            [
             0.6666666666666666,
             "#ed7953"
            ],
            [
             0.7777777777777778,
             "#fb9f3a"
            ],
            [
             0.8888888888888888,
             "#fdca26"
            ],
            [
             1,
             "#f0f921"
            ]
           ],
           "sequentialminus": [
            [
             0,
             "#0d0887"
            ],
            [
             0.1111111111111111,
             "#46039f"
            ],
            [
             0.2222222222222222,
             "#7201a8"
            ],
            [
             0.3333333333333333,
             "#9c179e"
            ],
            [
             0.4444444444444444,
             "#bd3786"
            ],
            [
             0.5555555555555556,
             "#d8576b"
            ],
            [
             0.6666666666666666,
             "#ed7953"
            ],
            [
             0.7777777777777778,
             "#fb9f3a"
            ],
            [
             0.8888888888888888,
             "#fdca26"
            ],
            [
             1,
             "#f0f921"
            ]
           ]
          },
          "colorway": [
           "#636efa",
           "#EF553B",
           "#00cc96",
           "#ab63fa",
           "#FFA15A",
           "#19d3f3",
           "#FF6692",
           "#B6E880",
           "#FF97FF",
           "#FECB52"
          ],
          "font": {
           "color": "#2a3f5f"
          },
          "geo": {
           "bgcolor": "white",
           "lakecolor": "white",
           "landcolor": "#E5ECF6",
           "showlakes": true,
           "showland": true,
           "subunitcolor": "white"
          },
          "hoverlabel": {
           "align": "left"
          },
          "hovermode": "closest",
          "mapbox": {
           "style": "light"
          },
          "paper_bgcolor": "white",
          "plot_bgcolor": "#E5ECF6",
          "polar": {
           "angularaxis": {
            "gridcolor": "white",
            "linecolor": "white",
            "ticks": ""
           },
           "bgcolor": "#E5ECF6",
           "radialaxis": {
            "gridcolor": "white",
            "linecolor": "white",
            "ticks": ""
           }
          },
          "scene": {
           "xaxis": {
            "backgroundcolor": "#E5ECF6",
            "gridcolor": "white",
            "gridwidth": 2,
            "linecolor": "white",
            "showbackground": true,
            "ticks": "",
            "zerolinecolor": "white"
           },
           "yaxis": {
            "backgroundcolor": "#E5ECF6",
            "gridcolor": "white",
            "gridwidth": 2,
            "linecolor": "white",
            "showbackground": true,
            "ticks": "",
            "zerolinecolor": "white"
           },
           "zaxis": {
            "backgroundcolor": "#E5ECF6",
            "gridcolor": "white",
            "gridwidth": 2,
            "linecolor": "white",
            "showbackground": true,
            "ticks": "",
            "zerolinecolor": "white"
           }
          },
          "shapedefaults": {
           "line": {
            "color": "#2a3f5f"
           }
          },
          "ternary": {
           "aaxis": {
            "gridcolor": "white",
            "linecolor": "white",
            "ticks": ""
           },
           "baxis": {
            "gridcolor": "white",
            "linecolor": "white",
            "ticks": ""
           },
           "bgcolor": "#E5ECF6",
           "caxis": {
            "gridcolor": "white",
            "linecolor": "white",
            "ticks": ""
           }
          },
          "title": {
           "x": 0.05
          },
          "xaxis": {
           "automargin": true,
           "gridcolor": "white",
           "linecolor": "white",
           "ticks": "",
           "title": {
            "standoff": 15
           },
           "zerolinecolor": "white",
           "zerolinewidth": 2
          },
          "yaxis": {
           "automargin": true,
           "gridcolor": "white",
           "linecolor": "white",
           "ticks": "",
           "title": {
            "standoff": 15
           },
           "zerolinecolor": "white",
           "zerolinewidth": 2
          }
         }
        },
        "title": {
         "text": "Comparación y evolución de Atención preescolar"
        },
        "xaxis": {
         "anchor": "y",
         "domain": [
          0,
          1
         ],
         "title": {
          "text": "Periodo"
         }
        },
        "yaxis": {
         "anchor": "x",
         "domain": [
          0,
          1
         ],
         "title": {
          "text": "Porcentaje"
         }
        }
       }
      }
     },
     "metadata": {},
     "output_type": "display_data"
    }
   ],
   "source": [
    "dff = data_escolar_subset[data_escolar_subset['Indicador'].str.contains('Atención')]\n",
    "title = 'Comparación y evolución de Atención preescolar'\n",
    "fig = px.line(dff, x=\"Periodo\", y=\"Porcentaje\", color='Indicador', title = title,labels={'nivel_escolaridad':'Escolaridad'})\n",
    "fig.show()"
   ]
  }
 ],
 "metadata": {
  "interpreter": {
   "hash": "5d765bd907a46b25ad02e28c05e4731caf962f5fd2c04aeeff26a578c6f1f709"
  },
  "kernelspec": {
   "display_name": "Python 3.9.7 ('base')",
   "language": "python",
   "name": "python3"
  },
  "language_info": {
   "codemirror_mode": {
    "name": "ipython",
    "version": 3
   },
   "file_extension": ".py",
   "mimetype": "text/x-python",
   "name": "python",
   "nbconvert_exporter": "python",
   "pygments_lexer": "ipython3",
   "version": "3.8.10"
  },
  "orig_nbformat": 4
 },
 "nbformat": 4,
 "nbformat_minor": 2
}

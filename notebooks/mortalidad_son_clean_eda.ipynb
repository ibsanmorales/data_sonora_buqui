{
 "cells": [
  {
   "cell_type": "markdown",
   "metadata": {},
   "source": [
    "# MORTALIDAD SONORA\n",
    "Base de datos del INEGI filtrada por el estado de Sonora."
   ]
  },
  {
   "cell_type": "code",
   "execution_count": 1,
   "metadata": {},
   "outputs": [],
   "source": [
    "import pandas as pd\n",
    "import matplotlib.pyplot as plt\n",
    "import seaborn as sns\n",
    "import os"
   ]
  },
  {
   "cell_type": "code",
   "execution_count": 2,
   "metadata": {},
   "outputs": [],
   "source": [
    "dataPath = '../data/raw/INEGI_SONORA_FILTRO/'\n",
    "fileExits = os.path.exists(dataPath+'296_mortalidad_26_xlsx/mortalidad_26.xlsx')\n",
    "\n",
    "if fileExits: \n",
    "    dfMortalidad= pd.read_excel(dataPath+'296_mortalidad_26_xlsx/mortalidad_26.xlsx', sheet_name='valor')\n",
    "\n",
    "\n"
   ]
  }
 ],
 "metadata": {
  "interpreter": {
   "hash": "dad08447736e6979460cb49108b1da7ba0fd52959c8dfa99821e9ab2378a1deb"
  },
  "kernelspec": {
   "display_name": "Python 3.10.2 ('venv': venv)",
   "language": "python",
   "name": "python3"
  },
  "language_info": {
   "codemirror_mode": {
    "name": "ipython",
    "version": 3
   },
   "file_extension": ".py",
   "mimetype": "text/x-python",
   "name": "python",
   "nbconvert_exporter": "python",
   "pygments_lexer": "ipython3",
   "version": "3.10.2"
  },
  "orig_nbformat": 4
 },
 "nbformat": 4,
 "nbformat_minor": 2
}

{
 "cells": [
  {
   "cell_type": "markdown",
   "metadata": {},
   "source": [
    "## Censo de Población y Vivienda 2020"
   ]
  },
  {
   "cell_type": "markdown",
   "metadata": {},
   "source": [
    "Los datos se obtuvieron de la página https://www.inegi.org.mx/programas/ccpv/2020/#Tabulados el día 12 de Abril del 2022. Se encuentran en la sección Tabulados > Tabulados_predefinidos > Cuestionario basico > estatal/municipal > Educacion. Los datos fueron filtrados para Sonora en el sitio web.\n",
    "\n",
    "Nombre del archivo de datos crudos: cpv2020_b_son_07_educacion.xlsx\n",
    "\n",
    "Se generaron dos Datasets limpios\n",
    "\n",
    "* datos_netos_analfabetismo.csv: Contiene un dataset con datos totales para cada municipio\n",
    "* porcentajes_analfabetismo_municipio.csv : Contiene ya porcentajes para cada municipio (porcentajes totales, por sexo y edad, ideal para usar en mapa)"
   ]
  },
  {
   "cell_type": "code",
   "execution_count": 219,
   "metadata": {},
   "outputs": [],
   "source": [
    "#Importando librerias necesarias\n",
    "import pandas as pd\n",
    "import pathlib\n",
    "\n",
    "#Todo lo relacionado a graficar\n",
    "import plotly.express as px\n"
   ]
  },
  {
   "cell_type": "code",
   "execution_count": 220,
   "metadata": {},
   "outputs": [],
   "source": [
    "#Definiendo el Path del archivo\n",
    "path = pathlib.Path('..', 'data_dir/cpv2020_b_son_07_educacion.xlsx')"
   ]
  },
  {
   "cell_type": "code",
   "execution_count": 221,
   "metadata": {},
   "outputs": [],
   "source": [
    "#Leyendo los datos\n",
    "censo_educacion =  pd.read_excel(path, header =6)"
   ]
  },
  {
   "cell_type": "code",
   "execution_count": 222,
   "metadata": {},
   "outputs": [
    {
     "data": {
      "text/html": [
       "<div>\n",
       "<style scoped>\n",
       "    .dataframe tbody tr th:only-of-type {\n",
       "        vertical-align: middle;\n",
       "    }\n",
       "\n",
       "    .dataframe tbody tr th {\n",
       "        vertical-align: top;\n",
       "    }\n",
       "\n",
       "    .dataframe thead th {\n",
       "        text-align: right;\n",
       "    }\n",
       "</style>\n",
       "<table border=\"1\" class=\"dataframe\">\n",
       "  <thead>\n",
       "    <tr style=\"text-align: right;\">\n",
       "      <th></th>\n",
       "      <th>Unnamed: 0</th>\n",
       "      <th>Unnamed: 1</th>\n",
       "      <th>Tabulado</th>\n",
       "      <th>Subtema</th>\n",
       "      <th>Desglose</th>\n",
       "      <th>Título</th>\n",
       "    </tr>\n",
       "  </thead>\n",
       "  <tbody>\n",
       "    <tr>\n",
       "      <th>0</th>\n",
       "      <td>NaN</td>\n",
       "      <td>NaN</td>\n",
       "      <td>1</td>\n",
       "      <td>Aptitud para leer y escribir</td>\n",
       "      <td>Tamaño de localidad</td>\n",
       "      <td>Población de 6 a 14 años por tamaño de localid...</td>\n",
       "    </tr>\n",
       "    <tr>\n",
       "      <th>1</th>\n",
       "      <td>NaN</td>\n",
       "      <td>NaN</td>\n",
       "      <td>2</td>\n",
       "      <td>Aptitud para leer y escribir</td>\n",
       "      <td>Municipio</td>\n",
       "      <td>Población de 6 a 14 años por municipio, sexo y...</td>\n",
       "    </tr>\n",
       "    <tr>\n",
       "      <th>2</th>\n",
       "      <td>NaN</td>\n",
       "      <td>NaN</td>\n",
       "      <td>3</td>\n",
       "      <td>Alfabetismo</td>\n",
       "      <td>Tamaño de localidad</td>\n",
       "      <td>Población de 15 años y más por tamaño de local...</td>\n",
       "    </tr>\n",
       "    <tr>\n",
       "      <th>3</th>\n",
       "      <td>NaN</td>\n",
       "      <td>NaN</td>\n",
       "      <td>4</td>\n",
       "      <td>Alfabetismo</td>\n",
       "      <td>Municipio</td>\n",
       "      <td>Población de 15 años y más por municipio, sexo...</td>\n",
       "    </tr>\n",
       "    <tr>\n",
       "      <th>4</th>\n",
       "      <td>NaN</td>\n",
       "      <td>NaN</td>\n",
       "      <td>5</td>\n",
       "      <td>Asistencia escolar</td>\n",
       "      <td>Tamaño de localidad</td>\n",
       "      <td>Población de 3 años y más por tamaño de locali...</td>\n",
       "    </tr>\n",
       "    <tr>\n",
       "      <th>5</th>\n",
       "      <td>NaN</td>\n",
       "      <td>NaN</td>\n",
       "      <td>6</td>\n",
       "      <td>Asistencia escolar</td>\n",
       "      <td>Municipio</td>\n",
       "      <td>Población de 3 años y más por municipio, sexo ...</td>\n",
       "    </tr>\n",
       "    <tr>\n",
       "      <th>6</th>\n",
       "      <td>NaN</td>\n",
       "      <td>NaN</td>\n",
       "      <td>7</td>\n",
       "      <td>Escolaridad</td>\n",
       "      <td>Tamaño de localidad</td>\n",
       "      <td>Población de 3 años y más por tamaño de locali...</td>\n",
       "    </tr>\n",
       "    <tr>\n",
       "      <th>7</th>\n",
       "      <td>NaN</td>\n",
       "      <td>NaN</td>\n",
       "      <td>8</td>\n",
       "      <td>Escolaridad</td>\n",
       "      <td>Municipio</td>\n",
       "      <td>Población de 3 años y más por municipio, sexo ...</td>\n",
       "    </tr>\n",
       "  </tbody>\n",
       "</table>\n",
       "</div>"
      ],
      "text/plain": [
       "   Unnamed: 0  Unnamed: 1  Tabulado                       Subtema  \\\n",
       "0         NaN         NaN         1  Aptitud para leer y escribir   \n",
       "1         NaN         NaN         2  Aptitud para leer y escribir   \n",
       "2         NaN         NaN         3                   Alfabetismo   \n",
       "3         NaN         NaN         4                   Alfabetismo   \n",
       "4         NaN         NaN         5            Asistencia escolar   \n",
       "5         NaN         NaN         6            Asistencia escolar   \n",
       "6         NaN         NaN         7                   Escolaridad   \n",
       "7         NaN         NaN         8                   Escolaridad   \n",
       "\n",
       "              Desglose                                             Título  \n",
       "0  Tamaño de localidad  Población de 6 a 14 años por tamaño de localid...  \n",
       "1            Municipio  Población de 6 a 14 años por municipio, sexo y...  \n",
       "2  Tamaño de localidad  Población de 15 años y más por tamaño de local...  \n",
       "3            Municipio  Población de 15 años y más por municipio, sexo...  \n",
       "4  Tamaño de localidad  Población de 3 años y más por tamaño de locali...  \n",
       "5            Municipio  Población de 3 años y más por municipio, sexo ...  \n",
       "6  Tamaño de localidad  Población de 3 años y más por tamaño de locali...  \n",
       "7            Municipio  Población de 3 años y más por municipio, sexo ...  "
      ]
     },
     "execution_count": 222,
     "metadata": {},
     "output_type": "execute_result"
    }
   ],
   "source": [
    "censo_educacion"
   ]
  },
  {
   "cell_type": "code",
   "execution_count": 223,
   "metadata": {},
   "outputs": [
    {
     "name": "stdout",
     "output_type": "stream",
     "text": [
      "1  :  Población de 6 a 14 años por tamaño de localidad, sexo y edad desplegada según aptitud para leer y escribir\n",
      "2  :  Población de 6 a 14 años por municipio, sexo y edad desplegada según aptitud para leer y escribir\n",
      "3  :  Población de 15 años y más por tamaño de localidad, sexo y grupos quinquenales de edad según condición de alfabetismo\n",
      "4  :  Población de 15 años y más por municipio, sexo y grupos quinquenales de edad según condición de alfabetismo\n",
      "5  :  Población de 3 años y más por tamaño de localidad, sexo y edad según condición de asistencia escolar\n",
      "6  :  Población de 3 años y más por municipio, sexo y edad según condición de asistencia escolar\n",
      "7  :  Población de 3 años y más por tamaño de localidad, sexo y grupos de edad según escolaridad, tipo educativo, nivel y grados aprobados\n",
      "8  :  Población de 3 años y más por municipio, sexo y grupos de edad según escolaridad, tipo educativo, nivel y grados aprobados\n"
     ]
    }
   ],
   "source": [
    "#Observando la información que tiene cada página del excel\n",
    "for index, row in censo_educacion.iterrows():\n",
    "    print(row['Tabulado'], ' : ' , row['Título'])"
   ]
  },
  {
   "cell_type": "code",
   "execution_count": 224,
   "metadata": {},
   "outputs": [],
   "source": [
    "#Primero empezaremos leyendo la página #2, ya que lo tiene por municipio\n",
    "censo_educacion =  pd.read_excel(path, header =5, sheet_name='02')"
   ]
  },
  {
   "cell_type": "markdown",
   "metadata": {},
   "source": [
    "### Limpieza de datos"
   ]
  },
  {
   "cell_type": "code",
   "execution_count": 225,
   "metadata": {},
   "outputs": [
    {
     "data": {
      "text/html": [
       "<div>\n",
       "<style scoped>\n",
       "    .dataframe tbody tr th:only-of-type {\n",
       "        vertical-align: middle;\n",
       "    }\n",
       "\n",
       "    .dataframe tbody tr th {\n",
       "        vertical-align: top;\n",
       "    }\n",
       "\n",
       "    .dataframe thead th {\n",
       "        text-align: right;\n",
       "    }\n",
       "</style>\n",
       "<table border=\"1\" class=\"dataframe\">\n",
       "  <thead>\n",
       "    <tr style=\"text-align: right;\">\n",
       "      <th></th>\n",
       "      <th>Entidad federativa</th>\n",
       "      <th>Municipio</th>\n",
       "      <th>Sexo</th>\n",
       "      <th>Edad desplegada</th>\n",
       "      <th>Población de 6 a 14 años</th>\n",
       "      <th>Aptitud para leer y escribir</th>\n",
       "      <th>Unnamed: 6</th>\n",
       "      <th>Unnamed: 7</th>\n",
       "    </tr>\n",
       "  </thead>\n",
       "  <tbody>\n",
       "    <tr>\n",
       "      <th>0</th>\n",
       "      <td>NaN</td>\n",
       "      <td>NaN</td>\n",
       "      <td>NaN</td>\n",
       "      <td>NaN</td>\n",
       "      <td>NaN</td>\n",
       "      <td>Sabe leer y escribir</td>\n",
       "      <td>No sabe leer y escribir</td>\n",
       "      <td>No especificado</td>\n",
       "    </tr>\n",
       "    <tr>\n",
       "      <th>1</th>\n",
       "      <td>NaN</td>\n",
       "      <td>NaN</td>\n",
       "      <td>NaN</td>\n",
       "      <td>NaN</td>\n",
       "      <td>NaN</td>\n",
       "      <td>NaN</td>\n",
       "      <td>NaN</td>\n",
       "      <td>NaN</td>\n",
       "    </tr>\n",
       "    <tr>\n",
       "      <th>2</th>\n",
       "      <td>26 Sonora</td>\n",
       "      <td>Total</td>\n",
       "      <td>Total</td>\n",
       "      <td>Total</td>\n",
       "      <td>456421.0</td>\n",
       "      <td>408131</td>\n",
       "      <td>46085</td>\n",
       "      <td>2205</td>\n",
       "    </tr>\n",
       "    <tr>\n",
       "      <th>3</th>\n",
       "      <td>26 Sonora</td>\n",
       "      <td>Total</td>\n",
       "      <td>Total</td>\n",
       "      <td>06 años</td>\n",
       "      <td>48561.0</td>\n",
       "      <td>20955</td>\n",
       "      <td>27371</td>\n",
       "      <td>235</td>\n",
       "    </tr>\n",
       "    <tr>\n",
       "      <th>4</th>\n",
       "      <td>26 Sonora</td>\n",
       "      <td>Total</td>\n",
       "      <td>Total</td>\n",
       "      <td>07 años</td>\n",
       "      <td>49264.0</td>\n",
       "      <td>38445</td>\n",
       "      <td>10530</td>\n",
       "      <td>289</td>\n",
       "    </tr>\n",
       "    <tr>\n",
       "      <th>...</th>\n",
       "      <td>...</td>\n",
       "      <td>...</td>\n",
       "      <td>...</td>\n",
       "      <td>...</td>\n",
       "      <td>...</td>\n",
       "      <td>...</td>\n",
       "      <td>...</td>\n",
       "      <td>...</td>\n",
       "    </tr>\n",
       "    <tr>\n",
       "      <th>2181</th>\n",
       "      <td>26 Sonora</td>\n",
       "      <td>069 Yécora</td>\n",
       "      <td>Mujeres</td>\n",
       "      <td>10 años</td>\n",
       "      <td>51.0</td>\n",
       "      <td>48</td>\n",
       "      <td>3</td>\n",
       "      <td>0</td>\n",
       "    </tr>\n",
       "    <tr>\n",
       "      <th>2182</th>\n",
       "      <td>26 Sonora</td>\n",
       "      <td>069 Yécora</td>\n",
       "      <td>Mujeres</td>\n",
       "      <td>11 años</td>\n",
       "      <td>48.0</td>\n",
       "      <td>46</td>\n",
       "      <td>2</td>\n",
       "      <td>0</td>\n",
       "    </tr>\n",
       "    <tr>\n",
       "      <th>2183</th>\n",
       "      <td>26 Sonora</td>\n",
       "      <td>069 Yécora</td>\n",
       "      <td>Mujeres</td>\n",
       "      <td>12 años</td>\n",
       "      <td>43.0</td>\n",
       "      <td>43</td>\n",
       "      <td>0</td>\n",
       "      <td>0</td>\n",
       "    </tr>\n",
       "    <tr>\n",
       "      <th>2184</th>\n",
       "      <td>26 Sonora</td>\n",
       "      <td>069 Yécora</td>\n",
       "      <td>Mujeres</td>\n",
       "      <td>13 años</td>\n",
       "      <td>48.0</td>\n",
       "      <td>47</td>\n",
       "      <td>1</td>\n",
       "      <td>0</td>\n",
       "    </tr>\n",
       "    <tr>\n",
       "      <th>2185</th>\n",
       "      <td>26 Sonora</td>\n",
       "      <td>069 Yécora</td>\n",
       "      <td>Mujeres</td>\n",
       "      <td>14 años</td>\n",
       "      <td>57.0</td>\n",
       "      <td>54</td>\n",
       "      <td>3</td>\n",
       "      <td>0</td>\n",
       "    </tr>\n",
       "  </tbody>\n",
       "</table>\n",
       "<p>2186 rows × 8 columns</p>\n",
       "</div>"
      ],
      "text/plain": [
       "     Entidad federativa   Municipio     Sexo Edad desplegada  \\\n",
       "0                   NaN         NaN      NaN             NaN   \n",
       "1                   NaN         NaN      NaN             NaN   \n",
       "2             26 Sonora       Total    Total           Total   \n",
       "3             26 Sonora       Total    Total         06 años   \n",
       "4             26 Sonora       Total    Total         07 años   \n",
       "...                 ...         ...      ...             ...   \n",
       "2181          26 Sonora  069 Yécora  Mujeres         10 años   \n",
       "2182          26 Sonora  069 Yécora  Mujeres         11 años   \n",
       "2183          26 Sonora  069 Yécora  Mujeres         12 años   \n",
       "2184          26 Sonora  069 Yécora  Mujeres         13 años   \n",
       "2185          26 Sonora  069 Yécora  Mujeres         14 años   \n",
       "\n",
       "      Población de 6 a 14 años Aptitud para leer y escribir  \\\n",
       "0                          NaN         Sabe leer y escribir   \n",
       "1                          NaN                          NaN   \n",
       "2                     456421.0                       408131   \n",
       "3                      48561.0                        20955   \n",
       "4                      49264.0                        38445   \n",
       "...                        ...                          ...   \n",
       "2181                      51.0                           48   \n",
       "2182                      48.0                           46   \n",
       "2183                      43.0                           43   \n",
       "2184                      48.0                           47   \n",
       "2185                      57.0                           54   \n",
       "\n",
       "                   Unnamed: 6       Unnamed: 7  \n",
       "0     No sabe leer y escribir  No especificado  \n",
       "1                         NaN              NaN  \n",
       "2                       46085             2205  \n",
       "3                       27371              235  \n",
       "4                       10530              289  \n",
       "...                       ...              ...  \n",
       "2181                        3                0  \n",
       "2182                        2                0  \n",
       "2183                        0                0  \n",
       "2184                        1                0  \n",
       "2185                        3                0  \n",
       "\n",
       "[2186 rows x 8 columns]"
      ]
     },
     "execution_count": 225,
     "metadata": {},
     "output_type": "execute_result"
    }
   ],
   "source": [
    "censo_educacion"
   ]
  },
  {
   "cell_type": "code",
   "execution_count": 226,
   "metadata": {},
   "outputs": [
    {
     "data": {
      "text/html": [
       "<div>\n",
       "<style scoped>\n",
       "    .dataframe tbody tr th:only-of-type {\n",
       "        vertical-align: middle;\n",
       "    }\n",
       "\n",
       "    .dataframe tbody tr th {\n",
       "        vertical-align: top;\n",
       "    }\n",
       "\n",
       "    .dataframe thead th {\n",
       "        text-align: right;\n",
       "    }\n",
       "</style>\n",
       "<table border=\"1\" class=\"dataframe\">\n",
       "  <thead>\n",
       "    <tr style=\"text-align: right;\">\n",
       "      <th></th>\n",
       "      <th>Entidad federativa</th>\n",
       "      <th>Municipio</th>\n",
       "      <th>Sexo</th>\n",
       "      <th>Edad desplegada</th>\n",
       "      <th>Población de 6 a 14 años</th>\n",
       "      <th>Sabe leer y escribir</th>\n",
       "      <th>No sabe leer y escribir</th>\n",
       "      <th>No especificado</th>\n",
       "    </tr>\n",
       "  </thead>\n",
       "  <tbody>\n",
       "    <tr>\n",
       "      <th>0</th>\n",
       "      <td>NaN</td>\n",
       "      <td>NaN</td>\n",
       "      <td>NaN</td>\n",
       "      <td>NaN</td>\n",
       "      <td>NaN</td>\n",
       "      <td>Sabe leer y escribir</td>\n",
       "      <td>No sabe leer y escribir</td>\n",
       "      <td>No especificado</td>\n",
       "    </tr>\n",
       "    <tr>\n",
       "      <th>1</th>\n",
       "      <td>NaN</td>\n",
       "      <td>NaN</td>\n",
       "      <td>NaN</td>\n",
       "      <td>NaN</td>\n",
       "      <td>NaN</td>\n",
       "      <td>NaN</td>\n",
       "      <td>NaN</td>\n",
       "      <td>NaN</td>\n",
       "    </tr>\n",
       "    <tr>\n",
       "      <th>2</th>\n",
       "      <td>26 Sonora</td>\n",
       "      <td>Total</td>\n",
       "      <td>Total</td>\n",
       "      <td>Total</td>\n",
       "      <td>456421.0</td>\n",
       "      <td>408131</td>\n",
       "      <td>46085</td>\n",
       "      <td>2205</td>\n",
       "    </tr>\n",
       "    <tr>\n",
       "      <th>3</th>\n",
       "      <td>26 Sonora</td>\n",
       "      <td>Total</td>\n",
       "      <td>Total</td>\n",
       "      <td>06 años</td>\n",
       "      <td>48561.0</td>\n",
       "      <td>20955</td>\n",
       "      <td>27371</td>\n",
       "      <td>235</td>\n",
       "    </tr>\n",
       "    <tr>\n",
       "      <th>4</th>\n",
       "      <td>26 Sonora</td>\n",
       "      <td>Total</td>\n",
       "      <td>Total</td>\n",
       "      <td>07 años</td>\n",
       "      <td>49264.0</td>\n",
       "      <td>38445</td>\n",
       "      <td>10530</td>\n",
       "      <td>289</td>\n",
       "    </tr>\n",
       "  </tbody>\n",
       "</table>\n",
       "</div>"
      ],
      "text/plain": [
       "  Entidad federativa Municipio   Sexo Edad desplegada  \\\n",
       "0                NaN       NaN    NaN             NaN   \n",
       "1                NaN       NaN    NaN             NaN   \n",
       "2          26 Sonora     Total  Total           Total   \n",
       "3          26 Sonora     Total  Total         06 años   \n",
       "4          26 Sonora     Total  Total         07 años   \n",
       "\n",
       "   Población de 6 a 14 años  Sabe leer y escribir  No sabe leer y escribir  \\\n",
       "0                       NaN  Sabe leer y escribir  No sabe leer y escribir   \n",
       "1                       NaN                   NaN                      NaN   \n",
       "2                  456421.0                408131                    46085   \n",
       "3                   48561.0                 20955                    27371   \n",
       "4                   49264.0                 38445                    10530   \n",
       "\n",
       "   No especificado  \n",
       "0  No especificado  \n",
       "1              NaN  \n",
       "2             2205  \n",
       "3              235  \n",
       "4              289  "
      ]
     },
     "execution_count": 226,
     "metadata": {},
     "output_type": "execute_result"
    }
   ],
   "source": [
    "#Renombraremos columnas \n",
    "censo_educacion = censo_educacion.rename({'Aptitud para leer y escribir': 'Sabe leer y escribir',\n",
    "                        'Unnamed: 6': 'No sabe leer y escribir',\n",
    "                        'Unnamed: 7': 'No especificado'},axis= 1)\n",
    "censo_educacion.head()"
   ]
  },
  {
   "cell_type": "code",
   "execution_count": 227,
   "metadata": {},
   "outputs": [],
   "source": [
    "#Podemos remover las primeras dos filas \n",
    "censo_educacion.drop([0,1],axis=0,inplace=True)"
   ]
  },
  {
   "cell_type": "code",
   "execution_count": 228,
   "metadata": {},
   "outputs": [
    {
     "data": {
      "text/html": [
       "<div>\n",
       "<style scoped>\n",
       "    .dataframe tbody tr th:only-of-type {\n",
       "        vertical-align: middle;\n",
       "    }\n",
       "\n",
       "    .dataframe tbody tr th {\n",
       "        vertical-align: top;\n",
       "    }\n",
       "\n",
       "    .dataframe thead th {\n",
       "        text-align: right;\n",
       "    }\n",
       "</style>\n",
       "<table border=\"1\" class=\"dataframe\">\n",
       "  <thead>\n",
       "    <tr style=\"text-align: right;\">\n",
       "      <th></th>\n",
       "      <th>Municipio</th>\n",
       "      <th>Sexo</th>\n",
       "      <th>Edad desplegada</th>\n",
       "      <th>Población de 6 a 14 años</th>\n",
       "      <th>Sabe leer y escribir</th>\n",
       "      <th>No sabe leer y escribir</th>\n",
       "      <th>No especificado</th>\n",
       "    </tr>\n",
       "  </thead>\n",
       "  <tbody>\n",
       "    <tr>\n",
       "      <th>2</th>\n",
       "      <td>Total</td>\n",
       "      <td>Total</td>\n",
       "      <td>Total</td>\n",
       "      <td>456421.0</td>\n",
       "      <td>408131</td>\n",
       "      <td>46085</td>\n",
       "      <td>2205</td>\n",
       "    </tr>\n",
       "    <tr>\n",
       "      <th>3</th>\n",
       "      <td>Total</td>\n",
       "      <td>Total</td>\n",
       "      <td>06 años</td>\n",
       "      <td>48561.0</td>\n",
       "      <td>20955</td>\n",
       "      <td>27371</td>\n",
       "      <td>235</td>\n",
       "    </tr>\n",
       "    <tr>\n",
       "      <th>4</th>\n",
       "      <td>Total</td>\n",
       "      <td>Total</td>\n",
       "      <td>07 años</td>\n",
       "      <td>49264.0</td>\n",
       "      <td>38445</td>\n",
       "      <td>10530</td>\n",
       "      <td>289</td>\n",
       "    </tr>\n",
       "    <tr>\n",
       "      <th>5</th>\n",
       "      <td>Total</td>\n",
       "      <td>Total</td>\n",
       "      <td>08 años</td>\n",
       "      <td>51030.0</td>\n",
       "      <td>46386</td>\n",
       "      <td>4247</td>\n",
       "      <td>397</td>\n",
       "    </tr>\n",
       "    <tr>\n",
       "      <th>6</th>\n",
       "      <td>Total</td>\n",
       "      <td>Total</td>\n",
       "      <td>09 años</td>\n",
       "      <td>48775.0</td>\n",
       "      <td>46529</td>\n",
       "      <td>1887</td>\n",
       "      <td>359</td>\n",
       "    </tr>\n",
       "    <tr>\n",
       "      <th>...</th>\n",
       "      <td>...</td>\n",
       "      <td>...</td>\n",
       "      <td>...</td>\n",
       "      <td>...</td>\n",
       "      <td>...</td>\n",
       "      <td>...</td>\n",
       "      <td>...</td>\n",
       "    </tr>\n",
       "    <tr>\n",
       "      <th>2181</th>\n",
       "      <td>069 Yécora</td>\n",
       "      <td>Mujeres</td>\n",
       "      <td>10 años</td>\n",
       "      <td>51.0</td>\n",
       "      <td>48</td>\n",
       "      <td>3</td>\n",
       "      <td>0</td>\n",
       "    </tr>\n",
       "    <tr>\n",
       "      <th>2182</th>\n",
       "      <td>069 Yécora</td>\n",
       "      <td>Mujeres</td>\n",
       "      <td>11 años</td>\n",
       "      <td>48.0</td>\n",
       "      <td>46</td>\n",
       "      <td>2</td>\n",
       "      <td>0</td>\n",
       "    </tr>\n",
       "    <tr>\n",
       "      <th>2183</th>\n",
       "      <td>069 Yécora</td>\n",
       "      <td>Mujeres</td>\n",
       "      <td>12 años</td>\n",
       "      <td>43.0</td>\n",
       "      <td>43</td>\n",
       "      <td>0</td>\n",
       "      <td>0</td>\n",
       "    </tr>\n",
       "    <tr>\n",
       "      <th>2184</th>\n",
       "      <td>069 Yécora</td>\n",
       "      <td>Mujeres</td>\n",
       "      <td>13 años</td>\n",
       "      <td>48.0</td>\n",
       "      <td>47</td>\n",
       "      <td>1</td>\n",
       "      <td>0</td>\n",
       "    </tr>\n",
       "    <tr>\n",
       "      <th>2185</th>\n",
       "      <td>069 Yécora</td>\n",
       "      <td>Mujeres</td>\n",
       "      <td>14 años</td>\n",
       "      <td>57.0</td>\n",
       "      <td>54</td>\n",
       "      <td>3</td>\n",
       "      <td>0</td>\n",
       "    </tr>\n",
       "  </tbody>\n",
       "</table>\n",
       "<p>2184 rows × 7 columns</p>\n",
       "</div>"
      ],
      "text/plain": [
       "       Municipio     Sexo Edad desplegada  Población de 6 a 14 años  \\\n",
       "2          Total    Total           Total                  456421.0   \n",
       "3          Total    Total         06 años                   48561.0   \n",
       "4          Total    Total         07 años                   49264.0   \n",
       "5          Total    Total         08 años                   51030.0   \n",
       "6          Total    Total         09 años                   48775.0   \n",
       "...          ...      ...             ...                       ...   \n",
       "2181  069 Yécora  Mujeres         10 años                      51.0   \n",
       "2182  069 Yécora  Mujeres         11 años                      48.0   \n",
       "2183  069 Yécora  Mujeres         12 años                      43.0   \n",
       "2184  069 Yécora  Mujeres         13 años                      48.0   \n",
       "2185  069 Yécora  Mujeres         14 años                      57.0   \n",
       "\n",
       "     Sabe leer y escribir No sabe leer y escribir No especificado  \n",
       "2                  408131                   46085            2205  \n",
       "3                   20955                   27371             235  \n",
       "4                   38445                   10530             289  \n",
       "5                   46386                    4247             397  \n",
       "6                   46529                    1887             359  \n",
       "...                   ...                     ...             ...  \n",
       "2181                   48                       3               0  \n",
       "2182                   46                       2               0  \n",
       "2183                   43                       0               0  \n",
       "2184                   47                       1               0  \n",
       "2185                   54                       3               0  \n",
       "\n",
       "[2184 rows x 7 columns]"
      ]
     },
     "execution_count": 228,
     "metadata": {},
     "output_type": "execute_result"
    }
   ],
   "source": [
    "#Debido a que ya sabemos que los datos son de Sonora, removeremos la columna de entidad federativa\n",
    "censo_educacion.drop('Entidad federativa', axis=1, inplace=True)\n",
    "censo_educacion"
   ]
  },
  {
   "cell_type": "code",
   "execution_count": 229,
   "metadata": {},
   "outputs": [
    {
     "data": {
      "text/plain": [
       "Municipio                    object\n",
       "Sexo                         object\n",
       "Edad desplegada              object\n",
       "Población de 6 a 14 años    float64\n",
       "Sabe leer y escribir         object\n",
       "No sabe leer y escribir      object\n",
       "No especificado              object\n",
       "dtype: object"
      ]
     },
     "execution_count": 229,
     "metadata": {},
     "output_type": "execute_result"
    }
   ],
   "source": [
    "#Confirmamos que los tipos de datos sean correctos\n",
    "censo_educacion.dtypes"
   ]
  },
  {
   "cell_type": "code",
   "execution_count": 230,
   "metadata": {},
   "outputs": [
    {
     "data": {
      "text/plain": [
       "Municipio                    object\n",
       "Sexo                         object\n",
       "Edad desplegada              object\n",
       "Población de 6 a 14 años    float64\n",
       "Sabe leer y escribir          int64\n",
       "No sabe leer y escribir       int64\n",
       "No especificado               int64\n",
       "dtype: object"
      ]
     },
     "execution_count": 230,
     "metadata": {},
     "output_type": "execute_result"
    }
   ],
   "source": [
    "#Cambiamos las ultimas 3 columnas a entero\n",
    "censo_educacion[['Sabe leer y escribir', 'No sabe leer y escribir', 'No especificado']] = censo_educacion[['Sabe leer y escribir', 'No sabe leer y escribir', 'No especificado']].astype('int64')\n",
    "censo_educacion.dtypes"
   ]
  },
  {
   "cell_type": "code",
   "execution_count": 231,
   "metadata": {},
   "outputs": [
    {
     "data": {
      "text/plain": [
       "array(['Total', '001 Aconchi', '002 Agua Prieta', '003 Alamos',\n",
       "       '004 Altar', '005 Arivechi', '006 Arizpe', '007 Atil',\n",
       "       '008 Bacadéhuachi', '009 Bacanora', '010 Bacerac', '011 Bacoachi',\n",
       "       '012 Bácum', '013 Banámichi', '014 Baviácora', '015 Bavispe',\n",
       "       '071 Benito Juárez', '016 Benjamín Hill', '017 Caborca',\n",
       "       '018 Cajeme', '019 Cananea', '020 Carbó', '022 Cucurpe',\n",
       "       '023 Cumpas', '024 Divisaderos', '025 Empalme', '026 Etchojoa',\n",
       "       '027 Fronteras', '070 General Plutarco Elías Calles',\n",
       "       '028 Granados', '029 Guaymas', '030 Hermosillo', '031 Huachinera',\n",
       "       '032 Huásabas', '033 Huatabampo', '034 Huépac', '035 Imuris',\n",
       "       '021 La Colorada', '036 Magdalena', '037 Mazatán', '038 Moctezuma',\n",
       "       '039 Naco', '040 Nácori Chico', '041 Nacozari de García',\n",
       "       '042 Navojoa', '043 Nogales', '044 Onavas', '045 Opodepe',\n",
       "       '046 Oquitoa', '047 Pitiquito', '048 Puerto Peñasco',\n",
       "       '049 Quiriego', '050 Rayón', '051 Rosario', '052 Sahuaripa',\n",
       "       '053 San Felipe de Jesús', '072 San Ignacio Río Muerto',\n",
       "       '054 San Javier', '055 San Luis Río Colorado',\n",
       "       '056 San Miguel de Horcasitas', '057 San Pedro de la Cueva',\n",
       "       '058 Santa Ana', '059 Santa Cruz', '060 Sáric', '061 Soyopa',\n",
       "       '062 Suaqui Grande', '063 Tepache', '064 Trincheras',\n",
       "       '065 Tubutama', '066 Ures', '067 Villa Hidalgo',\n",
       "       '068 Villa Pesqueira', '069 Yécora'], dtype=object)"
      ]
     },
     "execution_count": 231,
     "metadata": {},
     "output_type": "execute_result"
    }
   ],
   "source": [
    "#Vemos los valores únicos en Municipios\n",
    "censo_educacion.Municipio.unique()"
   ]
  },
  {
   "cell_type": "code",
   "execution_count": 232,
   "metadata": {},
   "outputs": [
    {
     "data": {
      "text/html": [
       "<div>\n",
       "<style scoped>\n",
       "    .dataframe tbody tr th:only-of-type {\n",
       "        vertical-align: middle;\n",
       "    }\n",
       "\n",
       "    .dataframe tbody tr th {\n",
       "        vertical-align: top;\n",
       "    }\n",
       "\n",
       "    .dataframe thead th {\n",
       "        text-align: right;\n",
       "    }\n",
       "</style>\n",
       "<table border=\"1\" class=\"dataframe\">\n",
       "  <thead>\n",
       "    <tr style=\"text-align: right;\">\n",
       "      <th></th>\n",
       "      <th>Municipio</th>\n",
       "      <th>Sexo</th>\n",
       "      <th>Edad desplegada</th>\n",
       "      <th>Población de 6 a 14 años</th>\n",
       "      <th>Sabe leer y escribir</th>\n",
       "      <th>No sabe leer y escribir</th>\n",
       "      <th>No especificado</th>\n",
       "    </tr>\n",
       "  </thead>\n",
       "  <tbody>\n",
       "    <tr>\n",
       "      <th>2</th>\n",
       "      <td>Total</td>\n",
       "      <td>Total</td>\n",
       "      <td>Total</td>\n",
       "      <td>456421.0</td>\n",
       "      <td>408131</td>\n",
       "      <td>46085</td>\n",
       "      <td>2205</td>\n",
       "    </tr>\n",
       "    <tr>\n",
       "      <th>3</th>\n",
       "      <td>Total</td>\n",
       "      <td>Total</td>\n",
       "      <td>06 años</td>\n",
       "      <td>48561.0</td>\n",
       "      <td>20955</td>\n",
       "      <td>27371</td>\n",
       "      <td>235</td>\n",
       "    </tr>\n",
       "    <tr>\n",
       "      <th>4</th>\n",
       "      <td>Total</td>\n",
       "      <td>Total</td>\n",
       "      <td>07 años</td>\n",
       "      <td>49264.0</td>\n",
       "      <td>38445</td>\n",
       "      <td>10530</td>\n",
       "      <td>289</td>\n",
       "    </tr>\n",
       "    <tr>\n",
       "      <th>5</th>\n",
       "      <td>Total</td>\n",
       "      <td>Total</td>\n",
       "      <td>08 años</td>\n",
       "      <td>51030.0</td>\n",
       "      <td>46386</td>\n",
       "      <td>4247</td>\n",
       "      <td>397</td>\n",
       "    </tr>\n",
       "    <tr>\n",
       "      <th>6</th>\n",
       "      <td>Total</td>\n",
       "      <td>Total</td>\n",
       "      <td>09 años</td>\n",
       "      <td>48775.0</td>\n",
       "      <td>46529</td>\n",
       "      <td>1887</td>\n",
       "      <td>359</td>\n",
       "    </tr>\n",
       "    <tr>\n",
       "      <th>...</th>\n",
       "      <td>...</td>\n",
       "      <td>...</td>\n",
       "      <td>...</td>\n",
       "      <td>...</td>\n",
       "      <td>...</td>\n",
       "      <td>...</td>\n",
       "      <td>...</td>\n",
       "    </tr>\n",
       "    <tr>\n",
       "      <th>2181</th>\n",
       "      <td>Yécora</td>\n",
       "      <td>Mujeres</td>\n",
       "      <td>10 años</td>\n",
       "      <td>51.0</td>\n",
       "      <td>48</td>\n",
       "      <td>3</td>\n",
       "      <td>0</td>\n",
       "    </tr>\n",
       "    <tr>\n",
       "      <th>2182</th>\n",
       "      <td>Yécora</td>\n",
       "      <td>Mujeres</td>\n",
       "      <td>11 años</td>\n",
       "      <td>48.0</td>\n",
       "      <td>46</td>\n",
       "      <td>2</td>\n",
       "      <td>0</td>\n",
       "    </tr>\n",
       "    <tr>\n",
       "      <th>2183</th>\n",
       "      <td>Yécora</td>\n",
       "      <td>Mujeres</td>\n",
       "      <td>12 años</td>\n",
       "      <td>43.0</td>\n",
       "      <td>43</td>\n",
       "      <td>0</td>\n",
       "      <td>0</td>\n",
       "    </tr>\n",
       "    <tr>\n",
       "      <th>2184</th>\n",
       "      <td>Yécora</td>\n",
       "      <td>Mujeres</td>\n",
       "      <td>13 años</td>\n",
       "      <td>48.0</td>\n",
       "      <td>47</td>\n",
       "      <td>1</td>\n",
       "      <td>0</td>\n",
       "    </tr>\n",
       "    <tr>\n",
       "      <th>2185</th>\n",
       "      <td>Yécora</td>\n",
       "      <td>Mujeres</td>\n",
       "      <td>14 años</td>\n",
       "      <td>57.0</td>\n",
       "      <td>54</td>\n",
       "      <td>3</td>\n",
       "      <td>0</td>\n",
       "    </tr>\n",
       "  </tbody>\n",
       "</table>\n",
       "<p>2184 rows × 7 columns</p>\n",
       "</div>"
      ],
      "text/plain": [
       "     Municipio     Sexo Edad desplegada  Población de 6 a 14 años  \\\n",
       "2        Total    Total           Total                  456421.0   \n",
       "3        Total    Total         06 años                   48561.0   \n",
       "4        Total    Total         07 años                   49264.0   \n",
       "5        Total    Total         08 años                   51030.0   \n",
       "6        Total    Total         09 años                   48775.0   \n",
       "...        ...      ...             ...                       ...   \n",
       "2181    Yécora  Mujeres         10 años                      51.0   \n",
       "2182    Yécora  Mujeres         11 años                      48.0   \n",
       "2183    Yécora  Mujeres         12 años                      43.0   \n",
       "2184    Yécora  Mujeres         13 años                      48.0   \n",
       "2185    Yécora  Mujeres         14 años                      57.0   \n",
       "\n",
       "      Sabe leer y escribir  No sabe leer y escribir  No especificado  \n",
       "2                   408131                    46085             2205  \n",
       "3                    20955                    27371              235  \n",
       "4                    38445                    10530              289  \n",
       "5                    46386                     4247              397  \n",
       "6                    46529                     1887              359  \n",
       "...                    ...                      ...              ...  \n",
       "2181                    48                        3                0  \n",
       "2182                    46                        2                0  \n",
       "2183                    43                        0                0  \n",
       "2184                    47                        1                0  \n",
       "2185                    54                        3                0  \n",
       "\n",
       "[2184 rows x 7 columns]"
      ]
     },
     "execution_count": 232,
     "metadata": {},
     "output_type": "execute_result"
    }
   ],
   "source": [
    "#Removeremos los primeros tres números\n",
    "censo_educacion.Municipio = censo_educacion.Municipio.apply(lambda x: x[3:] if x != 'Total' else 'Total')\n",
    "censo_educacion"
   ]
  },
  {
   "cell_type": "code",
   "execution_count": 233,
   "metadata": {},
   "outputs": [],
   "source": [
    "#Por ultimo, removeremos los espacios en blanco que quedaron en la columna Municipio\n",
    "censo_educacion['Municipio'] = censo_educacion['Municipio'].str.strip()"
   ]
  },
  {
   "cell_type": "code",
   "execution_count": 234,
   "metadata": {},
   "outputs": [],
   "source": [
    "#Por ultimo, debido a que Python nos permite hacer calculos de datos totales de manera muy sencilla, \n",
    "# removeremos los datos totales ya calculados\n",
    "censo_educacion = censo_educacion[censo_educacion['Municipio'] != 'Total' ]\n",
    "censo_educacion = censo_educacion[censo_educacion['Edad desplegada'] != 'Total']\n",
    "censo_educacion = censo_educacion[censo_educacion['Sexo'] != 'Total']\n",
    "\n"
   ]
  },
  {
   "cell_type": "code",
   "execution_count": 235,
   "metadata": {},
   "outputs": [
    {
     "data": {
      "text/html": [
       "<div>\n",
       "<style scoped>\n",
       "    .dataframe tbody tr th:only-of-type {\n",
       "        vertical-align: middle;\n",
       "    }\n",
       "\n",
       "    .dataframe tbody tr th {\n",
       "        vertical-align: top;\n",
       "    }\n",
       "\n",
       "    .dataframe thead th {\n",
       "        text-align: right;\n",
       "    }\n",
       "</style>\n",
       "<table border=\"1\" class=\"dataframe\">\n",
       "  <thead>\n",
       "    <tr style=\"text-align: right;\">\n",
       "      <th></th>\n",
       "      <th>Municipio</th>\n",
       "      <th>Sexo</th>\n",
       "      <th>Edad desplegada</th>\n",
       "      <th>Población de 6 a 14 años</th>\n",
       "      <th>Sabe leer y escribir</th>\n",
       "      <th>No sabe leer y escribir</th>\n",
       "      <th>No especificado</th>\n",
       "    </tr>\n",
       "  </thead>\n",
       "  <tbody>\n",
       "    <tr>\n",
       "      <th>43</th>\n",
       "      <td>Aconchi</td>\n",
       "      <td>Hombres</td>\n",
       "      <td>06 años</td>\n",
       "      <td>20.0</td>\n",
       "      <td>8</td>\n",
       "      <td>12</td>\n",
       "      <td>0</td>\n",
       "    </tr>\n",
       "    <tr>\n",
       "      <th>44</th>\n",
       "      <td>Aconchi</td>\n",
       "      <td>Hombres</td>\n",
       "      <td>07 años</td>\n",
       "      <td>23.0</td>\n",
       "      <td>18</td>\n",
       "      <td>5</td>\n",
       "      <td>0</td>\n",
       "    </tr>\n",
       "    <tr>\n",
       "      <th>45</th>\n",
       "      <td>Aconchi</td>\n",
       "      <td>Hombres</td>\n",
       "      <td>08 años</td>\n",
       "      <td>21.0</td>\n",
       "      <td>20</td>\n",
       "      <td>1</td>\n",
       "      <td>0</td>\n",
       "    </tr>\n",
       "    <tr>\n",
       "      <th>46</th>\n",
       "      <td>Aconchi</td>\n",
       "      <td>Hombres</td>\n",
       "      <td>09 años</td>\n",
       "      <td>18.0</td>\n",
       "      <td>17</td>\n",
       "      <td>1</td>\n",
       "      <td>0</td>\n",
       "    </tr>\n",
       "    <tr>\n",
       "      <th>47</th>\n",
       "      <td>Aconchi</td>\n",
       "      <td>Hombres</td>\n",
       "      <td>10 años</td>\n",
       "      <td>30.0</td>\n",
       "      <td>30</td>\n",
       "      <td>0</td>\n",
       "      <td>0</td>\n",
       "    </tr>\n",
       "    <tr>\n",
       "      <th>...</th>\n",
       "      <td>...</td>\n",
       "      <td>...</td>\n",
       "      <td>...</td>\n",
       "      <td>...</td>\n",
       "      <td>...</td>\n",
       "      <td>...</td>\n",
       "      <td>...</td>\n",
       "    </tr>\n",
       "    <tr>\n",
       "      <th>2181</th>\n",
       "      <td>Yécora</td>\n",
       "      <td>Mujeres</td>\n",
       "      <td>10 años</td>\n",
       "      <td>51.0</td>\n",
       "      <td>48</td>\n",
       "      <td>3</td>\n",
       "      <td>0</td>\n",
       "    </tr>\n",
       "    <tr>\n",
       "      <th>2182</th>\n",
       "      <td>Yécora</td>\n",
       "      <td>Mujeres</td>\n",
       "      <td>11 años</td>\n",
       "      <td>48.0</td>\n",
       "      <td>46</td>\n",
       "      <td>2</td>\n",
       "      <td>0</td>\n",
       "    </tr>\n",
       "    <tr>\n",
       "      <th>2183</th>\n",
       "      <td>Yécora</td>\n",
       "      <td>Mujeres</td>\n",
       "      <td>12 años</td>\n",
       "      <td>43.0</td>\n",
       "      <td>43</td>\n",
       "      <td>0</td>\n",
       "      <td>0</td>\n",
       "    </tr>\n",
       "    <tr>\n",
       "      <th>2184</th>\n",
       "      <td>Yécora</td>\n",
       "      <td>Mujeres</td>\n",
       "      <td>13 años</td>\n",
       "      <td>48.0</td>\n",
       "      <td>47</td>\n",
       "      <td>1</td>\n",
       "      <td>0</td>\n",
       "    </tr>\n",
       "    <tr>\n",
       "      <th>2185</th>\n",
       "      <td>Yécora</td>\n",
       "      <td>Mujeres</td>\n",
       "      <td>14 años</td>\n",
       "      <td>57.0</td>\n",
       "      <td>54</td>\n",
       "      <td>3</td>\n",
       "      <td>0</td>\n",
       "    </tr>\n",
       "  </tbody>\n",
       "</table>\n",
       "<p>1290 rows × 7 columns</p>\n",
       "</div>"
      ],
      "text/plain": [
       "     Municipio     Sexo Edad desplegada  Población de 6 a 14 años  \\\n",
       "43     Aconchi  Hombres         06 años                      20.0   \n",
       "44     Aconchi  Hombres         07 años                      23.0   \n",
       "45     Aconchi  Hombres         08 años                      21.0   \n",
       "46     Aconchi  Hombres         09 años                      18.0   \n",
       "47     Aconchi  Hombres         10 años                      30.0   \n",
       "...        ...      ...             ...                       ...   \n",
       "2181    Yécora  Mujeres         10 años                      51.0   \n",
       "2182    Yécora  Mujeres         11 años                      48.0   \n",
       "2183    Yécora  Mujeres         12 años                      43.0   \n",
       "2184    Yécora  Mujeres         13 años                      48.0   \n",
       "2185    Yécora  Mujeres         14 años                      57.0   \n",
       "\n",
       "      Sabe leer y escribir  No sabe leer y escribir  No especificado  \n",
       "43                       8                       12                0  \n",
       "44                      18                        5                0  \n",
       "45                      20                        1                0  \n",
       "46                      17                        1                0  \n",
       "47                      30                        0                0  \n",
       "...                    ...                      ...              ...  \n",
       "2181                    48                        3                0  \n",
       "2182                    46                        2                0  \n",
       "2183                    43                        0                0  \n",
       "2184                    47                        1                0  \n",
       "2185                    54                        3                0  \n",
       "\n",
       "[1290 rows x 7 columns]"
      ]
     },
     "execution_count": 235,
     "metadata": {},
     "output_type": "execute_result"
    }
   ],
   "source": [
    "#Listo, ya tenemos los datos para analizarlos\n",
    "censo_educacion"
   ]
  },
  {
   "cell_type": "code",
   "execution_count": 236,
   "metadata": {},
   "outputs": [],
   "source": [
    "censo_educacion.to_csv('../data_clean/datos_netos_analfabetismo.csv')"
   ]
  },
  {
   "cell_type": "markdown",
   "metadata": {},
   "source": [
    "### Análisis de Datos Exploratorio"
   ]
  },
  {
   "cell_type": "code",
   "execution_count": 237,
   "metadata": {},
   "outputs": [
    {
     "data": {
      "application/vnd.plotly.v1+json": {
       "config": {
        "plotlyServerURL": "https://plot.ly"
       },
       "data": [
        {
         "alignmentgroup": "True",
         "hovertemplate": "Número de personas=%{x}<br>=%{y}<extra></extra>",
         "legendgroup": "",
         "marker": {
          "color": "#636efa",
          "pattern": {
           "shape": ""
          }
         },
         "name": "",
         "offsetgroup": "",
         "orientation": "h",
         "showlegend": false,
         "textposition": "auto",
         "type": "bar",
         "x": [
          408131,
          46085,
          2205
         ],
         "xaxis": "x",
         "y": [
          "Sabe leer y escribir",
          "No sabe leer y escribir",
          "No especificado"
         ],
         "yaxis": "y"
        }
       ],
       "layout": {
        "barmode": "relative",
        "legend": {
         "tracegroupgap": 0
        },
        "template": {
         "data": {
          "bar": [
           {
            "error_x": {
             "color": "#2a3f5f"
            },
            "error_y": {
             "color": "#2a3f5f"
            },
            "marker": {
             "line": {
              "color": "#E5ECF6",
              "width": 0.5
             },
             "pattern": {
              "fillmode": "overlay",
              "size": 10,
              "solidity": 0.2
             }
            },
            "type": "bar"
           }
          ],
          "barpolar": [
           {
            "marker": {
             "line": {
              "color": "#E5ECF6",
              "width": 0.5
             },
             "pattern": {
              "fillmode": "overlay",
              "size": 10,
              "solidity": 0.2
             }
            },
            "type": "barpolar"
           }
          ],
          "carpet": [
           {
            "aaxis": {
             "endlinecolor": "#2a3f5f",
             "gridcolor": "white",
             "linecolor": "white",
             "minorgridcolor": "white",
             "startlinecolor": "#2a3f5f"
            },
            "baxis": {
             "endlinecolor": "#2a3f5f",
             "gridcolor": "white",
             "linecolor": "white",
             "minorgridcolor": "white",
             "startlinecolor": "#2a3f5f"
            },
            "type": "carpet"
           }
          ],
          "choropleth": [
           {
            "colorbar": {
             "outlinewidth": 0,
             "ticks": ""
            },
            "type": "choropleth"
           }
          ],
          "contour": [
           {
            "colorbar": {
             "outlinewidth": 0,
             "ticks": ""
            },
            "colorscale": [
             [
              0,
              "#0d0887"
             ],
             [
              0.1111111111111111,
              "#46039f"
             ],
             [
              0.2222222222222222,
              "#7201a8"
             ],
             [
              0.3333333333333333,
              "#9c179e"
             ],
             [
              0.4444444444444444,
              "#bd3786"
             ],
             [
              0.5555555555555556,
              "#d8576b"
             ],
             [
              0.6666666666666666,
              "#ed7953"
             ],
             [
              0.7777777777777778,
              "#fb9f3a"
             ],
             [
              0.8888888888888888,
              "#fdca26"
             ],
             [
              1,
              "#f0f921"
             ]
            ],
            "type": "contour"
           }
          ],
          "contourcarpet": [
           {
            "colorbar": {
             "outlinewidth": 0,
             "ticks": ""
            },
            "type": "contourcarpet"
           }
          ],
          "heatmap": [
           {
            "colorbar": {
             "outlinewidth": 0,
             "ticks": ""
            },
            "colorscale": [
             [
              0,
              "#0d0887"
             ],
             [
              0.1111111111111111,
              "#46039f"
             ],
             [
              0.2222222222222222,
              "#7201a8"
             ],
             [
              0.3333333333333333,
              "#9c179e"
             ],
             [
              0.4444444444444444,
              "#bd3786"
             ],
             [
              0.5555555555555556,
              "#d8576b"
             ],
             [
              0.6666666666666666,
              "#ed7953"
             ],
             [
              0.7777777777777778,
              "#fb9f3a"
             ],
             [
              0.8888888888888888,
              "#fdca26"
             ],
             [
              1,
              "#f0f921"
             ]
            ],
            "type": "heatmap"
           }
          ],
          "heatmapgl": [
           {
            "colorbar": {
             "outlinewidth": 0,
             "ticks": ""
            },
            "colorscale": [
             [
              0,
              "#0d0887"
             ],
             [
              0.1111111111111111,
              "#46039f"
             ],
             [
              0.2222222222222222,
              "#7201a8"
             ],
             [
              0.3333333333333333,
              "#9c179e"
             ],
             [
              0.4444444444444444,
              "#bd3786"
             ],
             [
              0.5555555555555556,
              "#d8576b"
             ],
             [
              0.6666666666666666,
              "#ed7953"
             ],
             [
              0.7777777777777778,
              "#fb9f3a"
             ],
             [
              0.8888888888888888,
              "#fdca26"
             ],
             [
              1,
              "#f0f921"
             ]
            ],
            "type": "heatmapgl"
           }
          ],
          "histogram": [
           {
            "marker": {
             "pattern": {
              "fillmode": "overlay",
              "size": 10,
              "solidity": 0.2
             }
            },
            "type": "histogram"
           }
          ],
          "histogram2d": [
           {
            "colorbar": {
             "outlinewidth": 0,
             "ticks": ""
            },
            "colorscale": [
             [
              0,
              "#0d0887"
             ],
             [
              0.1111111111111111,
              "#46039f"
             ],
             [
              0.2222222222222222,
              "#7201a8"
             ],
             [
              0.3333333333333333,
              "#9c179e"
             ],
             [
              0.4444444444444444,
              "#bd3786"
             ],
             [
              0.5555555555555556,
              "#d8576b"
             ],
             [
              0.6666666666666666,
              "#ed7953"
             ],
             [
              0.7777777777777778,
              "#fb9f3a"
             ],
             [
              0.8888888888888888,
              "#fdca26"
             ],
             [
              1,
              "#f0f921"
             ]
            ],
            "type": "histogram2d"
           }
          ],
          "histogram2dcontour": [
           {
            "colorbar": {
             "outlinewidth": 0,
             "ticks": ""
            },
            "colorscale": [
             [
              0,
              "#0d0887"
             ],
             [
              0.1111111111111111,
              "#46039f"
             ],
             [
              0.2222222222222222,
              "#7201a8"
             ],
             [
              0.3333333333333333,
              "#9c179e"
             ],
             [
              0.4444444444444444,
              "#bd3786"
             ],
             [
              0.5555555555555556,
              "#d8576b"
             ],
             [
              0.6666666666666666,
              "#ed7953"
             ],
             [
              0.7777777777777778,
              "#fb9f3a"
             ],
             [
              0.8888888888888888,
              "#fdca26"
             ],
             [
              1,
              "#f0f921"
             ]
            ],
            "type": "histogram2dcontour"
           }
          ],
          "mesh3d": [
           {
            "colorbar": {
             "outlinewidth": 0,
             "ticks": ""
            },
            "type": "mesh3d"
           }
          ],
          "parcoords": [
           {
            "line": {
             "colorbar": {
              "outlinewidth": 0,
              "ticks": ""
             }
            },
            "type": "parcoords"
           }
          ],
          "pie": [
           {
            "automargin": true,
            "type": "pie"
           }
          ],
          "scatter": [
           {
            "fillpattern": {
             "fillmode": "overlay",
             "size": 10,
             "solidity": 0.2
            },
            "type": "scatter"
           }
          ],
          "scatter3d": [
           {
            "line": {
             "colorbar": {
              "outlinewidth": 0,
              "ticks": ""
             }
            },
            "marker": {
             "colorbar": {
              "outlinewidth": 0,
              "ticks": ""
             }
            },
            "type": "scatter3d"
           }
          ],
          "scattercarpet": [
           {
            "marker": {
             "colorbar": {
              "outlinewidth": 0,
              "ticks": ""
             }
            },
            "type": "scattercarpet"
           }
          ],
          "scattergeo": [
           {
            "marker": {
             "colorbar": {
              "outlinewidth": 0,
              "ticks": ""
             }
            },
            "type": "scattergeo"
           }
          ],
          "scattergl": [
           {
            "marker": {
             "colorbar": {
              "outlinewidth": 0,
              "ticks": ""
             }
            },
            "type": "scattergl"
           }
          ],
          "scattermapbox": [
           {
            "marker": {
             "colorbar": {
              "outlinewidth": 0,
              "ticks": ""
             }
            },
            "type": "scattermapbox"
           }
          ],
          "scatterpolar": [
           {
            "marker": {
             "colorbar": {
              "outlinewidth": 0,
              "ticks": ""
             }
            },
            "type": "scatterpolar"
           }
          ],
          "scatterpolargl": [
           {
            "marker": {
             "colorbar": {
              "outlinewidth": 0,
              "ticks": ""
             }
            },
            "type": "scatterpolargl"
           }
          ],
          "scatterternary": [
           {
            "marker": {
             "colorbar": {
              "outlinewidth": 0,
              "ticks": ""
             }
            },
            "type": "scatterternary"
           }
          ],
          "surface": [
           {
            "colorbar": {
             "outlinewidth": 0,
             "ticks": ""
            },
            "colorscale": [
             [
              0,
              "#0d0887"
             ],
             [
              0.1111111111111111,
              "#46039f"
             ],
             [
              0.2222222222222222,
              "#7201a8"
             ],
             [
              0.3333333333333333,
              "#9c179e"
             ],
             [
              0.4444444444444444,
              "#bd3786"
             ],
             [
              0.5555555555555556,
              "#d8576b"
             ],
             [
              0.6666666666666666,
              "#ed7953"
             ],
             [
              0.7777777777777778,
              "#fb9f3a"
             ],
             [
              0.8888888888888888,
              "#fdca26"
             ],
             [
              1,
              "#f0f921"
             ]
            ],
            "type": "surface"
           }
          ],
          "table": [
           {
            "cells": {
             "fill": {
              "color": "#EBF0F8"
             },
             "line": {
              "color": "white"
             }
            },
            "header": {
             "fill": {
              "color": "#C8D4E3"
             },
             "line": {
              "color": "white"
             }
            },
            "type": "table"
           }
          ]
         },
         "layout": {
          "annotationdefaults": {
           "arrowcolor": "#2a3f5f",
           "arrowhead": 0,
           "arrowwidth": 1
          },
          "autotypenumbers": "strict",
          "coloraxis": {
           "colorbar": {
            "outlinewidth": 0,
            "ticks": ""
           }
          },
          "colorscale": {
           "diverging": [
            [
             0,
             "#8e0152"
            ],
            [
             0.1,
             "#c51b7d"
            ],
            [
             0.2,
             "#de77ae"
            ],
            [
             0.3,
             "#f1b6da"
            ],
            [
             0.4,
             "#fde0ef"
            ],
            [
             0.5,
             "#f7f7f7"
            ],
            [
             0.6,
             "#e6f5d0"
            ],
            [
             0.7,
             "#b8e186"
            ],
            [
             0.8,
             "#7fbc41"
            ],
            [
             0.9,
             "#4d9221"
            ],
            [
             1,
             "#276419"
            ]
           ],
           "sequential": [
            [
             0,
             "#0d0887"
            ],
            [
             0.1111111111111111,
             "#46039f"
            ],
            [
             0.2222222222222222,
             "#7201a8"
            ],
            [
             0.3333333333333333,
             "#9c179e"
            ],
            [
             0.4444444444444444,
             "#bd3786"
            ],
            [
             0.5555555555555556,
             "#d8576b"
            ],
            [
             0.6666666666666666,
             "#ed7953"
            ],
            [
             0.7777777777777778,
             "#fb9f3a"
            ],
            [
             0.8888888888888888,
             "#fdca26"
            ],
            [
             1,
             "#f0f921"
            ]
           ],
           "sequentialminus": [
            [
             0,
             "#0d0887"
            ],
            [
             0.1111111111111111,
             "#46039f"
            ],
            [
             0.2222222222222222,
             "#7201a8"
            ],
            [
             0.3333333333333333,
             "#9c179e"
            ],
            [
             0.4444444444444444,
             "#bd3786"
            ],
            [
             0.5555555555555556,
             "#d8576b"
            ],
            [
             0.6666666666666666,
             "#ed7953"
            ],
            [
             0.7777777777777778,
             "#fb9f3a"
            ],
            [
             0.8888888888888888,
             "#fdca26"
            ],
            [
             1,
             "#f0f921"
            ]
           ]
          },
          "colorway": [
           "#636efa",
           "#EF553B",
           "#00cc96",
           "#ab63fa",
           "#FFA15A",
           "#19d3f3",
           "#FF6692",
           "#B6E880",
           "#FF97FF",
           "#FECB52"
          ],
          "font": {
           "color": "#2a3f5f"
          },
          "geo": {
           "bgcolor": "white",
           "lakecolor": "white",
           "landcolor": "#E5ECF6",
           "showlakes": true,
           "showland": true,
           "subunitcolor": "white"
          },
          "hoverlabel": {
           "align": "left"
          },
          "hovermode": "closest",
          "mapbox": {
           "style": "light"
          },
          "paper_bgcolor": "white",
          "plot_bgcolor": "#E5ECF6",
          "polar": {
           "angularaxis": {
            "gridcolor": "white",
            "linecolor": "white",
            "ticks": ""
           },
           "bgcolor": "#E5ECF6",
           "radialaxis": {
            "gridcolor": "white",
            "linecolor": "white",
            "ticks": ""
           }
          },
          "scene": {
           "xaxis": {
            "backgroundcolor": "#E5ECF6",
            "gridcolor": "white",
            "gridwidth": 2,
            "linecolor": "white",
            "showbackground": true,
            "ticks": "",
            "zerolinecolor": "white"
           },
           "yaxis": {
            "backgroundcolor": "#E5ECF6",
            "gridcolor": "white",
            "gridwidth": 2,
            "linecolor": "white",
            "showbackground": true,
            "ticks": "",
            "zerolinecolor": "white"
           },
           "zaxis": {
            "backgroundcolor": "#E5ECF6",
            "gridcolor": "white",
            "gridwidth": 2,
            "linecolor": "white",
            "showbackground": true,
            "ticks": "",
            "zerolinecolor": "white"
           }
          },
          "shapedefaults": {
           "line": {
            "color": "#2a3f5f"
           }
          },
          "ternary": {
           "aaxis": {
            "gridcolor": "white",
            "linecolor": "white",
            "ticks": ""
           },
           "baxis": {
            "gridcolor": "white",
            "linecolor": "white",
            "ticks": ""
           },
           "bgcolor": "#E5ECF6",
           "caxis": {
            "gridcolor": "white",
            "linecolor": "white",
            "ticks": ""
           }
          },
          "title": {
           "x": 0.05
          },
          "xaxis": {
           "automargin": true,
           "gridcolor": "white",
           "linecolor": "white",
           "ticks": "",
           "title": {
            "standoff": 15
           },
           "zerolinecolor": "white",
           "zerolinewidth": 2
          },
          "yaxis": {
           "automargin": true,
           "gridcolor": "white",
           "linecolor": "white",
           "ticks": "",
           "title": {
            "standoff": 15
           },
           "zerolinecolor": "white",
           "zerolinewidth": 2
          }
         }
        },
        "title": {
         "text": "Población Sonorense de 6 a 14 años desplegada según su aptitud para leer y escribir"
        },
        "xaxis": {
         "anchor": "y",
         "domain": [
          0,
          1
         ],
         "title": {
          "text": "Número de personas"
         }
        },
        "yaxis": {
         "anchor": "x",
         "domain": [
          0,
          1
         ],
         "title": {
          "text": ""
         }
        }
       }
      }
     },
     "metadata": {},
     "output_type": "display_data"
    }
   ],
   "source": [
    "#Primero empezaremos viendo el panorama general de todos los municipios de Sonora\n",
    "dff = censo_educacion[['Sabe leer y escribir', 'No sabe leer y escribir', 'No especificado']].sum()\n",
    "fig = px.bar(dff, x=dff.values, y=dff.index, orientation='h',title = 'Población Sonorense de 6 a 14 años desplegada según su aptitud para leer y escribir',\n",
    "            labels = {'index':\"\",\n",
    "                        \"x\": \"Número de personas\" })\n",
    "fig.show()"
   ]
  },
  {
   "cell_type": "code",
   "execution_count": 238,
   "metadata": {},
   "outputs": [
    {
     "data": {
      "application/vnd.plotly.v1+json": {
       "config": {
        "plotlyServerURL": "https://plot.ly"
       },
       "data": [
        {
         "alignmentgroup": "True",
         "hovertemplate": "Sexo=Hombres<br>Número de personas=%{x}<br>=%{y}<extra></extra>",
         "legendgroup": "Hombres",
         "marker": {
          "color": "#636efa",
          "pattern": {
           "shape": ""
          }
         },
         "name": "Hombres",
         "offsetgroup": "Hombres",
         "orientation": "h",
         "showlegend": true,
         "textposition": "auto",
         "type": "bar",
         "x": [
          206661,
          24711,
          1131
         ],
         "xaxis": "x",
         "y": [
          "Sabe leer y escribir",
          "No sabe leer y escribir",
          "No especificado"
         ],
         "yaxis": "y"
        },
        {
         "alignmentgroup": "True",
         "hovertemplate": "Sexo=Mujeres<br>Número de personas=%{x}<br>=%{y}<extra></extra>",
         "legendgroup": "Mujeres",
         "marker": {
          "color": "#EF553B",
          "pattern": {
           "shape": ""
          }
         },
         "name": "Mujeres",
         "offsetgroup": "Mujeres",
         "orientation": "h",
         "showlegend": true,
         "textposition": "auto",
         "type": "bar",
         "x": [
          201470,
          21374,
          1074
         ],
         "xaxis": "x",
         "y": [
          "Sabe leer y escribir",
          "No sabe leer y escribir",
          "No especificado"
         ],
         "yaxis": "y"
        }
       ],
       "layout": {
        "barmode": "relative",
        "legend": {
         "title": {
          "text": "Sexo"
         },
         "tracegroupgap": 0
        },
        "template": {
         "data": {
          "bar": [
           {
            "error_x": {
             "color": "#2a3f5f"
            },
            "error_y": {
             "color": "#2a3f5f"
            },
            "marker": {
             "line": {
              "color": "#E5ECF6",
              "width": 0.5
             },
             "pattern": {
              "fillmode": "overlay",
              "size": 10,
              "solidity": 0.2
             }
            },
            "type": "bar"
           }
          ],
          "barpolar": [
           {
            "marker": {
             "line": {
              "color": "#E5ECF6",
              "width": 0.5
             },
             "pattern": {
              "fillmode": "overlay",
              "size": 10,
              "solidity": 0.2
             }
            },
            "type": "barpolar"
           }
          ],
          "carpet": [
           {
            "aaxis": {
             "endlinecolor": "#2a3f5f",
             "gridcolor": "white",
             "linecolor": "white",
             "minorgridcolor": "white",
             "startlinecolor": "#2a3f5f"
            },
            "baxis": {
             "endlinecolor": "#2a3f5f",
             "gridcolor": "white",
             "linecolor": "white",
             "minorgridcolor": "white",
             "startlinecolor": "#2a3f5f"
            },
            "type": "carpet"
           }
          ],
          "choropleth": [
           {
            "colorbar": {
             "outlinewidth": 0,
             "ticks": ""
            },
            "type": "choropleth"
           }
          ],
          "contour": [
           {
            "colorbar": {
             "outlinewidth": 0,
             "ticks": ""
            },
            "colorscale": [
             [
              0,
              "#0d0887"
             ],
             [
              0.1111111111111111,
              "#46039f"
             ],
             [
              0.2222222222222222,
              "#7201a8"
             ],
             [
              0.3333333333333333,
              "#9c179e"
             ],
             [
              0.4444444444444444,
              "#bd3786"
             ],
             [
              0.5555555555555556,
              "#d8576b"
             ],
             [
              0.6666666666666666,
              "#ed7953"
             ],
             [
              0.7777777777777778,
              "#fb9f3a"
             ],
             [
              0.8888888888888888,
              "#fdca26"
             ],
             [
              1,
              "#f0f921"
             ]
            ],
            "type": "contour"
           }
          ],
          "contourcarpet": [
           {
            "colorbar": {
             "outlinewidth": 0,
             "ticks": ""
            },
            "type": "contourcarpet"
           }
          ],
          "heatmap": [
           {
            "colorbar": {
             "outlinewidth": 0,
             "ticks": ""
            },
            "colorscale": [
             [
              0,
              "#0d0887"
             ],
             [
              0.1111111111111111,
              "#46039f"
             ],
             [
              0.2222222222222222,
              "#7201a8"
             ],
             [
              0.3333333333333333,
              "#9c179e"
             ],
             [
              0.4444444444444444,
              "#bd3786"
             ],
             [
              0.5555555555555556,
              "#d8576b"
             ],
             [
              0.6666666666666666,
              "#ed7953"
             ],
             [
              0.7777777777777778,
              "#fb9f3a"
             ],
             [
              0.8888888888888888,
              "#fdca26"
             ],
             [
              1,
              "#f0f921"
             ]
            ],
            "type": "heatmap"
           }
          ],
          "heatmapgl": [
           {
            "colorbar": {
             "outlinewidth": 0,
             "ticks": ""
            },
            "colorscale": [
             [
              0,
              "#0d0887"
             ],
             [
              0.1111111111111111,
              "#46039f"
             ],
             [
              0.2222222222222222,
              "#7201a8"
             ],
             [
              0.3333333333333333,
              "#9c179e"
             ],
             [
              0.4444444444444444,
              "#bd3786"
             ],
             [
              0.5555555555555556,
              "#d8576b"
             ],
             [
              0.6666666666666666,
              "#ed7953"
             ],
             [
              0.7777777777777778,
              "#fb9f3a"
             ],
             [
              0.8888888888888888,
              "#fdca26"
             ],
             [
              1,
              "#f0f921"
             ]
            ],
            "type": "heatmapgl"
           }
          ],
          "histogram": [
           {
            "marker": {
             "pattern": {
              "fillmode": "overlay",
              "size": 10,
              "solidity": 0.2
             }
            },
            "type": "histogram"
           }
          ],
          "histogram2d": [
           {
            "colorbar": {
             "outlinewidth": 0,
             "ticks": ""
            },
            "colorscale": [
             [
              0,
              "#0d0887"
             ],
             [
              0.1111111111111111,
              "#46039f"
             ],
             [
              0.2222222222222222,
              "#7201a8"
             ],
             [
              0.3333333333333333,
              "#9c179e"
             ],
             [
              0.4444444444444444,
              "#bd3786"
             ],
             [
              0.5555555555555556,
              "#d8576b"
             ],
             [
              0.6666666666666666,
              "#ed7953"
             ],
             [
              0.7777777777777778,
              "#fb9f3a"
             ],
             [
              0.8888888888888888,
              "#fdca26"
             ],
             [
              1,
              "#f0f921"
             ]
            ],
            "type": "histogram2d"
           }
          ],
          "histogram2dcontour": [
           {
            "colorbar": {
             "outlinewidth": 0,
             "ticks": ""
            },
            "colorscale": [
             [
              0,
              "#0d0887"
             ],
             [
              0.1111111111111111,
              "#46039f"
             ],
             [
              0.2222222222222222,
              "#7201a8"
             ],
             [
              0.3333333333333333,
              "#9c179e"
             ],
             [
              0.4444444444444444,
              "#bd3786"
             ],
             [
              0.5555555555555556,
              "#d8576b"
             ],
             [
              0.6666666666666666,
              "#ed7953"
             ],
             [
              0.7777777777777778,
              "#fb9f3a"
             ],
             [
              0.8888888888888888,
              "#fdca26"
             ],
             [
              1,
              "#f0f921"
             ]
            ],
            "type": "histogram2dcontour"
           }
          ],
          "mesh3d": [
           {
            "colorbar": {
             "outlinewidth": 0,
             "ticks": ""
            },
            "type": "mesh3d"
           }
          ],
          "parcoords": [
           {
            "line": {
             "colorbar": {
              "outlinewidth": 0,
              "ticks": ""
             }
            },
            "type": "parcoords"
           }
          ],
          "pie": [
           {
            "automargin": true,
            "type": "pie"
           }
          ],
          "scatter": [
           {
            "fillpattern": {
             "fillmode": "overlay",
             "size": 10,
             "solidity": 0.2
            },
            "type": "scatter"
           }
          ],
          "scatter3d": [
           {
            "line": {
             "colorbar": {
              "outlinewidth": 0,
              "ticks": ""
             }
            },
            "marker": {
             "colorbar": {
              "outlinewidth": 0,
              "ticks": ""
             }
            },
            "type": "scatter3d"
           }
          ],
          "scattercarpet": [
           {
            "marker": {
             "colorbar": {
              "outlinewidth": 0,
              "ticks": ""
             }
            },
            "type": "scattercarpet"
           }
          ],
          "scattergeo": [
           {
            "marker": {
             "colorbar": {
              "outlinewidth": 0,
              "ticks": ""
             }
            },
            "type": "scattergeo"
           }
          ],
          "scattergl": [
           {
            "marker": {
             "colorbar": {
              "outlinewidth": 0,
              "ticks": ""
             }
            },
            "type": "scattergl"
           }
          ],
          "scattermapbox": [
           {
            "marker": {
             "colorbar": {
              "outlinewidth": 0,
              "ticks": ""
             }
            },
            "type": "scattermapbox"
           }
          ],
          "scatterpolar": [
           {
            "marker": {
             "colorbar": {
              "outlinewidth": 0,
              "ticks": ""
             }
            },
            "type": "scatterpolar"
           }
          ],
          "scatterpolargl": [
           {
            "marker": {
             "colorbar": {
              "outlinewidth": 0,
              "ticks": ""
             }
            },
            "type": "scatterpolargl"
           }
          ],
          "scatterternary": [
           {
            "marker": {
             "colorbar": {
              "outlinewidth": 0,
              "ticks": ""
             }
            },
            "type": "scatterternary"
           }
          ],
          "surface": [
           {
            "colorbar": {
             "outlinewidth": 0,
             "ticks": ""
            },
            "colorscale": [
             [
              0,
              "#0d0887"
             ],
             [
              0.1111111111111111,
              "#46039f"
             ],
             [
              0.2222222222222222,
              "#7201a8"
             ],
             [
              0.3333333333333333,
              "#9c179e"
             ],
             [
              0.4444444444444444,
              "#bd3786"
             ],
             [
              0.5555555555555556,
              "#d8576b"
             ],
             [
              0.6666666666666666,
              "#ed7953"
             ],
             [
              0.7777777777777778,
              "#fb9f3a"
             ],
             [
              0.8888888888888888,
              "#fdca26"
             ],
             [
              1,
              "#f0f921"
             ]
            ],
            "type": "surface"
           }
          ],
          "table": [
           {
            "cells": {
             "fill": {
              "color": "#EBF0F8"
             },
             "line": {
              "color": "white"
             }
            },
            "header": {
             "fill": {
              "color": "#C8D4E3"
             },
             "line": {
              "color": "white"
             }
            },
            "type": "table"
           }
          ]
         },
         "layout": {
          "annotationdefaults": {
           "arrowcolor": "#2a3f5f",
           "arrowhead": 0,
           "arrowwidth": 1
          },
          "autotypenumbers": "strict",
          "coloraxis": {
           "colorbar": {
            "outlinewidth": 0,
            "ticks": ""
           }
          },
          "colorscale": {
           "diverging": [
            [
             0,
             "#8e0152"
            ],
            [
             0.1,
             "#c51b7d"
            ],
            [
             0.2,
             "#de77ae"
            ],
            [
             0.3,
             "#f1b6da"
            ],
            [
             0.4,
             "#fde0ef"
            ],
            [
             0.5,
             "#f7f7f7"
            ],
            [
             0.6,
             "#e6f5d0"
            ],
            [
             0.7,
             "#b8e186"
            ],
            [
             0.8,
             "#7fbc41"
            ],
            [
             0.9,
             "#4d9221"
            ],
            [
             1,
             "#276419"
            ]
           ],
           "sequential": [
            [
             0,
             "#0d0887"
            ],
            [
             0.1111111111111111,
             "#46039f"
            ],
            [
             0.2222222222222222,
             "#7201a8"
            ],
            [
             0.3333333333333333,
             "#9c179e"
            ],
            [
             0.4444444444444444,
             "#bd3786"
            ],
            [
             0.5555555555555556,
             "#d8576b"
            ],
            [
             0.6666666666666666,
             "#ed7953"
            ],
            [
             0.7777777777777778,
             "#fb9f3a"
            ],
            [
             0.8888888888888888,
             "#fdca26"
            ],
            [
             1,
             "#f0f921"
            ]
           ],
           "sequentialminus": [
            [
             0,
             "#0d0887"
            ],
            [
             0.1111111111111111,
             "#46039f"
            ],
            [
             0.2222222222222222,
             "#7201a8"
            ],
            [
             0.3333333333333333,
             "#9c179e"
            ],
            [
             0.4444444444444444,
             "#bd3786"
            ],
            [
             0.5555555555555556,
             "#d8576b"
            ],
            [
             0.6666666666666666,
             "#ed7953"
            ],
            [
             0.7777777777777778,
             "#fb9f3a"
            ],
            [
             0.8888888888888888,
             "#fdca26"
            ],
            [
             1,
             "#f0f921"
            ]
           ]
          },
          "colorway": [
           "#636efa",
           "#EF553B",
           "#00cc96",
           "#ab63fa",
           "#FFA15A",
           "#19d3f3",
           "#FF6692",
           "#B6E880",
           "#FF97FF",
           "#FECB52"
          ],
          "font": {
           "color": "#2a3f5f"
          },
          "geo": {
           "bgcolor": "white",
           "lakecolor": "white",
           "landcolor": "#E5ECF6",
           "showlakes": true,
           "showland": true,
           "subunitcolor": "white"
          },
          "hoverlabel": {
           "align": "left"
          },
          "hovermode": "closest",
          "mapbox": {
           "style": "light"
          },
          "paper_bgcolor": "white",
          "plot_bgcolor": "#E5ECF6",
          "polar": {
           "angularaxis": {
            "gridcolor": "white",
            "linecolor": "white",
            "ticks": ""
           },
           "bgcolor": "#E5ECF6",
           "radialaxis": {
            "gridcolor": "white",
            "linecolor": "white",
            "ticks": ""
           }
          },
          "scene": {
           "xaxis": {
            "backgroundcolor": "#E5ECF6",
            "gridcolor": "white",
            "gridwidth": 2,
            "linecolor": "white",
            "showbackground": true,
            "ticks": "",
            "zerolinecolor": "white"
           },
           "yaxis": {
            "backgroundcolor": "#E5ECF6",
            "gridcolor": "white",
            "gridwidth": 2,
            "linecolor": "white",
            "showbackground": true,
            "ticks": "",
            "zerolinecolor": "white"
           },
           "zaxis": {
            "backgroundcolor": "#E5ECF6",
            "gridcolor": "white",
            "gridwidth": 2,
            "linecolor": "white",
            "showbackground": true,
            "ticks": "",
            "zerolinecolor": "white"
           }
          },
          "shapedefaults": {
           "line": {
            "color": "#2a3f5f"
           }
          },
          "ternary": {
           "aaxis": {
            "gridcolor": "white",
            "linecolor": "white",
            "ticks": ""
           },
           "baxis": {
            "gridcolor": "white",
            "linecolor": "white",
            "ticks": ""
           },
           "bgcolor": "#E5ECF6",
           "caxis": {
            "gridcolor": "white",
            "linecolor": "white",
            "ticks": ""
           }
          },
          "title": {
           "x": 0.05
          },
          "xaxis": {
           "automargin": true,
           "gridcolor": "white",
           "linecolor": "white",
           "ticks": "",
           "title": {
            "standoff": 15
           },
           "zerolinecolor": "white",
           "zerolinewidth": 2
          },
          "yaxis": {
           "automargin": true,
           "gridcolor": "white",
           "linecolor": "white",
           "ticks": "",
           "title": {
            "standoff": 15
           },
           "zerolinecolor": "white",
           "zerolinewidth": 2
          }
         }
        },
        "title": {
         "text": "Población Sonorense de 6 a 14 años, por Sexo desplegada según su aptitud para leer y escribir"
        },
        "xaxis": {
         "anchor": "y",
         "domain": [
          0,
          1
         ],
         "title": {
          "text": "Número de personas"
         }
        },
        "yaxis": {
         "anchor": "x",
         "domain": [
          0,
          1
         ],
         "title": {
          "text": ""
         }
        }
       }
      }
     },
     "metadata": {},
     "output_type": "display_data"
    }
   ],
   "source": [
    "#Primero empezaremos viendo el panorama general de todos los municipios de Sonora\n",
    "\n",
    "dff = censo_educacion.groupby('Sexo')[['Sabe leer y escribir', 'No sabe leer y escribir', 'No especificado']].sum().reset_index()\n",
    "dff = pd.melt(dff, value_vars=['Sabe leer y escribir', 'No sabe leer y escribir', 'No especificado'], id_vars=['Sexo'])\n",
    "dff\n",
    "fig = px.bar(dff, x='value', y='variable', color='Sexo', orientation='h',title = 'Población Sonorense de 6 a 14 años, por Sexo desplegada según su aptitud para leer y escribir',\n",
    "            labels = {'variable':\"\",\n",
    "                        \"value\": \"Número de personas\" })\n",
    "fig.show()"
   ]
  },
  {
   "cell_type": "code",
   "execution_count": 239,
   "metadata": {},
   "outputs": [
    {
     "data": {
      "application/vnd.plotly.v1+json": {
       "config": {
        "plotlyServerURL": "https://plot.ly"
       },
       "data": [
        {
         "alignmentgroup": "True",
         "hovertemplate": "Edad=06 años<br>Número de personas=%{x}<br>=%{y}<extra></extra>",
         "legendgroup": "06 años",
         "marker": {
          "color": "#636efa",
          "pattern": {
           "shape": ""
          }
         },
         "name": "06 años",
         "offsetgroup": "06 años",
         "orientation": "h",
         "showlegend": true,
         "textposition": "auto",
         "type": "bar",
         "x": [
          20955,
          27371,
          235
         ],
         "xaxis": "x",
         "y": [
          "Sabe leer y escribir",
          "No sabe leer y escribir",
          "No especificado"
         ],
         "yaxis": "y"
        },
        {
         "alignmentgroup": "True",
         "hovertemplate": "Edad=07 años<br>Número de personas=%{x}<br>=%{y}<extra></extra>",
         "legendgroup": "07 años",
         "marker": {
          "color": "#EF553B",
          "pattern": {
           "shape": ""
          }
         },
         "name": "07 años",
         "offsetgroup": "07 años",
         "orientation": "h",
         "showlegend": true,
         "textposition": "auto",
         "type": "bar",
         "x": [
          38445,
          10530,
          289
         ],
         "xaxis": "x",
         "y": [
          "Sabe leer y escribir",
          "No sabe leer y escribir",
          "No especificado"
         ],
         "yaxis": "y"
        },
        {
         "alignmentgroup": "True",
         "hovertemplate": "Edad=08 años<br>Número de personas=%{x}<br>=%{y}<extra></extra>",
         "legendgroup": "08 años",
         "marker": {
          "color": "#00cc96",
          "pattern": {
           "shape": ""
          }
         },
         "name": "08 años",
         "offsetgroup": "08 años",
         "orientation": "h",
         "showlegend": true,
         "textposition": "auto",
         "type": "bar",
         "x": [
          46386,
          4247,
          397
         ],
         "xaxis": "x",
         "y": [
          "Sabe leer y escribir",
          "No sabe leer y escribir",
          "No especificado"
         ],
         "yaxis": "y"
        },
        {
         "alignmentgroup": "True",
         "hovertemplate": "Edad=09 años<br>Número de personas=%{x}<br>=%{y}<extra></extra>",
         "legendgroup": "09 años",
         "marker": {
          "color": "#ab63fa",
          "pattern": {
           "shape": ""
          }
         },
         "name": "09 años",
         "offsetgroup": "09 años",
         "orientation": "h",
         "showlegend": true,
         "textposition": "auto",
         "type": "bar",
         "x": [
          46529,
          1887,
          359
         ],
         "xaxis": "x",
         "y": [
          "Sabe leer y escribir",
          "No sabe leer y escribir",
          "No especificado"
         ],
         "yaxis": "y"
        },
        {
         "alignmentgroup": "True",
         "hovertemplate": "Edad=10 años<br>Número de personas=%{x}<br>=%{y}<extra></extra>",
         "legendgroup": "10 años",
         "marker": {
          "color": "#FFA15A",
          "pattern": {
           "shape": ""
          }
         },
         "name": "10 años",
         "offsetgroup": "10 años",
         "orientation": "h",
         "showlegend": true,
         "textposition": "auto",
         "type": "bar",
         "x": [
          51404,
          843,
          347
         ],
         "xaxis": "x",
         "y": [
          "Sabe leer y escribir",
          "No sabe leer y escribir",
          "No especificado"
         ],
         "yaxis": "y"
        },
        {
         "alignmentgroup": "True",
         "hovertemplate": "Edad=11 años<br>Número de personas=%{x}<br>=%{y}<extra></extra>",
         "legendgroup": "11 años",
         "marker": {
          "color": "#19d3f3",
          "pattern": {
           "shape": ""
          }
         },
         "name": "11 años",
         "offsetgroup": "11 años",
         "orientation": "h",
         "showlegend": true,
         "textposition": "auto",
         "type": "bar",
         "x": [
          49131,
          416,
          100
         ],
         "xaxis": "x",
         "y": [
          "Sabe leer y escribir",
          "No sabe leer y escribir",
          "No especificado"
         ],
         "yaxis": "y"
        },
        {
         "alignmentgroup": "True",
         "hovertemplate": "Edad=12 años<br>Número de personas=%{x}<br>=%{y}<extra></extra>",
         "legendgroup": "12 años",
         "marker": {
          "color": "#FF6692",
          "pattern": {
           "shape": ""
          }
         },
         "name": "12 años",
         "offsetgroup": "12 años",
         "orientation": "h",
         "showlegend": true,
         "textposition": "auto",
         "type": "bar",
         "x": [
          53253,
          320,
          136
         ],
         "xaxis": "x",
         "y": [
          "Sabe leer y escribir",
          "No sabe leer y escribir",
          "No especificado"
         ],
         "yaxis": "y"
        },
        {
         "alignmentgroup": "True",
         "hovertemplate": "Edad=13 años<br>Número de personas=%{x}<br>=%{y}<extra></extra>",
         "legendgroup": "13 años",
         "marker": {
          "color": "#B6E880",
          "pattern": {
           "shape": ""
          }
         },
         "name": "13 años",
         "offsetgroup": "13 años",
         "orientation": "h",
         "showlegend": true,
         "textposition": "auto",
         "type": "bar",
         "x": [
          51240,
          251,
          269
         ],
         "xaxis": "x",
         "y": [
          "Sabe leer y escribir",
          "No sabe leer y escribir",
          "No especificado"
         ],
         "yaxis": "y"
        },
        {
         "alignmentgroup": "True",
         "hovertemplate": "Edad=14 años<br>Número de personas=%{x}<br>=%{y}<extra></extra>",
         "legendgroup": "14 años",
         "marker": {
          "color": "#FF97FF",
          "pattern": {
           "shape": ""
          }
         },
         "name": "14 años",
         "offsetgroup": "14 años",
         "orientation": "h",
         "showlegend": true,
         "textposition": "auto",
         "type": "bar",
         "x": [
          50788,
          220,
          73
         ],
         "xaxis": "x",
         "y": [
          "Sabe leer y escribir",
          "No sabe leer y escribir",
          "No especificado"
         ],
         "yaxis": "y"
        }
       ],
       "layout": {
        "barmode": "relative",
        "legend": {
         "title": {
          "text": "Edad"
         },
         "tracegroupgap": 0
        },
        "template": {
         "data": {
          "bar": [
           {
            "error_x": {
             "color": "#2a3f5f"
            },
            "error_y": {
             "color": "#2a3f5f"
            },
            "marker": {
             "line": {
              "color": "#E5ECF6",
              "width": 0.5
             },
             "pattern": {
              "fillmode": "overlay",
              "size": 10,
              "solidity": 0.2
             }
            },
            "type": "bar"
           }
          ],
          "barpolar": [
           {
            "marker": {
             "line": {
              "color": "#E5ECF6",
              "width": 0.5
             },
             "pattern": {
              "fillmode": "overlay",
              "size": 10,
              "solidity": 0.2
             }
            },
            "type": "barpolar"
           }
          ],
          "carpet": [
           {
            "aaxis": {
             "endlinecolor": "#2a3f5f",
             "gridcolor": "white",
             "linecolor": "white",
             "minorgridcolor": "white",
             "startlinecolor": "#2a3f5f"
            },
            "baxis": {
             "endlinecolor": "#2a3f5f",
             "gridcolor": "white",
             "linecolor": "white",
             "minorgridcolor": "white",
             "startlinecolor": "#2a3f5f"
            },
            "type": "carpet"
           }
          ],
          "choropleth": [
           {
            "colorbar": {
             "outlinewidth": 0,
             "ticks": ""
            },
            "type": "choropleth"
           }
          ],
          "contour": [
           {
            "colorbar": {
             "outlinewidth": 0,
             "ticks": ""
            },
            "colorscale": [
             [
              0,
              "#0d0887"
             ],
             [
              0.1111111111111111,
              "#46039f"
             ],
             [
              0.2222222222222222,
              "#7201a8"
             ],
             [
              0.3333333333333333,
              "#9c179e"
             ],
             [
              0.4444444444444444,
              "#bd3786"
             ],
             [
              0.5555555555555556,
              "#d8576b"
             ],
             [
              0.6666666666666666,
              "#ed7953"
             ],
             [
              0.7777777777777778,
              "#fb9f3a"
             ],
             [
              0.8888888888888888,
              "#fdca26"
             ],
             [
              1,
              "#f0f921"
             ]
            ],
            "type": "contour"
           }
          ],
          "contourcarpet": [
           {
            "colorbar": {
             "outlinewidth": 0,
             "ticks": ""
            },
            "type": "contourcarpet"
           }
          ],
          "heatmap": [
           {
            "colorbar": {
             "outlinewidth": 0,
             "ticks": ""
            },
            "colorscale": [
             [
              0,
              "#0d0887"
             ],
             [
              0.1111111111111111,
              "#46039f"
             ],
             [
              0.2222222222222222,
              "#7201a8"
             ],
             [
              0.3333333333333333,
              "#9c179e"
             ],
             [
              0.4444444444444444,
              "#bd3786"
             ],
             [
              0.5555555555555556,
              "#d8576b"
             ],
             [
              0.6666666666666666,
              "#ed7953"
             ],
             [
              0.7777777777777778,
              "#fb9f3a"
             ],
             [
              0.8888888888888888,
              "#fdca26"
             ],
             [
              1,
              "#f0f921"
             ]
            ],
            "type": "heatmap"
           }
          ],
          "heatmapgl": [
           {
            "colorbar": {
             "outlinewidth": 0,
             "ticks": ""
            },
            "colorscale": [
             [
              0,
              "#0d0887"
             ],
             [
              0.1111111111111111,
              "#46039f"
             ],
             [
              0.2222222222222222,
              "#7201a8"
             ],
             [
              0.3333333333333333,
              "#9c179e"
             ],
             [
              0.4444444444444444,
              "#bd3786"
             ],
             [
              0.5555555555555556,
              "#d8576b"
             ],
             [
              0.6666666666666666,
              "#ed7953"
             ],
             [
              0.7777777777777778,
              "#fb9f3a"
             ],
             [
              0.8888888888888888,
              "#fdca26"
             ],
             [
              1,
              "#f0f921"
             ]
            ],
            "type": "heatmapgl"
           }
          ],
          "histogram": [
           {
            "marker": {
             "pattern": {
              "fillmode": "overlay",
              "size": 10,
              "solidity": 0.2
             }
            },
            "type": "histogram"
           }
          ],
          "histogram2d": [
           {
            "colorbar": {
             "outlinewidth": 0,
             "ticks": ""
            },
            "colorscale": [
             [
              0,
              "#0d0887"
             ],
             [
              0.1111111111111111,
              "#46039f"
             ],
             [
              0.2222222222222222,
              "#7201a8"
             ],
             [
              0.3333333333333333,
              "#9c179e"
             ],
             [
              0.4444444444444444,
              "#bd3786"
             ],
             [
              0.5555555555555556,
              "#d8576b"
             ],
             [
              0.6666666666666666,
              "#ed7953"
             ],
             [
              0.7777777777777778,
              "#fb9f3a"
             ],
             [
              0.8888888888888888,
              "#fdca26"
             ],
             [
              1,
              "#f0f921"
             ]
            ],
            "type": "histogram2d"
           }
          ],
          "histogram2dcontour": [
           {
            "colorbar": {
             "outlinewidth": 0,
             "ticks": ""
            },
            "colorscale": [
             [
              0,
              "#0d0887"
             ],
             [
              0.1111111111111111,
              "#46039f"
             ],
             [
              0.2222222222222222,
              "#7201a8"
             ],
             [
              0.3333333333333333,
              "#9c179e"
             ],
             [
              0.4444444444444444,
              "#bd3786"
             ],
             [
              0.5555555555555556,
              "#d8576b"
             ],
             [
              0.6666666666666666,
              "#ed7953"
             ],
             [
              0.7777777777777778,
              "#fb9f3a"
             ],
             [
              0.8888888888888888,
              "#fdca26"
             ],
             [
              1,
              "#f0f921"
             ]
            ],
            "type": "histogram2dcontour"
           }
          ],
          "mesh3d": [
           {
            "colorbar": {
             "outlinewidth": 0,
             "ticks": ""
            },
            "type": "mesh3d"
           }
          ],
          "parcoords": [
           {
            "line": {
             "colorbar": {
              "outlinewidth": 0,
              "ticks": ""
             }
            },
            "type": "parcoords"
           }
          ],
          "pie": [
           {
            "automargin": true,
            "type": "pie"
           }
          ],
          "scatter": [
           {
            "fillpattern": {
             "fillmode": "overlay",
             "size": 10,
             "solidity": 0.2
            },
            "type": "scatter"
           }
          ],
          "scatter3d": [
           {
            "line": {
             "colorbar": {
              "outlinewidth": 0,
              "ticks": ""
             }
            },
            "marker": {
             "colorbar": {
              "outlinewidth": 0,
              "ticks": ""
             }
            },
            "type": "scatter3d"
           }
          ],
          "scattercarpet": [
           {
            "marker": {
             "colorbar": {
              "outlinewidth": 0,
              "ticks": ""
             }
            },
            "type": "scattercarpet"
           }
          ],
          "scattergeo": [
           {
            "marker": {
             "colorbar": {
              "outlinewidth": 0,
              "ticks": ""
             }
            },
            "type": "scattergeo"
           }
          ],
          "scattergl": [
           {
            "marker": {
             "colorbar": {
              "outlinewidth": 0,
              "ticks": ""
             }
            },
            "type": "scattergl"
           }
          ],
          "scattermapbox": [
           {
            "marker": {
             "colorbar": {
              "outlinewidth": 0,
              "ticks": ""
             }
            },
            "type": "scattermapbox"
           }
          ],
          "scatterpolar": [
           {
            "marker": {
             "colorbar": {
              "outlinewidth": 0,
              "ticks": ""
             }
            },
            "type": "scatterpolar"
           }
          ],
          "scatterpolargl": [
           {
            "marker": {
             "colorbar": {
              "outlinewidth": 0,
              "ticks": ""
             }
            },
            "type": "scatterpolargl"
           }
          ],
          "scatterternary": [
           {
            "marker": {
             "colorbar": {
              "outlinewidth": 0,
              "ticks": ""
             }
            },
            "type": "scatterternary"
           }
          ],
          "surface": [
           {
            "colorbar": {
             "outlinewidth": 0,
             "ticks": ""
            },
            "colorscale": [
             [
              0,
              "#0d0887"
             ],
             [
              0.1111111111111111,
              "#46039f"
             ],
             [
              0.2222222222222222,
              "#7201a8"
             ],
             [
              0.3333333333333333,
              "#9c179e"
             ],
             [
              0.4444444444444444,
              "#bd3786"
             ],
             [
              0.5555555555555556,
              "#d8576b"
             ],
             [
              0.6666666666666666,
              "#ed7953"
             ],
             [
              0.7777777777777778,
              "#fb9f3a"
             ],
             [
              0.8888888888888888,
              "#fdca26"
             ],
             [
              1,
              "#f0f921"
             ]
            ],
            "type": "surface"
           }
          ],
          "table": [
           {
            "cells": {
             "fill": {
              "color": "#EBF0F8"
             },
             "line": {
              "color": "white"
             }
            },
            "header": {
             "fill": {
              "color": "#C8D4E3"
             },
             "line": {
              "color": "white"
             }
            },
            "type": "table"
           }
          ]
         },
         "layout": {
          "annotationdefaults": {
           "arrowcolor": "#2a3f5f",
           "arrowhead": 0,
           "arrowwidth": 1
          },
          "autotypenumbers": "strict",
          "coloraxis": {
           "colorbar": {
            "outlinewidth": 0,
            "ticks": ""
           }
          },
          "colorscale": {
           "diverging": [
            [
             0,
             "#8e0152"
            ],
            [
             0.1,
             "#c51b7d"
            ],
            [
             0.2,
             "#de77ae"
            ],
            [
             0.3,
             "#f1b6da"
            ],
            [
             0.4,
             "#fde0ef"
            ],
            [
             0.5,
             "#f7f7f7"
            ],
            [
             0.6,
             "#e6f5d0"
            ],
            [
             0.7,
             "#b8e186"
            ],
            [
             0.8,
             "#7fbc41"
            ],
            [
             0.9,
             "#4d9221"
            ],
            [
             1,
             "#276419"
            ]
           ],
           "sequential": [
            [
             0,
             "#0d0887"
            ],
            [
             0.1111111111111111,
             "#46039f"
            ],
            [
             0.2222222222222222,
             "#7201a8"
            ],
            [
             0.3333333333333333,
             "#9c179e"
            ],
            [
             0.4444444444444444,
             "#bd3786"
            ],
            [
             0.5555555555555556,
             "#d8576b"
            ],
            [
             0.6666666666666666,
             "#ed7953"
            ],
            [
             0.7777777777777778,
             "#fb9f3a"
            ],
            [
             0.8888888888888888,
             "#fdca26"
            ],
            [
             1,
             "#f0f921"
            ]
           ],
           "sequentialminus": [
            [
             0,
             "#0d0887"
            ],
            [
             0.1111111111111111,
             "#46039f"
            ],
            [
             0.2222222222222222,
             "#7201a8"
            ],
            [
             0.3333333333333333,
             "#9c179e"
            ],
            [
             0.4444444444444444,
             "#bd3786"
            ],
            [
             0.5555555555555556,
             "#d8576b"
            ],
            [
             0.6666666666666666,
             "#ed7953"
            ],
            [
             0.7777777777777778,
             "#fb9f3a"
            ],
            [
             0.8888888888888888,
             "#fdca26"
            ],
            [
             1,
             "#f0f921"
            ]
           ]
          },
          "colorway": [
           "#636efa",
           "#EF553B",
           "#00cc96",
           "#ab63fa",
           "#FFA15A",
           "#19d3f3",
           "#FF6692",
           "#B6E880",
           "#FF97FF",
           "#FECB52"
          ],
          "font": {
           "color": "#2a3f5f"
          },
          "geo": {
           "bgcolor": "white",
           "lakecolor": "white",
           "landcolor": "#E5ECF6",
           "showlakes": true,
           "showland": true,
           "subunitcolor": "white"
          },
          "hoverlabel": {
           "align": "left"
          },
          "hovermode": "closest",
          "mapbox": {
           "style": "light"
          },
          "paper_bgcolor": "white",
          "plot_bgcolor": "#E5ECF6",
          "polar": {
           "angularaxis": {
            "gridcolor": "white",
            "linecolor": "white",
            "ticks": ""
           },
           "bgcolor": "#E5ECF6",
           "radialaxis": {
            "gridcolor": "white",
            "linecolor": "white",
            "ticks": ""
           }
          },
          "scene": {
           "xaxis": {
            "backgroundcolor": "#E5ECF6",
            "gridcolor": "white",
            "gridwidth": 2,
            "linecolor": "white",
            "showbackground": true,
            "ticks": "",
            "zerolinecolor": "white"
           },
           "yaxis": {
            "backgroundcolor": "#E5ECF6",
            "gridcolor": "white",
            "gridwidth": 2,
            "linecolor": "white",
            "showbackground": true,
            "ticks": "",
            "zerolinecolor": "white"
           },
           "zaxis": {
            "backgroundcolor": "#E5ECF6",
            "gridcolor": "white",
            "gridwidth": 2,
            "linecolor": "white",
            "showbackground": true,
            "ticks": "",
            "zerolinecolor": "white"
           }
          },
          "shapedefaults": {
           "line": {
            "color": "#2a3f5f"
           }
          },
          "ternary": {
           "aaxis": {
            "gridcolor": "white",
            "linecolor": "white",
            "ticks": ""
           },
           "baxis": {
            "gridcolor": "white",
            "linecolor": "white",
            "ticks": ""
           },
           "bgcolor": "#E5ECF6",
           "caxis": {
            "gridcolor": "white",
            "linecolor": "white",
            "ticks": ""
           }
          },
          "title": {
           "x": 0.05
          },
          "xaxis": {
           "automargin": true,
           "gridcolor": "white",
           "linecolor": "white",
           "ticks": "",
           "title": {
            "standoff": 15
           },
           "zerolinecolor": "white",
           "zerolinewidth": 2
          },
          "yaxis": {
           "automargin": true,
           "gridcolor": "white",
           "linecolor": "white",
           "ticks": "",
           "title": {
            "standoff": 15
           },
           "zerolinecolor": "white",
           "zerolinewidth": 2
          }
         }
        },
        "title": {
         "text": "Población Sonorense de 6 a 14 años, por Edad desplegada según su aptitud para leer y escribir"
        },
        "xaxis": {
         "anchor": "y",
         "domain": [
          0,
          1
         ],
         "title": {
          "text": "Número de personas"
         }
        },
        "yaxis": {
         "anchor": "x",
         "domain": [
          0,
          1
         ],
         "title": {
          "text": ""
         }
        }
       }
      }
     },
     "metadata": {},
     "output_type": "display_data"
    }
   ],
   "source": [
    "#Ahora veremos por edad\n",
    "dff = censo_educacion.groupby('Edad desplegada')[['Sabe leer y escribir', 'No sabe leer y escribir', 'No especificado']].sum().reset_index()\n",
    "dff = pd.melt(dff, value_vars=['Sabe leer y escribir', 'No sabe leer y escribir', 'No especificado'], id_vars=['Edad desplegada'])\n",
    "dff\n",
    "fig = px.bar(dff, x='value', y='variable', color='Edad desplegada', orientation='h',title = 'Población Sonorense de 6 a 14 años, por Edad desplegada según su aptitud para leer y escribir',\n",
    "            labels = {'variable':\"\",\n",
    "                        \"value\": \"Número de personas\",\n",
    "                        \"Edad desplegada\":\"Edad\" })\n",
    "fig.show()"
   ]
  },
  {
   "cell_type": "code",
   "execution_count": 240,
   "metadata": {},
   "outputs": [
    {
     "data": {
      "application/vnd.plotly.v1+json": {
       "config": {
        "plotlyServerURL": "https://plot.ly"
       },
       "data": [
        {
         "alignmentgroup": "True",
         "hovertemplate": "=Sabe leer y escribir<br>Edad=%{x}<br>Número de personas=%{y}<extra></extra>",
         "legendgroup": "Sabe leer y escribir",
         "marker": {
          "color": "#636efa",
          "pattern": {
           "shape": ""
          }
         },
         "name": "Sabe leer y escribir",
         "offsetgroup": "Sabe leer y escribir",
         "orientation": "v",
         "showlegend": true,
         "textposition": "auto",
         "type": "bar",
         "x": [
          "06 años",
          "07 años",
          "08 años",
          "09 años",
          "10 años",
          "11 años",
          "12 años",
          "13 años",
          "14 años"
         ],
         "xaxis": "x",
         "y": [
          20955,
          38445,
          46386,
          46529,
          51404,
          49131,
          53253,
          51240,
          50788
         ],
         "yaxis": "y"
        },
        {
         "alignmentgroup": "True",
         "hovertemplate": "=No sabe leer y escribir<br>Edad=%{x}<br>Número de personas=%{y}<extra></extra>",
         "legendgroup": "No sabe leer y escribir",
         "marker": {
          "color": "#EF553B",
          "pattern": {
           "shape": ""
          }
         },
         "name": "No sabe leer y escribir",
         "offsetgroup": "No sabe leer y escribir",
         "orientation": "v",
         "showlegend": true,
         "textposition": "auto",
         "type": "bar",
         "x": [
          "06 años",
          "07 años",
          "08 años",
          "09 años",
          "10 años",
          "11 años",
          "12 años",
          "13 años",
          "14 años"
         ],
         "xaxis": "x",
         "y": [
          27371,
          10530,
          4247,
          1887,
          843,
          416,
          320,
          251,
          220
         ],
         "yaxis": "y"
        },
        {
         "alignmentgroup": "True",
         "hovertemplate": "=No especificado<br>Edad=%{x}<br>Número de personas=%{y}<extra></extra>",
         "legendgroup": "No especificado",
         "marker": {
          "color": "#00cc96",
          "pattern": {
           "shape": ""
          }
         },
         "name": "No especificado",
         "offsetgroup": "No especificado",
         "orientation": "v",
         "showlegend": true,
         "textposition": "auto",
         "type": "bar",
         "x": [
          "06 años",
          "07 años",
          "08 años",
          "09 años",
          "10 años",
          "11 años",
          "12 años",
          "13 años",
          "14 años"
         ],
         "xaxis": "x",
         "y": [
          235,
          289,
          397,
          359,
          347,
          100,
          136,
          269,
          73
         ],
         "yaxis": "y"
        }
       ],
       "layout": {
        "barmode": "relative",
        "legend": {
         "title": {
          "text": ""
         },
         "tracegroupgap": 0
        },
        "template": {
         "data": {
          "bar": [
           {
            "error_x": {
             "color": "#2a3f5f"
            },
            "error_y": {
             "color": "#2a3f5f"
            },
            "marker": {
             "line": {
              "color": "#E5ECF6",
              "width": 0.5
             },
             "pattern": {
              "fillmode": "overlay",
              "size": 10,
              "solidity": 0.2
             }
            },
            "type": "bar"
           }
          ],
          "barpolar": [
           {
            "marker": {
             "line": {
              "color": "#E5ECF6",
              "width": 0.5
             },
             "pattern": {
              "fillmode": "overlay",
              "size": 10,
              "solidity": 0.2
             }
            },
            "type": "barpolar"
           }
          ],
          "carpet": [
           {
            "aaxis": {
             "endlinecolor": "#2a3f5f",
             "gridcolor": "white",
             "linecolor": "white",
             "minorgridcolor": "white",
             "startlinecolor": "#2a3f5f"
            },
            "baxis": {
             "endlinecolor": "#2a3f5f",
             "gridcolor": "white",
             "linecolor": "white",
             "minorgridcolor": "white",
             "startlinecolor": "#2a3f5f"
            },
            "type": "carpet"
           }
          ],
          "choropleth": [
           {
            "colorbar": {
             "outlinewidth": 0,
             "ticks": ""
            },
            "type": "choropleth"
           }
          ],
          "contour": [
           {
            "colorbar": {
             "outlinewidth": 0,
             "ticks": ""
            },
            "colorscale": [
             [
              0,
              "#0d0887"
             ],
             [
              0.1111111111111111,
              "#46039f"
             ],
             [
              0.2222222222222222,
              "#7201a8"
             ],
             [
              0.3333333333333333,
              "#9c179e"
             ],
             [
              0.4444444444444444,
              "#bd3786"
             ],
             [
              0.5555555555555556,
              "#d8576b"
             ],
             [
              0.6666666666666666,
              "#ed7953"
             ],
             [
              0.7777777777777778,
              "#fb9f3a"
             ],
             [
              0.8888888888888888,
              "#fdca26"
             ],
             [
              1,
              "#f0f921"
             ]
            ],
            "type": "contour"
           }
          ],
          "contourcarpet": [
           {
            "colorbar": {
             "outlinewidth": 0,
             "ticks": ""
            },
            "type": "contourcarpet"
           }
          ],
          "heatmap": [
           {
            "colorbar": {
             "outlinewidth": 0,
             "ticks": ""
            },
            "colorscale": [
             [
              0,
              "#0d0887"
             ],
             [
              0.1111111111111111,
              "#46039f"
             ],
             [
              0.2222222222222222,
              "#7201a8"
             ],
             [
              0.3333333333333333,
              "#9c179e"
             ],
             [
              0.4444444444444444,
              "#bd3786"
             ],
             [
              0.5555555555555556,
              "#d8576b"
             ],
             [
              0.6666666666666666,
              "#ed7953"
             ],
             [
              0.7777777777777778,
              "#fb9f3a"
             ],
             [
              0.8888888888888888,
              "#fdca26"
             ],
             [
              1,
              "#f0f921"
             ]
            ],
            "type": "heatmap"
           }
          ],
          "heatmapgl": [
           {
            "colorbar": {
             "outlinewidth": 0,
             "ticks": ""
            },
            "colorscale": [
             [
              0,
              "#0d0887"
             ],
             [
              0.1111111111111111,
              "#46039f"
             ],
             [
              0.2222222222222222,
              "#7201a8"
             ],
             [
              0.3333333333333333,
              "#9c179e"
             ],
             [
              0.4444444444444444,
              "#bd3786"
             ],
             [
              0.5555555555555556,
              "#d8576b"
             ],
             [
              0.6666666666666666,
              "#ed7953"
             ],
             [
              0.7777777777777778,
              "#fb9f3a"
             ],
             [
              0.8888888888888888,
              "#fdca26"
             ],
             [
              1,
              "#f0f921"
             ]
            ],
            "type": "heatmapgl"
           }
          ],
          "histogram": [
           {
            "marker": {
             "pattern": {
              "fillmode": "overlay",
              "size": 10,
              "solidity": 0.2
             }
            },
            "type": "histogram"
           }
          ],
          "histogram2d": [
           {
            "colorbar": {
             "outlinewidth": 0,
             "ticks": ""
            },
            "colorscale": [
             [
              0,
              "#0d0887"
             ],
             [
              0.1111111111111111,
              "#46039f"
             ],
             [
              0.2222222222222222,
              "#7201a8"
             ],
             [
              0.3333333333333333,
              "#9c179e"
             ],
             [
              0.4444444444444444,
              "#bd3786"
             ],
             [
              0.5555555555555556,
              "#d8576b"
             ],
             [
              0.6666666666666666,
              "#ed7953"
             ],
             [
              0.7777777777777778,
              "#fb9f3a"
             ],
             [
              0.8888888888888888,
              "#fdca26"
             ],
             [
              1,
              "#f0f921"
             ]
            ],
            "type": "histogram2d"
           }
          ],
          "histogram2dcontour": [
           {
            "colorbar": {
             "outlinewidth": 0,
             "ticks": ""
            },
            "colorscale": [
             [
              0,
              "#0d0887"
             ],
             [
              0.1111111111111111,
              "#46039f"
             ],
             [
              0.2222222222222222,
              "#7201a8"
             ],
             [
              0.3333333333333333,
              "#9c179e"
             ],
             [
              0.4444444444444444,
              "#bd3786"
             ],
             [
              0.5555555555555556,
              "#d8576b"
             ],
             [
              0.6666666666666666,
              "#ed7953"
             ],
             [
              0.7777777777777778,
              "#fb9f3a"
             ],
             [
              0.8888888888888888,
              "#fdca26"
             ],
             [
              1,
              "#f0f921"
             ]
            ],
            "type": "histogram2dcontour"
           }
          ],
          "mesh3d": [
           {
            "colorbar": {
             "outlinewidth": 0,
             "ticks": ""
            },
            "type": "mesh3d"
           }
          ],
          "parcoords": [
           {
            "line": {
             "colorbar": {
              "outlinewidth": 0,
              "ticks": ""
             }
            },
            "type": "parcoords"
           }
          ],
          "pie": [
           {
            "automargin": true,
            "type": "pie"
           }
          ],
          "scatter": [
           {
            "fillpattern": {
             "fillmode": "overlay",
             "size": 10,
             "solidity": 0.2
            },
            "type": "scatter"
           }
          ],
          "scatter3d": [
           {
            "line": {
             "colorbar": {
              "outlinewidth": 0,
              "ticks": ""
             }
            },
            "marker": {
             "colorbar": {
              "outlinewidth": 0,
              "ticks": ""
             }
            },
            "type": "scatter3d"
           }
          ],
          "scattercarpet": [
           {
            "marker": {
             "colorbar": {
              "outlinewidth": 0,
              "ticks": ""
             }
            },
            "type": "scattercarpet"
           }
          ],
          "scattergeo": [
           {
            "marker": {
             "colorbar": {
              "outlinewidth": 0,
              "ticks": ""
             }
            },
            "type": "scattergeo"
           }
          ],
          "scattergl": [
           {
            "marker": {
             "colorbar": {
              "outlinewidth": 0,
              "ticks": ""
             }
            },
            "type": "scattergl"
           }
          ],
          "scattermapbox": [
           {
            "marker": {
             "colorbar": {
              "outlinewidth": 0,
              "ticks": ""
             }
            },
            "type": "scattermapbox"
           }
          ],
          "scatterpolar": [
           {
            "marker": {
             "colorbar": {
              "outlinewidth": 0,
              "ticks": ""
             }
            },
            "type": "scatterpolar"
           }
          ],
          "scatterpolargl": [
           {
            "marker": {
             "colorbar": {
              "outlinewidth": 0,
              "ticks": ""
             }
            },
            "type": "scatterpolargl"
           }
          ],
          "scatterternary": [
           {
            "marker": {
             "colorbar": {
              "outlinewidth": 0,
              "ticks": ""
             }
            },
            "type": "scatterternary"
           }
          ],
          "surface": [
           {
            "colorbar": {
             "outlinewidth": 0,
             "ticks": ""
            },
            "colorscale": [
             [
              0,
              "#0d0887"
             ],
             [
              0.1111111111111111,
              "#46039f"
             ],
             [
              0.2222222222222222,
              "#7201a8"
             ],
             [
              0.3333333333333333,
              "#9c179e"
             ],
             [
              0.4444444444444444,
              "#bd3786"
             ],
             [
              0.5555555555555556,
              "#d8576b"
             ],
             [
              0.6666666666666666,
              "#ed7953"
             ],
             [
              0.7777777777777778,
              "#fb9f3a"
             ],
             [
              0.8888888888888888,
              "#fdca26"
             ],
             [
              1,
              "#f0f921"
             ]
            ],
            "type": "surface"
           }
          ],
          "table": [
           {
            "cells": {
             "fill": {
              "color": "#EBF0F8"
             },
             "line": {
              "color": "white"
             }
            },
            "header": {
             "fill": {
              "color": "#C8D4E3"
             },
             "line": {
              "color": "white"
             }
            },
            "type": "table"
           }
          ]
         },
         "layout": {
          "annotationdefaults": {
           "arrowcolor": "#2a3f5f",
           "arrowhead": 0,
           "arrowwidth": 1
          },
          "autotypenumbers": "strict",
          "coloraxis": {
           "colorbar": {
            "outlinewidth": 0,
            "ticks": ""
           }
          },
          "colorscale": {
           "diverging": [
            [
             0,
             "#8e0152"
            ],
            [
             0.1,
             "#c51b7d"
            ],
            [
             0.2,
             "#de77ae"
            ],
            [
             0.3,
             "#f1b6da"
            ],
            [
             0.4,
             "#fde0ef"
            ],
            [
             0.5,
             "#f7f7f7"
            ],
            [
             0.6,
             "#e6f5d0"
            ],
            [
             0.7,
             "#b8e186"
            ],
            [
             0.8,
             "#7fbc41"
            ],
            [
             0.9,
             "#4d9221"
            ],
            [
             1,
             "#276419"
            ]
           ],
           "sequential": [
            [
             0,
             "#0d0887"
            ],
            [
             0.1111111111111111,
             "#46039f"
            ],
            [
             0.2222222222222222,
             "#7201a8"
            ],
            [
             0.3333333333333333,
             "#9c179e"
            ],
            [
             0.4444444444444444,
             "#bd3786"
            ],
            [
             0.5555555555555556,
             "#d8576b"
            ],
            [
             0.6666666666666666,
             "#ed7953"
            ],
            [
             0.7777777777777778,
             "#fb9f3a"
            ],
            [
             0.8888888888888888,
             "#fdca26"
            ],
            [
             1,
             "#f0f921"
            ]
           ],
           "sequentialminus": [
            [
             0,
             "#0d0887"
            ],
            [
             0.1111111111111111,
             "#46039f"
            ],
            [
             0.2222222222222222,
             "#7201a8"
            ],
            [
             0.3333333333333333,
             "#9c179e"
            ],
            [
             0.4444444444444444,
             "#bd3786"
            ],
            [
             0.5555555555555556,
             "#d8576b"
            ],
            [
             0.6666666666666666,
             "#ed7953"
            ],
            [
             0.7777777777777778,
             "#fb9f3a"
            ],
            [
             0.8888888888888888,
             "#fdca26"
            ],
            [
             1,
             "#f0f921"
            ]
           ]
          },
          "colorway": [
           "#636efa",
           "#EF553B",
           "#00cc96",
           "#ab63fa",
           "#FFA15A",
           "#19d3f3",
           "#FF6692",
           "#B6E880",
           "#FF97FF",
           "#FECB52"
          ],
          "font": {
           "color": "#2a3f5f"
          },
          "geo": {
           "bgcolor": "white",
           "lakecolor": "white",
           "landcolor": "#E5ECF6",
           "showlakes": true,
           "showland": true,
           "subunitcolor": "white"
          },
          "hoverlabel": {
           "align": "left"
          },
          "hovermode": "closest",
          "mapbox": {
           "style": "light"
          },
          "paper_bgcolor": "white",
          "plot_bgcolor": "#E5ECF6",
          "polar": {
           "angularaxis": {
            "gridcolor": "white",
            "linecolor": "white",
            "ticks": ""
           },
           "bgcolor": "#E5ECF6",
           "radialaxis": {
            "gridcolor": "white",
            "linecolor": "white",
            "ticks": ""
           }
          },
          "scene": {
           "xaxis": {
            "backgroundcolor": "#E5ECF6",
            "gridcolor": "white",
            "gridwidth": 2,
            "linecolor": "white",
            "showbackground": true,
            "ticks": "",
            "zerolinecolor": "white"
           },
           "yaxis": {
            "backgroundcolor": "#E5ECF6",
            "gridcolor": "white",
            "gridwidth": 2,
            "linecolor": "white",
            "showbackground": true,
            "ticks": "",
            "zerolinecolor": "white"
           },
           "zaxis": {
            "backgroundcolor": "#E5ECF6",
            "gridcolor": "white",
            "gridwidth": 2,
            "linecolor": "white",
            "showbackground": true,
            "ticks": "",
            "zerolinecolor": "white"
           }
          },
          "shapedefaults": {
           "line": {
            "color": "#2a3f5f"
           }
          },
          "ternary": {
           "aaxis": {
            "gridcolor": "white",
            "linecolor": "white",
            "ticks": ""
           },
           "baxis": {
            "gridcolor": "white",
            "linecolor": "white",
            "ticks": ""
           },
           "bgcolor": "#E5ECF6",
           "caxis": {
            "gridcolor": "white",
            "linecolor": "white",
            "ticks": ""
           }
          },
          "title": {
           "x": 0.05
          },
          "xaxis": {
           "automargin": true,
           "gridcolor": "white",
           "linecolor": "white",
           "ticks": "",
           "title": {
            "standoff": 15
           },
           "zerolinecolor": "white",
           "zerolinewidth": 2
          },
          "yaxis": {
           "automargin": true,
           "gridcolor": "white",
           "linecolor": "white",
           "ticks": "",
           "title": {
            "standoff": 15
           },
           "zerolinecolor": "white",
           "zerolinewidth": 2
          }
         }
        },
        "title": {
         "text": "Población Sonorense de 6 a 14 años, por Edad desplegada según su aptitud para leer y escribir"
        },
        "xaxis": {
         "anchor": "y",
         "domain": [
          0,
          1
         ],
         "title": {
          "text": "Edad"
         }
        },
        "yaxis": {
         "anchor": "x",
         "domain": [
          0,
          1
         ],
         "title": {
          "text": "Número de personas"
         }
        }
       }
      }
     },
     "metadata": {},
     "output_type": "display_data"
    }
   ],
   "source": [
    "# Visto de otra forma\n",
    "#Ahora veremos por edad\n",
    "dff = censo_educacion.groupby('Edad desplegada')[['Sabe leer y escribir', 'No sabe leer y escribir', 'No especificado']].sum().reset_index()\n",
    "dff = pd.melt(dff, value_vars=['Sabe leer y escribir', 'No sabe leer y escribir', 'No especificado'], id_vars=['Edad desplegada'])\n",
    "dff\n",
    "fig = px.bar(dff, y='value', x='Edad desplegada', color='variable', orientation='v',title = 'Población Sonorense de 6 a 14 años, por Edad desplegada según su aptitud para leer y escribir',\n",
    "            labels = {'variable':\"\",\n",
    "                        \"value\": \"Número de personas\",\n",
    "                        \"Edad desplegada\":\"Edad\" })\n",
    "fig.show()"
   ]
  },
  {
   "cell_type": "code",
   "execution_count": 241,
   "metadata": {},
   "outputs": [
    {
     "data": {
      "application/vnd.plotly.v1+json": {
       "config": {
        "plotlyServerURL": "https://plot.ly"
       },
       "data": [
        {
         "alignmentgroup": "True",
         "hovertemplate": "=Sabe leer y escribir<br>Edad=%{x}<br>Número de personas=%{y}<extra></extra>",
         "legendgroup": "Sabe leer y escribir",
         "marker": {
          "color": "#636efa",
          "pattern": {
           "shape": ""
          }
         },
         "name": "Sabe leer y escribir",
         "offsetgroup": "Sabe leer y escribir",
         "orientation": "v",
         "showlegend": true,
         "textposition": "auto",
         "type": "bar",
         "x": [
          "06 años",
          "07 años",
          "08 años",
          "09 años",
          "10 años",
          "11 años",
          "12 años",
          "13 años",
          "14 años"
         ],
         "xaxis": "x",
         "y": [
          10706,
          19234,
          23037,
          23112,
          25190,
          24278,
          25925,
          25027,
          24961
         ],
         "yaxis": "y"
        },
        {
         "alignmentgroup": "True",
         "hovertemplate": "=No sabe leer y escribir<br>Edad=%{x}<br>Número de personas=%{y}<extra></extra>",
         "legendgroup": "No sabe leer y escribir",
         "marker": {
          "color": "#EF553B",
          "pattern": {
           "shape": ""
          }
         },
         "name": "No sabe leer y escribir",
         "offsetgroup": "No sabe leer y escribir",
         "orientation": "v",
         "showlegend": true,
         "textposition": "auto",
         "type": "bar",
         "x": [
          "06 años",
          "07 años",
          "08 años",
          "09 años",
          "10 años",
          "11 años",
          "12 años",
          "13 años",
          "14 años"
         ],
         "xaxis": "x",
         "y": [
          13257,
          4805,
          1746,
          798,
          318,
          147,
          124,
          94,
          85
         ],
         "yaxis": "y"
        },
        {
         "alignmentgroup": "True",
         "hovertemplate": "=No especificado<br>Edad=%{x}<br>Número de personas=%{y}<extra></extra>",
         "legendgroup": "No especificado",
         "marker": {
          "color": "#00cc96",
          "pattern": {
           "shape": ""
          }
         },
         "name": "No especificado",
         "offsetgroup": "No especificado",
         "orientation": "v",
         "showlegend": true,
         "textposition": "auto",
         "type": "bar",
         "x": [
          "06 años",
          "07 años",
          "08 años",
          "09 años",
          "10 años",
          "11 años",
          "12 años",
          "13 años",
          "14 años"
         ],
         "xaxis": "x",
         "y": [
          123,
          134,
          187,
          179,
          169,
          47,
          63,
          135,
          37
         ],
         "yaxis": "y"
        }
       ],
       "layout": {
        "barmode": "relative",
        "legend": {
         "title": {
          "text": ""
         },
         "tracegroupgap": 0
        },
        "template": {
         "data": {
          "bar": [
           {
            "error_x": {
             "color": "#2a3f5f"
            },
            "error_y": {
             "color": "#2a3f5f"
            },
            "marker": {
             "line": {
              "color": "#E5ECF6",
              "width": 0.5
             },
             "pattern": {
              "fillmode": "overlay",
              "size": 10,
              "solidity": 0.2
             }
            },
            "type": "bar"
           }
          ],
          "barpolar": [
           {
            "marker": {
             "line": {
              "color": "#E5ECF6",
              "width": 0.5
             },
             "pattern": {
              "fillmode": "overlay",
              "size": 10,
              "solidity": 0.2
             }
            },
            "type": "barpolar"
           }
          ],
          "carpet": [
           {
            "aaxis": {
             "endlinecolor": "#2a3f5f",
             "gridcolor": "white",
             "linecolor": "white",
             "minorgridcolor": "white",
             "startlinecolor": "#2a3f5f"
            },
            "baxis": {
             "endlinecolor": "#2a3f5f",
             "gridcolor": "white",
             "linecolor": "white",
             "minorgridcolor": "white",
             "startlinecolor": "#2a3f5f"
            },
            "type": "carpet"
           }
          ],
          "choropleth": [
           {
            "colorbar": {
             "outlinewidth": 0,
             "ticks": ""
            },
            "type": "choropleth"
           }
          ],
          "contour": [
           {
            "colorbar": {
             "outlinewidth": 0,
             "ticks": ""
            },
            "colorscale": [
             [
              0,
              "#0d0887"
             ],
             [
              0.1111111111111111,
              "#46039f"
             ],
             [
              0.2222222222222222,
              "#7201a8"
             ],
             [
              0.3333333333333333,
              "#9c179e"
             ],
             [
              0.4444444444444444,
              "#bd3786"
             ],
             [
              0.5555555555555556,
              "#d8576b"
             ],
             [
              0.6666666666666666,
              "#ed7953"
             ],
             [
              0.7777777777777778,
              "#fb9f3a"
             ],
             [
              0.8888888888888888,
              "#fdca26"
             ],
             [
              1,
              "#f0f921"
             ]
            ],
            "type": "contour"
           }
          ],
          "contourcarpet": [
           {
            "colorbar": {
             "outlinewidth": 0,
             "ticks": ""
            },
            "type": "contourcarpet"
           }
          ],
          "heatmap": [
           {
            "colorbar": {
             "outlinewidth": 0,
             "ticks": ""
            },
            "colorscale": [
             [
              0,
              "#0d0887"
             ],
             [
              0.1111111111111111,
              "#46039f"
             ],
             [
              0.2222222222222222,
              "#7201a8"
             ],
             [
              0.3333333333333333,
              "#9c179e"
             ],
             [
              0.4444444444444444,
              "#bd3786"
             ],
             [
              0.5555555555555556,
              "#d8576b"
             ],
             [
              0.6666666666666666,
              "#ed7953"
             ],
             [
              0.7777777777777778,
              "#fb9f3a"
             ],
             [
              0.8888888888888888,
              "#fdca26"
             ],
             [
              1,
              "#f0f921"
             ]
            ],
            "type": "heatmap"
           }
          ],
          "heatmapgl": [
           {
            "colorbar": {
             "outlinewidth": 0,
             "ticks": ""
            },
            "colorscale": [
             [
              0,
              "#0d0887"
             ],
             [
              0.1111111111111111,
              "#46039f"
             ],
             [
              0.2222222222222222,
              "#7201a8"
             ],
             [
              0.3333333333333333,
              "#9c179e"
             ],
             [
              0.4444444444444444,
              "#bd3786"
             ],
             [
              0.5555555555555556,
              "#d8576b"
             ],
             [
              0.6666666666666666,
              "#ed7953"
             ],
             [
              0.7777777777777778,
              "#fb9f3a"
             ],
             [
              0.8888888888888888,
              "#fdca26"
             ],
             [
              1,
              "#f0f921"
             ]
            ],
            "type": "heatmapgl"
           }
          ],
          "histogram": [
           {
            "marker": {
             "pattern": {
              "fillmode": "overlay",
              "size": 10,
              "solidity": 0.2
             }
            },
            "type": "histogram"
           }
          ],
          "histogram2d": [
           {
            "colorbar": {
             "outlinewidth": 0,
             "ticks": ""
            },
            "colorscale": [
             [
              0,
              "#0d0887"
             ],
             [
              0.1111111111111111,
              "#46039f"
             ],
             [
              0.2222222222222222,
              "#7201a8"
             ],
             [
              0.3333333333333333,
              "#9c179e"
             ],
             [
              0.4444444444444444,
              "#bd3786"
             ],
             [
              0.5555555555555556,
              "#d8576b"
             ],
             [
              0.6666666666666666,
              "#ed7953"
             ],
             [
              0.7777777777777778,
              "#fb9f3a"
             ],
             [
              0.8888888888888888,
              "#fdca26"
             ],
             [
              1,
              "#f0f921"
             ]
            ],
            "type": "histogram2d"
           }
          ],
          "histogram2dcontour": [
           {
            "colorbar": {
             "outlinewidth": 0,
             "ticks": ""
            },
            "colorscale": [
             [
              0,
              "#0d0887"
             ],
             [
              0.1111111111111111,
              "#46039f"
             ],
             [
              0.2222222222222222,
              "#7201a8"
             ],
             [
              0.3333333333333333,
              "#9c179e"
             ],
             [
              0.4444444444444444,
              "#bd3786"
             ],
             [
              0.5555555555555556,
              "#d8576b"
             ],
             [
              0.6666666666666666,
              "#ed7953"
             ],
             [
              0.7777777777777778,
              "#fb9f3a"
             ],
             [
              0.8888888888888888,
              "#fdca26"
             ],
             [
              1,
              "#f0f921"
             ]
            ],
            "type": "histogram2dcontour"
           }
          ],
          "mesh3d": [
           {
            "colorbar": {
             "outlinewidth": 0,
             "ticks": ""
            },
            "type": "mesh3d"
           }
          ],
          "parcoords": [
           {
            "line": {
             "colorbar": {
              "outlinewidth": 0,
              "ticks": ""
             }
            },
            "type": "parcoords"
           }
          ],
          "pie": [
           {
            "automargin": true,
            "type": "pie"
           }
          ],
          "scatter": [
           {
            "fillpattern": {
             "fillmode": "overlay",
             "size": 10,
             "solidity": 0.2
            },
            "type": "scatter"
           }
          ],
          "scatter3d": [
           {
            "line": {
             "colorbar": {
              "outlinewidth": 0,
              "ticks": ""
             }
            },
            "marker": {
             "colorbar": {
              "outlinewidth": 0,
              "ticks": ""
             }
            },
            "type": "scatter3d"
           }
          ],
          "scattercarpet": [
           {
            "marker": {
             "colorbar": {
              "outlinewidth": 0,
              "ticks": ""
             }
            },
            "type": "scattercarpet"
           }
          ],
          "scattergeo": [
           {
            "marker": {
             "colorbar": {
              "outlinewidth": 0,
              "ticks": ""
             }
            },
            "type": "scattergeo"
           }
          ],
          "scattergl": [
           {
            "marker": {
             "colorbar": {
              "outlinewidth": 0,
              "ticks": ""
             }
            },
            "type": "scattergl"
           }
          ],
          "scattermapbox": [
           {
            "marker": {
             "colorbar": {
              "outlinewidth": 0,
              "ticks": ""
             }
            },
            "type": "scattermapbox"
           }
          ],
          "scatterpolar": [
           {
            "marker": {
             "colorbar": {
              "outlinewidth": 0,
              "ticks": ""
             }
            },
            "type": "scatterpolar"
           }
          ],
          "scatterpolargl": [
           {
            "marker": {
             "colorbar": {
              "outlinewidth": 0,
              "ticks": ""
             }
            },
            "type": "scatterpolargl"
           }
          ],
          "scatterternary": [
           {
            "marker": {
             "colorbar": {
              "outlinewidth": 0,
              "ticks": ""
             }
            },
            "type": "scatterternary"
           }
          ],
          "surface": [
           {
            "colorbar": {
             "outlinewidth": 0,
             "ticks": ""
            },
            "colorscale": [
             [
              0,
              "#0d0887"
             ],
             [
              0.1111111111111111,
              "#46039f"
             ],
             [
              0.2222222222222222,
              "#7201a8"
             ],
             [
              0.3333333333333333,
              "#9c179e"
             ],
             [
              0.4444444444444444,
              "#bd3786"
             ],
             [
              0.5555555555555556,
              "#d8576b"
             ],
             [
              0.6666666666666666,
              "#ed7953"
             ],
             [
              0.7777777777777778,
              "#fb9f3a"
             ],
             [
              0.8888888888888888,
              "#fdca26"
             ],
             [
              1,
              "#f0f921"
             ]
            ],
            "type": "surface"
           }
          ],
          "table": [
           {
            "cells": {
             "fill": {
              "color": "#EBF0F8"
             },
             "line": {
              "color": "white"
             }
            },
            "header": {
             "fill": {
              "color": "#C8D4E3"
             },
             "line": {
              "color": "white"
             }
            },
            "type": "table"
           }
          ]
         },
         "layout": {
          "annotationdefaults": {
           "arrowcolor": "#2a3f5f",
           "arrowhead": 0,
           "arrowwidth": 1
          },
          "autotypenumbers": "strict",
          "coloraxis": {
           "colorbar": {
            "outlinewidth": 0,
            "ticks": ""
           }
          },
          "colorscale": {
           "diverging": [
            [
             0,
             "#8e0152"
            ],
            [
             0.1,
             "#c51b7d"
            ],
            [
             0.2,
             "#de77ae"
            ],
            [
             0.3,
             "#f1b6da"
            ],
            [
             0.4,
             "#fde0ef"
            ],
            [
             0.5,
             "#f7f7f7"
            ],
            [
             0.6,
             "#e6f5d0"
            ],
            [
             0.7,
             "#b8e186"
            ],
            [
             0.8,
             "#7fbc41"
            ],
            [
             0.9,
             "#4d9221"
            ],
            [
             1,
             "#276419"
            ]
           ],
           "sequential": [
            [
             0,
             "#0d0887"
            ],
            [
             0.1111111111111111,
             "#46039f"
            ],
            [
             0.2222222222222222,
             "#7201a8"
            ],
            [
             0.3333333333333333,
             "#9c179e"
            ],
            [
             0.4444444444444444,
             "#bd3786"
            ],
            [
             0.5555555555555556,
             "#d8576b"
            ],
            [
             0.6666666666666666,
             "#ed7953"
            ],
            [
             0.7777777777777778,
             "#fb9f3a"
            ],
            [
             0.8888888888888888,
             "#fdca26"
            ],
            [
             1,
             "#f0f921"
            ]
           ],
           "sequentialminus": [
            [
             0,
             "#0d0887"
            ],
            [
             0.1111111111111111,
             "#46039f"
            ],
            [
             0.2222222222222222,
             "#7201a8"
            ],
            [
             0.3333333333333333,
             "#9c179e"
            ],
            [
             0.4444444444444444,
             "#bd3786"
            ],
            [
             0.5555555555555556,
             "#d8576b"
            ],
            [
             0.6666666666666666,
             "#ed7953"
            ],
            [
             0.7777777777777778,
             "#fb9f3a"
            ],
            [
             0.8888888888888888,
             "#fdca26"
            ],
            [
             1,
             "#f0f921"
            ]
           ]
          },
          "colorway": [
           "#636efa",
           "#EF553B",
           "#00cc96",
           "#ab63fa",
           "#FFA15A",
           "#19d3f3",
           "#FF6692",
           "#B6E880",
           "#FF97FF",
           "#FECB52"
          ],
          "font": {
           "color": "#2a3f5f"
          },
          "geo": {
           "bgcolor": "white",
           "lakecolor": "white",
           "landcolor": "#E5ECF6",
           "showlakes": true,
           "showland": true,
           "subunitcolor": "white"
          },
          "hoverlabel": {
           "align": "left"
          },
          "hovermode": "closest",
          "mapbox": {
           "style": "light"
          },
          "paper_bgcolor": "white",
          "plot_bgcolor": "#E5ECF6",
          "polar": {
           "angularaxis": {
            "gridcolor": "white",
            "linecolor": "white",
            "ticks": ""
           },
           "bgcolor": "#E5ECF6",
           "radialaxis": {
            "gridcolor": "white",
            "linecolor": "white",
            "ticks": ""
           }
          },
          "scene": {
           "xaxis": {
            "backgroundcolor": "#E5ECF6",
            "gridcolor": "white",
            "gridwidth": 2,
            "linecolor": "white",
            "showbackground": true,
            "ticks": "",
            "zerolinecolor": "white"
           },
           "yaxis": {
            "backgroundcolor": "#E5ECF6",
            "gridcolor": "white",
            "gridwidth": 2,
            "linecolor": "white",
            "showbackground": true,
            "ticks": "",
            "zerolinecolor": "white"
           },
           "zaxis": {
            "backgroundcolor": "#E5ECF6",
            "gridcolor": "white",
            "gridwidth": 2,
            "linecolor": "white",
            "showbackground": true,
            "ticks": "",
            "zerolinecolor": "white"
           }
          },
          "shapedefaults": {
           "line": {
            "color": "#2a3f5f"
           }
          },
          "ternary": {
           "aaxis": {
            "gridcolor": "white",
            "linecolor": "white",
            "ticks": ""
           },
           "baxis": {
            "gridcolor": "white",
            "linecolor": "white",
            "ticks": ""
           },
           "bgcolor": "#E5ECF6",
           "caxis": {
            "gridcolor": "white",
            "linecolor": "white",
            "ticks": ""
           }
          },
          "title": {
           "x": 0.05
          },
          "xaxis": {
           "automargin": true,
           "gridcolor": "white",
           "linecolor": "white",
           "ticks": "",
           "title": {
            "standoff": 15
           },
           "zerolinecolor": "white",
           "zerolinewidth": 2
          },
          "yaxis": {
           "automargin": true,
           "gridcolor": "white",
           "linecolor": "white",
           "ticks": "",
           "title": {
            "standoff": 15
           },
           "zerolinecolor": "white",
           "zerolinewidth": 2
          }
         }
        },
        "title": {
         "text": "Población Sonorense de 6 a 14 años (Mujeres), por Edad desplegada según su aptitud para leer y escribir"
        },
        "xaxis": {
         "anchor": "y",
         "domain": [
          0,
          1
         ],
         "title": {
          "text": "Edad"
         }
        },
        "yaxis": {
         "anchor": "x",
         "domain": [
          0,
          1
         ],
         "title": {
          "text": "Número de personas"
         }
        }
       }
      }
     },
     "metadata": {},
     "output_type": "display_data"
    }
   ],
   "source": [
    "# Ahora veremos si esto pasa para los distintos sexos\n",
    "dff = censo_educacion[censo_educacion['Sexo'] == 'Mujeres']\n",
    "dff = dff.groupby('Edad desplegada')[['Sabe leer y escribir', 'No sabe leer y escribir', 'No especificado']].sum().reset_index()\n",
    "dff = pd.melt(dff, value_vars=['Sabe leer y escribir', 'No sabe leer y escribir', 'No especificado'], id_vars=['Edad desplegada'])\n",
    "dff\n",
    "fig = px.bar(dff, y='value', x='Edad desplegada', color='variable', orientation='v',title = 'Población Sonorense de 6 a 14 años (Mujeres), por Edad desplegada según su aptitud para leer y escribir',\n",
    "            labels = {'variable':\"\",\n",
    "                        \"value\": \"Número de personas\",\n",
    "                        \"Edad desplegada\":\"Edad\" })\n",
    "fig.show()"
   ]
  },
  {
   "cell_type": "code",
   "execution_count": 242,
   "metadata": {},
   "outputs": [
    {
     "data": {
      "application/vnd.plotly.v1+json": {
       "config": {
        "plotlyServerURL": "https://plot.ly"
       },
       "data": [
        {
         "alignmentgroup": "True",
         "hovertemplate": "=Sabe leer y escribir<br>Edad=%{x}<br>Número de personas=%{y}<extra></extra>",
         "legendgroup": "Sabe leer y escribir",
         "marker": {
          "color": "#636efa",
          "pattern": {
           "shape": ""
          }
         },
         "name": "Sabe leer y escribir",
         "offsetgroup": "Sabe leer y escribir",
         "orientation": "v",
         "showlegend": true,
         "textposition": "auto",
         "type": "bar",
         "x": [
          "06 años",
          "07 años",
          "08 años",
          "09 años",
          "10 años",
          "11 años",
          "12 años",
          "13 años",
          "14 años"
         ],
         "xaxis": "x",
         "y": [
          10249,
          19211,
          23349,
          23417,
          26214,
          24853,
          27328,
          26213,
          25827
         ],
         "yaxis": "y"
        },
        {
         "alignmentgroup": "True",
         "hovertemplate": "=No sabe leer y escribir<br>Edad=%{x}<br>Número de personas=%{y}<extra></extra>",
         "legendgroup": "No sabe leer y escribir",
         "marker": {
          "color": "#EF553B",
          "pattern": {
           "shape": ""
          }
         },
         "name": "No sabe leer y escribir",
         "offsetgroup": "No sabe leer y escribir",
         "orientation": "v",
         "showlegend": true,
         "textposition": "auto",
         "type": "bar",
         "x": [
          "06 años",
          "07 años",
          "08 años",
          "09 años",
          "10 años",
          "11 años",
          "12 años",
          "13 años",
          "14 años"
         ],
         "xaxis": "x",
         "y": [
          14114,
          5725,
          2501,
          1089,
          525,
          269,
          196,
          157,
          135
         ],
         "yaxis": "y"
        },
        {
         "alignmentgroup": "True",
         "hovertemplate": "=No especificado<br>Edad=%{x}<br>Número de personas=%{y}<extra></extra>",
         "legendgroup": "No especificado",
         "marker": {
          "color": "#00cc96",
          "pattern": {
           "shape": ""
          }
         },
         "name": "No especificado",
         "offsetgroup": "No especificado",
         "orientation": "v",
         "showlegend": true,
         "textposition": "auto",
         "type": "bar",
         "x": [
          "06 años",
          "07 años",
          "08 años",
          "09 años",
          "10 años",
          "11 años",
          "12 años",
          "13 años",
          "14 años"
         ],
         "xaxis": "x",
         "y": [
          112,
          155,
          210,
          180,
          178,
          53,
          73,
          134,
          36
         ],
         "yaxis": "y"
        }
       ],
       "layout": {
        "barmode": "relative",
        "legend": {
         "title": {
          "text": ""
         },
         "tracegroupgap": 0
        },
        "template": {
         "data": {
          "bar": [
           {
            "error_x": {
             "color": "#2a3f5f"
            },
            "error_y": {
             "color": "#2a3f5f"
            },
            "marker": {
             "line": {
              "color": "#E5ECF6",
              "width": 0.5
             },
             "pattern": {
              "fillmode": "overlay",
              "size": 10,
              "solidity": 0.2
             }
            },
            "type": "bar"
           }
          ],
          "barpolar": [
           {
            "marker": {
             "line": {
              "color": "#E5ECF6",
              "width": 0.5
             },
             "pattern": {
              "fillmode": "overlay",
              "size": 10,
              "solidity": 0.2
             }
            },
            "type": "barpolar"
           }
          ],
          "carpet": [
           {
            "aaxis": {
             "endlinecolor": "#2a3f5f",
             "gridcolor": "white",
             "linecolor": "white",
             "minorgridcolor": "white",
             "startlinecolor": "#2a3f5f"
            },
            "baxis": {
             "endlinecolor": "#2a3f5f",
             "gridcolor": "white",
             "linecolor": "white",
             "minorgridcolor": "white",
             "startlinecolor": "#2a3f5f"
            },
            "type": "carpet"
           }
          ],
          "choropleth": [
           {
            "colorbar": {
             "outlinewidth": 0,
             "ticks": ""
            },
            "type": "choropleth"
           }
          ],
          "contour": [
           {
            "colorbar": {
             "outlinewidth": 0,
             "ticks": ""
            },
            "colorscale": [
             [
              0,
              "#0d0887"
             ],
             [
              0.1111111111111111,
              "#46039f"
             ],
             [
              0.2222222222222222,
              "#7201a8"
             ],
             [
              0.3333333333333333,
              "#9c179e"
             ],
             [
              0.4444444444444444,
              "#bd3786"
             ],
             [
              0.5555555555555556,
              "#d8576b"
             ],
             [
              0.6666666666666666,
              "#ed7953"
             ],
             [
              0.7777777777777778,
              "#fb9f3a"
             ],
             [
              0.8888888888888888,
              "#fdca26"
             ],
             [
              1,
              "#f0f921"
             ]
            ],
            "type": "contour"
           }
          ],
          "contourcarpet": [
           {
            "colorbar": {
             "outlinewidth": 0,
             "ticks": ""
            },
            "type": "contourcarpet"
           }
          ],
          "heatmap": [
           {
            "colorbar": {
             "outlinewidth": 0,
             "ticks": ""
            },
            "colorscale": [
             [
              0,
              "#0d0887"
             ],
             [
              0.1111111111111111,
              "#46039f"
             ],
             [
              0.2222222222222222,
              "#7201a8"
             ],
             [
              0.3333333333333333,
              "#9c179e"
             ],
             [
              0.4444444444444444,
              "#bd3786"
             ],
             [
              0.5555555555555556,
              "#d8576b"
             ],
             [
              0.6666666666666666,
              "#ed7953"
             ],
             [
              0.7777777777777778,
              "#fb9f3a"
             ],
             [
              0.8888888888888888,
              "#fdca26"
             ],
             [
              1,
              "#f0f921"
             ]
            ],
            "type": "heatmap"
           }
          ],
          "heatmapgl": [
           {
            "colorbar": {
             "outlinewidth": 0,
             "ticks": ""
            },
            "colorscale": [
             [
              0,
              "#0d0887"
             ],
             [
              0.1111111111111111,
              "#46039f"
             ],
             [
              0.2222222222222222,
              "#7201a8"
             ],
             [
              0.3333333333333333,
              "#9c179e"
             ],
             [
              0.4444444444444444,
              "#bd3786"
             ],
             [
              0.5555555555555556,
              "#d8576b"
             ],
             [
              0.6666666666666666,
              "#ed7953"
             ],
             [
              0.7777777777777778,
              "#fb9f3a"
             ],
             [
              0.8888888888888888,
              "#fdca26"
             ],
             [
              1,
              "#f0f921"
             ]
            ],
            "type": "heatmapgl"
           }
          ],
          "histogram": [
           {
            "marker": {
             "pattern": {
              "fillmode": "overlay",
              "size": 10,
              "solidity": 0.2
             }
            },
            "type": "histogram"
           }
          ],
          "histogram2d": [
           {
            "colorbar": {
             "outlinewidth": 0,
             "ticks": ""
            },
            "colorscale": [
             [
              0,
              "#0d0887"
             ],
             [
              0.1111111111111111,
              "#46039f"
             ],
             [
              0.2222222222222222,
              "#7201a8"
             ],
             [
              0.3333333333333333,
              "#9c179e"
             ],
             [
              0.4444444444444444,
              "#bd3786"
             ],
             [
              0.5555555555555556,
              "#d8576b"
             ],
             [
              0.6666666666666666,
              "#ed7953"
             ],
             [
              0.7777777777777778,
              "#fb9f3a"
             ],
             [
              0.8888888888888888,
              "#fdca26"
             ],
             [
              1,
              "#f0f921"
             ]
            ],
            "type": "histogram2d"
           }
          ],
          "histogram2dcontour": [
           {
            "colorbar": {
             "outlinewidth": 0,
             "ticks": ""
            },
            "colorscale": [
             [
              0,
              "#0d0887"
             ],
             [
              0.1111111111111111,
              "#46039f"
             ],
             [
              0.2222222222222222,
              "#7201a8"
             ],
             [
              0.3333333333333333,
              "#9c179e"
             ],
             [
              0.4444444444444444,
              "#bd3786"
             ],
             [
              0.5555555555555556,
              "#d8576b"
             ],
             [
              0.6666666666666666,
              "#ed7953"
             ],
             [
              0.7777777777777778,
              "#fb9f3a"
             ],
             [
              0.8888888888888888,
              "#fdca26"
             ],
             [
              1,
              "#f0f921"
             ]
            ],
            "type": "histogram2dcontour"
           }
          ],
          "mesh3d": [
           {
            "colorbar": {
             "outlinewidth": 0,
             "ticks": ""
            },
            "type": "mesh3d"
           }
          ],
          "parcoords": [
           {
            "line": {
             "colorbar": {
              "outlinewidth": 0,
              "ticks": ""
             }
            },
            "type": "parcoords"
           }
          ],
          "pie": [
           {
            "automargin": true,
            "type": "pie"
           }
          ],
          "scatter": [
           {
            "fillpattern": {
             "fillmode": "overlay",
             "size": 10,
             "solidity": 0.2
            },
            "type": "scatter"
           }
          ],
          "scatter3d": [
           {
            "line": {
             "colorbar": {
              "outlinewidth": 0,
              "ticks": ""
             }
            },
            "marker": {
             "colorbar": {
              "outlinewidth": 0,
              "ticks": ""
             }
            },
            "type": "scatter3d"
           }
          ],
          "scattercarpet": [
           {
            "marker": {
             "colorbar": {
              "outlinewidth": 0,
              "ticks": ""
             }
            },
            "type": "scattercarpet"
           }
          ],
          "scattergeo": [
           {
            "marker": {
             "colorbar": {
              "outlinewidth": 0,
              "ticks": ""
             }
            },
            "type": "scattergeo"
           }
          ],
          "scattergl": [
           {
            "marker": {
             "colorbar": {
              "outlinewidth": 0,
              "ticks": ""
             }
            },
            "type": "scattergl"
           }
          ],
          "scattermapbox": [
           {
            "marker": {
             "colorbar": {
              "outlinewidth": 0,
              "ticks": ""
             }
            },
            "type": "scattermapbox"
           }
          ],
          "scatterpolar": [
           {
            "marker": {
             "colorbar": {
              "outlinewidth": 0,
              "ticks": ""
             }
            },
            "type": "scatterpolar"
           }
          ],
          "scatterpolargl": [
           {
            "marker": {
             "colorbar": {
              "outlinewidth": 0,
              "ticks": ""
             }
            },
            "type": "scatterpolargl"
           }
          ],
          "scatterternary": [
           {
            "marker": {
             "colorbar": {
              "outlinewidth": 0,
              "ticks": ""
             }
            },
            "type": "scatterternary"
           }
          ],
          "surface": [
           {
            "colorbar": {
             "outlinewidth": 0,
             "ticks": ""
            },
            "colorscale": [
             [
              0,
              "#0d0887"
             ],
             [
              0.1111111111111111,
              "#46039f"
             ],
             [
              0.2222222222222222,
              "#7201a8"
             ],
             [
              0.3333333333333333,
              "#9c179e"
             ],
             [
              0.4444444444444444,
              "#bd3786"
             ],
             [
              0.5555555555555556,
              "#d8576b"
             ],
             [
              0.6666666666666666,
              "#ed7953"
             ],
             [
              0.7777777777777778,
              "#fb9f3a"
             ],
             [
              0.8888888888888888,
              "#fdca26"
             ],
             [
              1,
              "#f0f921"
             ]
            ],
            "type": "surface"
           }
          ],
          "table": [
           {
            "cells": {
             "fill": {
              "color": "#EBF0F8"
             },
             "line": {
              "color": "white"
             }
            },
            "header": {
             "fill": {
              "color": "#C8D4E3"
             },
             "line": {
              "color": "white"
             }
            },
            "type": "table"
           }
          ]
         },
         "layout": {
          "annotationdefaults": {
           "arrowcolor": "#2a3f5f",
           "arrowhead": 0,
           "arrowwidth": 1
          },
          "autotypenumbers": "strict",
          "coloraxis": {
           "colorbar": {
            "outlinewidth": 0,
            "ticks": ""
           }
          },
          "colorscale": {
           "diverging": [
            [
             0,
             "#8e0152"
            ],
            [
             0.1,
             "#c51b7d"
            ],
            [
             0.2,
             "#de77ae"
            ],
            [
             0.3,
             "#f1b6da"
            ],
            [
             0.4,
             "#fde0ef"
            ],
            [
             0.5,
             "#f7f7f7"
            ],
            [
             0.6,
             "#e6f5d0"
            ],
            [
             0.7,
             "#b8e186"
            ],
            [
             0.8,
             "#7fbc41"
            ],
            [
             0.9,
             "#4d9221"
            ],
            [
             1,
             "#276419"
            ]
           ],
           "sequential": [
            [
             0,
             "#0d0887"
            ],
            [
             0.1111111111111111,
             "#46039f"
            ],
            [
             0.2222222222222222,
             "#7201a8"
            ],
            [
             0.3333333333333333,
             "#9c179e"
            ],
            [
             0.4444444444444444,
             "#bd3786"
            ],
            [
             0.5555555555555556,
             "#d8576b"
            ],
            [
             0.6666666666666666,
             "#ed7953"
            ],
            [
             0.7777777777777778,
             "#fb9f3a"
            ],
            [
             0.8888888888888888,
             "#fdca26"
            ],
            [
             1,
             "#f0f921"
            ]
           ],
           "sequentialminus": [
            [
             0,
             "#0d0887"
            ],
            [
             0.1111111111111111,
             "#46039f"
            ],
            [
             0.2222222222222222,
             "#7201a8"
            ],
            [
             0.3333333333333333,
             "#9c179e"
            ],
            [
             0.4444444444444444,
             "#bd3786"
            ],
            [
             0.5555555555555556,
             "#d8576b"
            ],
            [
             0.6666666666666666,
             "#ed7953"
            ],
            [
             0.7777777777777778,
             "#fb9f3a"
            ],
            [
             0.8888888888888888,
             "#fdca26"
            ],
            [
             1,
             "#f0f921"
            ]
           ]
          },
          "colorway": [
           "#636efa",
           "#EF553B",
           "#00cc96",
           "#ab63fa",
           "#FFA15A",
           "#19d3f3",
           "#FF6692",
           "#B6E880",
           "#FF97FF",
           "#FECB52"
          ],
          "font": {
           "color": "#2a3f5f"
          },
          "geo": {
           "bgcolor": "white",
           "lakecolor": "white",
           "landcolor": "#E5ECF6",
           "showlakes": true,
           "showland": true,
           "subunitcolor": "white"
          },
          "hoverlabel": {
           "align": "left"
          },
          "hovermode": "closest",
          "mapbox": {
           "style": "light"
          },
          "paper_bgcolor": "white",
          "plot_bgcolor": "#E5ECF6",
          "polar": {
           "angularaxis": {
            "gridcolor": "white",
            "linecolor": "white",
            "ticks": ""
           },
           "bgcolor": "#E5ECF6",
           "radialaxis": {
            "gridcolor": "white",
            "linecolor": "white",
            "ticks": ""
           }
          },
          "scene": {
           "xaxis": {
            "backgroundcolor": "#E5ECF6",
            "gridcolor": "white",
            "gridwidth": 2,
            "linecolor": "white",
            "showbackground": true,
            "ticks": "",
            "zerolinecolor": "white"
           },
           "yaxis": {
            "backgroundcolor": "#E5ECF6",
            "gridcolor": "white",
            "gridwidth": 2,
            "linecolor": "white",
            "showbackground": true,
            "ticks": "",
            "zerolinecolor": "white"
           },
           "zaxis": {
            "backgroundcolor": "#E5ECF6",
            "gridcolor": "white",
            "gridwidth": 2,
            "linecolor": "white",
            "showbackground": true,
            "ticks": "",
            "zerolinecolor": "white"
           }
          },
          "shapedefaults": {
           "line": {
            "color": "#2a3f5f"
           }
          },
          "ternary": {
           "aaxis": {
            "gridcolor": "white",
            "linecolor": "white",
            "ticks": ""
           },
           "baxis": {
            "gridcolor": "white",
            "linecolor": "white",
            "ticks": ""
           },
           "bgcolor": "#E5ECF6",
           "caxis": {
            "gridcolor": "white",
            "linecolor": "white",
            "ticks": ""
           }
          },
          "title": {
           "x": 0.05
          },
          "xaxis": {
           "automargin": true,
           "gridcolor": "white",
           "linecolor": "white",
           "ticks": "",
           "title": {
            "standoff": 15
           },
           "zerolinecolor": "white",
           "zerolinewidth": 2
          },
          "yaxis": {
           "automargin": true,
           "gridcolor": "white",
           "linecolor": "white",
           "ticks": "",
           "title": {
            "standoff": 15
           },
           "zerolinecolor": "white",
           "zerolinewidth": 2
          }
         }
        },
        "title": {
         "text": "Población Sonorense de 6 a 14 años (Hombres), por Edad desplegada según su aptitud para leer y escribir"
        },
        "xaxis": {
         "anchor": "y",
         "domain": [
          0,
          1
         ],
         "title": {
          "text": "Edad"
         }
        },
        "yaxis": {
         "anchor": "x",
         "domain": [
          0,
          1
         ],
         "title": {
          "text": "Número de personas"
         }
        }
       }
      }
     },
     "metadata": {},
     "output_type": "display_data"
    }
   ],
   "source": [
    "# Ahora veremos si esto pasa para los distintos sexos\n",
    "dff = censo_educacion[censo_educacion['Sexo'] == 'Hombres']\n",
    "dff = dff.groupby('Edad desplegada')[['Sabe leer y escribir', 'No sabe leer y escribir', 'No especificado']].sum().reset_index()\n",
    "dff = pd.melt(dff, value_vars=['Sabe leer y escribir', 'No sabe leer y escribir', 'No especificado'], id_vars=['Edad desplegada'])\n",
    "dff\n",
    "fig = px.bar(dff, y='value', x='Edad desplegada', color='variable', orientation='v',\n",
    "    title = 'Población Sonorense de 6 a 14 años (Hombres), por Edad desplegada según su aptitud para leer y escribir',\n",
    "            labels = {'variable':\"\",\n",
    "                        \"value\": \"Número de personas\",\n",
    "                        \"Edad desplegada\":\"Edad\" })\n",
    "fig.show()"
   ]
  },
  {
   "cell_type": "markdown",
   "metadata": {},
   "source": [
    "### Análisis por Municipio"
   ]
  },
  {
   "cell_type": "markdown",
   "metadata": {},
   "source": [
    "Teniendo los datos en este formato nos facilita el análisis, y podemos comparar entre todos los municipios en un mismo gráfico interactivo, y al pasar el mouse por la serie de tiempo, podemos ver cuales casos son los que destacan."
   ]
  },
  {
   "cell_type": "code",
   "execution_count": 243,
   "metadata": {},
   "outputs": [
    {
     "data": {
      "application/vnd.plotly.v1+json": {
       "config": {
        "plotlyServerURL": "https://plot.ly"
       },
       "data": [
        {
         "hovertemplate": "Municipio=Aconchi<br>Edad desplegada=%{x}<br>Porcentaje de Analfabetismo=%{y}<extra></extra>",
         "legendgroup": "Aconchi",
         "line": {
          "color": "#636efa",
          "dash": "solid"
         },
         "marker": {
          "symbol": "circle"
         },
         "mode": "lines",
         "name": "Aconchi",
         "orientation": "v",
         "showlegend": true,
         "type": "scatter",
         "x": [
          "06 años",
          "07 años",
          "08 años",
          "09 años",
          "10 años",
          "11 años",
          "12 años",
          "13 años",
          "14 años"
         ],
         "xaxis": "x",
         "y": [
          56.666666666666664,
          17.073170731707318,
          8.333333333333332,
          2.380952380952381,
          0,
          0,
          0,
          0,
          0
         ],
         "yaxis": "y"
        },
        {
         "hovertemplate": "Municipio=Agua Prieta<br>Edad desplegada=%{x}<br>Porcentaje de Analfabetismo=%{y}<extra></extra>",
         "legendgroup": "Agua Prieta",
         "line": {
          "color": "#EF553B",
          "dash": "solid"
         },
         "marker": {
          "symbol": "circle"
         },
         "mode": "lines",
         "name": "Agua Prieta",
         "orientation": "v",
         "showlegend": true,
         "type": "scatter",
         "x": [
          "06 años",
          "07 años",
          "08 años",
          "09 años",
          "10 años",
          "11 años",
          "12 años",
          "13 años",
          "14 años"
         ],
         "xaxis": "x",
         "y": [
          59.98831775700935,
          23.076923076923077,
          9.080118694362017,
          4.508956145768994,
          2.0951302378255945,
          1.0682492581602374,
          0.5891805034815212,
          0.5482456140350876,
          0.11235955056179776
         ],
         "yaxis": "y"
        },
        {
         "hovertemplate": "Municipio=Alamos<br>Edad desplegada=%{x}<br>Porcentaje de Analfabetismo=%{y}<extra></extra>",
         "legendgroup": "Alamos",
         "line": {
          "color": "#00cc96",
          "dash": "solid"
         },
         "marker": {
          "symbol": "circle"
         },
         "mode": "lines",
         "name": "Alamos",
         "orientation": "v",
         "showlegend": true,
         "type": "scatter",
         "x": [
          "06 años",
          "07 años",
          "08 años",
          "09 años",
          "10 años",
          "11 años",
          "12 años",
          "13 años",
          "14 años"
         ],
         "xaxis": "x",
         "y": [
          59.175257731958766,
          24.019607843137255,
          10.244988864142538,
          2.5522041763341066,
          1.48619957537155,
          0.9433962264150944,
          1.402805611222445,
          1.342281879194631,
          0.234192037470726
         ],
         "yaxis": "y"
        },
        {
         "hovertemplate": "Municipio=Altar<br>Edad desplegada=%{x}<br>Porcentaje de Analfabetismo=%{y}<extra></extra>",
         "legendgroup": "Altar",
         "line": {
          "color": "#ab63fa",
          "dash": "solid"
         },
         "marker": {
          "symbol": "circle"
         },
         "mode": "lines",
         "name": "Altar",
         "orientation": "v",
         "showlegend": true,
         "type": "scatter",
         "x": [
          "06 años",
          "07 años",
          "08 años",
          "09 años",
          "10 años",
          "11 años",
          "12 años",
          "13 años",
          "14 años"
         ],
         "xaxis": "x",
         "y": [
          56.060606060606055,
          21.890547263681594,
          10.674157303370785,
          5.88235294117647,
          0.5291005291005291,
          2.083333333333333,
          1.4634146341463417,
          0.9478672985781991,
          0
         ],
         "yaxis": "y"
        },
        {
         "hovertemplate": "Municipio=Arivechi<br>Edad desplegada=%{x}<br>Porcentaje de Analfabetismo=%{y}<extra></extra>",
         "legendgroup": "Arivechi",
         "line": {
          "color": "#FFA15A",
          "dash": "solid"
         },
         "marker": {
          "symbol": "circle"
         },
         "mode": "lines",
         "name": "Arivechi",
         "orientation": "v",
         "showlegend": true,
         "type": "scatter",
         "x": [
          "06 años",
          "07 años",
          "08 años",
          "09 años",
          "10 años",
          "11 años",
          "12 años",
          "13 años",
          "14 años"
         ],
         "xaxis": "x",
         "y": [
          31.25,
          23.52941176470588,
          3.225806451612903,
          0,
          0,
          0,
          0,
          0,
          0
         ],
         "yaxis": "y"
        },
        {
         "hovertemplate": "Municipio=Arizpe<br>Edad desplegada=%{x}<br>Porcentaje de Analfabetismo=%{y}<extra></extra>",
         "legendgroup": "Arizpe",
         "line": {
          "color": "#19d3f3",
          "dash": "solid"
         },
         "marker": {
          "symbol": "circle"
         },
         "mode": "lines",
         "name": "Arizpe",
         "orientation": "v",
         "showlegend": true,
         "type": "scatter",
         "x": [
          "06 años",
          "07 años",
          "08 años",
          "09 años",
          "10 años",
          "11 años",
          "12 años",
          "13 años",
          "14 años"
         ],
         "xaxis": "x",
         "y": [
          79.06976744186046,
          29.72972972972973,
          11.627906976744185,
          2.272727272727273,
          0,
          0,
          0,
          0,
          0
         ],
         "yaxis": "y"
        },
        {
         "hovertemplate": "Municipio=Atil<br>Edad desplegada=%{x}<br>Porcentaje de Analfabetismo=%{y}<extra></extra>",
         "legendgroup": "Atil",
         "line": {
          "color": "#FF6692",
          "dash": "solid"
         },
         "marker": {
          "symbol": "circle"
         },
         "mode": "lines",
         "name": "Atil",
         "orientation": "v",
         "showlegend": true,
         "type": "scatter",
         "x": [
          "06 años",
          "07 años",
          "08 años",
          "09 años",
          "10 años",
          "11 años",
          "12 años",
          "13 años",
          "14 años"
         ],
         "xaxis": "x",
         "y": [
          50,
          0,
          12.5,
          0,
          0,
          0,
          0,
          0,
          0
         ],
         "yaxis": "y"
        },
        {
         "hovertemplate": "Municipio=Bacadéhuachi<br>Edad desplegada=%{x}<br>Porcentaje de Analfabetismo=%{y}<extra></extra>",
         "legendgroup": "Bacadéhuachi",
         "line": {
          "color": "#B6E880",
          "dash": "solid"
         },
         "marker": {
          "symbol": "circle"
         },
         "mode": "lines",
         "name": "Bacadéhuachi",
         "orientation": "v",
         "showlegend": true,
         "type": "scatter",
         "x": [
          "06 años",
          "07 años",
          "08 años",
          "09 años",
          "10 años",
          "11 años",
          "12 años",
          "13 años",
          "14 años"
         ],
         "xaxis": "x",
         "y": [
          60,
          0,
          5.263157894736842,
          0,
          0,
          0,
          0,
          0,
          0
         ],
         "yaxis": "y"
        },
        {
         "hovertemplate": "Municipio=Bacanora<br>Edad desplegada=%{x}<br>Porcentaje de Analfabetismo=%{y}<extra></extra>",
         "legendgroup": "Bacanora",
         "line": {
          "color": "#FF97FF",
          "dash": "solid"
         },
         "marker": {
          "symbol": "circle"
         },
         "mode": "lines",
         "name": "Bacanora",
         "orientation": "v",
         "showlegend": true,
         "type": "scatter",
         "x": [
          "06 años",
          "07 años",
          "08 años",
          "09 años",
          "10 años",
          "11 años",
          "12 años",
          "13 años",
          "14 años"
         ],
         "xaxis": "x",
         "y": [
          30,
          18.181818181818183,
          5.555555555555555,
          16.666666666666664,
          0,
          0,
          0,
          0,
          0
         ],
         "yaxis": "y"
        },
        {
         "hovertemplate": "Municipio=Bacerac<br>Edad desplegada=%{x}<br>Porcentaje de Analfabetismo=%{y}<extra></extra>",
         "legendgroup": "Bacerac",
         "line": {
          "color": "#FECB52",
          "dash": "solid"
         },
         "marker": {
          "symbol": "circle"
         },
         "mode": "lines",
         "name": "Bacerac",
         "orientation": "v",
         "showlegend": true,
         "type": "scatter",
         "x": [
          "06 años",
          "07 años",
          "08 años",
          "09 años",
          "10 años",
          "11 años",
          "12 años",
          "13 años",
          "14 años"
         ],
         "xaxis": "x",
         "y": [
          52.38095238095239,
          7.142857142857142,
          0,
          5.88235294117647,
          0,
          0,
          0,
          0,
          0
         ],
         "yaxis": "y"
        },
        {
         "hovertemplate": "Municipio=Bacoachi<br>Edad desplegada=%{x}<br>Porcentaje de Analfabetismo=%{y}<extra></extra>",
         "legendgroup": "Bacoachi",
         "line": {
          "color": "#636efa",
          "dash": "solid"
         },
         "marker": {
          "symbol": "circle"
         },
         "mode": "lines",
         "name": "Bacoachi",
         "orientation": "v",
         "showlegend": true,
         "type": "scatter",
         "x": [
          "06 años",
          "07 años",
          "08 años",
          "09 años",
          "10 años",
          "11 años",
          "12 años",
          "13 años",
          "14 años"
         ],
         "xaxis": "x",
         "y": [
          80,
          21.052631578947366,
          12.5,
          0,
          0,
          4.761904761904762,
          0,
          0,
          0
         ],
         "yaxis": "y"
        },
        {
         "hovertemplate": "Municipio=Banámichi<br>Edad desplegada=%{x}<br>Porcentaje de Analfabetismo=%{y}<extra></extra>",
         "legendgroup": "Banámichi",
         "line": {
          "color": "#EF553B",
          "dash": "solid"
         },
         "marker": {
          "symbol": "circle"
         },
         "mode": "lines",
         "name": "Banámichi",
         "orientation": "v",
         "showlegend": true,
         "type": "scatter",
         "x": [
          "06 años",
          "07 años",
          "08 años",
          "09 años",
          "10 años",
          "11 años",
          "12 años",
          "13 años",
          "14 años"
         ],
         "xaxis": "x",
         "y": [
          37.03703703703704,
          11.538461538461538,
          8.571428571428571,
          0,
          0,
          0,
          0,
          0,
          0
         ],
         "yaxis": "y"
        },
        {
         "hovertemplate": "Municipio=Bavispe<br>Edad desplegada=%{x}<br>Porcentaje de Analfabetismo=%{y}<extra></extra>",
         "legendgroup": "Bavispe",
         "line": {
          "color": "#00cc96",
          "dash": "solid"
         },
         "marker": {
          "symbol": "circle"
         },
         "mode": "lines",
         "name": "Bavispe",
         "orientation": "v",
         "showlegend": true,
         "type": "scatter",
         "x": [
          "06 años",
          "07 años",
          "08 años",
          "09 años",
          "10 años",
          "11 años",
          "12 años",
          "13 años",
          "14 años"
         ],
         "xaxis": "x",
         "y": [
          57.692307692307686,
          12.5,
          5,
          5,
          11.11111111111111,
          0,
          5,
          0,
          6.0606060606060606
         ],
         "yaxis": "y"
        },
        {
         "hovertemplate": "Municipio=Baviácora<br>Edad desplegada=%{x}<br>Porcentaje de Analfabetismo=%{y}<extra></extra>",
         "legendgroup": "Baviácora",
         "line": {
          "color": "#ab63fa",
          "dash": "solid"
         },
         "marker": {
          "symbol": "circle"
         },
         "mode": "lines",
         "name": "Baviácora",
         "orientation": "v",
         "showlegend": true,
         "type": "scatter",
         "x": [
          "06 años",
          "07 años",
          "08 años",
          "09 años",
          "10 años",
          "11 años",
          "12 años",
          "13 años",
          "14 años"
         ],
         "xaxis": "x",
         "y": [
          55.10204081632652,
          12.727272727272727,
          5,
          4.878048780487805,
          0,
          0,
          0,
          0,
          0
         ],
         "yaxis": "y"
        },
        {
         "hovertemplate": "Municipio=Benito Juárez<br>Edad desplegada=%{x}<br>Porcentaje de Analfabetismo=%{y}<extra></extra>",
         "legendgroup": "Benito Juárez",
         "line": {
          "color": "#FFA15A",
          "dash": "solid"
         },
         "marker": {
          "symbol": "circle"
         },
         "mode": "lines",
         "name": "Benito Juárez",
         "orientation": "v",
         "showlegend": true,
         "type": "scatter",
         "x": [
          "06 años",
          "07 años",
          "08 años",
          "09 años",
          "10 años",
          "11 años",
          "12 años",
          "13 años",
          "14 años"
         ],
         "xaxis": "x",
         "y": [
          66.84636118598382,
          25.789473684210527,
          12.096774193548388,
          6.214689265536723,
          2.604166666666667,
          0.5602240896358543,
          1.282051282051282,
          1.9704433497536946,
          0
         ],
         "yaxis": "y"
        },
        {
         "hovertemplate": "Municipio=Benjamín Hill<br>Edad desplegada=%{x}<br>Porcentaje de Analfabetismo=%{y}<extra></extra>",
         "legendgroup": "Benjamín Hill",
         "line": {
          "color": "#19d3f3",
          "dash": "solid"
         },
         "marker": {
          "symbol": "circle"
         },
         "mode": "lines",
         "name": "Benjamín Hill",
         "orientation": "v",
         "showlegend": true,
         "type": "scatter",
         "x": [
          "06 años",
          "07 años",
          "08 años",
          "09 años",
          "10 años",
          "11 años",
          "12 años",
          "13 años",
          "14 años"
         ],
         "xaxis": "x",
         "y": [
          71.05263157894737,
          20,
          7.07070707070707,
          7.0588235294117645,
          1.0204081632653061,
          0,
          1.1627906976744187,
          1.0309278350515463,
          0
         ],
         "yaxis": "y"
        },
        {
         "hovertemplate": "Municipio=Bácum<br>Edad desplegada=%{x}<br>Porcentaje de Analfabetismo=%{y}<extra></extra>",
         "legendgroup": "Bácum",
         "line": {
          "color": "#FF6692",
          "dash": "solid"
         },
         "marker": {
          "symbol": "circle"
         },
         "mode": "lines",
         "name": "Bácum",
         "orientation": "v",
         "showlegend": true,
         "type": "scatter",
         "x": [
          "06 años",
          "07 años",
          "08 años",
          "09 años",
          "10 años",
          "11 años",
          "12 años",
          "13 años",
          "14 años"
         ],
         "xaxis": "x",
         "y": [
          65.39509536784742,
          28.186274509803923,
          7.37913486005089,
          4.265402843601896,
          0.6928406466512702,
          0.8333333333333334,
          1.0638297872340425,
          1.278772378516624,
          0
         ],
         "yaxis": "y"
        },
        {
         "hovertemplate": "Municipio=Caborca<br>Edad desplegada=%{x}<br>Porcentaje de Analfabetismo=%{y}<extra></extra>",
         "legendgroup": "Caborca",
         "line": {
          "color": "#B6E880",
          "dash": "solid"
         },
         "marker": {
          "symbol": "circle"
         },
         "mode": "lines",
         "name": "Caborca",
         "orientation": "v",
         "showlegend": true,
         "type": "scatter",
         "x": [
          "06 años",
          "07 años",
          "08 años",
          "09 años",
          "10 años",
          "11 años",
          "12 años",
          "13 años",
          "14 años"
         ],
         "xaxis": "x",
         "y": [
          54.24050632911393,
          19.703520691785055,
          7.620164126611957,
          2.9784537389100127,
          1.4925373134328357,
          0.857843137254902,
          1.023890784982935,
          0.3448275862068966,
          0.31826861871419476
         ],
         "yaxis": "y"
        },
        {
         "hovertemplate": "Municipio=Cajeme<br>Edad desplegada=%{x}<br>Porcentaje de Analfabetismo=%{y}<extra></extra>",
         "legendgroup": "Cajeme",
         "line": {
          "color": "#FF97FF",
          "dash": "solid"
         },
         "marker": {
          "symbol": "circle"
         },
         "mode": "lines",
         "name": "Cajeme",
         "orientation": "v",
         "showlegend": true,
         "type": "scatter",
         "x": [
          "06 años",
          "07 años",
          "08 años",
          "09 años",
          "10 años",
          "11 años",
          "12 años",
          "13 años",
          "14 años"
         ],
         "xaxis": "x",
         "y": [
          51.14203600060505,
          18.57015722337585,
          6.497014500995165,
          3.6709619418639496,
          1.5287150530229996,
          0.805407737667194,
          0.5863103354240524,
          0.5371160997107837,
          0.36879432624113473
         ],
         "yaxis": "y"
        },
        {
         "hovertemplate": "Municipio=Cananea<br>Edad desplegada=%{x}<br>Porcentaje de Analfabetismo=%{y}<extra></extra>",
         "legendgroup": "Cananea",
         "line": {
          "color": "#FECB52",
          "dash": "solid"
         },
         "marker": {
          "symbol": "circle"
         },
         "mode": "lines",
         "name": "Cananea",
         "orientation": "v",
         "showlegend": true,
         "type": "scatter",
         "x": [
          "06 años",
          "07 años",
          "08 años",
          "09 años",
          "10 años",
          "11 años",
          "12 años",
          "13 años",
          "14 años"
         ],
         "xaxis": "x",
         "y": [
          61.45695364238411,
          22.39221140472879,
          6.109725685785536,
          1.610541727672035,
          1.2413793103448276,
          0.5698005698005698,
          0.26041666666666663,
          0.40705563093622793,
          0
         ],
         "yaxis": "y"
        },
        {
         "hovertemplate": "Municipio=Carbó<br>Edad desplegada=%{x}<br>Porcentaje de Analfabetismo=%{y}<extra></extra>",
         "legendgroup": "Carbó",
         "line": {
          "color": "#636efa",
          "dash": "solid"
         },
         "marker": {
          "symbol": "circle"
         },
         "mode": "lines",
         "name": "Carbó",
         "orientation": "v",
         "showlegend": true,
         "type": "scatter",
         "x": [
          "06 años",
          "07 años",
          "08 años",
          "09 años",
          "10 años",
          "11 años",
          "12 años",
          "13 años",
          "14 años"
         ],
         "xaxis": "x",
         "y": [
          67.77777777777779,
          29.896907216494846,
          18.181818181818183,
          5.05050505050505,
          1.0752688172043012,
          0,
          1.0526315789473684,
          1.0638297872340425,
          0
         ],
         "yaxis": "y"
        },
        {
         "hovertemplate": "Municipio=Cucurpe<br>Edad desplegada=%{x}<br>Porcentaje de Analfabetismo=%{y}<extra></extra>",
         "legendgroup": "Cucurpe",
         "line": {
          "color": "#EF553B",
          "dash": "solid"
         },
         "marker": {
          "symbol": "circle"
         },
         "mode": "lines",
         "name": "Cucurpe",
         "orientation": "v",
         "showlegend": true,
         "type": "scatter",
         "x": [
          "06 años",
          "07 años",
          "08 años",
          "09 años",
          "10 años",
          "11 años",
          "12 años",
          "13 años",
          "14 años"
         ],
         "xaxis": "x",
         "y": [
          52.94117647058824,
          11.11111111111111,
          0,
          0,
          0,
          0,
          0,
          0,
          0
         ],
         "yaxis": "y"
        },
        {
         "hovertemplate": "Municipio=Cumpas<br>Edad desplegada=%{x}<br>Porcentaje de Analfabetismo=%{y}<extra></extra>",
         "legendgroup": "Cumpas",
         "line": {
          "color": "#00cc96",
          "dash": "solid"
         },
         "marker": {
          "symbol": "circle"
         },
         "mode": "lines",
         "name": "Cumpas",
         "orientation": "v",
         "showlegend": true,
         "type": "scatter",
         "x": [
          "06 años",
          "07 años",
          "08 años",
          "09 años",
          "10 años",
          "11 años",
          "12 años",
          "13 años",
          "14 años"
         ],
         "xaxis": "x",
         "y": [
          40.20618556701031,
          10.227272727272728,
          3.3707865168539324,
          5.194805194805195,
          0,
          0,
          0,
          0,
          0
         ],
         "yaxis": "y"
        },
        {
         "hovertemplate": "Municipio=Divisaderos<br>Edad desplegada=%{x}<br>Porcentaje de Analfabetismo=%{y}<extra></extra>",
         "legendgroup": "Divisaderos",
         "line": {
          "color": "#ab63fa",
          "dash": "solid"
         },
         "marker": {
          "symbol": "circle"
         },
         "mode": "lines",
         "name": "Divisaderos",
         "orientation": "v",
         "showlegend": true,
         "type": "scatter",
         "x": [
          "06 años",
          "07 años",
          "08 años",
          "09 años",
          "10 años",
          "11 años",
          "12 años",
          "13 años",
          "14 años"
         ],
         "xaxis": "x",
         "y": [
          46.15384615384615,
          5.555555555555555,
          0,
          0,
          8.333333333333332,
          0,
          0,
          0,
          0
         ],
         "yaxis": "y"
        },
        {
         "hovertemplate": "Municipio=Empalme<br>Edad desplegada=%{x}<br>Porcentaje de Analfabetismo=%{y}<extra></extra>",
         "legendgroup": "Empalme",
         "line": {
          "color": "#FFA15A",
          "dash": "solid"
         },
         "marker": {
          "symbol": "circle"
         },
         "mode": "lines",
         "name": "Empalme",
         "orientation": "v",
         "showlegend": true,
         "type": "scatter",
         "x": [
          "06 años",
          "07 años",
          "08 años",
          "09 años",
          "10 años",
          "11 años",
          "12 años",
          "13 años",
          "14 años"
         ],
         "xaxis": "x",
         "y": [
          59.02031063321386,
          22.829964328180736,
          8.958566629339305,
          4.137115839243498,
          1.6073478760045925,
          0.6127450980392157,
          1.0548523206751055,
          0.5952380952380952,
          0.6912442396313364
         ],
         "yaxis": "y"
        },
        {
         "hovertemplate": "Municipio=Etchojoa<br>Edad desplegada=%{x}<br>Porcentaje de Analfabetismo=%{y}<extra></extra>",
         "legendgroup": "Etchojoa",
         "line": {
          "color": "#19d3f3",
          "dash": "solid"
         },
         "marker": {
          "symbol": "circle"
         },
         "mode": "lines",
         "name": "Etchojoa",
         "orientation": "v",
         "showlegend": true,
         "type": "scatter",
         "x": [
          "06 años",
          "07 años",
          "08 años",
          "09 años",
          "10 años",
          "11 años",
          "12 años",
          "13 años",
          "14 años"
         ],
         "xaxis": "x",
         "y": [
          73.17554240631164,
          35.08956796628029,
          13.672654690618764,
          5.7312252964426875,
          1.8036072144288577,
          0.7079646017699115,
          0.3593890386343217,
          0.9393680614859093,
          0.6808510638297872
         ],
         "yaxis": "y"
        },
        {
         "hovertemplate": "Municipio=Fronteras<br>Edad desplegada=%{x}<br>Porcentaje de Analfabetismo=%{y}<extra></extra>",
         "legendgroup": "Fronteras",
         "line": {
          "color": "#FF6692",
          "dash": "solid"
         },
         "marker": {
          "symbol": "circle"
         },
         "mode": "lines",
         "name": "Fronteras",
         "orientation": "v",
         "showlegend": true,
         "type": "scatter",
         "x": [
          "06 años",
          "07 años",
          "08 años",
          "09 años",
          "10 años",
          "11 años",
          "12 años",
          "13 años",
          "14 años"
         ],
         "xaxis": "x",
         "y": [
          46.391752577319586,
          8.064516129032258,
          3.125,
          3.389830508474576,
          0.45045045045045046,
          0,
          0.45871559633027525,
          0,
          0.5952380952380952
         ],
         "yaxis": "y"
        },
        {
         "hovertemplate": "Municipio=General Plutarco Elías Calles<br>Edad desplegada=%{x}<br>Porcentaje de Analfabetismo=%{y}<extra></extra>",
         "legendgroup": "General Plutarco Elías Calles",
         "line": {
          "color": "#B6E880",
          "dash": "solid"
         },
         "marker": {
          "symbol": "circle"
         },
         "mode": "lines",
         "name": "General Plutarco Elías Calles",
         "orientation": "v",
         "showlegend": true,
         "type": "scatter",
         "x": [
          "06 años",
          "07 años",
          "08 años",
          "09 años",
          "10 años",
          "11 años",
          "12 años",
          "13 años",
          "14 años"
         ],
         "xaxis": "x",
         "y": [
          65.90163934426229,
          27.516778523489933,
          14.457831325301203,
          4.929577464788732,
          1.3289036544850499,
          1.4234875444839856,
          0,
          0.628930817610063,
          0.36363636363636365
         ],
         "yaxis": "y"
        },
        {
         "hovertemplate": "Municipio=Granados<br>Edad desplegada=%{x}<br>Porcentaje de Analfabetismo=%{y}<extra></extra>",
         "legendgroup": "Granados",
         "line": {
          "color": "#FF97FF",
          "dash": "solid"
         },
         "marker": {
          "symbol": "circle"
         },
         "mode": "lines",
         "name": "Granados",
         "orientation": "v",
         "showlegend": true,
         "type": "scatter",
         "x": [
          "06 años",
          "07 años",
          "08 años",
          "09 años",
          "10 años",
          "11 años",
          "12 años",
          "13 años",
          "14 años"
         ],
         "xaxis": "x",
         "y": [
          66.66666666666666,
          22.22222222222222,
          12.5,
          0,
          0,
          8.333333333333332,
          0,
          0,
          0
         ],
         "yaxis": "y"
        },
        {
         "hovertemplate": "Municipio=Guaymas<br>Edad desplegada=%{x}<br>Porcentaje de Analfabetismo=%{y}<extra></extra>",
         "legendgroup": "Guaymas",
         "line": {
          "color": "#FECB52",
          "dash": "solid"
         },
         "marker": {
          "symbol": "circle"
         },
         "mode": "lines",
         "name": "Guaymas",
         "orientation": "v",
         "showlegend": true,
         "type": "scatter",
         "x": [
          "06 años",
          "07 años",
          "08 años",
          "09 años",
          "10 años",
          "11 años",
          "12 años",
          "13 años",
          "14 años"
         ],
         "xaxis": "x",
         "y": [
          60.62639821029083,
          26.985981308411215,
          10.687022900763358,
          4.919292851652575,
          1.9607843137254901,
          1.3033175355450237,
          0.8695652173913043,
          0.6415396952686447,
          0.6888633754305395
         ],
         "yaxis": "y"
        },
        {
         "hovertemplate": "Municipio=Hermosillo<br>Edad desplegada=%{x}<br>Porcentaje de Analfabetismo=%{y}<extra></extra>",
         "legendgroup": "Hermosillo",
         "line": {
          "color": "#636efa",
          "dash": "solid"
         },
         "marker": {
          "symbol": "circle"
         },
         "mode": "lines",
         "name": "Hermosillo",
         "orientation": "v",
         "showlegend": true,
         "type": "scatter",
         "x": [
          "06 años",
          "07 años",
          "08 años",
          "09 años",
          "10 años",
          "11 años",
          "12 años",
          "13 años",
          "14 años"
         ],
         "xaxis": "x",
         "y": [
          54.14881697752587,
          19.231765772768494,
          7.778342653787494,
          3.7539308176100628,
          1.5477996965098635,
          0.8270972823946435,
          0.5645645645645646,
          0.43284532145130494,
          0.4535735113069397
         ],
         "yaxis": "y"
        },
        {
         "hovertemplate": "Municipio=Huachinera<br>Edad desplegada=%{x}<br>Porcentaje de Analfabetismo=%{y}<extra></extra>",
         "legendgroup": "Huachinera",
         "line": {
          "color": "#EF553B",
          "dash": "solid"
         },
         "marker": {
          "symbol": "circle"
         },
         "mode": "lines",
         "name": "Huachinera",
         "orientation": "v",
         "showlegend": true,
         "type": "scatter",
         "x": [
          "06 años",
          "07 años",
          "08 años",
          "09 años",
          "10 años",
          "11 años",
          "12 años",
          "13 años",
          "14 años"
         ],
         "xaxis": "x",
         "y": [
          63.63636363636363,
          21.428571428571427,
          8,
          0,
          0,
          0,
          0,
          3.7037037037037033,
          0
         ],
         "yaxis": "y"
        },
        {
         "hovertemplate": "Municipio=Huatabampo<br>Edad desplegada=%{x}<br>Porcentaje de Analfabetismo=%{y}<extra></extra>",
         "legendgroup": "Huatabampo",
         "line": {
          "color": "#00cc96",
          "dash": "solid"
         },
         "marker": {
          "symbol": "circle"
         },
         "mode": "lines",
         "name": "Huatabampo",
         "orientation": "v",
         "showlegend": true,
         "type": "scatter",
         "x": [
          "06 años",
          "07 años",
          "08 años",
          "09 años",
          "10 años",
          "11 años",
          "12 años",
          "13 años",
          "14 años"
         ],
         "xaxis": "x",
         "y": [
          59.64912280701754,
          24.956822107081177,
          6.742485783915515,
          2.720527617477329,
          1.3535031847133758,
          0.6557377049180327,
          0.5359877488514548,
          0.29784065524944153,
          0.22140221402214022
         ],
         "yaxis": "y"
        },
        {
         "hovertemplate": "Municipio=Huásabas<br>Edad desplegada=%{x}<br>Porcentaje de Analfabetismo=%{y}<extra></extra>",
         "legendgroup": "Huásabas",
         "line": {
          "color": "#ab63fa",
          "dash": "solid"
         },
         "marker": {
          "symbol": "circle"
         },
         "mode": "lines",
         "name": "Huásabas",
         "orientation": "v",
         "showlegend": true,
         "type": "scatter",
         "x": [
          "06 años",
          "07 años",
          "08 años",
          "09 años",
          "10 años",
          "11 años",
          "12 años",
          "13 años",
          "14 años"
         ],
         "xaxis": "x",
         "y": [
          37.5,
          33.33333333333333,
          11.11111111111111,
          0,
          0,
          0,
          0,
          0,
          0
         ],
         "yaxis": "y"
        },
        {
         "hovertemplate": "Municipio=Huépac<br>Edad desplegada=%{x}<br>Porcentaje de Analfabetismo=%{y}<extra></extra>",
         "legendgroup": "Huépac",
         "line": {
          "color": "#FFA15A",
          "dash": "solid"
         },
         "marker": {
          "symbol": "circle"
         },
         "mode": "lines",
         "name": "Huépac",
         "orientation": "v",
         "showlegend": true,
         "type": "scatter",
         "x": [
          "06 años",
          "07 años",
          "08 años",
          "09 años",
          "10 años",
          "11 años",
          "12 años",
          "13 años",
          "14 años"
         ],
         "xaxis": "x",
         "y": [
          37.5,
          0,
          0,
          0,
          0,
          0,
          0,
          0,
          0
         ],
         "yaxis": "y"
        },
        {
         "hovertemplate": "Municipio=Imuris<br>Edad desplegada=%{x}<br>Porcentaje de Analfabetismo=%{y}<extra></extra>",
         "legendgroup": "Imuris",
         "line": {
          "color": "#19d3f3",
          "dash": "solid"
         },
         "marker": {
          "symbol": "circle"
         },
         "mode": "lines",
         "name": "Imuris",
         "orientation": "v",
         "showlegend": true,
         "type": "scatter",
         "x": [
          "06 años",
          "07 años",
          "08 años",
          "09 años",
          "10 años",
          "11 años",
          "12 años",
          "13 años",
          "14 años"
         ],
         "xaxis": "x",
         "y": [
          67.77251184834124,
          26.108374384236456,
          13.358778625954198,
          4.385964912280701,
          0.8032128514056224,
          0,
          1.1278195488721803,
          0.3968253968253968,
          0.4098360655737705
         ],
         "yaxis": "y"
        },
        {
         "hovertemplate": "Municipio=La Colorada<br>Edad desplegada=%{x}<br>Porcentaje de Analfabetismo=%{y}<extra></extra>",
         "legendgroup": "La Colorada",
         "line": {
          "color": "#FF6692",
          "dash": "solid"
         },
         "marker": {
          "symbol": "circle"
         },
         "mode": "lines",
         "name": "La Colorada",
         "orientation": "v",
         "showlegend": true,
         "type": "scatter",
         "x": [
          "06 años",
          "07 años",
          "08 años",
          "09 años",
          "10 años",
          "11 años",
          "12 años",
          "13 años",
          "14 años"
         ],
         "xaxis": "x",
         "y": [
          71.42857142857143,
          13.043478260869565,
          4.761904761904762,
          11.76470588235294,
          0,
          0,
          0,
          3.4482758620689653,
          0
         ],
         "yaxis": "y"
        },
        {
         "hovertemplate": "Municipio=Magdalena<br>Edad desplegada=%{x}<br>Porcentaje de Analfabetismo=%{y}<extra></extra>",
         "legendgroup": "Magdalena",
         "line": {
          "color": "#B6E880",
          "dash": "solid"
         },
         "marker": {
          "symbol": "circle"
         },
         "mode": "lines",
         "name": "Magdalena",
         "orientation": "v",
         "showlegend": true,
         "type": "scatter",
         "x": [
          "06 años",
          "07 años",
          "08 años",
          "09 años",
          "10 años",
          "11 años",
          "12 años",
          "13 años",
          "14 años"
         ],
         "xaxis": "x",
         "y": [
          55.75657894736842,
          25.41528239202658,
          8.766233766233766,
          3.163444639718805,
          1.09717868338558,
          1.0507880910683012,
          0.30721966205837176,
          0.16393442622950818,
          0
         ],
         "yaxis": "y"
        },
        {
         "hovertemplate": "Municipio=Mazatán<br>Edad desplegada=%{x}<br>Porcentaje de Analfabetismo=%{y}<extra></extra>",
         "legendgroup": "Mazatán",
         "line": {
          "color": "#FF97FF",
          "dash": "solid"
         },
         "marker": {
          "symbol": "circle"
         },
         "mode": "lines",
         "name": "Mazatán",
         "orientation": "v",
         "showlegend": true,
         "type": "scatter",
         "x": [
          "06 años",
          "07 años",
          "08 años",
          "09 años",
          "10 años",
          "11 años",
          "12 años",
          "13 años",
          "14 años"
         ],
         "xaxis": "x",
         "y": [
          56.25,
          9.523809523809524,
          0,
          0,
          0,
          0,
          0,
          0,
          0
         ],
         "yaxis": "y"
        },
        {
         "hovertemplate": "Municipio=Moctezuma<br>Edad desplegada=%{x}<br>Porcentaje de Analfabetismo=%{y}<extra></extra>",
         "legendgroup": "Moctezuma",
         "line": {
          "color": "#FECB52",
          "dash": "solid"
         },
         "marker": {
          "symbol": "circle"
         },
         "mode": "lines",
         "name": "Moctezuma",
         "orientation": "v",
         "showlegend": true,
         "type": "scatter",
         "x": [
          "06 años",
          "07 años",
          "08 años",
          "09 años",
          "10 años",
          "11 años",
          "12 años",
          "13 años",
          "14 años"
         ],
         "xaxis": "x",
         "y": [
          60.810810810810814,
          17.56756756756757,
          5.617977528089887,
          0,
          0,
          0,
          0,
          0,
          1.25
         ],
         "yaxis": "y"
        },
        {
         "hovertemplate": "Municipio=Naco<br>Edad desplegada=%{x}<br>Porcentaje de Analfabetismo=%{y}<extra></extra>",
         "legendgroup": "Naco",
         "line": {
          "color": "#636efa",
          "dash": "solid"
         },
         "marker": {
          "symbol": "circle"
         },
         "mode": "lines",
         "name": "Naco",
         "orientation": "v",
         "showlegend": true,
         "type": "scatter",
         "x": [
          "06 años",
          "07 años",
          "08 años",
          "09 años",
          "10 años",
          "11 años",
          "12 años",
          "13 años",
          "14 años"
         ],
         "xaxis": "x",
         "y": [
          58.03571428571429,
          35.04273504273504,
          18.852459016393443,
          4.132231404958678,
          1.7241379310344827,
          0.78125,
          0.7246376811594203,
          0,
          0
         ],
         "yaxis": "y"
        },
        {
         "hovertemplate": "Municipio=Nacozari de García<br>Edad desplegada=%{x}<br>Porcentaje de Analfabetismo=%{y}<extra></extra>",
         "legendgroup": "Nacozari de García",
         "line": {
          "color": "#EF553B",
          "dash": "solid"
         },
         "marker": {
          "symbol": "circle"
         },
         "mode": "lines",
         "name": "Nacozari de García",
         "orientation": "v",
         "showlegend": true,
         "type": "scatter",
         "x": [
          "06 años",
          "07 años",
          "08 años",
          "09 años",
          "10 años",
          "11 años",
          "12 años",
          "13 años",
          "14 años"
         ],
         "xaxis": "x",
         "y": [
          40.458015267175576,
          11.913357400722022,
          7.987220447284344,
          4.3478260869565215,
          2.9315960912052117,
          0.7782101167315175,
          0,
          0,
          0
         ],
         "yaxis": "y"
        },
        {
         "hovertemplate": "Municipio=Navojoa<br>Edad desplegada=%{x}<br>Porcentaje de Analfabetismo=%{y}<extra></extra>",
         "legendgroup": "Navojoa",
         "line": {
          "color": "#00cc96",
          "dash": "solid"
         },
         "marker": {
          "symbol": "circle"
         },
         "mode": "lines",
         "name": "Navojoa",
         "orientation": "v",
         "showlegend": true,
         "type": "scatter",
         "x": [
          "06 años",
          "07 años",
          "08 años",
          "09 años",
          "10 años",
          "11 años",
          "12 años",
          "13 años",
          "14 años"
         ],
         "xaxis": "x",
         "y": [
          60.81466395112016,
          21.941747572815533,
          8.192307692307692,
          3.4988713318284423,
          1.6660496112550907,
          0.9608277900960829,
          0.47473719905052564,
          0.2785515320334262,
          0.3794411866160745
         ],
         "yaxis": "y"
        },
        {
         "hovertemplate": "Municipio=Nogales<br>Edad desplegada=%{x}<br>Porcentaje de Analfabetismo=%{y}<extra></extra>",
         "legendgroup": "Nogales",
         "line": {
          "color": "#ab63fa",
          "dash": "solid"
         },
         "marker": {
          "symbol": "circle"
         },
         "mode": "lines",
         "name": "Nogales",
         "orientation": "v",
         "showlegend": true,
         "type": "scatter",
         "x": [
          "06 años",
          "07 años",
          "08 años",
          "09 años",
          "10 años",
          "11 años",
          "12 años",
          "13 años",
          "14 años"
         ],
         "xaxis": "x",
         "y": [
          53.648442605096925,
          18.235667442352444,
          7.333333333333333,
          2.946748053041465,
          1.4859973328253,
          0.6519967400162999,
          0.3393665158371041,
          0.2158132234647832,
          0.45427612087695046
         ],
         "yaxis": "y"
        },
        {
         "hovertemplate": "Municipio=Nácori Chico<br>Edad desplegada=%{x}<br>Porcentaje de Analfabetismo=%{y}<extra></extra>",
         "legendgroup": "Nácori Chico",
         "line": {
          "color": "#FFA15A",
          "dash": "solid"
         },
         "marker": {
          "symbol": "circle"
         },
         "mode": "lines",
         "name": "Nácori Chico",
         "orientation": "v",
         "showlegend": true,
         "type": "scatter",
         "x": [
          "06 años",
          "07 años",
          "08 años",
          "09 años",
          "10 años",
          "11 años",
          "12 años",
          "13 años",
          "14 años"
         ],
         "xaxis": "x",
         "y": [
          65,
          16,
          0,
          0,
          0,
          0,
          0,
          0,
          0
         ],
         "yaxis": "y"
        },
        {
         "hovertemplate": "Municipio=Onavas<br>Edad desplegada=%{x}<br>Porcentaje de Analfabetismo=%{y}<extra></extra>",
         "legendgroup": "Onavas",
         "line": {
          "color": "#19d3f3",
          "dash": "solid"
         },
         "marker": {
          "symbol": "circle"
         },
         "mode": "lines",
         "name": "Onavas",
         "orientation": "v",
         "showlegend": true,
         "type": "scatter",
         "x": [
          "06 años",
          "07 años",
          "08 años",
          "09 años",
          "10 años",
          "11 años",
          "12 años",
          "13 años",
          "14 años"
         ],
         "xaxis": "x",
         "y": [
          50,
          33.33333333333333,
          0,
          0,
          0,
          0,
          0,
          0,
          0
         ],
         "yaxis": "y"
        },
        {
         "hovertemplate": "Municipio=Opodepe<br>Edad desplegada=%{x}<br>Porcentaje de Analfabetismo=%{y}<extra></extra>",
         "legendgroup": "Opodepe",
         "line": {
          "color": "#FF6692",
          "dash": "solid"
         },
         "marker": {
          "symbol": "circle"
         },
         "mode": "lines",
         "name": "Opodepe",
         "orientation": "v",
         "showlegend": true,
         "type": "scatter",
         "x": [
          "06 años",
          "07 años",
          "08 años",
          "09 años",
          "10 años",
          "11 años",
          "12 años",
          "13 años",
          "14 años"
         ],
         "xaxis": "x",
         "y": [
          50,
          25,
          5.714285714285714,
          0,
          0,
          0,
          0,
          0,
          0
         ],
         "yaxis": "y"
        },
        {
         "hovertemplate": "Municipio=Oquitoa<br>Edad desplegada=%{x}<br>Porcentaje de Analfabetismo=%{y}<extra></extra>",
         "legendgroup": "Oquitoa",
         "line": {
          "color": "#B6E880",
          "dash": "solid"
         },
         "marker": {
          "symbol": "circle"
         },
         "mode": "lines",
         "name": "Oquitoa",
         "orientation": "v",
         "showlegend": true,
         "type": "scatter",
         "x": [
          "06 años",
          "07 años",
          "08 años",
          "09 años",
          "10 años",
          "11 años",
          "12 años",
          "13 años",
          "14 años"
         ],
         "xaxis": "x",
         "y": [
          100,
          0,
          0,
          0,
          0,
          0,
          0,
          0,
          0
         ],
         "yaxis": "y"
        },
        {
         "hovertemplate": "Municipio=Pitiquito<br>Edad desplegada=%{x}<br>Porcentaje de Analfabetismo=%{y}<extra></extra>",
         "legendgroup": "Pitiquito",
         "line": {
          "color": "#FF97FF",
          "dash": "solid"
         },
         "marker": {
          "symbol": "circle"
         },
         "mode": "lines",
         "name": "Pitiquito",
         "orientation": "v",
         "showlegend": true,
         "type": "scatter",
         "x": [
          "06 años",
          "07 años",
          "08 años",
          "09 años",
          "10 años",
          "11 años",
          "12 años",
          "13 años",
          "14 años"
         ],
         "xaxis": "x",
         "y": [
          51.02040816326531,
          12.121212121212121,
          5.202312138728324,
          2.2058823529411766,
          2.5316455696202533,
          0.7407407407407408,
          0.6097560975609756,
          0,
          0.628930817610063
         ],
         "yaxis": "y"
        },
        {
         "hovertemplate": "Municipio=Puerto Peñasco<br>Edad desplegada=%{x}<br>Porcentaje de Analfabetismo=%{y}<extra></extra>",
         "legendgroup": "Puerto Peñasco",
         "line": {
          "color": "#FECB52",
          "dash": "solid"
         },
         "marker": {
          "symbol": "circle"
         },
         "mode": "lines",
         "name": "Puerto Peñasco",
         "orientation": "v",
         "showlegend": true,
         "type": "scatter",
         "x": [
          "06 años",
          "07 años",
          "08 años",
          "09 años",
          "10 años",
          "11 años",
          "12 años",
          "13 años",
          "14 años"
         ],
         "xaxis": "x",
         "y": [
          60,
          25.849212924606462,
          8.724279835390947,
          4.849498327759197,
          1.8153117600631412,
          0.9486166007905139,
          0.23076923076923078,
          0.3952569169960474,
          0.32441200324412006
         ],
         "yaxis": "y"
        },
        {
         "hovertemplate": "Municipio=Quiriego<br>Edad desplegada=%{x}<br>Porcentaje de Analfabetismo=%{y}<extra></extra>",
         "legendgroup": "Quiriego",
         "line": {
          "color": "#636efa",
          "dash": "solid"
         },
         "marker": {
          "symbol": "circle"
         },
         "mode": "lines",
         "name": "Quiriego",
         "orientation": "v",
         "showlegend": true,
         "type": "scatter",
         "x": [
          "06 años",
          "07 años",
          "08 años",
          "09 años",
          "10 años",
          "11 años",
          "12 años",
          "13 años",
          "14 años"
         ],
         "xaxis": "x",
         "y": [
          73.58490566037736,
          43.103448275862064,
          17.307692307692307,
          3.3333333333333335,
          1.8181818181818181,
          1.7543859649122806,
          3.9215686274509802,
          1.9230769230769231,
          3.9215686274509802
         ],
         "yaxis": "y"
        },
        {
         "hovertemplate": "Municipio=Rayón<br>Edad desplegada=%{x}<br>Porcentaje de Analfabetismo=%{y}<extra></extra>",
         "legendgroup": "Rayón",
         "line": {
          "color": "#EF553B",
          "dash": "solid"
         },
         "marker": {
          "symbol": "circle"
         },
         "mode": "lines",
         "name": "Rayón",
         "orientation": "v",
         "showlegend": true,
         "type": "scatter",
         "x": [
          "06 años",
          "07 años",
          "08 años",
          "09 años",
          "10 años",
          "11 años",
          "12 años",
          "13 años",
          "14 años"
         ],
         "xaxis": "x",
         "y": [
          62.5,
          36,
          8.695652173913043,
          5.88235294117647,
          4.545454545454546,
          0,
          0,
          5,
          0
         ],
         "yaxis": "y"
        },
        {
         "hovertemplate": "Municipio=Rosario<br>Edad desplegada=%{x}<br>Porcentaje de Analfabetismo=%{y}<extra></extra>",
         "legendgroup": "Rosario",
         "line": {
          "color": "#00cc96",
          "dash": "solid"
         },
         "marker": {
          "symbol": "circle"
         },
         "mode": "lines",
         "name": "Rosario",
         "orientation": "v",
         "showlegend": true,
         "type": "scatter",
         "x": [
          "06 años",
          "07 años",
          "08 años",
          "09 años",
          "10 años",
          "11 años",
          "12 años",
          "13 años",
          "14 años"
         ],
         "xaxis": "x",
         "y": [
          67.46987951807229,
          29.761904761904763,
          6.666666666666667,
          5.970149253731343,
          1.8691588785046727,
          1.0416666666666665,
          2.247191011235955,
          1.1764705882352942,
          1.1235955056179776
         ],
         "yaxis": "y"
        },
        {
         "hovertemplate": "Municipio=Sahuaripa<br>Edad desplegada=%{x}<br>Porcentaje de Analfabetismo=%{y}<extra></extra>",
         "legendgroup": "Sahuaripa",
         "line": {
          "color": "#ab63fa",
          "dash": "solid"
         },
         "marker": {
          "symbol": "circle"
         },
         "mode": "lines",
         "name": "Sahuaripa",
         "orientation": "v",
         "showlegend": true,
         "type": "scatter",
         "x": [
          "06 años",
          "07 años",
          "08 años",
          "09 años",
          "10 años",
          "11 años",
          "12 años",
          "13 años",
          "14 años"
         ],
         "xaxis": "x",
         "y": [
          58.46153846153847,
          23.655913978494624,
          5.813953488372093,
          2.5,
          0,
          0,
          1.0526315789473684,
          0,
          1.0869565217391304
         ],
         "yaxis": "y"
        },
        {
         "hovertemplate": "Municipio=San Felipe de Jesús<br>Edad desplegada=%{x}<br>Porcentaje de Analfabetismo=%{y}<extra></extra>",
         "legendgroup": "San Felipe de Jesús",
         "line": {
          "color": "#FFA15A",
          "dash": "solid"
         },
         "marker": {
          "symbol": "circle"
         },
         "mode": "lines",
         "name": "San Felipe de Jesús",
         "orientation": "v",
         "showlegend": true,
         "type": "scatter",
         "x": [
          "06 años",
          "07 años",
          "08 años",
          "09 años",
          "10 años",
          "11 años",
          "12 años",
          "13 años",
          "14 años"
         ],
         "xaxis": "x",
         "y": [
          100,
          33.33333333333333,
          20,
          12.5,
          0,
          0,
          0,
          0,
          0
         ],
         "yaxis": "y"
        },
        {
         "hovertemplate": "Municipio=San Ignacio Río Muerto<br>Edad desplegada=%{x}<br>Porcentaje de Analfabetismo=%{y}<extra></extra>",
         "legendgroup": "San Ignacio Río Muerto",
         "line": {
          "color": "#19d3f3",
          "dash": "solid"
         },
         "marker": {
          "symbol": "circle"
         },
         "mode": "lines",
         "name": "San Ignacio Río Muerto",
         "orientation": "v",
         "showlegend": true,
         "type": "scatter",
         "x": [
          "06 años",
          "07 años",
          "08 años",
          "09 años",
          "10 años",
          "11 años",
          "12 años",
          "13 años",
          "14 años"
         ],
         "xaxis": "x",
         "y": [
          67.95366795366795,
          40.0763358778626,
          18.548387096774192,
          5.857740585774058,
          3.557312252964427,
          0.4048582995951417,
          1.4234875444839856,
          0.7722007722007722,
          0.39215686274509803
         ],
         "yaxis": "y"
        },
        {
         "hovertemplate": "Municipio=San Javier<br>Edad desplegada=%{x}<br>Porcentaje de Analfabetismo=%{y}<extra></extra>",
         "legendgroup": "San Javier",
         "line": {
          "color": "#FF6692",
          "dash": "solid"
         },
         "marker": {
          "symbol": "circle"
         },
         "mode": "lines",
         "name": "San Javier",
         "orientation": "v",
         "showlegend": true,
         "type": "scatter",
         "x": [
          "06 años",
          "07 años",
          "08 años",
          "09 años",
          "10 años",
          "11 años",
          "12 años",
          "13 años",
          "14 años"
         ],
         "xaxis": "x",
         "y": [
          58.333333333333336,
          10,
          6.25,
          0,
          0,
          0,
          0,
          0,
          0
         ],
         "yaxis": "y"
        },
        {
         "hovertemplate": "Municipio=San Luis Río Colorado<br>Edad desplegada=%{x}<br>Porcentaje de Analfabetismo=%{y}<extra></extra>",
         "legendgroup": "San Luis Río Colorado",
         "line": {
          "color": "#B6E880",
          "dash": "solid"
         },
         "marker": {
          "symbol": "circle"
         },
         "mode": "lines",
         "name": "San Luis Río Colorado",
         "orientation": "v",
         "showlegend": true,
         "type": "scatter",
         "x": [
          "06 años",
          "07 años",
          "08 años",
          "09 años",
          "10 años",
          "11 años",
          "12 años",
          "13 años",
          "14 años"
         ],
         "xaxis": "x",
         "y": [
          58.589045024376254,
          24.756277695716395,
          10.434782608695652,
          4.5893719806763285,
          1.725554642563681,
          0.9163802978235969,
          0.5718954248366013,
          0.4679328378750344,
          0.5586592178770949
         ],
         "yaxis": "y"
        },
        {
         "hovertemplate": "Municipio=San Miguel de Horcasitas<br>Edad desplegada=%{x}<br>Porcentaje de Analfabetismo=%{y}<extra></extra>",
         "legendgroup": "San Miguel de Horcasitas",
         "line": {
          "color": "#FF97FF",
          "dash": "solid"
         },
         "marker": {
          "symbol": "circle"
         },
         "mode": "lines",
         "name": "San Miguel de Horcasitas",
         "orientation": "v",
         "showlegend": true,
         "type": "scatter",
         "x": [
          "06 años",
          "07 años",
          "08 años",
          "09 años",
          "10 años",
          "11 años",
          "12 años",
          "13 años",
          "14 años"
         ],
         "xaxis": "x",
         "y": [
          71.49758454106279,
          38.139534883720934,
          20.77922077922078,
          11.538461538461538,
          4.225352112676056,
          2.631578947368421,
          4,
          3.361344537815126,
          2.5423728813559325
         ],
         "yaxis": "y"
        },
        {
         "hovertemplate": "Municipio=San Pedro de la Cueva<br>Edad desplegada=%{x}<br>Porcentaje de Analfabetismo=%{y}<extra></extra>",
         "legendgroup": "San Pedro de la Cueva",
         "line": {
          "color": "#FECB52",
          "dash": "solid"
         },
         "marker": {
          "symbol": "circle"
         },
         "mode": "lines",
         "name": "San Pedro de la Cueva",
         "orientation": "v",
         "showlegend": true,
         "type": "scatter",
         "x": [
          "06 años",
          "07 años",
          "08 años",
          "09 años",
          "10 años",
          "11 años",
          "12 años",
          "13 años",
          "14 años"
         ],
         "xaxis": "x",
         "y": [
          75,
          12.5,
          0,
          4.545454545454546,
          0,
          0,
          0,
          0,
          0
         ],
         "yaxis": "y"
        },
        {
         "hovertemplate": "Municipio=Santa Ana<br>Edad desplegada=%{x}<br>Porcentaje de Analfabetismo=%{y}<extra></extra>",
         "legendgroup": "Santa Ana",
         "line": {
          "color": "#636efa",
          "dash": "solid"
         },
         "marker": {
          "symbol": "circle"
         },
         "mode": "lines",
         "name": "Santa Ana",
         "orientation": "v",
         "showlegend": true,
         "type": "scatter",
         "x": [
          "06 años",
          "07 años",
          "08 años",
          "09 años",
          "10 años",
          "11 años",
          "12 años",
          "13 años",
          "14 años"
         ],
         "xaxis": "x",
         "y": [
          54.166666666666664,
          19.771863117870723,
          6.1688311688311686,
          3.9285714285714284,
          3.3834586466165413,
          0.7352941176470588,
          0.3448275862068966,
          0.3546099290780142,
          0.6389776357827476
         ],
         "yaxis": "y"
        },
        {
         "hovertemplate": "Municipio=Santa Cruz<br>Edad desplegada=%{x}<br>Porcentaje de Analfabetismo=%{y}<extra></extra>",
         "legendgroup": "Santa Cruz",
         "line": {
          "color": "#EF553B",
          "dash": "solid"
         },
         "marker": {
          "symbol": "circle"
         },
         "mode": "lines",
         "name": "Santa Cruz",
         "orientation": "v",
         "showlegend": true,
         "type": "scatter",
         "x": [
          "06 años",
          "07 años",
          "08 años",
          "09 años",
          "10 años",
          "11 años",
          "12 años",
          "13 años",
          "14 años"
         ],
         "xaxis": "x",
         "y": [
          74.4186046511628,
          15.625,
          9.67741935483871,
          2.5,
          0,
          0,
          0,
          0,
          0
         ],
         "yaxis": "y"
        },
        {
         "hovertemplate": "Municipio=Soyopa<br>Edad desplegada=%{x}<br>Porcentaje de Analfabetismo=%{y}<extra></extra>",
         "legendgroup": "Soyopa",
         "line": {
          "color": "#00cc96",
          "dash": "solid"
         },
         "marker": {
          "symbol": "circle"
         },
         "mode": "lines",
         "name": "Soyopa",
         "orientation": "v",
         "showlegend": true,
         "type": "scatter",
         "x": [
          "06 años",
          "07 años",
          "08 años",
          "09 años",
          "10 años",
          "11 años",
          "12 años",
          "13 años",
          "14 años"
         ],
         "xaxis": "x",
         "y": [
          41.37931034482759,
          20,
          6.666666666666667,
          0,
          5.555555555555555,
          0,
          0,
          4.545454545454546,
          0
         ],
         "yaxis": "y"
        },
        {
         "hovertemplate": "Municipio=Suaqui Grande<br>Edad desplegada=%{x}<br>Porcentaje de Analfabetismo=%{y}<extra></extra>",
         "legendgroup": "Suaqui Grande",
         "line": {
          "color": "#ab63fa",
          "dash": "solid"
         },
         "marker": {
          "symbol": "circle"
         },
         "mode": "lines",
         "name": "Suaqui Grande",
         "orientation": "v",
         "showlegend": true,
         "type": "scatter",
         "x": [
          "06 años",
          "07 años",
          "08 años",
          "09 años",
          "10 años",
          "11 años",
          "12 años",
          "13 años",
          "14 años"
         ],
         "xaxis": "x",
         "y": [
          71.42857142857143,
          8.333333333333332,
          7.6923076923076925,
          0,
          4.166666666666666,
          0,
          0,
          0,
          0
         ],
         "yaxis": "y"
        },
        {
         "hovertemplate": "Municipio=Sáric<br>Edad desplegada=%{x}<br>Porcentaje de Analfabetismo=%{y}<extra></extra>",
         "legendgroup": "Sáric",
         "line": {
          "color": "#FFA15A",
          "dash": "solid"
         },
         "marker": {
          "symbol": "circle"
         },
         "mode": "lines",
         "name": "Sáric",
         "orientation": "v",
         "showlegend": true,
         "type": "scatter",
         "x": [
          "06 años",
          "07 años",
          "08 años",
          "09 años",
          "10 años",
          "11 años",
          "12 años",
          "13 años",
          "14 años"
         ],
         "xaxis": "x",
         "y": [
          68.57142857142857,
          51.61290322580645,
          12.82051282051282,
          11.428571428571429,
          2.272727272727273,
          0,
          0,
          0,
          0
         ],
         "yaxis": "y"
        },
        {
         "hovertemplate": "Municipio=Tepache<br>Edad desplegada=%{x}<br>Porcentaje de Analfabetismo=%{y}<extra></extra>",
         "legendgroup": "Tepache",
         "line": {
          "color": "#19d3f3",
          "dash": "solid"
         },
         "marker": {
          "symbol": "circle"
         },
         "mode": "lines",
         "name": "Tepache",
         "orientation": "v",
         "showlegend": true,
         "type": "scatter",
         "x": [
          "06 años",
          "07 años",
          "08 años",
          "09 años",
          "10 años",
          "11 años",
          "12 años",
          "13 años",
          "14 años"
         ],
         "xaxis": "x",
         "y": [
          11.11111111111111,
          43.75,
          0,
          6.666666666666667,
          0,
          0,
          0,
          0,
          0
         ],
         "yaxis": "y"
        },
        {
         "hovertemplate": "Municipio=Trincheras<br>Edad desplegada=%{x}<br>Porcentaje de Analfabetismo=%{y}<extra></extra>",
         "legendgroup": "Trincheras",
         "line": {
          "color": "#FF6692",
          "dash": "solid"
         },
         "marker": {
          "symbol": "circle"
         },
         "mode": "lines",
         "name": "Trincheras",
         "orientation": "v",
         "showlegend": true,
         "type": "scatter",
         "x": [
          "06 años",
          "07 años",
          "08 años",
          "09 años",
          "10 años",
          "11 años",
          "12 años",
          "13 años",
          "14 años"
         ],
         "xaxis": "x",
         "y": [
          52.38095238095239,
          12.5,
          6.666666666666667,
          4.545454545454546,
          0,
          0,
          0,
          3.4482758620689653,
          0
         ],
         "yaxis": "y"
        },
        {
         "hovertemplate": "Municipio=Tubutama<br>Edad desplegada=%{x}<br>Porcentaje de Analfabetismo=%{y}<extra></extra>",
         "legendgroup": "Tubutama",
         "line": {
          "color": "#B6E880",
          "dash": "solid"
         },
         "marker": {
          "symbol": "circle"
         },
         "mode": "lines",
         "name": "Tubutama",
         "orientation": "v",
         "showlegend": true,
         "type": "scatter",
         "x": [
          "06 años",
          "07 años",
          "08 años",
          "09 años",
          "10 años",
          "11 años",
          "12 años",
          "13 años",
          "14 años"
         ],
         "xaxis": "x",
         "y": [
          50,
          31.57894736842105,
          8,
          12.5,
          0,
          0,
          0,
          0,
          0
         ],
         "yaxis": "y"
        },
        {
         "hovertemplate": "Municipio=Ures<br>Edad desplegada=%{x}<br>Porcentaje de Analfabetismo=%{y}<extra></extra>",
         "legendgroup": "Ures",
         "line": {
          "color": "#FF97FF",
          "dash": "solid"
         },
         "marker": {
          "symbol": "circle"
         },
         "mode": "lines",
         "name": "Ures",
         "orientation": "v",
         "showlegend": true,
         "type": "scatter",
         "x": [
          "06 años",
          "07 años",
          "08 años",
          "09 años",
          "10 años",
          "11 años",
          "12 años",
          "13 años",
          "14 años"
         ],
         "xaxis": "x",
         "y": [
          56.00000000000001,
          20.37037037037037,
          7.339449541284404,
          4.385964912280701,
          0,
          0.8130081300813009,
          0.7462686567164178,
          0,
          0
         ],
         "yaxis": "y"
        },
        {
         "hovertemplate": "Municipio=Villa Hidalgo<br>Edad desplegada=%{x}<br>Porcentaje de Analfabetismo=%{y}<extra></extra>",
         "legendgroup": "Villa Hidalgo",
         "line": {
          "color": "#FECB52",
          "dash": "solid"
         },
         "marker": {
          "symbol": "circle"
         },
         "mode": "lines",
         "name": "Villa Hidalgo",
         "orientation": "v",
         "showlegend": true,
         "type": "scatter",
         "x": [
          "06 años",
          "07 años",
          "08 años",
          "09 años",
          "10 años",
          "11 años",
          "12 años",
          "13 años",
          "14 años"
         ],
         "xaxis": "x",
         "y": [
          57.14285714285714,
          20,
          6.451612903225806,
          9.090909090909092,
          0,
          0,
          0,
          0,
          0
         ],
         "yaxis": "y"
        },
        {
         "hovertemplate": "Municipio=Villa Pesqueira<br>Edad desplegada=%{x}<br>Porcentaje de Analfabetismo=%{y}<extra></extra>",
         "legendgroup": "Villa Pesqueira",
         "line": {
          "color": "#636efa",
          "dash": "solid"
         },
         "marker": {
          "symbol": "circle"
         },
         "mode": "lines",
         "name": "Villa Pesqueira",
         "orientation": "v",
         "showlegend": true,
         "type": "scatter",
         "x": [
          "06 años",
          "07 años",
          "08 años",
          "09 años",
          "10 años",
          "11 años",
          "12 años",
          "13 años",
          "14 años"
         ],
         "xaxis": "x",
         "y": [
          69.23076923076923,
          17.647058823529413,
          11.11111111111111,
          0,
          0,
          0,
          0,
          0,
          0
         ],
         "yaxis": "y"
        },
        {
         "hovertemplate": "Municipio=Yécora<br>Edad desplegada=%{x}<br>Porcentaje de Analfabetismo=%{y}<extra></extra>",
         "legendgroup": "Yécora",
         "line": {
          "color": "#EF553B",
          "dash": "solid"
         },
         "marker": {
          "symbol": "circle"
         },
         "mode": "lines",
         "name": "Yécora",
         "orientation": "v",
         "showlegend": true,
         "type": "scatter",
         "x": [
          "06 años",
          "07 años",
          "08 años",
          "09 años",
          "10 años",
          "11 años",
          "12 años",
          "13 años",
          "14 años"
         ],
         "xaxis": "x",
         "y": [
          57.77777777777777,
          26.582278481012654,
          14.606741573033707,
          11.39240506329114,
          4.301075268817205,
          2.1505376344086025,
          1.0638297872340425,
          3.79746835443038,
          2.7777777777777777
         ],
         "yaxis": "y"
        }
       ],
       "layout": {
        "legend": {
         "title": {
          "text": "Municipio"
         },
         "tracegroupgap": 0
        },
        "template": {
         "data": {
          "bar": [
           {
            "error_x": {
             "color": "#2a3f5f"
            },
            "error_y": {
             "color": "#2a3f5f"
            },
            "marker": {
             "line": {
              "color": "#E5ECF6",
              "width": 0.5
             },
             "pattern": {
              "fillmode": "overlay",
              "size": 10,
              "solidity": 0.2
             }
            },
            "type": "bar"
           }
          ],
          "barpolar": [
           {
            "marker": {
             "line": {
              "color": "#E5ECF6",
              "width": 0.5
             },
             "pattern": {
              "fillmode": "overlay",
              "size": 10,
              "solidity": 0.2
             }
            },
            "type": "barpolar"
           }
          ],
          "carpet": [
           {
            "aaxis": {
             "endlinecolor": "#2a3f5f",
             "gridcolor": "white",
             "linecolor": "white",
             "minorgridcolor": "white",
             "startlinecolor": "#2a3f5f"
            },
            "baxis": {
             "endlinecolor": "#2a3f5f",
             "gridcolor": "white",
             "linecolor": "white",
             "minorgridcolor": "white",
             "startlinecolor": "#2a3f5f"
            },
            "type": "carpet"
           }
          ],
          "choropleth": [
           {
            "colorbar": {
             "outlinewidth": 0,
             "ticks": ""
            },
            "type": "choropleth"
           }
          ],
          "contour": [
           {
            "colorbar": {
             "outlinewidth": 0,
             "ticks": ""
            },
            "colorscale": [
             [
              0,
              "#0d0887"
             ],
             [
              0.1111111111111111,
              "#46039f"
             ],
             [
              0.2222222222222222,
              "#7201a8"
             ],
             [
              0.3333333333333333,
              "#9c179e"
             ],
             [
              0.4444444444444444,
              "#bd3786"
             ],
             [
              0.5555555555555556,
              "#d8576b"
             ],
             [
              0.6666666666666666,
              "#ed7953"
             ],
             [
              0.7777777777777778,
              "#fb9f3a"
             ],
             [
              0.8888888888888888,
              "#fdca26"
             ],
             [
              1,
              "#f0f921"
             ]
            ],
            "type": "contour"
           }
          ],
          "contourcarpet": [
           {
            "colorbar": {
             "outlinewidth": 0,
             "ticks": ""
            },
            "type": "contourcarpet"
           }
          ],
          "heatmap": [
           {
            "colorbar": {
             "outlinewidth": 0,
             "ticks": ""
            },
            "colorscale": [
             [
              0,
              "#0d0887"
             ],
             [
              0.1111111111111111,
              "#46039f"
             ],
             [
              0.2222222222222222,
              "#7201a8"
             ],
             [
              0.3333333333333333,
              "#9c179e"
             ],
             [
              0.4444444444444444,
              "#bd3786"
             ],
             [
              0.5555555555555556,
              "#d8576b"
             ],
             [
              0.6666666666666666,
              "#ed7953"
             ],
             [
              0.7777777777777778,
              "#fb9f3a"
             ],
             [
              0.8888888888888888,
              "#fdca26"
             ],
             [
              1,
              "#f0f921"
             ]
            ],
            "type": "heatmap"
           }
          ],
          "heatmapgl": [
           {
            "colorbar": {
             "outlinewidth": 0,
             "ticks": ""
            },
            "colorscale": [
             [
              0,
              "#0d0887"
             ],
             [
              0.1111111111111111,
              "#46039f"
             ],
             [
              0.2222222222222222,
              "#7201a8"
             ],
             [
              0.3333333333333333,
              "#9c179e"
             ],
             [
              0.4444444444444444,
              "#bd3786"
             ],
             [
              0.5555555555555556,
              "#d8576b"
             ],
             [
              0.6666666666666666,
              "#ed7953"
             ],
             [
              0.7777777777777778,
              "#fb9f3a"
             ],
             [
              0.8888888888888888,
              "#fdca26"
             ],
             [
              1,
              "#f0f921"
             ]
            ],
            "type": "heatmapgl"
           }
          ],
          "histogram": [
           {
            "marker": {
             "pattern": {
              "fillmode": "overlay",
              "size": 10,
              "solidity": 0.2
             }
            },
            "type": "histogram"
           }
          ],
          "histogram2d": [
           {
            "colorbar": {
             "outlinewidth": 0,
             "ticks": ""
            },
            "colorscale": [
             [
              0,
              "#0d0887"
             ],
             [
              0.1111111111111111,
              "#46039f"
             ],
             [
              0.2222222222222222,
              "#7201a8"
             ],
             [
              0.3333333333333333,
              "#9c179e"
             ],
             [
              0.4444444444444444,
              "#bd3786"
             ],
             [
              0.5555555555555556,
              "#d8576b"
             ],
             [
              0.6666666666666666,
              "#ed7953"
             ],
             [
              0.7777777777777778,
              "#fb9f3a"
             ],
             [
              0.8888888888888888,
              "#fdca26"
             ],
             [
              1,
              "#f0f921"
             ]
            ],
            "type": "histogram2d"
           }
          ],
          "histogram2dcontour": [
           {
            "colorbar": {
             "outlinewidth": 0,
             "ticks": ""
            },
            "colorscale": [
             [
              0,
              "#0d0887"
             ],
             [
              0.1111111111111111,
              "#46039f"
             ],
             [
              0.2222222222222222,
              "#7201a8"
             ],
             [
              0.3333333333333333,
              "#9c179e"
             ],
             [
              0.4444444444444444,
              "#bd3786"
             ],
             [
              0.5555555555555556,
              "#d8576b"
             ],
             [
              0.6666666666666666,
              "#ed7953"
             ],
             [
              0.7777777777777778,
              "#fb9f3a"
             ],
             [
              0.8888888888888888,
              "#fdca26"
             ],
             [
              1,
              "#f0f921"
             ]
            ],
            "type": "histogram2dcontour"
           }
          ],
          "mesh3d": [
           {
            "colorbar": {
             "outlinewidth": 0,
             "ticks": ""
            },
            "type": "mesh3d"
           }
          ],
          "parcoords": [
           {
            "line": {
             "colorbar": {
              "outlinewidth": 0,
              "ticks": ""
             }
            },
            "type": "parcoords"
           }
          ],
          "pie": [
           {
            "automargin": true,
            "type": "pie"
           }
          ],
          "scatter": [
           {
            "fillpattern": {
             "fillmode": "overlay",
             "size": 10,
             "solidity": 0.2
            },
            "type": "scatter"
           }
          ],
          "scatter3d": [
           {
            "line": {
             "colorbar": {
              "outlinewidth": 0,
              "ticks": ""
             }
            },
            "marker": {
             "colorbar": {
              "outlinewidth": 0,
              "ticks": ""
             }
            },
            "type": "scatter3d"
           }
          ],
          "scattercarpet": [
           {
            "marker": {
             "colorbar": {
              "outlinewidth": 0,
              "ticks": ""
             }
            },
            "type": "scattercarpet"
           }
          ],
          "scattergeo": [
           {
            "marker": {
             "colorbar": {
              "outlinewidth": 0,
              "ticks": ""
             }
            },
            "type": "scattergeo"
           }
          ],
          "scattergl": [
           {
            "marker": {
             "colorbar": {
              "outlinewidth": 0,
              "ticks": ""
             }
            },
            "type": "scattergl"
           }
          ],
          "scattermapbox": [
           {
            "marker": {
             "colorbar": {
              "outlinewidth": 0,
              "ticks": ""
             }
            },
            "type": "scattermapbox"
           }
          ],
          "scatterpolar": [
           {
            "marker": {
             "colorbar": {
              "outlinewidth": 0,
              "ticks": ""
             }
            },
            "type": "scatterpolar"
           }
          ],
          "scatterpolargl": [
           {
            "marker": {
             "colorbar": {
              "outlinewidth": 0,
              "ticks": ""
             }
            },
            "type": "scatterpolargl"
           }
          ],
          "scatterternary": [
           {
            "marker": {
             "colorbar": {
              "outlinewidth": 0,
              "ticks": ""
             }
            },
            "type": "scatterternary"
           }
          ],
          "surface": [
           {
            "colorbar": {
             "outlinewidth": 0,
             "ticks": ""
            },
            "colorscale": [
             [
              0,
              "#0d0887"
             ],
             [
              0.1111111111111111,
              "#46039f"
             ],
             [
              0.2222222222222222,
              "#7201a8"
             ],
             [
              0.3333333333333333,
              "#9c179e"
             ],
             [
              0.4444444444444444,
              "#bd3786"
             ],
             [
              0.5555555555555556,
              "#d8576b"
             ],
             [
              0.6666666666666666,
              "#ed7953"
             ],
             [
              0.7777777777777778,
              "#fb9f3a"
             ],
             [
              0.8888888888888888,
              "#fdca26"
             ],
             [
              1,
              "#f0f921"
             ]
            ],
            "type": "surface"
           }
          ],
          "table": [
           {
            "cells": {
             "fill": {
              "color": "#EBF0F8"
             },
             "line": {
              "color": "white"
             }
            },
            "header": {
             "fill": {
              "color": "#C8D4E3"
             },
             "line": {
              "color": "white"
             }
            },
            "type": "table"
           }
          ]
         },
         "layout": {
          "annotationdefaults": {
           "arrowcolor": "#2a3f5f",
           "arrowhead": 0,
           "arrowwidth": 1
          },
          "autotypenumbers": "strict",
          "coloraxis": {
           "colorbar": {
            "outlinewidth": 0,
            "ticks": ""
           }
          },
          "colorscale": {
           "diverging": [
            [
             0,
             "#8e0152"
            ],
            [
             0.1,
             "#c51b7d"
            ],
            [
             0.2,
             "#de77ae"
            ],
            [
             0.3,
             "#f1b6da"
            ],
            [
             0.4,
             "#fde0ef"
            ],
            [
             0.5,
             "#f7f7f7"
            ],
            [
             0.6,
             "#e6f5d0"
            ],
            [
             0.7,
             "#b8e186"
            ],
            [
             0.8,
             "#7fbc41"
            ],
            [
             0.9,
             "#4d9221"
            ],
            [
             1,
             "#276419"
            ]
           ],
           "sequential": [
            [
             0,
             "#0d0887"
            ],
            [
             0.1111111111111111,
             "#46039f"
            ],
            [
             0.2222222222222222,
             "#7201a8"
            ],
            [
             0.3333333333333333,
             "#9c179e"
            ],
            [
             0.4444444444444444,
             "#bd3786"
            ],
            [
             0.5555555555555556,
             "#d8576b"
            ],
            [
             0.6666666666666666,
             "#ed7953"
            ],
            [
             0.7777777777777778,
             "#fb9f3a"
            ],
            [
             0.8888888888888888,
             "#fdca26"
            ],
            [
             1,
             "#f0f921"
            ]
           ],
           "sequentialminus": [
            [
             0,
             "#0d0887"
            ],
            [
             0.1111111111111111,
             "#46039f"
            ],
            [
             0.2222222222222222,
             "#7201a8"
            ],
            [
             0.3333333333333333,
             "#9c179e"
            ],
            [
             0.4444444444444444,
             "#bd3786"
            ],
            [
             0.5555555555555556,
             "#d8576b"
            ],
            [
             0.6666666666666666,
             "#ed7953"
            ],
            [
             0.7777777777777778,
             "#fb9f3a"
            ],
            [
             0.8888888888888888,
             "#fdca26"
            ],
            [
             1,
             "#f0f921"
            ]
           ]
          },
          "colorway": [
           "#636efa",
           "#EF553B",
           "#00cc96",
           "#ab63fa",
           "#FFA15A",
           "#19d3f3",
           "#FF6692",
           "#B6E880",
           "#FF97FF",
           "#FECB52"
          ],
          "font": {
           "color": "#2a3f5f"
          },
          "geo": {
           "bgcolor": "white",
           "lakecolor": "white",
           "landcolor": "#E5ECF6",
           "showlakes": true,
           "showland": true,
           "subunitcolor": "white"
          },
          "hoverlabel": {
           "align": "left"
          },
          "hovermode": "closest",
          "mapbox": {
           "style": "light"
          },
          "paper_bgcolor": "white",
          "plot_bgcolor": "#E5ECF6",
          "polar": {
           "angularaxis": {
            "gridcolor": "white",
            "linecolor": "white",
            "ticks": ""
           },
           "bgcolor": "#E5ECF6",
           "radialaxis": {
            "gridcolor": "white",
            "linecolor": "white",
            "ticks": ""
           }
          },
          "scene": {
           "xaxis": {
            "backgroundcolor": "#E5ECF6",
            "gridcolor": "white",
            "gridwidth": 2,
            "linecolor": "white",
            "showbackground": true,
            "ticks": "",
            "zerolinecolor": "white"
           },
           "yaxis": {
            "backgroundcolor": "#E5ECF6",
            "gridcolor": "white",
            "gridwidth": 2,
            "linecolor": "white",
            "showbackground": true,
            "ticks": "",
            "zerolinecolor": "white"
           },
           "zaxis": {
            "backgroundcolor": "#E5ECF6",
            "gridcolor": "white",
            "gridwidth": 2,
            "linecolor": "white",
            "showbackground": true,
            "ticks": "",
            "zerolinecolor": "white"
           }
          },
          "shapedefaults": {
           "line": {
            "color": "#2a3f5f"
           }
          },
          "ternary": {
           "aaxis": {
            "gridcolor": "white",
            "linecolor": "white",
            "ticks": ""
           },
           "baxis": {
            "gridcolor": "white",
            "linecolor": "white",
            "ticks": ""
           },
           "bgcolor": "#E5ECF6",
           "caxis": {
            "gridcolor": "white",
            "linecolor": "white",
            "ticks": ""
           }
          },
          "title": {
           "x": 0.05
          },
          "xaxis": {
           "automargin": true,
           "gridcolor": "white",
           "linecolor": "white",
           "ticks": "",
           "title": {
            "standoff": 15
           },
           "zerolinecolor": "white",
           "zerolinewidth": 2
          },
          "yaxis": {
           "automargin": true,
           "gridcolor": "white",
           "linecolor": "white",
           "ticks": "",
           "title": {
            "standoff": 15
           },
           "zerolinecolor": "white",
           "zerolinewidth": 2
          }
         }
        },
        "title": {
         "text": "Porcentaje de Analfabetismo por Edad para cada Municipio"
        },
        "xaxis": {
         "anchor": "y",
         "domain": [
          0,
          1
         ],
         "title": {
          "text": "Edad desplegada"
         }
        },
        "yaxis": {
         "anchor": "x",
         "domain": [
          0,
          1
         ],
         "title": {
          "text": "Porcentaje de Analfabetismo"
         }
        }
       }
      }
     },
     "metadata": {},
     "output_type": "display_data"
    }
   ],
   "source": [
    "dff = censo_educacion\n",
    "dff = dff.groupby(['Municipio','Edad desplegada']).sum()[['Sabe leer y escribir', 'No sabe leer y escribir', 'No especificado']].copy()\n",
    "dff['total'] = dff.sum(axis=1)\n",
    "dff['porcentaje_analfabetismo'] = (dff['No sabe leer y escribir'] / dff['total'] ) * 100\n",
    "dff['porcentaje_lectura'] = (dff['Sabe leer y escribir'] / dff['total'] ) * 100\n",
    "dff['porcentaje_no_especificado'] = (dff['No especificado'] / dff['total'] ) * 100\n",
    "dff.reset_index(inplace=True)\n",
    "dff = pd.melt(dff, id_vars=['Municipio','Edad desplegada'], value_vars=['porcentaje_analfabetismo'])\n",
    "\n",
    "fig = px.line(dff, x=\"Edad desplegada\", y=\"value\", color='Municipio',\n",
    "                 title=\"Porcentaje de Analfabetismo por Edad para cada Municipio\",\n",
    "                 labels={'value':\"Porcentaje de Analfabetismo\"})\n",
    "fig.show()"
   ]
  },
  {
   "cell_type": "markdown",
   "metadata": {},
   "source": [
    "Si quisieramos ver como está el comportamiento de el Porcentaje de analfabetismo para los 10 municipios con más habitantes de entre 6 y 14 años, podemos hacer lo siguiente:"
   ]
  },
  {
   "cell_type": "code",
   "execution_count": 244,
   "metadata": {},
   "outputs": [
    {
     "data": {
      "application/vnd.plotly.v1+json": {
       "config": {
        "plotlyServerURL": "https://plot.ly"
       },
       "data": [
        {
         "hovertemplate": "Municipio=Agua Prieta<br>Edad desplegada=%{x}<br>Porcentaje de Analfabetismo=%{y}<extra></extra>",
         "legendgroup": "Agua Prieta",
         "line": {
          "color": "#636efa",
          "dash": "solid"
         },
         "marker": {
          "symbol": "circle"
         },
         "mode": "lines",
         "name": "Agua Prieta",
         "orientation": "v",
         "showlegend": true,
         "type": "scatter",
         "x": [
          "06 años",
          "07 años",
          "08 años",
          "09 años",
          "10 años",
          "11 años",
          "12 años",
          "13 años",
          "14 años"
         ],
         "xaxis": "x",
         "y": [
          59.98831775700935,
          23.076923076923077,
          9.080118694362017,
          4.508956145768994,
          2.0951302378255945,
          1.0682492581602374,
          0.5891805034815212,
          0.5482456140350876,
          0.11235955056179776
         ],
         "yaxis": "y"
        },
        {
         "hovertemplate": "Municipio=Caborca<br>Edad desplegada=%{x}<br>Porcentaje de Analfabetismo=%{y}<extra></extra>",
         "legendgroup": "Caborca",
         "line": {
          "color": "#EF553B",
          "dash": "solid"
         },
         "marker": {
          "symbol": "circle"
         },
         "mode": "lines",
         "name": "Caborca",
         "orientation": "v",
         "showlegend": true,
         "type": "scatter",
         "x": [
          "06 años",
          "07 años",
          "08 años",
          "09 años",
          "10 años",
          "11 años",
          "12 años",
          "13 años",
          "14 años"
         ],
         "xaxis": "x",
         "y": [
          54.24050632911393,
          19.703520691785055,
          7.620164126611957,
          2.9784537389100127,
          1.4925373134328357,
          0.857843137254902,
          1.023890784982935,
          0.3448275862068966,
          0.31826861871419476
         ],
         "yaxis": "y"
        },
        {
         "hovertemplate": "Municipio=Cajeme<br>Edad desplegada=%{x}<br>Porcentaje de Analfabetismo=%{y}<extra></extra>",
         "legendgroup": "Cajeme",
         "line": {
          "color": "#00cc96",
          "dash": "solid"
         },
         "marker": {
          "symbol": "circle"
         },
         "mode": "lines",
         "name": "Cajeme",
         "orientation": "v",
         "showlegend": true,
         "type": "scatter",
         "x": [
          "06 años",
          "07 años",
          "08 años",
          "09 años",
          "10 años",
          "11 años",
          "12 años",
          "13 años",
          "14 años"
         ],
         "xaxis": "x",
         "y": [
          51.14203600060505,
          18.57015722337585,
          6.497014500995165,
          3.6709619418639496,
          1.5287150530229996,
          0.805407737667194,
          0.5863103354240524,
          0.5371160997107837,
          0.36879432624113473
         ],
         "yaxis": "y"
        },
        {
         "hovertemplate": "Municipio=Guaymas<br>Edad desplegada=%{x}<br>Porcentaje de Analfabetismo=%{y}<extra></extra>",
         "legendgroup": "Guaymas",
         "line": {
          "color": "#ab63fa",
          "dash": "solid"
         },
         "marker": {
          "symbol": "circle"
         },
         "mode": "lines",
         "name": "Guaymas",
         "orientation": "v",
         "showlegend": true,
         "type": "scatter",
         "x": [
          "06 años",
          "07 años",
          "08 años",
          "09 años",
          "10 años",
          "11 años",
          "12 años",
          "13 años",
          "14 años"
         ],
         "xaxis": "x",
         "y": [
          60.62639821029083,
          26.985981308411215,
          10.687022900763358,
          4.919292851652575,
          1.9607843137254901,
          1.3033175355450237,
          0.8695652173913043,
          0.6415396952686447,
          0.6888633754305395
         ],
         "yaxis": "y"
        },
        {
         "hovertemplate": "Municipio=Hermosillo<br>Edad desplegada=%{x}<br>Porcentaje de Analfabetismo=%{y}<extra></extra>",
         "legendgroup": "Hermosillo",
         "line": {
          "color": "#FFA15A",
          "dash": "solid"
         },
         "marker": {
          "symbol": "circle"
         },
         "mode": "lines",
         "name": "Hermosillo",
         "orientation": "v",
         "showlegend": true,
         "type": "scatter",
         "x": [
          "06 años",
          "07 años",
          "08 años",
          "09 años",
          "10 años",
          "11 años",
          "12 años",
          "13 años",
          "14 años"
         ],
         "xaxis": "x",
         "y": [
          54.14881697752587,
          19.231765772768494,
          7.778342653787494,
          3.7539308176100628,
          1.5477996965098635,
          0.8270972823946435,
          0.5645645645645646,
          0.43284532145130494,
          0.4535735113069397
         ],
         "yaxis": "y"
        },
        {
         "hovertemplate": "Municipio=Huatabampo<br>Edad desplegada=%{x}<br>Porcentaje de Analfabetismo=%{y}<extra></extra>",
         "legendgroup": "Huatabampo",
         "line": {
          "color": "#19d3f3",
          "dash": "solid"
         },
         "marker": {
          "symbol": "circle"
         },
         "mode": "lines",
         "name": "Huatabampo",
         "orientation": "v",
         "showlegend": true,
         "type": "scatter",
         "x": [
          "06 años",
          "07 años",
          "08 años",
          "09 años",
          "10 años",
          "11 años",
          "12 años",
          "13 años",
          "14 años"
         ],
         "xaxis": "x",
         "y": [
          59.64912280701754,
          24.956822107081177,
          6.742485783915515,
          2.720527617477329,
          1.3535031847133758,
          0.6557377049180327,
          0.5359877488514548,
          0.29784065524944153,
          0.22140221402214022
         ],
         "yaxis": "y"
        },
        {
         "hovertemplate": "Municipio=Navojoa<br>Edad desplegada=%{x}<br>Porcentaje de Analfabetismo=%{y}<extra></extra>",
         "legendgroup": "Navojoa",
         "line": {
          "color": "#FF6692",
          "dash": "solid"
         },
         "marker": {
          "symbol": "circle"
         },
         "mode": "lines",
         "name": "Navojoa",
         "orientation": "v",
         "showlegend": true,
         "type": "scatter",
         "x": [
          "06 años",
          "07 años",
          "08 años",
          "09 años",
          "10 años",
          "11 años",
          "12 años",
          "13 años",
          "14 años"
         ],
         "xaxis": "x",
         "y": [
          60.81466395112016,
          21.941747572815533,
          8.192307692307692,
          3.4988713318284423,
          1.6660496112550907,
          0.9608277900960829,
          0.47473719905052564,
          0.2785515320334262,
          0.3794411866160745
         ],
         "yaxis": "y"
        },
        {
         "hovertemplate": "Municipio=Nogales<br>Edad desplegada=%{x}<br>Porcentaje de Analfabetismo=%{y}<extra></extra>",
         "legendgroup": "Nogales",
         "line": {
          "color": "#B6E880",
          "dash": "solid"
         },
         "marker": {
          "symbol": "circle"
         },
         "mode": "lines",
         "name": "Nogales",
         "orientation": "v",
         "showlegend": true,
         "type": "scatter",
         "x": [
          "06 años",
          "07 años",
          "08 años",
          "09 años",
          "10 años",
          "11 años",
          "12 años",
          "13 años",
          "14 años"
         ],
         "xaxis": "x",
         "y": [
          53.648442605096925,
          18.235667442352444,
          7.333333333333333,
          2.946748053041465,
          1.4859973328253,
          0.6519967400162999,
          0.3393665158371041,
          0.2158132234647832,
          0.45427612087695046
         ],
         "yaxis": "y"
        },
        {
         "hovertemplate": "Municipio=San Luis Río Colorado<br>Edad desplegada=%{x}<br>Porcentaje de Analfabetismo=%{y}<extra></extra>",
         "legendgroup": "San Luis Río Colorado",
         "line": {
          "color": "#FF97FF",
          "dash": "solid"
         },
         "marker": {
          "symbol": "circle"
         },
         "mode": "lines",
         "name": "San Luis Río Colorado",
         "orientation": "v",
         "showlegend": true,
         "type": "scatter",
         "x": [
          "06 años",
          "07 años",
          "08 años",
          "09 años",
          "10 años",
          "11 años",
          "12 años",
          "13 años",
          "14 años"
         ],
         "xaxis": "x",
         "y": [
          58.589045024376254,
          24.756277695716395,
          10.434782608695652,
          4.5893719806763285,
          1.725554642563681,
          0.9163802978235969,
          0.5718954248366013,
          0.4679328378750344,
          0.5586592178770949
         ],
         "yaxis": "y"
        }
       ],
       "layout": {
        "legend": {
         "title": {
          "text": "Municipio"
         },
         "tracegroupgap": 0
        },
        "template": {
         "data": {
          "bar": [
           {
            "error_x": {
             "color": "#2a3f5f"
            },
            "error_y": {
             "color": "#2a3f5f"
            },
            "marker": {
             "line": {
              "color": "#E5ECF6",
              "width": 0.5
             },
             "pattern": {
              "fillmode": "overlay",
              "size": 10,
              "solidity": 0.2
             }
            },
            "type": "bar"
           }
          ],
          "barpolar": [
           {
            "marker": {
             "line": {
              "color": "#E5ECF6",
              "width": 0.5
             },
             "pattern": {
              "fillmode": "overlay",
              "size": 10,
              "solidity": 0.2
             }
            },
            "type": "barpolar"
           }
          ],
          "carpet": [
           {
            "aaxis": {
             "endlinecolor": "#2a3f5f",
             "gridcolor": "white",
             "linecolor": "white",
             "minorgridcolor": "white",
             "startlinecolor": "#2a3f5f"
            },
            "baxis": {
             "endlinecolor": "#2a3f5f",
             "gridcolor": "white",
             "linecolor": "white",
             "minorgridcolor": "white",
             "startlinecolor": "#2a3f5f"
            },
            "type": "carpet"
           }
          ],
          "choropleth": [
           {
            "colorbar": {
             "outlinewidth": 0,
             "ticks": ""
            },
            "type": "choropleth"
           }
          ],
          "contour": [
           {
            "colorbar": {
             "outlinewidth": 0,
             "ticks": ""
            },
            "colorscale": [
             [
              0,
              "#0d0887"
             ],
             [
              0.1111111111111111,
              "#46039f"
             ],
             [
              0.2222222222222222,
              "#7201a8"
             ],
             [
              0.3333333333333333,
              "#9c179e"
             ],
             [
              0.4444444444444444,
              "#bd3786"
             ],
             [
              0.5555555555555556,
              "#d8576b"
             ],
             [
              0.6666666666666666,
              "#ed7953"
             ],
             [
              0.7777777777777778,
              "#fb9f3a"
             ],
             [
              0.8888888888888888,
              "#fdca26"
             ],
             [
              1,
              "#f0f921"
             ]
            ],
            "type": "contour"
           }
          ],
          "contourcarpet": [
           {
            "colorbar": {
             "outlinewidth": 0,
             "ticks": ""
            },
            "type": "contourcarpet"
           }
          ],
          "heatmap": [
           {
            "colorbar": {
             "outlinewidth": 0,
             "ticks": ""
            },
            "colorscale": [
             [
              0,
              "#0d0887"
             ],
             [
              0.1111111111111111,
              "#46039f"
             ],
             [
              0.2222222222222222,
              "#7201a8"
             ],
             [
              0.3333333333333333,
              "#9c179e"
             ],
             [
              0.4444444444444444,
              "#bd3786"
             ],
             [
              0.5555555555555556,
              "#d8576b"
             ],
             [
              0.6666666666666666,
              "#ed7953"
             ],
             [
              0.7777777777777778,
              "#fb9f3a"
             ],
             [
              0.8888888888888888,
              "#fdca26"
             ],
             [
              1,
              "#f0f921"
             ]
            ],
            "type": "heatmap"
           }
          ],
          "heatmapgl": [
           {
            "colorbar": {
             "outlinewidth": 0,
             "ticks": ""
            },
            "colorscale": [
             [
              0,
              "#0d0887"
             ],
             [
              0.1111111111111111,
              "#46039f"
             ],
             [
              0.2222222222222222,
              "#7201a8"
             ],
             [
              0.3333333333333333,
              "#9c179e"
             ],
             [
              0.4444444444444444,
              "#bd3786"
             ],
             [
              0.5555555555555556,
              "#d8576b"
             ],
             [
              0.6666666666666666,
              "#ed7953"
             ],
             [
              0.7777777777777778,
              "#fb9f3a"
             ],
             [
              0.8888888888888888,
              "#fdca26"
             ],
             [
              1,
              "#f0f921"
             ]
            ],
            "type": "heatmapgl"
           }
          ],
          "histogram": [
           {
            "marker": {
             "pattern": {
              "fillmode": "overlay",
              "size": 10,
              "solidity": 0.2
             }
            },
            "type": "histogram"
           }
          ],
          "histogram2d": [
           {
            "colorbar": {
             "outlinewidth": 0,
             "ticks": ""
            },
            "colorscale": [
             [
              0,
              "#0d0887"
             ],
             [
              0.1111111111111111,
              "#46039f"
             ],
             [
              0.2222222222222222,
              "#7201a8"
             ],
             [
              0.3333333333333333,
              "#9c179e"
             ],
             [
              0.4444444444444444,
              "#bd3786"
             ],
             [
              0.5555555555555556,
              "#d8576b"
             ],
             [
              0.6666666666666666,
              "#ed7953"
             ],
             [
              0.7777777777777778,
              "#fb9f3a"
             ],
             [
              0.8888888888888888,
              "#fdca26"
             ],
             [
              1,
              "#f0f921"
             ]
            ],
            "type": "histogram2d"
           }
          ],
          "histogram2dcontour": [
           {
            "colorbar": {
             "outlinewidth": 0,
             "ticks": ""
            },
            "colorscale": [
             [
              0,
              "#0d0887"
             ],
             [
              0.1111111111111111,
              "#46039f"
             ],
             [
              0.2222222222222222,
              "#7201a8"
             ],
             [
              0.3333333333333333,
              "#9c179e"
             ],
             [
              0.4444444444444444,
              "#bd3786"
             ],
             [
              0.5555555555555556,
              "#d8576b"
             ],
             [
              0.6666666666666666,
              "#ed7953"
             ],
             [
              0.7777777777777778,
              "#fb9f3a"
             ],
             [
              0.8888888888888888,
              "#fdca26"
             ],
             [
              1,
              "#f0f921"
             ]
            ],
            "type": "histogram2dcontour"
           }
          ],
          "mesh3d": [
           {
            "colorbar": {
             "outlinewidth": 0,
             "ticks": ""
            },
            "type": "mesh3d"
           }
          ],
          "parcoords": [
           {
            "line": {
             "colorbar": {
              "outlinewidth": 0,
              "ticks": ""
             }
            },
            "type": "parcoords"
           }
          ],
          "pie": [
           {
            "automargin": true,
            "type": "pie"
           }
          ],
          "scatter": [
           {
            "fillpattern": {
             "fillmode": "overlay",
             "size": 10,
             "solidity": 0.2
            },
            "type": "scatter"
           }
          ],
          "scatter3d": [
           {
            "line": {
             "colorbar": {
              "outlinewidth": 0,
              "ticks": ""
             }
            },
            "marker": {
             "colorbar": {
              "outlinewidth": 0,
              "ticks": ""
             }
            },
            "type": "scatter3d"
           }
          ],
          "scattercarpet": [
           {
            "marker": {
             "colorbar": {
              "outlinewidth": 0,
              "ticks": ""
             }
            },
            "type": "scattercarpet"
           }
          ],
          "scattergeo": [
           {
            "marker": {
             "colorbar": {
              "outlinewidth": 0,
              "ticks": ""
             }
            },
            "type": "scattergeo"
           }
          ],
          "scattergl": [
           {
            "marker": {
             "colorbar": {
              "outlinewidth": 0,
              "ticks": ""
             }
            },
            "type": "scattergl"
           }
          ],
          "scattermapbox": [
           {
            "marker": {
             "colorbar": {
              "outlinewidth": 0,
              "ticks": ""
             }
            },
            "type": "scattermapbox"
           }
          ],
          "scatterpolar": [
           {
            "marker": {
             "colorbar": {
              "outlinewidth": 0,
              "ticks": ""
             }
            },
            "type": "scatterpolar"
           }
          ],
          "scatterpolargl": [
           {
            "marker": {
             "colorbar": {
              "outlinewidth": 0,
              "ticks": ""
             }
            },
            "type": "scatterpolargl"
           }
          ],
          "scatterternary": [
           {
            "marker": {
             "colorbar": {
              "outlinewidth": 0,
              "ticks": ""
             }
            },
            "type": "scatterternary"
           }
          ],
          "surface": [
           {
            "colorbar": {
             "outlinewidth": 0,
             "ticks": ""
            },
            "colorscale": [
             [
              0,
              "#0d0887"
             ],
             [
              0.1111111111111111,
              "#46039f"
             ],
             [
              0.2222222222222222,
              "#7201a8"
             ],
             [
              0.3333333333333333,
              "#9c179e"
             ],
             [
              0.4444444444444444,
              "#bd3786"
             ],
             [
              0.5555555555555556,
              "#d8576b"
             ],
             [
              0.6666666666666666,
              "#ed7953"
             ],
             [
              0.7777777777777778,
              "#fb9f3a"
             ],
             [
              0.8888888888888888,
              "#fdca26"
             ],
             [
              1,
              "#f0f921"
             ]
            ],
            "type": "surface"
           }
          ],
          "table": [
           {
            "cells": {
             "fill": {
              "color": "#EBF0F8"
             },
             "line": {
              "color": "white"
             }
            },
            "header": {
             "fill": {
              "color": "#C8D4E3"
             },
             "line": {
              "color": "white"
             }
            },
            "type": "table"
           }
          ]
         },
         "layout": {
          "annotationdefaults": {
           "arrowcolor": "#2a3f5f",
           "arrowhead": 0,
           "arrowwidth": 1
          },
          "autotypenumbers": "strict",
          "coloraxis": {
           "colorbar": {
            "outlinewidth": 0,
            "ticks": ""
           }
          },
          "colorscale": {
           "diverging": [
            [
             0,
             "#8e0152"
            ],
            [
             0.1,
             "#c51b7d"
            ],
            [
             0.2,
             "#de77ae"
            ],
            [
             0.3,
             "#f1b6da"
            ],
            [
             0.4,
             "#fde0ef"
            ],
            [
             0.5,
             "#f7f7f7"
            ],
            [
             0.6,
             "#e6f5d0"
            ],
            [
             0.7,
             "#b8e186"
            ],
            [
             0.8,
             "#7fbc41"
            ],
            [
             0.9,
             "#4d9221"
            ],
            [
             1,
             "#276419"
            ]
           ],
           "sequential": [
            [
             0,
             "#0d0887"
            ],
            [
             0.1111111111111111,
             "#46039f"
            ],
            [
             0.2222222222222222,
             "#7201a8"
            ],
            [
             0.3333333333333333,
             "#9c179e"
            ],
            [
             0.4444444444444444,
             "#bd3786"
            ],
            [
             0.5555555555555556,
             "#d8576b"
            ],
            [
             0.6666666666666666,
             "#ed7953"
            ],
            [
             0.7777777777777778,
             "#fb9f3a"
            ],
            [
             0.8888888888888888,
             "#fdca26"
            ],
            [
             1,
             "#f0f921"
            ]
           ],
           "sequentialminus": [
            [
             0,
             "#0d0887"
            ],
            [
             0.1111111111111111,
             "#46039f"
            ],
            [
             0.2222222222222222,
             "#7201a8"
            ],
            [
             0.3333333333333333,
             "#9c179e"
            ],
            [
             0.4444444444444444,
             "#bd3786"
            ],
            [
             0.5555555555555556,
             "#d8576b"
            ],
            [
             0.6666666666666666,
             "#ed7953"
            ],
            [
             0.7777777777777778,
             "#fb9f3a"
            ],
            [
             0.8888888888888888,
             "#fdca26"
            ],
            [
             1,
             "#f0f921"
            ]
           ]
          },
          "colorway": [
           "#636efa",
           "#EF553B",
           "#00cc96",
           "#ab63fa",
           "#FFA15A",
           "#19d3f3",
           "#FF6692",
           "#B6E880",
           "#FF97FF",
           "#FECB52"
          ],
          "font": {
           "color": "#2a3f5f"
          },
          "geo": {
           "bgcolor": "white",
           "lakecolor": "white",
           "landcolor": "#E5ECF6",
           "showlakes": true,
           "showland": true,
           "subunitcolor": "white"
          },
          "hoverlabel": {
           "align": "left"
          },
          "hovermode": "closest",
          "mapbox": {
           "style": "light"
          },
          "paper_bgcolor": "white",
          "plot_bgcolor": "#E5ECF6",
          "polar": {
           "angularaxis": {
            "gridcolor": "white",
            "linecolor": "white",
            "ticks": ""
           },
           "bgcolor": "#E5ECF6",
           "radialaxis": {
            "gridcolor": "white",
            "linecolor": "white",
            "ticks": ""
           }
          },
          "scene": {
           "xaxis": {
            "backgroundcolor": "#E5ECF6",
            "gridcolor": "white",
            "gridwidth": 2,
            "linecolor": "white",
            "showbackground": true,
            "ticks": "",
            "zerolinecolor": "white"
           },
           "yaxis": {
            "backgroundcolor": "#E5ECF6",
            "gridcolor": "white",
            "gridwidth": 2,
            "linecolor": "white",
            "showbackground": true,
            "ticks": "",
            "zerolinecolor": "white"
           },
           "zaxis": {
            "backgroundcolor": "#E5ECF6",
            "gridcolor": "white",
            "gridwidth": 2,
            "linecolor": "white",
            "showbackground": true,
            "ticks": "",
            "zerolinecolor": "white"
           }
          },
          "shapedefaults": {
           "line": {
            "color": "#2a3f5f"
           }
          },
          "ternary": {
           "aaxis": {
            "gridcolor": "white",
            "linecolor": "white",
            "ticks": ""
           },
           "baxis": {
            "gridcolor": "white",
            "linecolor": "white",
            "ticks": ""
           },
           "bgcolor": "#E5ECF6",
           "caxis": {
            "gridcolor": "white",
            "linecolor": "white",
            "ticks": ""
           }
          },
          "title": {
           "x": 0.05
          },
          "xaxis": {
           "automargin": true,
           "gridcolor": "white",
           "linecolor": "white",
           "ticks": "",
           "title": {
            "standoff": 15
           },
           "zerolinecolor": "white",
           "zerolinewidth": 2
          },
          "yaxis": {
           "automargin": true,
           "gridcolor": "white",
           "linecolor": "white",
           "ticks": "",
           "title": {
            "standoff": 15
           },
           "zerolinecolor": "white",
           "zerolinewidth": 2
          }
         }
        },
        "title": {
         "text": "Porcentaje de Analfabetismo por Edad para los 10 municipios con mayor población de 6-14 años"
        },
        "xaxis": {
         "anchor": "y",
         "domain": [
          0,
          1
         ],
         "title": {
          "text": "Edad desplegada"
         }
        },
        "yaxis": {
         "anchor": "x",
         "domain": [
          0,
          1
         ],
         "title": {
          "text": "Porcentaje de Analfabetismo"
         }
        }
       }
      }
     },
     "metadata": {},
     "output_type": "display_data"
    }
   ],
   "source": [
    "top_10_habitantes = list(censo_educacion.groupby('Municipio')['Población de 6 a 14 años'].sum().sort_values(ascending=False)[:9].index)\n",
    "dff = censo_educacion[censo_educacion.Municipio.isin(top_10_habitantes)]\n",
    "dff = dff.groupby(['Municipio','Edad desplegada']).sum()[['Sabe leer y escribir', 'No sabe leer y escribir', 'No especificado']].copy()\n",
    "dff['total'] = dff.sum(axis=1)\n",
    "dff['porcentaje_analfabetismo'] = (dff['No sabe leer y escribir'] / dff['total'] ) * 100\n",
    "dff['porcentaje_lectura'] = (dff['Sabe leer y escribir'] / dff['total'] ) * 100\n",
    "dff['porcentaje_no_especificado'] = (dff['No especificado'] / dff['total'] ) * 100\n",
    "dff.reset_index(inplace=True)\n",
    "dff = pd.melt(dff, id_vars=['Municipio','Edad desplegada'], value_vars=['porcentaje_analfabetismo'])\n",
    "\n",
    "fig = px.line(dff, x=\"Edad desplegada\", y=\"value\", color='Municipio',\n",
    "                 title=\"Porcentaje de Analfabetismo por Edad para los 10 municipios con mayor población de 6-14 años\",\n",
    "                 labels={'value':\"Porcentaje de Analfabetismo\"})\n",
    "fig.show()"
   ]
  },
  {
   "cell_type": "markdown",
   "metadata": {},
   "source": [
    "Ahora, si lo que queremos es una lista de cuales son los principales municipios con mayor y menor porcentaje de Analfabetismo, podemos hacer lo siguiente"
   ]
  },
  {
   "cell_type": "code",
   "execution_count": 245,
   "metadata": {},
   "outputs": [
    {
     "data": {
      "application/vnd.plotly.v1+json": {
       "config": {
        "plotlyServerURL": "https://plot.ly"
       },
       "data": [
        {
         "alignmentgroup": "True",
         "hovertemplate": "variable=porcentaje_analfabetismo<br>Porcentaje %=%{x}<br>Municipio=%{y}<extra></extra>",
         "legendgroup": "porcentaje_analfabetismo",
         "marker": {
          "color": "#636efa",
          "pattern": {
           "shape": ""
          }
         },
         "name": "porcentaje_analfabetismo",
         "offsetgroup": "porcentaje_analfabetismo",
         "orientation": "h",
         "showlegend": true,
         "textposition": "auto",
         "type": "bar",
         "x": [
          13.311688311688311,
          13.353338334583645,
          13.432835820895523,
          13.567251461988302,
          13.791300710999582,
          14.705882352941178,
          15.263157894736842,
          15.544941380807643,
          16.768916155419223,
          17.26948548140601
         ],
         "xaxis": "x",
         "y": [
          "Santa Cruz",
          "General Plutarco Elías Calles",
          "Yécora",
          "Carbó",
          "Etchojoa",
          "Sáric",
          "Rayón",
          "San Ignacio Río Muerto",
          "Quiriego",
          "San Miguel de Horcasitas"
         ],
         "yaxis": "y"
        }
       ],
       "layout": {
        "barmode": "relative",
        "legend": {
         "title": {
          "text": "variable"
         },
         "tracegroupgap": 0
        },
        "showlegend": false,
        "template": {
         "data": {
          "bar": [
           {
            "error_x": {
             "color": "#2a3f5f"
            },
            "error_y": {
             "color": "#2a3f5f"
            },
            "marker": {
             "line": {
              "color": "#E5ECF6",
              "width": 0.5
             },
             "pattern": {
              "fillmode": "overlay",
              "size": 10,
              "solidity": 0.2
             }
            },
            "type": "bar"
           }
          ],
          "barpolar": [
           {
            "marker": {
             "line": {
              "color": "#E5ECF6",
              "width": 0.5
             },
             "pattern": {
              "fillmode": "overlay",
              "size": 10,
              "solidity": 0.2
             }
            },
            "type": "barpolar"
           }
          ],
          "carpet": [
           {
            "aaxis": {
             "endlinecolor": "#2a3f5f",
             "gridcolor": "white",
             "linecolor": "white",
             "minorgridcolor": "white",
             "startlinecolor": "#2a3f5f"
            },
            "baxis": {
             "endlinecolor": "#2a3f5f",
             "gridcolor": "white",
             "linecolor": "white",
             "minorgridcolor": "white",
             "startlinecolor": "#2a3f5f"
            },
            "type": "carpet"
           }
          ],
          "choropleth": [
           {
            "colorbar": {
             "outlinewidth": 0,
             "ticks": ""
            },
            "type": "choropleth"
           }
          ],
          "contour": [
           {
            "colorbar": {
             "outlinewidth": 0,
             "ticks": ""
            },
            "colorscale": [
             [
              0,
              "#0d0887"
             ],
             [
              0.1111111111111111,
              "#46039f"
             ],
             [
              0.2222222222222222,
              "#7201a8"
             ],
             [
              0.3333333333333333,
              "#9c179e"
             ],
             [
              0.4444444444444444,
              "#bd3786"
             ],
             [
              0.5555555555555556,
              "#d8576b"
             ],
             [
              0.6666666666666666,
              "#ed7953"
             ],
             [
              0.7777777777777778,
              "#fb9f3a"
             ],
             [
              0.8888888888888888,
              "#fdca26"
             ],
             [
              1,
              "#f0f921"
             ]
            ],
            "type": "contour"
           }
          ],
          "contourcarpet": [
           {
            "colorbar": {
             "outlinewidth": 0,
             "ticks": ""
            },
            "type": "contourcarpet"
           }
          ],
          "heatmap": [
           {
            "colorbar": {
             "outlinewidth": 0,
             "ticks": ""
            },
            "colorscale": [
             [
              0,
              "#0d0887"
             ],
             [
              0.1111111111111111,
              "#46039f"
             ],
             [
              0.2222222222222222,
              "#7201a8"
             ],
             [
              0.3333333333333333,
              "#9c179e"
             ],
             [
              0.4444444444444444,
              "#bd3786"
             ],
             [
              0.5555555555555556,
              "#d8576b"
             ],
             [
              0.6666666666666666,
              "#ed7953"
             ],
             [
              0.7777777777777778,
              "#fb9f3a"
             ],
             [
              0.8888888888888888,
              "#fdca26"
             ],
             [
              1,
              "#f0f921"
             ]
            ],
            "type": "heatmap"
           }
          ],
          "heatmapgl": [
           {
            "colorbar": {
             "outlinewidth": 0,
             "ticks": ""
            },
            "colorscale": [
             [
              0,
              "#0d0887"
             ],
             [
              0.1111111111111111,
              "#46039f"
             ],
             [
              0.2222222222222222,
              "#7201a8"
             ],
             [
              0.3333333333333333,
              "#9c179e"
             ],
             [
              0.4444444444444444,
              "#bd3786"
             ],
             [
              0.5555555555555556,
              "#d8576b"
             ],
             [
              0.6666666666666666,
              "#ed7953"
             ],
             [
              0.7777777777777778,
              "#fb9f3a"
             ],
             [
              0.8888888888888888,
              "#fdca26"
             ],
             [
              1,
              "#f0f921"
             ]
            ],
            "type": "heatmapgl"
           }
          ],
          "histogram": [
           {
            "marker": {
             "pattern": {
              "fillmode": "overlay",
              "size": 10,
              "solidity": 0.2
             }
            },
            "type": "histogram"
           }
          ],
          "histogram2d": [
           {
            "colorbar": {
             "outlinewidth": 0,
             "ticks": ""
            },
            "colorscale": [
             [
              0,
              "#0d0887"
             ],
             [
              0.1111111111111111,
              "#46039f"
             ],
             [
              0.2222222222222222,
              "#7201a8"
             ],
             [
              0.3333333333333333,
              "#9c179e"
             ],
             [
              0.4444444444444444,
              "#bd3786"
             ],
             [
              0.5555555555555556,
              "#d8576b"
             ],
             [
              0.6666666666666666,
              "#ed7953"
             ],
             [
              0.7777777777777778,
              "#fb9f3a"
             ],
             [
              0.8888888888888888,
              "#fdca26"
             ],
             [
              1,
              "#f0f921"
             ]
            ],
            "type": "histogram2d"
           }
          ],
          "histogram2dcontour": [
           {
            "colorbar": {
             "outlinewidth": 0,
             "ticks": ""
            },
            "colorscale": [
             [
              0,
              "#0d0887"
             ],
             [
              0.1111111111111111,
              "#46039f"
             ],
             [
              0.2222222222222222,
              "#7201a8"
             ],
             [
              0.3333333333333333,
              "#9c179e"
             ],
             [
              0.4444444444444444,
              "#bd3786"
             ],
             [
              0.5555555555555556,
              "#d8576b"
             ],
             [
              0.6666666666666666,
              "#ed7953"
             ],
             [
              0.7777777777777778,
              "#fb9f3a"
             ],
             [
              0.8888888888888888,
              "#fdca26"
             ],
             [
              1,
              "#f0f921"
             ]
            ],
            "type": "histogram2dcontour"
           }
          ],
          "mesh3d": [
           {
            "colorbar": {
             "outlinewidth": 0,
             "ticks": ""
            },
            "type": "mesh3d"
           }
          ],
          "parcoords": [
           {
            "line": {
             "colorbar": {
              "outlinewidth": 0,
              "ticks": ""
             }
            },
            "type": "parcoords"
           }
          ],
          "pie": [
           {
            "automargin": true,
            "type": "pie"
           }
          ],
          "scatter": [
           {
            "fillpattern": {
             "fillmode": "overlay",
             "size": 10,
             "solidity": 0.2
            },
            "type": "scatter"
           }
          ],
          "scatter3d": [
           {
            "line": {
             "colorbar": {
              "outlinewidth": 0,
              "ticks": ""
             }
            },
            "marker": {
             "colorbar": {
              "outlinewidth": 0,
              "ticks": ""
             }
            },
            "type": "scatter3d"
           }
          ],
          "scattercarpet": [
           {
            "marker": {
             "colorbar": {
              "outlinewidth": 0,
              "ticks": ""
             }
            },
            "type": "scattercarpet"
           }
          ],
          "scattergeo": [
           {
            "marker": {
             "colorbar": {
              "outlinewidth": 0,
              "ticks": ""
             }
            },
            "type": "scattergeo"
           }
          ],
          "scattergl": [
           {
            "marker": {
             "colorbar": {
              "outlinewidth": 0,
              "ticks": ""
             }
            },
            "type": "scattergl"
           }
          ],
          "scattermapbox": [
           {
            "marker": {
             "colorbar": {
              "outlinewidth": 0,
              "ticks": ""
             }
            },
            "type": "scattermapbox"
           }
          ],
          "scatterpolar": [
           {
            "marker": {
             "colorbar": {
              "outlinewidth": 0,
              "ticks": ""
             }
            },
            "type": "scatterpolar"
           }
          ],
          "scatterpolargl": [
           {
            "marker": {
             "colorbar": {
              "outlinewidth": 0,
              "ticks": ""
             }
            },
            "type": "scatterpolargl"
           }
          ],
          "scatterternary": [
           {
            "marker": {
             "colorbar": {
              "outlinewidth": 0,
              "ticks": ""
             }
            },
            "type": "scatterternary"
           }
          ],
          "surface": [
           {
            "colorbar": {
             "outlinewidth": 0,
             "ticks": ""
            },
            "colorscale": [
             [
              0,
              "#0d0887"
             ],
             [
              0.1111111111111111,
              "#46039f"
             ],
             [
              0.2222222222222222,
              "#7201a8"
             ],
             [
              0.3333333333333333,
              "#9c179e"
             ],
             [
              0.4444444444444444,
              "#bd3786"
             ],
             [
              0.5555555555555556,
              "#d8576b"
             ],
             [
              0.6666666666666666,
              "#ed7953"
             ],
             [
              0.7777777777777778,
              "#fb9f3a"
             ],
             [
              0.8888888888888888,
              "#fdca26"
             ],
             [
              1,
              "#f0f921"
             ]
            ],
            "type": "surface"
           }
          ],
          "table": [
           {
            "cells": {
             "fill": {
              "color": "#EBF0F8"
             },
             "line": {
              "color": "white"
             }
            },
            "header": {
             "fill": {
              "color": "#C8D4E3"
             },
             "line": {
              "color": "white"
             }
            },
            "type": "table"
           }
          ]
         },
         "layout": {
          "annotationdefaults": {
           "arrowcolor": "#2a3f5f",
           "arrowhead": 0,
           "arrowwidth": 1
          },
          "autotypenumbers": "strict",
          "coloraxis": {
           "colorbar": {
            "outlinewidth": 0,
            "ticks": ""
           }
          },
          "colorscale": {
           "diverging": [
            [
             0,
             "#8e0152"
            ],
            [
             0.1,
             "#c51b7d"
            ],
            [
             0.2,
             "#de77ae"
            ],
            [
             0.3,
             "#f1b6da"
            ],
            [
             0.4,
             "#fde0ef"
            ],
            [
             0.5,
             "#f7f7f7"
            ],
            [
             0.6,
             "#e6f5d0"
            ],
            [
             0.7,
             "#b8e186"
            ],
            [
             0.8,
             "#7fbc41"
            ],
            [
             0.9,
             "#4d9221"
            ],
            [
             1,
             "#276419"
            ]
           ],
           "sequential": [
            [
             0,
             "#0d0887"
            ],
            [
             0.1111111111111111,
             "#46039f"
            ],
            [
             0.2222222222222222,
             "#7201a8"
            ],
            [
             0.3333333333333333,
             "#9c179e"
            ],
            [
             0.4444444444444444,
             "#bd3786"
            ],
            [
             0.5555555555555556,
             "#d8576b"
            ],
            [
             0.6666666666666666,
             "#ed7953"
            ],
            [
             0.7777777777777778,
             "#fb9f3a"
            ],
            [
             0.8888888888888888,
             "#fdca26"
            ],
            [
             1,
             "#f0f921"
            ]
           ],
           "sequentialminus": [
            [
             0,
             "#0d0887"
            ],
            [
             0.1111111111111111,
             "#46039f"
            ],
            [
             0.2222222222222222,
             "#7201a8"
            ],
            [
             0.3333333333333333,
             "#9c179e"
            ],
            [
             0.4444444444444444,
             "#bd3786"
            ],
            [
             0.5555555555555556,
             "#d8576b"
            ],
            [
             0.6666666666666666,
             "#ed7953"
            ],
            [
             0.7777777777777778,
             "#fb9f3a"
            ],
            [
             0.8888888888888888,
             "#fdca26"
            ],
            [
             1,
             "#f0f921"
            ]
           ]
          },
          "colorway": [
           "#636efa",
           "#EF553B",
           "#00cc96",
           "#ab63fa",
           "#FFA15A",
           "#19d3f3",
           "#FF6692",
           "#B6E880",
           "#FF97FF",
           "#FECB52"
          ],
          "font": {
           "color": "#2a3f5f"
          },
          "geo": {
           "bgcolor": "white",
           "lakecolor": "white",
           "landcolor": "#E5ECF6",
           "showlakes": true,
           "showland": true,
           "subunitcolor": "white"
          },
          "hoverlabel": {
           "align": "left"
          },
          "hovermode": "closest",
          "mapbox": {
           "style": "light"
          },
          "paper_bgcolor": "white",
          "plot_bgcolor": "#E5ECF6",
          "polar": {
           "angularaxis": {
            "gridcolor": "white",
            "linecolor": "white",
            "ticks": ""
           },
           "bgcolor": "#E5ECF6",
           "radialaxis": {
            "gridcolor": "white",
            "linecolor": "white",
            "ticks": ""
           }
          },
          "scene": {
           "xaxis": {
            "backgroundcolor": "#E5ECF6",
            "gridcolor": "white",
            "gridwidth": 2,
            "linecolor": "white",
            "showbackground": true,
            "ticks": "",
            "zerolinecolor": "white"
           },
           "yaxis": {
            "backgroundcolor": "#E5ECF6",
            "gridcolor": "white",
            "gridwidth": 2,
            "linecolor": "white",
            "showbackground": true,
            "ticks": "",
            "zerolinecolor": "white"
           },
           "zaxis": {
            "backgroundcolor": "#E5ECF6",
            "gridcolor": "white",
            "gridwidth": 2,
            "linecolor": "white",
            "showbackground": true,
            "ticks": "",
            "zerolinecolor": "white"
           }
          },
          "shapedefaults": {
           "line": {
            "color": "#2a3f5f"
           }
          },
          "ternary": {
           "aaxis": {
            "gridcolor": "white",
            "linecolor": "white",
            "ticks": ""
           },
           "baxis": {
            "gridcolor": "white",
            "linecolor": "white",
            "ticks": ""
           },
           "bgcolor": "#E5ECF6",
           "caxis": {
            "gridcolor": "white",
            "linecolor": "white",
            "ticks": ""
           }
          },
          "title": {
           "x": 0.05
          },
          "xaxis": {
           "automargin": true,
           "gridcolor": "white",
           "linecolor": "white",
           "ticks": "",
           "title": {
            "standoff": 15
           },
           "zerolinecolor": "white",
           "zerolinewidth": 2
          },
          "yaxis": {
           "automargin": true,
           "gridcolor": "white",
           "linecolor": "white",
           "ticks": "",
           "title": {
            "standoff": 15
           },
           "zerolinecolor": "white",
           "zerolinewidth": 2
          }
         }
        },
        "title": {
         "text": "Muncipios de Sonora con Mayor porcentaje de Analfabetismo en personas de 6-14 años"
        },
        "xaxis": {
         "anchor": "y",
         "domain": [
          0,
          1
         ],
         "title": {
          "text": "Porcentaje %"
         }
        },
        "yaxis": {
         "anchor": "x",
         "domain": [
          0,
          1
         ],
         "title": {
          "text": "Municipio"
         }
        }
       }
      }
     },
     "metadata": {},
     "output_type": "display_data"
    }
   ],
   "source": [
    "dff = censo_educacion\n",
    "dff = dff.groupby(['Municipio']).sum()[['Sabe leer y escribir', 'No sabe leer y escribir', 'No especificado']].copy()\n",
    "dff['total'] = dff.sum(axis=1)\n",
    "dff['porcentaje_analfabetismo'] = (dff['No sabe leer y escribir'] / dff['total'] ) * 100\n",
    "dff = dff['porcentaje_analfabetismo'].sort_values(ascending=False)[:10].sort_values()\n",
    "fig = px.bar(dff, orientation='h', title='Muncipios de Sonora con Mayor porcentaje de Analfabetismo en personas de 6-14 años',\n",
    "                labels={'value':\"Porcentaje %\",})\n",
    "fig.layout.update(showlegend=False) \n",
    "fig.show()"
   ]
  },
  {
   "cell_type": "code",
   "execution_count": 246,
   "metadata": {},
   "outputs": [
    {
     "data": {
      "application/vnd.plotly.v1+json": {
       "config": {
        "plotlyServerURL": "https://plot.ly"
       },
       "data": [
        {
         "alignmentgroup": "True",
         "hovertemplate": "variable=porcentaje_analfabetismo<br>Porcentaje %=%{x}<br>Municipio=%{y}<extra></extra>",
         "legendgroup": "porcentaje_analfabetismo",
         "marker": {
          "color": "#636efa",
          "pattern": {
           "shape": ""
          }
         },
         "name": "porcentaje_analfabetismo",
         "offsetgroup": "porcentaje_analfabetismo",
         "orientation": "h",
         "showlegend": true,
         "textposition": "auto",
         "type": "bar",
         "x": [
          2.4,
          4.444444444444445,
          4.651162790697675,
          5.223880597014925,
          5.46448087431694,
          5.797101449275362,
          5.806451612903226,
          6.2857142857142865,
          6.426735218508997,
          6.504065040650407
         ],
         "xaxis": "x",
         "y": [
          "Huépac",
          "Onavas",
          "Atil",
          "Bacadéhuachi",
          "Arivechi",
          "Banámichi",
          "Tepache",
          "Cumpas",
          "Opodepe",
          "Divisaderos"
         ],
         "yaxis": "y"
        }
       ],
       "layout": {
        "barmode": "relative",
        "legend": {
         "title": {
          "text": "variable"
         },
         "tracegroupgap": 0
        },
        "showlegend": false,
        "template": {
         "data": {
          "bar": [
           {
            "error_x": {
             "color": "#2a3f5f"
            },
            "error_y": {
             "color": "#2a3f5f"
            },
            "marker": {
             "line": {
              "color": "#E5ECF6",
              "width": 0.5
             },
             "pattern": {
              "fillmode": "overlay",
              "size": 10,
              "solidity": 0.2
             }
            },
            "type": "bar"
           }
          ],
          "barpolar": [
           {
            "marker": {
             "line": {
              "color": "#E5ECF6",
              "width": 0.5
             },
             "pattern": {
              "fillmode": "overlay",
              "size": 10,
              "solidity": 0.2
             }
            },
            "type": "barpolar"
           }
          ],
          "carpet": [
           {
            "aaxis": {
             "endlinecolor": "#2a3f5f",
             "gridcolor": "white",
             "linecolor": "white",
             "minorgridcolor": "white",
             "startlinecolor": "#2a3f5f"
            },
            "baxis": {
             "endlinecolor": "#2a3f5f",
             "gridcolor": "white",
             "linecolor": "white",
             "minorgridcolor": "white",
             "startlinecolor": "#2a3f5f"
            },
            "type": "carpet"
           }
          ],
          "choropleth": [
           {
            "colorbar": {
             "outlinewidth": 0,
             "ticks": ""
            },
            "type": "choropleth"
           }
          ],
          "contour": [
           {
            "colorbar": {
             "outlinewidth": 0,
             "ticks": ""
            },
            "colorscale": [
             [
              0,
              "#0d0887"
             ],
             [
              0.1111111111111111,
              "#46039f"
             ],
             [
              0.2222222222222222,
              "#7201a8"
             ],
             [
              0.3333333333333333,
              "#9c179e"
             ],
             [
              0.4444444444444444,
              "#bd3786"
             ],
             [
              0.5555555555555556,
              "#d8576b"
             ],
             [
              0.6666666666666666,
              "#ed7953"
             ],
             [
              0.7777777777777778,
              "#fb9f3a"
             ],
             [
              0.8888888888888888,
              "#fdca26"
             ],
             [
              1,
              "#f0f921"
             ]
            ],
            "type": "contour"
           }
          ],
          "contourcarpet": [
           {
            "colorbar": {
             "outlinewidth": 0,
             "ticks": ""
            },
            "type": "contourcarpet"
           }
          ],
          "heatmap": [
           {
            "colorbar": {
             "outlinewidth": 0,
             "ticks": ""
            },
            "colorscale": [
             [
              0,
              "#0d0887"
             ],
             [
              0.1111111111111111,
              "#46039f"
             ],
             [
              0.2222222222222222,
              "#7201a8"
             ],
             [
              0.3333333333333333,
              "#9c179e"
             ],
             [
              0.4444444444444444,
              "#bd3786"
             ],
             [
              0.5555555555555556,
              "#d8576b"
             ],
             [
              0.6666666666666666,
              "#ed7953"
             ],
             [
              0.7777777777777778,
              "#fb9f3a"
             ],
             [
              0.8888888888888888,
              "#fdca26"
             ],
             [
              1,
              "#f0f921"
             ]
            ],
            "type": "heatmap"
           }
          ],
          "heatmapgl": [
           {
            "colorbar": {
             "outlinewidth": 0,
             "ticks": ""
            },
            "colorscale": [
             [
              0,
              "#0d0887"
             ],
             [
              0.1111111111111111,
              "#46039f"
             ],
             [
              0.2222222222222222,
              "#7201a8"
             ],
             [
              0.3333333333333333,
              "#9c179e"
             ],
             [
              0.4444444444444444,
              "#bd3786"
             ],
             [
              0.5555555555555556,
              "#d8576b"
             ],
             [
              0.6666666666666666,
              "#ed7953"
             ],
             [
              0.7777777777777778,
              "#fb9f3a"
             ],
             [
              0.8888888888888888,
              "#fdca26"
             ],
             [
              1,
              "#f0f921"
             ]
            ],
            "type": "heatmapgl"
           }
          ],
          "histogram": [
           {
            "marker": {
             "pattern": {
              "fillmode": "overlay",
              "size": 10,
              "solidity": 0.2
             }
            },
            "type": "histogram"
           }
          ],
          "histogram2d": [
           {
            "colorbar": {
             "outlinewidth": 0,
             "ticks": ""
            },
            "colorscale": [
             [
              0,
              "#0d0887"
             ],
             [
              0.1111111111111111,
              "#46039f"
             ],
             [
              0.2222222222222222,
              "#7201a8"
             ],
             [
              0.3333333333333333,
              "#9c179e"
             ],
             [
              0.4444444444444444,
              "#bd3786"
             ],
             [
              0.5555555555555556,
              "#d8576b"
             ],
             [
              0.6666666666666666,
              "#ed7953"
             ],
             [
              0.7777777777777778,
              "#fb9f3a"
             ],
             [
              0.8888888888888888,
              "#fdca26"
             ],
             [
              1,
              "#f0f921"
             ]
            ],
            "type": "histogram2d"
           }
          ],
          "histogram2dcontour": [
           {
            "colorbar": {
             "outlinewidth": 0,
             "ticks": ""
            },
            "colorscale": [
             [
              0,
              "#0d0887"
             ],
             [
              0.1111111111111111,
              "#46039f"
             ],
             [
              0.2222222222222222,
              "#7201a8"
             ],
             [
              0.3333333333333333,
              "#9c179e"
             ],
             [
              0.4444444444444444,
              "#bd3786"
             ],
             [
              0.5555555555555556,
              "#d8576b"
             ],
             [
              0.6666666666666666,
              "#ed7953"
             ],
             [
              0.7777777777777778,
              "#fb9f3a"
             ],
             [
              0.8888888888888888,
              "#fdca26"
             ],
             [
              1,
              "#f0f921"
             ]
            ],
            "type": "histogram2dcontour"
           }
          ],
          "mesh3d": [
           {
            "colorbar": {
             "outlinewidth": 0,
             "ticks": ""
            },
            "type": "mesh3d"
           }
          ],
          "parcoords": [
           {
            "line": {
             "colorbar": {
              "outlinewidth": 0,
              "ticks": ""
             }
            },
            "type": "parcoords"
           }
          ],
          "pie": [
           {
            "automargin": true,
            "type": "pie"
           }
          ],
          "scatter": [
           {
            "fillpattern": {
             "fillmode": "overlay",
             "size": 10,
             "solidity": 0.2
            },
            "type": "scatter"
           }
          ],
          "scatter3d": [
           {
            "line": {
             "colorbar": {
              "outlinewidth": 0,
              "ticks": ""
             }
            },
            "marker": {
             "colorbar": {
              "outlinewidth": 0,
              "ticks": ""
             }
            },
            "type": "scatter3d"
           }
          ],
          "scattercarpet": [
           {
            "marker": {
             "colorbar": {
              "outlinewidth": 0,
              "ticks": ""
             }
            },
            "type": "scattercarpet"
           }
          ],
          "scattergeo": [
           {
            "marker": {
             "colorbar": {
              "outlinewidth": 0,
              "ticks": ""
             }
            },
            "type": "scattergeo"
           }
          ],
          "scattergl": [
           {
            "marker": {
             "colorbar": {
              "outlinewidth": 0,
              "ticks": ""
             }
            },
            "type": "scattergl"
           }
          ],
          "scattermapbox": [
           {
            "marker": {
             "colorbar": {
              "outlinewidth": 0,
              "ticks": ""
             }
            },
            "type": "scattermapbox"
           }
          ],
          "scatterpolar": [
           {
            "marker": {
             "colorbar": {
              "outlinewidth": 0,
              "ticks": ""
             }
            },
            "type": "scatterpolar"
           }
          ],
          "scatterpolargl": [
           {
            "marker": {
             "colorbar": {
              "outlinewidth": 0,
              "ticks": ""
             }
            },
            "type": "scatterpolargl"
           }
          ],
          "scatterternary": [
           {
            "marker": {
             "colorbar": {
              "outlinewidth": 0,
              "ticks": ""
             }
            },
            "type": "scatterternary"
           }
          ],
          "surface": [
           {
            "colorbar": {
             "outlinewidth": 0,
             "ticks": ""
            },
            "colorscale": [
             [
              0,
              "#0d0887"
             ],
             [
              0.1111111111111111,
              "#46039f"
             ],
             [
              0.2222222222222222,
              "#7201a8"
             ],
             [
              0.3333333333333333,
              "#9c179e"
             ],
             [
              0.4444444444444444,
              "#bd3786"
             ],
             [
              0.5555555555555556,
              "#d8576b"
             ],
             [
              0.6666666666666666,
              "#ed7953"
             ],
             [
              0.7777777777777778,
              "#fb9f3a"
             ],
             [
              0.8888888888888888,
              "#fdca26"
             ],
             [
              1,
              "#f0f921"
             ]
            ],
            "type": "surface"
           }
          ],
          "table": [
           {
            "cells": {
             "fill": {
              "color": "#EBF0F8"
             },
             "line": {
              "color": "white"
             }
            },
            "header": {
             "fill": {
              "color": "#C8D4E3"
             },
             "line": {
              "color": "white"
             }
            },
            "type": "table"
           }
          ]
         },
         "layout": {
          "annotationdefaults": {
           "arrowcolor": "#2a3f5f",
           "arrowhead": 0,
           "arrowwidth": 1
          },
          "autotypenumbers": "strict",
          "coloraxis": {
           "colorbar": {
            "outlinewidth": 0,
            "ticks": ""
           }
          },
          "colorscale": {
           "diverging": [
            [
             0,
             "#8e0152"
            ],
            [
             0.1,
             "#c51b7d"
            ],
            [
             0.2,
             "#de77ae"
            ],
            [
             0.3,
             "#f1b6da"
            ],
            [
             0.4,
             "#fde0ef"
            ],
            [
             0.5,
             "#f7f7f7"
            ],
            [
             0.6,
             "#e6f5d0"
            ],
            [
             0.7,
             "#b8e186"
            ],
            [
             0.8,
             "#7fbc41"
            ],
            [
             0.9,
             "#4d9221"
            ],
            [
             1,
             "#276419"
            ]
           ],
           "sequential": [
            [
             0,
             "#0d0887"
            ],
            [
             0.1111111111111111,
             "#46039f"
            ],
            [
             0.2222222222222222,
             "#7201a8"
            ],
            [
             0.3333333333333333,
             "#9c179e"
            ],
            [
             0.4444444444444444,
             "#bd3786"
            ],
            [
             0.5555555555555556,
             "#d8576b"
            ],
            [
             0.6666666666666666,
             "#ed7953"
            ],
            [
             0.7777777777777778,
             "#fb9f3a"
            ],
            [
             0.8888888888888888,
             "#fdca26"
            ],
            [
             1,
             "#f0f921"
            ]
           ],
           "sequentialminus": [
            [
             0,
             "#0d0887"
            ],
            [
             0.1111111111111111,
             "#46039f"
            ],
            [
             0.2222222222222222,
             "#7201a8"
            ],
            [
             0.3333333333333333,
             "#9c179e"
            ],
            [
             0.4444444444444444,
             "#bd3786"
            ],
            [
             0.5555555555555556,
             "#d8576b"
            ],
            [
             0.6666666666666666,
             "#ed7953"
            ],
            [
             0.7777777777777778,
             "#fb9f3a"
            ],
            [
             0.8888888888888888,
             "#fdca26"
            ],
            [
             1,
             "#f0f921"
            ]
           ]
          },
          "colorway": [
           "#636efa",
           "#EF553B",
           "#00cc96",
           "#ab63fa",
           "#FFA15A",
           "#19d3f3",
           "#FF6692",
           "#B6E880",
           "#FF97FF",
           "#FECB52"
          ],
          "font": {
           "color": "#2a3f5f"
          },
          "geo": {
           "bgcolor": "white",
           "lakecolor": "white",
           "landcolor": "#E5ECF6",
           "showlakes": true,
           "showland": true,
           "subunitcolor": "white"
          },
          "hoverlabel": {
           "align": "left"
          },
          "hovermode": "closest",
          "mapbox": {
           "style": "light"
          },
          "paper_bgcolor": "white",
          "plot_bgcolor": "#E5ECF6",
          "polar": {
           "angularaxis": {
            "gridcolor": "white",
            "linecolor": "white",
            "ticks": ""
           },
           "bgcolor": "#E5ECF6",
           "radialaxis": {
            "gridcolor": "white",
            "linecolor": "white",
            "ticks": ""
           }
          },
          "scene": {
           "xaxis": {
            "backgroundcolor": "#E5ECF6",
            "gridcolor": "white",
            "gridwidth": 2,
            "linecolor": "white",
            "showbackground": true,
            "ticks": "",
            "zerolinecolor": "white"
           },
           "yaxis": {
            "backgroundcolor": "#E5ECF6",
            "gridcolor": "white",
            "gridwidth": 2,
            "linecolor": "white",
            "showbackground": true,
            "ticks": "",
            "zerolinecolor": "white"
           },
           "zaxis": {
            "backgroundcolor": "#E5ECF6",
            "gridcolor": "white",
            "gridwidth": 2,
            "linecolor": "white",
            "showbackground": true,
            "ticks": "",
            "zerolinecolor": "white"
           }
          },
          "shapedefaults": {
           "line": {
            "color": "#2a3f5f"
           }
          },
          "ternary": {
           "aaxis": {
            "gridcolor": "white",
            "linecolor": "white",
            "ticks": ""
           },
           "baxis": {
            "gridcolor": "white",
            "linecolor": "white",
            "ticks": ""
           },
           "bgcolor": "#E5ECF6",
           "caxis": {
            "gridcolor": "white",
            "linecolor": "white",
            "ticks": ""
           }
          },
          "title": {
           "x": 0.05
          },
          "xaxis": {
           "automargin": true,
           "gridcolor": "white",
           "linecolor": "white",
           "ticks": "",
           "title": {
            "standoff": 15
           },
           "zerolinecolor": "white",
           "zerolinewidth": 2
          },
          "yaxis": {
           "automargin": true,
           "gridcolor": "white",
           "linecolor": "white",
           "ticks": "",
           "title": {
            "standoff": 15
           },
           "zerolinecolor": "white",
           "zerolinewidth": 2
          }
         }
        },
        "title": {
         "text": "Muncipios con Menor porcentaje de Analfabetismo en personas de 6-14 años"
        },
        "xaxis": {
         "anchor": "y",
         "domain": [
          0,
          1
         ],
         "title": {
          "text": "Porcentaje %"
         }
        },
        "yaxis": {
         "anchor": "x",
         "domain": [
          0,
          1
         ],
         "title": {
          "text": "Municipio"
         }
        }
       }
      }
     },
     "metadata": {},
     "output_type": "display_data"
    }
   ],
   "source": [
    "dff = censo_educacion\n",
    "dff = dff.groupby(['Municipio']).sum()[['Sabe leer y escribir', 'No sabe leer y escribir', 'No especificado']].copy()\n",
    "dff['total'] = dff.sum(axis=1)\n",
    "dff['porcentaje_analfabetismo'] = (dff['No sabe leer y escribir'] / dff['total'] ) * 100\n",
    "dff = dff['porcentaje_analfabetismo'].sort_values(ascending=True)[:10].sort_values()\n",
    "fig = px.bar(dff, orientation='h', title='Muncipios con Menor porcentaje de Analfabetismo en personas de 6-14 años',\n",
    "                labels={'value':\"Porcentaje %\",})\n",
    "fig.layout.update(showlegend=False) \n",
    "fig.show()"
   ]
  },
  {
   "cell_type": "markdown",
   "metadata": {},
   "source": [
    "### Propuesta"
   ]
  },
  {
   "cell_type": "markdown",
   "metadata": {},
   "source": [
    "Lo ideal sería hacer un mapa donde se ponga el porcentaje general para cada municipio, y se de la opcion tambien de ver porcentaje específico para cada grupo de edad, por lo que haremos un dataset que tenga en cada columna ya los valores que se vayan a usar para el mapa, y el indice sean los municipios"
   ]
  },
  {
   "cell_type": "code",
   "execution_count": 247,
   "metadata": {},
   "outputs": [],
   "source": [
    "dff = censo_educacion\n",
    "dff = dff.groupby(['Municipio']).sum()[['Sabe leer y escribir', 'No sabe leer y escribir', 'No especificado']].copy()\n",
    "dff['total'] = dff.sum(axis=1)\n",
    "dff['porcentaje_analfabetismo'] = (dff['No sabe leer y escribir'] / dff['total'] ) * 100\n",
    "dff = dff.rename({'porcentaje_analfabetismo': 'porcentaje_analfabetismo_total'}, axis=1)\n",
    "dataframe_analfabetismo = dff[['porcentaje_analfabetismo_total']].copy()"
   ]
  },
  {
   "cell_type": "code",
   "execution_count": 248,
   "metadata": {},
   "outputs": [
    {
     "data": {
      "text/html": [
       "<div>\n",
       "<style scoped>\n",
       "    .dataframe tbody tr th:only-of-type {\n",
       "        vertical-align: middle;\n",
       "    }\n",
       "\n",
       "    .dataframe tbody tr th {\n",
       "        vertical-align: top;\n",
       "    }\n",
       "\n",
       "    .dataframe thead th {\n",
       "        text-align: right;\n",
       "    }\n",
       "</style>\n",
       "<table border=\"1\" class=\"dataframe\">\n",
       "  <thead>\n",
       "    <tr style=\"text-align: right;\">\n",
       "      <th></th>\n",
       "      <th>porcentaje_analfabetismo_total</th>\n",
       "    </tr>\n",
       "    <tr>\n",
       "      <th>Municipio</th>\n",
       "      <th></th>\n",
       "    </tr>\n",
       "  </thead>\n",
       "  <tbody>\n",
       "    <tr>\n",
       "      <th>Aconchi</th>\n",
       "      <td>7.486631</td>\n",
       "    </tr>\n",
       "    <tr>\n",
       "      <th>Agua Prieta</th>\n",
       "      <td>11.160968</td>\n",
       "    </tr>\n",
       "    <tr>\n",
       "      <th>Alamos</th>\n",
       "      <td>11.556545</td>\n",
       "    </tr>\n",
       "    <tr>\n",
       "      <th>Altar</th>\n",
       "      <td>11.174785</td>\n",
       "    </tr>\n",
       "    <tr>\n",
       "      <th>Arivechi</th>\n",
       "      <td>5.464481</td>\n",
       "    </tr>\n",
       "    <tr>\n",
       "      <th>...</th>\n",
       "      <td>...</td>\n",
       "    </tr>\n",
       "    <tr>\n",
       "      <th>Tubutama</th>\n",
       "      <td>10.945274</td>\n",
       "    </tr>\n",
       "    <tr>\n",
       "      <th>Ures</th>\n",
       "      <td>8.635097</td>\n",
       "    </tr>\n",
       "    <tr>\n",
       "      <th>Villa Hidalgo</th>\n",
       "      <td>8.230453</td>\n",
       "    </tr>\n",
       "    <tr>\n",
       "      <th>Villa Pesqueira</th>\n",
       "      <td>10.317460</td>\n",
       "    </tr>\n",
       "    <tr>\n",
       "      <th>Yécora</th>\n",
       "      <td>13.432836</td>\n",
       "    </tr>\n",
       "  </tbody>\n",
       "</table>\n",
       "<p>72 rows × 1 columns</p>\n",
       "</div>"
      ],
      "text/plain": [
       "                 porcentaje_analfabetismo_total\n",
       "Municipio                                      \n",
       "Aconchi                                7.486631\n",
       "Agua Prieta                           11.160968\n",
       "Alamos                                11.556545\n",
       "Altar                                 11.174785\n",
       "Arivechi                               5.464481\n",
       "...                                         ...\n",
       "Tubutama                              10.945274\n",
       "Ures                                   8.635097\n",
       "Villa Hidalgo                          8.230453\n",
       "Villa Pesqueira                       10.317460\n",
       "Yécora                                13.432836\n",
       "\n",
       "[72 rows x 1 columns]"
      ]
     },
     "execution_count": 248,
     "metadata": {},
     "output_type": "execute_result"
    }
   ],
   "source": [
    "dataframe_analfabetismo"
   ]
  },
  {
   "cell_type": "markdown",
   "metadata": {},
   "source": [
    "A este dataframe le agregaremos cada uno de los porcentajes totales tambien pero para cada sexo\n"
   ]
  },
  {
   "cell_type": "code",
   "execution_count": 249,
   "metadata": {},
   "outputs": [
    {
     "data": {
      "text/html": [
       "<div>\n",
       "<style scoped>\n",
       "    .dataframe tbody tr th:only-of-type {\n",
       "        vertical-align: middle;\n",
       "    }\n",
       "\n",
       "    .dataframe tbody tr th {\n",
       "        vertical-align: top;\n",
       "    }\n",
       "\n",
       "    .dataframe thead th {\n",
       "        text-align: right;\n",
       "    }\n",
       "</style>\n",
       "<table border=\"1\" class=\"dataframe\">\n",
       "  <thead>\n",
       "    <tr style=\"text-align: right;\">\n",
       "      <th></th>\n",
       "      <th>porcentaje_analfabetismo_hombres_total</th>\n",
       "      <th>porcentaje_analfabetismo_mujeres_total</th>\n",
       "    </tr>\n",
       "    <tr>\n",
       "      <th>Municipio</th>\n",
       "      <th></th>\n",
       "      <th></th>\n",
       "    </tr>\n",
       "  </thead>\n",
       "  <tbody>\n",
       "    <tr>\n",
       "      <th>Aconchi</th>\n",
       "      <td>9.359606</td>\n",
       "      <td>5.263158</td>\n",
       "    </tr>\n",
       "    <tr>\n",
       "      <th>Agua Prieta</th>\n",
       "      <td>11.785892</td>\n",
       "      <td>10.513447</td>\n",
       "    </tr>\n",
       "    <tr>\n",
       "      <th>Alamos</th>\n",
       "      <td>11.490978</td>\n",
       "      <td>11.627907</td>\n",
       "    </tr>\n",
       "    <tr>\n",
       "      <th>Altar</th>\n",
       "      <td>11.353211</td>\n",
       "      <td>10.996564</td>\n",
       "    </tr>\n",
       "    <tr>\n",
       "      <th>Arivechi</th>\n",
       "      <td>5.617978</td>\n",
       "      <td>5.319149</td>\n",
       "    </tr>\n",
       "    <tr>\n",
       "      <th>...</th>\n",
       "      <td>...</td>\n",
       "      <td>...</td>\n",
       "    </tr>\n",
       "    <tr>\n",
       "      <th>Tubutama</th>\n",
       "      <td>15.454545</td>\n",
       "      <td>5.494505</td>\n",
       "    </tr>\n",
       "    <tr>\n",
       "      <th>Ures</th>\n",
       "      <td>9.876543</td>\n",
       "      <td>7.254902</td>\n",
       "    </tr>\n",
       "    <tr>\n",
       "      <th>Villa Hidalgo</th>\n",
       "      <td>11.627907</td>\n",
       "      <td>4.385965</td>\n",
       "    </tr>\n",
       "    <tr>\n",
       "      <th>Villa Pesqueira</th>\n",
       "      <td>11.842105</td>\n",
       "      <td>8.000000</td>\n",
       "    </tr>\n",
       "    <tr>\n",
       "      <th>Yécora</th>\n",
       "      <td>13.602015</td>\n",
       "      <td>13.267813</td>\n",
       "    </tr>\n",
       "  </tbody>\n",
       "</table>\n",
       "<p>72 rows × 2 columns</p>\n",
       "</div>"
      ],
      "text/plain": [
       "                 porcentaje_analfabetismo_hombres_total  \\\n",
       "Municipio                                                 \n",
       "Aconchi                                        9.359606   \n",
       "Agua Prieta                                   11.785892   \n",
       "Alamos                                        11.490978   \n",
       "Altar                                         11.353211   \n",
       "Arivechi                                       5.617978   \n",
       "...                                                 ...   \n",
       "Tubutama                                      15.454545   \n",
       "Ures                                           9.876543   \n",
       "Villa Hidalgo                                 11.627907   \n",
       "Villa Pesqueira                               11.842105   \n",
       "Yécora                                        13.602015   \n",
       "\n",
       "                 porcentaje_analfabetismo_mujeres_total  \n",
       "Municipio                                                \n",
       "Aconchi                                        5.263158  \n",
       "Agua Prieta                                   10.513447  \n",
       "Alamos                                        11.627907  \n",
       "Altar                                         10.996564  \n",
       "Arivechi                                       5.319149  \n",
       "...                                                 ...  \n",
       "Tubutama                                       5.494505  \n",
       "Ures                                           7.254902  \n",
       "Villa Hidalgo                                  4.385965  \n",
       "Villa Pesqueira                                8.000000  \n",
       "Yécora                                        13.267813  \n",
       "\n",
       "[72 rows x 2 columns]"
      ]
     },
     "execution_count": 249,
     "metadata": {},
     "output_type": "execute_result"
    }
   ],
   "source": [
    "dff = censo_educacion\n",
    "dff = dff.groupby(['Municipio','Sexo']).sum()[['Sabe leer y escribir', 'No sabe leer y escribir', 'No especificado']].copy()\n",
    "dff['total'] = dff.sum(axis=1)\n",
    "dff['porcentaje_analfabetismo'] = (dff['No sabe leer y escribir'] / dff['total'] ) * 100\n",
    "dff = dff['porcentaje_analfabetismo'].unstack(level=-1)\n",
    "dff.rename_axis(\"\",axis=1,inplace=True)\n",
    "dff.columns\n",
    "dff = dff.rename({'Hombres':'porcentaje_analfabetismo_hombres_total',\n",
    "            'Mujeres' :'porcentaje_analfabetismo_mujeres_total'}, axis=1)\n",
    "dff"
   ]
  },
  {
   "cell_type": "markdown",
   "metadata": {},
   "source": [
    "Una vez teniendo esto, lo unimos al dataframe_analfabetismo"
   ]
  },
  {
   "cell_type": "code",
   "execution_count": 250,
   "metadata": {},
   "outputs": [],
   "source": [
    "dataframe_analfabetismo = pd.concat([dataframe_analfabetismo,dff] , axis=1)\n"
   ]
  },
  {
   "cell_type": "code",
   "execution_count": 251,
   "metadata": {},
   "outputs": [
    {
     "data": {
      "text/html": [
       "<div>\n",
       "<style scoped>\n",
       "    .dataframe tbody tr th:only-of-type {\n",
       "        vertical-align: middle;\n",
       "    }\n",
       "\n",
       "    .dataframe tbody tr th {\n",
       "        vertical-align: top;\n",
       "    }\n",
       "\n",
       "    .dataframe thead th {\n",
       "        text-align: right;\n",
       "    }\n",
       "</style>\n",
       "<table border=\"1\" class=\"dataframe\">\n",
       "  <thead>\n",
       "    <tr style=\"text-align: right;\">\n",
       "      <th></th>\n",
       "      <th>porcentaje_analfabetismo_total</th>\n",
       "      <th>porcentaje_analfabetismo_hombres_total</th>\n",
       "      <th>porcentaje_analfabetismo_mujeres_total</th>\n",
       "    </tr>\n",
       "    <tr>\n",
       "      <th>Municipio</th>\n",
       "      <th></th>\n",
       "      <th></th>\n",
       "      <th></th>\n",
       "    </tr>\n",
       "  </thead>\n",
       "  <tbody>\n",
       "    <tr>\n",
       "      <th>Aconchi</th>\n",
       "      <td>7.486631</td>\n",
       "      <td>9.359606</td>\n",
       "      <td>5.263158</td>\n",
       "    </tr>\n",
       "    <tr>\n",
       "      <th>Agua Prieta</th>\n",
       "      <td>11.160968</td>\n",
       "      <td>11.785892</td>\n",
       "      <td>10.513447</td>\n",
       "    </tr>\n",
       "    <tr>\n",
       "      <th>Alamos</th>\n",
       "      <td>11.556545</td>\n",
       "      <td>11.490978</td>\n",
       "      <td>11.627907</td>\n",
       "    </tr>\n",
       "    <tr>\n",
       "      <th>Altar</th>\n",
       "      <td>11.174785</td>\n",
       "      <td>11.353211</td>\n",
       "      <td>10.996564</td>\n",
       "    </tr>\n",
       "    <tr>\n",
       "      <th>Arivechi</th>\n",
       "      <td>5.464481</td>\n",
       "      <td>5.617978</td>\n",
       "      <td>5.319149</td>\n",
       "    </tr>\n",
       "  </tbody>\n",
       "</table>\n",
       "</div>"
      ],
      "text/plain": [
       "             porcentaje_analfabetismo_total  \\\n",
       "Municipio                                     \n",
       "Aconchi                            7.486631   \n",
       "Agua Prieta                       11.160968   \n",
       "Alamos                            11.556545   \n",
       "Altar                             11.174785   \n",
       "Arivechi                           5.464481   \n",
       "\n",
       "             porcentaje_analfabetismo_hombres_total  \\\n",
       "Municipio                                             \n",
       "Aconchi                                    9.359606   \n",
       "Agua Prieta                               11.785892   \n",
       "Alamos                                    11.490978   \n",
       "Altar                                     11.353211   \n",
       "Arivechi                                   5.617978   \n",
       "\n",
       "             porcentaje_analfabetismo_mujeres_total  \n",
       "Municipio                                            \n",
       "Aconchi                                    5.263158  \n",
       "Agua Prieta                               10.513447  \n",
       "Alamos                                    11.627907  \n",
       "Altar                                     10.996564  \n",
       "Arivechi                                   5.319149  "
      ]
     },
     "execution_count": 251,
     "metadata": {},
     "output_type": "execute_result"
    }
   ],
   "source": [
    "dataframe_analfabetismo.head()"
   ]
  },
  {
   "cell_type": "markdown",
   "metadata": {},
   "source": [
    "Por ultimo, agregaremos los datos por edad"
   ]
  },
  {
   "cell_type": "code",
   "execution_count": 252,
   "metadata": {},
   "outputs": [
    {
     "data": {
      "text/html": [
       "<div>\n",
       "<style scoped>\n",
       "    .dataframe tbody tr th:only-of-type {\n",
       "        vertical-align: middle;\n",
       "    }\n",
       "\n",
       "    .dataframe tbody tr th {\n",
       "        vertical-align: top;\n",
       "    }\n",
       "\n",
       "    .dataframe thead th {\n",
       "        text-align: right;\n",
       "    }\n",
       "</style>\n",
       "<table border=\"1\" class=\"dataframe\">\n",
       "  <thead>\n",
       "    <tr style=\"text-align: right;\">\n",
       "      <th></th>\n",
       "      <th>Municipio</th>\n",
       "      <th>Sexo</th>\n",
       "      <th>Edad desplegada</th>\n",
       "      <th>Población de 6 a 14 años</th>\n",
       "      <th>Sabe leer y escribir</th>\n",
       "      <th>No sabe leer y escribir</th>\n",
       "      <th>No especificado</th>\n",
       "    </tr>\n",
       "  </thead>\n",
       "  <tbody>\n",
       "    <tr>\n",
       "      <th>43</th>\n",
       "      <td>Aconchi</td>\n",
       "      <td>Hombres</td>\n",
       "      <td>06 años</td>\n",
       "      <td>20.0</td>\n",
       "      <td>8</td>\n",
       "      <td>12</td>\n",
       "      <td>0</td>\n",
       "    </tr>\n",
       "    <tr>\n",
       "      <th>44</th>\n",
       "      <td>Aconchi</td>\n",
       "      <td>Hombres</td>\n",
       "      <td>07 años</td>\n",
       "      <td>23.0</td>\n",
       "      <td>18</td>\n",
       "      <td>5</td>\n",
       "      <td>0</td>\n",
       "    </tr>\n",
       "    <tr>\n",
       "      <th>45</th>\n",
       "      <td>Aconchi</td>\n",
       "      <td>Hombres</td>\n",
       "      <td>08 años</td>\n",
       "      <td>21.0</td>\n",
       "      <td>20</td>\n",
       "      <td>1</td>\n",
       "      <td>0</td>\n",
       "    </tr>\n",
       "    <tr>\n",
       "      <th>46</th>\n",
       "      <td>Aconchi</td>\n",
       "      <td>Hombres</td>\n",
       "      <td>09 años</td>\n",
       "      <td>18.0</td>\n",
       "      <td>17</td>\n",
       "      <td>1</td>\n",
       "      <td>0</td>\n",
       "    </tr>\n",
       "    <tr>\n",
       "      <th>47</th>\n",
       "      <td>Aconchi</td>\n",
       "      <td>Hombres</td>\n",
       "      <td>10 años</td>\n",
       "      <td>30.0</td>\n",
       "      <td>30</td>\n",
       "      <td>0</td>\n",
       "      <td>0</td>\n",
       "    </tr>\n",
       "    <tr>\n",
       "      <th>...</th>\n",
       "      <td>...</td>\n",
       "      <td>...</td>\n",
       "      <td>...</td>\n",
       "      <td>...</td>\n",
       "      <td>...</td>\n",
       "      <td>...</td>\n",
       "      <td>...</td>\n",
       "    </tr>\n",
       "    <tr>\n",
       "      <th>2181</th>\n",
       "      <td>Yécora</td>\n",
       "      <td>Mujeres</td>\n",
       "      <td>10 años</td>\n",
       "      <td>51.0</td>\n",
       "      <td>48</td>\n",
       "      <td>3</td>\n",
       "      <td>0</td>\n",
       "    </tr>\n",
       "    <tr>\n",
       "      <th>2182</th>\n",
       "      <td>Yécora</td>\n",
       "      <td>Mujeres</td>\n",
       "      <td>11 años</td>\n",
       "      <td>48.0</td>\n",
       "      <td>46</td>\n",
       "      <td>2</td>\n",
       "      <td>0</td>\n",
       "    </tr>\n",
       "    <tr>\n",
       "      <th>2183</th>\n",
       "      <td>Yécora</td>\n",
       "      <td>Mujeres</td>\n",
       "      <td>12 años</td>\n",
       "      <td>43.0</td>\n",
       "      <td>43</td>\n",
       "      <td>0</td>\n",
       "      <td>0</td>\n",
       "    </tr>\n",
       "    <tr>\n",
       "      <th>2184</th>\n",
       "      <td>Yécora</td>\n",
       "      <td>Mujeres</td>\n",
       "      <td>13 años</td>\n",
       "      <td>48.0</td>\n",
       "      <td>47</td>\n",
       "      <td>1</td>\n",
       "      <td>0</td>\n",
       "    </tr>\n",
       "    <tr>\n",
       "      <th>2185</th>\n",
       "      <td>Yécora</td>\n",
       "      <td>Mujeres</td>\n",
       "      <td>14 años</td>\n",
       "      <td>57.0</td>\n",
       "      <td>54</td>\n",
       "      <td>3</td>\n",
       "      <td>0</td>\n",
       "    </tr>\n",
       "  </tbody>\n",
       "</table>\n",
       "<p>1290 rows × 7 columns</p>\n",
       "</div>"
      ],
      "text/plain": [
       "     Municipio     Sexo Edad desplegada  Población de 6 a 14 años  \\\n",
       "43     Aconchi  Hombres         06 años                      20.0   \n",
       "44     Aconchi  Hombres         07 años                      23.0   \n",
       "45     Aconchi  Hombres         08 años                      21.0   \n",
       "46     Aconchi  Hombres         09 años                      18.0   \n",
       "47     Aconchi  Hombres         10 años                      30.0   \n",
       "...        ...      ...             ...                       ...   \n",
       "2181    Yécora  Mujeres         10 años                      51.0   \n",
       "2182    Yécora  Mujeres         11 años                      48.0   \n",
       "2183    Yécora  Mujeres         12 años                      43.0   \n",
       "2184    Yécora  Mujeres         13 años                      48.0   \n",
       "2185    Yécora  Mujeres         14 años                      57.0   \n",
       "\n",
       "      Sabe leer y escribir  No sabe leer y escribir  No especificado  \n",
       "43                       8                       12                0  \n",
       "44                      18                        5                0  \n",
       "45                      20                        1                0  \n",
       "46                      17                        1                0  \n",
       "47                      30                        0                0  \n",
       "...                    ...                      ...              ...  \n",
       "2181                    48                        3                0  \n",
       "2182                    46                        2                0  \n",
       "2183                    43                        0                0  \n",
       "2184                    47                        1                0  \n",
       "2185                    54                        3                0  \n",
       "\n",
       "[1290 rows x 7 columns]"
      ]
     },
     "execution_count": 252,
     "metadata": {},
     "output_type": "execute_result"
    }
   ],
   "source": [
    "censo_educacion"
   ]
  },
  {
   "cell_type": "code",
   "execution_count": 253,
   "metadata": {},
   "outputs": [
    {
     "data": {
      "text/html": [
       "<div>\n",
       "<style scoped>\n",
       "    .dataframe tbody tr th:only-of-type {\n",
       "        vertical-align: middle;\n",
       "    }\n",
       "\n",
       "    .dataframe tbody tr th {\n",
       "        vertical-align: top;\n",
       "    }\n",
       "\n",
       "    .dataframe thead tr th {\n",
       "        text-align: left;\n",
       "    }\n",
       "\n",
       "    .dataframe thead tr:last-of-type th {\n",
       "        text-align: right;\n",
       "    }\n",
       "</style>\n",
       "<table border=\"1\" class=\"dataframe\">\n",
       "  <thead>\n",
       "    <tr>\n",
       "      <th></th>\n",
       "      <th colspan=\"2\" halign=\"left\">porcentaje analfabetismo 06 años</th>\n",
       "      <th colspan=\"2\" halign=\"left\">porcentaje analfabetismo 07 años</th>\n",
       "      <th colspan=\"2\" halign=\"left\">porcentaje analfabetismo 08 años</th>\n",
       "      <th colspan=\"2\" halign=\"left\">porcentaje analfabetismo 09 años</th>\n",
       "      <th colspan=\"2\" halign=\"left\">porcentaje analfabetismo 10 años</th>\n",
       "      <th colspan=\"2\" halign=\"left\">porcentaje analfabetismo 11 años</th>\n",
       "      <th colspan=\"2\" halign=\"left\">porcentaje analfabetismo 12 años</th>\n",
       "      <th colspan=\"2\" halign=\"left\">porcentaje analfabetismo 13 años</th>\n",
       "      <th colspan=\"2\" halign=\"left\">porcentaje analfabetismo 14 años</th>\n",
       "    </tr>\n",
       "    <tr>\n",
       "      <th>Sexo</th>\n",
       "      <th>Hombres</th>\n",
       "      <th>Mujeres</th>\n",
       "      <th>Hombres</th>\n",
       "      <th>Mujeres</th>\n",
       "      <th>Hombres</th>\n",
       "      <th>Mujeres</th>\n",
       "      <th>Hombres</th>\n",
       "      <th>Mujeres</th>\n",
       "      <th>Hombres</th>\n",
       "      <th>Mujeres</th>\n",
       "      <th>Hombres</th>\n",
       "      <th>Mujeres</th>\n",
       "      <th>Hombres</th>\n",
       "      <th>Mujeres</th>\n",
       "      <th>Hombres</th>\n",
       "      <th>Mujeres</th>\n",
       "      <th>Hombres</th>\n",
       "      <th>Mujeres</th>\n",
       "    </tr>\n",
       "    <tr>\n",
       "      <th>Municipio</th>\n",
       "      <th></th>\n",
       "      <th></th>\n",
       "      <th></th>\n",
       "      <th></th>\n",
       "      <th></th>\n",
       "      <th></th>\n",
       "      <th></th>\n",
       "      <th></th>\n",
       "      <th></th>\n",
       "      <th></th>\n",
       "      <th></th>\n",
       "      <th></th>\n",
       "      <th></th>\n",
       "      <th></th>\n",
       "      <th></th>\n",
       "      <th></th>\n",
       "      <th></th>\n",
       "      <th></th>\n",
       "    </tr>\n",
       "  </thead>\n",
       "  <tbody>\n",
       "    <tr>\n",
       "      <th>Aconchi</th>\n",
       "      <td>60.000000</td>\n",
       "      <td>50.000000</td>\n",
       "      <td>21.739130</td>\n",
       "      <td>11.111111</td>\n",
       "      <td>4.761905</td>\n",
       "      <td>13.333333</td>\n",
       "      <td>5.555556</td>\n",
       "      <td>0.000000</td>\n",
       "      <td>0.000000</td>\n",
       "      <td>0.000000</td>\n",
       "      <td>0.000000</td>\n",
       "      <td>0.000000</td>\n",
       "      <td>0.000000</td>\n",
       "      <td>0.000000</td>\n",
       "      <td>0.000000</td>\n",
       "      <td>0.000000</td>\n",
       "      <td>0.000000</td>\n",
       "      <td>0.000000</td>\n",
       "    </tr>\n",
       "    <tr>\n",
       "      <th>Agua Prieta</th>\n",
       "      <td>62.589074</td>\n",
       "      <td>57.471264</td>\n",
       "      <td>24.502618</td>\n",
       "      <td>21.612903</td>\n",
       "      <td>9.803922</td>\n",
       "      <td>8.312958</td>\n",
       "      <td>5.788177</td>\n",
       "      <td>3.221809</td>\n",
       "      <td>2.428256</td>\n",
       "      <td>1.744186</td>\n",
       "      <td>1.836969</td>\n",
       "      <td>0.245700</td>\n",
       "      <td>0.720906</td>\n",
       "      <td>0.446429</td>\n",
       "      <td>0.982533</td>\n",
       "      <td>0.110132</td>\n",
       "      <td>0.219298</td>\n",
       "      <td>0.000000</td>\n",
       "    </tr>\n",
       "    <tr>\n",
       "      <th>Alamos</th>\n",
       "      <td>61.504425</td>\n",
       "      <td>57.142857</td>\n",
       "      <td>26.609442</td>\n",
       "      <td>20.571429</td>\n",
       "      <td>9.442060</td>\n",
       "      <td>11.111111</td>\n",
       "      <td>2.100840</td>\n",
       "      <td>3.108808</td>\n",
       "      <td>1.276596</td>\n",
       "      <td>1.694915</td>\n",
       "      <td>0.000000</td>\n",
       "      <td>1.851852</td>\n",
       "      <td>1.515152</td>\n",
       "      <td>1.276596</td>\n",
       "      <td>2.531646</td>\n",
       "      <td>0.000000</td>\n",
       "      <td>0.431034</td>\n",
       "      <td>0.000000</td>\n",
       "    </tr>\n",
       "    <tr>\n",
       "      <th>Altar</th>\n",
       "      <td>54.945055</td>\n",
       "      <td>57.009346</td>\n",
       "      <td>22.222222</td>\n",
       "      <td>21.568627</td>\n",
       "      <td>13.829787</td>\n",
       "      <td>7.142857</td>\n",
       "      <td>8.791209</td>\n",
       "      <td>3.125000</td>\n",
       "      <td>0.000000</td>\n",
       "      <td>0.961538</td>\n",
       "      <td>4.255319</td>\n",
       "      <td>0.000000</td>\n",
       "      <td>0.847458</td>\n",
       "      <td>2.298851</td>\n",
       "      <td>0.952381</td>\n",
       "      <td>0.943396</td>\n",
       "      <td>0.000000</td>\n",
       "      <td>0.000000</td>\n",
       "    </tr>\n",
       "    <tr>\n",
       "      <th>Arivechi</th>\n",
       "      <td>50.000000</td>\n",
       "      <td>12.500000</td>\n",
       "      <td>0.000000</td>\n",
       "      <td>33.333333</td>\n",
       "      <td>5.555556</td>\n",
       "      <td>0.000000</td>\n",
       "      <td>0.000000</td>\n",
       "      <td>0.000000</td>\n",
       "      <td>0.000000</td>\n",
       "      <td>0.000000</td>\n",
       "      <td>0.000000</td>\n",
       "      <td>0.000000</td>\n",
       "      <td>0.000000</td>\n",
       "      <td>0.000000</td>\n",
       "      <td>0.000000</td>\n",
       "      <td>0.000000</td>\n",
       "      <td>0.000000</td>\n",
       "      <td>0.000000</td>\n",
       "    </tr>\n",
       "    <tr>\n",
       "      <th>...</th>\n",
       "      <td>...</td>\n",
       "      <td>...</td>\n",
       "      <td>...</td>\n",
       "      <td>...</td>\n",
       "      <td>...</td>\n",
       "      <td>...</td>\n",
       "      <td>...</td>\n",
       "      <td>...</td>\n",
       "      <td>...</td>\n",
       "      <td>...</td>\n",
       "      <td>...</td>\n",
       "      <td>...</td>\n",
       "      <td>...</td>\n",
       "      <td>...</td>\n",
       "      <td>...</td>\n",
       "      <td>...</td>\n",
       "      <td>...</td>\n",
       "      <td>...</td>\n",
       "    </tr>\n",
       "    <tr>\n",
       "      <th>Tubutama</th>\n",
       "      <td>56.250000</td>\n",
       "      <td>37.500000</td>\n",
       "      <td>44.444444</td>\n",
       "      <td>20.000000</td>\n",
       "      <td>12.500000</td>\n",
       "      <td>0.000000</td>\n",
       "      <td>20.000000</td>\n",
       "      <td>0.000000</td>\n",
       "      <td>0.000000</td>\n",
       "      <td>0.000000</td>\n",
       "      <td>0.000000</td>\n",
       "      <td>0.000000</td>\n",
       "      <td>0.000000</td>\n",
       "      <td>0.000000</td>\n",
       "      <td>0.000000</td>\n",
       "      <td>0.000000</td>\n",
       "      <td>0.000000</td>\n",
       "      <td>0.000000</td>\n",
       "    </tr>\n",
       "    <tr>\n",
       "      <th>Ures</th>\n",
       "      <td>63.636364</td>\n",
       "      <td>46.666667</td>\n",
       "      <td>21.052632</td>\n",
       "      <td>19.607843</td>\n",
       "      <td>8.163265</td>\n",
       "      <td>6.666667</td>\n",
       "      <td>5.660377</td>\n",
       "      <td>3.278689</td>\n",
       "      <td>0.000000</td>\n",
       "      <td>0.000000</td>\n",
       "      <td>1.388889</td>\n",
       "      <td>0.000000</td>\n",
       "      <td>1.351351</td>\n",
       "      <td>0.000000</td>\n",
       "      <td>0.000000</td>\n",
       "      <td>0.000000</td>\n",
       "      <td>0.000000</td>\n",
       "      <td>0.000000</td>\n",
       "    </tr>\n",
       "    <tr>\n",
       "      <th>Villa Hidalgo</th>\n",
       "      <td>69.230769</td>\n",
       "      <td>37.500000</td>\n",
       "      <td>30.000000</td>\n",
       "      <td>10.000000</td>\n",
       "      <td>10.526316</td>\n",
       "      <td>0.000000</td>\n",
       "      <td>16.666667</td>\n",
       "      <td>6.250000</td>\n",
       "      <td>0.000000</td>\n",
       "      <td>0.000000</td>\n",
       "      <td>0.000000</td>\n",
       "      <td>0.000000</td>\n",
       "      <td>0.000000</td>\n",
       "      <td>0.000000</td>\n",
       "      <td>0.000000</td>\n",
       "      <td>0.000000</td>\n",
       "      <td>0.000000</td>\n",
       "      <td>0.000000</td>\n",
       "    </tr>\n",
       "    <tr>\n",
       "      <th>Villa Pesqueira</th>\n",
       "      <td>66.666667</td>\n",
       "      <td>100.000000</td>\n",
       "      <td>0.000000</td>\n",
       "      <td>37.500000</td>\n",
       "      <td>14.285714</td>\n",
       "      <td>0.000000</td>\n",
       "      <td>0.000000</td>\n",
       "      <td>0.000000</td>\n",
       "      <td>0.000000</td>\n",
       "      <td>0.000000</td>\n",
       "      <td>0.000000</td>\n",
       "      <td>0.000000</td>\n",
       "      <td>0.000000</td>\n",
       "      <td>0.000000</td>\n",
       "      <td>0.000000</td>\n",
       "      <td>0.000000</td>\n",
       "      <td>0.000000</td>\n",
       "      <td>0.000000</td>\n",
       "    </tr>\n",
       "    <tr>\n",
       "      <th>Yécora</th>\n",
       "      <td>60.000000</td>\n",
       "      <td>55.555556</td>\n",
       "      <td>30.000000</td>\n",
       "      <td>23.076923</td>\n",
       "      <td>14.583333</td>\n",
       "      <td>14.634146</td>\n",
       "      <td>9.090909</td>\n",
       "      <td>14.285714</td>\n",
       "      <td>2.380952</td>\n",
       "      <td>5.882353</td>\n",
       "      <td>0.000000</td>\n",
       "      <td>4.166667</td>\n",
       "      <td>1.960784</td>\n",
       "      <td>0.000000</td>\n",
       "      <td>6.451613</td>\n",
       "      <td>2.083333</td>\n",
       "      <td>0.000000</td>\n",
       "      <td>5.263158</td>\n",
       "    </tr>\n",
       "  </tbody>\n",
       "</table>\n",
       "<p>72 rows × 18 columns</p>\n",
       "</div>"
      ],
      "text/plain": [
       "                porcentaje analfabetismo 06 años              \\\n",
       "Sexo                                     Hombres     Mujeres   \n",
       "Municipio                                                      \n",
       "Aconchi                                60.000000   50.000000   \n",
       "Agua Prieta                            62.589074   57.471264   \n",
       "Alamos                                 61.504425   57.142857   \n",
       "Altar                                  54.945055   57.009346   \n",
       "Arivechi                               50.000000   12.500000   \n",
       "...                                          ...         ...   \n",
       "Tubutama                               56.250000   37.500000   \n",
       "Ures                                   63.636364   46.666667   \n",
       "Villa Hidalgo                          69.230769   37.500000   \n",
       "Villa Pesqueira                        66.666667  100.000000   \n",
       "Yécora                                 60.000000   55.555556   \n",
       "\n",
       "                porcentaje analfabetismo 07 años             \\\n",
       "Sexo                                     Hombres    Mujeres   \n",
       "Municipio                                                     \n",
       "Aconchi                                21.739130  11.111111   \n",
       "Agua Prieta                            24.502618  21.612903   \n",
       "Alamos                                 26.609442  20.571429   \n",
       "Altar                                  22.222222  21.568627   \n",
       "Arivechi                                0.000000  33.333333   \n",
       "...                                          ...        ...   \n",
       "Tubutama                               44.444444  20.000000   \n",
       "Ures                                   21.052632  19.607843   \n",
       "Villa Hidalgo                          30.000000  10.000000   \n",
       "Villa Pesqueira                         0.000000  37.500000   \n",
       "Yécora                                 30.000000  23.076923   \n",
       "\n",
       "                porcentaje analfabetismo 08 años             \\\n",
       "Sexo                                     Hombres    Mujeres   \n",
       "Municipio                                                     \n",
       "Aconchi                                 4.761905  13.333333   \n",
       "Agua Prieta                             9.803922   8.312958   \n",
       "Alamos                                  9.442060  11.111111   \n",
       "Altar                                  13.829787   7.142857   \n",
       "Arivechi                                5.555556   0.000000   \n",
       "...                                          ...        ...   \n",
       "Tubutama                               12.500000   0.000000   \n",
       "Ures                                    8.163265   6.666667   \n",
       "Villa Hidalgo                          10.526316   0.000000   \n",
       "Villa Pesqueira                        14.285714   0.000000   \n",
       "Yécora                                 14.583333  14.634146   \n",
       "\n",
       "                porcentaje analfabetismo 09 años             \\\n",
       "Sexo                                     Hombres    Mujeres   \n",
       "Municipio                                                     \n",
       "Aconchi                                 5.555556   0.000000   \n",
       "Agua Prieta                             5.788177   3.221809   \n",
       "Alamos                                  2.100840   3.108808   \n",
       "Altar                                   8.791209   3.125000   \n",
       "Arivechi                                0.000000   0.000000   \n",
       "...                                          ...        ...   \n",
       "Tubutama                               20.000000   0.000000   \n",
       "Ures                                    5.660377   3.278689   \n",
       "Villa Hidalgo                          16.666667   6.250000   \n",
       "Villa Pesqueira                         0.000000   0.000000   \n",
       "Yécora                                  9.090909  14.285714   \n",
       "\n",
       "                porcentaje analfabetismo 10 años            \\\n",
       "Sexo                                     Hombres   Mujeres   \n",
       "Municipio                                                    \n",
       "Aconchi                                 0.000000  0.000000   \n",
       "Agua Prieta                             2.428256  1.744186   \n",
       "Alamos                                  1.276596  1.694915   \n",
       "Altar                                   0.000000  0.961538   \n",
       "Arivechi                                0.000000  0.000000   \n",
       "...                                          ...       ...   \n",
       "Tubutama                                0.000000  0.000000   \n",
       "Ures                                    0.000000  0.000000   \n",
       "Villa Hidalgo                           0.000000  0.000000   \n",
       "Villa Pesqueira                         0.000000  0.000000   \n",
       "Yécora                                  2.380952  5.882353   \n",
       "\n",
       "                porcentaje analfabetismo 11 años            \\\n",
       "Sexo                                     Hombres   Mujeres   \n",
       "Municipio                                                    \n",
       "Aconchi                                 0.000000  0.000000   \n",
       "Agua Prieta                             1.836969  0.245700   \n",
       "Alamos                                  0.000000  1.851852   \n",
       "Altar                                   4.255319  0.000000   \n",
       "Arivechi                                0.000000  0.000000   \n",
       "...                                          ...       ...   \n",
       "Tubutama                                0.000000  0.000000   \n",
       "Ures                                    1.388889  0.000000   \n",
       "Villa Hidalgo                           0.000000  0.000000   \n",
       "Villa Pesqueira                         0.000000  0.000000   \n",
       "Yécora                                  0.000000  4.166667   \n",
       "\n",
       "                porcentaje analfabetismo 12 años            \\\n",
       "Sexo                                     Hombres   Mujeres   \n",
       "Municipio                                                    \n",
       "Aconchi                                 0.000000  0.000000   \n",
       "Agua Prieta                             0.720906  0.446429   \n",
       "Alamos                                  1.515152  1.276596   \n",
       "Altar                                   0.847458  2.298851   \n",
       "Arivechi                                0.000000  0.000000   \n",
       "...                                          ...       ...   \n",
       "Tubutama                                0.000000  0.000000   \n",
       "Ures                                    1.351351  0.000000   \n",
       "Villa Hidalgo                           0.000000  0.000000   \n",
       "Villa Pesqueira                         0.000000  0.000000   \n",
       "Yécora                                  1.960784  0.000000   \n",
       "\n",
       "                porcentaje analfabetismo 13 años            \\\n",
       "Sexo                                     Hombres   Mujeres   \n",
       "Municipio                                                    \n",
       "Aconchi                                 0.000000  0.000000   \n",
       "Agua Prieta                             0.982533  0.110132   \n",
       "Alamos                                  2.531646  0.000000   \n",
       "Altar                                   0.952381  0.943396   \n",
       "Arivechi                                0.000000  0.000000   \n",
       "...                                          ...       ...   \n",
       "Tubutama                                0.000000  0.000000   \n",
       "Ures                                    0.000000  0.000000   \n",
       "Villa Hidalgo                           0.000000  0.000000   \n",
       "Villa Pesqueira                         0.000000  0.000000   \n",
       "Yécora                                  6.451613  2.083333   \n",
       "\n",
       "                porcentaje analfabetismo 14 años            \n",
       "Sexo                                     Hombres   Mujeres  \n",
       "Municipio                                                   \n",
       "Aconchi                                 0.000000  0.000000  \n",
       "Agua Prieta                             0.219298  0.000000  \n",
       "Alamos                                  0.431034  0.000000  \n",
       "Altar                                   0.000000  0.000000  \n",
       "Arivechi                                0.000000  0.000000  \n",
       "...                                          ...       ...  \n",
       "Tubutama                                0.000000  0.000000  \n",
       "Ures                                    0.000000  0.000000  \n",
       "Villa Hidalgo                           0.000000  0.000000  \n",
       "Villa Pesqueira                         0.000000  0.000000  \n",
       "Yécora                                  0.000000  5.263158  \n",
       "\n",
       "[72 rows x 18 columns]"
      ]
     },
     "execution_count": 253,
     "metadata": {},
     "output_type": "execute_result"
    }
   ],
   "source": [
    "dff = censo_educacion\n",
    "dff = dff.groupby(['Municipio','Sexo','Edad desplegada']).sum()[['Sabe leer y escribir', 'No sabe leer y escribir', 'No especificado']].copy()\n",
    "dff['total'] = dff.sum(axis=1)\n",
    "dff['porcentaje_analfabetismo'] = (dff['No sabe leer y escribir'] / dff['total'] ) * 100\n",
    "dff = dff['porcentaje_analfabetismo'].unstack(level=-1)\n",
    "dff.rename_axis(\"\",axis=1,inplace=True)\n",
    "dff = dff.add_prefix('porcentaje analfabetismo ').unstack(level=-1)\n",
    "dff"
   ]
  },
  {
   "cell_type": "code",
   "execution_count": 254,
   "metadata": {},
   "outputs": [
    {
     "data": {
      "text/html": [
       "<div>\n",
       "<style scoped>\n",
       "    .dataframe tbody tr th:only-of-type {\n",
       "        vertical-align: middle;\n",
       "    }\n",
       "\n",
       "    .dataframe tbody tr th {\n",
       "        vertical-align: top;\n",
       "    }\n",
       "\n",
       "    .dataframe thead th {\n",
       "        text-align: right;\n",
       "    }\n",
       "</style>\n",
       "<table border=\"1\" class=\"dataframe\">\n",
       "  <thead>\n",
       "    <tr style=\"text-align: right;\">\n",
       "      <th></th>\n",
       "      <th>porcentaje_analfabetismo_total</th>\n",
       "      <th>porcentaje_analfabetismo_hombres_total</th>\n",
       "      <th>porcentaje_analfabetismo_mujeres_total</th>\n",
       "      <th>(porcentaje analfabetismo 06 años, Hombres)</th>\n",
       "      <th>(porcentaje analfabetismo 06 años, Mujeres)</th>\n",
       "      <th>(porcentaje analfabetismo 07 años, Hombres)</th>\n",
       "      <th>(porcentaje analfabetismo 07 años, Mujeres)</th>\n",
       "      <th>(porcentaje analfabetismo 08 años, Hombres)</th>\n",
       "      <th>(porcentaje analfabetismo 08 años, Mujeres)</th>\n",
       "      <th>(porcentaje analfabetismo 09 años, Hombres)</th>\n",
       "      <th>...</th>\n",
       "      <th>(porcentaje analfabetismo 10 años, Hombres)</th>\n",
       "      <th>(porcentaje analfabetismo 10 años, Mujeres)</th>\n",
       "      <th>(porcentaje analfabetismo 11 años, Hombres)</th>\n",
       "      <th>(porcentaje analfabetismo 11 años, Mujeres)</th>\n",
       "      <th>(porcentaje analfabetismo 12 años, Hombres)</th>\n",
       "      <th>(porcentaje analfabetismo 12 años, Mujeres)</th>\n",
       "      <th>(porcentaje analfabetismo 13 años, Hombres)</th>\n",
       "      <th>(porcentaje analfabetismo 13 años, Mujeres)</th>\n",
       "      <th>(porcentaje analfabetismo 14 años, Hombres)</th>\n",
       "      <th>(porcentaje analfabetismo 14 años, Mujeres)</th>\n",
       "    </tr>\n",
       "    <tr>\n",
       "      <th>Municipio</th>\n",
       "      <th></th>\n",
       "      <th></th>\n",
       "      <th></th>\n",
       "      <th></th>\n",
       "      <th></th>\n",
       "      <th></th>\n",
       "      <th></th>\n",
       "      <th></th>\n",
       "      <th></th>\n",
       "      <th></th>\n",
       "      <th></th>\n",
       "      <th></th>\n",
       "      <th></th>\n",
       "      <th></th>\n",
       "      <th></th>\n",
       "      <th></th>\n",
       "      <th></th>\n",
       "      <th></th>\n",
       "      <th></th>\n",
       "      <th></th>\n",
       "      <th></th>\n",
       "    </tr>\n",
       "  </thead>\n",
       "  <tbody>\n",
       "    <tr>\n",
       "      <th>Aconchi</th>\n",
       "      <td>7.486631</td>\n",
       "      <td>9.359606</td>\n",
       "      <td>5.263158</td>\n",
       "      <td>60.000000</td>\n",
       "      <td>50.000000</td>\n",
       "      <td>21.739130</td>\n",
       "      <td>11.111111</td>\n",
       "      <td>4.761905</td>\n",
       "      <td>13.333333</td>\n",
       "      <td>5.555556</td>\n",
       "      <td>...</td>\n",
       "      <td>0.000000</td>\n",
       "      <td>0.000000</td>\n",
       "      <td>0.000000</td>\n",
       "      <td>0.000000</td>\n",
       "      <td>0.000000</td>\n",
       "      <td>0.000000</td>\n",
       "      <td>0.000000</td>\n",
       "      <td>0.000000</td>\n",
       "      <td>0.000000</td>\n",
       "      <td>0.000000</td>\n",
       "    </tr>\n",
       "    <tr>\n",
       "      <th>Agua Prieta</th>\n",
       "      <td>11.160968</td>\n",
       "      <td>11.785892</td>\n",
       "      <td>10.513447</td>\n",
       "      <td>62.589074</td>\n",
       "      <td>57.471264</td>\n",
       "      <td>24.502618</td>\n",
       "      <td>21.612903</td>\n",
       "      <td>9.803922</td>\n",
       "      <td>8.312958</td>\n",
       "      <td>5.788177</td>\n",
       "      <td>...</td>\n",
       "      <td>2.428256</td>\n",
       "      <td>1.744186</td>\n",
       "      <td>1.836969</td>\n",
       "      <td>0.245700</td>\n",
       "      <td>0.720906</td>\n",
       "      <td>0.446429</td>\n",
       "      <td>0.982533</td>\n",
       "      <td>0.110132</td>\n",
       "      <td>0.219298</td>\n",
       "      <td>0.000000</td>\n",
       "    </tr>\n",
       "    <tr>\n",
       "      <th>Alamos</th>\n",
       "      <td>11.556545</td>\n",
       "      <td>11.490978</td>\n",
       "      <td>11.627907</td>\n",
       "      <td>61.504425</td>\n",
       "      <td>57.142857</td>\n",
       "      <td>26.609442</td>\n",
       "      <td>20.571429</td>\n",
       "      <td>9.442060</td>\n",
       "      <td>11.111111</td>\n",
       "      <td>2.100840</td>\n",
       "      <td>...</td>\n",
       "      <td>1.276596</td>\n",
       "      <td>1.694915</td>\n",
       "      <td>0.000000</td>\n",
       "      <td>1.851852</td>\n",
       "      <td>1.515152</td>\n",
       "      <td>1.276596</td>\n",
       "      <td>2.531646</td>\n",
       "      <td>0.000000</td>\n",
       "      <td>0.431034</td>\n",
       "      <td>0.000000</td>\n",
       "    </tr>\n",
       "    <tr>\n",
       "      <th>Altar</th>\n",
       "      <td>11.174785</td>\n",
       "      <td>11.353211</td>\n",
       "      <td>10.996564</td>\n",
       "      <td>54.945055</td>\n",
       "      <td>57.009346</td>\n",
       "      <td>22.222222</td>\n",
       "      <td>21.568627</td>\n",
       "      <td>13.829787</td>\n",
       "      <td>7.142857</td>\n",
       "      <td>8.791209</td>\n",
       "      <td>...</td>\n",
       "      <td>0.000000</td>\n",
       "      <td>0.961538</td>\n",
       "      <td>4.255319</td>\n",
       "      <td>0.000000</td>\n",
       "      <td>0.847458</td>\n",
       "      <td>2.298851</td>\n",
       "      <td>0.952381</td>\n",
       "      <td>0.943396</td>\n",
       "      <td>0.000000</td>\n",
       "      <td>0.000000</td>\n",
       "    </tr>\n",
       "    <tr>\n",
       "      <th>Arivechi</th>\n",
       "      <td>5.464481</td>\n",
       "      <td>5.617978</td>\n",
       "      <td>5.319149</td>\n",
       "      <td>50.000000</td>\n",
       "      <td>12.500000</td>\n",
       "      <td>0.000000</td>\n",
       "      <td>33.333333</td>\n",
       "      <td>5.555556</td>\n",
       "      <td>0.000000</td>\n",
       "      <td>0.000000</td>\n",
       "      <td>...</td>\n",
       "      <td>0.000000</td>\n",
       "      <td>0.000000</td>\n",
       "      <td>0.000000</td>\n",
       "      <td>0.000000</td>\n",
       "      <td>0.000000</td>\n",
       "      <td>0.000000</td>\n",
       "      <td>0.000000</td>\n",
       "      <td>0.000000</td>\n",
       "      <td>0.000000</td>\n",
       "      <td>0.000000</td>\n",
       "    </tr>\n",
       "    <tr>\n",
       "      <th>...</th>\n",
       "      <td>...</td>\n",
       "      <td>...</td>\n",
       "      <td>...</td>\n",
       "      <td>...</td>\n",
       "      <td>...</td>\n",
       "      <td>...</td>\n",
       "      <td>...</td>\n",
       "      <td>...</td>\n",
       "      <td>...</td>\n",
       "      <td>...</td>\n",
       "      <td>...</td>\n",
       "      <td>...</td>\n",
       "      <td>...</td>\n",
       "      <td>...</td>\n",
       "      <td>...</td>\n",
       "      <td>...</td>\n",
       "      <td>...</td>\n",
       "      <td>...</td>\n",
       "      <td>...</td>\n",
       "      <td>...</td>\n",
       "      <td>...</td>\n",
       "    </tr>\n",
       "    <tr>\n",
       "      <th>Tubutama</th>\n",
       "      <td>10.945274</td>\n",
       "      <td>15.454545</td>\n",
       "      <td>5.494505</td>\n",
       "      <td>56.250000</td>\n",
       "      <td>37.500000</td>\n",
       "      <td>44.444444</td>\n",
       "      <td>20.000000</td>\n",
       "      <td>12.500000</td>\n",
       "      <td>0.000000</td>\n",
       "      <td>20.000000</td>\n",
       "      <td>...</td>\n",
       "      <td>0.000000</td>\n",
       "      <td>0.000000</td>\n",
       "      <td>0.000000</td>\n",
       "      <td>0.000000</td>\n",
       "      <td>0.000000</td>\n",
       "      <td>0.000000</td>\n",
       "      <td>0.000000</td>\n",
       "      <td>0.000000</td>\n",
       "      <td>0.000000</td>\n",
       "      <td>0.000000</td>\n",
       "    </tr>\n",
       "    <tr>\n",
       "      <th>Ures</th>\n",
       "      <td>8.635097</td>\n",
       "      <td>9.876543</td>\n",
       "      <td>7.254902</td>\n",
       "      <td>63.636364</td>\n",
       "      <td>46.666667</td>\n",
       "      <td>21.052632</td>\n",
       "      <td>19.607843</td>\n",
       "      <td>8.163265</td>\n",
       "      <td>6.666667</td>\n",
       "      <td>5.660377</td>\n",
       "      <td>...</td>\n",
       "      <td>0.000000</td>\n",
       "      <td>0.000000</td>\n",
       "      <td>1.388889</td>\n",
       "      <td>0.000000</td>\n",
       "      <td>1.351351</td>\n",
       "      <td>0.000000</td>\n",
       "      <td>0.000000</td>\n",
       "      <td>0.000000</td>\n",
       "      <td>0.000000</td>\n",
       "      <td>0.000000</td>\n",
       "    </tr>\n",
       "    <tr>\n",
       "      <th>Villa Hidalgo</th>\n",
       "      <td>8.230453</td>\n",
       "      <td>11.627907</td>\n",
       "      <td>4.385965</td>\n",
       "      <td>69.230769</td>\n",
       "      <td>37.500000</td>\n",
       "      <td>30.000000</td>\n",
       "      <td>10.000000</td>\n",
       "      <td>10.526316</td>\n",
       "      <td>0.000000</td>\n",
       "      <td>16.666667</td>\n",
       "      <td>...</td>\n",
       "      <td>0.000000</td>\n",
       "      <td>0.000000</td>\n",
       "      <td>0.000000</td>\n",
       "      <td>0.000000</td>\n",
       "      <td>0.000000</td>\n",
       "      <td>0.000000</td>\n",
       "      <td>0.000000</td>\n",
       "      <td>0.000000</td>\n",
       "      <td>0.000000</td>\n",
       "      <td>0.000000</td>\n",
       "    </tr>\n",
       "    <tr>\n",
       "      <th>Villa Pesqueira</th>\n",
       "      <td>10.317460</td>\n",
       "      <td>11.842105</td>\n",
       "      <td>8.000000</td>\n",
       "      <td>66.666667</td>\n",
       "      <td>100.000000</td>\n",
       "      <td>0.000000</td>\n",
       "      <td>37.500000</td>\n",
       "      <td>14.285714</td>\n",
       "      <td>0.000000</td>\n",
       "      <td>0.000000</td>\n",
       "      <td>...</td>\n",
       "      <td>0.000000</td>\n",
       "      <td>0.000000</td>\n",
       "      <td>0.000000</td>\n",
       "      <td>0.000000</td>\n",
       "      <td>0.000000</td>\n",
       "      <td>0.000000</td>\n",
       "      <td>0.000000</td>\n",
       "      <td>0.000000</td>\n",
       "      <td>0.000000</td>\n",
       "      <td>0.000000</td>\n",
       "    </tr>\n",
       "    <tr>\n",
       "      <th>Yécora</th>\n",
       "      <td>13.432836</td>\n",
       "      <td>13.602015</td>\n",
       "      <td>13.267813</td>\n",
       "      <td>60.000000</td>\n",
       "      <td>55.555556</td>\n",
       "      <td>30.000000</td>\n",
       "      <td>23.076923</td>\n",
       "      <td>14.583333</td>\n",
       "      <td>14.634146</td>\n",
       "      <td>9.090909</td>\n",
       "      <td>...</td>\n",
       "      <td>2.380952</td>\n",
       "      <td>5.882353</td>\n",
       "      <td>0.000000</td>\n",
       "      <td>4.166667</td>\n",
       "      <td>1.960784</td>\n",
       "      <td>0.000000</td>\n",
       "      <td>6.451613</td>\n",
       "      <td>2.083333</td>\n",
       "      <td>0.000000</td>\n",
       "      <td>5.263158</td>\n",
       "    </tr>\n",
       "  </tbody>\n",
       "</table>\n",
       "<p>72 rows × 21 columns</p>\n",
       "</div>"
      ],
      "text/plain": [
       "                 porcentaje_analfabetismo_total  \\\n",
       "Municipio                                         \n",
       "Aconchi                                7.486631   \n",
       "Agua Prieta                           11.160968   \n",
       "Alamos                                11.556545   \n",
       "Altar                                 11.174785   \n",
       "Arivechi                               5.464481   \n",
       "...                                         ...   \n",
       "Tubutama                              10.945274   \n",
       "Ures                                   8.635097   \n",
       "Villa Hidalgo                          8.230453   \n",
       "Villa Pesqueira                       10.317460   \n",
       "Yécora                                13.432836   \n",
       "\n",
       "                 porcentaje_analfabetismo_hombres_total  \\\n",
       "Municipio                                                 \n",
       "Aconchi                                        9.359606   \n",
       "Agua Prieta                                   11.785892   \n",
       "Alamos                                        11.490978   \n",
       "Altar                                         11.353211   \n",
       "Arivechi                                       5.617978   \n",
       "...                                                 ...   \n",
       "Tubutama                                      15.454545   \n",
       "Ures                                           9.876543   \n",
       "Villa Hidalgo                                 11.627907   \n",
       "Villa Pesqueira                               11.842105   \n",
       "Yécora                                        13.602015   \n",
       "\n",
       "                 porcentaje_analfabetismo_mujeres_total  \\\n",
       "Municipio                                                 \n",
       "Aconchi                                        5.263158   \n",
       "Agua Prieta                                   10.513447   \n",
       "Alamos                                        11.627907   \n",
       "Altar                                         10.996564   \n",
       "Arivechi                                       5.319149   \n",
       "...                                                 ...   \n",
       "Tubutama                                       5.494505   \n",
       "Ures                                           7.254902   \n",
       "Villa Hidalgo                                  4.385965   \n",
       "Villa Pesqueira                                8.000000   \n",
       "Yécora                                        13.267813   \n",
       "\n",
       "                 (porcentaje analfabetismo 06 años, Hombres)  \\\n",
       "Municipio                                                      \n",
       "Aconchi                                            60.000000   \n",
       "Agua Prieta                                        62.589074   \n",
       "Alamos                                             61.504425   \n",
       "Altar                                              54.945055   \n",
       "Arivechi                                           50.000000   \n",
       "...                                                      ...   \n",
       "Tubutama                                           56.250000   \n",
       "Ures                                               63.636364   \n",
       "Villa Hidalgo                                      69.230769   \n",
       "Villa Pesqueira                                    66.666667   \n",
       "Yécora                                             60.000000   \n",
       "\n",
       "                 (porcentaje analfabetismo 06 años, Mujeres)  \\\n",
       "Municipio                                                      \n",
       "Aconchi                                            50.000000   \n",
       "Agua Prieta                                        57.471264   \n",
       "Alamos                                             57.142857   \n",
       "Altar                                              57.009346   \n",
       "Arivechi                                           12.500000   \n",
       "...                                                      ...   \n",
       "Tubutama                                           37.500000   \n",
       "Ures                                               46.666667   \n",
       "Villa Hidalgo                                      37.500000   \n",
       "Villa Pesqueira                                   100.000000   \n",
       "Yécora                                             55.555556   \n",
       "\n",
       "                 (porcentaje analfabetismo 07 años, Hombres)  \\\n",
       "Municipio                                                      \n",
       "Aconchi                                            21.739130   \n",
       "Agua Prieta                                        24.502618   \n",
       "Alamos                                             26.609442   \n",
       "Altar                                              22.222222   \n",
       "Arivechi                                            0.000000   \n",
       "...                                                      ...   \n",
       "Tubutama                                           44.444444   \n",
       "Ures                                               21.052632   \n",
       "Villa Hidalgo                                      30.000000   \n",
       "Villa Pesqueira                                     0.000000   \n",
       "Yécora                                             30.000000   \n",
       "\n",
       "                 (porcentaje analfabetismo 07 años, Mujeres)  \\\n",
       "Municipio                                                      \n",
       "Aconchi                                            11.111111   \n",
       "Agua Prieta                                        21.612903   \n",
       "Alamos                                             20.571429   \n",
       "Altar                                              21.568627   \n",
       "Arivechi                                           33.333333   \n",
       "...                                                      ...   \n",
       "Tubutama                                           20.000000   \n",
       "Ures                                               19.607843   \n",
       "Villa Hidalgo                                      10.000000   \n",
       "Villa Pesqueira                                    37.500000   \n",
       "Yécora                                             23.076923   \n",
       "\n",
       "                 (porcentaje analfabetismo 08 años, Hombres)  \\\n",
       "Municipio                                                      \n",
       "Aconchi                                             4.761905   \n",
       "Agua Prieta                                         9.803922   \n",
       "Alamos                                              9.442060   \n",
       "Altar                                              13.829787   \n",
       "Arivechi                                            5.555556   \n",
       "...                                                      ...   \n",
       "Tubutama                                           12.500000   \n",
       "Ures                                                8.163265   \n",
       "Villa Hidalgo                                      10.526316   \n",
       "Villa Pesqueira                                    14.285714   \n",
       "Yécora                                             14.583333   \n",
       "\n",
       "                 (porcentaje analfabetismo 08 años, Mujeres)  \\\n",
       "Municipio                                                      \n",
       "Aconchi                                            13.333333   \n",
       "Agua Prieta                                         8.312958   \n",
       "Alamos                                             11.111111   \n",
       "Altar                                               7.142857   \n",
       "Arivechi                                            0.000000   \n",
       "...                                                      ...   \n",
       "Tubutama                                            0.000000   \n",
       "Ures                                                6.666667   \n",
       "Villa Hidalgo                                       0.000000   \n",
       "Villa Pesqueira                                     0.000000   \n",
       "Yécora                                             14.634146   \n",
       "\n",
       "                 (porcentaje analfabetismo 09 años, Hombres)  ...  \\\n",
       "Municipio                                                     ...   \n",
       "Aconchi                                             5.555556  ...   \n",
       "Agua Prieta                                         5.788177  ...   \n",
       "Alamos                                              2.100840  ...   \n",
       "Altar                                               8.791209  ...   \n",
       "Arivechi                                            0.000000  ...   \n",
       "...                                                      ...  ...   \n",
       "Tubutama                                           20.000000  ...   \n",
       "Ures                                                5.660377  ...   \n",
       "Villa Hidalgo                                      16.666667  ...   \n",
       "Villa Pesqueira                                     0.000000  ...   \n",
       "Yécora                                              9.090909  ...   \n",
       "\n",
       "                 (porcentaje analfabetismo 10 años, Hombres)  \\\n",
       "Municipio                                                      \n",
       "Aconchi                                             0.000000   \n",
       "Agua Prieta                                         2.428256   \n",
       "Alamos                                              1.276596   \n",
       "Altar                                               0.000000   \n",
       "Arivechi                                            0.000000   \n",
       "...                                                      ...   \n",
       "Tubutama                                            0.000000   \n",
       "Ures                                                0.000000   \n",
       "Villa Hidalgo                                       0.000000   \n",
       "Villa Pesqueira                                     0.000000   \n",
       "Yécora                                              2.380952   \n",
       "\n",
       "                 (porcentaje analfabetismo 10 años, Mujeres)  \\\n",
       "Municipio                                                      \n",
       "Aconchi                                             0.000000   \n",
       "Agua Prieta                                         1.744186   \n",
       "Alamos                                              1.694915   \n",
       "Altar                                               0.961538   \n",
       "Arivechi                                            0.000000   \n",
       "...                                                      ...   \n",
       "Tubutama                                            0.000000   \n",
       "Ures                                                0.000000   \n",
       "Villa Hidalgo                                       0.000000   \n",
       "Villa Pesqueira                                     0.000000   \n",
       "Yécora                                              5.882353   \n",
       "\n",
       "                 (porcentaje analfabetismo 11 años, Hombres)  \\\n",
       "Municipio                                                      \n",
       "Aconchi                                             0.000000   \n",
       "Agua Prieta                                         1.836969   \n",
       "Alamos                                              0.000000   \n",
       "Altar                                               4.255319   \n",
       "Arivechi                                            0.000000   \n",
       "...                                                      ...   \n",
       "Tubutama                                            0.000000   \n",
       "Ures                                                1.388889   \n",
       "Villa Hidalgo                                       0.000000   \n",
       "Villa Pesqueira                                     0.000000   \n",
       "Yécora                                              0.000000   \n",
       "\n",
       "                 (porcentaje analfabetismo 11 años, Mujeres)  \\\n",
       "Municipio                                                      \n",
       "Aconchi                                             0.000000   \n",
       "Agua Prieta                                         0.245700   \n",
       "Alamos                                              1.851852   \n",
       "Altar                                               0.000000   \n",
       "Arivechi                                            0.000000   \n",
       "...                                                      ...   \n",
       "Tubutama                                            0.000000   \n",
       "Ures                                                0.000000   \n",
       "Villa Hidalgo                                       0.000000   \n",
       "Villa Pesqueira                                     0.000000   \n",
       "Yécora                                              4.166667   \n",
       "\n",
       "                 (porcentaje analfabetismo 12 años, Hombres)  \\\n",
       "Municipio                                                      \n",
       "Aconchi                                             0.000000   \n",
       "Agua Prieta                                         0.720906   \n",
       "Alamos                                              1.515152   \n",
       "Altar                                               0.847458   \n",
       "Arivechi                                            0.000000   \n",
       "...                                                      ...   \n",
       "Tubutama                                            0.000000   \n",
       "Ures                                                1.351351   \n",
       "Villa Hidalgo                                       0.000000   \n",
       "Villa Pesqueira                                     0.000000   \n",
       "Yécora                                              1.960784   \n",
       "\n",
       "                 (porcentaje analfabetismo 12 años, Mujeres)  \\\n",
       "Municipio                                                      \n",
       "Aconchi                                             0.000000   \n",
       "Agua Prieta                                         0.446429   \n",
       "Alamos                                              1.276596   \n",
       "Altar                                               2.298851   \n",
       "Arivechi                                            0.000000   \n",
       "...                                                      ...   \n",
       "Tubutama                                            0.000000   \n",
       "Ures                                                0.000000   \n",
       "Villa Hidalgo                                       0.000000   \n",
       "Villa Pesqueira                                     0.000000   \n",
       "Yécora                                              0.000000   \n",
       "\n",
       "                 (porcentaje analfabetismo 13 años, Hombres)  \\\n",
       "Municipio                                                      \n",
       "Aconchi                                             0.000000   \n",
       "Agua Prieta                                         0.982533   \n",
       "Alamos                                              2.531646   \n",
       "Altar                                               0.952381   \n",
       "Arivechi                                            0.000000   \n",
       "...                                                      ...   \n",
       "Tubutama                                            0.000000   \n",
       "Ures                                                0.000000   \n",
       "Villa Hidalgo                                       0.000000   \n",
       "Villa Pesqueira                                     0.000000   \n",
       "Yécora                                              6.451613   \n",
       "\n",
       "                 (porcentaje analfabetismo 13 años, Mujeres)  \\\n",
       "Municipio                                                      \n",
       "Aconchi                                             0.000000   \n",
       "Agua Prieta                                         0.110132   \n",
       "Alamos                                              0.000000   \n",
       "Altar                                               0.943396   \n",
       "Arivechi                                            0.000000   \n",
       "...                                                      ...   \n",
       "Tubutama                                            0.000000   \n",
       "Ures                                                0.000000   \n",
       "Villa Hidalgo                                       0.000000   \n",
       "Villa Pesqueira                                     0.000000   \n",
       "Yécora                                              2.083333   \n",
       "\n",
       "                 (porcentaje analfabetismo 14 años, Hombres)  \\\n",
       "Municipio                                                      \n",
       "Aconchi                                             0.000000   \n",
       "Agua Prieta                                         0.219298   \n",
       "Alamos                                              0.431034   \n",
       "Altar                                               0.000000   \n",
       "Arivechi                                            0.000000   \n",
       "...                                                      ...   \n",
       "Tubutama                                            0.000000   \n",
       "Ures                                                0.000000   \n",
       "Villa Hidalgo                                       0.000000   \n",
       "Villa Pesqueira                                     0.000000   \n",
       "Yécora                                              0.000000   \n",
       "\n",
       "                 (porcentaje analfabetismo 14 años, Mujeres)  \n",
       "Municipio                                                     \n",
       "Aconchi                                             0.000000  \n",
       "Agua Prieta                                         0.000000  \n",
       "Alamos                                              0.000000  \n",
       "Altar                                               0.000000  \n",
       "Arivechi                                            0.000000  \n",
       "...                                                      ...  \n",
       "Tubutama                                            0.000000  \n",
       "Ures                                                0.000000  \n",
       "Villa Hidalgo                                       0.000000  \n",
       "Villa Pesqueira                                     0.000000  \n",
       "Yécora                                              5.263158  \n",
       "\n",
       "[72 rows x 21 columns]"
      ]
     },
     "execution_count": 254,
     "metadata": {},
     "output_type": "execute_result"
    }
   ],
   "source": [
    "dataframe_analfabetismo = pd.concat([dataframe_analfabetismo,dff] , axis=1)\n",
    "dataframe_analfabetismo"
   ]
  },
  {
   "cell_type": "code",
   "execution_count": 255,
   "metadata": {},
   "outputs": [],
   "source": [
    "dataframe_analfabetismo.to_csv('../data_clean/porcentajes_analfabetismo_municipio.csv')"
   ]
  }
 ],
 "metadata": {
  "interpreter": {
   "hash": "916dbcbb3f70747c44a77c7bcd40155683ae19c65e1c03b4aa3499c5328201f1"
  },
  "kernelspec": {
   "display_name": "Python 3.8.10 64-bit",
   "language": "python",
   "name": "python3"
  },
  "language_info": {
   "codemirror_mode": {
    "name": "ipython",
    "version": 3
   },
   "file_extension": ".py",
   "mimetype": "text/x-python",
   "name": "python",
   "nbconvert_exporter": "python",
   "pygments_lexer": "ipython3",
   "version": "3.8.10"
  },
  "orig_nbformat": 4
 },
 "nbformat": 4,
 "nbformat_minor": 2
}

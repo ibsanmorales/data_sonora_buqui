{
 "cells": [
  {
   "cell_type": "markdown",
   "metadata": {},
   "source": [
    "### Limpieza y exploración de datos de educación obtenidos del INEGI"
   ]
  },
  {
   "cell_type": "code",
   "execution_count": 1,
   "metadata": {},
   "outputs": [],
   "source": [
    "#Realizando los imports necesarios\n",
    "import pandas as pd\n",
    "import missingno as msno\n",
    "import plotly.express as px\n"
   ]
  },
  {
   "cell_type": "code",
   "execution_count": 2,
   "metadata": {},
   "outputs": [
    {
     "data": {
      "text/html": [
       "<div>\n",
       "<style scoped>\n",
       "    .dataframe tbody tr th:only-of-type {\n",
       "        vertical-align: middle;\n",
       "    }\n",
       "\n",
       "    .dataframe tbody tr th {\n",
       "        vertical-align: top;\n",
       "    }\n",
       "\n",
       "    .dataframe thead th {\n",
       "        text-align: right;\n",
       "    }\n",
       "</style>\n",
       "<table border=\"1\" class=\"dataframe\">\n",
       "  <thead>\n",
       "    <tr style=\"text-align: right;\">\n",
       "      <th></th>\n",
       "      <th>cve_entidad</th>\n",
       "      <th>desc_entidad</th>\n",
       "      <th>cve_municipio</th>\n",
       "      <th>desc_municipio</th>\n",
       "      <th>id_indicador</th>\n",
       "      <th>indicador</th>\n",
       "      <th>1910</th>\n",
       "      <th>1921</th>\n",
       "      <th>1930</th>\n",
       "      <th>1940</th>\n",
       "      <th>...</th>\n",
       "      <th>2010</th>\n",
       "      <th>2011</th>\n",
       "      <th>2012</th>\n",
       "      <th>2013</th>\n",
       "      <th>2014</th>\n",
       "      <th>2015</th>\n",
       "      <th>2016</th>\n",
       "      <th>2017</th>\n",
       "      <th>2020</th>\n",
       "      <th>unidad_medida</th>\n",
       "    </tr>\n",
       "  </thead>\n",
       "  <tbody>\n",
       "    <tr>\n",
       "      <th>0</th>\n",
       "      <td>26</td>\n",
       "      <td>Sonora</td>\n",
       "      <td>0</td>\n",
       "      <td>Estatal</td>\n",
       "      <td>1002000041</td>\n",
       "      <td>Porcentaje de personas de 15 años y más alfabetas</td>\n",
       "      <td>NaN</td>\n",
       "      <td>NaN</td>\n",
       "      <td>NaN</td>\n",
       "      <td>NaN</td>\n",
       "      <td>...</td>\n",
       "      <td>96.25</td>\n",
       "      <td>NaN</td>\n",
       "      <td>NaN</td>\n",
       "      <td>NaN</td>\n",
       "      <td>NaN</td>\n",
       "      <td>96.6749699434904</td>\n",
       "      <td>NaN</td>\n",
       "      <td>NaN</td>\n",
       "      <td>NaN</td>\n",
       "      <td>Porcentaje</td>\n",
       "    </tr>\n",
       "    <tr>\n",
       "      <th>1</th>\n",
       "      <td>26</td>\n",
       "      <td>Sonora</td>\n",
       "      <td>0</td>\n",
       "      <td>Estatal</td>\n",
       "      <td>1002000050</td>\n",
       "      <td>Tasa de alfabetización de las personas de 15 a...</td>\n",
       "      <td>NaN</td>\n",
       "      <td>NaN</td>\n",
       "      <td>NaN</td>\n",
       "      <td>NaN</td>\n",
       "      <td>...</td>\n",
       "      <td>NaN</td>\n",
       "      <td>NaN</td>\n",
       "      <td>NaN</td>\n",
       "      <td>NaN</td>\n",
       "      <td>NaN</td>\n",
       "      <td>NaN</td>\n",
       "      <td>NaN</td>\n",
       "      <td>NaN</td>\n",
       "      <td>98.99785</td>\n",
       "      <td>Tasa</td>\n",
       "    </tr>\n",
       "    <tr>\n",
       "      <th>2</th>\n",
       "      <td>26</td>\n",
       "      <td>Sonora</td>\n",
       "      <td>0</td>\n",
       "      <td>Estatal</td>\n",
       "      <td>1005000012</td>\n",
       "      <td>Población de 5 años y más que asiste a la escuela</td>\n",
       "      <td>NaN</td>\n",
       "      <td>NaN</td>\n",
       "      <td>NaN</td>\n",
       "      <td>NaN</td>\n",
       "      <td>...</td>\n",
       "      <td>743126.00</td>\n",
       "      <td>NaN</td>\n",
       "      <td>NaN</td>\n",
       "      <td>NaN</td>\n",
       "      <td>NaN</td>\n",
       "      <td>NaN</td>\n",
       "      <td>NaN</td>\n",
       "      <td>NaN</td>\n",
       "      <td>NaN</td>\n",
       "      <td>Personas</td>\n",
       "    </tr>\n",
       "    <tr>\n",
       "      <th>3</th>\n",
       "      <td>26</td>\n",
       "      <td>Sonora</td>\n",
       "      <td>0</td>\n",
       "      <td>Estatal</td>\n",
       "      <td>1005000038</td>\n",
       "      <td>Grado promedio de escolaridad de la población ...</td>\n",
       "      <td>NaN</td>\n",
       "      <td>NaN</td>\n",
       "      <td>NaN</td>\n",
       "      <td>NaN</td>\n",
       "      <td>...</td>\n",
       "      <td>9.42</td>\n",
       "      <td>NaN</td>\n",
       "      <td>NaN</td>\n",
       "      <td>NaN</td>\n",
       "      <td>NaN</td>\n",
       "      <td>10.0014293654817</td>\n",
       "      <td>NaN</td>\n",
       "      <td>NaN</td>\n",
       "      <td>NaN</td>\n",
       "      <td>Años de escolaridad</td>\n",
       "    </tr>\n",
       "    <tr>\n",
       "      <th>4</th>\n",
       "      <td>26</td>\n",
       "      <td>Sonora</td>\n",
       "      <td>0</td>\n",
       "      <td>Estatal</td>\n",
       "      <td>3108001001</td>\n",
       "      <td>Porcentaje de analfabetas total</td>\n",
       "      <td>53.1</td>\n",
       "      <td>45.5</td>\n",
       "      <td>43.9</td>\n",
       "      <td>33.1</td>\n",
       "      <td>...</td>\n",
       "      <td>3.04</td>\n",
       "      <td>NaN</td>\n",
       "      <td>NaN</td>\n",
       "      <td>NaN</td>\n",
       "      <td>NaN</td>\n",
       "      <td>2.16904389627038</td>\n",
       "      <td>NaN</td>\n",
       "      <td>NaN</td>\n",
       "      <td>NaN</td>\n",
       "      <td>Porcentaje</td>\n",
       "    </tr>\n",
       "  </tbody>\n",
       "</table>\n",
       "<p>5 rows × 44 columns</p>\n",
       "</div>"
      ],
      "text/plain": [
       "   cve_entidad desc_entidad  cve_municipio desc_municipio  id_indicador  \\\n",
       "0           26       Sonora              0        Estatal    1002000041   \n",
       "1           26       Sonora              0        Estatal    1002000050   \n",
       "2           26       Sonora              0        Estatal    1005000012   \n",
       "3           26       Sonora              0        Estatal    1005000038   \n",
       "4           26       Sonora              0        Estatal    3108001001   \n",
       "\n",
       "                                           indicador  1910  1921  1930  1940  \\\n",
       "0  Porcentaje de personas de 15 años y más alfabetas   NaN   NaN   NaN   NaN   \n",
       "1  Tasa de alfabetización de las personas de 15 a...   NaN   NaN   NaN   NaN   \n",
       "2  Población de 5 años y más que asiste a la escuela   NaN   NaN   NaN   NaN   \n",
       "3  Grado promedio de escolaridad de la población ...   NaN   NaN   NaN   NaN   \n",
       "4                    Porcentaje de analfabetas total  53.1  45.5  43.9  33.1   \n",
       "\n",
       "   ...       2010  2011  2012  2013  2014              2015  2016  2017  \\\n",
       "0  ...      96.25   NaN   NaN   NaN   NaN  96.6749699434904   NaN   NaN   \n",
       "1  ...        NaN   NaN   NaN   NaN   NaN               NaN   NaN   NaN   \n",
       "2  ...  743126.00   NaN   NaN   NaN   NaN               NaN   NaN   NaN   \n",
       "3  ...       9.42   NaN   NaN   NaN   NaN  10.0014293654817   NaN   NaN   \n",
       "4  ...       3.04   NaN   NaN   NaN   NaN  2.16904389627038   NaN   NaN   \n",
       "\n",
       "       2020        unidad_medida  \n",
       "0       NaN           Porcentaje  \n",
       "1  98.99785                 Tasa  \n",
       "2       NaN             Personas  \n",
       "3       NaN  Años de escolaridad  \n",
       "4       NaN           Porcentaje  \n",
       "\n",
       "[5 rows x 44 columns]"
      ]
     },
     "execution_count": 2,
     "metadata": {},
     "output_type": "execute_result"
    }
   ],
   "source": [
    "#Leyendo los datos\n",
    "educacion_data_raw = pd.read_excel('../data/raw/INEGI_SONORA_FILTRO/268_educacion_26_xlsx/educacion_26.xlsx')\n",
    "educacion_data_raw.head()"
   ]
  },
  {
   "cell_type": "code",
   "execution_count": 3,
   "metadata": {},
   "outputs": [],
   "source": [
    "#Eliminando columnas que no nos vayan a servir\n",
    "educacion_data_raw.drop(['cve_entidad', 'desc_entidad', 'cve_municipio', 'id_indicador'], axis=1, inplace=True)"
   ]
  },
  {
   "cell_type": "code",
   "execution_count": 4,
   "metadata": {},
   "outputs": [
    {
     "data": {
      "text/html": [
       "<div>\n",
       "<style scoped>\n",
       "    .dataframe tbody tr th:only-of-type {\n",
       "        vertical-align: middle;\n",
       "    }\n",
       "\n",
       "    .dataframe tbody tr th {\n",
       "        vertical-align: top;\n",
       "    }\n",
       "\n",
       "    .dataframe thead th {\n",
       "        text-align: right;\n",
       "    }\n",
       "</style>\n",
       "<table border=\"1\" class=\"dataframe\">\n",
       "  <thead>\n",
       "    <tr style=\"text-align: right;\">\n",
       "      <th></th>\n",
       "      <th>desc_municipio</th>\n",
       "      <th>indicador</th>\n",
       "      <th>1910</th>\n",
       "      <th>1921</th>\n",
       "      <th>1930</th>\n",
       "      <th>1940</th>\n",
       "      <th>1950</th>\n",
       "      <th>1960</th>\n",
       "      <th>1970</th>\n",
       "      <th>1980</th>\n",
       "      <th>...</th>\n",
       "      <th>2010</th>\n",
       "      <th>2011</th>\n",
       "      <th>2012</th>\n",
       "      <th>2013</th>\n",
       "      <th>2014</th>\n",
       "      <th>2015</th>\n",
       "      <th>2016</th>\n",
       "      <th>2017</th>\n",
       "      <th>2020</th>\n",
       "      <th>unidad_medida</th>\n",
       "    </tr>\n",
       "  </thead>\n",
       "  <tbody>\n",
       "    <tr>\n",
       "      <th>0</th>\n",
       "      <td>Estatal</td>\n",
       "      <td>Porcentaje de personas de 15 años y más alfabetas</td>\n",
       "      <td>NaN</td>\n",
       "      <td>NaN</td>\n",
       "      <td>NaN</td>\n",
       "      <td>NaN</td>\n",
       "      <td>NaN</td>\n",
       "      <td>NaN</td>\n",
       "      <td>NaN</td>\n",
       "      <td>NaN</td>\n",
       "      <td>...</td>\n",
       "      <td>96.25</td>\n",
       "      <td>NaN</td>\n",
       "      <td>NaN</td>\n",
       "      <td>NaN</td>\n",
       "      <td>NaN</td>\n",
       "      <td>96.6749699434904</td>\n",
       "      <td>NaN</td>\n",
       "      <td>NaN</td>\n",
       "      <td>NaN</td>\n",
       "      <td>Porcentaje</td>\n",
       "    </tr>\n",
       "    <tr>\n",
       "      <th>1</th>\n",
       "      <td>Estatal</td>\n",
       "      <td>Tasa de alfabetización de las personas de 15 a...</td>\n",
       "      <td>NaN</td>\n",
       "      <td>NaN</td>\n",
       "      <td>NaN</td>\n",
       "      <td>NaN</td>\n",
       "      <td>NaN</td>\n",
       "      <td>NaN</td>\n",
       "      <td>NaN</td>\n",
       "      <td>NaN</td>\n",
       "      <td>...</td>\n",
       "      <td>NaN</td>\n",
       "      <td>NaN</td>\n",
       "      <td>NaN</td>\n",
       "      <td>NaN</td>\n",
       "      <td>NaN</td>\n",
       "      <td>NaN</td>\n",
       "      <td>NaN</td>\n",
       "      <td>NaN</td>\n",
       "      <td>98.99785</td>\n",
       "      <td>Tasa</td>\n",
       "    </tr>\n",
       "    <tr>\n",
       "      <th>2</th>\n",
       "      <td>Estatal</td>\n",
       "      <td>Población de 5 años y más que asiste a la escuela</td>\n",
       "      <td>NaN</td>\n",
       "      <td>NaN</td>\n",
       "      <td>NaN</td>\n",
       "      <td>NaN</td>\n",
       "      <td>NaN</td>\n",
       "      <td>NaN</td>\n",
       "      <td>NaN</td>\n",
       "      <td>NaN</td>\n",
       "      <td>...</td>\n",
       "      <td>743126.00</td>\n",
       "      <td>NaN</td>\n",
       "      <td>NaN</td>\n",
       "      <td>NaN</td>\n",
       "      <td>NaN</td>\n",
       "      <td>NaN</td>\n",
       "      <td>NaN</td>\n",
       "      <td>NaN</td>\n",
       "      <td>NaN</td>\n",
       "      <td>Personas</td>\n",
       "    </tr>\n",
       "    <tr>\n",
       "      <th>3</th>\n",
       "      <td>Estatal</td>\n",
       "      <td>Grado promedio de escolaridad de la población ...</td>\n",
       "      <td>NaN</td>\n",
       "      <td>NaN</td>\n",
       "      <td>NaN</td>\n",
       "      <td>NaN</td>\n",
       "      <td>NaN</td>\n",
       "      <td>NaN</td>\n",
       "      <td>NaN</td>\n",
       "      <td>NaN</td>\n",
       "      <td>...</td>\n",
       "      <td>9.42</td>\n",
       "      <td>NaN</td>\n",
       "      <td>NaN</td>\n",
       "      <td>NaN</td>\n",
       "      <td>NaN</td>\n",
       "      <td>10.0014293654817</td>\n",
       "      <td>NaN</td>\n",
       "      <td>NaN</td>\n",
       "      <td>NaN</td>\n",
       "      <td>Años de escolaridad</td>\n",
       "    </tr>\n",
       "    <tr>\n",
       "      <th>4</th>\n",
       "      <td>Estatal</td>\n",
       "      <td>Porcentaje de analfabetas total</td>\n",
       "      <td>53.1</td>\n",
       "      <td>45.5</td>\n",
       "      <td>43.9</td>\n",
       "      <td>33.1</td>\n",
       "      <td>27.2</td>\n",
       "      <td>19.7</td>\n",
       "      <td>14.8</td>\n",
       "      <td>8.5</td>\n",
       "      <td>...</td>\n",
       "      <td>3.04</td>\n",
       "      <td>NaN</td>\n",
       "      <td>NaN</td>\n",
       "      <td>NaN</td>\n",
       "      <td>NaN</td>\n",
       "      <td>2.16904389627038</td>\n",
       "      <td>NaN</td>\n",
       "      <td>NaN</td>\n",
       "      <td>NaN</td>\n",
       "      <td>Porcentaje</td>\n",
       "    </tr>\n",
       "  </tbody>\n",
       "</table>\n",
       "<p>5 rows × 40 columns</p>\n",
       "</div>"
      ],
      "text/plain": [
       "  desc_municipio                                          indicador  1910  \\\n",
       "0        Estatal  Porcentaje de personas de 15 años y más alfabetas   NaN   \n",
       "1        Estatal  Tasa de alfabetización de las personas de 15 a...   NaN   \n",
       "2        Estatal  Población de 5 años y más que asiste a la escuela   NaN   \n",
       "3        Estatal  Grado promedio de escolaridad de la población ...   NaN   \n",
       "4        Estatal                    Porcentaje de analfabetas total  53.1   \n",
       "\n",
       "   1921  1930  1940  1950  1960  1970  1980  ...       2010  2011  2012  2013  \\\n",
       "0   NaN   NaN   NaN   NaN   NaN   NaN   NaN  ...      96.25   NaN   NaN   NaN   \n",
       "1   NaN   NaN   NaN   NaN   NaN   NaN   NaN  ...        NaN   NaN   NaN   NaN   \n",
       "2   NaN   NaN   NaN   NaN   NaN   NaN   NaN  ...  743126.00   NaN   NaN   NaN   \n",
       "3   NaN   NaN   NaN   NaN   NaN   NaN   NaN  ...       9.42   NaN   NaN   NaN   \n",
       "4  45.5  43.9  33.1  27.2  19.7  14.8   8.5  ...       3.04   NaN   NaN   NaN   \n",
       "\n",
       "   2014              2015  2016  2017      2020        unidad_medida  \n",
       "0   NaN  96.6749699434904   NaN   NaN       NaN           Porcentaje  \n",
       "1   NaN               NaN   NaN   NaN  98.99785                 Tasa  \n",
       "2   NaN               NaN   NaN   NaN       NaN             Personas  \n",
       "3   NaN  10.0014293654817   NaN   NaN       NaN  Años de escolaridad  \n",
       "4   NaN  2.16904389627038   NaN   NaN       NaN           Porcentaje  \n",
       "\n",
       "[5 rows x 40 columns]"
      ]
     },
     "execution_count": 4,
     "metadata": {},
     "output_type": "execute_result"
    }
   ],
   "source": [
    "educacion_data_raw.head()"
   ]
  },
  {
   "cell_type": "code",
   "execution_count": 5,
   "metadata": {},
   "outputs": [],
   "source": [
    "lista_indicadores = ['Población de 5 años y más que asiste a la escuela',\n",
    "                    'Población de 8 a 14 años que sabe leer y escribir',\n",
    "                    'Porcentaje de la población de 3 a 5 años que asiste a la escuela',\n",
    "                    'Porcentaje de la población de 6 a 11 años que asiste a la escuela',\n",
    "                    'Porcentaje de la población de 12 a 14 años que asiste a la escuela',\n",
    "                    'Porcentaje de la población de 3 a 5 años que asiste a la escuela en otro municipio o delegación diferente al de residencia',\n",
    "                    'Porcentaje de la población de 6 a 11 años que asiste a la escuela en otro municipio o delegación diferente al de residencia',\n",
    "                    'Porcentaje de la población de 12 a 14 años que asiste a la escuela en otro municipio o delegación diferente al de residencia',\n",
    "                    'Población de 6 a 14 años que sabe leer y escribir',\n",
    "                    'Población de 6 a 14 años que no sabe leer y escribir',\n",
    "                    'Porcentaje de la población de 3 años y más que asiste a la escuela',\n",
    "                    'Porcentaje de la población de 3 años y más que no asiste a la escuela',\n",
    "                    'Razón entre niñas y niños en la enseñanza secundaria',\n",
    "                    'Razón entre niñas y niños en la enseñanza primaria',\n",
    "]"
   ]
  },
  {
   "cell_type": "code",
   "execution_count": 6,
   "metadata": {},
   "outputs": [],
   "source": [
    "educacion_data = educacion_data_raw[educacion_data_raw['indicador'].isin(lista_indicadores)].copy()"
   ]
  },
  {
   "cell_type": "code",
   "execution_count": 7,
   "metadata": {},
   "outputs": [
    {
     "data": {
      "text/html": [
       "<div>\n",
       "<style scoped>\n",
       "    .dataframe tbody tr th:only-of-type {\n",
       "        vertical-align: middle;\n",
       "    }\n",
       "\n",
       "    .dataframe tbody tr th {\n",
       "        vertical-align: top;\n",
       "    }\n",
       "\n",
       "    .dataframe thead th {\n",
       "        text-align: right;\n",
       "    }\n",
       "</style>\n",
       "<table border=\"1\" class=\"dataframe\">\n",
       "  <thead>\n",
       "    <tr style=\"text-align: right;\">\n",
       "      <th></th>\n",
       "      <th>desc_municipio</th>\n",
       "      <th>indicador</th>\n",
       "      <th>1910</th>\n",
       "      <th>1921</th>\n",
       "      <th>1930</th>\n",
       "      <th>1940</th>\n",
       "      <th>1950</th>\n",
       "      <th>1960</th>\n",
       "      <th>1970</th>\n",
       "      <th>1980</th>\n",
       "      <th>...</th>\n",
       "      <th>2010</th>\n",
       "      <th>2011</th>\n",
       "      <th>2012</th>\n",
       "      <th>2013</th>\n",
       "      <th>2014</th>\n",
       "      <th>2015</th>\n",
       "      <th>2016</th>\n",
       "      <th>2017</th>\n",
       "      <th>2020</th>\n",
       "      <th>unidad_medida</th>\n",
       "    </tr>\n",
       "  </thead>\n",
       "  <tbody>\n",
       "    <tr>\n",
       "      <th>2</th>\n",
       "      <td>Estatal</td>\n",
       "      <td>Población de 5 años y más que asiste a la escuela</td>\n",
       "      <td>NaN</td>\n",
       "      <td>NaN</td>\n",
       "      <td>NaN</td>\n",
       "      <td>NaN</td>\n",
       "      <td>NaN</td>\n",
       "      <td>NaN</td>\n",
       "      <td>NaN</td>\n",
       "      <td>NaN</td>\n",
       "      <td>...</td>\n",
       "      <td>743126.0</td>\n",
       "      <td>NaN</td>\n",
       "      <td>NaN</td>\n",
       "      <td>NaN</td>\n",
       "      <td>NaN</td>\n",
       "      <td>NaN</td>\n",
       "      <td>NaN</td>\n",
       "      <td>NaN</td>\n",
       "      <td>NaN</td>\n",
       "      <td>Personas</td>\n",
       "    </tr>\n",
       "    <tr>\n",
       "      <th>8</th>\n",
       "      <td>Estatal</td>\n",
       "      <td>Población de 8 a 14 años que sabe leer y escribir</td>\n",
       "      <td>NaN</td>\n",
       "      <td>NaN</td>\n",
       "      <td>NaN</td>\n",
       "      <td>NaN</td>\n",
       "      <td>NaN</td>\n",
       "      <td>NaN</td>\n",
       "      <td>NaN</td>\n",
       "      <td>NaN</td>\n",
       "      <td>...</td>\n",
       "      <td>352346.0</td>\n",
       "      <td>NaN</td>\n",
       "      <td>NaN</td>\n",
       "      <td>NaN</td>\n",
       "      <td>NaN</td>\n",
       "      <td>NaN</td>\n",
       "      <td>NaN</td>\n",
       "      <td>NaN</td>\n",
       "      <td>NaN</td>\n",
       "      <td>Número de personas</td>\n",
       "    </tr>\n",
       "    <tr>\n",
       "      <th>19</th>\n",
       "      <td>Estatal</td>\n",
       "      <td>Porcentaje de la población de 3 a 5 años que a...</td>\n",
       "      <td>NaN</td>\n",
       "      <td>NaN</td>\n",
       "      <td>NaN</td>\n",
       "      <td>NaN</td>\n",
       "      <td>NaN</td>\n",
       "      <td>NaN</td>\n",
       "      <td>NaN</td>\n",
       "      <td>NaN</td>\n",
       "      <td>...</td>\n",
       "      <td>NaN</td>\n",
       "      <td>NaN</td>\n",
       "      <td>NaN</td>\n",
       "      <td>NaN</td>\n",
       "      <td>NaN</td>\n",
       "      <td>53.37735</td>\n",
       "      <td>NaN</td>\n",
       "      <td>NaN</td>\n",
       "      <td>53.929240</td>\n",
       "      <td>Porcentaje</td>\n",
       "    </tr>\n",
       "    <tr>\n",
       "      <th>20</th>\n",
       "      <td>Estatal</td>\n",
       "      <td>Porcentaje de la población de 6 a 11 años que ...</td>\n",
       "      <td>NaN</td>\n",
       "      <td>NaN</td>\n",
       "      <td>NaN</td>\n",
       "      <td>NaN</td>\n",
       "      <td>NaN</td>\n",
       "      <td>NaN</td>\n",
       "      <td>NaN</td>\n",
       "      <td>NaN</td>\n",
       "      <td>...</td>\n",
       "      <td>NaN</td>\n",
       "      <td>NaN</td>\n",
       "      <td>NaN</td>\n",
       "      <td>NaN</td>\n",
       "      <td>NaN</td>\n",
       "      <td>97.239787</td>\n",
       "      <td>NaN</td>\n",
       "      <td>NaN</td>\n",
       "      <td>96.256390</td>\n",
       "      <td>Porcentaje</td>\n",
       "    </tr>\n",
       "    <tr>\n",
       "      <th>21</th>\n",
       "      <td>Estatal</td>\n",
       "      <td>Porcentaje de la población de 12 a 14 años que...</td>\n",
       "      <td>NaN</td>\n",
       "      <td>NaN</td>\n",
       "      <td>NaN</td>\n",
       "      <td>NaN</td>\n",
       "      <td>NaN</td>\n",
       "      <td>NaN</td>\n",
       "      <td>NaN</td>\n",
       "      <td>NaN</td>\n",
       "      <td>...</td>\n",
       "      <td>NaN</td>\n",
       "      <td>NaN</td>\n",
       "      <td>NaN</td>\n",
       "      <td>NaN</td>\n",
       "      <td>NaN</td>\n",
       "      <td>94.471037</td>\n",
       "      <td>NaN</td>\n",
       "      <td>NaN</td>\n",
       "      <td>93.448738</td>\n",
       "      <td>Porcentaje</td>\n",
       "    </tr>\n",
       "  </tbody>\n",
       "</table>\n",
       "<p>5 rows × 40 columns</p>\n",
       "</div>"
      ],
      "text/plain": [
       "   desc_municipio                                          indicador  1910  \\\n",
       "2         Estatal  Población de 5 años y más que asiste a la escuela   NaN   \n",
       "8         Estatal  Población de 8 a 14 años que sabe leer y escribir   NaN   \n",
       "19        Estatal  Porcentaje de la población de 3 a 5 años que a...   NaN   \n",
       "20        Estatal  Porcentaje de la población de 6 a 11 años que ...   NaN   \n",
       "21        Estatal  Porcentaje de la población de 12 a 14 años que...   NaN   \n",
       "\n",
       "    1921  1930  1940  1950  1960  1970  1980  ...      2010  2011  2012  2013  \\\n",
       "2    NaN   NaN   NaN   NaN   NaN   NaN   NaN  ...  743126.0   NaN   NaN   NaN   \n",
       "8    NaN   NaN   NaN   NaN   NaN   NaN   NaN  ...  352346.0   NaN   NaN   NaN   \n",
       "19   NaN   NaN   NaN   NaN   NaN   NaN   NaN  ...       NaN   NaN   NaN   NaN   \n",
       "20   NaN   NaN   NaN   NaN   NaN   NaN   NaN  ...       NaN   NaN   NaN   NaN   \n",
       "21   NaN   NaN   NaN   NaN   NaN   NaN   NaN  ...       NaN   NaN   NaN   NaN   \n",
       "\n",
       "    2014       2015  2016  2017       2020       unidad_medida  \n",
       "2    NaN        NaN   NaN   NaN        NaN            Personas  \n",
       "8    NaN        NaN   NaN   NaN        NaN  Número de personas  \n",
       "19   NaN   53.37735   NaN   NaN  53.929240          Porcentaje  \n",
       "20   NaN  97.239787   NaN   NaN  96.256390          Porcentaje  \n",
       "21   NaN  94.471037   NaN   NaN  93.448738          Porcentaje  \n",
       "\n",
       "[5 rows x 40 columns]"
      ]
     },
     "execution_count": 7,
     "metadata": {},
     "output_type": "execute_result"
    }
   ],
   "source": [
    "educacion_data.head()"
   ]
  },
  {
   "cell_type": "code",
   "execution_count": 8,
   "metadata": {},
   "outputs": [
    {
     "data": {
      "text/plain": [
       "<AxesSubplot:>"
      ]
     },
     "execution_count": 8,
     "metadata": {},
     "output_type": "execute_result"
    },
    {
     "data": {
      "image/png": "[encoded data removed]",
      "text/plain": [
       "<Figure size 1800x720 with 2 Axes>"
      ]
     },
     "metadata": {
      "needs_background": "light"
     },
     "output_type": "display_data"
    }
   ],
   "source": [
    "#Observamos los valores perdidos\n",
    "msno.matrix(educacion_data)"
   ]
  },
  {
   "cell_type": "code",
   "execution_count": 9,
   "metadata": {},
   "outputs": [],
   "source": [
    "#Primero tomaremos aquellos indicadores que tengan valores en el 2020\n",
    "educacion_data = educacion_data[educacion_data['2020'].notnull()].copy()"
   ]
  },
  {
   "cell_type": "code",
   "execution_count": 10,
   "metadata": {},
   "outputs": [
    {
     "data": {
      "text/plain": [
       "array(['Porcentaje de la población de 3 a 5 años que asiste a la escuela',\n",
       "       'Porcentaje de la población de 6 a 11 años que asiste a la escuela',\n",
       "       'Porcentaje de la población de 12 a 14 años que asiste a la escuela'],\n",
       "      dtype=object)"
      ]
     },
     "execution_count": 10,
     "metadata": {},
     "output_type": "execute_result"
    }
   ],
   "source": [
    "educacion_data['indicador'].unique()"
   ]
  },
  {
   "cell_type": "code",
   "execution_count": 11,
   "metadata": {},
   "outputs": [
    {
     "data": {
      "text/html": [
       "<div>\n",
       "<style scoped>\n",
       "    .dataframe tbody tr th:only-of-type {\n",
       "        vertical-align: middle;\n",
       "    }\n",
       "\n",
       "    .dataframe tbody tr th {\n",
       "        vertical-align: top;\n",
       "    }\n",
       "\n",
       "    .dataframe thead th {\n",
       "        text-align: right;\n",
       "    }\n",
       "</style>\n",
       "<table border=\"1\" class=\"dataframe\">\n",
       "  <thead>\n",
       "    <tr style=\"text-align: right;\">\n",
       "      <th></th>\n",
       "      <th>desc_municipio</th>\n",
       "      <th>indicador</th>\n",
       "      <th>2020</th>\n",
       "    </tr>\n",
       "  </thead>\n",
       "  <tbody>\n",
       "    <tr>\n",
       "      <th>19</th>\n",
       "      <td>Estatal</td>\n",
       "      <td>Porcentaje de la población de 3 a 5 años que a...</td>\n",
       "      <td>53.929240</td>\n",
       "    </tr>\n",
       "    <tr>\n",
       "      <th>20</th>\n",
       "      <td>Estatal</td>\n",
       "      <td>Porcentaje de la población de 6 a 11 años que ...</td>\n",
       "      <td>96.256390</td>\n",
       "    </tr>\n",
       "    <tr>\n",
       "      <th>21</th>\n",
       "      <td>Estatal</td>\n",
       "      <td>Porcentaje de la población de 12 a 14 años que...</td>\n",
       "      <td>93.448738</td>\n",
       "    </tr>\n",
       "    <tr>\n",
       "      <th>47</th>\n",
       "      <td>Aconchi</td>\n",
       "      <td>Porcentaje de la población de 3 a 5 años que a...</td>\n",
       "      <td>78.448276</td>\n",
       "    </tr>\n",
       "    <tr>\n",
       "      <th>48</th>\n",
       "      <td>Aconchi</td>\n",
       "      <td>Porcentaje de la población de 6 a 11 años que ...</td>\n",
       "      <td>97.489540</td>\n",
       "    </tr>\n",
       "  </tbody>\n",
       "</table>\n",
       "</div>"
      ],
      "text/plain": [
       "   desc_municipio                                          indicador  \\\n",
       "19        Estatal  Porcentaje de la población de 3 a 5 años que a...   \n",
       "20        Estatal  Porcentaje de la población de 6 a 11 años que ...   \n",
       "21        Estatal  Porcentaje de la población de 12 a 14 años que...   \n",
       "47        Aconchi  Porcentaje de la población de 3 a 5 años que a...   \n",
       "48        Aconchi  Porcentaje de la población de 6 a 11 años que ...   \n",
       "\n",
       "         2020  \n",
       "19  53.929240  \n",
       "20  96.256390  \n",
       "21  93.448738  \n",
       "47  78.448276  \n",
       "48  97.489540  "
      ]
     },
     "execution_count": 11,
     "metadata": {},
     "output_type": "execute_result"
    }
   ],
   "source": [
    "educacion_2020 = educacion_data[['desc_municipio', 'indicador', '2020']].copy()\n",
    "educacion_2020.head()"
   ]
  },
  {
   "cell_type": "code",
   "execution_count": 12,
   "metadata": {},
   "outputs": [
    {
     "data": {
      "text/html": [
       "<div>\n",
       "<style scoped>\n",
       "    .dataframe tbody tr th:only-of-type {\n",
       "        vertical-align: middle;\n",
       "    }\n",
       "\n",
       "    .dataframe tbody tr th {\n",
       "        vertical-align: top;\n",
       "    }\n",
       "\n",
       "    .dataframe thead th {\n",
       "        text-align: right;\n",
       "    }\n",
       "</style>\n",
       "<table border=\"1\" class=\"dataframe\">\n",
       "  <thead>\n",
       "    <tr style=\"text-align: right;\">\n",
       "      <th></th>\n",
       "      <th>desc_municipio</th>\n",
       "      <th>indicador</th>\n",
       "      <th>2020</th>\n",
       "    </tr>\n",
       "  </thead>\n",
       "  <tbody>\n",
       "    <tr>\n",
       "      <th>1037</th>\n",
       "      <td>San Miguel de Horcasitas</td>\n",
       "      <td>Porcentaje de la población de 3 a 5 años que a...</td>\n",
       "      <td>33.381713</td>\n",
       "    </tr>\n",
       "    <tr>\n",
       "      <th>1019</th>\n",
       "      <td>San Luis Río Colorado</td>\n",
       "      <td>Porcentaje de la población de 3 a 5 años que a...</td>\n",
       "      <td>41.660102</td>\n",
       "    </tr>\n",
       "    <tr>\n",
       "      <th>461</th>\n",
       "      <td>Divisaderos</td>\n",
       "      <td>Porcentaje de la población de 3 a 5 años que a...</td>\n",
       "      <td>42.857143</td>\n",
       "    </tr>\n",
       "    <tr>\n",
       "      <th>803</th>\n",
       "      <td>Nogales</td>\n",
       "      <td>Porcentaje de la población de 3 a 5 años que a...</td>\n",
       "      <td>44.034707</td>\n",
       "    </tr>\n",
       "    <tr>\n",
       "      <th>929</th>\n",
       "      <td>Rayón</td>\n",
       "      <td>Porcentaje de la población de 3 a 5 años que a...</td>\n",
       "      <td>44.776119</td>\n",
       "    </tr>\n",
       "    <tr>\n",
       "      <th>...</th>\n",
       "      <td>...</td>\n",
       "      <td>...</td>\n",
       "      <td>...</td>\n",
       "    </tr>\n",
       "    <tr>\n",
       "      <th>623</th>\n",
       "      <td>Huatabampo</td>\n",
       "      <td>Porcentaje de la población de 3 a 5 años que a...</td>\n",
       "      <td>68.953069</td>\n",
       "    </tr>\n",
       "    <tr>\n",
       "      <th>47</th>\n",
       "      <td>Aconchi</td>\n",
       "      <td>Porcentaje de la población de 3 a 5 años que a...</td>\n",
       "      <td>78.448276</td>\n",
       "    </tr>\n",
       "    <tr>\n",
       "      <th>605</th>\n",
       "      <td>Huásabas</td>\n",
       "      <td>Porcentaje de la población de 3 a 5 años que a...</td>\n",
       "      <td>78.947368</td>\n",
       "    </tr>\n",
       "    <tr>\n",
       "      <th>641</th>\n",
       "      <td>Huépac</td>\n",
       "      <td>Porcentaje de la población de 3 a 5 años que a...</td>\n",
       "      <td>80.487805</td>\n",
       "    </tr>\n",
       "    <tr>\n",
       "      <th>983</th>\n",
       "      <td>San Felipe de Jesús</td>\n",
       "      <td>Porcentaje de la población de 3 a 5 años que a...</td>\n",
       "      <td>89.473684</td>\n",
       "    </tr>\n",
       "  </tbody>\n",
       "</table>\n",
       "<p>73 rows × 3 columns</p>\n",
       "</div>"
      ],
      "text/plain": [
       "                desc_municipio  \\\n",
       "1037  San Miguel de Horcasitas   \n",
       "1019     San Luis Río Colorado   \n",
       "461                Divisaderos   \n",
       "803                    Nogales   \n",
       "929                      Rayón   \n",
       "...                        ...   \n",
       "623                 Huatabampo   \n",
       "47                     Aconchi   \n",
       "605                   Huásabas   \n",
       "641                     Huépac   \n",
       "983        San Felipe de Jesús   \n",
       "\n",
       "                                              indicador       2020  \n",
       "1037  Porcentaje de la población de 3 a 5 años que a...  33.381713  \n",
       "1019  Porcentaje de la población de 3 a 5 años que a...  41.660102  \n",
       "461   Porcentaje de la población de 3 a 5 años que a...  42.857143  \n",
       "803   Porcentaje de la población de 3 a 5 años que a...  44.034707  \n",
       "929   Porcentaje de la población de 3 a 5 años que a...  44.776119  \n",
       "...                                                 ...        ...  \n",
       "623   Porcentaje de la población de 3 a 5 años que a...  68.953069  \n",
       "47    Porcentaje de la población de 3 a 5 años que a...  78.448276  \n",
       "605   Porcentaje de la población de 3 a 5 años que a...  78.947368  \n",
       "641   Porcentaje de la población de 3 a 5 años que a...  80.487805  \n",
       "983   Porcentaje de la población de 3 a 5 años que a...  89.473684  \n",
       "\n",
       "[73 rows x 3 columns]"
      ]
     },
     "execution_count": 12,
     "metadata": {},
     "output_type": "execute_result"
    }
   ],
   "source": [
    "#Ya podemos analizar Indicador por Indicador para cada municipio\n",
    "dff = educacion_2020[educacion_2020['indicador'] == 'Porcentaje de la población de 3 a 5 años que asiste a la escuela'].copy()\n",
    "dff = dff.sort_values('2020')\n",
    "dff"
   ]
  },
  {
   "cell_type": "code",
   "execution_count": 13,
   "metadata": {},
   "outputs": [
    {
     "data": {
      "application/vnd.plotly.v1+json": {
       "config": {
        "plotlyServerURL": "https://plot.ly"
       },
       "data": [
        {
         "alignmentgroup": "True",
         "hovertemplate": "Porcentaje=%{x}<br>Municipio=%{y}<extra></extra>",
         "legendgroup": "",
         "marker": {
          "color": "#F8766D",
          "pattern": {
           "shape": ""
          }
         },
         "name": "",
         "offsetgroup": "",
         "orientation": "h",
         "showlegend": false,
         "textposition": "auto",
         "type": "bar",
         "x": [
          33.3817126269956,
          41.6601024025207,
          42.8571428571429,
          44.0347071583514,
          44.7761194029851,
          45.7026927333087,
          46.6666666666667,
          47.0068300522298,
          47.4285714285714,
          47.6190476190476,
          47.65625,
          47.9411764705882,
          48.3870967741936,
          48.953488372093,
          50,
          50.2712477396022,
          50.3787878787879,
          50.6666666666667,
          50.965250965251,
          51.4285714285714,
          51.5527950310559,
          52.1387283236994,
          52.317880794702,
          52.7777777777778,
          52.9411764705882,
          53.0864197530864,
          53.3333333333333,
          53.551912568306,
          53.7791932059448,
          53.9292401419669,
          54.0540540540541,
          54.2168674698795,
          54.7267996530789,
          54.8387096774194,
          54.9432325551728,
          55.0693263233854,
          55.4455445544555,
          56,
          56,
          56.25,
          56.6901408450704,
          56.9686172399616,
          57.089552238806,
          57.8947368421053,
          57.9710144927536,
          58.252427184466,
          58.5972850678733,
          58.9285714285714,
          58.9873417721519,
          60,
          60.2251407129456,
          60.3174603174603,
          60.6770833333333,
          60.9756097560976,
          62.1621621621622,
          63.3333333333333,
          63.4854771784232,
          64.0776699029126,
          64.2156862745098,
          64.3835616438356,
          64.7727272727273,
          65,
          65.5172413793103,
          66.6666666666667,
          66.9524551831645,
          67.4758895909544,
          68.1818181818182,
          68.2170542635659,
          68.9530685920578,
          78.448275862069,
          78.9473684210526,
          80.4878048780488,
          89.4736842105263
         ],
         "xaxis": "x",
         "y": [
          "San Miguel de Horcasitas",
          "San Luis Río Colorado",
          "Divisaderos",
          "Nogales",
          "Rayón",
          "Empalme",
          "San Pedro de la Cueva",
          "Agua Prieta",
          "Imuris",
          "Santa Cruz",
          "Carbó",
          "Naco",
          "Tepache",
          "Magdalena",
          "La Colorada",
          "Bácum",
          "Yécora",
          "Trincheras",
          "Benjamín Hill",
          "Mazatán",
          "General Plutarco Elías Calles",
          "Santa Ana",
          "Puerto Peñasco",
          "Granados",
          "Rosario",
          "Nácori Chico",
          "Bavispe",
          "San Ignacio Río Muerto",
          "Caborca",
          "Estatal",
          "Cucurpe",
          "Quiriego",
          "Benito Juárez",
          "San Javier",
          "Guaymas",
          "Cajeme",
          "Sáric",
          "Opodepe",
          "Atil",
          "Arivechi",
          "Cananea",
          "Hermosillo",
          "Fronteras",
          "Tubutama",
          "Bacerac",
          "Ures",
          "Pitiquito",
          "Huachinera",
          "Nacozari de García",
          "Bacadéhuachi",
          "Altar",
          "Bacoachi",
          "Navojoa",
          "Suaqui Grande",
          "Bacanora",
          "Villa Hidalgo",
          "Cumpas",
          "Arizpe",
          "Moctezuma",
          "Soyopa",
          "Banámichi",
          "Onavas",
          "Villa Pesqueira",
          "Sahuaripa",
          "Alamos",
          "Etchojoa",
          "Oquitoa",
          "Baviácora",
          "Huatabampo",
          "Aconchi",
          "Huásabas",
          "Huépac",
          "San Felipe de Jesús"
         ],
         "yaxis": "y"
        }
       ],
       "layout": {
        "barmode": "relative",
        "height": 1280,
        "legend": {
         "tracegroupgap": 0
        },
        "template": {
         "data": {
          "bar": [
           {
            "error_x": {
             "color": "rgb(51,51,51)"
            },
            "error_y": {
             "color": "rgb(51,51,51)"
            },
            "marker": {
             "line": {
              "color": "rgb(237,237,237)",
              "width": 0.5
             },
             "pattern": {
              "fillmode": "overlay",
              "size": 10,
              "solidity": 0.2
             }
            },
            "type": "bar"
           }
          ],
          "barpolar": [
           {
            "marker": {
             "line": {
              "color": "rgb(237,237,237)",
              "width": 0.5
             },
             "pattern": {
              "fillmode": "overlay",
              "size": 10,
              "solidity": 0.2
             }
            },
            "type": "barpolar"
           }
          ],
          "carpet": [
           {
            "aaxis": {
             "endlinecolor": "rgb(51,51,51)",
             "gridcolor": "white",
             "linecolor": "white",
             "minorgridcolor": "white",
             "startlinecolor": "rgb(51,51,51)"
            },
            "baxis": {
             "endlinecolor": "rgb(51,51,51)",
             "gridcolor": "white",
             "linecolor": "white",
             "minorgridcolor": "white",
             "startlinecolor": "rgb(51,51,51)"
            },
            "type": "carpet"
           }
          ],
          "choropleth": [
           {
            "colorbar": {
             "outlinewidth": 0,
             "tickcolor": "rgb(237,237,237)",
             "ticklen": 6,
             "ticks": "inside"
            },
            "type": "choropleth"
           }
          ],
          "contour": [
           {
            "colorbar": {
             "outlinewidth": 0,
             "tickcolor": "rgb(237,237,237)",
             "ticklen": 6,
             "ticks": "inside"
            },
            "colorscale": [
             [
              0,
              "rgb(20,44,66)"
             ],
             [
              1,
              "rgb(90,179,244)"
             ]
            ],
            "type": "contour"
           }
          ],
          "contourcarpet": [
           {
            "colorbar": {
             "outlinewidth": 0,
             "tickcolor": "rgb(237,237,237)",
             "ticklen": 6,
             "ticks": "inside"
            },
            "type": "contourcarpet"
           }
          ],
          "heatmap": [
           {
            "colorbar": {
             "outlinewidth": 0,
             "tickcolor": "rgb(237,237,237)",
             "ticklen": 6,
             "ticks": "inside"
            },
            "colorscale": [
             [
              0,
              "rgb(20,44,66)"
             ],
             [
              1,
              "rgb(90,179,244)"
             ]
            ],
            "type": "heatmap"
           }
          ],
          "heatmapgl": [
           {
            "colorbar": {
             "outlinewidth": 0,
             "tickcolor": "rgb(237,237,237)",
             "ticklen": 6,
             "ticks": "inside"
            },
            "colorscale": [
             [
              0,
              "rgb(20,44,66)"
             ],
             [
              1,
              "rgb(90,179,244)"
             ]
            ],
            "type": "heatmapgl"
           }
          ],
          "histogram": [
           {
            "marker": {
             "pattern": {
              "fillmode": "overlay",
              "size": 10,
              "solidity": 0.2
             }
            },
            "type": "histogram"
           }
          ],
          "histogram2d": [
           {
            "colorbar": {
             "outlinewidth": 0,
             "tickcolor": "rgb(237,237,237)",
             "ticklen": 6,
             "ticks": "inside"
            },
            "colorscale": [
             [
              0,
              "rgb(20,44,66)"
             ],
             [
              1,
              "rgb(90,179,244)"
             ]
            ],
            "type": "histogram2d"
           }
          ],
          "histogram2dcontour": [
           {
            "colorbar": {
             "outlinewidth": 0,
             "tickcolor": "rgb(237,237,237)",
             "ticklen": 6,
             "ticks": "inside"
            },
            "colorscale": [
             [
              0,
              "rgb(20,44,66)"
             ],
             [
              1,
              "rgb(90,179,244)"
             ]
            ],
            "type": "histogram2dcontour"
           }
          ],
          "mesh3d": [
           {
            "colorbar": {
             "outlinewidth": 0,
             "tickcolor": "rgb(237,237,237)",
             "ticklen": 6,
             "ticks": "inside"
            },
            "type": "mesh3d"
           }
          ],
          "parcoords": [
           {
            "line": {
             "colorbar": {
              "outlinewidth": 0,
              "tickcolor": "rgb(237,237,237)",
              "ticklen": 6,
              "ticks": "inside"
             }
            },
            "type": "parcoords"
           }
          ],
          "pie": [
           {
            "automargin": true,
            "type": "pie"
           }
          ],
          "scatter": [
           {
            "fillpattern": {
             "fillmode": "overlay",
             "size": 10,
             "solidity": 0.2
            },
            "type": "scatter"
           }
          ],
          "scatter3d": [
           {
            "line": {
             "colorbar": {
              "outlinewidth": 0,
              "tickcolor": "rgb(237,237,237)",
              "ticklen": 6,
              "ticks": "inside"
             }
            },
            "marker": {
             "colorbar": {
              "outlinewidth": 0,
              "tickcolor": "rgb(237,237,237)",
              "ticklen": 6,
              "ticks": "inside"
             }
            },
            "type": "scatter3d"
           }
          ],
          "scattercarpet": [
           {
            "marker": {
             "colorbar": {
              "outlinewidth": 0,
              "tickcolor": "rgb(237,237,237)",
              "ticklen": 6,
              "ticks": "inside"
             }
            },
            "type": "scattercarpet"
           }
          ],
          "scattergeo": [
           {
            "marker": {
             "colorbar": {
              "outlinewidth": 0,
              "tickcolor": "rgb(237,237,237)",
              "ticklen": 6,
              "ticks": "inside"
             }
            },
            "type": "scattergeo"
           }
          ],
          "scattergl": [
           {
            "marker": {
             "colorbar": {
              "outlinewidth": 0,
              "tickcolor": "rgb(237,237,237)",
              "ticklen": 6,
              "ticks": "inside"
             }
            },
            "type": "scattergl"
           }
          ],
          "scattermapbox": [
           {
            "marker": {
             "colorbar": {
              "outlinewidth": 0,
              "tickcolor": "rgb(237,237,237)",
              "ticklen": 6,
              "ticks": "inside"
             }
            },
            "type": "scattermapbox"
           }
          ],
          "scatterpolar": [
           {
            "marker": {
             "colorbar": {
              "outlinewidth": 0,
              "tickcolor": "rgb(237,237,237)",
              "ticklen": 6,
              "ticks": "inside"
             }
            },
            "type": "scatterpolar"
           }
          ],
          "scatterpolargl": [
           {
            "marker": {
             "colorbar": {
              "outlinewidth": 0,
              "tickcolor": "rgb(237,237,237)",
              "ticklen": 6,
              "ticks": "inside"
             }
            },
            "type": "scatterpolargl"
           }
          ],
          "scatterternary": [
           {
            "marker": {
             "colorbar": {
              "outlinewidth": 0,
              "tickcolor": "rgb(237,237,237)",
              "ticklen": 6,
              "ticks": "inside"
             }
            },
            "type": "scatterternary"
           }
          ],
          "surface": [
           {
            "colorbar": {
             "outlinewidth": 0,
             "tickcolor": "rgb(237,237,237)",
             "ticklen": 6,
             "ticks": "inside"
            },
            "colorscale": [
             [
              0,
              "rgb(20,44,66)"
             ],
             [
              1,
              "rgb(90,179,244)"
             ]
            ],
            "type": "surface"
           }
          ],
          "table": [
           {
            "cells": {
             "fill": {
              "color": "rgb(237,237,237)"
             },
             "line": {
              "color": "white"
             }
            },
            "header": {
             "fill": {
              "color": "rgb(217,217,217)"
             },
             "line": {
              "color": "white"
             }
            },
            "type": "table"
           }
          ]
         },
         "layout": {
          "annotationdefaults": {
           "arrowhead": 0,
           "arrowwidth": 1
          },
          "autotypenumbers": "strict",
          "coloraxis": {
           "colorbar": {
            "outlinewidth": 0,
            "tickcolor": "rgb(237,237,237)",
            "ticklen": 6,
            "ticks": "inside"
           }
          },
          "colorscale": {
           "sequential": [
            [
             0,
             "rgb(20,44,66)"
            ],
            [
             1,
             "rgb(90,179,244)"
            ]
           ],
           "sequentialminus": [
            [
             0,
             "rgb(20,44,66)"
            ],
            [
             1,
             "rgb(90,179,244)"
            ]
           ]
          },
          "colorway": [
           "#F8766D",
           "#A3A500",
           "#00BF7D",
           "#00B0F6",
           "#E76BF3"
          ],
          "font": {
           "color": "rgb(51,51,51)"
          },
          "geo": {
           "bgcolor": "white",
           "lakecolor": "white",
           "landcolor": "rgb(237,237,237)",
           "showlakes": true,
           "showland": true,
           "subunitcolor": "white"
          },
          "hoverlabel": {
           "align": "left"
          },
          "hovermode": "closest",
          "paper_bgcolor": "white",
          "plot_bgcolor": "rgb(237,237,237)",
          "polar": {
           "angularaxis": {
            "gridcolor": "white",
            "linecolor": "white",
            "showgrid": true,
            "tickcolor": "rgb(51,51,51)",
            "ticks": "outside"
           },
           "bgcolor": "rgb(237,237,237)",
           "radialaxis": {
            "gridcolor": "white",
            "linecolor": "white",
            "showgrid": true,
            "tickcolor": "rgb(51,51,51)",
            "ticks": "outside"
           }
          },
          "scene": {
           "xaxis": {
            "backgroundcolor": "rgb(237,237,237)",
            "gridcolor": "white",
            "gridwidth": 2,
            "linecolor": "white",
            "showbackground": true,
            "showgrid": true,
            "tickcolor": "rgb(51,51,51)",
            "ticks": "outside",
            "zerolinecolor": "white"
           },
           "yaxis": {
            "backgroundcolor": "rgb(237,237,237)",
            "gridcolor": "white",
            "gridwidth": 2,
            "linecolor": "white",
            "showbackground": true,
            "showgrid": true,
            "tickcolor": "rgb(51,51,51)",
            "ticks": "outside",
            "zerolinecolor": "white"
           },
           "zaxis": {
            "backgroundcolor": "rgb(237,237,237)",
            "gridcolor": "white",
            "gridwidth": 2,
            "linecolor": "white",
            "showbackground": true,
            "showgrid": true,
            "tickcolor": "rgb(51,51,51)",
            "ticks": "outside",
            "zerolinecolor": "white"
           }
          },
          "shapedefaults": {
           "fillcolor": "black",
           "line": {
            "width": 0
           },
           "opacity": 0.3
          },
          "ternary": {
           "aaxis": {
            "gridcolor": "white",
            "linecolor": "white",
            "showgrid": true,
            "tickcolor": "rgb(51,51,51)",
            "ticks": "outside"
           },
           "baxis": {
            "gridcolor": "white",
            "linecolor": "white",
            "showgrid": true,
            "tickcolor": "rgb(51,51,51)",
            "ticks": "outside"
           },
           "bgcolor": "rgb(237,237,237)",
           "caxis": {
            "gridcolor": "white",
            "linecolor": "white",
            "showgrid": true,
            "tickcolor": "rgb(51,51,51)",
            "ticks": "outside"
           }
          },
          "xaxis": {
           "automargin": true,
           "gridcolor": "white",
           "linecolor": "white",
           "showgrid": true,
           "tickcolor": "rgb(51,51,51)",
           "ticks": "outside",
           "title": {
            "standoff": 15
           },
           "zerolinecolor": "white"
          },
          "yaxis": {
           "automargin": true,
           "gridcolor": "white",
           "linecolor": "white",
           "showgrid": true,
           "tickcolor": "rgb(51,51,51)",
           "ticks": "outside",
           "title": {
            "standoff": 15
           },
           "zerolinecolor": "white"
          }
         }
        },
        "title": {
         "text": "Porcentaje de la población de 3 a 5 años que asiste a la escuela"
        },
        "width": 800,
        "xaxis": {
         "anchor": "y",
         "domain": [
          0,
          1
         ],
         "title": {
          "text": "Porcentaje"
         }
        },
        "yaxis": {
         "anchor": "x",
         "domain": [
          0,
          1
         ],
         "title": {
          "text": "Municipio"
         }
        }
       }
      }
     },
     "metadata": {},
     "output_type": "display_data"
    }
   ],
   "source": [
    "fig = px.bar(dff, x=\"2020\", y=\"desc_municipio\", orientation='h', width=800, height=1280, template='ggplot2',\n",
    "                labels={'desc_municipio':'Municipio',\n",
    "                '2020': 'Porcentaje'},\n",
    "                title='Porcentaje de la población de 3 a 5 años que asiste a la escuela')\n",
    "fig.show()"
   ]
  },
  {
   "cell_type": "code",
   "execution_count": 14,
   "metadata": {},
   "outputs": [
    {
     "data": {
      "text/html": [
       "<div>\n",
       "<style scoped>\n",
       "    .dataframe tbody tr th:only-of-type {\n",
       "        vertical-align: middle;\n",
       "    }\n",
       "\n",
       "    .dataframe tbody tr th {\n",
       "        vertical-align: top;\n",
       "    }\n",
       "\n",
       "    .dataframe thead th {\n",
       "        text-align: right;\n",
       "    }\n",
       "</style>\n",
       "<table border=\"1\" class=\"dataframe\">\n",
       "  <thead>\n",
       "    <tr style=\"text-align: right;\">\n",
       "      <th></th>\n",
       "      <th>desc_municipio</th>\n",
       "      <th>indicador</th>\n",
       "      <th>2020</th>\n",
       "    </tr>\n",
       "  </thead>\n",
       "  <tbody>\n",
       "    <tr>\n",
       "      <th>858</th>\n",
       "      <td>Oquitoa</td>\n",
       "      <td>Porcentaje de la población de 6 a 11 años que ...</td>\n",
       "      <td>86.486486</td>\n",
       "    </tr>\n",
       "    <tr>\n",
       "      <th>1236</th>\n",
       "      <td>Villa Hidalgo</td>\n",
       "      <td>Porcentaje de la población de 6 a 11 años que ...</td>\n",
       "      <td>86.842105</td>\n",
       "    </tr>\n",
       "    <tr>\n",
       "      <th>1038</th>\n",
       "      <td>San Miguel de Horcasitas</td>\n",
       "      <td>Porcentaje de la población de 6 a 11 años que ...</td>\n",
       "      <td>87.500000</td>\n",
       "    </tr>\n",
       "    <tr>\n",
       "      <th>1272</th>\n",
       "      <td>Yécora</td>\n",
       "      <td>Porcentaje de la población de 6 a 11 años que ...</td>\n",
       "      <td>88.718929</td>\n",
       "    </tr>\n",
       "    <tr>\n",
       "      <th>1092</th>\n",
       "      <td>Santa Cruz</td>\n",
       "      <td>Porcentaje de la población de 6 a 11 años que ...</td>\n",
       "      <td>89.671362</td>\n",
       "    </tr>\n",
       "    <tr>\n",
       "      <th>...</th>\n",
       "      <td>...</td>\n",
       "      <td>...</td>\n",
       "      <td>...</td>\n",
       "    </tr>\n",
       "    <tr>\n",
       "      <th>1200</th>\n",
       "      <td>Tubutama</td>\n",
       "      <td>Porcentaje de la población de 6 a 11 años que ...</td>\n",
       "      <td>99.224806</td>\n",
       "    </tr>\n",
       "    <tr>\n",
       "      <th>462</th>\n",
       "      <td>Divisaderos</td>\n",
       "      <td>Porcentaje de la población de 6 a 11 años que ...</td>\n",
       "      <td>100.000000</td>\n",
       "    </tr>\n",
       "    <tr>\n",
       "      <th>984</th>\n",
       "      <td>San Felipe de Jesús</td>\n",
       "      <td>Porcentaje de la población de 6 a 11 años que ...</td>\n",
       "      <td>100.000000</td>\n",
       "    </tr>\n",
       "    <tr>\n",
       "      <th>606</th>\n",
       "      <td>Huásabas</td>\n",
       "      <td>Porcentaje de la población de 6 a 11 años que ...</td>\n",
       "      <td>100.000000</td>\n",
       "    </tr>\n",
       "    <tr>\n",
       "      <th>822</th>\n",
       "      <td>Onavas</td>\n",
       "      <td>Porcentaje de la población de 6 a 11 años que ...</td>\n",
       "      <td>100.000000</td>\n",
       "    </tr>\n",
       "  </tbody>\n",
       "</table>\n",
       "<p>73 rows × 3 columns</p>\n",
       "</div>"
      ],
      "text/plain": [
       "                desc_municipio  \\\n",
       "858                    Oquitoa   \n",
       "1236             Villa Hidalgo   \n",
       "1038  San Miguel de Horcasitas   \n",
       "1272                    Yécora   \n",
       "1092                Santa Cruz   \n",
       "...                        ...   \n",
       "1200                  Tubutama   \n",
       "462                Divisaderos   \n",
       "984        San Felipe de Jesús   \n",
       "606                   Huásabas   \n",
       "822                     Onavas   \n",
       "\n",
       "                                              indicador        2020  \n",
       "858   Porcentaje de la población de 6 a 11 años que ...   86.486486  \n",
       "1236  Porcentaje de la población de 6 a 11 años que ...   86.842105  \n",
       "1038  Porcentaje de la población de 6 a 11 años que ...   87.500000  \n",
       "1272  Porcentaje de la población de 6 a 11 años que ...   88.718929  \n",
       "1092  Porcentaje de la población de 6 a 11 años que ...   89.671362  \n",
       "...                                                 ...         ...  \n",
       "1200  Porcentaje de la población de 6 a 11 años que ...   99.224806  \n",
       "462   Porcentaje de la población de 6 a 11 años que ...  100.000000  \n",
       "984   Porcentaje de la población de 6 a 11 años que ...  100.000000  \n",
       "606   Porcentaje de la población de 6 a 11 años que ...  100.000000  \n",
       "822   Porcentaje de la población de 6 a 11 años que ...  100.000000  \n",
       "\n",
       "[73 rows x 3 columns]"
      ]
     },
     "execution_count": 14,
     "metadata": {},
     "output_type": "execute_result"
    }
   ],
   "source": [
    "#Ya podemos analizar Indicador por Indicador para cada municipio\n",
    "dff = educacion_2020[educacion_2020['indicador'] == 'Porcentaje de la población de 6 a 11 años que asiste a la escuela'].copy()\n",
    "dff = dff.sort_values('2020')\n",
    "dff"
   ]
  },
  {
   "cell_type": "code",
   "execution_count": 15,
   "metadata": {},
   "outputs": [
    {
     "data": {
      "application/vnd.plotly.v1+json": {
       "config": {
        "plotlyServerURL": "https://plot.ly"
       },
       "data": [
        {
         "alignmentgroup": "True",
         "hovertemplate": "Porcentaje=%{x}<br>Municipio=%{y}<extra></extra>",
         "legendgroup": "",
         "marker": {
          "color": "#F8766D",
          "pattern": {
           "shape": ""
          }
         },
         "name": "",
         "offsetgroup": "",
         "orientation": "h",
         "showlegend": false,
         "textposition": "auto",
         "type": "bar",
         "x": [
          86.4864864864865,
          86.8421052631579,
          87.5,
          88.7189292543021,
          89.6713615023474,
          90,
          90.8203125,
          91,
          91.3793103448276,
          91.4285714285714,
          92.4242424242424,
          92.5925925925926,
          93.2330827067669,
          93.5483870967742,
          93.75,
          93.75,
          93.9655172413793,
          94.1176470588235,
          94.2809550249861,
          94.3283582089552,
          94.416144200627,
          94.5454545454545,
          94.661921708185,
          94.7587593337163,
          94.8384389425094,
          94.9314251639833,
          94.9479940564636,
          95.026525198939,
          95.0980392156863,
          95.1117318435754,
          95.3150684931507,
          95.5056179775281,
          95.6336939721793,
          95.7174526400645,
          95.7627118644068,
          95.8070333633904,
          95.8071278825996,
          95.9217076996522,
          95.9843414572547,
          96,
          96.1653684841222,
          96.2563902478066,
          96.3093145869947,
          96.5523924894004,
          96.8345477925418,
          96.969696969697,
          97.0305676855895,
          97.1662571662572,
          97.2058823529412,
          97.2475310608474,
          97.2629521016618,
          97.2640218878249,
          97.265625,
          97.3684210526316,
          97.376311844078,
          97.4358974358974,
          97.4891774891775,
          97.489539748954,
          97.5265017667845,
          97.7611940298508,
          97.780244173141,
          97.9879275653924,
          98.1400437636761,
          98.1651376146789,
          98.5294117647059,
          98.7012987012987,
          98.75,
          99.0654205607477,
          99.2248062015504,
          100,
          100,
          100,
          100
         ],
         "xaxis": "x",
         "y": [
          "Oquitoa",
          "Villa Hidalgo",
          "San Miguel de Horcasitas",
          "Yécora",
          "Santa Cruz",
          "La Colorada",
          "Rosario",
          "Granados",
          "Banámichi",
          "Cucurpe",
          "Trincheras",
          "Bacoachi",
          "Arizpe",
          "Rayón",
          "Soyopa",
          "Tepache",
          "Bavispe",
          "Mazatán",
          "General Plutarco Elías Calles",
          "Quiriego",
          "Empalme",
          "Atil",
          "Baviácora",
          "San Luis Río Colorado",
          "Bácum",
          "Santa Ana",
          "Imuris",
          "San Ignacio Río Muerto",
          "San Pedro de la Cueva",
          "Naco",
          "Puerto Peñasco",
          "Benjamín Hill",
          "Agua Prieta",
          "Caborca",
          "Arivechi",
          "Benito Juárez",
          "Moctezuma",
          "Nogales",
          "Guaymas",
          "Suaqui Grande",
          "Nacozari de García",
          "Estatal",
          "Carbó",
          "Cajeme",
          "Hermosillo",
          "Huachinera",
          "Altar",
          "Etchojoa",
          "Ures",
          "Navojoa",
          "Huatabampo",
          "Cananea",
          "Opodepe",
          "Villa Pesqueira",
          "Alamos",
          "San Javier",
          "Fronteras",
          "Aconchi",
          "Cumpas",
          "Nácori Chico",
          "Magdalena",
          "Sahuaripa",
          "Pitiquito",
          "Sáric",
          "Bacanora",
          "Huépac",
          "Bacadéhuachi",
          "Bacerac",
          "Tubutama",
          "Divisaderos",
          "San Felipe de Jesús",
          "Huásabas",
          "Onavas"
         ],
         "yaxis": "y"
        }
       ],
       "layout": {
        "barmode": "relative",
        "height": 1280,
        "legend": {
         "tracegroupgap": 0
        },
        "template": {
         "data": {
          "bar": [
           {
            "error_x": {
             "color": "rgb(51,51,51)"
            },
            "error_y": {
             "color": "rgb(51,51,51)"
            },
            "marker": {
             "line": {
              "color": "rgb(237,237,237)",
              "width": 0.5
             },
             "pattern": {
              "fillmode": "overlay",
              "size": 10,
              "solidity": 0.2
             }
            },
            "type": "bar"
           }
          ],
          "barpolar": [
           {
            "marker": {
             "line": {
              "color": "rgb(237,237,237)",
              "width": 0.5
             },
             "pattern": {
              "fillmode": "overlay",
              "size": 10,
              "solidity": 0.2
             }
            },
            "type": "barpolar"
           }
          ],
          "carpet": [
           {
            "aaxis": {
             "endlinecolor": "rgb(51,51,51)",
             "gridcolor": "white",
             "linecolor": "white",
             "minorgridcolor": "white",
             "startlinecolor": "rgb(51,51,51)"
            },
            "baxis": {
             "endlinecolor": "rgb(51,51,51)",
             "gridcolor": "white",
             "linecolor": "white",
             "minorgridcolor": "white",
             "startlinecolor": "rgb(51,51,51)"
            },
            "type": "carpet"
           }
          ],
          "choropleth": [
           {
            "colorbar": {
             "outlinewidth": 0,
             "tickcolor": "rgb(237,237,237)",
             "ticklen": 6,
             "ticks": "inside"
            },
            "type": "choropleth"
           }
          ],
          "contour": [
           {
            "colorbar": {
             "outlinewidth": 0,
             "tickcolor": "rgb(237,237,237)",
             "ticklen": 6,
             "ticks": "inside"
            },
            "colorscale": [
             [
              0,
              "rgb(20,44,66)"
             ],
             [
              1,
              "rgb(90,179,244)"
             ]
            ],
            "type": "contour"
           }
          ],
          "contourcarpet": [
           {
            "colorbar": {
             "outlinewidth": 0,
             "tickcolor": "rgb(237,237,237)",
             "ticklen": 6,
             "ticks": "inside"
            },
            "type": "contourcarpet"
           }
          ],
          "heatmap": [
           {
            "colorbar": {
             "outlinewidth": 0,
             "tickcolor": "rgb(237,237,237)",
             "ticklen": 6,
             "ticks": "inside"
            },
            "colorscale": [
             [
              0,
              "rgb(20,44,66)"
             ],
             [
              1,
              "rgb(90,179,244)"
             ]
            ],
            "type": "heatmap"
           }
          ],
          "heatmapgl": [
           {
            "colorbar": {
             "outlinewidth": 0,
             "tickcolor": "rgb(237,237,237)",
             "ticklen": 6,
             "ticks": "inside"
            },
            "colorscale": [
             [
              0,
              "rgb(20,44,66)"
             ],
             [
              1,
              "rgb(90,179,244)"
             ]
            ],
            "type": "heatmapgl"
           }
          ],
          "histogram": [
           {
            "marker": {
             "pattern": {
              "fillmode": "overlay",
              "size": 10,
              "solidity": 0.2
             }
            },
            "type": "histogram"
           }
          ],
          "histogram2d": [
           {
            "colorbar": {
             "outlinewidth": 0,
             "tickcolor": "rgb(237,237,237)",
             "ticklen": 6,
             "ticks": "inside"
            },
            "colorscale": [
             [
              0,
              "rgb(20,44,66)"
             ],
             [
              1,
              "rgb(90,179,244)"
             ]
            ],
            "type": "histogram2d"
           }
          ],
          "histogram2dcontour": [
           {
            "colorbar": {
             "outlinewidth": 0,
             "tickcolor": "rgb(237,237,237)",
             "ticklen": 6,
             "ticks": "inside"
            },
            "colorscale": [
             [
              0,
              "rgb(20,44,66)"
             ],
             [
              1,
              "rgb(90,179,244)"
             ]
            ],
            "type": "histogram2dcontour"
           }
          ],
          "mesh3d": [
           {
            "colorbar": {
             "outlinewidth": 0,
             "tickcolor": "rgb(237,237,237)",
             "ticklen": 6,
             "ticks": "inside"
            },
            "type": "mesh3d"
           }
          ],
          "parcoords": [
           {
            "line": {
             "colorbar": {
              "outlinewidth": 0,
              "tickcolor": "rgb(237,237,237)",
              "ticklen": 6,
              "ticks": "inside"
             }
            },
            "type": "parcoords"
           }
          ],
          "pie": [
           {
            "automargin": true,
            "type": "pie"
           }
          ],
          "scatter": [
           {
            "fillpattern": {
             "fillmode": "overlay",
             "size": 10,
             "solidity": 0.2
            },
            "type": "scatter"
           }
          ],
          "scatter3d": [
           {
            "line": {
             "colorbar": {
              "outlinewidth": 0,
              "tickcolor": "rgb(237,237,237)",
              "ticklen": 6,
              "ticks": "inside"
             }
            },
            "marker": {
             "colorbar": {
              "outlinewidth": 0,
              "tickcolor": "rgb(237,237,237)",
              "ticklen": 6,
              "ticks": "inside"
             }
            },
            "type": "scatter3d"
           }
          ],
          "scattercarpet": [
           {
            "marker": {
             "colorbar": {
              "outlinewidth": 0,
              "tickcolor": "rgb(237,237,237)",
              "ticklen": 6,
              "ticks": "inside"
             }
            },
            "type": "scattercarpet"
           }
          ],
          "scattergeo": [
           {
            "marker": {
             "colorbar": {
              "outlinewidth": 0,
              "tickcolor": "rgb(237,237,237)",
              "ticklen": 6,
              "ticks": "inside"
             }
            },
            "type": "scattergeo"
           }
          ],
          "scattergl": [
           {
            "marker": {
             "colorbar": {
              "outlinewidth": 0,
              "tickcolor": "rgb(237,237,237)",
              "ticklen": 6,
              "ticks": "inside"
             }
            },
            "type": "scattergl"
           }
          ],
          "scattermapbox": [
           {
            "marker": {
             "colorbar": {
              "outlinewidth": 0,
              "tickcolor": "rgb(237,237,237)",
              "ticklen": 6,
              "ticks": "inside"
             }
            },
            "type": "scattermapbox"
           }
          ],
          "scatterpolar": [
           {
            "marker": {
             "colorbar": {
              "outlinewidth": 0,
              "tickcolor": "rgb(237,237,237)",
              "ticklen": 6,
              "ticks": "inside"
             }
            },
            "type": "scatterpolar"
           }
          ],
          "scatterpolargl": [
           {
            "marker": {
             "colorbar": {
              "outlinewidth": 0,
              "tickcolor": "rgb(237,237,237)",
              "ticklen": 6,
              "ticks": "inside"
             }
            },
            "type": "scatterpolargl"
           }
          ],
          "scatterternary": [
           {
            "marker": {
             "colorbar": {
              "outlinewidth": 0,
              "tickcolor": "rgb(237,237,237)",
              "ticklen": 6,
              "ticks": "inside"
             }
            },
            "type": "scatterternary"
           }
          ],
          "surface": [
           {
            "colorbar": {
             "outlinewidth": 0,
             "tickcolor": "rgb(237,237,237)",
             "ticklen": 6,
             "ticks": "inside"
            },
            "colorscale": [
             [
              0,
              "rgb(20,44,66)"
             ],
             [
              1,
              "rgb(90,179,244)"
             ]
            ],
            "type": "surface"
           }
          ],
          "table": [
           {
            "cells": {
             "fill": {
              "color": "rgb(237,237,237)"
             },
             "line": {
              "color": "white"
             }
            },
            "header": {
             "fill": {
              "color": "rgb(217,217,217)"
             },
             "line": {
              "color": "white"
             }
            },
            "type": "table"
           }
          ]
         },
         "layout": {
          "annotationdefaults": {
           "arrowhead": 0,
           "arrowwidth": 1
          },
          "autotypenumbers": "strict",
          "coloraxis": {
           "colorbar": {
            "outlinewidth": 0,
            "tickcolor": "rgb(237,237,237)",
            "ticklen": 6,
            "ticks": "inside"
           }
          },
          "colorscale": {
           "sequential": [
            [
             0,
             "rgb(20,44,66)"
            ],
            [
             1,
             "rgb(90,179,244)"
            ]
           ],
           "sequentialminus": [
            [
             0,
             "rgb(20,44,66)"
            ],
            [
             1,
             "rgb(90,179,244)"
            ]
           ]
          },
          "colorway": [
           "#F8766D",
           "#A3A500",
           "#00BF7D",
           "#00B0F6",
           "#E76BF3"
          ],
          "font": {
           "color": "rgb(51,51,51)"
          },
          "geo": {
           "bgcolor": "white",
           "lakecolor": "white",
           "landcolor": "rgb(237,237,237)",
           "showlakes": true,
           "showland": true,
           "subunitcolor": "white"
          },
          "hoverlabel": {
           "align": "left"
          },
          "hovermode": "closest",
          "paper_bgcolor": "white",
          "plot_bgcolor": "rgb(237,237,237)",
          "polar": {
           "angularaxis": {
            "gridcolor": "white",
            "linecolor": "white",
            "showgrid": true,
            "tickcolor": "rgb(51,51,51)",
            "ticks": "outside"
           },
           "bgcolor": "rgb(237,237,237)",
           "radialaxis": {
            "gridcolor": "white",
            "linecolor": "white",
            "showgrid": true,
            "tickcolor": "rgb(51,51,51)",
            "ticks": "outside"
           }
          },
          "scene": {
           "xaxis": {
            "backgroundcolor": "rgb(237,237,237)",
            "gridcolor": "white",
            "gridwidth": 2,
            "linecolor": "white",
            "showbackground": true,
            "showgrid": true,
            "tickcolor": "rgb(51,51,51)",
            "ticks": "outside",
            "zerolinecolor": "white"
           },
           "yaxis": {
            "backgroundcolor": "rgb(237,237,237)",
            "gridcolor": "white",
            "gridwidth": 2,
            "linecolor": "white",
            "showbackground": true,
            "showgrid": true,
            "tickcolor": "rgb(51,51,51)",
            "ticks": "outside",
            "zerolinecolor": "white"
           },
           "zaxis": {
            "backgroundcolor": "rgb(237,237,237)",
            "gridcolor": "white",
            "gridwidth": 2,
            "linecolor": "white",
            "showbackground": true,
            "showgrid": true,
            "tickcolor": "rgb(51,51,51)",
            "ticks": "outside",
            "zerolinecolor": "white"
           }
          },
          "shapedefaults": {
           "fillcolor": "black",
           "line": {
            "width": 0
           },
           "opacity": 0.3
          },
          "ternary": {
           "aaxis": {
            "gridcolor": "white",
            "linecolor": "white",
            "showgrid": true,
            "tickcolor": "rgb(51,51,51)",
            "ticks": "outside"
           },
           "baxis": {
            "gridcolor": "white",
            "linecolor": "white",
            "showgrid": true,
            "tickcolor": "rgb(51,51,51)",
            "ticks": "outside"
           },
           "bgcolor": "rgb(237,237,237)",
           "caxis": {
            "gridcolor": "white",
            "linecolor": "white",
            "showgrid": true,
            "tickcolor": "rgb(51,51,51)",
            "ticks": "outside"
           }
          },
          "xaxis": {
           "automargin": true,
           "gridcolor": "white",
           "linecolor": "white",
           "showgrid": true,
           "tickcolor": "rgb(51,51,51)",
           "ticks": "outside",
           "title": {
            "standoff": 15
           },
           "zerolinecolor": "white"
          },
          "yaxis": {
           "automargin": true,
           "gridcolor": "white",
           "linecolor": "white",
           "showgrid": true,
           "tickcolor": "rgb(51,51,51)",
           "ticks": "outside",
           "title": {
            "standoff": 15
           },
           "zerolinecolor": "white"
          }
         }
        },
        "title": {
         "text": "Porcentaje de la población de 6 a 11 años que asiste a la escuela"
        },
        "width": 800,
        "xaxis": {
         "anchor": "y",
         "domain": [
          0,
          1
         ],
         "title": {
          "text": "Porcentaje"
         }
        },
        "yaxis": {
         "anchor": "x",
         "domain": [
          0,
          1
         ],
         "title": {
          "text": "Municipio"
         }
        }
       }
      }
     },
     "metadata": {},
     "output_type": "display_data"
    }
   ],
   "source": [
    "fig = px.bar(dff, x=\"2020\", y=\"desc_municipio\", orientation='h', width=800, height=1280, template='ggplot2',\n",
    "                labels={'desc_municipio':'Municipio',\n",
    "                '2020': 'Porcentaje'},\n",
    "                title='Porcentaje de la población de 6 a 11 años que asiste a la escuela')\n",
    "fig.show()"
   ]
  },
  {
   "cell_type": "code",
   "execution_count": 16,
   "metadata": {},
   "outputs": [
    {
     "data": {
      "text/html": [
       "<div>\n",
       "<style scoped>\n",
       "    .dataframe tbody tr th:only-of-type {\n",
       "        vertical-align: middle;\n",
       "    }\n",
       "\n",
       "    .dataframe tbody tr th {\n",
       "        vertical-align: top;\n",
       "    }\n",
       "\n",
       "    .dataframe thead th {\n",
       "        text-align: right;\n",
       "    }\n",
       "</style>\n",
       "<table border=\"1\" class=\"dataframe\">\n",
       "  <thead>\n",
       "    <tr style=\"text-align: right;\">\n",
       "      <th></th>\n",
       "      <th>desc_municipio</th>\n",
       "      <th>indicador</th>\n",
       "      <th>2020</th>\n",
       "    </tr>\n",
       "  </thead>\n",
       "  <tbody>\n",
       "    <tr>\n",
       "      <th>1039</th>\n",
       "      <td>San Miguel de Horcasitas</td>\n",
       "      <td>Porcentaje de la población de 12 a 14 años que...</td>\n",
       "      <td>77.253219</td>\n",
       "    </tr>\n",
       "    <tr>\n",
       "      <th>427</th>\n",
       "      <td>Cucurpe</td>\n",
       "      <td>Porcentaje de la población de 12 a 14 años que...</td>\n",
       "      <td>79.032258</td>\n",
       "    </tr>\n",
       "    <tr>\n",
       "      <th>1183</th>\n",
       "      <td>Trincheras</td>\n",
       "      <td>Porcentaje de la población de 12 a 14 años que...</td>\n",
       "      <td>83.098592</td>\n",
       "    </tr>\n",
       "    <tr>\n",
       "      <th>409</th>\n",
       "      <td>La Colorada</td>\n",
       "      <td>Porcentaje de la población de 12 a 14 años que...</td>\n",
       "      <td>83.116883</td>\n",
       "    </tr>\n",
       "    <tr>\n",
       "      <th>1129</th>\n",
       "      <td>Soyopa</td>\n",
       "      <td>Porcentaje de la población de 12 a 14 años que...</td>\n",
       "      <td>83.823529</td>\n",
       "    </tr>\n",
       "    <tr>\n",
       "      <th>...</th>\n",
       "      <td>...</td>\n",
       "      <td>...</td>\n",
       "      <td>...</td>\n",
       "    </tr>\n",
       "    <tr>\n",
       "      <th>841</th>\n",
       "      <td>Opodepe</td>\n",
       "      <td>Porcentaje de la población de 12 a 14 años que...</td>\n",
       "      <td>98.496241</td>\n",
       "    </tr>\n",
       "    <tr>\n",
       "      <th>985</th>\n",
       "      <td>San Felipe de Jesús</td>\n",
       "      <td>Porcentaje de la población de 12 a 14 años que...</td>\n",
       "      <td>100.000000</td>\n",
       "    </tr>\n",
       "    <tr>\n",
       "      <th>1147</th>\n",
       "      <td>Suaqui Grande</td>\n",
       "      <td>Porcentaje de la población de 12 a 14 años que...</td>\n",
       "      <td>100.000000</td>\n",
       "    </tr>\n",
       "    <tr>\n",
       "      <th>463</th>\n",
       "      <td>Divisaderos</td>\n",
       "      <td>Porcentaje de la población de 12 a 14 años que...</td>\n",
       "      <td>100.000000</td>\n",
       "    </tr>\n",
       "    <tr>\n",
       "      <th>643</th>\n",
       "      <td>Huépac</td>\n",
       "      <td>Porcentaje de la población de 12 a 14 años que...</td>\n",
       "      <td>100.000000</td>\n",
       "    </tr>\n",
       "  </tbody>\n",
       "</table>\n",
       "<p>73 rows × 3 columns</p>\n",
       "</div>"
      ],
      "text/plain": [
       "                desc_municipio  \\\n",
       "1039  San Miguel de Horcasitas   \n",
       "427                    Cucurpe   \n",
       "1183                Trincheras   \n",
       "409                La Colorada   \n",
       "1129                    Soyopa   \n",
       "...                        ...   \n",
       "841                    Opodepe   \n",
       "985        San Felipe de Jesús   \n",
       "1147             Suaqui Grande   \n",
       "463                Divisaderos   \n",
       "643                     Huépac   \n",
       "\n",
       "                                              indicador        2020  \n",
       "1039  Porcentaje de la población de 12 a 14 años que...   77.253219  \n",
       "427   Porcentaje de la población de 12 a 14 años que...   79.032258  \n",
       "1183  Porcentaje de la población de 12 a 14 años que...   83.098592  \n",
       "409   Porcentaje de la población de 12 a 14 años que...   83.116883  \n",
       "1129  Porcentaje de la población de 12 a 14 años que...   83.823529  \n",
       "...                                                 ...         ...  \n",
       "841   Porcentaje de la población de 12 a 14 años que...   98.496241  \n",
       "985   Porcentaje de la población de 12 a 14 años que...  100.000000  \n",
       "1147  Porcentaje de la población de 12 a 14 años que...  100.000000  \n",
       "463   Porcentaje de la población de 12 a 14 años que...  100.000000  \n",
       "643   Porcentaje de la población de 12 a 14 años que...  100.000000  \n",
       "\n",
       "[73 rows x 3 columns]"
      ]
     },
     "execution_count": 16,
     "metadata": {},
     "output_type": "execute_result"
    }
   ],
   "source": [
    "#Ya podemos analizar Indicador por Indicador para cada municipio\n",
    "dff = educacion_2020[educacion_2020['indicador'] == 'Porcentaje de la población de 12 a 14 años que asiste a la escuela'].copy()\n",
    "dff = dff.sort_values('2020')\n",
    "dff"
   ]
  },
  {
   "cell_type": "code",
   "execution_count": 17,
   "metadata": {},
   "outputs": [
    {
     "data": {
      "application/vnd.plotly.v1+json": {
       "config": {
        "plotlyServerURL": "https://plot.ly"
       },
       "data": [
        {
         "alignmentgroup": "True",
         "hovertemplate": "Porcentaje=%{x}<br>Municipio=%{y}<extra></extra>",
         "legendgroup": "",
         "marker": {
          "color": "#F8766D",
          "pattern": {
           "shape": ""
          }
         },
         "name": "",
         "offsetgroup": "",
         "orientation": "h",
         "showlegend": false,
         "textposition": "auto",
         "type": "bar",
         "x": [
          77.2532188841202,
          79.0322580645161,
          83.0985915492958,
          83.1168831168831,
          83.8235294117647,
          84.4106463878327,
          86.1111111111111,
          86.1209964412811,
          87.3684210526316,
          87.5,
          87.6623376623377,
          88.4615384615385,
          88.5714285714286,
          89.1608391608392,
          89.2156862745098,
          89.3356643356643,
          89.3581081081081,
          90,
          90.1098901098901,
          90.8136482939633,
          90.8176100628931,
          90.9090909090909,
          90.9090909090909,
          90.9508497932935,
          91.0734463276836,
          91.5606936416185,
          91.6083916083916,
          91.7122155840854,
          91.7168674698795,
          91.7602996254682,
          91.9116196488459,
          92.0634920634921,
          92.1011058451817,
          92.3388262503614,
          93.1666666666667,
          93.1818181818182,
          93.4487384222293,
          93.5064935064935,
          93.7768537768538,
          93.8219703893255,
          93.8437661665805,
          94.005994005994,
          94.1798941798942,
          94.3204868154158,
          94.3548387096774,
          94.3807339449541,
          94.4444444444444,
          94.5849810641726,
          94.6751863684771,
          94.8148148148148,
          94.9745083758194,
          95.0600801068091,
          95.0617283950617,
          95.0819672131148,
          95.1492537313433,
          95.2637614678899,
          95.3846153846154,
          95.4545454545455,
          95.4659949622166,
          95.7671957671958,
          95.7928802588997,
          95.8333333333333,
          96.6101694915254,
          96.7741935483871,
          96.875,
          96.969696969697,
          98,
          98.1132075471698,
          98.4962406015038,
          100,
          100,
          100,
          100
         ],
         "xaxis": "x",
         "y": [
          "San Miguel de Horcasitas",
          "Cucurpe",
          "Trincheras",
          "La Colorada",
          "Soyopa",
          "Rosario",
          "Bavispe",
          "Yécora",
          "Santa Cruz",
          "San Pedro de la Cueva",
          "Quiriego",
          "Granados",
          "Bacoachi",
          "Carbó",
          "Banámichi",
          "Bácum",
          "Benito Juárez",
          "Onavas",
          "Villa Hidalgo",
          "Imuris",
          "San Ignacio Río Muerto",
          "Rayón",
          "Oquitoa",
          "San Luis Río Colorado",
          "Santa Ana",
          "General Plutarco Elías Calles",
          "Arizpe",
          "Guaymas",
          "Empalme",
          "Benjamín Hill",
          "Caborca",
          "Huachinera",
          "Puerto Peñasco",
          "Etchojoa",
          "Altar",
          "Nácori Chico",
          "Estatal",
          "Bacerac",
          "Cajeme",
          "Agua Prieta",
          "Nogales",
          "Huatabampo",
          "Baviácora",
          "Pitiquito",
          "Naco",
          "Nacozari de García",
          "Bacadéhuachi",
          "Hermosillo",
          "Magdalena",
          "Aconchi",
          "Alamos",
          "Cananea",
          "Moctezuma",
          "Sáric",
          "Sahuaripa",
          "Navojoa",
          "Arivechi",
          "Mazatán",
          "Ures",
          "Fronteras",
          "Cumpas",
          "Tubutama",
          "Tepache",
          "Atil",
          "Bacanora",
          "San Javier",
          "Villa Pesqueira",
          "Huásabas",
          "Opodepe",
          "San Felipe de Jesús",
          "Suaqui Grande",
          "Divisaderos",
          "Huépac"
         ],
         "yaxis": "y"
        }
       ],
       "layout": {
        "barmode": "relative",
        "height": 1280,
        "legend": {
         "tracegroupgap": 0
        },
        "template": {
         "data": {
          "bar": [
           {
            "error_x": {
             "color": "rgb(51,51,51)"
            },
            "error_y": {
             "color": "rgb(51,51,51)"
            },
            "marker": {
             "line": {
              "color": "rgb(237,237,237)",
              "width": 0.5
             },
             "pattern": {
              "fillmode": "overlay",
              "size": 10,
              "solidity": 0.2
             }
            },
            "type": "bar"
           }
          ],
          "barpolar": [
           {
            "marker": {
             "line": {
              "color": "rgb(237,237,237)",
              "width": 0.5
             },
             "pattern": {
              "fillmode": "overlay",
              "size": 10,
              "solidity": 0.2
             }
            },
            "type": "barpolar"
           }
          ],
          "carpet": [
           {
            "aaxis": {
             "endlinecolor": "rgb(51,51,51)",
             "gridcolor": "white",
             "linecolor": "white",
             "minorgridcolor": "white",
             "startlinecolor": "rgb(51,51,51)"
            },
            "baxis": {
             "endlinecolor": "rgb(51,51,51)",
             "gridcolor": "white",
             "linecolor": "white",
             "minorgridcolor": "white",
             "startlinecolor": "rgb(51,51,51)"
            },
            "type": "carpet"
           }
          ],
          "choropleth": [
           {
            "colorbar": {
             "outlinewidth": 0,
             "tickcolor": "rgb(237,237,237)",
             "ticklen": 6,
             "ticks": "inside"
            },
            "type": "choropleth"
           }
          ],
          "contour": [
           {
            "colorbar": {
             "outlinewidth": 0,
             "tickcolor": "rgb(237,237,237)",
             "ticklen": 6,
             "ticks": "inside"
            },
            "colorscale": [
             [
              0,
              "rgb(20,44,66)"
             ],
             [
              1,
              "rgb(90,179,244)"
             ]
            ],
            "type": "contour"
           }
          ],
          "contourcarpet": [
           {
            "colorbar": {
             "outlinewidth": 0,
             "tickcolor": "rgb(237,237,237)",
             "ticklen": 6,
             "ticks": "inside"
            },
            "type": "contourcarpet"
           }
          ],
          "heatmap": [
           {
            "colorbar": {
             "outlinewidth": 0,
             "tickcolor": "rgb(237,237,237)",
             "ticklen": 6,
             "ticks": "inside"
            },
            "colorscale": [
             [
              0,
              "rgb(20,44,66)"
             ],
             [
              1,
              "rgb(90,179,244)"
             ]
            ],
            "type": "heatmap"
           }
          ],
          "heatmapgl": [
           {
            "colorbar": {
             "outlinewidth": 0,
             "tickcolor": "rgb(237,237,237)",
             "ticklen": 6,
             "ticks": "inside"
            },
            "colorscale": [
             [
              0,
              "rgb(20,44,66)"
             ],
             [
              1,
              "rgb(90,179,244)"
             ]
            ],
            "type": "heatmapgl"
           }
          ],
          "histogram": [
           {
            "marker": {
             "pattern": {
              "fillmode": "overlay",
              "size": 10,
              "solidity": 0.2
             }
            },
            "type": "histogram"
           }
          ],
          "histogram2d": [
           {
            "colorbar": {
             "outlinewidth": 0,
             "tickcolor": "rgb(237,237,237)",
             "ticklen": 6,
             "ticks": "inside"
            },
            "colorscale": [
             [
              0,
              "rgb(20,44,66)"
             ],
             [
              1,
              "rgb(90,179,244)"
             ]
            ],
            "type": "histogram2d"
           }
          ],
          "histogram2dcontour": [
           {
            "colorbar": {
             "outlinewidth": 0,
             "tickcolor": "rgb(237,237,237)",
             "ticklen": 6,
             "ticks": "inside"
            },
            "colorscale": [
             [
              0,
              "rgb(20,44,66)"
             ],
             [
              1,
              "rgb(90,179,244)"
             ]
            ],
            "type": "histogram2dcontour"
           }
          ],
          "mesh3d": [
           {
            "colorbar": {
             "outlinewidth": 0,
             "tickcolor": "rgb(237,237,237)",
             "ticklen": 6,
             "ticks": "inside"
            },
            "type": "mesh3d"
           }
          ],
          "parcoords": [
           {
            "line": {
             "colorbar": {
              "outlinewidth": 0,
              "tickcolor": "rgb(237,237,237)",
              "ticklen": 6,
              "ticks": "inside"
             }
            },
            "type": "parcoords"
           }
          ],
          "pie": [
           {
            "automargin": true,
            "type": "pie"
           }
          ],
          "scatter": [
           {
            "fillpattern": {
             "fillmode": "overlay",
             "size": 10,
             "solidity": 0.2
            },
            "type": "scatter"
           }
          ],
          "scatter3d": [
           {
            "line": {
             "colorbar": {
              "outlinewidth": 0,
              "tickcolor": "rgb(237,237,237)",
              "ticklen": 6,
              "ticks": "inside"
             }
            },
            "marker": {
             "colorbar": {
              "outlinewidth": 0,
              "tickcolor": "rgb(237,237,237)",
              "ticklen": 6,
              "ticks": "inside"
             }
            },
            "type": "scatter3d"
           }
          ],
          "scattercarpet": [
           {
            "marker": {
             "colorbar": {
              "outlinewidth": 0,
              "tickcolor": "rgb(237,237,237)",
              "ticklen": 6,
              "ticks": "inside"
             }
            },
            "type": "scattercarpet"
           }
          ],
          "scattergeo": [
           {
            "marker": {
             "colorbar": {
              "outlinewidth": 0,
              "tickcolor": "rgb(237,237,237)",
              "ticklen": 6,
              "ticks": "inside"
             }
            },
            "type": "scattergeo"
           }
          ],
          "scattergl": [
           {
            "marker": {
             "colorbar": {
              "outlinewidth": 0,
              "tickcolor": "rgb(237,237,237)",
              "ticklen": 6,
              "ticks": "inside"
             }
            },
            "type": "scattergl"
           }
          ],
          "scattermapbox": [
           {
            "marker": {
             "colorbar": {
              "outlinewidth": 0,
              "tickcolor": "rgb(237,237,237)",
              "ticklen": 6,
              "ticks": "inside"
             }
            },
            "type": "scattermapbox"
           }
          ],
          "scatterpolar": [
           {
            "marker": {
             "colorbar": {
              "outlinewidth": 0,
              "tickcolor": "rgb(237,237,237)",
              "ticklen": 6,
              "ticks": "inside"
             }
            },
            "type": "scatterpolar"
           }
          ],
          "scatterpolargl": [
           {
            "marker": {
             "colorbar": {
              "outlinewidth": 0,
              "tickcolor": "rgb(237,237,237)",
              "ticklen": 6,
              "ticks": "inside"
             }
            },
            "type": "scatterpolargl"
           }
          ],
          "scatterternary": [
           {
            "marker": {
             "colorbar": {
              "outlinewidth": 0,
              "tickcolor": "rgb(237,237,237)",
              "ticklen": 6,
              "ticks": "inside"
             }
            },
            "type": "scatterternary"
           }
          ],
          "surface": [
           {
            "colorbar": {
             "outlinewidth": 0,
             "tickcolor": "rgb(237,237,237)",
             "ticklen": 6,
             "ticks": "inside"
            },
            "colorscale": [
             [
              0,
              "rgb(20,44,66)"
             ],
             [
              1,
              "rgb(90,179,244)"
             ]
            ],
            "type": "surface"
           }
          ],
          "table": [
           {
            "cells": {
             "fill": {
              "color": "rgb(237,237,237)"
             },
             "line": {
              "color": "white"
             }
            },
            "header": {
             "fill": {
              "color": "rgb(217,217,217)"
             },
             "line": {
              "color": "white"
             }
            },
            "type": "table"
           }
          ]
         },
         "layout": {
          "annotationdefaults": {
           "arrowhead": 0,
           "arrowwidth": 1
          },
          "autotypenumbers": "strict",
          "coloraxis": {
           "colorbar": {
            "outlinewidth": 0,
            "tickcolor": "rgb(237,237,237)",
            "ticklen": 6,
            "ticks": "inside"
           }
          },
          "colorscale": {
           "sequential": [
            [
             0,
             "rgb(20,44,66)"
            ],
            [
             1,
             "rgb(90,179,244)"
            ]
           ],
           "sequentialminus": [
            [
             0,
             "rgb(20,44,66)"
            ],
            [
             1,
             "rgb(90,179,244)"
            ]
           ]
          },
          "colorway": [
           "#F8766D",
           "#A3A500",
           "#00BF7D",
           "#00B0F6",
           "#E76BF3"
          ],
          "font": {
           "color": "rgb(51,51,51)"
          },
          "geo": {
           "bgcolor": "white",
           "lakecolor": "white",
           "landcolor": "rgb(237,237,237)",
           "showlakes": true,
           "showland": true,
           "subunitcolor": "white"
          },
          "hoverlabel": {
           "align": "left"
          },
          "hovermode": "closest",
          "paper_bgcolor": "white",
          "plot_bgcolor": "rgb(237,237,237)",
          "polar": {
           "angularaxis": {
            "gridcolor": "white",
            "linecolor": "white",
            "showgrid": true,
            "tickcolor": "rgb(51,51,51)",
            "ticks": "outside"
           },
           "bgcolor": "rgb(237,237,237)",
           "radialaxis": {
            "gridcolor": "white",
            "linecolor": "white",
            "showgrid": true,
            "tickcolor": "rgb(51,51,51)",
            "ticks": "outside"
           }
          },
          "scene": {
           "xaxis": {
            "backgroundcolor": "rgb(237,237,237)",
            "gridcolor": "white",
            "gridwidth": 2,
            "linecolor": "white",
            "showbackground": true,
            "showgrid": true,
            "tickcolor": "rgb(51,51,51)",
            "ticks": "outside",
            "zerolinecolor": "white"
           },
           "yaxis": {
            "backgroundcolor": "rgb(237,237,237)",
            "gridcolor": "white",
            "gridwidth": 2,
            "linecolor": "white",
            "showbackground": true,
            "showgrid": true,
            "tickcolor": "rgb(51,51,51)",
            "ticks": "outside",
            "zerolinecolor": "white"
           },
           "zaxis": {
            "backgroundcolor": "rgb(237,237,237)",
            "gridcolor": "white",
            "gridwidth": 2,
            "linecolor": "white",
            "showbackground": true,
            "showgrid": true,
            "tickcolor": "rgb(51,51,51)",
            "ticks": "outside",
            "zerolinecolor": "white"
           }
          },
          "shapedefaults": {
           "fillcolor": "black",
           "line": {
            "width": 0
           },
           "opacity": 0.3
          },
          "ternary": {
           "aaxis": {
            "gridcolor": "white",
            "linecolor": "white",
            "showgrid": true,
            "tickcolor": "rgb(51,51,51)",
            "ticks": "outside"
           },
           "baxis": {
            "gridcolor": "white",
            "linecolor": "white",
            "showgrid": true,
            "tickcolor": "rgb(51,51,51)",
            "ticks": "outside"
           },
           "bgcolor": "rgb(237,237,237)",
           "caxis": {
            "gridcolor": "white",
            "linecolor": "white",
            "showgrid": true,
            "tickcolor": "rgb(51,51,51)",
            "ticks": "outside"
           }
          },
          "xaxis": {
           "automargin": true,
           "gridcolor": "white",
           "linecolor": "white",
           "showgrid": true,
           "tickcolor": "rgb(51,51,51)",
           "ticks": "outside",
           "title": {
            "standoff": 15
           },
           "zerolinecolor": "white"
          },
          "yaxis": {
           "automargin": true,
           "gridcolor": "white",
           "linecolor": "white",
           "showgrid": true,
           "tickcolor": "rgb(51,51,51)",
           "ticks": "outside",
           "title": {
            "standoff": 15
           },
           "zerolinecolor": "white"
          }
         }
        },
        "title": {
         "text": "Porcentaje de la población de 12 a 14 años que asiste a la escuela"
        },
        "width": 800,
        "xaxis": {
         "anchor": "y",
         "domain": [
          0,
          1
         ],
         "title": {
          "text": "Porcentaje"
         }
        },
        "yaxis": {
         "anchor": "x",
         "domain": [
          0,
          1
         ],
         "title": {
          "text": "Municipio"
         }
        }
       }
      }
     },
     "metadata": {},
     "output_type": "display_data"
    }
   ],
   "source": [
    "fig = px.bar(dff, x=\"2020\", y=\"desc_municipio\", orientation='h', width=800, height=1280, template='ggplot2',\n",
    "                labels={'desc_municipio':'Municipio',\n",
    "                '2020': 'Porcentaje'},\n",
    "                title='Porcentaje de la población de 12 a 14 años que asiste a la escuela')\n",
    "fig.show()"
   ]
  },
  {
   "cell_type": "markdown",
   "metadata": {},
   "source": [
    "### Comparativa 2015 - 2020"
   ]
  },
  {
   "cell_type": "code",
   "execution_count": 18,
   "metadata": {},
   "outputs": [
    {
     "data": {
      "text/plain": [
       "<NA>"
      ]
     },
     "execution_count": 18,
     "metadata": {},
     "output_type": "execute_result"
    }
   ],
   "source": [
    "pd.NA"
   ]
  },
  {
   "cell_type": "code",
   "execution_count": 61,
   "metadata": {},
   "outputs": [
    {
     "data": {
      "text/html": [
       "<div>\n",
       "<style scoped>\n",
       "    .dataframe tbody tr th:only-of-type {\n",
       "        vertical-align: middle;\n",
       "    }\n",
       "\n",
       "    .dataframe tbody tr th {\n",
       "        vertical-align: top;\n",
       "    }\n",
       "\n",
       "    .dataframe thead th {\n",
       "        text-align: right;\n",
       "    }\n",
       "</style>\n",
       "<table border=\"1\" class=\"dataframe\">\n",
       "  <thead>\n",
       "    <tr style=\"text-align: right;\">\n",
       "      <th></th>\n",
       "      <th>desc_municipio</th>\n",
       "      <th>indicador</th>\n",
       "      <th>2015</th>\n",
       "      <th>2020</th>\n",
       "    </tr>\n",
       "  </thead>\n",
       "  <tbody>\n",
       "    <tr>\n",
       "      <th>19</th>\n",
       "      <td>Estatal</td>\n",
       "      <td>Porcentaje de la población de 3 a 5 años que a...</td>\n",
       "      <td>53.377350</td>\n",
       "      <td>53.929240</td>\n",
       "    </tr>\n",
       "    <tr>\n",
       "      <th>20</th>\n",
       "      <td>Estatal</td>\n",
       "      <td>Porcentaje de la población de 6 a 11 años que ...</td>\n",
       "      <td>97.239787</td>\n",
       "      <td>96.256390</td>\n",
       "    </tr>\n",
       "    <tr>\n",
       "      <th>21</th>\n",
       "      <td>Estatal</td>\n",
       "      <td>Porcentaje de la población de 12 a 14 años que...</td>\n",
       "      <td>94.471037</td>\n",
       "      <td>93.448738</td>\n",
       "    </tr>\n",
       "    <tr>\n",
       "      <th>47</th>\n",
       "      <td>Aconchi</td>\n",
       "      <td>Porcentaje de la población de 3 a 5 años que a...</td>\n",
       "      <td>56.617647</td>\n",
       "      <td>78.448276</td>\n",
       "    </tr>\n",
       "    <tr>\n",
       "      <th>48</th>\n",
       "      <td>Aconchi</td>\n",
       "      <td>Porcentaje de la población de 6 a 11 años que ...</td>\n",
       "      <td>97.972973</td>\n",
       "      <td>97.489540</td>\n",
       "    </tr>\n",
       "  </tbody>\n",
       "</table>\n",
       "</div>"
      ],
      "text/plain": [
       "   desc_municipio                                          indicador  \\\n",
       "19        Estatal  Porcentaje de la población de 3 a 5 años que a...   \n",
       "20        Estatal  Porcentaje de la población de 6 a 11 años que ...   \n",
       "21        Estatal  Porcentaje de la población de 12 a 14 años que...   \n",
       "47        Aconchi  Porcentaje de la población de 3 a 5 años que a...   \n",
       "48        Aconchi  Porcentaje de la población de 6 a 11 años que ...   \n",
       "\n",
       "         2015       2020  \n",
       "19  53.377350  53.929240  \n",
       "20  97.239787  96.256390  \n",
       "21  94.471037  93.448738  \n",
       "47  56.617647  78.448276  \n",
       "48  97.972973  97.489540  "
      ]
     },
     "execution_count": 61,
     "metadata": {},
     "output_type": "execute_result"
    }
   ],
   "source": [
    "educacion_comparativa = educacion_data[['desc_municipio', 'indicador', '2015','2020']].copy()\n",
    "educacion_comparativa= educacion_comparativa.replace({'MI': pd.NA})\n",
    "educacion_comparativa = educacion_comparativa.replace({'MI':pd.NA})\n",
    "educacion_comparativa.dropna(inplace=True)\n",
    "educacion_comparativa['2015'] = educacion_comparativa['2015'].astype('float')\n",
    "educacion_comparativa['2020'] = educacion_comparativa['2020'].astype('float')\n",
    "educacion_comparativa.head()"
   ]
  },
  {
   "cell_type": "code",
   "execution_count": 68,
   "metadata": {},
   "outputs": [
    {
     "data": {
      "text/plain": [
       "array(['Porcentaje de la población de 3 a 5 años que asiste a la escuela',\n",
       "       'Porcentaje de la población de 6 a 11 años que asiste a la escuela',\n",
       "       'Porcentaje de la población de 12 a 14 años que asiste a la escuela'],\n",
       "      dtype=object)"
      ]
     },
     "execution_count": 68,
     "metadata": {},
     "output_type": "execute_result"
    }
   ],
   "source": [
    "educacion_comparativa['indicador'].unique()"
   ]
  },
  {
   "cell_type": "code",
   "execution_count": 62,
   "metadata": {},
   "outputs": [],
   "source": [
    "educacion_comparativa['delta'] = educacion_comparativa['2020'] - educacion_comparativa['2015']"
   ]
  },
  {
   "cell_type": "code",
   "execution_count": 69,
   "metadata": {},
   "outputs": [
    {
     "data": {
      "text/html": [
       "<div>\n",
       "<style scoped>\n",
       "    .dataframe tbody tr th:only-of-type {\n",
       "        vertical-align: middle;\n",
       "    }\n",
       "\n",
       "    .dataframe tbody tr th {\n",
       "        vertical-align: top;\n",
       "    }\n",
       "\n",
       "    .dataframe thead th {\n",
       "        text-align: right;\n",
       "    }\n",
       "</style>\n",
       "<table border=\"1\" class=\"dataframe\">\n",
       "  <thead>\n",
       "    <tr style=\"text-align: right;\">\n",
       "      <th></th>\n",
       "      <th>desc_municipio</th>\n",
       "      <th>indicador</th>\n",
       "      <th>2015</th>\n",
       "      <th>2020</th>\n",
       "      <th>delta</th>\n",
       "    </tr>\n",
       "  </thead>\n",
       "  <tbody>\n",
       "    <tr>\n",
       "      <th>19</th>\n",
       "      <td>Estatal</td>\n",
       "      <td>Porcentaje de la población de 3 a 5 años que a...</td>\n",
       "      <td>53.377350</td>\n",
       "      <td>53.929240</td>\n",
       "      <td>0.551890</td>\n",
       "    </tr>\n",
       "    <tr>\n",
       "      <th>47</th>\n",
       "      <td>Aconchi</td>\n",
       "      <td>Porcentaje de la población de 3 a 5 años que a...</td>\n",
       "      <td>56.617647</td>\n",
       "      <td>78.448276</td>\n",
       "      <td>21.830629</td>\n",
       "    </tr>\n",
       "    <tr>\n",
       "      <th>65</th>\n",
       "      <td>Agua Prieta</td>\n",
       "      <td>Porcentaje de la población de 3 a 5 años que a...</td>\n",
       "      <td>46.522782</td>\n",
       "      <td>47.006830</td>\n",
       "      <td>0.484048</td>\n",
       "    </tr>\n",
       "    <tr>\n",
       "      <th>83</th>\n",
       "      <td>Alamos</td>\n",
       "      <td>Porcentaje de la población de 3 a 5 años que a...</td>\n",
       "      <td>64.163569</td>\n",
       "      <td>66.952455</td>\n",
       "      <td>2.788886</td>\n",
       "    </tr>\n",
       "    <tr>\n",
       "      <th>101</th>\n",
       "      <td>Altar</td>\n",
       "      <td>Porcentaje de la población de 3 a 5 años que a...</td>\n",
       "      <td>54.973822</td>\n",
       "      <td>60.225141</td>\n",
       "      <td>5.251319</td>\n",
       "    </tr>\n",
       "    <tr>\n",
       "      <th>...</th>\n",
       "      <td>...</td>\n",
       "      <td>...</td>\n",
       "      <td>...</td>\n",
       "      <td>...</td>\n",
       "      <td>...</td>\n",
       "    </tr>\n",
       "    <tr>\n",
       "      <th>1235</th>\n",
       "      <td>Villa Hidalgo</td>\n",
       "      <td>Porcentaje de la población de 3 a 5 años que a...</td>\n",
       "      <td>64.473684</td>\n",
       "      <td>63.333333</td>\n",
       "      <td>-1.140351</td>\n",
       "    </tr>\n",
       "    <tr>\n",
       "      <th>1253</th>\n",
       "      <td>Villa Pesqueira</td>\n",
       "      <td>Porcentaje de la población de 3 a 5 años que a...</td>\n",
       "      <td>36.363636</td>\n",
       "      <td>65.517241</td>\n",
       "      <td>29.153605</td>\n",
       "    </tr>\n",
       "    <tr>\n",
       "      <th>1271</th>\n",
       "      <td>Yécora</td>\n",
       "      <td>Porcentaje de la población de 3 a 5 años que a...</td>\n",
       "      <td>51.875000</td>\n",
       "      <td>50.378788</td>\n",
       "      <td>-1.496212</td>\n",
       "    </tr>\n",
       "    <tr>\n",
       "      <th>1307</th>\n",
       "      <td>Benito Juárez</td>\n",
       "      <td>Porcentaje de la población de 3 a 5 años que a...</td>\n",
       "      <td>56.238185</td>\n",
       "      <td>54.726800</td>\n",
       "      <td>-1.511385</td>\n",
       "    </tr>\n",
       "    <tr>\n",
       "      <th>1325</th>\n",
       "      <td>San Ignacio Río Muerto</td>\n",
       "      <td>Porcentaje de la población de 3 a 5 años que a...</td>\n",
       "      <td>59.370904</td>\n",
       "      <td>53.551913</td>\n",
       "      <td>-5.818991</td>\n",
       "    </tr>\n",
       "  </tbody>\n",
       "</table>\n",
       "<p>72 rows × 5 columns</p>\n",
       "</div>"
      ],
      "text/plain": [
       "              desc_municipio  \\\n",
       "19                   Estatal   \n",
       "47                   Aconchi   \n",
       "65               Agua Prieta   \n",
       "83                    Alamos   \n",
       "101                    Altar   \n",
       "...                      ...   \n",
       "1235           Villa Hidalgo   \n",
       "1253         Villa Pesqueira   \n",
       "1271                  Yécora   \n",
       "1307           Benito Juárez   \n",
       "1325  San Ignacio Río Muerto   \n",
       "\n",
       "                                              indicador       2015       2020  \\\n",
       "19    Porcentaje de la población de 3 a 5 años que a...  53.377350  53.929240   \n",
       "47    Porcentaje de la población de 3 a 5 años que a...  56.617647  78.448276   \n",
       "65    Porcentaje de la población de 3 a 5 años que a...  46.522782  47.006830   \n",
       "83    Porcentaje de la población de 3 a 5 años que a...  64.163569  66.952455   \n",
       "101   Porcentaje de la población de 3 a 5 años que a...  54.973822  60.225141   \n",
       "...                                                 ...        ...        ...   \n",
       "1235  Porcentaje de la población de 3 a 5 años que a...  64.473684  63.333333   \n",
       "1253  Porcentaje de la población de 3 a 5 años que a...  36.363636  65.517241   \n",
       "1271  Porcentaje de la población de 3 a 5 años que a...  51.875000  50.378788   \n",
       "1307  Porcentaje de la población de 3 a 5 años que a...  56.238185  54.726800   \n",
       "1325  Porcentaje de la población de 3 a 5 años que a...  59.370904  53.551913   \n",
       "\n",
       "          delta  \n",
       "19     0.551890  \n",
       "47    21.830629  \n",
       "65     0.484048  \n",
       "83     2.788886  \n",
       "101    5.251319  \n",
       "...         ...  \n",
       "1235  -1.140351  \n",
       "1253  29.153605  \n",
       "1271  -1.496212  \n",
       "1307  -1.511385  \n",
       "1325  -5.818991  \n",
       "\n",
       "[72 rows x 5 columns]"
      ]
     },
     "execution_count": 69,
     "metadata": {},
     "output_type": "execute_result"
    }
   ],
   "source": [
    "educacion_comparativa[educacion_comparativa['indicador'] == 'Porcentaje de la población de 3 a 5 años que asiste a la escuela']"
   ]
  },
  {
   "cell_type": "code",
   "execution_count": 63,
   "metadata": {},
   "outputs": [],
   "source": [
    "less_10 = list(educacion_comparativa.sort_values('delta')['desc_municipio'][:3])\n",
    "top_10 = list(educacion_comparativa.sort_values('delta', ascending=False)['desc_municipio'][:3])\n"
   ]
  },
  {
   "cell_type": "code",
   "execution_count": 64,
   "metadata": {},
   "outputs": [
    {
     "data": {
      "text/plain": [
       "['Divisaderos', 'Granados', 'Cucurpe']"
      ]
     },
     "execution_count": 64,
     "metadata": {},
     "output_type": "execute_result"
    }
   ],
   "source": [
    "less_10"
   ]
  },
  {
   "cell_type": "code",
   "execution_count": 23,
   "metadata": {},
   "outputs": [
    {
     "data": {
      "text/html": [
       "<div>\n",
       "<style scoped>\n",
       "    .dataframe tbody tr th:only-of-type {\n",
       "        vertical-align: middle;\n",
       "    }\n",
       "\n",
       "    .dataframe tbody tr th {\n",
       "        vertical-align: top;\n",
       "    }\n",
       "\n",
       "    .dataframe thead th {\n",
       "        text-align: right;\n",
       "    }\n",
       "</style>\n",
       "<table border=\"1\" class=\"dataframe\">\n",
       "  <thead>\n",
       "    <tr style=\"text-align: right;\">\n",
       "      <th></th>\n",
       "      <th>desc_municipio</th>\n",
       "      <th>variable</th>\n",
       "      <th>porcentaje</th>\n",
       "    </tr>\n",
       "  </thead>\n",
       "  <tbody>\n",
       "    <tr>\n",
       "      <th>0</th>\n",
       "      <td>Estatal</td>\n",
       "      <td>2015</td>\n",
       "      <td>53.377350</td>\n",
       "    </tr>\n",
       "    <tr>\n",
       "      <th>1</th>\n",
       "      <td>Aconchi</td>\n",
       "      <td>2015</td>\n",
       "      <td>56.617647</td>\n",
       "    </tr>\n",
       "    <tr>\n",
       "      <th>2</th>\n",
       "      <td>Agua Prieta</td>\n",
       "      <td>2015</td>\n",
       "      <td>46.522782</td>\n",
       "    </tr>\n",
       "    <tr>\n",
       "      <th>3</th>\n",
       "      <td>Alamos</td>\n",
       "      <td>2015</td>\n",
       "      <td>64.163569</td>\n",
       "    </tr>\n",
       "    <tr>\n",
       "      <th>4</th>\n",
       "      <td>Altar</td>\n",
       "      <td>2015</td>\n",
       "      <td>54.973822</td>\n",
       "    </tr>\n",
       "    <tr>\n",
       "      <th>...</th>\n",
       "      <td>...</td>\n",
       "      <td>...</td>\n",
       "      <td>...</td>\n",
       "    </tr>\n",
       "    <tr>\n",
       "      <th>139</th>\n",
       "      <td>Villa Hidalgo</td>\n",
       "      <td>2020</td>\n",
       "      <td>63.333333</td>\n",
       "    </tr>\n",
       "    <tr>\n",
       "      <th>140</th>\n",
       "      <td>Villa Pesqueira</td>\n",
       "      <td>2020</td>\n",
       "      <td>65.517241</td>\n",
       "    </tr>\n",
       "    <tr>\n",
       "      <th>141</th>\n",
       "      <td>Yécora</td>\n",
       "      <td>2020</td>\n",
       "      <td>50.378788</td>\n",
       "    </tr>\n",
       "    <tr>\n",
       "      <th>142</th>\n",
       "      <td>Benito Juárez</td>\n",
       "      <td>2020</td>\n",
       "      <td>54.726800</td>\n",
       "    </tr>\n",
       "    <tr>\n",
       "      <th>143</th>\n",
       "      <td>San Ignacio Río Muerto</td>\n",
       "      <td>2020</td>\n",
       "      <td>53.551913</td>\n",
       "    </tr>\n",
       "  </tbody>\n",
       "</table>\n",
       "<p>144 rows × 3 columns</p>\n",
       "</div>"
      ],
      "text/plain": [
       "             desc_municipio  variable  porcentaje\n",
       "0                   Estatal      2015   53.377350\n",
       "1                   Aconchi      2015   56.617647\n",
       "2               Agua Prieta      2015   46.522782\n",
       "3                    Alamos      2015   64.163569\n",
       "4                     Altar      2015   54.973822\n",
       "..                      ...       ...         ...\n",
       "139           Villa Hidalgo      2020   63.333333\n",
       "140         Villa Pesqueira      2020   65.517241\n",
       "141                  Yécora      2020   50.378788\n",
       "142           Benito Juárez      2020   54.726800\n",
       "143  San Ignacio Río Muerto      2020   53.551913\n",
       "\n",
       "[144 rows x 3 columns]"
      ]
     },
     "execution_count": 23,
     "metadata": {},
     "output_type": "execute_result"
    }
   ],
   "source": [
    "dff = educacion_comparativa[educacion_comparativa['indicador'] == 'Porcentaje de la población de 3 a 5 años que asiste a la escuela']\n",
    "dff = pd.melt(dff, id_vars='desc_municipio', value_vars=['2015','2020'], value_name='porcentaje')\n",
    "dff = dff[dff['porcentaje'] != 'MI']\n",
    "dff['porcentaje'] = dff['porcentaje'].astype('float')\n",
    "dff['variable'] =  dff['variable'].astype('int64')\n",
    "dff"
   ]
  },
  {
   "cell_type": "code",
   "execution_count": 24,
   "metadata": {},
   "outputs": [
    {
     "name": "stdout",
     "output_type": "stream",
     "text": [
      "<class 'pandas.core.frame.DataFrame'>\n",
      "Int64Index: 144 entries, 0 to 143\n",
      "Data columns (total 3 columns):\n",
      " #   Column          Non-Null Count  Dtype  \n",
      "---  ------          --------------  -----  \n",
      " 0   desc_municipio  144 non-null    object \n",
      " 1   variable        144 non-null    int64  \n",
      " 2   porcentaje      144 non-null    float64\n",
      "dtypes: float64(1), int64(1), object(1)\n",
      "memory usage: 4.5+ KB\n"
     ]
    }
   ],
   "source": [
    "dff.info()"
   ]
  },
  {
   "cell_type": "code",
   "execution_count": 25,
   "metadata": {},
   "outputs": [
    {
     "ename": "NameError",
     "evalue": "name 'plt' is not defined",
     "output_type": "error",
     "traceback": [
      "\u001b[0;31m---------------------------------------------------------------------------\u001b[0m",
      "\u001b[0;31mNameError\u001b[0m                                 Traceback (most recent call last)",
      "\u001b[1;32m/home/carlosv/gobierno/data_sonora_buqui/notebooks/inegi_educacion.ipynb Cell 27'\u001b[0m in \u001b[0;36m<cell line: 2>\u001b[0;34m()\u001b[0m\n\u001b[1;32m      <a href='vscode-notebook-cell:/home/carlosv/gobierno/data_sonora_buqui/notebooks/inegi_educacion.ipynb#ch0000026?line=0'>1</a>\u001b[0m \u001b[39mimport\u001b[39;00m \u001b[39mseaborn\u001b[39;00m \u001b[39mas\u001b[39;00m \u001b[39msns\u001b[39;00m\n\u001b[0;32m----> <a href='vscode-notebook-cell:/home/carlosv/gobierno/data_sonora_buqui/notebooks/inegi_educacion.ipynb#ch0000026?line=1'>2</a>\u001b[0m plt\u001b[39m.\u001b[39mfigure(figsize\u001b[39m=\u001b[39m(\u001b[39m15\u001b[39m,\u001b[39m30\u001b[39m))\n\u001b[1;32m      <a href='vscode-notebook-cell:/home/carlosv/gobierno/data_sonora_buqui/notebooks/inegi_educacion.ipynb#ch0000026?line=3'>4</a>\u001b[0m sns\u001b[39m.\u001b[39mpointplot(x\u001b[39m=\u001b[39m\u001b[39m\"\u001b[39m\u001b[39mvariable\u001b[39m\u001b[39m\"\u001b[39m, y\u001b[39m=\u001b[39m\u001b[39m\"\u001b[39m\u001b[39mporcentaje\u001b[39m\u001b[39m\"\u001b[39m, data\u001b[39m=\u001b[39mdff, hue \u001b[39m=\u001b[39m \u001b[39m'\u001b[39m\u001b[39mdesc_municipio\u001b[39m\u001b[39m'\u001b[39m, )\n",
      "\u001b[0;31mNameError\u001b[0m: name 'plt' is not defined"
     ]
    }
   ],
   "source": [
    "import seaborn as sns\n",
    "plt.figure(figsize=(15,30))\n",
    "\n",
    "sns.pointplot(x=\"variable\", y=\"porcentaje\", data=dff, hue = 'desc_municipio', )\n"
   ]
  },
  {
   "cell_type": "code",
   "execution_count": null,
   "metadata": {},
   "outputs": [
    {
     "data": {
      "text/plain": [
       "56.617647"
      ]
     },
     "execution_count": 142,
     "metadata": {},
     "output_type": "execute_result"
    }
   ],
   "source": [
    "dff[dff['desc_municipio'] == 'Aconchi']['porcentaje'].iloc[0]"
   ]
  },
  {
   "cell_type": "code",
   "execution_count": null,
   "metadata": {},
   "outputs": [
    {
     "data": {
      "application/vnd.plotly.v1+json": {
       "config": {
        "plotlyServerURL": "https://plot.ly"
       },
       "data": [
        {
         "alignmentgroup": "True",
         "hovertemplate": "variable=2015<br>porcentaje=%{x}<br>desc_municipio=%{y}<extra></extra>",
         "legendgroup": "2015",
         "marker": {
          "color": "#636efa",
          "pattern": {
           "shape": ""
          }
         },
         "name": "2015",
         "offsetgroup": "2015",
         "orientation": "h",
         "showlegend": true,
         "textposition": "auto",
         "type": "bar",
         "x": [
          53.37735,
          56.617647,
          46.522782,
          64.163569,
          54.973822,
          43.636364,
          52.8,
          70.588235,
          52,
          46.875,
          48.275862,
          51.351351,
          55.984252,
          74.647887,
          67.114094,
          38.888889,
          56.31769,
          53.458517,
          53.470645,
          53.934263,
          53.024911,
          50,
          55.813953,
          63.475177,
          74.285714,
          47.800886,
          64.912281,
          61.460102,
          75.438596,
          57.070156,
          55.961628,
          61.702128,
          44.827586,
          70.391477,
          67.741935,
          47.341115,
          51.978736,
          61.538462,
          55.686275,
          52.941176,
          59.047619,
          59.085439,
          60.184747,
          44.989324,
          45.454545,
          62.411348,
          43.75,
          56.646217,
          49.098196,
          57.931034,
          56.338028,
          57.400722,
          54.909091,
          86.956522,
          48.780488,
          42.492218,
          32.300163,
          64,
          55.782313,
          53.030303,
          63.44086,
          61.403509,
          62.903226,
          63.265306,
          52.380952,
          69.444444,
          57.101449,
          64.473684,
          36.363636,
          51.875,
          56.238185,
          59.370904
         ],
         "xaxis": "x",
         "y": [
          "Estatal",
          "Aconchi",
          "Agua Prieta",
          "Alamos",
          "Altar",
          "Arivechi",
          "Arizpe",
          "Atil",
          "Bacadéhuachi",
          "Bacanora",
          "Bacerac",
          "Bacoachi",
          "Bácum",
          "Banámichi",
          "Baviácora",
          "Bavispe",
          "Benjamín Hill",
          "Caborca",
          "Cajeme",
          "Cananea",
          "Carbó",
          "La Colorada",
          "Cucurpe",
          "Cumpas",
          "Divisaderos",
          "Empalme",
          "Etchojoa",
          "Fronteras",
          "Granados",
          "Guaymas",
          "Hermosillo",
          "Huachinera",
          "Huásabas",
          "Huatabampo",
          "Huépac",
          "Imuris",
          "Magdalena",
          "Mazatán",
          "Moctezuma",
          "Naco",
          "Nácori Chico",
          "Nacozari de García",
          "Navojoa",
          "Nogales",
          "Onavas",
          "Opodepe",
          "Oquitoa",
          "Pitiquito",
          "Puerto Peñasco",
          "Quiriego",
          "Rayón",
          "Rosario",
          "Sahuaripa",
          "San Felipe de Jesús",
          "San Javier",
          "San Luis Río Colorado",
          "San Miguel de Horcasitas",
          "San Pedro de la Cueva",
          "Santa Ana",
          "Santa Cruz",
          "Sáric",
          "Soyopa",
          "Suaqui Grande",
          "Tepache",
          "Trincheras",
          "Tubutama",
          "Ures",
          "Villa Hidalgo",
          "Villa Pesqueira",
          "Yécora",
          "Benito Juárez",
          "San Ignacio Río Muerto"
         ],
         "yaxis": "y"
        },
        {
         "alignmentgroup": "True",
         "hovertemplate": "variable=2020<br>porcentaje=%{x}<br>desc_municipio=%{y}<extra></extra>",
         "legendgroup": "2020",
         "marker": {
          "color": "#EF553B",
          "pattern": {
           "shape": ""
          }
         },
         "name": "2020",
         "offsetgroup": "2020",
         "orientation": "h",
         "showlegend": true,
         "textposition": "auto",
         "type": "bar",
         "x": [
          53.9292401419669,
          78.448275862069,
          47.0068300522298,
          66.9524551831645,
          60.2251407129456,
          56.25,
          64.0776699029126,
          56,
          60,
          62.1621621621622,
          57.9710144927536,
          60.3174603174603,
          50.2712477396022,
          64.7727272727273,
          68.2170542635659,
          53.3333333333333,
          50.965250965251,
          53.7791932059448,
          55.0693263233854,
          56.6901408450704,
          47.65625,
          50,
          54.0540540540541,
          63.4854771784232,
          42.8571428571429,
          45.7026927333087,
          67.4758895909544,
          57.089552238806,
          52.7777777777778,
          54.9432325551728,
          56.9686172399616,
          58.9285714285714,
          78.9473684210526,
          68.9530685920578,
          80.4878048780488,
          47.4285714285714,
          48.953488372093,
          51.4285714285714,
          64.2156862745098,
          47.9411764705882,
          53.0864197530864,
          58.9873417721519,
          60.6770833333333,
          44.0347071583514,
          65,
          56,
          68.1818181818182,
          58.5972850678733,
          52.317880794702,
          54.2168674698795,
          44.7761194029851,
          52.9411764705882,
          66.6666666666667,
          89.4736842105263,
          54.8387096774194,
          41.6601024025207,
          33.3817126269956,
          46.6666666666667,
          52.1387283236994,
          47.6190476190476,
          55.4455445544555,
          64.3835616438356,
          60.9756097560976,
          48.3870967741936,
          50.6666666666667,
          57.8947368421053,
          58.252427184466,
          63.3333333333333,
          65.5172413793103,
          50.3787878787879,
          51.5527950310559,
          54.7267996530789,
          53.551912568306
         ],
         "xaxis": "x",
         "y": [
          "Estatal",
          "Aconchi",
          "Agua Prieta",
          "Alamos",
          "Altar",
          "Arivechi",
          "Arizpe",
          "Atil",
          "Bacadéhuachi",
          "Bacanora",
          "Bacerac",
          "Bacoachi",
          "Bácum",
          "Banámichi",
          "Baviácora",
          "Bavispe",
          "Benjamín Hill",
          "Caborca",
          "Cajeme",
          "Cananea",
          "Carbó",
          "La Colorada",
          "Cucurpe",
          "Cumpas",
          "Divisaderos",
          "Empalme",
          "Etchojoa",
          "Fronteras",
          "Granados",
          "Guaymas",
          "Hermosillo",
          "Huachinera",
          "Huásabas",
          "Huatabampo",
          "Huépac",
          "Imuris",
          "Magdalena",
          "Mazatán",
          "Moctezuma",
          "Naco",
          "Nácori Chico",
          "Nacozari de García",
          "Navojoa",
          "Nogales",
          "Onavas",
          "Opodepe",
          "Oquitoa",
          "Pitiquito",
          "Puerto Peñasco",
          "Quiriego",
          "Rayón",
          "Rosario",
          "Sahuaripa",
          "San Felipe de Jesús",
          "San Javier",
          "San Luis Río Colorado",
          "San Miguel de Horcasitas",
          "San Pedro de la Cueva",
          "Santa Ana",
          "Santa Cruz",
          "Sáric",
          "Soyopa",
          "Suaqui Grande",
          "Tepache",
          "Trincheras",
          "Tubutama",
          "Ures",
          "Villa Hidalgo",
          "Villa Pesqueira",
          "Yécora",
          "General Plutarco Elías Calles",
          "Benito Juárez",
          "San Ignacio Río Muerto"
         ],
         "yaxis": "y"
        }
       ],
       "layout": {
        "barmode": "group",
        "height": 1280,
        "legend": {
         "title": {
          "text": "variable"
         },
         "tracegroupgap": 0
        },
        "margin": {
         "t": 60
        },
        "template": {
         "data": {
          "bar": [
           {
            "error_x": {
             "color": "#2a3f5f"
            },
            "error_y": {
             "color": "#2a3f5f"
            },
            "marker": {
             "line": {
              "color": "#E5ECF6",
              "width": 0.5
             },
             "pattern": {
              "fillmode": "overlay",
              "size": 10,
              "solidity": 0.2
             }
            },
            "type": "bar"
           }
          ],
          "barpolar": [
           {
            "marker": {
             "line": {
              "color": "#E5ECF6",
              "width": 0.5
             },
             "pattern": {
              "fillmode": "overlay",
              "size": 10,
              "solidity": 0.2
             }
            },
            "type": "barpolar"
           }
          ],
          "carpet": [
           {
            "aaxis": {
             "endlinecolor": "#2a3f5f",
             "gridcolor": "white",
             "linecolor": "white",
             "minorgridcolor": "white",
             "startlinecolor": "#2a3f5f"
            },
            "baxis": {
             "endlinecolor": "#2a3f5f",
             "gridcolor": "white",
             "linecolor": "white",
             "minorgridcolor": "white",
             "startlinecolor": "#2a3f5f"
            },
            "type": "carpet"
           }
          ],
          "choropleth": [
           {
            "colorbar": {
             "outlinewidth": 0,
             "ticks": ""
            },
            "type": "choropleth"
           }
          ],
          "contour": [
           {
            "colorbar": {
             "outlinewidth": 0,
             "ticks": ""
            },
            "colorscale": [
             [
              0,
              "#0d0887"
             ],
             [
              0.1111111111111111,
              "#46039f"
             ],
             [
              0.2222222222222222,
              "#7201a8"
             ],
             [
              0.3333333333333333,
              "#9c179e"
             ],
             [
              0.4444444444444444,
              "#bd3786"
             ],
             [
              0.5555555555555556,
              "#d8576b"
             ],
             [
              0.6666666666666666,
              "#ed7953"
             ],
             [
              0.7777777777777778,
              "#fb9f3a"
             ],
             [
              0.8888888888888888,
              "#fdca26"
             ],
             [
              1,
              "#f0f921"
             ]
            ],
            "type": "contour"
           }
          ],
          "contourcarpet": [
           {
            "colorbar": {
             "outlinewidth": 0,
             "ticks": ""
            },
            "type": "contourcarpet"
           }
          ],
          "heatmap": [
           {
            "colorbar": {
             "outlinewidth": 0,
             "ticks": ""
            },
            "colorscale": [
             [
              0,
              "#0d0887"
             ],
             [
              0.1111111111111111,
              "#46039f"
             ],
             [
              0.2222222222222222,
              "#7201a8"
             ],
             [
              0.3333333333333333,
              "#9c179e"
             ],
             [
              0.4444444444444444,
              "#bd3786"
             ],
             [
              0.5555555555555556,
              "#d8576b"
             ],
             [
              0.6666666666666666,
              "#ed7953"
             ],
             [
              0.7777777777777778,
              "#fb9f3a"
             ],
             [
              0.8888888888888888,
              "#fdca26"
             ],
             [
              1,
              "#f0f921"
             ]
            ],
            "type": "heatmap"
           }
          ],
          "heatmapgl": [
           {
            "colorbar": {
             "outlinewidth": 0,
             "ticks": ""
            },
            "colorscale": [
             [
              0,
              "#0d0887"
             ],
             [
              0.1111111111111111,
              "#46039f"
             ],
             [
              0.2222222222222222,
              "#7201a8"
             ],
             [
              0.3333333333333333,
              "#9c179e"
             ],
             [
              0.4444444444444444,
              "#bd3786"
             ],
             [
              0.5555555555555556,
              "#d8576b"
             ],
             [
              0.6666666666666666,
              "#ed7953"
             ],
             [
              0.7777777777777778,
              "#fb9f3a"
             ],
             [
              0.8888888888888888,
              "#fdca26"
             ],
             [
              1,
              "#f0f921"
             ]
            ],
            "type": "heatmapgl"
           }
          ],
          "histogram": [
           {
            "marker": {
             "pattern": {
              "fillmode": "overlay",
              "size": 10,
              "solidity": 0.2
             }
            },
            "type": "histogram"
           }
          ],
          "histogram2d": [
           {
            "colorbar": {
             "outlinewidth": 0,
             "ticks": ""
            },
            "colorscale": [
             [
              0,
              "#0d0887"
             ],
             [
              0.1111111111111111,
              "#46039f"
             ],
             [
              0.2222222222222222,
              "#7201a8"
             ],
             [
              0.3333333333333333,
              "#9c179e"
             ],
             [
              0.4444444444444444,
              "#bd3786"
             ],
             [
              0.5555555555555556,
              "#d8576b"
             ],
             [
              0.6666666666666666,
              "#ed7953"
             ],
             [
              0.7777777777777778,
              "#fb9f3a"
             ],
             [
              0.8888888888888888,
              "#fdca26"
             ],
             [
              1,
              "#f0f921"
             ]
            ],
            "type": "histogram2d"
           }
          ],
          "histogram2dcontour": [
           {
            "colorbar": {
             "outlinewidth": 0,
             "ticks": ""
            },
            "colorscale": [
             [
              0,
              "#0d0887"
             ],
             [
              0.1111111111111111,
              "#46039f"
             ],
             [
              0.2222222222222222,
              "#7201a8"
             ],
             [
              0.3333333333333333,
              "#9c179e"
             ],
             [
              0.4444444444444444,
              "#bd3786"
             ],
             [
              0.5555555555555556,
              "#d8576b"
             ],
             [
              0.6666666666666666,
              "#ed7953"
             ],
             [
              0.7777777777777778,
              "#fb9f3a"
             ],
             [
              0.8888888888888888,
              "#fdca26"
             ],
             [
              1,
              "#f0f921"
             ]
            ],
            "type": "histogram2dcontour"
           }
          ],
          "mesh3d": [
           {
            "colorbar": {
             "outlinewidth": 0,
             "ticks": ""
            },
            "type": "mesh3d"
           }
          ],
          "parcoords": [
           {
            "line": {
             "colorbar": {
              "outlinewidth": 0,
              "ticks": ""
             }
            },
            "type": "parcoords"
           }
          ],
          "pie": [
           {
            "automargin": true,
            "type": "pie"
           }
          ],
          "scatter": [
           {
            "fillpattern": {
             "fillmode": "overlay",
             "size": 10,
             "solidity": 0.2
            },
            "type": "scatter"
           }
          ],
          "scatter3d": [
           {
            "line": {
             "colorbar": {
              "outlinewidth": 0,
              "ticks": ""
             }
            },
            "marker": {
             "colorbar": {
              "outlinewidth": 0,
              "ticks": ""
             }
            },
            "type": "scatter3d"
           }
          ],
          "scattercarpet": [
           {
            "marker": {
             "colorbar": {
              "outlinewidth": 0,
              "ticks": ""
             }
            },
            "type": "scattercarpet"
           }
          ],
          "scattergeo": [
           {
            "marker": {
             "colorbar": {
              "outlinewidth": 0,
              "ticks": ""
             }
            },
            "type": "scattergeo"
           }
          ],
          "scattergl": [
           {
            "marker": {
             "colorbar": {
              "outlinewidth": 0,
              "ticks": ""
             }
            },
            "type": "scattergl"
           }
          ],
          "scattermapbox": [
           {
            "marker": {
             "colorbar": {
              "outlinewidth": 0,
              "ticks": ""
             }
            },
            "type": "scattermapbox"
           }
          ],
          "scatterpolar": [
           {
            "marker": {
             "colorbar": {
              "outlinewidth": 0,
              "ticks": ""
             }
            },
            "type": "scatterpolar"
           }
          ],
          "scatterpolargl": [
           {
            "marker": {
             "colorbar": {
              "outlinewidth": 0,
              "ticks": ""
             }
            },
            "type": "scatterpolargl"
           }
          ],
          "scatterternary": [
           {
            "marker": {
             "colorbar": {
              "outlinewidth": 0,
              "ticks": ""
             }
            },
            "type": "scatterternary"
           }
          ],
          "surface": [
           {
            "colorbar": {
             "outlinewidth": 0,
             "ticks": ""
            },
            "colorscale": [
             [
              0,
              "#0d0887"
             ],
             [
              0.1111111111111111,
              "#46039f"
             ],
             [
              0.2222222222222222,
              "#7201a8"
             ],
             [
              0.3333333333333333,
              "#9c179e"
             ],
             [
              0.4444444444444444,
              "#bd3786"
             ],
             [
              0.5555555555555556,
              "#d8576b"
             ],
             [
              0.6666666666666666,
              "#ed7953"
             ],
             [
              0.7777777777777778,
              "#fb9f3a"
             ],
             [
              0.8888888888888888,
              "#fdca26"
             ],
             [
              1,
              "#f0f921"
             ]
            ],
            "type": "surface"
           }
          ],
          "table": [
           {
            "cells": {
             "fill": {
              "color": "#EBF0F8"
             },
             "line": {
              "color": "white"
             }
            },
            "header": {
             "fill": {
              "color": "#C8D4E3"
             },
             "line": {
              "color": "white"
             }
            },
            "type": "table"
           }
          ]
         },
         "layout": {
          "annotationdefaults": {
           "arrowcolor": "#2a3f5f",
           "arrowhead": 0,
           "arrowwidth": 1
          },
          "autotypenumbers": "strict",
          "coloraxis": {
           "colorbar": {
            "outlinewidth": 0,
            "ticks": ""
           }
          },
          "colorscale": {
           "diverging": [
            [
             0,
             "#8e0152"
            ],
            [
             0.1,
             "#c51b7d"
            ],
            [
             0.2,
             "#de77ae"
            ],
            [
             0.3,
             "#f1b6da"
            ],
            [
             0.4,
             "#fde0ef"
            ],
            [
             0.5,
             "#f7f7f7"
            ],
            [
             0.6,
             "#e6f5d0"
            ],
            [
             0.7,
             "#b8e186"
            ],
            [
             0.8,
             "#7fbc41"
            ],
            [
             0.9,
             "#4d9221"
            ],
            [
             1,
             "#276419"
            ]
           ],
           "sequential": [
            [
             0,
             "#0d0887"
            ],
            [
             0.1111111111111111,
             "#46039f"
            ],
            [
             0.2222222222222222,
             "#7201a8"
            ],
            [
             0.3333333333333333,
             "#9c179e"
            ],
            [
             0.4444444444444444,
             "#bd3786"
            ],
            [
             0.5555555555555556,
             "#d8576b"
            ],
            [
             0.6666666666666666,
             "#ed7953"
            ],
            [
             0.7777777777777778,
             "#fb9f3a"
            ],
            [
             0.8888888888888888,
             "#fdca26"
            ],
            [
             1,
             "#f0f921"
            ]
           ],
           "sequentialminus": [
            [
             0,
             "#0d0887"
            ],
            [
             0.1111111111111111,
             "#46039f"
            ],
            [
             0.2222222222222222,
             "#7201a8"
            ],
            [
             0.3333333333333333,
             "#9c179e"
            ],
            [
             0.4444444444444444,
             "#bd3786"
            ],
            [
             0.5555555555555556,
             "#d8576b"
            ],
            [
             0.6666666666666666,
             "#ed7953"
            ],
            [
             0.7777777777777778,
             "#fb9f3a"
            ],
            [
             0.8888888888888888,
             "#fdca26"
            ],
            [
             1,
             "#f0f921"
            ]
           ]
          },
          "colorway": [
           "#636efa",
           "#EF553B",
           "#00cc96",
           "#ab63fa",
           "#FFA15A",
           "#19d3f3",
           "#FF6692",
           "#B6E880",
           "#FF97FF",
           "#FECB52"
          ],
          "font": {
           "color": "#2a3f5f"
          },
          "geo": {
           "bgcolor": "white",
           "lakecolor": "white",
           "landcolor": "#E5ECF6",
           "showlakes": true,
           "showland": true,
           "subunitcolor": "white"
          },
          "hoverlabel": {
           "align": "left"
          },
          "hovermode": "closest",
          "mapbox": {
           "style": "light"
          },
          "paper_bgcolor": "white",
          "plot_bgcolor": "#E5ECF6",
          "polar": {
           "angularaxis": {
            "gridcolor": "white",
            "linecolor": "white",
            "ticks": ""
           },
           "bgcolor": "#E5ECF6",
           "radialaxis": {
            "gridcolor": "white",
            "linecolor": "white",
            "ticks": ""
           }
          },
          "scene": {
           "xaxis": {
            "backgroundcolor": "#E5ECF6",
            "gridcolor": "white",
            "gridwidth": 2,
            "linecolor": "white",
            "showbackground": true,
            "ticks": "",
            "zerolinecolor": "white"
           },
           "yaxis": {
            "backgroundcolor": "#E5ECF6",
            "gridcolor": "white",
            "gridwidth": 2,
            "linecolor": "white",
            "showbackground": true,
            "ticks": "",
            "zerolinecolor": "white"
           },
           "zaxis": {
            "backgroundcolor": "#E5ECF6",
            "gridcolor": "white",
            "gridwidth": 2,
            "linecolor": "white",
            "showbackground": true,
            "ticks": "",
            "zerolinecolor": "white"
           }
          },
          "shapedefaults": {
           "line": {
            "color": "#2a3f5f"
           }
          },
          "ternary": {
           "aaxis": {
            "gridcolor": "white",
            "linecolor": "white",
            "ticks": ""
           },
           "baxis": {
            "gridcolor": "white",
            "linecolor": "white",
            "ticks": ""
           },
           "bgcolor": "#E5ECF6",
           "caxis": {
            "gridcolor": "white",
            "linecolor": "white",
            "ticks": ""
           }
          },
          "title": {
           "x": 0.05
          },
          "xaxis": {
           "automargin": true,
           "gridcolor": "white",
           "linecolor": "white",
           "ticks": "",
           "title": {
            "standoff": 15
           },
           "zerolinecolor": "white",
           "zerolinewidth": 2
          },
          "yaxis": {
           "automargin": true,
           "gridcolor": "white",
           "linecolor": "white",
           "ticks": "",
           "title": {
            "standoff": 15
           },
           "zerolinecolor": "white",
           "zerolinewidth": 2
          }
         }
        },
        "width": 800,
        "xaxis": {
         "anchor": "y",
         "domain": [
          0,
          1
         ],
         "title": {
          "text": "porcentaje"
         }
        },
        "yaxis": {
         "anchor": "x",
         "domain": [
          0,
          1
         ],
         "title": {
          "text": "desc_municipio"
         }
        }
       }
      }
     },
     "metadata": {},
     "output_type": "display_data"
    }
   ],
   "source": [
    "dff['variable'] = dff['variable'].astype('category')\n",
    "fig = px.bar(dff, y=\"desc_municipio\", x=\"porcentaje\", color='variable',barmode='group',orientation='h',\n",
    "            labels={'nivel_escolaridad':'Escolaridad'},  width=800, height=1280)\n",
    "fig.show()"
   ]
  },
  {
   "cell_type": "code",
   "execution_count": null,
   "metadata": {},
   "outputs": [
    {
     "data": {
      "text/plain": [
       "['Huásabas', 'Villa Pesqueira', 'Oquitoa', 'Aconchi', 'Onavas']"
      ]
     },
     "execution_count": 42,
     "metadata": {},
     "output_type": "execute_result"
    }
   ],
   "source": [
    "top_10"
   ]
  },
  {
   "cell_type": "code",
   "execution_count": null,
   "metadata": {},
   "outputs": [
    {
     "name": "stdout",
     "output_type": "stream",
     "text": [
      "Aconchi\n",
      "Huásabas\n",
      "Onavas\n",
      "Oquitoa\n",
      "Villa Pesqueira\n",
      "Aconchi\n",
      "Huásabas\n",
      "Onavas\n",
      "Oquitoa\n",
      "Villa Pesqueira\n"
     ]
    }
   ],
   "source": [
    "for i in dff[dff['desc_municipio'].isin(top_10)]['desc_municipio']:\n",
    "    print(i)"
   ]
  },
  {
   "cell_type": "code",
   "execution_count": 75,
   "metadata": {},
   "outputs": [
    {
     "data": {
      "application/vnd.plotly.v1+json": {
       "config": {
        "plotlyServerURL": "https://plot.ly"
       },
       "data": [
        {
         "type": "scatter"
        },
        {
         "mode": "lines+markers+text",
         "text": [
          "Huásabas",
          "Huásabas"
         ],
         "textposition": [
          "middle left",
          "middle right"
         ],
         "type": "scatter",
         "x": [
          2015,
          2020
         ],
         "y": [
          44.827586,
          78.9473684210526
         ]
        },
        {
         "mode": "lines+markers+text",
         "text": [
          "Oquitoa",
          "Oquitoa"
         ],
         "textposition": [
          "middle left",
          "middle right"
         ],
         "type": "scatter",
         "x": [
          2015,
          2020
         ],
         "y": [
          43.75,
          68.1818181818182
         ]
        },
        {
         "mode": "lines+markers+text",
         "text": [
          "Villa Pesqueira",
          "Villa Pesqueira"
         ],
         "textposition": [
          "middle left",
          "middle right"
         ],
         "type": "scatter",
         "x": [
          2015,
          2020
         ],
         "y": [
          36.363636,
          65.5172413793103
         ]
        },
        {
         "mode": "lines+markers+text",
         "text": [
          "Huásabas",
          "Huásabas"
         ],
         "textposition": [
          "middle left",
          "middle right"
         ],
         "type": "scatter",
         "x": [
          2015,
          2020
         ],
         "y": [
          44.827586,
          78.9473684210526
         ]
        },
        {
         "mode": "lines+markers+text",
         "text": [
          "Oquitoa",
          "Oquitoa"
         ],
         "textposition": [
          "middle left",
          "middle right"
         ],
         "type": "scatter",
         "x": [
          2015,
          2020
         ],
         "y": [
          43.75,
          68.1818181818182
         ]
        },
        {
         "mode": "lines+markers+text",
         "text": [
          "Villa Pesqueira",
          "Villa Pesqueira"
         ],
         "textposition": [
          "middle left",
          "middle right"
         ],
         "type": "scatter",
         "x": [
          2015,
          2020
         ],
         "y": [
          36.363636,
          65.5172413793103
         ]
        },
        {
         "mode": "lines+markers+text",
         "text": [
          "Cucurpe",
          "Cucurpe"
         ],
         "textposition": [
          "middle left",
          "middle right"
         ],
         "type": "scatter",
         "x": [
          2015,
          2020
         ],
         "y": [
          55.813953,
          54.0540540540541
         ]
        },
        {
         "mode": "lines+markers+text",
         "text": [
          "Divisaderos",
          "Divisaderos"
         ],
         "textposition": [
          "middle left",
          "middle right"
         ],
         "type": "scatter",
         "x": [
          2015,
          2020
         ],
         "y": [
          74.285714,
          42.8571428571429
         ]
        },
        {
         "mode": "lines+markers+text",
         "text": [
          "Granados",
          "Granados"
         ],
         "textposition": [
          "middle left",
          "middle right"
         ],
         "type": "scatter",
         "x": [
          2015,
          2020
         ],
         "y": [
          75.438596,
          52.7777777777778
         ]
        },
        {
         "mode": "lines+markers+text",
         "text": [
          "Cucurpe",
          "Cucurpe"
         ],
         "textposition": [
          "middle left",
          "middle right"
         ],
         "type": "scatter",
         "x": [
          2015,
          2020
         ],
         "y": [
          55.813953,
          54.0540540540541
         ]
        },
        {
         "mode": "lines+markers+text",
         "text": [
          "Divisaderos",
          "Divisaderos"
         ],
         "textposition": [
          "middle left",
          "middle right"
         ],
         "type": "scatter",
         "x": [
          2015,
          2020
         ],
         "y": [
          74.285714,
          42.8571428571429
         ]
        },
        {
         "mode": "lines+markers+text",
         "text": [
          "Granados",
          "Granados"
         ],
         "textposition": [
          "middle left",
          "middle right"
         ],
         "type": "scatter",
         "x": [
          2015,
          2020
         ],
         "y": [
          75.438596,
          52.7777777777778
         ]
        },
        {
         "line": {
          "width": 8
         },
         "mode": "lines+markers+text",
         "text": [
          "Estatal",
          "Estatal"
         ],
         "textposition": [
          "middle left",
          "middle right"
         ],
         "type": "scatter",
         "x": [
          2015,
          2020
         ],
         "y": [
          53.37735,
          53.9292401419669
         ]
        },
        {
         "line": {
          "width": 8
         },
         "mode": "lines+markers+text",
         "text": [
          "Estatal",
          "Estatal"
         ],
         "textposition": [
          "middle left",
          "middle right"
         ],
         "type": "scatter",
         "x": [
          2015,
          2020
         ],
         "y": [
          53.37735,
          53.9292401419669
         ]
        },
        {
         "hovertext": "Estatal",
         "mode": "lines+markers+text",
         "opacity": 0.2,
         "text": [],
         "textposition": [
          "middle left",
          "middle right"
         ],
         "type": "scatter",
         "x": [
          2015,
          2020
         ],
         "y": [
          53.37735,
          53.9292401419669
         ]
        },
        {
         "hovertext": "Aconchi",
         "mode": "lines+markers+text",
         "opacity": 0.2,
         "text": [],
         "textposition": [
          "middle left",
          "middle right"
         ],
         "type": "scatter",
         "x": [
          2015,
          2020
         ],
         "y": [
          56.617647,
          78.448275862069
         ]
        },
        {
         "hovertext": "Agua Prieta",
         "mode": "lines+markers+text",
         "opacity": 0.2,
         "text": [],
         "textposition": [
          "middle left",
          "middle right"
         ],
         "type": "scatter",
         "x": [
          2015,
          2020
         ],
         "y": [
          46.522782,
          47.0068300522298
         ]
        },
        {
         "hovertext": "Alamos",
         "mode": "lines+markers+text",
         "opacity": 0.2,
         "text": [],
         "textposition": [
          "middle left",
          "middle right"
         ],
         "type": "scatter",
         "x": [
          2015,
          2020
         ],
         "y": [
          64.163569,
          66.9524551831645
         ]
        },
        {
         "hovertext": "Altar",
         "mode": "lines+markers+text",
         "opacity": 0.2,
         "text": [],
         "textposition": [
          "middle left",
          "middle right"
         ],
         "type": "scatter",
         "x": [
          2015,
          2020
         ],
         "y": [
          54.973822,
          60.2251407129456
         ]
        },
        {
         "hovertext": "Arivechi",
         "mode": "lines+markers+text",
         "opacity": 0.2,
         "text": [],
         "textposition": [
          "middle left",
          "middle right"
         ],
         "type": "scatter",
         "x": [
          2015,
          2020
         ],
         "y": [
          43.636364,
          56.25
         ]
        },
        {
         "hovertext": "Arizpe",
         "mode": "lines+markers+text",
         "opacity": 0.2,
         "text": [],
         "textposition": [
          "middle left",
          "middle right"
         ],
         "type": "scatter",
         "x": [
          2015,
          2020
         ],
         "y": [
          52.8,
          64.0776699029126
         ]
        },
        {
         "hovertext": "Atil",
         "mode": "lines+markers+text",
         "opacity": 0.2,
         "text": [],
         "textposition": [
          "middle left",
          "middle right"
         ],
         "type": "scatter",
         "x": [
          2015,
          2020
         ],
         "y": [
          70.588235,
          56
         ]
        },
        {
         "hovertext": "Bacadéhuachi",
         "mode": "lines+markers+text",
         "opacity": 0.2,
         "text": [],
         "textposition": [
          "middle left",
          "middle right"
         ],
         "type": "scatter",
         "x": [
          2015,
          2020
         ],
         "y": [
          52,
          60
         ]
        },
        {
         "hovertext": "Bacanora",
         "mode": "lines+markers+text",
         "opacity": 0.2,
         "text": [],
         "textposition": [
          "middle left",
          "middle right"
         ],
         "type": "scatter",
         "x": [
          2015,
          2020
         ],
         "y": [
          46.875,
          62.1621621621622
         ]
        },
        {
         "hovertext": "Bacerac",
         "mode": "lines+markers+text",
         "opacity": 0.2,
         "text": [],
         "textposition": [
          "middle left",
          "middle right"
         ],
         "type": "scatter",
         "x": [
          2015,
          2020
         ],
         "y": [
          48.275862,
          57.9710144927536
         ]
        },
        {
         "hovertext": "Bacoachi",
         "mode": "lines+markers+text",
         "opacity": 0.2,
         "text": [],
         "textposition": [
          "middle left",
          "middle right"
         ],
         "type": "scatter",
         "x": [
          2015,
          2020
         ],
         "y": [
          51.351351,
          60.3174603174603
         ]
        },
        {
         "hovertext": "Bácum",
         "mode": "lines+markers+text",
         "opacity": 0.2,
         "text": [],
         "textposition": [
          "middle left",
          "middle right"
         ],
         "type": "scatter",
         "x": [
          2015,
          2020
         ],
         "y": [
          55.984252,
          50.2712477396022
         ]
        },
        {
         "hovertext": "Banámichi",
         "mode": "lines+markers+text",
         "opacity": 0.2,
         "text": [],
         "textposition": [
          "middle left",
          "middle right"
         ],
         "type": "scatter",
         "x": [
          2015,
          2020
         ],
         "y": [
          74.647887,
          64.7727272727273
         ]
        },
        {
         "hovertext": "Baviácora",
         "mode": "lines+markers+text",
         "opacity": 0.2,
         "text": [],
         "textposition": [
          "middle left",
          "middle right"
         ],
         "type": "scatter",
         "x": [
          2015,
          2020
         ],
         "y": [
          67.114094,
          68.2170542635659
         ]
        },
        {
         "hovertext": "Bavispe",
         "mode": "lines+markers+text",
         "opacity": 0.2,
         "text": [],
         "textposition": [
          "middle left",
          "middle right"
         ],
         "type": "scatter",
         "x": [
          2015,
          2020
         ],
         "y": [
          38.888889,
          53.3333333333333
         ]
        },
        {
         "hovertext": "Benjamín Hill",
         "mode": "lines+markers+text",
         "opacity": 0.2,
         "text": [],
         "textposition": [
          "middle left",
          "middle right"
         ],
         "type": "scatter",
         "x": [
          2015,
          2020
         ],
         "y": [
          56.31769,
          50.965250965251
         ]
        },
        {
         "hovertext": "Caborca",
         "mode": "lines+markers+text",
         "opacity": 0.2,
         "text": [],
         "textposition": [
          "middle left",
          "middle right"
         ],
         "type": "scatter",
         "x": [
          2015,
          2020
         ],
         "y": [
          53.458517,
          53.7791932059448
         ]
        },
        {
         "hovertext": "Cajeme",
         "mode": "lines+markers+text",
         "opacity": 0.2,
         "text": [],
         "textposition": [
          "middle left",
          "middle right"
         ],
         "type": "scatter",
         "x": [
          2015,
          2020
         ],
         "y": [
          53.470645,
          55.0693263233854
         ]
        },
        {
         "hovertext": "Cananea",
         "mode": "lines+markers+text",
         "opacity": 0.2,
         "text": [],
         "textposition": [
          "middle left",
          "middle right"
         ],
         "type": "scatter",
         "x": [
          2015,
          2020
         ],
         "y": [
          53.934263,
          56.6901408450704
         ]
        },
        {
         "hovertext": "Carbó",
         "mode": "lines+markers+text",
         "opacity": 0.2,
         "text": [],
         "textposition": [
          "middle left",
          "middle right"
         ],
         "type": "scatter",
         "x": [
          2015,
          2020
         ],
         "y": [
          53.024911,
          47.65625
         ]
        },
        {
         "hovertext": "La Colorada",
         "mode": "lines+markers+text",
         "opacity": 0.2,
         "text": [],
         "textposition": [
          "middle left",
          "middle right"
         ],
         "type": "scatter",
         "x": [
          2015,
          2020
         ],
         "y": [
          50,
          50
         ]
        },
        {
         "hovertext": "Cucurpe",
         "mode": "lines+markers+text",
         "opacity": 0.2,
         "text": [],
         "textposition": [
          "middle left",
          "middle right"
         ],
         "type": "scatter",
         "x": [
          2015,
          2020
         ],
         "y": [
          55.813953,
          54.0540540540541
         ]
        },
        {
         "hovertext": "Cumpas",
         "mode": "lines+markers+text",
         "opacity": 0.2,
         "text": [],
         "textposition": [
          "middle left",
          "middle right"
         ],
         "type": "scatter",
         "x": [
          2015,
          2020
         ],
         "y": [
          63.475177,
          63.4854771784232
         ]
        },
        {
         "hovertext": "Divisaderos",
         "mode": "lines+markers+text",
         "opacity": 0.2,
         "text": [],
         "textposition": [
          "middle left",
          "middle right"
         ],
         "type": "scatter",
         "x": [
          2015,
          2020
         ],
         "y": [
          74.285714,
          42.8571428571429
         ]
        },
        {
         "hovertext": "Empalme",
         "mode": "lines+markers+text",
         "opacity": 0.2,
         "text": [],
         "textposition": [
          "middle left",
          "middle right"
         ],
         "type": "scatter",
         "x": [
          2015,
          2020
         ],
         "y": [
          47.800886,
          45.7026927333087
         ]
        },
        {
         "hovertext": "Etchojoa",
         "mode": "lines+markers+text",
         "opacity": 0.2,
         "text": [],
         "textposition": [
          "middle left",
          "middle right"
         ],
         "type": "scatter",
         "x": [
          2015,
          2020
         ],
         "y": [
          64.912281,
          67.4758895909544
         ]
        },
        {
         "hovertext": "Fronteras",
         "mode": "lines+markers+text",
         "opacity": 0.2,
         "text": [],
         "textposition": [
          "middle left",
          "middle right"
         ],
         "type": "scatter",
         "x": [
          2015,
          2020
         ],
         "y": [
          61.460102,
          57.089552238806
         ]
        },
        {
         "hovertext": "Granados",
         "mode": "lines+markers+text",
         "opacity": 0.2,
         "text": [],
         "textposition": [
          "middle left",
          "middle right"
         ],
         "type": "scatter",
         "x": [
          2015,
          2020
         ],
         "y": [
          75.438596,
          52.7777777777778
         ]
        },
        {
         "hovertext": "Guaymas",
         "mode": "lines+markers+text",
         "opacity": 0.2,
         "text": [],
         "textposition": [
          "middle left",
          "middle right"
         ],
         "type": "scatter",
         "x": [
          2015,
          2020
         ],
         "y": [
          57.070156,
          54.9432325551728
         ]
        },
        {
         "hovertext": "Hermosillo",
         "mode": "lines+markers+text",
         "opacity": 0.2,
         "text": [],
         "textposition": [
          "middle left",
          "middle right"
         ],
         "type": "scatter",
         "x": [
          2015,
          2020
         ],
         "y": [
          55.961628,
          56.9686172399616
         ]
        },
        {
         "hovertext": "Huachinera",
         "mode": "lines+markers+text",
         "opacity": 0.2,
         "text": [],
         "textposition": [
          "middle left",
          "middle right"
         ],
         "type": "scatter",
         "x": [
          2015,
          2020
         ],
         "y": [
          61.702128,
          58.9285714285714
         ]
        },
        {
         "hovertext": "Huásabas",
         "mode": "lines+markers+text",
         "opacity": 0.2,
         "text": [],
         "textposition": [
          "middle left",
          "middle right"
         ],
         "type": "scatter",
         "x": [
          2015,
          2020
         ],
         "y": [
          44.827586,
          78.9473684210526
         ]
        },
        {
         "hovertext": "Huatabampo",
         "mode": "lines+markers+text",
         "opacity": 0.2,
         "text": [],
         "textposition": [
          "middle left",
          "middle right"
         ],
         "type": "scatter",
         "x": [
          2015,
          2020
         ],
         "y": [
          70.391477,
          68.9530685920578
         ]
        },
        {
         "hovertext": "Huépac",
         "mode": "lines+markers+text",
         "opacity": 0.2,
         "text": [],
         "textposition": [
          "middle left",
          "middle right"
         ],
         "type": "scatter",
         "x": [
          2015,
          2020
         ],
         "y": [
          67.741935,
          80.4878048780488
         ]
        },
        {
         "hovertext": "Imuris",
         "mode": "lines+markers+text",
         "opacity": 0.2,
         "text": [],
         "textposition": [
          "middle left",
          "middle right"
         ],
         "type": "scatter",
         "x": [
          2015,
          2020
         ],
         "y": [
          47.341115,
          47.4285714285714
         ]
        },
        {
         "hovertext": "Magdalena",
         "mode": "lines+markers+text",
         "opacity": 0.2,
         "text": [],
         "textposition": [
          "middle left",
          "middle right"
         ],
         "type": "scatter",
         "x": [
          2015,
          2020
         ],
         "y": [
          51.978736,
          48.953488372093
         ]
        },
        {
         "hovertext": "Mazatán",
         "mode": "lines+markers+text",
         "opacity": 0.2,
         "text": [],
         "textposition": [
          "middle left",
          "middle right"
         ],
         "type": "scatter",
         "x": [
          2015,
          2020
         ],
         "y": [
          61.538462,
          51.4285714285714
         ]
        },
        {
         "hovertext": "Moctezuma",
         "mode": "lines+markers+text",
         "opacity": 0.2,
         "text": [],
         "textposition": [
          "middle left",
          "middle right"
         ],
         "type": "scatter",
         "x": [
          2015,
          2020
         ],
         "y": [
          55.686275,
          64.2156862745098
         ]
        },
        {
         "hovertext": "Naco",
         "mode": "lines+markers+text",
         "opacity": 0.2,
         "text": [],
         "textposition": [
          "middle left",
          "middle right"
         ],
         "type": "scatter",
         "x": [
          2015,
          2020
         ],
         "y": [
          52.941176,
          47.9411764705882
         ]
        },
        {
         "hovertext": "Nácori Chico",
         "mode": "lines+markers+text",
         "opacity": 0.2,
         "text": [],
         "textposition": [
          "middle left",
          "middle right"
         ],
         "type": "scatter",
         "x": [
          2015,
          2020
         ],
         "y": [
          59.047619,
          53.0864197530864
         ]
        },
        {
         "hovertext": "Nacozari de García",
         "mode": "lines+markers+text",
         "opacity": 0.2,
         "text": [],
         "textposition": [
          "middle left",
          "middle right"
         ],
         "type": "scatter",
         "x": [
          2015,
          2020
         ],
         "y": [
          59.085439,
          58.9873417721519
         ]
        },
        {
         "hovertext": "Navojoa",
         "mode": "lines+markers+text",
         "opacity": 0.2,
         "text": [],
         "textposition": [
          "middle left",
          "middle right"
         ],
         "type": "scatter",
         "x": [
          2015,
          2020
         ],
         "y": [
          60.184747,
          60.6770833333333
         ]
        },
        {
         "hovertext": "Nogales",
         "mode": "lines+markers+text",
         "opacity": 0.2,
         "text": [],
         "textposition": [
          "middle left",
          "middle right"
         ],
         "type": "scatter",
         "x": [
          2015,
          2020
         ],
         "y": [
          44.989324,
          44.0347071583514
         ]
        },
        {
         "hovertext": "Onavas",
         "mode": "lines+markers+text",
         "opacity": 0.2,
         "text": [],
         "textposition": [
          "middle left",
          "middle right"
         ],
         "type": "scatter",
         "x": [
          2015,
          2020
         ],
         "y": [
          45.454545,
          65
         ]
        },
        {
         "hovertext": "Opodepe",
         "mode": "lines+markers+text",
         "opacity": 0.2,
         "text": [],
         "textposition": [
          "middle left",
          "middle right"
         ],
         "type": "scatter",
         "x": [
          2015,
          2020
         ],
         "y": [
          62.411348,
          56
         ]
        },
        {
         "hovertext": "Oquitoa",
         "mode": "lines+markers+text",
         "opacity": 0.2,
         "text": [],
         "textposition": [
          "middle left",
          "middle right"
         ],
         "type": "scatter",
         "x": [
          2015,
          2020
         ],
         "y": [
          43.75,
          68.1818181818182
         ]
        },
        {
         "hovertext": "Pitiquito",
         "mode": "lines+markers+text",
         "opacity": 0.2,
         "text": [],
         "textposition": [
          "middle left",
          "middle right"
         ],
         "type": "scatter",
         "x": [
          2015,
          2020
         ],
         "y": [
          56.646217,
          58.5972850678733
         ]
        },
        {
         "hovertext": "Puerto Peñasco",
         "mode": "lines+markers+text",
         "opacity": 0.2,
         "text": [],
         "textposition": [
          "middle left",
          "middle right"
         ],
         "type": "scatter",
         "x": [
          2015,
          2020
         ],
         "y": [
          49.098196,
          52.317880794702
         ]
        },
        {
         "hovertext": "Quiriego",
         "mode": "lines+markers+text",
         "opacity": 0.2,
         "text": [],
         "textposition": [
          "middle left",
          "middle right"
         ],
         "type": "scatter",
         "x": [
          2015,
          2020
         ],
         "y": [
          57.931034,
          54.2168674698795
         ]
        },
        {
         "hovertext": "Rayón",
         "mode": "lines+markers+text",
         "opacity": 0.2,
         "text": [],
         "textposition": [
          "middle left",
          "middle right"
         ],
         "type": "scatter",
         "x": [
          2015,
          2020
         ],
         "y": [
          56.338028,
          44.7761194029851
         ]
        },
        {
         "hovertext": "Rosario",
         "mode": "lines+markers+text",
         "opacity": 0.2,
         "text": [],
         "textposition": [
          "middle left",
          "middle right"
         ],
         "type": "scatter",
         "x": [
          2015,
          2020
         ],
         "y": [
          57.400722,
          52.9411764705882
         ]
        },
        {
         "hovertext": "Sahuaripa",
         "mode": "lines+markers+text",
         "opacity": 0.2,
         "text": [],
         "textposition": [
          "middle left",
          "middle right"
         ],
         "type": "scatter",
         "x": [
          2015,
          2020
         ],
         "y": [
          54.909091,
          66.6666666666667
         ]
        },
        {
         "hovertext": "San Felipe de Jesús",
         "mode": "lines+markers+text",
         "opacity": 0.2,
         "text": [],
         "textposition": [
          "middle left",
          "middle right"
         ],
         "type": "scatter",
         "x": [
          2015,
          2020
         ],
         "y": [
          86.956522,
          89.4736842105263
         ]
        },
        {
         "hovertext": "San Javier",
         "mode": "lines+markers+text",
         "opacity": 0.2,
         "text": [],
         "textposition": [
          "middle left",
          "middle right"
         ],
         "type": "scatter",
         "x": [
          2015,
          2020
         ],
         "y": [
          48.780488,
          54.8387096774194
         ]
        },
        {
         "hovertext": "San Luis Río Colorado",
         "mode": "lines+markers+text",
         "opacity": 0.2,
         "text": [],
         "textposition": [
          "middle left",
          "middle right"
         ],
         "type": "scatter",
         "x": [
          2015,
          2020
         ],
         "y": [
          42.492218,
          41.6601024025207
         ]
        },
        {
         "hovertext": "San Miguel de Horcasitas",
         "mode": "lines+markers+text",
         "opacity": 0.2,
         "text": [],
         "textposition": [
          "middle left",
          "middle right"
         ],
         "type": "scatter",
         "x": [
          2015,
          2020
         ],
         "y": [
          32.300163,
          33.3817126269956
         ]
        },
        {
         "hovertext": "San Pedro de la Cueva",
         "mode": "lines+markers+text",
         "opacity": 0.2,
         "text": [],
         "textposition": [
          "middle left",
          "middle right"
         ],
         "type": "scatter",
         "x": [
          2015,
          2020
         ],
         "y": [
          64,
          46.6666666666667
         ]
        },
        {
         "hovertext": "Santa Ana",
         "mode": "lines+markers+text",
         "opacity": 0.2,
         "text": [],
         "textposition": [
          "middle left",
          "middle right"
         ],
         "type": "scatter",
         "x": [
          2015,
          2020
         ],
         "y": [
          55.782313,
          52.1387283236994
         ]
        },
        {
         "hovertext": "Santa Cruz",
         "mode": "lines+markers+text",
         "opacity": 0.2,
         "text": [],
         "textposition": [
          "middle left",
          "middle right"
         ],
         "type": "scatter",
         "x": [
          2015,
          2020
         ],
         "y": [
          53.030303,
          47.6190476190476
         ]
        },
        {
         "hovertext": "Sáric",
         "mode": "lines+markers+text",
         "opacity": 0.2,
         "text": [],
         "textposition": [
          "middle left",
          "middle right"
         ],
         "type": "scatter",
         "x": [
          2015,
          2020
         ],
         "y": [
          63.44086,
          55.4455445544555
         ]
        },
        {
         "hovertext": "Soyopa",
         "mode": "lines+markers+text",
         "opacity": 0.2,
         "text": [],
         "textposition": [
          "middle left",
          "middle right"
         ],
         "type": "scatter",
         "x": [
          2015,
          2020
         ],
         "y": [
          61.403509,
          64.3835616438356
         ]
        },
        {
         "hovertext": "Suaqui Grande",
         "mode": "lines+markers+text",
         "opacity": 0.2,
         "text": [],
         "textposition": [
          "middle left",
          "middle right"
         ],
         "type": "scatter",
         "x": [
          2015,
          2020
         ],
         "y": [
          62.903226,
          60.9756097560976
         ]
        },
        {
         "hovertext": "Tepache",
         "mode": "lines+markers+text",
         "opacity": 0.2,
         "text": [],
         "textposition": [
          "middle left",
          "middle right"
         ],
         "type": "scatter",
         "x": [
          2015,
          2020
         ],
         "y": [
          63.265306,
          48.3870967741936
         ]
        },
        {
         "hovertext": "Trincheras",
         "mode": "lines+markers+text",
         "opacity": 0.2,
         "text": [],
         "textposition": [
          "middle left",
          "middle right"
         ],
         "type": "scatter",
         "x": [
          2015,
          2020
         ],
         "y": [
          52.380952,
          50.6666666666667
         ]
        },
        {
         "hovertext": "Tubutama",
         "mode": "lines+markers+text",
         "opacity": 0.2,
         "text": [],
         "textposition": [
          "middle left",
          "middle right"
         ],
         "type": "scatter",
         "x": [
          2015,
          2020
         ],
         "y": [
          69.444444,
          57.8947368421053
         ]
        },
        {
         "hovertext": "Ures",
         "mode": "lines+markers+text",
         "opacity": 0.2,
         "text": [],
         "textposition": [
          "middle left",
          "middle right"
         ],
         "type": "scatter",
         "x": [
          2015,
          2020
         ],
         "y": [
          57.101449,
          58.252427184466
         ]
        },
        {
         "hovertext": "Villa Hidalgo",
         "mode": "lines+markers+text",
         "opacity": 0.2,
         "text": [],
         "textposition": [
          "middle left",
          "middle right"
         ],
         "type": "scatter",
         "x": [
          2015,
          2020
         ],
         "y": [
          64.473684,
          63.3333333333333
         ]
        },
        {
         "hovertext": "Villa Pesqueira",
         "mode": "lines+markers+text",
         "opacity": 0.2,
         "text": [],
         "textposition": [
          "middle left",
          "middle right"
         ],
         "type": "scatter",
         "x": [
          2015,
          2020
         ],
         "y": [
          36.363636,
          65.5172413793103
         ]
        },
        {
         "hovertext": "Yécora",
         "mode": "lines+markers+text",
         "opacity": 0.2,
         "text": [],
         "textposition": [
          "middle left",
          "middle right"
         ],
         "type": "scatter",
         "x": [
          2015,
          2020
         ],
         "y": [
          51.875,
          50.3787878787879
         ]
        },
        {
         "hovertext": "Benito Juárez",
         "mode": "lines+markers+text",
         "opacity": 0.2,
         "text": [],
         "textposition": [
          "middle left",
          "middle right"
         ],
         "type": "scatter",
         "x": [
          2015,
          2020
         ],
         "y": [
          56.238185,
          54.7267996530789
         ]
        },
        {
         "hovertext": "San Ignacio Río Muerto",
         "mode": "lines+markers+text",
         "opacity": 0.2,
         "text": [],
         "textposition": [
          "middle left",
          "middle right"
         ],
         "type": "scatter",
         "x": [
          2015,
          2020
         ],
         "y": [
          59.370904,
          53.551912568306
         ]
        },
        {
         "hovertext": "Estatal",
         "mode": "lines+markers+text",
         "opacity": 0.2,
         "text": [],
         "textposition": [
          "middle left",
          "middle right"
         ],
         "type": "scatter",
         "x": [
          2015,
          2020
         ],
         "y": [
          53.37735,
          53.9292401419669
         ]
        },
        {
         "hovertext": "Aconchi",
         "mode": "lines+markers+text",
         "opacity": 0.2,
         "text": [],
         "textposition": [
          "middle left",
          "middle right"
         ],
         "type": "scatter",
         "x": [
          2015,
          2020
         ],
         "y": [
          56.617647,
          78.448275862069
         ]
        },
        {
         "hovertext": "Agua Prieta",
         "mode": "lines+markers+text",
         "opacity": 0.2,
         "text": [],
         "textposition": [
          "middle left",
          "middle right"
         ],
         "type": "scatter",
         "x": [
          2015,
          2020
         ],
         "y": [
          46.522782,
          47.0068300522298
         ]
        },
        {
         "hovertext": "Alamos",
         "mode": "lines+markers+text",
         "opacity": 0.2,
         "text": [],
         "textposition": [
          "middle left",
          "middle right"
         ],
         "type": "scatter",
         "x": [
          2015,
          2020
         ],
         "y": [
          64.163569,
          66.9524551831645
         ]
        },
        {
         "hovertext": "Altar",
         "mode": "lines+markers+text",
         "opacity": 0.2,
         "text": [],
         "textposition": [
          "middle left",
          "middle right"
         ],
         "type": "scatter",
         "x": [
          2015,
          2020
         ],
         "y": [
          54.973822,
          60.2251407129456
         ]
        },
        {
         "hovertext": "Arivechi",
         "mode": "lines+markers+text",
         "opacity": 0.2,
         "text": [],
         "textposition": [
          "middle left",
          "middle right"
         ],
         "type": "scatter",
         "x": [
          2015,
          2020
         ],
         "y": [
          43.636364,
          56.25
         ]
        },
        {
         "hovertext": "Arizpe",
         "mode": "lines+markers+text",
         "opacity": 0.2,
         "text": [],
         "textposition": [
          "middle left",
          "middle right"
         ],
         "type": "scatter",
         "x": [
          2015,
          2020
         ],
         "y": [
          52.8,
          64.0776699029126
         ]
        },
        {
         "hovertext": "Atil",
         "mode": "lines+markers+text",
         "opacity": 0.2,
         "text": [],
         "textposition": [
          "middle left",
          "middle right"
         ],
         "type": "scatter",
         "x": [
          2015,
          2020
         ],
         "y": [
          70.588235,
          56
         ]
        },
        {
         "hovertext": "Bacadéhuachi",
         "mode": "lines+markers+text",
         "opacity": 0.2,
         "text": [],
         "textposition": [
          "middle left",
          "middle right"
         ],
         "type": "scatter",
         "x": [
          2015,
          2020
         ],
         "y": [
          52,
          60
         ]
        },
        {
         "hovertext": "Bacanora",
         "mode": "lines+markers+text",
         "opacity": 0.2,
         "text": [],
         "textposition": [
          "middle left",
          "middle right"
         ],
         "type": "scatter",
         "x": [
          2015,
          2020
         ],
         "y": [
          46.875,
          62.1621621621622
         ]
        },
        {
         "hovertext": "Bacerac",
         "mode": "lines+markers+text",
         "opacity": 0.2,
         "text": [],
         "textposition": [
          "middle left",
          "middle right"
         ],
         "type": "scatter",
         "x": [
          2015,
          2020
         ],
         "y": [
          48.275862,
          57.9710144927536
         ]
        },
        {
         "hovertext": "Bacoachi",
         "mode": "lines+markers+text",
         "opacity": 0.2,
         "text": [],
         "textposition": [
          "middle left",
          "middle right"
         ],
         "type": "scatter",
         "x": [
          2015,
          2020
         ],
         "y": [
          51.351351,
          60.3174603174603
         ]
        },
        {
         "hovertext": "Bácum",
         "mode": "lines+markers+text",
         "opacity": 0.2,
         "text": [],
         "textposition": [
          "middle left",
          "middle right"
         ],
         "type": "scatter",
         "x": [
          2015,
          2020
         ],
         "y": [
          55.984252,
          50.2712477396022
         ]
        },
        {
         "hovertext": "Banámichi",
         "mode": "lines+markers+text",
         "opacity": 0.2,
         "text": [],
         "textposition": [
          "middle left",
          "middle right"
         ],
         "type": "scatter",
         "x": [
          2015,
          2020
         ],
         "y": [
          74.647887,
          64.7727272727273
         ]
        },
        {
         "hovertext": "Baviácora",
         "mode": "lines+markers+text",
         "opacity": 0.2,
         "text": [],
         "textposition": [
          "middle left",
          "middle right"
         ],
         "type": "scatter",
         "x": [
          2015,
          2020
         ],
         "y": [
          67.114094,
          68.2170542635659
         ]
        },
        {
         "hovertext": "Bavispe",
         "mode": "lines+markers+text",
         "opacity": 0.2,
         "text": [],
         "textposition": [
          "middle left",
          "middle right"
         ],
         "type": "scatter",
         "x": [
          2015,
          2020
         ],
         "y": [
          38.888889,
          53.3333333333333
         ]
        },
        {
         "hovertext": "Benjamín Hill",
         "mode": "lines+markers+text",
         "opacity": 0.2,
         "text": [],
         "textposition": [
          "middle left",
          "middle right"
         ],
         "type": "scatter",
         "x": [
          2015,
          2020
         ],
         "y": [
          56.31769,
          50.965250965251
         ]
        },
        {
         "hovertext": "Caborca",
         "mode": "lines+markers+text",
         "opacity": 0.2,
         "text": [],
         "textposition": [
          "middle left",
          "middle right"
         ],
         "type": "scatter",
         "x": [
          2015,
          2020
         ],
         "y": [
          53.458517,
          53.7791932059448
         ]
        },
        {
         "hovertext": "Cajeme",
         "mode": "lines+markers+text",
         "opacity": 0.2,
         "text": [],
         "textposition": [
          "middle left",
          "middle right"
         ],
         "type": "scatter",
         "x": [
          2015,
          2020
         ],
         "y": [
          53.470645,
          55.0693263233854
         ]
        },
        {
         "hovertext": "Cananea",
         "mode": "lines+markers+text",
         "opacity": 0.2,
         "text": [],
         "textposition": [
          "middle left",
          "middle right"
         ],
         "type": "scatter",
         "x": [
          2015,
          2020
         ],
         "y": [
          53.934263,
          56.6901408450704
         ]
        },
        {
         "hovertext": "Carbó",
         "mode": "lines+markers+text",
         "opacity": 0.2,
         "text": [],
         "textposition": [
          "middle left",
          "middle right"
         ],
         "type": "scatter",
         "x": [
          2015,
          2020
         ],
         "y": [
          53.024911,
          47.65625
         ]
        },
        {
         "hovertext": "La Colorada",
         "mode": "lines+markers+text",
         "opacity": 0.2,
         "text": [],
         "textposition": [
          "middle left",
          "middle right"
         ],
         "type": "scatter",
         "x": [
          2015,
          2020
         ],
         "y": [
          50,
          50
         ]
        },
        {
         "hovertext": "Cucurpe",
         "mode": "lines+markers+text",
         "opacity": 0.2,
         "text": [],
         "textposition": [
          "middle left",
          "middle right"
         ],
         "type": "scatter",
         "x": [
          2015,
          2020
         ],
         "y": [
          55.813953,
          54.0540540540541
         ]
        },
        {
         "hovertext": "Cumpas",
         "mode": "lines+markers+text",
         "opacity": 0.2,
         "text": [],
         "textposition": [
          "middle left",
          "middle right"
         ],
         "type": "scatter",
         "x": [
          2015,
          2020
         ],
         "y": [
          63.475177,
          63.4854771784232
         ]
        },
        {
         "hovertext": "Divisaderos",
         "mode": "lines+markers+text",
         "opacity": 0.2,
         "text": [],
         "textposition": [
          "middle left",
          "middle right"
         ],
         "type": "scatter",
         "x": [
          2015,
          2020
         ],
         "y": [
          74.285714,
          42.8571428571429
         ]
        },
        {
         "hovertext": "Empalme",
         "mode": "lines+markers+text",
         "opacity": 0.2,
         "text": [],
         "textposition": [
          "middle left",
          "middle right"
         ],
         "type": "scatter",
         "x": [
          2015,
          2020
         ],
         "y": [
          47.800886,
          45.7026927333087
         ]
        },
        {
         "hovertext": "Etchojoa",
         "mode": "lines+markers+text",
         "opacity": 0.2,
         "text": [],
         "textposition": [
          "middle left",
          "middle right"
         ],
         "type": "scatter",
         "x": [
          2015,
          2020
         ],
         "y": [
          64.912281,
          67.4758895909544
         ]
        },
        {
         "hovertext": "Fronteras",
         "mode": "lines+markers+text",
         "opacity": 0.2,
         "text": [],
         "textposition": [
          "middle left",
          "middle right"
         ],
         "type": "scatter",
         "x": [
          2015,
          2020
         ],
         "y": [
          61.460102,
          57.089552238806
         ]
        },
        {
         "hovertext": "Granados",
         "mode": "lines+markers+text",
         "opacity": 0.2,
         "text": [],
         "textposition": [
          "middle left",
          "middle right"
         ],
         "type": "scatter",
         "x": [
          2015,
          2020
         ],
         "y": [
          75.438596,
          52.7777777777778
         ]
        },
        {
         "hovertext": "Guaymas",
         "mode": "lines+markers+text",
         "opacity": 0.2,
         "text": [],
         "textposition": [
          "middle left",
          "middle right"
         ],
         "type": "scatter",
         "x": [
          2015,
          2020
         ],
         "y": [
          57.070156,
          54.9432325551728
         ]
        },
        {
         "hovertext": "Hermosillo",
         "mode": "lines+markers+text",
         "opacity": 0.2,
         "text": [],
         "textposition": [
          "middle left",
          "middle right"
         ],
         "type": "scatter",
         "x": [
          2015,
          2020
         ],
         "y": [
          55.961628,
          56.9686172399616
         ]
        },
        {
         "hovertext": "Huachinera",
         "mode": "lines+markers+text",
         "opacity": 0.2,
         "text": [],
         "textposition": [
          "middle left",
          "middle right"
         ],
         "type": "scatter",
         "x": [
          2015,
          2020
         ],
         "y": [
          61.702128,
          58.9285714285714
         ]
        },
        {
         "hovertext": "Huásabas",
         "mode": "lines+markers+text",
         "opacity": 0.2,
         "text": [],
         "textposition": [
          "middle left",
          "middle right"
         ],
         "type": "scatter",
         "x": [
          2015,
          2020
         ],
         "y": [
          44.827586,
          78.9473684210526
         ]
        },
        {
         "hovertext": "Huatabampo",
         "mode": "lines+markers+text",
         "opacity": 0.2,
         "text": [],
         "textposition": [
          "middle left",
          "middle right"
         ],
         "type": "scatter",
         "x": [
          2015,
          2020
         ],
         "y": [
          70.391477,
          68.9530685920578
         ]
        },
        {
         "hovertext": "Huépac",
         "mode": "lines+markers+text",
         "opacity": 0.2,
         "text": [],
         "textposition": [
          "middle left",
          "middle right"
         ],
         "type": "scatter",
         "x": [
          2015,
          2020
         ],
         "y": [
          67.741935,
          80.4878048780488
         ]
        },
        {
         "hovertext": "Imuris",
         "mode": "lines+markers+text",
         "opacity": 0.2,
         "text": [],
         "textposition": [
          "middle left",
          "middle right"
         ],
         "type": "scatter",
         "x": [
          2015,
          2020
         ],
         "y": [
          47.341115,
          47.4285714285714
         ]
        },
        {
         "hovertext": "Magdalena",
         "mode": "lines+markers+text",
         "opacity": 0.2,
         "text": [],
         "textposition": [
          "middle left",
          "middle right"
         ],
         "type": "scatter",
         "x": [
          2015,
          2020
         ],
         "y": [
          51.978736,
          48.953488372093
         ]
        },
        {
         "hovertext": "Mazatán",
         "mode": "lines+markers+text",
         "opacity": 0.2,
         "text": [],
         "textposition": [
          "middle left",
          "middle right"
         ],
         "type": "scatter",
         "x": [
          2015,
          2020
         ],
         "y": [
          61.538462,
          51.4285714285714
         ]
        },
        {
         "hovertext": "Moctezuma",
         "mode": "lines+markers+text",
         "opacity": 0.2,
         "text": [],
         "textposition": [
          "middle left",
          "middle right"
         ],
         "type": "scatter",
         "x": [
          2015,
          2020
         ],
         "y": [
          55.686275,
          64.2156862745098
         ]
        },
        {
         "hovertext": "Naco",
         "mode": "lines+markers+text",
         "opacity": 0.2,
         "text": [],
         "textposition": [
          "middle left",
          "middle right"
         ],
         "type": "scatter",
         "x": [
          2015,
          2020
         ],
         "y": [
          52.941176,
          47.9411764705882
         ]
        },
        {
         "hovertext": "Nácori Chico",
         "mode": "lines+markers+text",
         "opacity": 0.2,
         "text": [],
         "textposition": [
          "middle left",
          "middle right"
         ],
         "type": "scatter",
         "x": [
          2015,
          2020
         ],
         "y": [
          59.047619,
          53.0864197530864
         ]
        },
        {
         "hovertext": "Nacozari de García",
         "mode": "lines+markers+text",
         "opacity": 0.2,
         "text": [],
         "textposition": [
          "middle left",
          "middle right"
         ],
         "type": "scatter",
         "x": [
          2015,
          2020
         ],
         "y": [
          59.085439,
          58.9873417721519
         ]
        },
        {
         "hovertext": "Navojoa",
         "mode": "lines+markers+text",
         "opacity": 0.2,
         "text": [],
         "textposition": [
          "middle left",
          "middle right"
         ],
         "type": "scatter",
         "x": [
          2015,
          2020
         ],
         "y": [
          60.184747,
          60.6770833333333
         ]
        },
        {
         "hovertext": "Nogales",
         "mode": "lines+markers+text",
         "opacity": 0.2,
         "text": [],
         "textposition": [
          "middle left",
          "middle right"
         ],
         "type": "scatter",
         "x": [
          2015,
          2020
         ],
         "y": [
          44.989324,
          44.0347071583514
         ]
        },
        {
         "hovertext": "Onavas",
         "mode": "lines+markers+text",
         "opacity": 0.2,
         "text": [],
         "textposition": [
          "middle left",
          "middle right"
         ],
         "type": "scatter",
         "x": [
          2015,
          2020
         ],
         "y": [
          45.454545,
          65
         ]
        },
        {
         "hovertext": "Opodepe",
         "mode": "lines+markers+text",
         "opacity": 0.2,
         "text": [],
         "textposition": [
          "middle left",
          "middle right"
         ],
         "type": "scatter",
         "x": [
          2015,
          2020
         ],
         "y": [
          62.411348,
          56
         ]
        },
        {
         "hovertext": "Oquitoa",
         "mode": "lines+markers+text",
         "opacity": 0.2,
         "text": [],
         "textposition": [
          "middle left",
          "middle right"
         ],
         "type": "scatter",
         "x": [
          2015,
          2020
         ],
         "y": [
          43.75,
          68.1818181818182
         ]
        },
        {
         "hovertext": "Pitiquito",
         "mode": "lines+markers+text",
         "opacity": 0.2,
         "text": [],
         "textposition": [
          "middle left",
          "middle right"
         ],
         "type": "scatter",
         "x": [
          2015,
          2020
         ],
         "y": [
          56.646217,
          58.5972850678733
         ]
        },
        {
         "hovertext": "Puerto Peñasco",
         "mode": "lines+markers+text",
         "opacity": 0.2,
         "text": [],
         "textposition": [
          "middle left",
          "middle right"
         ],
         "type": "scatter",
         "x": [
          2015,
          2020
         ],
         "y": [
          49.098196,
          52.317880794702
         ]
        },
        {
         "hovertext": "Quiriego",
         "mode": "lines+markers+text",
         "opacity": 0.2,
         "text": [],
         "textposition": [
          "middle left",
          "middle right"
         ],
         "type": "scatter",
         "x": [
          2015,
          2020
         ],
         "y": [
          57.931034,
          54.2168674698795
         ]
        },
        {
         "hovertext": "Rayón",
         "mode": "lines+markers+text",
         "opacity": 0.2,
         "text": [],
         "textposition": [
          "middle left",
          "middle right"
         ],
         "type": "scatter",
         "x": [
          2015,
          2020
         ],
         "y": [
          56.338028,
          44.7761194029851
         ]
        },
        {
         "hovertext": "Rosario",
         "mode": "lines+markers+text",
         "opacity": 0.2,
         "text": [],
         "textposition": [
          "middle left",
          "middle right"
         ],
         "type": "scatter",
         "x": [
          2015,
          2020
         ],
         "y": [
          57.400722,
          52.9411764705882
         ]
        },
        {
         "hovertext": "Sahuaripa",
         "mode": "lines+markers+text",
         "opacity": 0.2,
         "text": [],
         "textposition": [
          "middle left",
          "middle right"
         ],
         "type": "scatter",
         "x": [
          2015,
          2020
         ],
         "y": [
          54.909091,
          66.6666666666667
         ]
        },
        {
         "hovertext": "San Felipe de Jesús",
         "mode": "lines+markers+text",
         "opacity": 0.2,
         "text": [],
         "textposition": [
          "middle left",
          "middle right"
         ],
         "type": "scatter",
         "x": [
          2015,
          2020
         ],
         "y": [
          86.956522,
          89.4736842105263
         ]
        },
        {
         "hovertext": "San Javier",
         "mode": "lines+markers+text",
         "opacity": 0.2,
         "text": [],
         "textposition": [
          "middle left",
          "middle right"
         ],
         "type": "scatter",
         "x": [
          2015,
          2020
         ],
         "y": [
          48.780488,
          54.8387096774194
         ]
        },
        {
         "hovertext": "San Luis Río Colorado",
         "mode": "lines+markers+text",
         "opacity": 0.2,
         "text": [],
         "textposition": [
          "middle left",
          "middle right"
         ],
         "type": "scatter",
         "x": [
          2015,
          2020
         ],
         "y": [
          42.492218,
          41.6601024025207
         ]
        },
        {
         "hovertext": "San Miguel de Horcasitas",
         "mode": "lines+markers+text",
         "opacity": 0.2,
         "text": [],
         "textposition": [
          "middle left",
          "middle right"
         ],
         "type": "scatter",
         "x": [
          2015,
          2020
         ],
         "y": [
          32.300163,
          33.3817126269956
         ]
        },
        {
         "hovertext": "San Pedro de la Cueva",
         "mode": "lines+markers+text",
         "opacity": 0.2,
         "text": [],
         "textposition": [
          "middle left",
          "middle right"
         ],
         "type": "scatter",
         "x": [
          2015,
          2020
         ],
         "y": [
          64,
          46.6666666666667
         ]
        },
        {
         "hovertext": "Santa Ana",
         "mode": "lines+markers+text",
         "opacity": 0.2,
         "text": [],
         "textposition": [
          "middle left",
          "middle right"
         ],
         "type": "scatter",
         "x": [
          2015,
          2020
         ],
         "y": [
          55.782313,
          52.1387283236994
         ]
        },
        {
         "hovertext": "Santa Cruz",
         "mode": "lines+markers+text",
         "opacity": 0.2,
         "text": [],
         "textposition": [
          "middle left",
          "middle right"
         ],
         "type": "scatter",
         "x": [
          2015,
          2020
         ],
         "y": [
          53.030303,
          47.6190476190476
         ]
        },
        {
         "hovertext": "Sáric",
         "mode": "lines+markers+text",
         "opacity": 0.2,
         "text": [],
         "textposition": [
          "middle left",
          "middle right"
         ],
         "type": "scatter",
         "x": [
          2015,
          2020
         ],
         "y": [
          63.44086,
          55.4455445544555
         ]
        },
        {
         "hovertext": "Soyopa",
         "mode": "lines+markers+text",
         "opacity": 0.2,
         "text": [],
         "textposition": [
          "middle left",
          "middle right"
         ],
         "type": "scatter",
         "x": [
          2015,
          2020
         ],
         "y": [
          61.403509,
          64.3835616438356
         ]
        },
        {
         "hovertext": "Suaqui Grande",
         "mode": "lines+markers+text",
         "opacity": 0.2,
         "text": [],
         "textposition": [
          "middle left",
          "middle right"
         ],
         "type": "scatter",
         "x": [
          2015,
          2020
         ],
         "y": [
          62.903226,
          60.9756097560976
         ]
        },
        {
         "hovertext": "Tepache",
         "mode": "lines+markers+text",
         "opacity": 0.2,
         "text": [],
         "textposition": [
          "middle left",
          "middle right"
         ],
         "type": "scatter",
         "x": [
          2015,
          2020
         ],
         "y": [
          63.265306,
          48.3870967741936
         ]
        },
        {
         "hovertext": "Trincheras",
         "mode": "lines+markers+text",
         "opacity": 0.2,
         "text": [],
         "textposition": [
          "middle left",
          "middle right"
         ],
         "type": "scatter",
         "x": [
          2015,
          2020
         ],
         "y": [
          52.380952,
          50.6666666666667
         ]
        },
        {
         "hovertext": "Tubutama",
         "mode": "lines+markers+text",
         "opacity": 0.2,
         "text": [],
         "textposition": [
          "middle left",
          "middle right"
         ],
         "type": "scatter",
         "x": [
          2015,
          2020
         ],
         "y": [
          69.444444,
          57.8947368421053
         ]
        },
        {
         "hovertext": "Ures",
         "mode": "lines+markers+text",
         "opacity": 0.2,
         "text": [],
         "textposition": [
          "middle left",
          "middle right"
         ],
         "type": "scatter",
         "x": [
          2015,
          2020
         ],
         "y": [
          57.101449,
          58.252427184466
         ]
        },
        {
         "hovertext": "Villa Hidalgo",
         "mode": "lines+markers+text",
         "opacity": 0.2,
         "text": [],
         "textposition": [
          "middle left",
          "middle right"
         ],
         "type": "scatter",
         "x": [
          2015,
          2020
         ],
         "y": [
          64.473684,
          63.3333333333333
         ]
        },
        {
         "hovertext": "Villa Pesqueira",
         "mode": "lines+markers+text",
         "opacity": 0.2,
         "text": [],
         "textposition": [
          "middle left",
          "middle right"
         ],
         "type": "scatter",
         "x": [
          2015,
          2020
         ],
         "y": [
          36.363636,
          65.5172413793103
         ]
        },
        {
         "hovertext": "Yécora",
         "mode": "lines+markers+text",
         "opacity": 0.2,
         "text": [],
         "textposition": [
          "middle left",
          "middle right"
         ],
         "type": "scatter",
         "x": [
          2015,
          2020
         ],
         "y": [
          51.875,
          50.3787878787879
         ]
        },
        {
         "hovertext": "Benito Juárez",
         "mode": "lines+markers+text",
         "opacity": 0.2,
         "text": [],
         "textposition": [
          "middle left",
          "middle right"
         ],
         "type": "scatter",
         "x": [
          2015,
          2020
         ],
         "y": [
          56.238185,
          54.7267996530789
         ]
        },
        {
         "hovertext": "San Ignacio Río Muerto",
         "mode": "lines+markers+text",
         "opacity": 0.2,
         "text": [],
         "textposition": [
          "middle left",
          "middle right"
         ],
         "type": "scatter",
         "x": [
          2015,
          2020
         ],
         "y": [
          59.370904,
          53.551912568306
         ]
        }
       ],
       "layout": {
        "autosize": false,
        "height": 1500,
        "paper_bgcolor": "rgba(255,255,255, 0.9)",
        "plot_bgcolor": "rgba(255,255,255, 0.9)",
        "shapes": [
         {
          "type": "line",
          "x0": 2015,
          "x1": 2015,
          "xref": "x",
          "y0": 0,
          "y1": 1,
          "yref": "paper"
         },
         {
          "type": "line",
          "x0": 2020,
          "x1": 2020,
          "xref": "x",
          "y0": 0,
          "y1": 1,
          "yref": "paper"
         }
        ],
        "showlegend": false,
        "template": {
         "data": {
          "bar": [
           {
            "error_x": {
             "color": "#2a3f5f"
            },
            "error_y": {
             "color": "#2a3f5f"
            },
            "marker": {
             "line": {
              "color": "#E5ECF6",
              "width": 0.5
             },
             "pattern": {
              "fillmode": "overlay",
              "size": 10,
              "solidity": 0.2
             }
            },
            "type": "bar"
           }
          ],
          "barpolar": [
           {
            "marker": {
             "line": {
              "color": "#E5ECF6",
              "width": 0.5
             },
             "pattern": {
              "fillmode": "overlay",
              "size": 10,
              "solidity": 0.2
             }
            },
            "type": "barpolar"
           }
          ],
          "carpet": [
           {
            "aaxis": {
             "endlinecolor": "#2a3f5f",
             "gridcolor": "white",
             "linecolor": "white",
             "minorgridcolor": "white",
             "startlinecolor": "#2a3f5f"
            },
            "baxis": {
             "endlinecolor": "#2a3f5f",
             "gridcolor": "white",
             "linecolor": "white",
             "minorgridcolor": "white",
             "startlinecolor": "#2a3f5f"
            },
            "type": "carpet"
           }
          ],
          "choropleth": [
           {
            "colorbar": {
             "outlinewidth": 0,
             "ticks": ""
            },
            "type": "choropleth"
           }
          ],
          "contour": [
           {
            "colorbar": {
             "outlinewidth": 0,
             "ticks": ""
            },
            "colorscale": [
             [
              0,
              "#0d0887"
             ],
             [
              0.1111111111111111,
              "#46039f"
             ],
             [
              0.2222222222222222,
              "#7201a8"
             ],
             [
              0.3333333333333333,
              "#9c179e"
             ],
             [
              0.4444444444444444,
              "#bd3786"
             ],
             [
              0.5555555555555556,
              "#d8576b"
             ],
             [
              0.6666666666666666,
              "#ed7953"
             ],
             [
              0.7777777777777778,
              "#fb9f3a"
             ],
             [
              0.8888888888888888,
              "#fdca26"
             ],
             [
              1,
              "#f0f921"
             ]
            ],
            "type": "contour"
           }
          ],
          "contourcarpet": [
           {
            "colorbar": {
             "outlinewidth": 0,
             "ticks": ""
            },
            "type": "contourcarpet"
           }
          ],
          "heatmap": [
           {
            "colorbar": {
             "outlinewidth": 0,
             "ticks": ""
            },
            "colorscale": [
             [
              0,
              "#0d0887"
             ],
             [
              0.1111111111111111,
              "#46039f"
             ],
             [
              0.2222222222222222,
              "#7201a8"
             ],
             [
              0.3333333333333333,
              "#9c179e"
             ],
             [
              0.4444444444444444,
              "#bd3786"
             ],
             [
              0.5555555555555556,
              "#d8576b"
             ],
             [
              0.6666666666666666,
              "#ed7953"
             ],
             [
              0.7777777777777778,
              "#fb9f3a"
             ],
             [
              0.8888888888888888,
              "#fdca26"
             ],
             [
              1,
              "#f0f921"
             ]
            ],
            "type": "heatmap"
           }
          ],
          "heatmapgl": [
           {
            "colorbar": {
             "outlinewidth": 0,
             "ticks": ""
            },
            "colorscale": [
             [
              0,
              "#0d0887"
             ],
             [
              0.1111111111111111,
              "#46039f"
             ],
             [
              0.2222222222222222,
              "#7201a8"
             ],
             [
              0.3333333333333333,
              "#9c179e"
             ],
             [
              0.4444444444444444,
              "#bd3786"
             ],
             [
              0.5555555555555556,
              "#d8576b"
             ],
             [
              0.6666666666666666,
              "#ed7953"
             ],
             [
              0.7777777777777778,
              "#fb9f3a"
             ],
             [
              0.8888888888888888,
              "#fdca26"
             ],
             [
              1,
              "#f0f921"
             ]
            ],
            "type": "heatmapgl"
           }
          ],
          "histogram": [
           {
            "marker": {
             "pattern": {
              "fillmode": "overlay",
              "size": 10,
              "solidity": 0.2
             }
            },
            "type": "histogram"
           }
          ],
          "histogram2d": [
           {
            "colorbar": {
             "outlinewidth": 0,
             "ticks": ""
            },
            "colorscale": [
             [
              0,
              "#0d0887"
             ],
             [
              0.1111111111111111,
              "#46039f"
             ],
             [
              0.2222222222222222,
              "#7201a8"
             ],
             [
              0.3333333333333333,
              "#9c179e"
             ],
             [
              0.4444444444444444,
              "#bd3786"
             ],
             [
              0.5555555555555556,
              "#d8576b"
             ],
             [
              0.6666666666666666,
              "#ed7953"
             ],
             [
              0.7777777777777778,
              "#fb9f3a"
             ],
             [
              0.8888888888888888,
              "#fdca26"
             ],
             [
              1,
              "#f0f921"
             ]
            ],
            "type": "histogram2d"
           }
          ],
          "histogram2dcontour": [
           {
            "colorbar": {
             "outlinewidth": 0,
             "ticks": ""
            },
            "colorscale": [
             [
              0,
              "#0d0887"
             ],
             [
              0.1111111111111111,
              "#46039f"
             ],
             [
              0.2222222222222222,
              "#7201a8"
             ],
             [
              0.3333333333333333,
              "#9c179e"
             ],
             [
              0.4444444444444444,
              "#bd3786"
             ],
             [
              0.5555555555555556,
              "#d8576b"
             ],
             [
              0.6666666666666666,
              "#ed7953"
             ],
             [
              0.7777777777777778,
              "#fb9f3a"
             ],
             [
              0.8888888888888888,
              "#fdca26"
             ],
             [
              1,
              "#f0f921"
             ]
            ],
            "type": "histogram2dcontour"
           }
          ],
          "mesh3d": [
           {
            "colorbar": {
             "outlinewidth": 0,
             "ticks": ""
            },
            "type": "mesh3d"
           }
          ],
          "parcoords": [
           {
            "line": {
             "colorbar": {
              "outlinewidth": 0,
              "ticks": ""
             }
            },
            "type": "parcoords"
           }
          ],
          "pie": [
           {
            "automargin": true,
            "type": "pie"
           }
          ],
          "scatter": [
           {
            "fillpattern": {
             "fillmode": "overlay",
             "size": 10,
             "solidity": 0.2
            },
            "type": "scatter"
           }
          ],
          "scatter3d": [
           {
            "line": {
             "colorbar": {
              "outlinewidth": 0,
              "ticks": ""
             }
            },
            "marker": {
             "colorbar": {
              "outlinewidth": 0,
              "ticks": ""
             }
            },
            "type": "scatter3d"
           }
          ],
          "scattercarpet": [
           {
            "marker": {
             "colorbar": {
              "outlinewidth": 0,
              "ticks": ""
             }
            },
            "type": "scattercarpet"
           }
          ],
          "scattergeo": [
           {
            "marker": {
             "colorbar": {
              "outlinewidth": 0,
              "ticks": ""
             }
            },
            "type": "scattergeo"
           }
          ],
          "scattergl": [
           {
            "marker": {
             "colorbar": {
              "outlinewidth": 0,
              "ticks": ""
             }
            },
            "type": "scattergl"
           }
          ],
          "scattermapbox": [
           {
            "marker": {
             "colorbar": {
              "outlinewidth": 0,
              "ticks": ""
             }
            },
            "type": "scattermapbox"
           }
          ],
          "scatterpolar": [
           {
            "marker": {
             "colorbar": {
              "outlinewidth": 0,
              "ticks": ""
             }
            },
            "type": "scatterpolar"
           }
          ],
          "scatterpolargl": [
           {
            "marker": {
             "colorbar": {
              "outlinewidth": 0,
              "ticks": ""
             }
            },
            "type": "scatterpolargl"
           }
          ],
          "scatterternary": [
           {
            "marker": {
             "colorbar": {
              "outlinewidth": 0,
              "ticks": ""
             }
            },
            "type": "scatterternary"
           }
          ],
          "surface": [
           {
            "colorbar": {
             "outlinewidth": 0,
             "ticks": ""
            },
            "colorscale": [
             [
              0,
              "#0d0887"
             ],
             [
              0.1111111111111111,
              "#46039f"
             ],
             [
              0.2222222222222222,
              "#7201a8"
             ],
             [
              0.3333333333333333,
              "#9c179e"
             ],
             [
              0.4444444444444444,
              "#bd3786"
             ],
             [
              0.5555555555555556,
              "#d8576b"
             ],
             [
              0.6666666666666666,
              "#ed7953"
             ],
             [
              0.7777777777777778,
              "#fb9f3a"
             ],
             [
              0.8888888888888888,
              "#fdca26"
             ],
             [
              1,
              "#f0f921"
             ]
            ],
            "type": "surface"
           }
          ],
          "table": [
           {
            "cells": {
             "fill": {
              "color": "#EBF0F8"
             },
             "line": {
              "color": "white"
             }
            },
            "header": {
             "fill": {
              "color": "#C8D4E3"
             },
             "line": {
              "color": "white"
             }
            },
            "type": "table"
           }
          ]
         },
         "layout": {
          "annotationdefaults": {
           "arrowcolor": "#2a3f5f",
           "arrowhead": 0,
           "arrowwidth": 1
          },
          "autotypenumbers": "strict",
          "coloraxis": {
           "colorbar": {
            "outlinewidth": 0,
            "ticks": ""
           }
          },
          "colorscale": {
           "diverging": [
            [
             0,
             "#8e0152"
            ],
            [
             0.1,
             "#c51b7d"
            ],
            [
             0.2,
             "#de77ae"
            ],
            [
             0.3,
             "#f1b6da"
            ],
            [
             0.4,
             "#fde0ef"
            ],
            [
             0.5,
             "#f7f7f7"
            ],
            [
             0.6,
             "#e6f5d0"
            ],
            [
             0.7,
             "#b8e186"
            ],
            [
             0.8,
             "#7fbc41"
            ],
            [
             0.9,
             "#4d9221"
            ],
            [
             1,
             "#276419"
            ]
           ],
           "sequential": [
            [
             0,
             "#0d0887"
            ],
            [
             0.1111111111111111,
             "#46039f"
            ],
            [
             0.2222222222222222,
             "#7201a8"
            ],
            [
             0.3333333333333333,
             "#9c179e"
            ],
            [
             0.4444444444444444,
             "#bd3786"
            ],
            [
             0.5555555555555556,
             "#d8576b"
            ],
            [
             0.6666666666666666,
             "#ed7953"
            ],
            [
             0.7777777777777778,
             "#fb9f3a"
            ],
            [
             0.8888888888888888,
             "#fdca26"
            ],
            [
             1,
             "#f0f921"
            ]
           ],
           "sequentialminus": [
            [
             0,
             "#0d0887"
            ],
            [
             0.1111111111111111,
             "#46039f"
            ],
            [
             0.2222222222222222,
             "#7201a8"
            ],
            [
             0.3333333333333333,
             "#9c179e"
            ],
            [
             0.4444444444444444,
             "#bd3786"
            ],
            [
             0.5555555555555556,
             "#d8576b"
            ],
            [
             0.6666666666666666,
             "#ed7953"
            ],
            [
             0.7777777777777778,
             "#fb9f3a"
            ],
            [
             0.8888888888888888,
             "#fdca26"
            ],
            [
             1,
             "#f0f921"
            ]
           ]
          },
          "colorway": [
           "#636efa",
           "#EF553B",
           "#00cc96",
           "#ab63fa",
           "#FFA15A",
           "#19d3f3",
           "#FF6692",
           "#B6E880",
           "#FF97FF",
           "#FECB52"
          ],
          "font": {
           "color": "#2a3f5f"
          },
          "geo": {
           "bgcolor": "white",
           "lakecolor": "white",
           "landcolor": "#E5ECF6",
           "showlakes": true,
           "showland": true,
           "subunitcolor": "white"
          },
          "hoverlabel": {
           "align": "left"
          },
          "hovermode": "closest",
          "mapbox": {
           "style": "light"
          },
          "paper_bgcolor": "white",
          "plot_bgcolor": "#E5ECF6",
          "polar": {
           "angularaxis": {
            "gridcolor": "white",
            "linecolor": "white",
            "ticks": ""
           },
           "bgcolor": "#E5ECF6",
           "radialaxis": {
            "gridcolor": "white",
            "linecolor": "white",
            "ticks": ""
           }
          },
          "scene": {
           "xaxis": {
            "backgroundcolor": "#E5ECF6",
            "gridcolor": "white",
            "gridwidth": 2,
            "linecolor": "white",
            "showbackground": true,
            "ticks": "",
            "zerolinecolor": "white"
           },
           "yaxis": {
            "backgroundcolor": "#E5ECF6",
            "gridcolor": "white",
            "gridwidth": 2,
            "linecolor": "white",
            "showbackground": true,
            "ticks": "",
            "zerolinecolor": "white"
           },
           "zaxis": {
            "backgroundcolor": "#E5ECF6",
            "gridcolor": "white",
            "gridwidth": 2,
            "linecolor": "white",
            "showbackground": true,
            "ticks": "",
            "zerolinecolor": "white"
           }
          },
          "shapedefaults": {
           "line": {
            "color": "#2a3f5f"
           }
          },
          "ternary": {
           "aaxis": {
            "gridcolor": "white",
            "linecolor": "white",
            "ticks": ""
           },
           "baxis": {
            "gridcolor": "white",
            "linecolor": "white",
            "ticks": ""
           },
           "bgcolor": "#E5ECF6",
           "caxis": {
            "gridcolor": "white",
            "linecolor": "white",
            "ticks": ""
           }
          },
          "title": {
           "x": 0.05
          },
          "xaxis": {
           "automargin": true,
           "gridcolor": "white",
           "linecolor": "white",
           "ticks": "",
           "title": {
            "standoff": 15
           },
           "zerolinecolor": "white",
           "zerolinewidth": 2
          },
          "yaxis": {
           "automargin": true,
           "gridcolor": "white",
           "linecolor": "white",
           "ticks": "",
           "title": {
            "standoff": 15
           },
           "zerolinecolor": "white",
           "zerolinewidth": 2
          }
         }
        },
        "title": {
         "text": "Comparativa de porcentaje de niños de 3 a 5 años que estudian en municipios de Sonora",
         "x": 0.5,
         "xanchor": "center",
         "y": 0.97
        },
        "width": 1000,
        "xaxis": {
         "range": [
          2014,
          2021
         ],
         "tickmode": "array",
         "tickvals": [
          2015,
          2020
         ]
        }
       }
      }
     },
     "metadata": {},
     "output_type": "display_data"
    }
   ],
   "source": [
    "import plotly.graph_objects as go\n",
    "\n",
    "fig = go.Figure(go.Scatter())\n",
    "for i in dff[dff['desc_municipio'].isin(top_10)]['desc_municipio']:\n",
    "    try:\n",
    "        var_2015 = dff[dff['desc_municipio'] == i]['porcentaje'].iloc[0]\n",
    "        var_2020 = dff[dff['desc_municipio'] == i]['porcentaje'].iloc[1]\n",
    "    except:\n",
    "        continue\n",
    "    fig.add_trace(go.Scatter(x=[2015, 2020], y=[var_2015, var_2020], mode='lines+markers+text', \n",
    "                            text=[i, i], textposition=['middle left', 'middle right']))\n",
    "\n",
    "for i in dff[dff['desc_municipio'].isin(less_10)]['desc_municipio']:\n",
    "    try:\n",
    "        var_2015 = dff[dff['desc_municipio'] == i]['porcentaje'].iloc[0]\n",
    "        var_2020 = dff[dff['desc_municipio'] == i]['porcentaje'].iloc[1]\n",
    "    except:\n",
    "        continue\n",
    "    fig.add_trace(go.Scatter(x=[2015, 2020], y=[var_2015, var_2020], mode='lines+markers+text', \n",
    "                            text=[i, i], textposition=['middle left', 'middle right']))\n",
    "for i in dff[dff['desc_municipio'] == 'Estatal']['desc_municipio']:\n",
    "    try:\n",
    "        var_2015 = dff[dff['desc_municipio'] == i]['porcentaje'].iloc[0]\n",
    "        var_2020 = dff[dff['desc_municipio'] == i]['porcentaje'].iloc[1]\n",
    "    except:\n",
    "        continue\n",
    "    fig.add_trace(go.Scatter(x=[2015, 2020], y=[var_2015, var_2020], mode='lines+markers+text', \n",
    "                            text=[i, i], textposition=['middle left', 'middle right'],  line=dict(\n",
    "                                                width=8)))\n",
    "for i in dff[~dff['desc_municipio'].isin([less_10,top_10])]['desc_municipio']:\n",
    "    try:\n",
    "        var_2015 = dff[dff['desc_municipio'] == i]['porcentaje'].iloc[0]\n",
    "        var_2020 = dff[dff['desc_municipio'] == i]['porcentaje'].iloc[1]\n",
    "    except:\n",
    "        continue\n",
    "    fig.add_trace(go.Scatter(x=[2015, 2020], y=[var_2015, var_2020], mode='lines+markers+text', \n",
    "                            text=[],opacity=0.2, textposition=['middle left', 'middle right'], hovertext=i))\n",
    "fig.add_shape(type='line', x0=2015, x1=2015, y0=0, y1=1, xref='x', yref='paper')\n",
    "fig.add_shape(type='line', x0=2020, x1=2020, y0=0, y1=1, xref='x', yref='paper')\n",
    "fig.update_layout(\n",
    "    autosize=False,\n",
    "    width=1000,\n",
    "    height=1500,\n",
    "    showlegend=False,\n",
    "    title={'text':'Comparativa de porcentaje de niños de 3 a 5 años que estudian en municipios de Sonora',\n",
    "            'xanchor': 'center',\n",
    "            'y':0.97,\n",
    "            'x':0.5,},\n",
    "    paper_bgcolor='rgba(255,255,255, 0.9)',\n",
    "    plot_bgcolor='rgba(255,255,255, 0.9)')\n",
    "fig.update_layout(xaxis_range=[2014,2021])\n",
    "fig.update_layout(\n",
    "    xaxis = dict(\n",
    "        tickmode = 'array',\n",
    "        tickvals = [2015,2020],\n",
    "    )\n",
    ")\n",
    "fig.show()"
   ]
  }
 ],
 "metadata": {
  "interpreter": {
   "hash": "916dbcbb3f70747c44a77c7bcd40155683ae19c65e1c03b4aa3499c5328201f1"
  },
  "kernelspec": {
   "display_name": "Python 3.8.10 64-bit",
   "language": "python",
   "name": "python3"
  },
  "language_info": {
   "codemirror_mode": {
    "name": "ipython",
    "version": 3
   },
   "file_extension": ".py",
   "mimetype": "text/x-python",
   "name": "python",
   "nbconvert_exporter": "python",
   "pygments_lexer": "ipython3",
   "version": "3.8.10"
  },
  "orig_nbformat": 4
 },
 "nbformat": 4,
 "nbformat_minor": 2
}

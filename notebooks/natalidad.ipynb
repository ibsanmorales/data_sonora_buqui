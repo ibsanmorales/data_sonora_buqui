{
 "cells": [
  {
   "cell_type": "markdown",
   "metadata": {},
   "source": [
    "### Natalidad EDA"
   ]
  },
  {
   "cell_type": "markdown",
   "metadata": {},
   "source": [
    "Análisis de datos exploratorio por municipio de los nacimientos de 1990-2020, utilizando el archivo: 'data/processed/natalidad_sonora_municipio_tidy_nacimientos_mayorIgual12_tidy.csv'"
   ]
  },
  {
   "cell_type": "code",
   "execution_count": 32,
   "metadata": {},
   "outputs": [
    {
     "name": "stdout",
     "output_type": "stream",
     "text": [
      "Requirement already satisfied: missingno in /home/carlosv/.local/lib/python3.8/site-packages (0.5.1)\n",
      "Requirement already satisfied: scipy in /home/carlosv/.local/lib/python3.8/site-packages (from missingno) (1.8.0)\n",
      "Requirement already satisfied: numpy in /home/carlosv/.local/lib/python3.8/site-packages (from missingno) (1.22.3)\n",
      "Requirement already satisfied: seaborn in /home/carlosv/.local/lib/python3.8/site-packages (from missingno) (0.11.2)\n",
      "Requirement already satisfied: matplotlib in /home/carlosv/.local/lib/python3.8/site-packages (from missingno) (3.5.1)\n",
      "Requirement already satisfied: pandas>=0.23 in /home/carlosv/.local/lib/python3.8/site-packages (from seaborn->missingno) (1.4.2)\n",
      "Requirement already satisfied: pillow>=6.2.0 in /usr/lib/python3/dist-packages (from matplotlib->missingno) (7.0.0)\n",
      "Requirement already satisfied: kiwisolver>=1.0.1 in /home/carlosv/.local/lib/python3.8/site-packages (from matplotlib->missingno) (1.4.2)\n",
      "Requirement already satisfied: cycler>=0.10 in /home/carlosv/.local/lib/python3.8/site-packages (from matplotlib->missingno) (0.11.0)\n",
      "Requirement already satisfied: pyparsing>=2.2.1 in /usr/lib/python3/dist-packages (from matplotlib->missingno) (2.4.6)\n",
      "Requirement already satisfied: packaging>=20.0 in /home/carlosv/.local/lib/python3.8/site-packages (from matplotlib->missingno) (21.3)\n",
      "Requirement already satisfied: python-dateutil>=2.7 in /home/carlosv/.local/lib/python3.8/site-packages (from matplotlib->missingno) (2.8.2)\n",
      "Requirement already satisfied: fonttools>=4.22.0 in /home/carlosv/.local/lib/python3.8/site-packages (from matplotlib->missingno) (4.32.0)\n",
      "Requirement already satisfied: pytz>=2020.1 in /home/carlosv/.local/lib/python3.8/site-packages (from pandas>=0.23->seaborn->missingno) (2022.1)\n",
      "Requirement already satisfied: six>=1.5 in /usr/lib/python3/dist-packages (from python-dateutil>=2.7->matplotlib->missingno) (1.14.0)\n"
     ]
    }
   ],
   "source": [
    "#Realizando los imports necesarios\n",
    "!pip install missingno\n",
    "import pandas as pd\n",
    "import missingno as msno\n",
    "import plotly.express as px\n",
    "import statsmodels.api as sm\n",
    "\n"
   ]
  },
  {
   "cell_type": "code",
   "execution_count": 33,
   "metadata": {},
   "outputs": [
    {
     "data": {
      "text/html": [
       "<div>\n",
       "<style scoped>\n",
       "    .dataframe tbody tr th:only-of-type {\n",
       "        vertical-align: middle;\n",
       "    }\n",
       "\n",
       "    .dataframe tbody tr th {\n",
       "        vertical-align: top;\n",
       "    }\n",
       "\n",
       "    .dataframe thead th {\n",
       "        text-align: right;\n",
       "    }\n",
       "</style>\n",
       "<table border=\"1\" class=\"dataframe\">\n",
       "  <thead>\n",
       "    <tr style=\"text-align: right;\">\n",
       "      <th></th>\n",
       "      <th>cve_municipio</th>\n",
       "      <th>desc_municipio</th>\n",
       "      <th>1990</th>\n",
       "      <th>1994</th>\n",
       "      <th>1995</th>\n",
       "      <th>1996</th>\n",
       "      <th>1997</th>\n",
       "      <th>1998</th>\n",
       "      <th>1999</th>\n",
       "      <th>2000</th>\n",
       "      <th>...</th>\n",
       "      <th>2011</th>\n",
       "      <th>2012</th>\n",
       "      <th>2013</th>\n",
       "      <th>2014</th>\n",
       "      <th>2015</th>\n",
       "      <th>2016</th>\n",
       "      <th>2017</th>\n",
       "      <th>2018</th>\n",
       "      <th>2019</th>\n",
       "      <th>2020</th>\n",
       "    </tr>\n",
       "  </thead>\n",
       "  <tbody>\n",
       "    <tr>\n",
       "      <th>0</th>\n",
       "      <td>1</td>\n",
       "      <td>Aconchi</td>\n",
       "      <td>NaN</td>\n",
       "      <td>68.0</td>\n",
       "      <td>59.0</td>\n",
       "      <td>75.0</td>\n",
       "      <td>63.0</td>\n",
       "      <td>66.0</td>\n",
       "      <td>86.0</td>\n",
       "      <td>77.0</td>\n",
       "      <td>...</td>\n",
       "      <td>46.0</td>\n",
       "      <td>46.0</td>\n",
       "      <td>37.0</td>\n",
       "      <td>33.0</td>\n",
       "      <td>40.0</td>\n",
       "      <td>43.0</td>\n",
       "      <td>26.0</td>\n",
       "      <td>38.0</td>\n",
       "      <td>34.0</td>\n",
       "      <td>29.0</td>\n",
       "    </tr>\n",
       "    <tr>\n",
       "      <th>1</th>\n",
       "      <td>2</td>\n",
       "      <td>Agua Prieta</td>\n",
       "      <td>NaN</td>\n",
       "      <td>1589.0</td>\n",
       "      <td>1665.0</td>\n",
       "      <td>1721.0</td>\n",
       "      <td>1723.0</td>\n",
       "      <td>1801.0</td>\n",
       "      <td>1900.0</td>\n",
       "      <td>1860.0</td>\n",
       "      <td>...</td>\n",
       "      <td>1709.0</td>\n",
       "      <td>1886.0</td>\n",
       "      <td>1769.0</td>\n",
       "      <td>1575.0</td>\n",
       "      <td>1473.0</td>\n",
       "      <td>1400.0</td>\n",
       "      <td>1466.0</td>\n",
       "      <td>1477.0</td>\n",
       "      <td>1492.0</td>\n",
       "      <td>955.0</td>\n",
       "    </tr>\n",
       "    <tr>\n",
       "      <th>2</th>\n",
       "      <td>3</td>\n",
       "      <td>Alamos</td>\n",
       "      <td>NaN</td>\n",
       "      <td>674.0</td>\n",
       "      <td>575.0</td>\n",
       "      <td>732.0</td>\n",
       "      <td>579.0</td>\n",
       "      <td>615.0</td>\n",
       "      <td>698.0</td>\n",
       "      <td>633.0</td>\n",
       "      <td>...</td>\n",
       "      <td>613.0</td>\n",
       "      <td>527.0</td>\n",
       "      <td>544.0</td>\n",
       "      <td>473.0</td>\n",
       "      <td>443.0</td>\n",
       "      <td>428.0</td>\n",
       "      <td>391.0</td>\n",
       "      <td>344.0</td>\n",
       "      <td>354.0</td>\n",
       "      <td>291.0</td>\n",
       "    </tr>\n",
       "    <tr>\n",
       "      <th>3</th>\n",
       "      <td>4</td>\n",
       "      <td>Altar</td>\n",
       "      <td>NaN</td>\n",
       "      <td>151.0</td>\n",
       "      <td>176.0</td>\n",
       "      <td>172.0</td>\n",
       "      <td>198.0</td>\n",
       "      <td>208.0</td>\n",
       "      <td>212.0</td>\n",
       "      <td>238.0</td>\n",
       "      <td>...</td>\n",
       "      <td>208.0</td>\n",
       "      <td>227.0</td>\n",
       "      <td>233.0</td>\n",
       "      <td>213.0</td>\n",
       "      <td>181.0</td>\n",
       "      <td>165.0</td>\n",
       "      <td>190.0</td>\n",
       "      <td>169.0</td>\n",
       "      <td>171.0</td>\n",
       "      <td>115.0</td>\n",
       "    </tr>\n",
       "    <tr>\n",
       "      <th>4</th>\n",
       "      <td>5</td>\n",
       "      <td>Arivechi</td>\n",
       "      <td>NaN</td>\n",
       "      <td>82.0</td>\n",
       "      <td>30.0</td>\n",
       "      <td>23.0</td>\n",
       "      <td>46.0</td>\n",
       "      <td>35.0</td>\n",
       "      <td>22.0</td>\n",
       "      <td>34.0</td>\n",
       "      <td>...</td>\n",
       "      <td>15.0</td>\n",
       "      <td>22.0</td>\n",
       "      <td>17.0</td>\n",
       "      <td>17.0</td>\n",
       "      <td>14.0</td>\n",
       "      <td>19.0</td>\n",
       "      <td>13.0</td>\n",
       "      <td>18.0</td>\n",
       "      <td>16.0</td>\n",
       "      <td>6.0</td>\n",
       "    </tr>\n",
       "  </tbody>\n",
       "</table>\n",
       "<p>5 rows × 30 columns</p>\n",
       "</div>"
      ],
      "text/plain": [
       "   cve_municipio desc_municipio  1990    1994    1995    1996    1997    1998  \\\n",
       "0              1        Aconchi   NaN    68.0    59.0    75.0    63.0    66.0   \n",
       "1              2    Agua Prieta   NaN  1589.0  1665.0  1721.0  1723.0  1801.0   \n",
       "2              3         Alamos   NaN   674.0   575.0   732.0   579.0   615.0   \n",
       "3              4          Altar   NaN   151.0   176.0   172.0   198.0   208.0   \n",
       "4              5       Arivechi   NaN    82.0    30.0    23.0    46.0    35.0   \n",
       "\n",
       "     1999    2000  ...    2011    2012    2013    2014    2015    2016  \\\n",
       "0    86.0    77.0  ...    46.0    46.0    37.0    33.0    40.0    43.0   \n",
       "1  1900.0  1860.0  ...  1709.0  1886.0  1769.0  1575.0  1473.0  1400.0   \n",
       "2   698.0   633.0  ...   613.0   527.0   544.0   473.0   443.0   428.0   \n",
       "3   212.0   238.0  ...   208.0   227.0   233.0   213.0   181.0   165.0   \n",
       "4    22.0    34.0  ...    15.0    22.0    17.0    17.0    14.0    19.0   \n",
       "\n",
       "     2017    2018    2019   2020  \n",
       "0    26.0    38.0    34.0   29.0  \n",
       "1  1466.0  1477.0  1492.0  955.0  \n",
       "2   391.0   344.0   354.0  291.0  \n",
       "3   190.0   169.0   171.0  115.0  \n",
       "4    13.0    18.0    16.0    6.0  \n",
       "\n",
       "[5 rows x 30 columns]"
      ]
     },
     "execution_count": 33,
     "metadata": {},
     "output_type": "execute_result"
    }
   ],
   "source": [
    "#Leyendo los datos\n",
    "natalidad_data = pd.read_csv('../data/processed/natalidad_sonora_municipio_tidy_nacimientos_mayorIgual12_tidy.csv')\n",
    "natalidad_data.head()"
   ]
  },
  {
   "cell_type": "code",
   "execution_count": 34,
   "metadata": {},
   "outputs": [
    {
     "data": {
      "image/png": "[encoded data removed]",
      "text/plain": [
       "<Figure size 1800x720 with 2 Axes>"
      ]
     },
     "metadata": {
      "needs_background": "light"
     },
     "output_type": "display_data"
    }
   ],
   "source": [
    "#Viendo datos perdidos \n",
    "msno.matrix(natalidad_data);"
   ]
  },
  {
   "cell_type": "code",
   "execution_count": 35,
   "metadata": {},
   "outputs": [],
   "source": [
    "#Removiendo columnas que no son necesarias\n",
    "natalidad_data.drop(['cve_municipio', '1990'], axis=1, inplace=True)"
   ]
  },
  {
   "cell_type": "code",
   "execution_count": 36,
   "metadata": {},
   "outputs": [],
   "source": [
    "#Renombrando columnas\n",
    "natalidad_data.rename({'desc_municipio':'municipio'}, axis=1, inplace=True)"
   ]
  },
  {
   "cell_type": "code",
   "execution_count": 37,
   "metadata": {},
   "outputs": [
    {
     "data": {
      "text/plain": [
       "['1994',\n",
       " '1995',\n",
       " '1996',\n",
       " '1997',\n",
       " '1998',\n",
       " '1999',\n",
       " '2000',\n",
       " '2001',\n",
       " '2002',\n",
       " '2003',\n",
       " '2004',\n",
       " '2005',\n",
       " '2006',\n",
       " '2007',\n",
       " '2008',\n",
       " '2009',\n",
       " '2010',\n",
       " '2011',\n",
       " '2012',\n",
       " '2013',\n",
       " '2014',\n",
       " '2015',\n",
       " '2016',\n",
       " '2017',\n",
       " '2018',\n",
       " '2019',\n",
       " '2020']"
      ]
     },
     "execution_count": 37,
     "metadata": {},
     "output_type": "execute_result"
    }
   ],
   "source": [
    "list(natalidad_data.iloc[:,1:].columns)"
   ]
  },
  {
   "cell_type": "code",
   "execution_count": 38,
   "metadata": {},
   "outputs": [
    {
     "data": {
      "text/html": [
       "<div>\n",
       "<style scoped>\n",
       "    .dataframe tbody tr th:only-of-type {\n",
       "        vertical-align: middle;\n",
       "    }\n",
       "\n",
       "    .dataframe tbody tr th {\n",
       "        vertical-align: top;\n",
       "    }\n",
       "\n",
       "    .dataframe thead th {\n",
       "        text-align: right;\n",
       "    }\n",
       "</style>\n",
       "<table border=\"1\" class=\"dataframe\">\n",
       "  <thead>\n",
       "    <tr style=\"text-align: right;\">\n",
       "      <th></th>\n",
       "      <th>municipio</th>\n",
       "      <th>año</th>\n",
       "      <th>nacimientos</th>\n",
       "    </tr>\n",
       "  </thead>\n",
       "  <tbody>\n",
       "    <tr>\n",
       "      <th>0</th>\n",
       "      <td>Aconchi</td>\n",
       "      <td>1994</td>\n",
       "      <td>68.0</td>\n",
       "    </tr>\n",
       "    <tr>\n",
       "      <th>1</th>\n",
       "      <td>Agua Prieta</td>\n",
       "      <td>1994</td>\n",
       "      <td>1589.0</td>\n",
       "    </tr>\n",
       "    <tr>\n",
       "      <th>2</th>\n",
       "      <td>Alamos</td>\n",
       "      <td>1994</td>\n",
       "      <td>674.0</td>\n",
       "    </tr>\n",
       "    <tr>\n",
       "      <th>3</th>\n",
       "      <td>Altar</td>\n",
       "      <td>1994</td>\n",
       "      <td>151.0</td>\n",
       "    </tr>\n",
       "    <tr>\n",
       "      <th>4</th>\n",
       "      <td>Arivechi</td>\n",
       "      <td>1994</td>\n",
       "      <td>82.0</td>\n",
       "    </tr>\n",
       "    <tr>\n",
       "      <th>...</th>\n",
       "      <td>...</td>\n",
       "      <td>...</td>\n",
       "      <td>...</td>\n",
       "    </tr>\n",
       "    <tr>\n",
       "      <th>1966</th>\n",
       "      <td>Yécora</td>\n",
       "      <td>2020</td>\n",
       "      <td>61.0</td>\n",
       "    </tr>\n",
       "    <tr>\n",
       "      <th>1967</th>\n",
       "      <td>General Plutarco Elías Calles</td>\n",
       "      <td>2020</td>\n",
       "      <td>115.0</td>\n",
       "    </tr>\n",
       "    <tr>\n",
       "      <th>1968</th>\n",
       "      <td>Benito Juárez</td>\n",
       "      <td>2020</td>\n",
       "      <td>291.0</td>\n",
       "    </tr>\n",
       "    <tr>\n",
       "      <th>1969</th>\n",
       "      <td>San Ignacio Río Muerto</td>\n",
       "      <td>2020</td>\n",
       "      <td>212.0</td>\n",
       "    </tr>\n",
       "    <tr>\n",
       "      <th>1970</th>\n",
       "      <td>No especificado</td>\n",
       "      <td>2020</td>\n",
       "      <td>6.0</td>\n",
       "    </tr>\n",
       "  </tbody>\n",
       "</table>\n",
       "<p>1971 rows × 3 columns</p>\n",
       "</div>"
      ],
      "text/plain": [
       "                          municipio   año  nacimientos\n",
       "0                           Aconchi  1994         68.0\n",
       "1                       Agua Prieta  1994       1589.0\n",
       "2                            Alamos  1994        674.0\n",
       "3                             Altar  1994        151.0\n",
       "4                          Arivechi  1994         82.0\n",
       "...                             ...   ...          ...\n",
       "1966                         Yécora  2020         61.0\n",
       "1967  General Plutarco Elías Calles  2020        115.0\n",
       "1968                  Benito Juárez  2020        291.0\n",
       "1969         San Ignacio Río Muerto  2020        212.0\n",
       "1970                No especificado  2020          6.0\n",
       "\n",
       "[1971 rows x 3 columns]"
      ]
     },
     "execution_count": 38,
     "metadata": {},
     "output_type": "execute_result"
    }
   ],
   "source": [
    "nacimientos_tidy = pd.melt(natalidad_data, id_vars='municipio', value_vars =list(natalidad_data.iloc[:,1:].columns),var_name='año', value_name='nacimientos')\n",
    "nacimientos_tidy"
   ]
  },
  {
   "cell_type": "code",
   "execution_count": 39,
   "metadata": {},
   "outputs": [],
   "source": [
    "nacimientos_tidy['año'] = nacimientos_tidy['año'].astype('int64') "
   ]
  },
  {
   "cell_type": "code",
   "execution_count": 40,
   "metadata": {},
   "outputs": [
    {
     "data": {
      "application/vnd.plotly.v1+json": {
       "config": {
        "plotlyServerURL": "https://plot.ly"
       },
       "data": [
        {
         "hovertemplate": "Municipio=Aconchi<br>Año=%{x}<br>nacimientos=%{y}<extra></extra>",
         "legendgroup": "Aconchi",
         "line": {
          "color": "#F8766D",
          "dash": "solid"
         },
         "marker": {
          "symbol": "circle"
         },
         "mode": "lines",
         "name": "Aconchi",
         "showlegend": true,
         "type": "scattergl",
         "x": [
          1994,
          1995,
          1996,
          1997,
          1998,
          1999,
          2000,
          2001,
          2002,
          2003,
          2004,
          2005,
          2006,
          2007,
          2008,
          2009,
          2010,
          2011,
          2012,
          2013,
          2014,
          2015,
          2016,
          2017,
          2018,
          2019,
          2020
         ],
         "xaxis": "x",
         "y": [
          68,
          59,
          75,
          63,
          66,
          86,
          77,
          69,
          63,
          57,
          56,
          40,
          44,
          52,
          39,
          40,
          36,
          46,
          46,
          37,
          33,
          40,
          43,
          26,
          38,
          34,
          29
         ],
         "yaxis": "y"
        },
        {
         "hovertemplate": "Municipio=Agua Prieta<br>Año=%{x}<br>nacimientos=%{y}<extra></extra>",
         "legendgroup": "Agua Prieta",
         "line": {
          "color": "#A3A500",
          "dash": "solid"
         },
         "marker": {
          "symbol": "circle"
         },
         "mode": "lines",
         "name": "Agua Prieta",
         "showlegend": true,
         "type": "scattergl",
         "x": [
          1994,
          1995,
          1996,
          1997,
          1998,
          1999,
          2000,
          2001,
          2002,
          2003,
          2004,
          2005,
          2006,
          2007,
          2008,
          2009,
          2010,
          2011,
          2012,
          2013,
          2014,
          2015,
          2016,
          2017,
          2018,
          2019,
          2020
         ],
         "xaxis": "x",
         "y": [
          1589,
          1665,
          1721,
          1723,
          1801,
          1900,
          1860,
          1937,
          1860,
          1628,
          1691,
          1550,
          1590,
          1665,
          1686,
          1541,
          1673,
          1709,
          1886,
          1769,
          1575,
          1473,
          1400,
          1466,
          1477,
          1492,
          955
         ],
         "yaxis": "y"
        },
        {
         "hovertemplate": "Municipio=Alamos<br>Año=%{x}<br>nacimientos=%{y}<extra></extra>",
         "legendgroup": "Alamos",
         "line": {
          "color": "#00BF7D",
          "dash": "solid"
         },
         "marker": {
          "symbol": "circle"
         },
         "mode": "lines",
         "name": "Alamos",
         "showlegend": true,
         "type": "scattergl",
         "x": [
          1994,
          1995,
          1996,
          1997,
          1998,
          1999,
          2000,
          2001,
          2002,
          2003,
          2004,
          2005,
          2006,
          2007,
          2008,
          2009,
          2010,
          2011,
          2012,
          2013,
          2014,
          2015,
          2016,
          2017,
          2018,
          2019,
          2020
         ],
         "xaxis": "x",
         "y": [
          674,
          575,
          732,
          579,
          615,
          698,
          633,
          667,
          653,
          710,
          684,
          563,
          475,
          613,
          645,
          523,
          614,
          613,
          527,
          544,
          473,
          443,
          428,
          391,
          344,
          354,
          291
         ],
         "yaxis": "y"
        },
        {
         "hovertemplate": "Municipio=Altar<br>Año=%{x}<br>nacimientos=%{y}<extra></extra>",
         "legendgroup": "Altar",
         "line": {
          "color": "#00B0F6",
          "dash": "solid"
         },
         "marker": {
          "symbol": "circle"
         },
         "mode": "lines",
         "name": "Altar",
         "showlegend": true,
         "type": "scattergl",
         "x": [
          1994,
          1995,
          1996,
          1997,
          1998,
          1999,
          2000,
          2001,
          2002,
          2003,
          2004,
          2005,
          2006,
          2007,
          2008,
          2009,
          2010,
          2011,
          2012,
          2013,
          2014,
          2015,
          2016,
          2017,
          2018,
          2019,
          2020
         ],
         "xaxis": "x",
         "y": [
          151,
          176,
          172,
          198,
          208,
          212,
          238,
          245,
          231,
          236,
          255,
          234,
          261,
          254,
          242,
          253,
          251,
          208,
          227,
          233,
          213,
          181,
          165,
          190,
          169,
          171,
          115
         ],
         "yaxis": "y"
        },
        {
         "hovertemplate": "Municipio=Arivechi<br>Año=%{x}<br>nacimientos=%{y}<extra></extra>",
         "legendgroup": "Arivechi",
         "line": {
          "color": "#E76BF3",
          "dash": "solid"
         },
         "marker": {
          "symbol": "circle"
         },
         "mode": "lines",
         "name": "Arivechi",
         "showlegend": true,
         "type": "scattergl",
         "x": [
          1994,
          1995,
          1996,
          1997,
          1998,
          1999,
          2000,
          2001,
          2002,
          2003,
          2004,
          2005,
          2006,
          2007,
          2008,
          2009,
          2010,
          2011,
          2012,
          2013,
          2014,
          2015,
          2016,
          2017,
          2018,
          2019,
          2020
         ],
         "xaxis": "x",
         "y": [
          82,
          30,
          23,
          46,
          35,
          22,
          34,
          25,
          22,
          19,
          24,
          21,
          30,
          12,
          17,
          17,
          13,
          15,
          22,
          17,
          17,
          14,
          19,
          13,
          18,
          16,
          6
         ],
         "yaxis": "y"
        },
        {
         "hovertemplate": "Municipio=Arizpe<br>Año=%{x}<br>nacimientos=%{y}<extra></extra>",
         "legendgroup": "Arizpe",
         "line": {
          "color": "#F8766D",
          "dash": "solid"
         },
         "marker": {
          "symbol": "circle"
         },
         "mode": "lines",
         "name": "Arizpe",
         "showlegend": true,
         "type": "scattergl",
         "x": [
          1994,
          1995,
          1996,
          1997,
          1998,
          1999,
          2000,
          2001,
          2002,
          2003,
          2004,
          2005,
          2006,
          2007,
          2008,
          2009,
          2010,
          2011,
          2012,
          2013,
          2014,
          2015,
          2016,
          2017,
          2018,
          2019,
          2020
         ],
         "xaxis": "x",
         "y": [
          109,
          86,
          88,
          110,
          107,
          99,
          128,
          69,
          65,
          68,
          39,
          64,
          53,
          59,
          46,
          52,
          51,
          52,
          50,
          38,
          48,
          33,
          42,
          29,
          33,
          40,
          16
         ],
         "yaxis": "y"
        },
        {
         "hovertemplate": "Municipio=Atil<br>Año=%{x}<br>nacimientos=%{y}<extra></extra>",
         "legendgroup": "Atil",
         "line": {
          "color": "#A3A500",
          "dash": "solid"
         },
         "marker": {
          "symbol": "circle"
         },
         "mode": "lines",
         "name": "Atil",
         "showlegend": true,
         "type": "scattergl",
         "x": [
          1994,
          1995,
          1996,
          1997,
          1998,
          1999,
          2000,
          2001,
          2002,
          2003,
          2004,
          2005,
          2006,
          2007,
          2008,
          2009,
          2010,
          2011,
          2012,
          2013,
          2014,
          2015,
          2016,
          2017,
          2018,
          2019,
          2020
         ],
         "xaxis": "x",
         "y": [
          20,
          52,
          17,
          19,
          15,
          14,
          23,
          24,
          20,
          18,
          19,
          20,
          12,
          16,
          18,
          20,
          13,
          19,
          12,
          11,
          6,
          8,
          13,
          6,
          2,
          7,
          5
         ],
         "yaxis": "y"
        },
        {
         "hovertemplate": "Municipio=Bacadéhuachi<br>Año=%{x}<br>nacimientos=%{y}<extra></extra>",
         "legendgroup": "Bacadéhuachi",
         "line": {
          "color": "#00BF7D",
          "dash": "solid"
         },
         "marker": {
          "symbol": "circle"
         },
         "mode": "lines",
         "name": "Bacadéhuachi",
         "showlegend": true,
         "type": "scattergl",
         "x": [
          1994,
          1995,
          1996,
          1997,
          1998,
          1999,
          2000,
          2001,
          2002,
          2003,
          2004,
          2005,
          2006,
          2007,
          2008,
          2009,
          2010,
          2011,
          2012,
          2013,
          2014,
          2015,
          2016,
          2017,
          2018,
          2019,
          2020
         ],
         "xaxis": "x",
         "y": [
          27,
          23,
          19,
          27,
          31,
          28,
          39,
          20,
          31,
          18,
          21,
          23,
          19,
          22,
          27,
          19,
          21,
          21,
          18,
          13,
          11,
          15,
          14,
          6,
          12,
          10,
          11
         ],
         "yaxis": "y"
        },
        {
         "hovertemplate": "Municipio=Bacanora<br>Año=%{x}<br>nacimientos=%{y}<extra></extra>",
         "legendgroup": "Bacanora",
         "line": {
          "color": "#00B0F6",
          "dash": "solid"
         },
         "marker": {
          "symbol": "circle"
         },
         "mode": "lines",
         "name": "Bacanora",
         "showlegend": true,
         "type": "scattergl",
         "x": [
          1994,
          1995,
          1996,
          1997,
          1998,
          1999,
          2000,
          2001,
          2002,
          2003,
          2004,
          2005,
          2006,
          2007,
          2008,
          2009,
          2010,
          2011,
          2012,
          2013,
          2014,
          2015,
          2016,
          2017,
          2018,
          2019,
          2020
         ],
         "xaxis": "x",
         "y": [
          17,
          17,
          26,
          15,
          23,
          19,
          21,
          18,
          24,
          10,
          14,
          16,
          11,
          9,
          12,
          11,
          16,
          10,
          17,
          14,
          10,
          12,
          11,
          13,
          8,
          10,
          6
         ],
         "yaxis": "y"
        },
        {
         "hovertemplate": "Municipio=Bacerac<br>Año=%{x}<br>nacimientos=%{y}<extra></extra>",
         "legendgroup": "Bacerac",
         "line": {
          "color": "#E76BF3",
          "dash": "solid"
         },
         "marker": {
          "symbol": "circle"
         },
         "mode": "lines",
         "name": "Bacerac",
         "showlegend": true,
         "type": "scattergl",
         "x": [
          1994,
          1995,
          1996,
          1997,
          1998,
          1999,
          2000,
          2001,
          2002,
          2003,
          2004,
          2005,
          2006,
          2007,
          2008,
          2009,
          2010,
          2011,
          2012,
          2013,
          2014,
          2015,
          2016,
          2017,
          2018,
          2019,
          2020
         ],
         "xaxis": "x",
         "y": [
          41,
          43,
          42,
          46,
          43,
          42,
          44,
          31,
          20,
          24,
          26,
          25,
          24,
          26,
          25,
          24,
          17,
          21,
          20,
          23,
          25,
          17,
          21,
          17,
          19,
          12,
          14
         ],
         "yaxis": "y"
        },
        {
         "hovertemplate": "Municipio=Bacoachi<br>Año=%{x}<br>nacimientos=%{y}<extra></extra>",
         "legendgroup": "Bacoachi",
         "line": {
          "color": "#F8766D",
          "dash": "solid"
         },
         "marker": {
          "symbol": "circle"
         },
         "mode": "lines",
         "name": "Bacoachi",
         "showlegend": true,
         "type": "scattergl",
         "x": [
          1994,
          1995,
          1996,
          1997,
          1998,
          1999,
          2000,
          2001,
          2002,
          2003,
          2004,
          2005,
          2006,
          2007,
          2008,
          2009,
          2010,
          2011,
          2012,
          2013,
          2014,
          2015,
          2016,
          2017,
          2018,
          2019,
          2020
         ],
         "xaxis": "x",
         "y": [
          40,
          32,
          40,
          39,
          49,
          36,
          42,
          36,
          30,
          17,
          22,
          29,
          17,
          28,
          17,
          32,
          23,
          21,
          27,
          20,
          29,
          25,
          19,
          15,
          17,
          17,
          14
         ],
         "yaxis": "y"
        },
        {
         "hovertemplate": "Municipio=Bácum<br>Año=%{x}<br>nacimientos=%{y}<extra></extra>",
         "legendgroup": "Bácum",
         "line": {
          "color": "#A3A500",
          "dash": "solid"
         },
         "marker": {
          "symbol": "circle"
         },
         "mode": "lines",
         "name": "Bácum",
         "showlegend": true,
         "type": "scattergl",
         "x": [
          1994,
          1995,
          1996,
          1997,
          1998,
          1999,
          2000,
          2001,
          2002,
          2003,
          2004,
          2005,
          2006,
          2007,
          2008,
          2009,
          2010,
          2011,
          2012,
          2013,
          2014,
          2015,
          2016,
          2017,
          2018,
          2019,
          2020
         ],
         "xaxis": "x",
         "y": [
          682,
          519,
          516,
          535,
          509,
          512,
          532,
          495,
          498,
          507,
          473,
          451,
          475,
          515,
          487,
          486,
          470,
          498,
          489,
          475,
          477,
          414,
          359,
          384,
          356,
          365,
          282
         ],
         "yaxis": "y"
        },
        {
         "hovertemplate": "Municipio=Banámichi<br>Año=%{x}<br>nacimientos=%{y}<extra></extra>",
         "legendgroup": "Banámichi",
         "line": {
          "color": "#00BF7D",
          "dash": "solid"
         },
         "marker": {
          "symbol": "circle"
         },
         "mode": "lines",
         "name": "Banámichi",
         "showlegend": true,
         "type": "scattergl",
         "x": [
          1994,
          1995,
          1996,
          1997,
          1998,
          1999,
          2000,
          2001,
          2002,
          2003,
          2004,
          2005,
          2006,
          2007,
          2008,
          2009,
          2010,
          2011,
          2012,
          2013,
          2014,
          2015,
          2016,
          2017,
          2018,
          2019,
          2020
         ],
         "xaxis": "x",
         "y": [
          44,
          33,
          42,
          37,
          33,
          41,
          40,
          43,
          40,
          32,
          21,
          33,
          34,
          31,
          31,
          24,
          31,
          26,
          22,
          29,
          19,
          28,
          20,
          39,
          20,
          29,
          22
         ],
         "yaxis": "y"
        },
        {
         "hovertemplate": "Municipio=Baviácora<br>Año=%{x}<br>nacimientos=%{y}<extra></extra>",
         "legendgroup": "Baviácora",
         "line": {
          "color": "#00B0F6",
          "dash": "solid"
         },
         "marker": {
          "symbol": "circle"
         },
         "mode": "lines",
         "name": "Baviácora",
         "showlegend": true,
         "type": "scattergl",
         "x": [
          1994,
          1995,
          1996,
          1997,
          1998,
          1999,
          2000,
          2001,
          2002,
          2003,
          2004,
          2005,
          2006,
          2007,
          2008,
          2009,
          2010,
          2011,
          2012,
          2013,
          2014,
          2015,
          2016,
          2017,
          2018,
          2019,
          2020
         ],
         "xaxis": "x",
         "y": [
          125,
          88,
          93,
          82,
          86,
          97,
          82,
          92,
          78,
          78,
          73,
          75,
          78,
          71,
          70,
          56,
          59,
          51,
          52,
          47,
          48,
          43,
          50,
          34,
          37,
          36,
          36
         ],
         "yaxis": "y"
        },
        {
         "hovertemplate": "Municipio=Bavispe<br>Año=%{x}<br>nacimientos=%{y}<extra></extra>",
         "legendgroup": "Bavispe",
         "line": {
          "color": "#E76BF3",
          "dash": "solid"
         },
         "marker": {
          "symbol": "circle"
         },
         "mode": "lines",
         "name": "Bavispe",
         "showlegend": true,
         "type": "scattergl",
         "x": [
          1994,
          1995,
          1996,
          1997,
          1998,
          1999,
          2000,
          2001,
          2002,
          2003,
          2004,
          2005,
          2006,
          2007,
          2008,
          2009,
          2010,
          2011,
          2012,
          2013,
          2014,
          2015,
          2016,
          2017,
          2018,
          2019,
          2020
         ],
         "xaxis": "x",
         "y": [
          28,
          26,
          28,
          19,
          21,
          25,
          40,
          26,
          24,
          22,
          24,
          33,
          32,
          21,
          21,
          22,
          33,
          33,
          27,
          27,
          28,
          30,
          25,
          28,
          13,
          21,
          25
         ],
         "yaxis": "y"
        },
        {
         "hovertemplate": "Municipio=Benjamín Hill<br>Año=%{x}<br>nacimientos=%{y}<extra></extra>",
         "legendgroup": "Benjamín Hill",
         "line": {
          "color": "#F8766D",
          "dash": "solid"
         },
         "marker": {
          "symbol": "circle"
         },
         "mode": "lines",
         "name": "Benjamín Hill",
         "showlegend": true,
         "type": "scattergl",
         "x": [
          1994,
          1995,
          1996,
          1997,
          1998,
          1999,
          2000,
          2001,
          2002,
          2003,
          2004,
          2005,
          2006,
          2007,
          2008,
          2009,
          2010,
          2011,
          2012,
          2013,
          2014,
          2015,
          2016,
          2017,
          2018,
          2019,
          2020
         ],
         "xaxis": "x",
         "y": [
          175,
          159,
          165,
          159,
          160,
          154,
          155,
          110,
          125,
          115,
          116,
          119,
          111,
          122,
          100,
          108,
          104,
          102,
          119,
          101,
          97,
          93,
          82,
          89,
          85,
          65,
          43
         ],
         "yaxis": "y"
        },
        {
         "hovertemplate": "Municipio=Caborca<br>Año=%{x}<br>nacimientos=%{y}<extra></extra>",
         "legendgroup": "Caborca",
         "line": {
          "color": "#A3A500",
          "dash": "solid"
         },
         "marker": {
          "symbol": "circle"
         },
         "mode": "lines",
         "name": "Caborca",
         "showlegend": true,
         "type": "scattergl",
         "x": [
          1994,
          1995,
          1996,
          1997,
          1998,
          1999,
          2000,
          2001,
          2002,
          2003,
          2004,
          2005,
          2006,
          2007,
          2008,
          2009,
          2010,
          2011,
          2012,
          2013,
          2014,
          2015,
          2016,
          2017,
          2018,
          2019,
          2020
         ],
         "xaxis": "x",
         "y": [
          1823,
          1702,
          1776,
          1775,
          1715,
          1669,
          1830,
          1802,
          1681,
          1720,
          1746,
          1746,
          1714,
          1771,
          1842,
          1746,
          1913,
          1884,
          1856,
          1796,
          1871,
          1627,
          1602,
          1509,
          1439,
          1543,
          844
         ],
         "yaxis": "y"
        },
        {
         "hovertemplate": "Municipio=Cajeme<br>Año=%{x}<br>nacimientos=%{y}<extra></extra>",
         "legendgroup": "Cajeme",
         "line": {
          "color": "#00BF7D",
          "dash": "solid"
         },
         "marker": {
          "symbol": "circle"
         },
         "mode": "lines",
         "name": "Cajeme",
         "showlegend": true,
         "type": "scattergl",
         "x": [
          1994,
          1995,
          1996,
          1997,
          1998,
          1999,
          2000,
          2001,
          2002,
          2003,
          2004,
          2005,
          2006,
          2007,
          2008,
          2009,
          2010,
          2011,
          2012,
          2013,
          2014,
          2015,
          2016,
          2017,
          2018,
          2019,
          2020
         ],
         "xaxis": "x",
         "y": [
          9114,
          8985,
          8679,
          8429,
          8715,
          8802,
          8948,
          8668,
          8608,
          8205,
          7999,
          7708,
          7916,
          7766,
          7727,
          8011,
          7804,
          7833,
          7824,
          7635,
          7523,
          6949,
          6794,
          6610,
          6238,
          6248,
          4524
         ],
         "yaxis": "y"
        },
        {
         "hovertemplate": "Municipio=Cananea<br>Año=%{x}<br>nacimientos=%{y}<extra></extra>",
         "legendgroup": "Cananea",
         "line": {
          "color": "#00B0F6",
          "dash": "solid"
         },
         "marker": {
          "symbol": "circle"
         },
         "mode": "lines",
         "name": "Cananea",
         "showlegend": true,
         "type": "scattergl",
         "x": [
          1994,
          1995,
          1996,
          1997,
          1998,
          1999,
          2000,
          2001,
          2002,
          2003,
          2004,
          2005,
          2006,
          2007,
          2008,
          2009,
          2010,
          2011,
          2012,
          2013,
          2014,
          2015,
          2016,
          2017,
          2018,
          2019,
          2020
         ],
         "xaxis": "x",
         "y": [
          834,
          816,
          786,
          793,
          810,
          774,
          801,
          764,
          700,
          679,
          687,
          721,
          726,
          756,
          674,
          670,
          550,
          699,
          683,
          724,
          755,
          751,
          765,
          761,
          699,
          654,
          472
         ],
         "yaxis": "y"
        },
        {
         "hovertemplate": "Municipio=Carbó<br>Año=%{x}<br>nacimientos=%{y}<extra></extra>",
         "legendgroup": "Carbó",
         "line": {
          "color": "#E76BF3",
          "dash": "solid"
         },
         "marker": {
          "symbol": "circle"
         },
         "mode": "lines",
         "name": "Carbó",
         "showlegend": true,
         "type": "scattergl",
         "x": [
          1994,
          1995,
          1996,
          1997,
          1998,
          1999,
          2000,
          2001,
          2002,
          2003,
          2004,
          2005,
          2006,
          2007,
          2008,
          2009,
          2010,
          2011,
          2012,
          2013,
          2014,
          2015,
          2016,
          2017,
          2018,
          2019,
          2020
         ],
         "xaxis": "x",
         "y": [
          153,
          122,
          124,
          117,
          145,
          115,
          122,
          107,
          102,
          115,
          116,
          132,
          102,
          109,
          92,
          102,
          134,
          106,
          109,
          96,
          103,
          85,
          83,
          79,
          68,
          92,
          88
         ],
         "yaxis": "y"
        },
        {
         "hovertemplate": "Municipio=La Colorada<br>Año=%{x}<br>nacimientos=%{y}<extra></extra>",
         "legendgroup": "La Colorada",
         "line": {
          "color": "#F8766D",
          "dash": "solid"
         },
         "marker": {
          "symbol": "circle"
         },
         "mode": "lines",
         "name": "La Colorada",
         "showlegend": true,
         "type": "scattergl",
         "x": [
          1994,
          1995,
          1996,
          1997,
          1998,
          1999,
          2000,
          2001,
          2002,
          2003,
          2004,
          2005,
          2006,
          2007,
          2008,
          2009,
          2010,
          2011,
          2012,
          2013,
          2014,
          2015,
          2016,
          2017,
          2018,
          2019,
          2020
         ],
         "xaxis": "x",
         "y": [
          49,
          47,
          61,
          51,
          55,
          44,
          43,
          41,
          29,
          28,
          38,
          18,
          20,
          29,
          18,
          35,
          25,
          26,
          23,
          19,
          28,
          23,
          8,
          21,
          20,
          29,
          32
         ],
         "yaxis": "y"
        },
        {
         "hovertemplate": "Municipio=Cucurpe<br>Año=%{x}<br>nacimientos=%{y}<extra></extra>",
         "legendgroup": "Cucurpe",
         "line": {
          "color": "#A3A500",
          "dash": "solid"
         },
         "marker": {
          "symbol": "circle"
         },
         "mode": "lines",
         "name": "Cucurpe",
         "showlegend": true,
         "type": "scattergl",
         "x": [
          1994,
          1995,
          1996,
          1997,
          1998,
          1999,
          2000,
          2001,
          2002,
          2003,
          2004,
          2005,
          2006,
          2007,
          2008,
          2009,
          2010,
          2011,
          2012,
          2013,
          2014,
          2015,
          2016,
          2017,
          2018,
          2019,
          2020
         ],
         "xaxis": "x",
         "y": [
          23,
          17,
          23,
          21,
          24,
          13,
          28,
          18,
          19,
          19,
          20,
          16,
          24,
          15,
          20,
          12,
          18,
          20,
          17,
          17,
          16,
          15,
          12,
          6,
          5,
          13,
          11
         ],
         "yaxis": "y"
        },
        {
         "hovertemplate": "Municipio=Cumpas<br>Año=%{x}<br>nacimientos=%{y}<extra></extra>",
         "legendgroup": "Cumpas",
         "line": {
          "color": "#00BF7D",
          "dash": "solid"
         },
         "marker": {
          "symbol": "circle"
         },
         "mode": "lines",
         "name": "Cumpas",
         "showlegend": true,
         "type": "scattergl",
         "x": [
          1994,
          1995,
          1996,
          1997,
          1998,
          1999,
          2000,
          2001,
          2002,
          2003,
          2004,
          2005,
          2006,
          2007,
          2008,
          2009,
          2010,
          2011,
          2012,
          2013,
          2014,
          2015,
          2016,
          2017,
          2018,
          2019,
          2020
         ],
         "xaxis": "x",
         "y": [
          135,
          118,
          141,
          128,
          131,
          114,
          131,
          109,
          114,
          111,
          92,
          113,
          97,
          97,
          101,
          109,
          77,
          94,
          98,
          89,
          89,
          63,
          77,
          68,
          66,
          53,
          53
         ],
         "yaxis": "y"
        },
        {
         "hovertemplate": "Municipio=Divisaderos<br>Año=%{x}<br>nacimientos=%{y}<extra></extra>",
         "legendgroup": "Divisaderos",
         "line": {
          "color": "#00B0F6",
          "dash": "solid"
         },
         "marker": {
          "symbol": "circle"
         },
         "mode": "lines",
         "name": "Divisaderos",
         "showlegend": true,
         "type": "scattergl",
         "x": [
          1994,
          1995,
          1996,
          1997,
          1998,
          1999,
          2000,
          2001,
          2002,
          2003,
          2004,
          2005,
          2006,
          2007,
          2008,
          2009,
          2010,
          2011,
          2012,
          2013,
          2014,
          2015,
          2016,
          2017,
          2018,
          2019,
          2020
         ],
         "xaxis": "x",
         "y": [
          19,
          18,
          16,
          8,
          17,
          20,
          13,
          11,
          13,
          6,
          13,
          22,
          8,
          8,
          15,
          22,
          14,
          15,
          13,
          14,
          12,
          9,
          6,
          9,
          8,
          10,
          6
         ],
         "yaxis": "y"
        },
        {
         "hovertemplate": "Municipio=Empalme<br>Año=%{x}<br>nacimientos=%{y}<extra></extra>",
         "legendgroup": "Empalme",
         "line": {
          "color": "#E76BF3",
          "dash": "solid"
         },
         "marker": {
          "symbol": "circle"
         },
         "mode": "lines",
         "name": "Empalme",
         "showlegend": true,
         "type": "scattergl",
         "x": [
          1994,
          1995,
          1996,
          1997,
          1998,
          1999,
          2000,
          2001,
          2002,
          2003,
          2004,
          2005,
          2006,
          2007,
          2008,
          2009,
          2010,
          2011,
          2012,
          2013,
          2014,
          2015,
          2016,
          2017,
          2018,
          2019,
          2020
         ],
         "xaxis": "x",
         "y": [
          1196,
          1218,
          1255,
          1286,
          1327,
          1290,
          1235,
          1258,
          1304,
          1226,
          1126,
          1087,
          1167,
          1106,
          997,
          1037,
          950,
          1151,
          1037,
          990,
          1043,
          1018,
          1020,
          967,
          902,
          890,
          708
         ],
         "yaxis": "y"
        },
        {
         "hovertemplate": "Municipio=Etchojoa<br>Año=%{x}<br>nacimientos=%{y}<extra></extra>",
         "legendgroup": "Etchojoa",
         "line": {
          "color": "#F8766D",
          "dash": "solid"
         },
         "marker": {
          "symbol": "circle"
         },
         "mode": "lines",
         "name": "Etchojoa",
         "showlegend": true,
         "type": "scattergl",
         "x": [
          1994,
          1995,
          1996,
          1997,
          1998,
          1999,
          2000,
          2001,
          2002,
          2003,
          2004,
          2005,
          2006,
          2007,
          2008,
          2009,
          2010,
          2011,
          2012,
          2013,
          2014,
          2015,
          2016,
          2017,
          2018,
          2019,
          2020
         ],
         "xaxis": "x",
         "y": [
          3035,
          1987,
          2509,
          2307,
          1420,
          1646,
          1565,
          1543,
          1654,
          1429,
          1478,
          1440,
          1330,
          1443,
          1366,
          1232,
          1273,
          1183,
          1082,
          1148,
          1143,
          1113,
          998,
          1032,
          1027,
          1028,
          858
         ],
         "yaxis": "y"
        },
        {
         "hovertemplate": "Municipio=Fronteras<br>Año=%{x}<br>nacimientos=%{y}<extra></extra>",
         "legendgroup": "Fronteras",
         "line": {
          "color": "#A3A500",
          "dash": "solid"
         },
         "marker": {
          "symbol": "circle"
         },
         "mode": "lines",
         "name": "Fronteras",
         "showlegend": true,
         "type": "scattergl",
         "x": [
          1994,
          1995,
          1996,
          1997,
          1998,
          1999,
          2000,
          2001,
          2002,
          2003,
          2004,
          2005,
          2006,
          2007,
          2008,
          2009,
          2010,
          2011,
          2012,
          2013,
          2014,
          2015,
          2016,
          2017,
          2018,
          2019,
          2020
         ],
         "xaxis": "x",
         "y": [
          175,
          227,
          211,
          246,
          221,
          235,
          255,
          245,
          234,
          173,
          192,
          204,
          235,
          259,
          246,
          212,
          216,
          197,
          183,
          201,
          183,
          171,
          167,
          134,
          154,
          158,
          140
         ],
         "yaxis": "y"
        },
        {
         "hovertemplate": "Municipio=Granados<br>Año=%{x}<br>nacimientos=%{y}<extra></extra>",
         "legendgroup": "Granados",
         "line": {
          "color": "#00BF7D",
          "dash": "solid"
         },
         "marker": {
          "symbol": "circle"
         },
         "mode": "lines",
         "name": "Granados",
         "showlegend": true,
         "type": "scattergl",
         "x": [
          1994,
          1995,
          1996,
          1997,
          1998,
          1999,
          2000,
          2001,
          2002,
          2003,
          2004,
          2005,
          2006,
          2007,
          2008,
          2009,
          2010,
          2011,
          2012,
          2013,
          2014,
          2015,
          2016,
          2017,
          2018,
          2019,
          2020
         ],
         "xaxis": "x",
         "y": [
          27,
          20,
          25,
          27,
          15,
          22,
          20,
          21,
          27,
          20,
          28,
          22,
          25,
          15,
          13,
          14,
          20,
          16,
          18,
          14,
          13,
          12,
          11,
          7,
          11,
          11,
          2
         ],
         "yaxis": "y"
        },
        {
         "hovertemplate": "Municipio=Guaymas<br>Año=%{x}<br>nacimientos=%{y}<extra></extra>",
         "legendgroup": "Guaymas",
         "line": {
          "color": "#00B0F6",
          "dash": "solid"
         },
         "marker": {
          "symbol": "circle"
         },
         "mode": "lines",
         "name": "Guaymas",
         "showlegend": true,
         "type": "scattergl",
         "x": [
          1994,
          1995,
          1996,
          1997,
          1998,
          1999,
          2000,
          2001,
          2002,
          2003,
          2004,
          2005,
          2006,
          2007,
          2008,
          2009,
          2010,
          2011,
          2012,
          2013,
          2014,
          2015,
          2016,
          2017,
          2018,
          2019,
          2020
         ],
         "xaxis": "x",
         "y": [
          3409,
          3652,
          3645,
          3736,
          3234,
          3456,
          3766,
          3335,
          3344,
          3705,
          2939,
          2937,
          2906,
          2963,
          2985,
          2905,
          3065,
          3057,
          3066,
          3040,
          3017,
          2869,
          2719,
          2679,
          2507,
          2480,
          1609
         ],
         "yaxis": "y"
        },
        {
         "hovertemplate": "Municipio=Hermosillo<br>Año=%{x}<br>nacimientos=%{y}<extra></extra>",
         "legendgroup": "Hermosillo",
         "line": {
          "color": "#E76BF3",
          "dash": "solid"
         },
         "marker": {
          "symbol": "circle"
         },
         "mode": "lines",
         "name": "Hermosillo",
         "showlegend": true,
         "type": "scattergl",
         "x": [
          1994,
          1995,
          1996,
          1997,
          1998,
          1999,
          2000,
          2001,
          2002,
          2003,
          2004,
          2005,
          2006,
          2007,
          2008,
          2009,
          2010,
          2011,
          2012,
          2013,
          2014,
          2015,
          2016,
          2017,
          2018,
          2019,
          2020
         ],
         "xaxis": "x",
         "y": [
          14921,
          14683,
          14502,
          14653,
          15010,
          14750,
          15311,
          15167,
          15351,
          14671,
          14712,
          14649,
          14857,
          16030,
          15943,
          15913,
          15916,
          16445,
          15879,
          16322,
          16053,
          14903,
          14204,
          13857,
          13166,
          13314,
          8841
         ],
         "yaxis": "y"
        },
        {
         "hovertemplate": "Municipio=Huachinera<br>Año=%{x}<br>nacimientos=%{y}<extra></extra>",
         "legendgroup": "Huachinera",
         "line": {
          "color": "#F8766D",
          "dash": "solid"
         },
         "marker": {
          "symbol": "circle"
         },
         "mode": "lines",
         "name": "Huachinera",
         "showlegend": true,
         "type": "scattergl",
         "x": [
          1994,
          1995,
          1996,
          1997,
          1998,
          1999,
          2000,
          2001,
          2002,
          2003,
          2004,
          2005,
          2006,
          2007,
          2008,
          2009,
          2010,
          2011,
          2012,
          2013,
          2014,
          2015,
          2016,
          2017,
          2018,
          2019,
          2020
         ],
         "xaxis": "x",
         "y": [
          38,
          34,
          33,
          23,
          36,
          41,
          25,
          35,
          27,
          26,
          30,
          30,
          29,
          26,
          23,
          21,
          30,
          17,
          19,
          17,
          12,
          18,
          23,
          16,
          19,
          5,
          15
         ],
         "yaxis": "y"
        },
        {
         "hovertemplate": "Municipio=Huásabas<br>Año=%{x}<br>nacimientos=%{y}<extra></extra>",
         "legendgroup": "Huásabas",
         "line": {
          "color": "#A3A500",
          "dash": "solid"
         },
         "marker": {
          "symbol": "circle"
         },
         "mode": "lines",
         "name": "Huásabas",
         "showlegend": true,
         "type": "scattergl",
         "x": [
          1994,
          1995,
          1996,
          1997,
          1998,
          1999,
          2000,
          2001,
          2002,
          2003,
          2004,
          2005,
          2006,
          2007,
          2008,
          2009,
          2010,
          2011,
          2012,
          2013,
          2014,
          2015,
          2016,
          2017,
          2018,
          2019,
          2020
         ],
         "xaxis": "x",
         "y": [
          21,
          26,
          19,
          21,
          16,
          17,
          20,
          15,
          20,
          24,
          10,
          20,
          18,
          11,
          14,
          9,
          9,
          12,
          12,
          5,
          6,
          16,
          5,
          5,
          8,
          7,
          7
         ],
         "yaxis": "y"
        },
        {
         "hovertemplate": "Municipio=Huatabampo<br>Año=%{x}<br>nacimientos=%{y}<extra></extra>",
         "legendgroup": "Huatabampo",
         "line": {
          "color": "#00BF7D",
          "dash": "solid"
         },
         "marker": {
          "symbol": "circle"
         },
         "mode": "lines",
         "name": "Huatabampo",
         "showlegend": true,
         "type": "scattergl",
         "x": [
          1994,
          1995,
          1996,
          1997,
          1998,
          1999,
          2000,
          2001,
          2002,
          2003,
          2004,
          2005,
          2006,
          2007,
          2008,
          2009,
          2010,
          2011,
          2012,
          2013,
          2014,
          2015,
          2016,
          2017,
          2018,
          2019,
          2020
         ],
         "xaxis": "x",
         "y": [
          2130,
          2002,
          1960,
          1978,
          1894,
          2053,
          2070,
          1847,
          2168,
          1763,
          1667,
          1744,
          1646,
          1735,
          1566,
          1490,
          1561,
          1488,
          1398,
          1303,
          1274,
          1298,
          1215,
          1236,
          1211,
          1186,
          931
         ],
         "yaxis": "y"
        },
        {
         "hovertemplate": "Municipio=Huépac<br>Año=%{x}<br>nacimientos=%{y}<extra></extra>",
         "legendgroup": "Huépac",
         "line": {
          "color": "#00B0F6",
          "dash": "solid"
         },
         "marker": {
          "symbol": "circle"
         },
         "mode": "lines",
         "name": "Huépac",
         "showlegend": true,
         "type": "scattergl",
         "x": [
          1994,
          1995,
          1996,
          1997,
          1998,
          1999,
          2000,
          2001,
          2002,
          2003,
          2004,
          2005,
          2006,
          2007,
          2008,
          2009,
          2010,
          2011,
          2012,
          2013,
          2014,
          2015,
          2016,
          2017,
          2018,
          2019,
          2020
         ],
         "xaxis": "x",
         "y": [
          25,
          30,
          17,
          23,
          19,
          23,
          16,
          12,
          24,
          16,
          21,
          20,
          11,
          15,
          11,
          20,
          11,
          10,
          3,
          9,
          12,
          12,
          7,
          12,
          6,
          13,
          4
         ],
         "yaxis": "y"
        },
        {
         "hovertemplate": "Municipio=Imuris<br>Año=%{x}<br>nacimientos=%{y}<extra></extra>",
         "legendgroup": "Imuris",
         "line": {
          "color": "#E76BF3",
          "dash": "solid"
         },
         "marker": {
          "symbol": "circle"
         },
         "mode": "lines",
         "name": "Imuris",
         "showlegend": true,
         "type": "scattergl",
         "x": [
          1994,
          1995,
          1996,
          1997,
          1998,
          1999,
          2000,
          2001,
          2002,
          2003,
          2004,
          2005,
          2006,
          2007,
          2008,
          2009,
          2010,
          2011,
          2012,
          2013,
          2014,
          2015,
          2016,
          2017,
          2018,
          2019,
          2020
         ],
         "xaxis": "x",
         "y": [
          273,
          359,
          319,
          278,
          317,
          292,
          303,
          290,
          307,
          272,
          275,
          285,
          287,
          282,
          285,
          276,
          275,
          301,
          294,
          245,
          242,
          241,
          248,
          255,
          231,
          228,
          111
         ],
         "yaxis": "y"
        },
        {
         "hovertemplate": "Municipio=Magdalena<br>Año=%{x}<br>nacimientos=%{y}<extra></extra>",
         "legendgroup": "Magdalena",
         "line": {
          "color": "#F8766D",
          "dash": "solid"
         },
         "marker": {
          "symbol": "circle"
         },
         "mode": "lines",
         "name": "Magdalena",
         "showlegend": true,
         "type": "scattergl",
         "x": [
          1994,
          1995,
          1996,
          1997,
          1998,
          1999,
          2000,
          2001,
          2002,
          2003,
          2004,
          2005,
          2006,
          2007,
          2008,
          2009,
          2010,
          2011,
          2012,
          2013,
          2014,
          2015,
          2016,
          2017,
          2018,
          2019,
          2020
         ],
         "xaxis": "x",
         "y": [
          607,
          647,
          697,
          653,
          670,
          692,
          666,
          697,
          662,
          714,
          662,
          661,
          635,
          611,
          637,
          650,
          641,
          641,
          647,
          682,
          601,
          591,
          607,
          547,
          502,
          509,
          395
         ],
         "yaxis": "y"
        },
        {
         "hovertemplate": "Municipio=Mazatán<br>Año=%{x}<br>nacimientos=%{y}<extra></extra>",
         "legendgroup": "Mazatán",
         "line": {
          "color": "#A3A500",
          "dash": "solid"
         },
         "marker": {
          "symbol": "circle"
         },
         "mode": "lines",
         "name": "Mazatán",
         "showlegend": true,
         "type": "scattergl",
         "x": [
          1994,
          1995,
          1996,
          1997,
          1998,
          1999,
          2000,
          2001,
          2002,
          2003,
          2004,
          2005,
          2006,
          2007,
          2008,
          2009,
          2010,
          2011,
          2012,
          2013,
          2014,
          2015,
          2016,
          2017,
          2018,
          2019,
          2020
         ],
         "xaxis": "x",
         "y": [
          40,
          35,
          50,
          43,
          35,
          26,
          29,
          29,
          17,
          26,
          28,
          22,
          18,
          25,
          24,
          16,
          14,
          21,
          12,
          21,
          25,
          11,
          13,
          8,
          7,
          14,
          17
         ],
         "yaxis": "y"
        },
        {
         "hovertemplate": "Municipio=Moctezuma<br>Año=%{x}<br>nacimientos=%{y}<extra></extra>",
         "legendgroup": "Moctezuma",
         "line": {
          "color": "#00BF7D",
          "dash": "solid"
         },
         "marker": {
          "symbol": "circle"
         },
         "mode": "lines",
         "name": "Moctezuma",
         "showlegend": true,
         "type": "scattergl",
         "x": [
          1994,
          1995,
          1996,
          1997,
          1998,
          1999,
          2000,
          2001,
          2002,
          2003,
          2004,
          2005,
          2006,
          2007,
          2008,
          2009,
          2010,
          2011,
          2012,
          2013,
          2014,
          2015,
          2016,
          2017,
          2018,
          2019,
          2020
         ],
         "xaxis": "x",
         "y": [
          340,
          106,
          84,
          89,
          86,
          94,
          84,
          95,
          75,
          84,
          92,
          78,
          56,
          73,
          83,
          84,
          83,
          97,
          82,
          94,
          71,
          80,
          65,
          85,
          72,
          77,
          67
         ],
         "yaxis": "y"
        },
        {
         "hovertemplate": "Municipio=Naco<br>Año=%{x}<br>nacimientos=%{y}<extra></extra>",
         "legendgroup": "Naco",
         "line": {
          "color": "#00B0F6",
          "dash": "solid"
         },
         "marker": {
          "symbol": "circle"
         },
         "mode": "lines",
         "name": "Naco",
         "showlegend": true,
         "type": "scattergl",
         "x": [
          1994,
          1995,
          1996,
          1997,
          1998,
          1999,
          2000,
          2001,
          2002,
          2003,
          2004,
          2005,
          2006,
          2007,
          2008,
          2009,
          2010,
          2011,
          2012,
          2013,
          2014,
          2015,
          2016,
          2017,
          2018,
          2019,
          2020
         ],
         "xaxis": "x",
         "y": [
          129,
          182,
          160,
          163,
          136,
          139,
          165,
          159,
          144,
          117,
          130,
          116,
          112,
          125,
          104,
          110,
          115,
          138,
          134,
          127,
          109,
          100,
          92,
          98,
          83,
          102,
          57
         ],
         "yaxis": "y"
        },
        {
         "hovertemplate": "Municipio=Nácori Chico<br>Año=%{x}<br>nacimientos=%{y}<extra></extra>",
         "legendgroup": "Nácori Chico",
         "line": {
          "color": "#E76BF3",
          "dash": "solid"
         },
         "marker": {
          "symbol": "circle"
         },
         "mode": "lines",
         "name": "Nácori Chico",
         "showlegend": true,
         "type": "scattergl",
         "x": [
          1994,
          1995,
          1996,
          1997,
          1998,
          1999,
          2000,
          2001,
          2002,
          2003,
          2004,
          2005,
          2006,
          2007,
          2008,
          2009,
          2010,
          2011,
          2012,
          2013,
          2014,
          2015,
          2016,
          2017,
          2018,
          2019,
          2020
         ],
         "xaxis": "x",
         "y": [
          25,
          45,
          68,
          70,
          61,
          52,
          39,
          43,
          52,
          34,
          37,
          45,
          33,
          44,
          28,
          42,
          48,
          49,
          45,
          38,
          39,
          39,
          31,
          35,
          31,
          19,
          17
         ],
         "yaxis": "y"
        },
        {
         "hovertemplate": "Municipio=Nacozari de García<br>Año=%{x}<br>nacimientos=%{y}<extra></extra>",
         "legendgroup": "Nacozari de García",
         "line": {
          "color": "#F8766D",
          "dash": "solid"
         },
         "marker": {
          "symbol": "circle"
         },
         "mode": "lines",
         "name": "Nacozari de García",
         "showlegend": true,
         "type": "scattergl",
         "x": [
          1994,
          1995,
          1996,
          1997,
          1998,
          1999,
          2000,
          2001,
          2002,
          2003,
          2004,
          2005,
          2006,
          2007,
          2008,
          2009,
          2010,
          2011,
          2012,
          2013,
          2014,
          2015,
          2016,
          2017,
          2018,
          2019,
          2020
         ],
         "xaxis": "x",
         "y": [
          422,
          414,
          403,
          453,
          465,
          505,
          430,
          355,
          367,
          303,
          291,
          269,
          276,
          302,
          274,
          296,
          254,
          311,
          319,
          307,
          294,
          278,
          229,
          251,
          233,
          243,
          127
         ],
         "yaxis": "y"
        },
        {
         "hovertemplate": "Municipio=Navojoa<br>Año=%{x}<br>nacimientos=%{y}<extra></extra>",
         "legendgroup": "Navojoa",
         "line": {
          "color": "#A3A500",
          "dash": "solid"
         },
         "marker": {
          "symbol": "circle"
         },
         "mode": "lines",
         "name": "Navojoa",
         "showlegend": true,
         "type": "scattergl",
         "x": [
          1994,
          1995,
          1996,
          1997,
          1998,
          1999,
          2000,
          2001,
          2002,
          2003,
          2004,
          2005,
          2006,
          2007,
          2008,
          2009,
          2010,
          2011,
          2012,
          2013,
          2014,
          2015,
          2016,
          2017,
          2018,
          2019,
          2020
         ],
         "xaxis": "x",
         "y": [
          3421,
          3612,
          3612,
          3615,
          3439,
          3832,
          4080,
          3759,
          3724,
          3478,
          3358,
          3479,
          3321,
          3419,
          3285,
          2982,
          3169,
          3049,
          2918,
          2831,
          2694,
          2777,
          2750,
          2717,
          2499,
          2542,
          2107
         ],
         "yaxis": "y"
        },
        {
         "hovertemplate": "Municipio=Nogales<br>Año=%{x}<br>nacimientos=%{y}<extra></extra>",
         "legendgroup": "Nogales",
         "line": {
          "color": "#00BF7D",
          "dash": "solid"
         },
         "marker": {
          "symbol": "circle"
         },
         "mode": "lines",
         "name": "Nogales",
         "showlegend": true,
         "type": "scattergl",
         "x": [
          1994,
          1995,
          1996,
          1997,
          1998,
          1999,
          2000,
          2001,
          2002,
          2003,
          2004,
          2005,
          2006,
          2007,
          2008,
          2009,
          2010,
          2011,
          2012,
          2013,
          2014,
          2015,
          2016,
          2017,
          2018,
          2019,
          2020
         ],
         "xaxis": "x",
         "y": [
          4058,
          4340,
          4563,
          4527,
          4693,
          5009,
          5173,
          5345,
          5098,
          4895,
          4893,
          4968,
          4858,
          5100,
          5288,
          4899,
          4746,
          4975,
          4774,
          4384,
          4342,
          4216,
          4007,
          4001,
          3732,
          3903,
          2797
         ],
         "yaxis": "y"
        },
        {
         "hovertemplate": "Municipio=Onavas<br>Año=%{x}<br>nacimientos=%{y}<extra></extra>",
         "legendgroup": "Onavas",
         "line": {
          "color": "#00B0F6",
          "dash": "solid"
         },
         "marker": {
          "symbol": "circle"
         },
         "mode": "lines",
         "name": "Onavas",
         "showlegend": true,
         "type": "scattergl",
         "x": [
          1994,
          1995,
          1996,
          1997,
          1998,
          1999,
          2000,
          2001,
          2002,
          2003,
          2004,
          2005,
          2006,
          2007,
          2008,
          2009,
          2010,
          2011,
          2012,
          2013,
          2014,
          2015,
          2016,
          2017,
          2018,
          2019,
          2020
         ],
         "xaxis": "x",
         "y": [
          6,
          9,
          13,
          9,
          7,
          10,
          4,
          2,
          3,
          5,
          11,
          4,
          13,
          10,
          5,
          6,
          5,
          5,
          5,
          4,
          12,
          7,
          4,
          5,
          5,
          11,
          12
         ],
         "yaxis": "y"
        },
        {
         "hovertemplate": "Municipio=Opodepe<br>Año=%{x}<br>nacimientos=%{y}<extra></extra>",
         "legendgroup": "Opodepe",
         "line": {
          "color": "#E76BF3",
          "dash": "solid"
         },
         "marker": {
          "symbol": "circle"
         },
         "mode": "lines",
         "name": "Opodepe",
         "showlegend": true,
         "type": "scattergl",
         "x": [
          1994,
          1995,
          1996,
          1997,
          1998,
          1999,
          2000,
          2001,
          2002,
          2003,
          2004,
          2005,
          2006,
          2007,
          2008,
          2009,
          2010,
          2011,
          2012,
          2013,
          2014,
          2015,
          2016,
          2017,
          2018,
          2019,
          2020
         ],
         "xaxis": "x",
         "y": [
          67,
          82,
          69,
          78,
          74,
          84,
          65,
          54,
          60,
          61,
          46,
          63,
          52,
          46,
          74,
          64,
          58,
          56,
          45,
          37,
          39,
          36,
          30,
          33,
          23,
          20,
          22
         ],
         "yaxis": "y"
        },
        {
         "hovertemplate": "Municipio=Oquitoa<br>Año=%{x}<br>nacimientos=%{y}<extra></extra>",
         "legendgroup": "Oquitoa",
         "line": {
          "color": "#F8766D",
          "dash": "solid"
         },
         "marker": {
          "symbol": "circle"
         },
         "mode": "lines",
         "name": "Oquitoa",
         "showlegend": true,
         "type": "scattergl",
         "x": [
          1994,
          1995,
          1996,
          1997,
          1998,
          1999,
          2000,
          2001,
          2002,
          2003,
          2004,
          2005,
          2006,
          2007,
          2008,
          2009,
          2010,
          2011,
          2012,
          2013,
          2014,
          2015,
          2016,
          2017,
          2018,
          2019,
          2020
         ],
         "xaxis": "x",
         "y": [
          3,
          11,
          19,
          14,
          14,
          9,
          6,
          10,
          5,
          3,
          8,
          12,
          3,
          7,
          13,
          9,
          10,
          9,
          5,
          2,
          14,
          7,
          10,
          6,
          4,
          2,
          4
         ],
         "yaxis": "y"
        },
        {
         "hovertemplate": "Municipio=Pitiquito<br>Año=%{x}<br>nacimientos=%{y}<extra></extra>",
         "legendgroup": "Pitiquito",
         "line": {
          "color": "#A3A500",
          "dash": "solid"
         },
         "marker": {
          "symbol": "circle"
         },
         "mode": "lines",
         "name": "Pitiquito",
         "showlegend": true,
         "type": "scattergl",
         "x": [
          1994,
          1995,
          1996,
          1997,
          1998,
          1999,
          2000,
          2001,
          2002,
          2003,
          2004,
          2005,
          2006,
          2007,
          2008,
          2009,
          2010,
          2011,
          2012,
          2013,
          2014,
          2015,
          2016,
          2017,
          2018,
          2019,
          2020
         ],
         "xaxis": "x",
         "y": [
          209,
          234,
          211,
          216,
          246,
          191,
          221,
          211,
          166,
          178,
          198,
          164,
          177,
          159,
          203,
          166,
          174,
          176,
          196,
          196,
          168,
          155,
          151,
          138,
          147,
          146,
          96
         ],
         "yaxis": "y"
        },
        {
         "hovertemplate": "Municipio=Puerto Peñasco<br>Año=%{x}<br>nacimientos=%{y}<extra></extra>",
         "legendgroup": "Puerto Peñasco",
         "line": {
          "color": "#00BF7D",
          "dash": "solid"
         },
         "marker": {
          "symbol": "circle"
         },
         "mode": "lines",
         "name": "Puerto Peñasco",
         "showlegend": true,
         "type": "scattergl",
         "x": [
          1994,
          1995,
          1996,
          1997,
          1998,
          1999,
          2000,
          2001,
          2002,
          2003,
          2004,
          2005,
          2006,
          2007,
          2008,
          2009,
          2010,
          2011,
          2012,
          2013,
          2014,
          2015,
          2016,
          2017,
          2018,
          2019,
          2020
         ],
         "xaxis": "x",
         "y": [
          653,
          771,
          781,
          781,
          941,
          896,
          918,
          973,
          951,
          986,
          907,
          1163,
          1237,
          1416,
          1680,
          1438,
          1307,
          1200,
          1228,
          1096,
          1095,
          956,
          949,
          948,
          1069,
          1077,
          563
         ],
         "yaxis": "y"
        },
        {
         "hovertemplate": "Municipio=Quiriego<br>Año=%{x}<br>nacimientos=%{y}<extra></extra>",
         "legendgroup": "Quiriego",
         "line": {
          "color": "#00B0F6",
          "dash": "solid"
         },
         "marker": {
          "symbol": "circle"
         },
         "mode": "lines",
         "name": "Quiriego",
         "showlegend": true,
         "type": "scattergl",
         "x": [
          1994,
          1995,
          1996,
          1997,
          1998,
          1999,
          2000,
          2001,
          2002,
          2003,
          2004,
          2005,
          2006,
          2007,
          2008,
          2009,
          2010,
          2011,
          2012,
          2013,
          2014,
          2015,
          2016,
          2017,
          2018,
          2019,
          2020
         ],
         "xaxis": "x",
         "y": [
          78,
          114,
          99,
          72,
          49,
          55,
          58,
          86,
          71,
          85,
          62,
          130,
          64,
          71,
          77,
          60,
          101,
          66,
          76,
          92,
          76,
          64,
          68,
          55,
          59,
          53,
          44
         ],
         "yaxis": "y"
        },
        {
         "hovertemplate": "Municipio=Rayón<br>Año=%{x}<br>nacimientos=%{y}<extra></extra>",
         "legendgroup": "Rayón",
         "line": {
          "color": "#E76BF3",
          "dash": "solid"
         },
         "marker": {
          "symbol": "circle"
         },
         "mode": "lines",
         "name": "Rayón",
         "showlegend": true,
         "type": "scattergl",
         "x": [
          1994,
          1995,
          1996,
          1997,
          1998,
          1999,
          2000,
          2001,
          2002,
          2003,
          2004,
          2005,
          2006,
          2007,
          2008,
          2009,
          2010,
          2011,
          2012,
          2013,
          2014,
          2015,
          2016,
          2017,
          2018,
          2019,
          2020
         ],
         "xaxis": "x",
         "y": [
          25,
          27,
          23,
          42,
          25,
          27,
          12,
          19,
          17,
          25,
          27,
          27,
          24,
          19,
          20,
          24,
          22,
          19,
          23,
          30,
          22,
          20,
          20,
          17,
          21,
          10,
          16
         ],
         "yaxis": "y"
        },
        {
         "hovertemplate": "Municipio=Rosario<br>Año=%{x}<br>nacimientos=%{y}<extra></extra>",
         "legendgroup": "Rosario",
         "line": {
          "color": "#F8766D",
          "dash": "solid"
         },
         "marker": {
          "symbol": "circle"
         },
         "mode": "lines",
         "name": "Rosario",
         "showlegend": true,
         "type": "scattergl",
         "x": [
          1994,
          1995,
          1996,
          1997,
          1998,
          1999,
          2000,
          2001,
          2002,
          2003,
          2004,
          2005,
          2006,
          2007,
          2008,
          2009,
          2010,
          2011,
          2012,
          2013,
          2014,
          2015,
          2016,
          2017,
          2018,
          2019,
          2020
         ],
         "xaxis": "x",
         "y": [
          151,
          175,
          127,
          150,
          171,
          140,
          151,
          117,
          125,
          110,
          111,
          114,
          102,
          90,
          122,
          111,
          131,
          113,
          98,
          104,
          100,
          109,
          91,
          87,
          80,
          93,
          78
         ],
         "yaxis": "y"
        },
        {
         "hovertemplate": "Municipio=Sahuaripa<br>Año=%{x}<br>nacimientos=%{y}<extra></extra>",
         "legendgroup": "Sahuaripa",
         "line": {
          "color": "#A3A500",
          "dash": "solid"
         },
         "marker": {
          "symbol": "circle"
         },
         "mode": "lines",
         "name": "Sahuaripa",
         "showlegend": true,
         "type": "scattergl",
         "x": [
          1994,
          1995,
          1996,
          1997,
          1998,
          1999,
          2000,
          2001,
          2002,
          2003,
          2004,
          2005,
          2006,
          2007,
          2008,
          2009,
          2010,
          2011,
          2012,
          2013,
          2014,
          2015,
          2016,
          2017,
          2018,
          2019,
          2020
         ],
         "xaxis": "x",
         "y": [
          135,
          125,
          129,
          123,
          148,
          133,
          108,
          117,
          126,
          106,
          121,
          106,
          99,
          95,
          105,
          113,
          89,
          99,
          108,
          88,
          101,
          76,
          66,
          82,
          67,
          60,
          35
         ],
         "yaxis": "y"
        },
        {
         "hovertemplate": "Municipio=San Felipe de Jesús<br>Año=%{x}<br>nacimientos=%{y}<extra></extra>",
         "legendgroup": "San Felipe de Jesús",
         "line": {
          "color": "#00BF7D",
          "dash": "solid"
         },
         "marker": {
          "symbol": "circle"
         },
         "mode": "lines",
         "name": "San Felipe de Jesús",
         "showlegend": true,
         "type": "scattergl",
         "x": [
          1994,
          1995,
          1996,
          1997,
          1998,
          1999,
          2000,
          2001,
          2002,
          2003,
          2004,
          2005,
          2006,
          2007,
          2008,
          2009,
          2010,
          2011,
          2012,
          2013,
          2014,
          2015,
          2016,
          2017,
          2018,
          2019,
          2020
         ],
         "xaxis": "x",
         "y": [
          21,
          12,
          9,
          6,
          7,
          11,
          9,
          8,
          5,
          9,
          4,
          5,
          5,
          6,
          9,
          7,
          12,
          4,
          5,
          6,
          4,
          8,
          5,
          6,
          5,
          11,
          5
         ],
         "yaxis": "y"
        },
        {
         "hovertemplate": "Municipio=San Javier<br>Año=%{x}<br>nacimientos=%{y}<extra></extra>",
         "legendgroup": "San Javier",
         "line": {
          "color": "#00B0F6",
          "dash": "solid"
         },
         "marker": {
          "symbol": "circle"
         },
         "mode": "lines",
         "name": "San Javier",
         "showlegend": true,
         "type": "scattergl",
         "x": [
          1994,
          1995,
          1996,
          1997,
          1998,
          1999,
          2000,
          2001,
          2002,
          2003,
          2004,
          2005,
          2006,
          2007,
          2008,
          2009,
          2010,
          2011,
          2012,
          2013,
          2014,
          2015,
          2016,
          2017,
          2018,
          2019,
          2020
         ],
         "xaxis": "x",
         "y": [
          5,
          7,
          15,
          8,
          4,
          1,
          5,
          3,
          5,
          4,
          3,
          3,
          6,
          14,
          11,
          4,
          10,
          15,
          7,
          14,
          8,
          11,
          7,
          8,
          2,
          5,
          11
         ],
         "yaxis": "y"
        },
        {
         "hovertemplate": "Municipio=San Luis Río Colorado<br>Año=%{x}<br>nacimientos=%{y}<extra></extra>",
         "legendgroup": "San Luis Río Colorado",
         "line": {
          "color": "#E76BF3",
          "dash": "solid"
         },
         "marker": {
          "symbol": "circle"
         },
         "mode": "lines",
         "name": "San Luis Río Colorado",
         "showlegend": true,
         "type": "scattergl",
         "x": [
          1994,
          1995,
          1996,
          1997,
          1998,
          1999,
          2000,
          2001,
          2002,
          2003,
          2004,
          2005,
          2006,
          2007,
          2008,
          2009,
          2010,
          2011,
          2012,
          2013,
          2014,
          2015,
          2016,
          2017,
          2018,
          2019,
          2020
         ],
         "xaxis": "x",
         "y": [
          3317,
          3548,
          3467,
          3556,
          3615,
          3693,
          3817,
          3568,
          3606,
          3272,
          3430,
          3408,
          3479,
          3604,
          3591,
          3460,
          3374,
          3436,
          3531,
          3432,
          3466,
          3225,
          3065,
          3006,
          2887,
          3025,
          2027
         ],
         "yaxis": "y"
        },
        {
         "hovertemplate": "Municipio=San Miguel de Horcasitas<br>Año=%{x}<br>nacimientos=%{y}<extra></extra>",
         "legendgroup": "San Miguel de Horcasitas",
         "line": {
          "color": "#F8766D",
          "dash": "solid"
         },
         "marker": {
          "symbol": "circle"
         },
         "mode": "lines",
         "name": "San Miguel de Horcasitas",
         "showlegend": true,
         "type": "scattergl",
         "x": [
          1994,
          1995,
          1996,
          1997,
          1998,
          1999,
          2000,
          2001,
          2002,
          2003,
          2004,
          2005,
          2006,
          2007,
          2008,
          2009,
          2010,
          2011,
          2012,
          2013,
          2014,
          2015,
          2016,
          2017,
          2018,
          2019,
          2020
         ],
         "xaxis": "x",
         "y": [
          96,
          116,
          140,
          102,
          248,
          202,
          187,
          266,
          265,
          337,
          182,
          182,
          206,
          208,
          198,
          277,
          253,
          240,
          230,
          275,
          224,
          247,
          227,
          231,
          240,
          217,
          171
         ],
         "yaxis": "y"
        },
        {
         "hovertemplate": "Municipio=San Pedro de la Cueva<br>Año=%{x}<br>nacimientos=%{y}<extra></extra>",
         "legendgroup": "San Pedro de la Cueva",
         "line": {
          "color": "#A3A500",
          "dash": "solid"
         },
         "marker": {
          "symbol": "circle"
         },
         "mode": "lines",
         "name": "San Pedro de la Cueva",
         "showlegend": true,
         "type": "scattergl",
         "x": [
          1994,
          1995,
          1996,
          1997,
          1998,
          1999,
          2000,
          2001,
          2002,
          2003,
          2004,
          2005,
          2006,
          2007,
          2008,
          2009,
          2010,
          2011,
          2012,
          2013,
          2014,
          2015,
          2016,
          2017,
          2018,
          2019,
          2020
         ],
         "xaxis": "x",
         "y": [
          49,
          36,
          43,
          28,
          33,
          32,
          27,
          29,
          33,
          41,
          22,
          15,
          15,
          19,
          18,
          18,
          24,
          21,
          19,
          9,
          12,
          19,
          28,
          19,
          8,
          13,
          12
         ],
         "yaxis": "y"
        },
        {
         "hovertemplate": "Municipio=Santa Ana<br>Año=%{x}<br>nacimientos=%{y}<extra></extra>",
         "legendgroup": "Santa Ana",
         "line": {
          "color": "#00BF7D",
          "dash": "solid"
         },
         "marker": {
          "symbol": "circle"
         },
         "mode": "lines",
         "name": "Santa Ana",
         "showlegend": true,
         "type": "scattergl",
         "x": [
          1994,
          1995,
          1996,
          1997,
          1998,
          1999,
          2000,
          2001,
          2002,
          2003,
          2004,
          2005,
          2006,
          2007,
          2008,
          2009,
          2010,
          2011,
          2012,
          2013,
          2014,
          2015,
          2016,
          2017,
          2018,
          2019,
          2020
         ],
         "xaxis": "x",
         "y": [
          325,
          384,
          373,
          332,
          364,
          356,
          363,
          334,
          385,
          351,
          347,
          365,
          341,
          328,
          335,
          288,
          322,
          351,
          348,
          294,
          296,
          299,
          286,
          271,
          239,
          256,
          190
         ],
         "yaxis": "y"
        },
        {
         "hovertemplate": "Municipio=Santa Cruz<br>Año=%{x}<br>nacimientos=%{y}<extra></extra>",
         "legendgroup": "Santa Cruz",
         "line": {
          "color": "#00B0F6",
          "dash": "solid"
         },
         "marker": {
          "symbol": "circle"
         },
         "mode": "lines",
         "name": "Santa Cruz",
         "showlegend": true,
         "type": "scattergl",
         "x": [
          1994,
          1995,
          1996,
          1997,
          1998,
          1999,
          2000,
          2001,
          2002,
          2003,
          2004,
          2005,
          2006,
          2007,
          2008,
          2009,
          2010,
          2011,
          2012,
          2013,
          2014,
          2015,
          2016,
          2017,
          2018,
          2019,
          2020
         ],
         "xaxis": "x",
         "y": [
          41,
          40,
          33,
          37,
          51,
          38,
          51,
          35,
          51,
          42,
          45,
          43,
          39,
          50,
          44,
          59,
          63,
          55,
          43,
          42,
          46,
          46,
          30,
          34,
          54,
          31,
          21
         ],
         "yaxis": "y"
        },
        {
         "hovertemplate": "Municipio=Sáric<br>Año=%{x}<br>nacimientos=%{y}<extra></extra>",
         "legendgroup": "Sáric",
         "line": {
          "color": "#E76BF3",
          "dash": "solid"
         },
         "marker": {
          "symbol": "circle"
         },
         "mode": "lines",
         "name": "Sáric",
         "showlegend": true,
         "type": "scattergl",
         "x": [
          1994,
          1995,
          1996,
          1997,
          1998,
          1999,
          2000,
          2001,
          2002,
          2003,
          2004,
          2005,
          2006,
          2007,
          2008,
          2009,
          2010,
          2011,
          2012,
          2013,
          2014,
          2015,
          2016,
          2017,
          2018,
          2019,
          2020
         ],
         "xaxis": "x",
         "y": [
          31,
          48,
          55,
          55,
          50,
          56,
          67,
          57,
          68,
          70,
          72,
          71,
          93,
          70,
          61,
          63,
          61,
          31,
          52,
          27,
          48,
          45,
          26,
          25,
          32,
          32,
          14
         ],
         "yaxis": "y"
        },
        {
         "hovertemplate": "Municipio=Soyopa<br>Año=%{x}<br>nacimientos=%{y}<extra></extra>",
         "legendgroup": "Soyopa",
         "line": {
          "color": "#F8766D",
          "dash": "solid"
         },
         "marker": {
          "symbol": "circle"
         },
         "mode": "lines",
         "name": "Soyopa",
         "showlegend": true,
         "type": "scattergl",
         "x": [
          1994,
          1995,
          1996,
          1997,
          1998,
          1999,
          2000,
          2001,
          2002,
          2003,
          2004,
          2005,
          2006,
          2007,
          2008,
          2009,
          2010,
          2011,
          2012,
          2013,
          2014,
          2015,
          2016,
          2017,
          2018,
          2019,
          2020
         ],
         "xaxis": "x",
         "y": [
          22,
          35,
          36,
          29,
          33,
          35,
          26,
          25,
          22,
          19,
          21,
          31,
          28,
          31,
          23,
          20,
          21,
          14,
          14,
          19,
          31,
          23,
          11,
          14,
          30,
          16,
          20
         ],
         "yaxis": "y"
        },
        {
         "hovertemplate": "Municipio=Suaqui Grande<br>Año=%{x}<br>nacimientos=%{y}<extra></extra>",
         "legendgroup": "Suaqui Grande",
         "line": {
          "color": "#A3A500",
          "dash": "solid"
         },
         "marker": {
          "symbol": "circle"
         },
         "mode": "lines",
         "name": "Suaqui Grande",
         "showlegend": true,
         "type": "scattergl",
         "x": [
          1994,
          1995,
          1996,
          1997,
          1998,
          1999,
          2000,
          2001,
          2002,
          2003,
          2004,
          2005,
          2006,
          2007,
          2008,
          2009,
          2010,
          2011,
          2012,
          2013,
          2014,
          2015,
          2016,
          2017,
          2018,
          2019,
          2020
         ],
         "xaxis": "x",
         "y": [
          38,
          43,
          35,
          19,
          21,
          23,
          24,
          35,
          34,
          21,
          25,
          30,
          21,
          27,
          28,
          24,
          26,
          21,
          18,
          14,
          18,
          17,
          10,
          13,
          17,
          14,
          15
         ],
         "yaxis": "y"
        },
        {
         "hovertemplate": "Municipio=Tepache<br>Año=%{x}<br>nacimientos=%{y}<extra></extra>",
         "legendgroup": "Tepache",
         "line": {
          "color": "#00BF7D",
          "dash": "solid"
         },
         "marker": {
          "symbol": "circle"
         },
         "mode": "lines",
         "name": "Tepache",
         "showlegend": true,
         "type": "scattergl",
         "x": [
          1994,
          1995,
          1996,
          1997,
          1998,
          1999,
          2000,
          2001,
          2002,
          2003,
          2004,
          2005,
          2006,
          2007,
          2008,
          2009,
          2010,
          2011,
          2012,
          2013,
          2014,
          2015,
          2016,
          2017,
          2018,
          2019,
          2020
         ],
         "xaxis": "x",
         "y": [
          23,
          28,
          21,
          17,
          12,
          20,
          16,
          21,
          23,
          20,
          8,
          13,
          14,
          13,
          13,
          21,
          14,
          14,
          13,
          13,
          7,
          7,
          11,
          9,
          7,
          9,
          11
         ],
         "yaxis": "y"
        },
        {
         "hovertemplate": "Municipio=Trincheras<br>Año=%{x}<br>nacimientos=%{y}<extra></extra>",
         "legendgroup": "Trincheras",
         "line": {
          "color": "#00B0F6",
          "dash": "solid"
         },
         "marker": {
          "symbol": "circle"
         },
         "mode": "lines",
         "name": "Trincheras",
         "showlegend": true,
         "type": "scattergl",
         "x": [
          1994,
          1995,
          1996,
          1997,
          1998,
          1999,
          2000,
          2001,
          2002,
          2003,
          2004,
          2005,
          2006,
          2007,
          2008,
          2009,
          2010,
          2011,
          2012,
          2013,
          2014,
          2015,
          2016,
          2017,
          2018,
          2019,
          2020
         ],
         "xaxis": "x",
         "y": [
          43,
          46,
          36,
          43,
          6,
          13,
          44,
          42,
          37,
          36,
          41,
          41,
          39,
          32,
          37,
          32,
          36,
          36,
          32,
          32,
          22,
          22,
          26,
          31,
          30,
          20,
          10
         ],
         "yaxis": "y"
        },
        {
         "hovertemplate": "Municipio=Tubutama<br>Año=%{x}<br>nacimientos=%{y}<extra></extra>",
         "legendgroup": "Tubutama",
         "line": {
          "color": "#E76BF3",
          "dash": "solid"
         },
         "marker": {
          "symbol": "circle"
         },
         "mode": "lines",
         "name": "Tubutama",
         "showlegend": true,
         "type": "scattergl",
         "x": [
          1994,
          1995,
          1996,
          1997,
          1998,
          1999,
          2000,
          2001,
          2002,
          2003,
          2004,
          2005,
          2006,
          2007,
          2008,
          2009,
          2010,
          2011,
          2012,
          2013,
          2014,
          2015,
          2016,
          2017,
          2018,
          2019,
          2020
         ],
         "xaxis": "x",
         "y": [
          43,
          58,
          66,
          44,
          59,
          50,
          34,
          55,
          43,
          34,
          39,
          43,
          46,
          44,
          37,
          36,
          37,
          30,
          33,
          34,
          24,
          21,
          23,
          31,
          16,
          14,
          10
         ],
         "yaxis": "y"
        },
        {
         "hovertemplate": "Municipio=Ures<br>Año=%{x}<br>nacimientos=%{y}<extra></extra>",
         "legendgroup": "Ures",
         "line": {
          "color": "#F8766D",
          "dash": "solid"
         },
         "marker": {
          "symbol": "circle"
         },
         "mode": "lines",
         "name": "Ures",
         "showlegend": true,
         "type": "scattergl",
         "x": [
          1994,
          1995,
          1996,
          1997,
          1998,
          1999,
          2000,
          2001,
          2002,
          2003,
          2004,
          2005,
          2006,
          2007,
          2008,
          2009,
          2010,
          2011,
          2012,
          2013,
          2014,
          2015,
          2016,
          2017,
          2018,
          2019,
          2020
         ],
         "xaxis": "x",
         "y": [
          237,
          243,
          248,
          230,
          214,
          205,
          210,
          198,
          208,
          185,
          192,
          170,
          183,
          148,
          161,
          151,
          147,
          147,
          143,
          118,
          119,
          132,
          116,
          100,
          107,
          114,
          103
         ],
         "yaxis": "y"
        },
        {
         "hovertemplate": "Municipio=Villa Hidalgo<br>Año=%{x}<br>nacimientos=%{y}<extra></extra>",
         "legendgroup": "Villa Hidalgo",
         "line": {
          "color": "#A3A500",
          "dash": "solid"
         },
         "marker": {
          "symbol": "circle"
         },
         "mode": "lines",
         "name": "Villa Hidalgo",
         "showlegend": true,
         "type": "scattergl",
         "x": [
          1994,
          1995,
          1996,
          1997,
          1998,
          1999,
          2000,
          2001,
          2002,
          2003,
          2004,
          2005,
          2006,
          2007,
          2008,
          2009,
          2010,
          2011,
          2012,
          2013,
          2014,
          2015,
          2016,
          2017,
          2018,
          2019,
          2020
         ],
         "xaxis": "x",
         "y": [
          28,
          27,
          25,
          34,
          42,
          42,
          39,
          31,
          32,
          30,
          40,
          35,
          35,
          31,
          35,
          29,
          37,
          37,
          32,
          25,
          14,
          25,
          16,
          14,
          11,
          9,
          7
         ],
         "yaxis": "y"
        },
        {
         "hovertemplate": "Municipio=Villa Pesqueira<br>Año=%{x}<br>nacimientos=%{y}<extra></extra>",
         "legendgroup": "Villa Pesqueira",
         "line": {
          "color": "#00BF7D",
          "dash": "solid"
         },
         "marker": {
          "symbol": "circle"
         },
         "mode": "lines",
         "name": "Villa Pesqueira",
         "showlegend": true,
         "type": "scattergl",
         "x": [
          1994,
          1995,
          1996,
          1997,
          1998,
          1999,
          2000,
          2001,
          2002,
          2003,
          2004,
          2005,
          2006,
          2007,
          2008,
          2009,
          2010,
          2011,
          2012,
          2013,
          2014,
          2015,
          2016,
          2017,
          2018,
          2019,
          2020
         ],
         "xaxis": "x",
         "y": [
          38,
          56,
          38,
          25,
          43,
          38,
          36,
          34,
          36,
          21,
          25,
          22,
          19,
          25,
          18,
          12,
          14,
          12,
          18,
          15,
          8,
          9,
          6,
          11,
          8,
          10,
          12
         ],
         "yaxis": "y"
        },
        {
         "hovertemplate": "Municipio=Yécora<br>Año=%{x}<br>nacimientos=%{y}<extra></extra>",
         "legendgroup": "Yécora",
         "line": {
          "color": "#00B0F6",
          "dash": "solid"
         },
         "marker": {
          "symbol": "circle"
         },
         "mode": "lines",
         "name": "Yécora",
         "showlegend": true,
         "type": "scattergl",
         "x": [
          1994,
          1995,
          1996,
          1997,
          1998,
          1999,
          2000,
          2001,
          2002,
          2003,
          2004,
          2005,
          2006,
          2007,
          2008,
          2009,
          2010,
          2011,
          2012,
          2013,
          2014,
          2015,
          2016,
          2017,
          2018,
          2019,
          2020
         ],
         "xaxis": "x",
         "y": [
          172,
          151,
          324,
          156,
          117,
          127,
          116,
          130,
          134,
          130,
          146,
          200,
          143,
          148,
          165,
          134,
          187,
          133,
          121,
          127,
          130,
          110,
          98,
          85,
          86,
          75,
          61
         ],
         "yaxis": "y"
        },
        {
         "hovertemplate": "Municipio=General Plutarco Elías Calles<br>Año=%{x}<br>nacimientos=%{y}<extra></extra>",
         "legendgroup": "General Plutarco Elías Calles",
         "line": {
          "color": "#E76BF3",
          "dash": "solid"
         },
         "marker": {
          "symbol": "circle"
         },
         "mode": "lines",
         "name": "General Plutarco Elías Calles",
         "showlegend": true,
         "type": "scattergl",
         "x": [
          1994,
          1995,
          1996,
          1997,
          1998,
          1999,
          2000,
          2001,
          2002,
          2003,
          2004,
          2005,
          2006,
          2007,
          2008,
          2009,
          2010,
          2011,
          2012,
          2013,
          2014,
          2015,
          2016,
          2017,
          2018,
          2019,
          2020
         ],
         "xaxis": "x",
         "y": [
          340,
          329,
          300,
          410,
          328,
          332,
          331,
          336,
          349,
          337,
          364,
          376,
          366,
          363,
          331,
          373,
          409,
          400,
          416,
          323,
          358,
          328,
          291,
          243,
          246,
          206,
          115
         ],
         "yaxis": "y"
        },
        {
         "hovertemplate": "Municipio=Benito Juárez<br>Año=%{x}<br>nacimientos=%{y}<extra></extra>",
         "legendgroup": "Benito Juárez",
         "line": {
          "color": "#F8766D",
          "dash": "solid"
         },
         "marker": {
          "symbol": "circle"
         },
         "mode": "lines",
         "name": "Benito Juárez",
         "showlegend": true,
         "type": "scattergl",
         "x": [
          1994,
          1995,
          1996,
          1997,
          1998,
          1999,
          2000,
          2001,
          2002,
          2003,
          2004,
          2005,
          2006,
          2007,
          2008,
          2009,
          2010,
          2011,
          2012,
          2013,
          2014,
          2015,
          2016,
          2017,
          2018,
          2019,
          2020
         ],
         "xaxis": "x",
         "y": [
          0,
          0,
          0,
          0,
          559,
          604,
          570,
          590,
          580,
          513,
          529,
          607,
          494,
          454,
          479,
          474,
          518,
          488,
          490,
          488,
          474,
          461,
          392,
          409,
          365,
          394,
          291
         ],
         "yaxis": "y"
        },
        {
         "hovertemplate": "Municipio=San Ignacio Río Muerto<br>Año=%{x}<br>nacimientos=%{y}<extra></extra>",
         "legendgroup": "San Ignacio Río Muerto",
         "line": {
          "color": "#A3A500",
          "dash": "solid"
         },
         "marker": {
          "symbol": "circle"
         },
         "mode": "lines",
         "name": "San Ignacio Río Muerto",
         "showlegend": true,
         "type": "scattergl",
         "x": [
          1994,
          1995,
          1996,
          1997,
          1998,
          1999,
          2000,
          2001,
          2002,
          2003,
          2004,
          2005,
          2006,
          2007,
          2008,
          2009,
          2010,
          2011,
          2012,
          2013,
          2014,
          2015,
          2016,
          2017,
          2018,
          2019,
          2020
         ],
         "xaxis": "x",
         "y": [
          0,
          0,
          0,
          0,
          329,
          412,
          338,
          334,
          337,
          356,
          347,
          313,
          304,
          298,
          333,
          304,
          285,
          247,
          307,
          299,
          273,
          283,
          250,
          266,
          268,
          231,
          212
         ],
         "yaxis": "y"
        },
        {
         "hovertemplate": "Municipio=No especificado<br>Año=%{x}<br>nacimientos=%{y}<extra></extra>",
         "legendgroup": "No especificado",
         "line": {
          "color": "#00BF7D",
          "dash": "solid"
         },
         "marker": {
          "symbol": "circle"
         },
         "mode": "lines",
         "name": "No especificado",
         "showlegend": true,
         "type": "scattergl",
         "x": [
          1994,
          1995,
          1996,
          1997,
          1998,
          1999,
          2000,
          2001,
          2002,
          2003,
          2004,
          2005,
          2006,
          2007,
          2008,
          2009,
          2010,
          2011,
          2012,
          2013,
          2014,
          2015,
          2016,
          2017,
          2018,
          2019,
          2020
         ],
         "xaxis": "x",
         "y": [
          35,
          4,
          8,
          14,
          4,
          15,
          17,
          7,
          9,
          6,
          20,
          5,
          7,
          4,
          2,
          10,
          7,
          1,
          6,
          4,
          6,
          3,
          3,
          3,
          4,
          5,
          6
         ],
         "yaxis": "y"
        }
       ],
       "layout": {
        "legend": {
         "title": {
          "text": "Municipio"
         },
         "tracegroupgap": 0
        },
        "template": {
         "data": {
          "bar": [
           {
            "error_x": {
             "color": "rgb(51,51,51)"
            },
            "error_y": {
             "color": "rgb(51,51,51)"
            },
            "marker": {
             "line": {
              "color": "rgb(237,237,237)",
              "width": 0.5
             },
             "pattern": {
              "fillmode": "overlay",
              "size": 10,
              "solidity": 0.2
             }
            },
            "type": "bar"
           }
          ],
          "barpolar": [
           {
            "marker": {
             "line": {
              "color": "rgb(237,237,237)",
              "width": 0.5
             },
             "pattern": {
              "fillmode": "overlay",
              "size": 10,
              "solidity": 0.2
             }
            },
            "type": "barpolar"
           }
          ],
          "carpet": [
           {
            "aaxis": {
             "endlinecolor": "rgb(51,51,51)",
             "gridcolor": "white",
             "linecolor": "white",
             "minorgridcolor": "white",
             "startlinecolor": "rgb(51,51,51)"
            },
            "baxis": {
             "endlinecolor": "rgb(51,51,51)",
             "gridcolor": "white",
             "linecolor": "white",
             "minorgridcolor": "white",
             "startlinecolor": "rgb(51,51,51)"
            },
            "type": "carpet"
           }
          ],
          "choropleth": [
           {
            "colorbar": {
             "outlinewidth": 0,
             "tickcolor": "rgb(237,237,237)",
             "ticklen": 6,
             "ticks": "inside"
            },
            "type": "choropleth"
           }
          ],
          "contour": [
           {
            "colorbar": {
             "outlinewidth": 0,
             "tickcolor": "rgb(237,237,237)",
             "ticklen": 6,
             "ticks": "inside"
            },
            "colorscale": [
             [
              0,
              "rgb(20,44,66)"
             ],
             [
              1,
              "rgb(90,179,244)"
             ]
            ],
            "type": "contour"
           }
          ],
          "contourcarpet": [
           {
            "colorbar": {
             "outlinewidth": 0,
             "tickcolor": "rgb(237,237,237)",
             "ticklen": 6,
             "ticks": "inside"
            },
            "type": "contourcarpet"
           }
          ],
          "heatmap": [
           {
            "colorbar": {
             "outlinewidth": 0,
             "tickcolor": "rgb(237,237,237)",
             "ticklen": 6,
             "ticks": "inside"
            },
            "colorscale": [
             [
              0,
              "rgb(20,44,66)"
             ],
             [
              1,
              "rgb(90,179,244)"
             ]
            ],
            "type": "heatmap"
           }
          ],
          "heatmapgl": [
           {
            "colorbar": {
             "outlinewidth": 0,
             "tickcolor": "rgb(237,237,237)",
             "ticklen": 6,
             "ticks": "inside"
            },
            "colorscale": [
             [
              0,
              "rgb(20,44,66)"
             ],
             [
              1,
              "rgb(90,179,244)"
             ]
            ],
            "type": "heatmapgl"
           }
          ],
          "histogram": [
           {
            "marker": {
             "pattern": {
              "fillmode": "overlay",
              "size": 10,
              "solidity": 0.2
             }
            },
            "type": "histogram"
           }
          ],
          "histogram2d": [
           {
            "colorbar": {
             "outlinewidth": 0,
             "tickcolor": "rgb(237,237,237)",
             "ticklen": 6,
             "ticks": "inside"
            },
            "colorscale": [
             [
              0,
              "rgb(20,44,66)"
             ],
             [
              1,
              "rgb(90,179,244)"
             ]
            ],
            "type": "histogram2d"
           }
          ],
          "histogram2dcontour": [
           {
            "colorbar": {
             "outlinewidth": 0,
             "tickcolor": "rgb(237,237,237)",
             "ticklen": 6,
             "ticks": "inside"
            },
            "colorscale": [
             [
              0,
              "rgb(20,44,66)"
             ],
             [
              1,
              "rgb(90,179,244)"
             ]
            ],
            "type": "histogram2dcontour"
           }
          ],
          "mesh3d": [
           {
            "colorbar": {
             "outlinewidth": 0,
             "tickcolor": "rgb(237,237,237)",
             "ticklen": 6,
             "ticks": "inside"
            },
            "type": "mesh3d"
           }
          ],
          "parcoords": [
           {
            "line": {
             "colorbar": {
              "outlinewidth": 0,
              "tickcolor": "rgb(237,237,237)",
              "ticklen": 6,
              "ticks": "inside"
             }
            },
            "type": "parcoords"
           }
          ],
          "pie": [
           {
            "automargin": true,
            "type": "pie"
           }
          ],
          "scatter": [
           {
            "fillpattern": {
             "fillmode": "overlay",
             "size": 10,
             "solidity": 0.2
            },
            "type": "scatter"
           }
          ],
          "scatter3d": [
           {
            "line": {
             "colorbar": {
              "outlinewidth": 0,
              "tickcolor": "rgb(237,237,237)",
              "ticklen": 6,
              "ticks": "inside"
             }
            },
            "marker": {
             "colorbar": {
              "outlinewidth": 0,
              "tickcolor": "rgb(237,237,237)",
              "ticklen": 6,
              "ticks": "inside"
             }
            },
            "type": "scatter3d"
           }
          ],
          "scattercarpet": [
           {
            "marker": {
             "colorbar": {
              "outlinewidth": 0,
              "tickcolor": "rgb(237,237,237)",
              "ticklen": 6,
              "ticks": "inside"
             }
            },
            "type": "scattercarpet"
           }
          ],
          "scattergeo": [
           {
            "marker": {
             "colorbar": {
              "outlinewidth": 0,
              "tickcolor": "rgb(237,237,237)",
              "ticklen": 6,
              "ticks": "inside"
             }
            },
            "type": "scattergeo"
           }
          ],
          "scattergl": [
           {
            "marker": {
             "colorbar": {
              "outlinewidth": 0,
              "tickcolor": "rgb(237,237,237)",
              "ticklen": 6,
              "ticks": "inside"
             }
            },
            "type": "scattergl"
           }
          ],
          "scattermapbox": [
           {
            "marker": {
             "colorbar": {
              "outlinewidth": 0,
              "tickcolor": "rgb(237,237,237)",
              "ticklen": 6,
              "ticks": "inside"
             }
            },
            "type": "scattermapbox"
           }
          ],
          "scatterpolar": [
           {
            "marker": {
             "colorbar": {
              "outlinewidth": 0,
              "tickcolor": "rgb(237,237,237)",
              "ticklen": 6,
              "ticks": "inside"
             }
            },
            "type": "scatterpolar"
           }
          ],
          "scatterpolargl": [
           {
            "marker": {
             "colorbar": {
              "outlinewidth": 0,
              "tickcolor": "rgb(237,237,237)",
              "ticklen": 6,
              "ticks": "inside"
             }
            },
            "type": "scatterpolargl"
           }
          ],
          "scatterternary": [
           {
            "marker": {
             "colorbar": {
              "outlinewidth": 0,
              "tickcolor": "rgb(237,237,237)",
              "ticklen": 6,
              "ticks": "inside"
             }
            },
            "type": "scatterternary"
           }
          ],
          "surface": [
           {
            "colorbar": {
             "outlinewidth": 0,
             "tickcolor": "rgb(237,237,237)",
             "ticklen": 6,
             "ticks": "inside"
            },
            "colorscale": [
             [
              0,
              "rgb(20,44,66)"
             ],
             [
              1,
              "rgb(90,179,244)"
             ]
            ],
            "type": "surface"
           }
          ],
          "table": [
           {
            "cells": {
             "fill": {
              "color": "rgb(237,237,237)"
             },
             "line": {
              "color": "white"
             }
            },
            "header": {
             "fill": {
              "color": "rgb(217,217,217)"
             },
             "line": {
              "color": "white"
             }
            },
            "type": "table"
           }
          ]
         },
         "layout": {
          "annotationdefaults": {
           "arrowhead": 0,
           "arrowwidth": 1
          },
          "autotypenumbers": "strict",
          "coloraxis": {
           "colorbar": {
            "outlinewidth": 0,
            "tickcolor": "rgb(237,237,237)",
            "ticklen": 6,
            "ticks": "inside"
           }
          },
          "colorscale": {
           "sequential": [
            [
             0,
             "rgb(20,44,66)"
            ],
            [
             1,
             "rgb(90,179,244)"
            ]
           ],
           "sequentialminus": [
            [
             0,
             "rgb(20,44,66)"
            ],
            [
             1,
             "rgb(90,179,244)"
            ]
           ]
          },
          "colorway": [
           "#F8766D",
           "#A3A500",
           "#00BF7D",
           "#00B0F6",
           "#E76BF3"
          ],
          "font": {
           "color": "rgb(51,51,51)"
          },
          "geo": {
           "bgcolor": "white",
           "lakecolor": "white",
           "landcolor": "rgb(237,237,237)",
           "showlakes": true,
           "showland": true,
           "subunitcolor": "white"
          },
          "hoverlabel": {
           "align": "left"
          },
          "hovermode": "closest",
          "paper_bgcolor": "white",
          "plot_bgcolor": "rgb(237,237,237)",
          "polar": {
           "angularaxis": {
            "gridcolor": "white",
            "linecolor": "white",
            "showgrid": true,
            "tickcolor": "rgb(51,51,51)",
            "ticks": "outside"
           },
           "bgcolor": "rgb(237,237,237)",
           "radialaxis": {
            "gridcolor": "white",
            "linecolor": "white",
            "showgrid": true,
            "tickcolor": "rgb(51,51,51)",
            "ticks": "outside"
           }
          },
          "scene": {
           "xaxis": {
            "backgroundcolor": "rgb(237,237,237)",
            "gridcolor": "white",
            "gridwidth": 2,
            "linecolor": "white",
            "showbackground": true,
            "showgrid": true,
            "tickcolor": "rgb(51,51,51)",
            "ticks": "outside",
            "zerolinecolor": "white"
           },
           "yaxis": {
            "backgroundcolor": "rgb(237,237,237)",
            "gridcolor": "white",
            "gridwidth": 2,
            "linecolor": "white",
            "showbackground": true,
            "showgrid": true,
            "tickcolor": "rgb(51,51,51)",
            "ticks": "outside",
            "zerolinecolor": "white"
           },
           "zaxis": {
            "backgroundcolor": "rgb(237,237,237)",
            "gridcolor": "white",
            "gridwidth": 2,
            "linecolor": "white",
            "showbackground": true,
            "showgrid": true,
            "tickcolor": "rgb(51,51,51)",
            "ticks": "outside",
            "zerolinecolor": "white"
           }
          },
          "shapedefaults": {
           "fillcolor": "black",
           "line": {
            "width": 0
           },
           "opacity": 0.3
          },
          "ternary": {
           "aaxis": {
            "gridcolor": "white",
            "linecolor": "white",
            "showgrid": true,
            "tickcolor": "rgb(51,51,51)",
            "ticks": "outside"
           },
           "baxis": {
            "gridcolor": "white",
            "linecolor": "white",
            "showgrid": true,
            "tickcolor": "rgb(51,51,51)",
            "ticks": "outside"
           },
           "bgcolor": "rgb(237,237,237)",
           "caxis": {
            "gridcolor": "white",
            "linecolor": "white",
            "showgrid": true,
            "tickcolor": "rgb(51,51,51)",
            "ticks": "outside"
           }
          },
          "xaxis": {
           "automargin": true,
           "gridcolor": "white",
           "linecolor": "white",
           "showgrid": true,
           "tickcolor": "rgb(51,51,51)",
           "ticks": "outside",
           "title": {
            "standoff": 15
           },
           "zerolinecolor": "white"
          },
          "yaxis": {
           "automargin": true,
           "gridcolor": "white",
           "linecolor": "white",
           "showgrid": true,
           "tickcolor": "rgb(51,51,51)",
           "ticks": "outside",
           "title": {
            "standoff": 15
           },
           "zerolinecolor": "white"
          }
         }
        },
        "title": {
         "text": "Nacimientos en los municipios de Sonora"
        },
        "xaxis": {
         "anchor": "y",
         "domain": [
          0,
          1
         ],
         "title": {
          "text": "Año"
         }
        },
        "yaxis": {
         "anchor": "x",
         "domain": [
          0,
          1
         ],
         "title": {
          "text": "nacimientos"
         }
        }
       }
      }
     },
     "metadata": {},
     "output_type": "display_data"
    }
   ],
   "source": [
    "#Graficando Serie de tiempo para cada uno de los municipios\n",
    "fig = px.line(nacimientos_tidy, x=\"año\", y='nacimientos',color='municipio',\n",
    "              title='Nacimientos en los municipios de Sonora',\n",
    "              labels={'municipio':'Municipio',\n",
    "                      'año':'Año'},\n",
    "                template='ggplot2')\n",
    "\n",
    "fig.show()"
   ]
  },
  {
   "cell_type": "code",
   "execution_count": 41,
   "metadata": {},
   "outputs": [
    {
     "data": {
      "application/vnd.plotly.v1+json": {
       "config": {
        "plotlyServerURL": "https://plot.ly"
       },
       "data": [
        {
         "alignmentgroup": "True",
         "hovertemplate": "Año=%{x}<br>Nacimientos=%{y}<extra></extra>",
         "legendgroup": "",
         "marker": {
          "color": "#F8766D",
          "pattern": {
           "shape": ""
          }
         },
         "name": "",
         "offsetgroup": "",
         "orientation": "v",
         "showlegend": false,
         "textposition": "auto",
         "type": "bar",
         "x": [
          1994,
          1995,
          1996,
          1997,
          1998,
          1999,
          2000,
          2001,
          2002,
          2003,
          2004,
          2005,
          2006,
          2007,
          2008,
          2009,
          2010,
          2011,
          2012,
          2013,
          2014,
          2015,
          2016,
          2017,
          2018,
          2019,
          2020
         ],
         "xaxis": "x",
         "y": [
          56545,
          55786,
          56280,
          55840,
          56322,
          57560,
          59026,
          57404,
          57435,
          54811,
          53631,
          53609,
          53347,
          55481,
          55372,
          53930,
          54110,
          54756,
          53768,
          52825,
          51894,
          48925,
          46785,
          45951,
          43729,
          44229,
          30904
         ],
         "yaxis": "y"
        }
       ],
       "layout": {
        "barmode": "relative",
        "legend": {
         "tracegroupgap": 0
        },
        "template": {
         "data": {
          "bar": [
           {
            "error_x": {
             "color": "rgb(51,51,51)"
            },
            "error_y": {
             "color": "rgb(51,51,51)"
            },
            "marker": {
             "line": {
              "color": "rgb(237,237,237)",
              "width": 0.5
             },
             "pattern": {
              "fillmode": "overlay",
              "size": 10,
              "solidity": 0.2
             }
            },
            "type": "bar"
           }
          ],
          "barpolar": [
           {
            "marker": {
             "line": {
              "color": "rgb(237,237,237)",
              "width": 0.5
             },
             "pattern": {
              "fillmode": "overlay",
              "size": 10,
              "solidity": 0.2
             }
            },
            "type": "barpolar"
           }
          ],
          "carpet": [
           {
            "aaxis": {
             "endlinecolor": "rgb(51,51,51)",
             "gridcolor": "white",
             "linecolor": "white",
             "minorgridcolor": "white",
             "startlinecolor": "rgb(51,51,51)"
            },
            "baxis": {
             "endlinecolor": "rgb(51,51,51)",
             "gridcolor": "white",
             "linecolor": "white",
             "minorgridcolor": "white",
             "startlinecolor": "rgb(51,51,51)"
            },
            "type": "carpet"
           }
          ],
          "choropleth": [
           {
            "colorbar": {
             "outlinewidth": 0,
             "tickcolor": "rgb(237,237,237)",
             "ticklen": 6,
             "ticks": "inside"
            },
            "type": "choropleth"
           }
          ],
          "contour": [
           {
            "colorbar": {
             "outlinewidth": 0,
             "tickcolor": "rgb(237,237,237)",
             "ticklen": 6,
             "ticks": "inside"
            },
            "colorscale": [
             [
              0,
              "rgb(20,44,66)"
             ],
             [
              1,
              "rgb(90,179,244)"
             ]
            ],
            "type": "contour"
           }
          ],
          "contourcarpet": [
           {
            "colorbar": {
             "outlinewidth": 0,
             "tickcolor": "rgb(237,237,237)",
             "ticklen": 6,
             "ticks": "inside"
            },
            "type": "contourcarpet"
           }
          ],
          "heatmap": [
           {
            "colorbar": {
             "outlinewidth": 0,
             "tickcolor": "rgb(237,237,237)",
             "ticklen": 6,
             "ticks": "inside"
            },
            "colorscale": [
             [
              0,
              "rgb(20,44,66)"
             ],
             [
              1,
              "rgb(90,179,244)"
             ]
            ],
            "type": "heatmap"
           }
          ],
          "heatmapgl": [
           {
            "colorbar": {
             "outlinewidth": 0,
             "tickcolor": "rgb(237,237,237)",
             "ticklen": 6,
             "ticks": "inside"
            },
            "colorscale": [
             [
              0,
              "rgb(20,44,66)"
             ],
             [
              1,
              "rgb(90,179,244)"
             ]
            ],
            "type": "heatmapgl"
           }
          ],
          "histogram": [
           {
            "marker": {
             "pattern": {
              "fillmode": "overlay",
              "size": 10,
              "solidity": 0.2
             }
            },
            "type": "histogram"
           }
          ],
          "histogram2d": [
           {
            "colorbar": {
             "outlinewidth": 0,
             "tickcolor": "rgb(237,237,237)",
             "ticklen": 6,
             "ticks": "inside"
            },
            "colorscale": [
             [
              0,
              "rgb(20,44,66)"
             ],
             [
              1,
              "rgb(90,179,244)"
             ]
            ],
            "type": "histogram2d"
           }
          ],
          "histogram2dcontour": [
           {
            "colorbar": {
             "outlinewidth": 0,
             "tickcolor": "rgb(237,237,237)",
             "ticklen": 6,
             "ticks": "inside"
            },
            "colorscale": [
             [
              0,
              "rgb(20,44,66)"
             ],
             [
              1,
              "rgb(90,179,244)"
             ]
            ],
            "type": "histogram2dcontour"
           }
          ],
          "mesh3d": [
           {
            "colorbar": {
             "outlinewidth": 0,
             "tickcolor": "rgb(237,237,237)",
             "ticklen": 6,
             "ticks": "inside"
            },
            "type": "mesh3d"
           }
          ],
          "parcoords": [
           {
            "line": {
             "colorbar": {
              "outlinewidth": 0,
              "tickcolor": "rgb(237,237,237)",
              "ticklen": 6,
              "ticks": "inside"
             }
            },
            "type": "parcoords"
           }
          ],
          "pie": [
           {
            "automargin": true,
            "type": "pie"
           }
          ],
          "scatter": [
           {
            "fillpattern": {
             "fillmode": "overlay",
             "size": 10,
             "solidity": 0.2
            },
            "type": "scatter"
           }
          ],
          "scatter3d": [
           {
            "line": {
             "colorbar": {
              "outlinewidth": 0,
              "tickcolor": "rgb(237,237,237)",
              "ticklen": 6,
              "ticks": "inside"
             }
            },
            "marker": {
             "colorbar": {
              "outlinewidth": 0,
              "tickcolor": "rgb(237,237,237)",
              "ticklen": 6,
              "ticks": "inside"
             }
            },
            "type": "scatter3d"
           }
          ],
          "scattercarpet": [
           {
            "marker": {
             "colorbar": {
              "outlinewidth": 0,
              "tickcolor": "rgb(237,237,237)",
              "ticklen": 6,
              "ticks": "inside"
             }
            },
            "type": "scattercarpet"
           }
          ],
          "scattergeo": [
           {
            "marker": {
             "colorbar": {
              "outlinewidth": 0,
              "tickcolor": "rgb(237,237,237)",
              "ticklen": 6,
              "ticks": "inside"
             }
            },
            "type": "scattergeo"
           }
          ],
          "scattergl": [
           {
            "marker": {
             "colorbar": {
              "outlinewidth": 0,
              "tickcolor": "rgb(237,237,237)",
              "ticklen": 6,
              "ticks": "inside"
             }
            },
            "type": "scattergl"
           }
          ],
          "scattermapbox": [
           {
            "marker": {
             "colorbar": {
              "outlinewidth": 0,
              "tickcolor": "rgb(237,237,237)",
              "ticklen": 6,
              "ticks": "inside"
             }
            },
            "type": "scattermapbox"
           }
          ],
          "scatterpolar": [
           {
            "marker": {
             "colorbar": {
              "outlinewidth": 0,
              "tickcolor": "rgb(237,237,237)",
              "ticklen": 6,
              "ticks": "inside"
             }
            },
            "type": "scatterpolar"
           }
          ],
          "scatterpolargl": [
           {
            "marker": {
             "colorbar": {
              "outlinewidth": 0,
              "tickcolor": "rgb(237,237,237)",
              "ticklen": 6,
              "ticks": "inside"
             }
            },
            "type": "scatterpolargl"
           }
          ],
          "scatterternary": [
           {
            "marker": {
             "colorbar": {
              "outlinewidth": 0,
              "tickcolor": "rgb(237,237,237)",
              "ticklen": 6,
              "ticks": "inside"
             }
            },
            "type": "scatterternary"
           }
          ],
          "surface": [
           {
            "colorbar": {
             "outlinewidth": 0,
             "tickcolor": "rgb(237,237,237)",
             "ticklen": 6,
             "ticks": "inside"
            },
            "colorscale": [
             [
              0,
              "rgb(20,44,66)"
             ],
             [
              1,
              "rgb(90,179,244)"
             ]
            ],
            "type": "surface"
           }
          ],
          "table": [
           {
            "cells": {
             "fill": {
              "color": "rgb(237,237,237)"
             },
             "line": {
              "color": "white"
             }
            },
            "header": {
             "fill": {
              "color": "rgb(217,217,217)"
             },
             "line": {
              "color": "white"
             }
            },
            "type": "table"
           }
          ]
         },
         "layout": {
          "annotationdefaults": {
           "arrowhead": 0,
           "arrowwidth": 1
          },
          "autotypenumbers": "strict",
          "coloraxis": {
           "colorbar": {
            "outlinewidth": 0,
            "tickcolor": "rgb(237,237,237)",
            "ticklen": 6,
            "ticks": "inside"
           }
          },
          "colorscale": {
           "sequential": [
            [
             0,
             "rgb(20,44,66)"
            ],
            [
             1,
             "rgb(90,179,244)"
            ]
           ],
           "sequentialminus": [
            [
             0,
             "rgb(20,44,66)"
            ],
            [
             1,
             "rgb(90,179,244)"
            ]
           ]
          },
          "colorway": [
           "#F8766D",
           "#A3A500",
           "#00BF7D",
           "#00B0F6",
           "#E76BF3"
          ],
          "font": {
           "color": "rgb(51,51,51)"
          },
          "geo": {
           "bgcolor": "white",
           "lakecolor": "white",
           "landcolor": "rgb(237,237,237)",
           "showlakes": true,
           "showland": true,
           "subunitcolor": "white"
          },
          "hoverlabel": {
           "align": "left"
          },
          "hovermode": "closest",
          "paper_bgcolor": "white",
          "plot_bgcolor": "rgb(237,237,237)",
          "polar": {
           "angularaxis": {
            "gridcolor": "white",
            "linecolor": "white",
            "showgrid": true,
            "tickcolor": "rgb(51,51,51)",
            "ticks": "outside"
           },
           "bgcolor": "rgb(237,237,237)",
           "radialaxis": {
            "gridcolor": "white",
            "linecolor": "white",
            "showgrid": true,
            "tickcolor": "rgb(51,51,51)",
            "ticks": "outside"
           }
          },
          "scene": {
           "xaxis": {
            "backgroundcolor": "rgb(237,237,237)",
            "gridcolor": "white",
            "gridwidth": 2,
            "linecolor": "white",
            "showbackground": true,
            "showgrid": true,
            "tickcolor": "rgb(51,51,51)",
            "ticks": "outside",
            "zerolinecolor": "white"
           },
           "yaxis": {
            "backgroundcolor": "rgb(237,237,237)",
            "gridcolor": "white",
            "gridwidth": 2,
            "linecolor": "white",
            "showbackground": true,
            "showgrid": true,
            "tickcolor": "rgb(51,51,51)",
            "ticks": "outside",
            "zerolinecolor": "white"
           },
           "zaxis": {
            "backgroundcolor": "rgb(237,237,237)",
            "gridcolor": "white",
            "gridwidth": 2,
            "linecolor": "white",
            "showbackground": true,
            "showgrid": true,
            "tickcolor": "rgb(51,51,51)",
            "ticks": "outside",
            "zerolinecolor": "white"
           }
          },
          "shapedefaults": {
           "fillcolor": "black",
           "line": {
            "width": 0
           },
           "opacity": 0.3
          },
          "ternary": {
           "aaxis": {
            "gridcolor": "white",
            "linecolor": "white",
            "showgrid": true,
            "tickcolor": "rgb(51,51,51)",
            "ticks": "outside"
           },
           "baxis": {
            "gridcolor": "white",
            "linecolor": "white",
            "showgrid": true,
            "tickcolor": "rgb(51,51,51)",
            "ticks": "outside"
           },
           "bgcolor": "rgb(237,237,237)",
           "caxis": {
            "gridcolor": "white",
            "linecolor": "white",
            "showgrid": true,
            "tickcolor": "rgb(51,51,51)",
            "ticks": "outside"
           }
          },
          "xaxis": {
           "automargin": true,
           "gridcolor": "white",
           "linecolor": "white",
           "showgrid": true,
           "tickcolor": "rgb(51,51,51)",
           "ticks": "outside",
           "title": {
            "standoff": 15
           },
           "zerolinecolor": "white"
          },
          "yaxis": {
           "automargin": true,
           "gridcolor": "white",
           "linecolor": "white",
           "showgrid": true,
           "tickcolor": "rgb(51,51,51)",
           "ticks": "outside",
           "title": {
            "standoff": 15
           },
           "zerolinecolor": "white"
          }
         }
        },
        "title": {
         "text": "Nacimientos totales en Sonora"
        },
        "xaxis": {
         "anchor": "y",
         "domain": [
          0,
          1
         ],
         "title": {
          "text": "Año"
         }
        },
        "yaxis": {
         "anchor": "x",
         "domain": [
          0,
          1
         ],
         "title": {
          "text": "Nacimientos"
         }
        }
       }
      }
     },
     "metadata": {},
     "output_type": "display_data"
    }
   ],
   "source": [
    "dff = nacimientos_tidy.groupby('año')['nacimientos'].sum()\n",
    "fig = px.bar(dff, x=dff.index, y=dff.values, \n",
    "             labels={'y': 'Nacimientos',\n",
    "                     'año':'Año'},\n",
    "             title='Nacimientos totales en Sonora',\n",
    "             template='ggplot2')\n",
    "fig.show()\n"
   ]
  },
  {
   "cell_type": "code",
   "execution_count": 42,
   "metadata": {},
   "outputs": [
    {
     "data": {
      "application/vnd.plotly.v1+json": {
       "config": {
        "plotlyServerURL": "https://plot.ly"
       },
       "data": [
        {
         "alignmentgroup": "True",
         "hovertemplate": "Municipio=Aconchi<br>Año=%{x}<br>nacimientos=%{y}<extra></extra>",
         "legendgroup": "Aconchi",
         "marker": {
          "color": "#F8766D",
          "pattern": {
           "shape": ""
          }
         },
         "name": "Aconchi",
         "offsetgroup": "Aconchi",
         "orientation": "v",
         "showlegend": true,
         "textposition": "auto",
         "type": "bar",
         "x": [
          1994,
          1995,
          1996,
          1997,
          1998,
          1999,
          2000,
          2001,
          2002,
          2003,
          2004,
          2005,
          2006,
          2007,
          2008,
          2009,
          2010,
          2011,
          2012,
          2013,
          2014,
          2015,
          2016,
          2017,
          2018,
          2019,
          2020
         ],
         "xaxis": "x",
         "y": [
          68,
          59,
          75,
          63,
          66,
          86,
          77,
          69,
          63,
          57,
          56,
          40,
          44,
          52,
          39,
          40,
          36,
          46,
          46,
          37,
          33,
          40,
          43,
          26,
          38,
          34,
          29
         ],
         "yaxis": "y"
        },
        {
         "alignmentgroup": "True",
         "hovertemplate": "Municipio=Agua Prieta<br>Año=%{x}<br>nacimientos=%{y}<extra></extra>",
         "legendgroup": "Agua Prieta",
         "marker": {
          "color": "#A3A500",
          "pattern": {
           "shape": ""
          }
         },
         "name": "Agua Prieta",
         "offsetgroup": "Agua Prieta",
         "orientation": "v",
         "showlegend": true,
         "textposition": "auto",
         "type": "bar",
         "x": [
          1994,
          1995,
          1996,
          1997,
          1998,
          1999,
          2000,
          2001,
          2002,
          2003,
          2004,
          2005,
          2006,
          2007,
          2008,
          2009,
          2010,
          2011,
          2012,
          2013,
          2014,
          2015,
          2016,
          2017,
          2018,
          2019,
          2020
         ],
         "xaxis": "x",
         "y": [
          1589,
          1665,
          1721,
          1723,
          1801,
          1900,
          1860,
          1937,
          1860,
          1628,
          1691,
          1550,
          1590,
          1665,
          1686,
          1541,
          1673,
          1709,
          1886,
          1769,
          1575,
          1473,
          1400,
          1466,
          1477,
          1492,
          955
         ],
         "yaxis": "y"
        },
        {
         "alignmentgroup": "True",
         "hovertemplate": "Municipio=Alamos<br>Año=%{x}<br>nacimientos=%{y}<extra></extra>",
         "legendgroup": "Alamos",
         "marker": {
          "color": "#00BF7D",
          "pattern": {
           "shape": ""
          }
         },
         "name": "Alamos",
         "offsetgroup": "Alamos",
         "orientation": "v",
         "showlegend": true,
         "textposition": "auto",
         "type": "bar",
         "x": [
          1994,
          1995,
          1996,
          1997,
          1998,
          1999,
          2000,
          2001,
          2002,
          2003,
          2004,
          2005,
          2006,
          2007,
          2008,
          2009,
          2010,
          2011,
          2012,
          2013,
          2014,
          2015,
          2016,
          2017,
          2018,
          2019,
          2020
         ],
         "xaxis": "x",
         "y": [
          674,
          575,
          732,
          579,
          615,
          698,
          633,
          667,
          653,
          710,
          684,
          563,
          475,
          613,
          645,
          523,
          614,
          613,
          527,
          544,
          473,
          443,
          428,
          391,
          344,
          354,
          291
         ],
         "yaxis": "y"
        },
        {
         "alignmentgroup": "True",
         "hovertemplate": "Municipio=Altar<br>Año=%{x}<br>nacimientos=%{y}<extra></extra>",
         "legendgroup": "Altar",
         "marker": {
          "color": "#00B0F6",
          "pattern": {
           "shape": ""
          }
         },
         "name": "Altar",
         "offsetgroup": "Altar",
         "orientation": "v",
         "showlegend": true,
         "textposition": "auto",
         "type": "bar",
         "x": [
          1994,
          1995,
          1996,
          1997,
          1998,
          1999,
          2000,
          2001,
          2002,
          2003,
          2004,
          2005,
          2006,
          2007,
          2008,
          2009,
          2010,
          2011,
          2012,
          2013,
          2014,
          2015,
          2016,
          2017,
          2018,
          2019,
          2020
         ],
         "xaxis": "x",
         "y": [
          151,
          176,
          172,
          198,
          208,
          212,
          238,
          245,
          231,
          236,
          255,
          234,
          261,
          254,
          242,
          253,
          251,
          208,
          227,
          233,
          213,
          181,
          165,
          190,
          169,
          171,
          115
         ],
         "yaxis": "y"
        },
        {
         "alignmentgroup": "True",
         "hovertemplate": "Municipio=Arivechi<br>Año=%{x}<br>nacimientos=%{y}<extra></extra>",
         "legendgroup": "Arivechi",
         "marker": {
          "color": "#E76BF3",
          "pattern": {
           "shape": ""
          }
         },
         "name": "Arivechi",
         "offsetgroup": "Arivechi",
         "orientation": "v",
         "showlegend": true,
         "textposition": "auto",
         "type": "bar",
         "x": [
          1994,
          1995,
          1996,
          1997,
          1998,
          1999,
          2000,
          2001,
          2002,
          2003,
          2004,
          2005,
          2006,
          2007,
          2008,
          2009,
          2010,
          2011,
          2012,
          2013,
          2014,
          2015,
          2016,
          2017,
          2018,
          2019,
          2020
         ],
         "xaxis": "x",
         "y": [
          82,
          30,
          23,
          46,
          35,
          22,
          34,
          25,
          22,
          19,
          24,
          21,
          30,
          12,
          17,
          17,
          13,
          15,
          22,
          17,
          17,
          14,
          19,
          13,
          18,
          16,
          6
         ],
         "yaxis": "y"
        },
        {
         "alignmentgroup": "True",
         "hovertemplate": "Municipio=Arizpe<br>Año=%{x}<br>nacimientos=%{y}<extra></extra>",
         "legendgroup": "Arizpe",
         "marker": {
          "color": "#F8766D",
          "pattern": {
           "shape": ""
          }
         },
         "name": "Arizpe",
         "offsetgroup": "Arizpe",
         "orientation": "v",
         "showlegend": true,
         "textposition": "auto",
         "type": "bar",
         "x": [
          1994,
          1995,
          1996,
          1997,
          1998,
          1999,
          2000,
          2001,
          2002,
          2003,
          2004,
          2005,
          2006,
          2007,
          2008,
          2009,
          2010,
          2011,
          2012,
          2013,
          2014,
          2015,
          2016,
          2017,
          2018,
          2019,
          2020
         ],
         "xaxis": "x",
         "y": [
          109,
          86,
          88,
          110,
          107,
          99,
          128,
          69,
          65,
          68,
          39,
          64,
          53,
          59,
          46,
          52,
          51,
          52,
          50,
          38,
          48,
          33,
          42,
          29,
          33,
          40,
          16
         ],
         "yaxis": "y"
        },
        {
         "alignmentgroup": "True",
         "hovertemplate": "Municipio=Atil<br>Año=%{x}<br>nacimientos=%{y}<extra></extra>",
         "legendgroup": "Atil",
         "marker": {
          "color": "#A3A500",
          "pattern": {
           "shape": ""
          }
         },
         "name": "Atil",
         "offsetgroup": "Atil",
         "orientation": "v",
         "showlegend": true,
         "textposition": "auto",
         "type": "bar",
         "x": [
          1994,
          1995,
          1996,
          1997,
          1998,
          1999,
          2000,
          2001,
          2002,
          2003,
          2004,
          2005,
          2006,
          2007,
          2008,
          2009,
          2010,
          2011,
          2012,
          2013,
          2014,
          2015,
          2016,
          2017,
          2018,
          2019,
          2020
         ],
         "xaxis": "x",
         "y": [
          20,
          52,
          17,
          19,
          15,
          14,
          23,
          24,
          20,
          18,
          19,
          20,
          12,
          16,
          18,
          20,
          13,
          19,
          12,
          11,
          6,
          8,
          13,
          6,
          2,
          7,
          5
         ],
         "yaxis": "y"
        },
        {
         "alignmentgroup": "True",
         "hovertemplate": "Municipio=Bacadéhuachi<br>Año=%{x}<br>nacimientos=%{y}<extra></extra>",
         "legendgroup": "Bacadéhuachi",
         "marker": {
          "color": "#00BF7D",
          "pattern": {
           "shape": ""
          }
         },
         "name": "Bacadéhuachi",
         "offsetgroup": "Bacadéhuachi",
         "orientation": "v",
         "showlegend": true,
         "textposition": "auto",
         "type": "bar",
         "x": [
          1994,
          1995,
          1996,
          1997,
          1998,
          1999,
          2000,
          2001,
          2002,
          2003,
          2004,
          2005,
          2006,
          2007,
          2008,
          2009,
          2010,
          2011,
          2012,
          2013,
          2014,
          2015,
          2016,
          2017,
          2018,
          2019,
          2020
         ],
         "xaxis": "x",
         "y": [
          27,
          23,
          19,
          27,
          31,
          28,
          39,
          20,
          31,
          18,
          21,
          23,
          19,
          22,
          27,
          19,
          21,
          21,
          18,
          13,
          11,
          15,
          14,
          6,
          12,
          10,
          11
         ],
         "yaxis": "y"
        },
        {
         "alignmentgroup": "True",
         "hovertemplate": "Municipio=Bacanora<br>Año=%{x}<br>nacimientos=%{y}<extra></extra>",
         "legendgroup": "Bacanora",
         "marker": {
          "color": "#00B0F6",
          "pattern": {
           "shape": ""
          }
         },
         "name": "Bacanora",
         "offsetgroup": "Bacanora",
         "orientation": "v",
         "showlegend": true,
         "textposition": "auto",
         "type": "bar",
         "x": [
          1994,
          1995,
          1996,
          1997,
          1998,
          1999,
          2000,
          2001,
          2002,
          2003,
          2004,
          2005,
          2006,
          2007,
          2008,
          2009,
          2010,
          2011,
          2012,
          2013,
          2014,
          2015,
          2016,
          2017,
          2018,
          2019,
          2020
         ],
         "xaxis": "x",
         "y": [
          17,
          17,
          26,
          15,
          23,
          19,
          21,
          18,
          24,
          10,
          14,
          16,
          11,
          9,
          12,
          11,
          16,
          10,
          17,
          14,
          10,
          12,
          11,
          13,
          8,
          10,
          6
         ],
         "yaxis": "y"
        },
        {
         "alignmentgroup": "True",
         "hovertemplate": "Municipio=Bacerac<br>Año=%{x}<br>nacimientos=%{y}<extra></extra>",
         "legendgroup": "Bacerac",
         "marker": {
          "color": "#E76BF3",
          "pattern": {
           "shape": ""
          }
         },
         "name": "Bacerac",
         "offsetgroup": "Bacerac",
         "orientation": "v",
         "showlegend": true,
         "textposition": "auto",
         "type": "bar",
         "x": [
          1994,
          1995,
          1996,
          1997,
          1998,
          1999,
          2000,
          2001,
          2002,
          2003,
          2004,
          2005,
          2006,
          2007,
          2008,
          2009,
          2010,
          2011,
          2012,
          2013,
          2014,
          2015,
          2016,
          2017,
          2018,
          2019,
          2020
         ],
         "xaxis": "x",
         "y": [
          41,
          43,
          42,
          46,
          43,
          42,
          44,
          31,
          20,
          24,
          26,
          25,
          24,
          26,
          25,
          24,
          17,
          21,
          20,
          23,
          25,
          17,
          21,
          17,
          19,
          12,
          14
         ],
         "yaxis": "y"
        },
        {
         "alignmentgroup": "True",
         "hovertemplate": "Municipio=Bacoachi<br>Año=%{x}<br>nacimientos=%{y}<extra></extra>",
         "legendgroup": "Bacoachi",
         "marker": {
          "color": "#F8766D",
          "pattern": {
           "shape": ""
          }
         },
         "name": "Bacoachi",
         "offsetgroup": "Bacoachi",
         "orientation": "v",
         "showlegend": true,
         "textposition": "auto",
         "type": "bar",
         "x": [
          1994,
          1995,
          1996,
          1997,
          1998,
          1999,
          2000,
          2001,
          2002,
          2003,
          2004,
          2005,
          2006,
          2007,
          2008,
          2009,
          2010,
          2011,
          2012,
          2013,
          2014,
          2015,
          2016,
          2017,
          2018,
          2019,
          2020
         ],
         "xaxis": "x",
         "y": [
          40,
          32,
          40,
          39,
          49,
          36,
          42,
          36,
          30,
          17,
          22,
          29,
          17,
          28,
          17,
          32,
          23,
          21,
          27,
          20,
          29,
          25,
          19,
          15,
          17,
          17,
          14
         ],
         "yaxis": "y"
        },
        {
         "alignmentgroup": "True",
         "hovertemplate": "Municipio=Bácum<br>Año=%{x}<br>nacimientos=%{y}<extra></extra>",
         "legendgroup": "Bácum",
         "marker": {
          "color": "#A3A500",
          "pattern": {
           "shape": ""
          }
         },
         "name": "Bácum",
         "offsetgroup": "Bácum",
         "orientation": "v",
         "showlegend": true,
         "textposition": "auto",
         "type": "bar",
         "x": [
          1994,
          1995,
          1996,
          1997,
          1998,
          1999,
          2000,
          2001,
          2002,
          2003,
          2004,
          2005,
          2006,
          2007,
          2008,
          2009,
          2010,
          2011,
          2012,
          2013,
          2014,
          2015,
          2016,
          2017,
          2018,
          2019,
          2020
         ],
         "xaxis": "x",
         "y": [
          682,
          519,
          516,
          535,
          509,
          512,
          532,
          495,
          498,
          507,
          473,
          451,
          475,
          515,
          487,
          486,
          470,
          498,
          489,
          475,
          477,
          414,
          359,
          384,
          356,
          365,
          282
         ],
         "yaxis": "y"
        },
        {
         "alignmentgroup": "True",
         "hovertemplate": "Municipio=Banámichi<br>Año=%{x}<br>nacimientos=%{y}<extra></extra>",
         "legendgroup": "Banámichi",
         "marker": {
          "color": "#00BF7D",
          "pattern": {
           "shape": ""
          }
         },
         "name": "Banámichi",
         "offsetgroup": "Banámichi",
         "orientation": "v",
         "showlegend": true,
         "textposition": "auto",
         "type": "bar",
         "x": [
          1994,
          1995,
          1996,
          1997,
          1998,
          1999,
          2000,
          2001,
          2002,
          2003,
          2004,
          2005,
          2006,
          2007,
          2008,
          2009,
          2010,
          2011,
          2012,
          2013,
          2014,
          2015,
          2016,
          2017,
          2018,
          2019,
          2020
         ],
         "xaxis": "x",
         "y": [
          44,
          33,
          42,
          37,
          33,
          41,
          40,
          43,
          40,
          32,
          21,
          33,
          34,
          31,
          31,
          24,
          31,
          26,
          22,
          29,
          19,
          28,
          20,
          39,
          20,
          29,
          22
         ],
         "yaxis": "y"
        },
        {
         "alignmentgroup": "True",
         "hovertemplate": "Municipio=Baviácora<br>Año=%{x}<br>nacimientos=%{y}<extra></extra>",
         "legendgroup": "Baviácora",
         "marker": {
          "color": "#00B0F6",
          "pattern": {
           "shape": ""
          }
         },
         "name": "Baviácora",
         "offsetgroup": "Baviácora",
         "orientation": "v",
         "showlegend": true,
         "textposition": "auto",
         "type": "bar",
         "x": [
          1994,
          1995,
          1996,
          1997,
          1998,
          1999,
          2000,
          2001,
          2002,
          2003,
          2004,
          2005,
          2006,
          2007,
          2008,
          2009,
          2010,
          2011,
          2012,
          2013,
          2014,
          2015,
          2016,
          2017,
          2018,
          2019,
          2020
         ],
         "xaxis": "x",
         "y": [
          125,
          88,
          93,
          82,
          86,
          97,
          82,
          92,
          78,
          78,
          73,
          75,
          78,
          71,
          70,
          56,
          59,
          51,
          52,
          47,
          48,
          43,
          50,
          34,
          37,
          36,
          36
         ],
         "yaxis": "y"
        },
        {
         "alignmentgroup": "True",
         "hovertemplate": "Municipio=Bavispe<br>Año=%{x}<br>nacimientos=%{y}<extra></extra>",
         "legendgroup": "Bavispe",
         "marker": {
          "color": "#E76BF3",
          "pattern": {
           "shape": ""
          }
         },
         "name": "Bavispe",
         "offsetgroup": "Bavispe",
         "orientation": "v",
         "showlegend": true,
         "textposition": "auto",
         "type": "bar",
         "x": [
          1994,
          1995,
          1996,
          1997,
          1998,
          1999,
          2000,
          2001,
          2002,
          2003,
          2004,
          2005,
          2006,
          2007,
          2008,
          2009,
          2010,
          2011,
          2012,
          2013,
          2014,
          2015,
          2016,
          2017,
          2018,
          2019,
          2020
         ],
         "xaxis": "x",
         "y": [
          28,
          26,
          28,
          19,
          21,
          25,
          40,
          26,
          24,
          22,
          24,
          33,
          32,
          21,
          21,
          22,
          33,
          33,
          27,
          27,
          28,
          30,
          25,
          28,
          13,
          21,
          25
         ],
         "yaxis": "y"
        },
        {
         "alignmentgroup": "True",
         "hovertemplate": "Municipio=Benjamín Hill<br>Año=%{x}<br>nacimientos=%{y}<extra></extra>",
         "legendgroup": "Benjamín Hill",
         "marker": {
          "color": "#F8766D",
          "pattern": {
           "shape": ""
          }
         },
         "name": "Benjamín Hill",
         "offsetgroup": "Benjamín Hill",
         "orientation": "v",
         "showlegend": true,
         "textposition": "auto",
         "type": "bar",
         "x": [
          1994,
          1995,
          1996,
          1997,
          1998,
          1999,
          2000,
          2001,
          2002,
          2003,
          2004,
          2005,
          2006,
          2007,
          2008,
          2009,
          2010,
          2011,
          2012,
          2013,
          2014,
          2015,
          2016,
          2017,
          2018,
          2019,
          2020
         ],
         "xaxis": "x",
         "y": [
          175,
          159,
          165,
          159,
          160,
          154,
          155,
          110,
          125,
          115,
          116,
          119,
          111,
          122,
          100,
          108,
          104,
          102,
          119,
          101,
          97,
          93,
          82,
          89,
          85,
          65,
          43
         ],
         "yaxis": "y"
        },
        {
         "alignmentgroup": "True",
         "hovertemplate": "Municipio=Caborca<br>Año=%{x}<br>nacimientos=%{y}<extra></extra>",
         "legendgroup": "Caborca",
         "marker": {
          "color": "#A3A500",
          "pattern": {
           "shape": ""
          }
         },
         "name": "Caborca",
         "offsetgroup": "Caborca",
         "orientation": "v",
         "showlegend": true,
         "textposition": "auto",
         "type": "bar",
         "x": [
          1994,
          1995,
          1996,
          1997,
          1998,
          1999,
          2000,
          2001,
          2002,
          2003,
          2004,
          2005,
          2006,
          2007,
          2008,
          2009,
          2010,
          2011,
          2012,
          2013,
          2014,
          2015,
          2016,
          2017,
          2018,
          2019,
          2020
         ],
         "xaxis": "x",
         "y": [
          1823,
          1702,
          1776,
          1775,
          1715,
          1669,
          1830,
          1802,
          1681,
          1720,
          1746,
          1746,
          1714,
          1771,
          1842,
          1746,
          1913,
          1884,
          1856,
          1796,
          1871,
          1627,
          1602,
          1509,
          1439,
          1543,
          844
         ],
         "yaxis": "y"
        },
        {
         "alignmentgroup": "True",
         "hovertemplate": "Municipio=Cajeme<br>Año=%{x}<br>nacimientos=%{y}<extra></extra>",
         "legendgroup": "Cajeme",
         "marker": {
          "color": "#00BF7D",
          "pattern": {
           "shape": ""
          }
         },
         "name": "Cajeme",
         "offsetgroup": "Cajeme",
         "orientation": "v",
         "showlegend": true,
         "textposition": "auto",
         "type": "bar",
         "x": [
          1994,
          1995,
          1996,
          1997,
          1998,
          1999,
          2000,
          2001,
          2002,
          2003,
          2004,
          2005,
          2006,
          2007,
          2008,
          2009,
          2010,
          2011,
          2012,
          2013,
          2014,
          2015,
          2016,
          2017,
          2018,
          2019,
          2020
         ],
         "xaxis": "x",
         "y": [
          9114,
          8985,
          8679,
          8429,
          8715,
          8802,
          8948,
          8668,
          8608,
          8205,
          7999,
          7708,
          7916,
          7766,
          7727,
          8011,
          7804,
          7833,
          7824,
          7635,
          7523,
          6949,
          6794,
          6610,
          6238,
          6248,
          4524
         ],
         "yaxis": "y"
        },
        {
         "alignmentgroup": "True",
         "hovertemplate": "Municipio=Cananea<br>Año=%{x}<br>nacimientos=%{y}<extra></extra>",
         "legendgroup": "Cananea",
         "marker": {
          "color": "#00B0F6",
          "pattern": {
           "shape": ""
          }
         },
         "name": "Cananea",
         "offsetgroup": "Cananea",
         "orientation": "v",
         "showlegend": true,
         "textposition": "auto",
         "type": "bar",
         "x": [
          1994,
          1995,
          1996,
          1997,
          1998,
          1999,
          2000,
          2001,
          2002,
          2003,
          2004,
          2005,
          2006,
          2007,
          2008,
          2009,
          2010,
          2011,
          2012,
          2013,
          2014,
          2015,
          2016,
          2017,
          2018,
          2019,
          2020
         ],
         "xaxis": "x",
         "y": [
          834,
          816,
          786,
          793,
          810,
          774,
          801,
          764,
          700,
          679,
          687,
          721,
          726,
          756,
          674,
          670,
          550,
          699,
          683,
          724,
          755,
          751,
          765,
          761,
          699,
          654,
          472
         ],
         "yaxis": "y"
        },
        {
         "alignmentgroup": "True",
         "hovertemplate": "Municipio=Carbó<br>Año=%{x}<br>nacimientos=%{y}<extra></extra>",
         "legendgroup": "Carbó",
         "marker": {
          "color": "#E76BF3",
          "pattern": {
           "shape": ""
          }
         },
         "name": "Carbó",
         "offsetgroup": "Carbó",
         "orientation": "v",
         "showlegend": true,
         "textposition": "auto",
         "type": "bar",
         "x": [
          1994,
          1995,
          1996,
          1997,
          1998,
          1999,
          2000,
          2001,
          2002,
          2003,
          2004,
          2005,
          2006,
          2007,
          2008,
          2009,
          2010,
          2011,
          2012,
          2013,
          2014,
          2015,
          2016,
          2017,
          2018,
          2019,
          2020
         ],
         "xaxis": "x",
         "y": [
          153,
          122,
          124,
          117,
          145,
          115,
          122,
          107,
          102,
          115,
          116,
          132,
          102,
          109,
          92,
          102,
          134,
          106,
          109,
          96,
          103,
          85,
          83,
          79,
          68,
          92,
          88
         ],
         "yaxis": "y"
        },
        {
         "alignmentgroup": "True",
         "hovertemplate": "Municipio=La Colorada<br>Año=%{x}<br>nacimientos=%{y}<extra></extra>",
         "legendgroup": "La Colorada",
         "marker": {
          "color": "#F8766D",
          "pattern": {
           "shape": ""
          }
         },
         "name": "La Colorada",
         "offsetgroup": "La Colorada",
         "orientation": "v",
         "showlegend": true,
         "textposition": "auto",
         "type": "bar",
         "x": [
          1994,
          1995,
          1996,
          1997,
          1998,
          1999,
          2000,
          2001,
          2002,
          2003,
          2004,
          2005,
          2006,
          2007,
          2008,
          2009,
          2010,
          2011,
          2012,
          2013,
          2014,
          2015,
          2016,
          2017,
          2018,
          2019,
          2020
         ],
         "xaxis": "x",
         "y": [
          49,
          47,
          61,
          51,
          55,
          44,
          43,
          41,
          29,
          28,
          38,
          18,
          20,
          29,
          18,
          35,
          25,
          26,
          23,
          19,
          28,
          23,
          8,
          21,
          20,
          29,
          32
         ],
         "yaxis": "y"
        },
        {
         "alignmentgroup": "True",
         "hovertemplate": "Municipio=Cucurpe<br>Año=%{x}<br>nacimientos=%{y}<extra></extra>",
         "legendgroup": "Cucurpe",
         "marker": {
          "color": "#A3A500",
          "pattern": {
           "shape": ""
          }
         },
         "name": "Cucurpe",
         "offsetgroup": "Cucurpe",
         "orientation": "v",
         "showlegend": true,
         "textposition": "auto",
         "type": "bar",
         "x": [
          1994,
          1995,
          1996,
          1997,
          1998,
          1999,
          2000,
          2001,
          2002,
          2003,
          2004,
          2005,
          2006,
          2007,
          2008,
          2009,
          2010,
          2011,
          2012,
          2013,
          2014,
          2015,
          2016,
          2017,
          2018,
          2019,
          2020
         ],
         "xaxis": "x",
         "y": [
          23,
          17,
          23,
          21,
          24,
          13,
          28,
          18,
          19,
          19,
          20,
          16,
          24,
          15,
          20,
          12,
          18,
          20,
          17,
          17,
          16,
          15,
          12,
          6,
          5,
          13,
          11
         ],
         "yaxis": "y"
        },
        {
         "alignmentgroup": "True",
         "hovertemplate": "Municipio=Cumpas<br>Año=%{x}<br>nacimientos=%{y}<extra></extra>",
         "legendgroup": "Cumpas",
         "marker": {
          "color": "#00BF7D",
          "pattern": {
           "shape": ""
          }
         },
         "name": "Cumpas",
         "offsetgroup": "Cumpas",
         "orientation": "v",
         "showlegend": true,
         "textposition": "auto",
         "type": "bar",
         "x": [
          1994,
          1995,
          1996,
          1997,
          1998,
          1999,
          2000,
          2001,
          2002,
          2003,
          2004,
          2005,
          2006,
          2007,
          2008,
          2009,
          2010,
          2011,
          2012,
          2013,
          2014,
          2015,
          2016,
          2017,
          2018,
          2019,
          2020
         ],
         "xaxis": "x",
         "y": [
          135,
          118,
          141,
          128,
          131,
          114,
          131,
          109,
          114,
          111,
          92,
          113,
          97,
          97,
          101,
          109,
          77,
          94,
          98,
          89,
          89,
          63,
          77,
          68,
          66,
          53,
          53
         ],
         "yaxis": "y"
        },
        {
         "alignmentgroup": "True",
         "hovertemplate": "Municipio=Divisaderos<br>Año=%{x}<br>nacimientos=%{y}<extra></extra>",
         "legendgroup": "Divisaderos",
         "marker": {
          "color": "#00B0F6",
          "pattern": {
           "shape": ""
          }
         },
         "name": "Divisaderos",
         "offsetgroup": "Divisaderos",
         "orientation": "v",
         "showlegend": true,
         "textposition": "auto",
         "type": "bar",
         "x": [
          1994,
          1995,
          1996,
          1997,
          1998,
          1999,
          2000,
          2001,
          2002,
          2003,
          2004,
          2005,
          2006,
          2007,
          2008,
          2009,
          2010,
          2011,
          2012,
          2013,
          2014,
          2015,
          2016,
          2017,
          2018,
          2019,
          2020
         ],
         "xaxis": "x",
         "y": [
          19,
          18,
          16,
          8,
          17,
          20,
          13,
          11,
          13,
          6,
          13,
          22,
          8,
          8,
          15,
          22,
          14,
          15,
          13,
          14,
          12,
          9,
          6,
          9,
          8,
          10,
          6
         ],
         "yaxis": "y"
        },
        {
         "alignmentgroup": "True",
         "hovertemplate": "Municipio=Empalme<br>Año=%{x}<br>nacimientos=%{y}<extra></extra>",
         "legendgroup": "Empalme",
         "marker": {
          "color": "#E76BF3",
          "pattern": {
           "shape": ""
          }
         },
         "name": "Empalme",
         "offsetgroup": "Empalme",
         "orientation": "v",
         "showlegend": true,
         "textposition": "auto",
         "type": "bar",
         "x": [
          1994,
          1995,
          1996,
          1997,
          1998,
          1999,
          2000,
          2001,
          2002,
          2003,
          2004,
          2005,
          2006,
          2007,
          2008,
          2009,
          2010,
          2011,
          2012,
          2013,
          2014,
          2015,
          2016,
          2017,
          2018,
          2019,
          2020
         ],
         "xaxis": "x",
         "y": [
          1196,
          1218,
          1255,
          1286,
          1327,
          1290,
          1235,
          1258,
          1304,
          1226,
          1126,
          1087,
          1167,
          1106,
          997,
          1037,
          950,
          1151,
          1037,
          990,
          1043,
          1018,
          1020,
          967,
          902,
          890,
          708
         ],
         "yaxis": "y"
        },
        {
         "alignmentgroup": "True",
         "hovertemplate": "Municipio=Etchojoa<br>Año=%{x}<br>nacimientos=%{y}<extra></extra>",
         "legendgroup": "Etchojoa",
         "marker": {
          "color": "#F8766D",
          "pattern": {
           "shape": ""
          }
         },
         "name": "Etchojoa",
         "offsetgroup": "Etchojoa",
         "orientation": "v",
         "showlegend": true,
         "textposition": "auto",
         "type": "bar",
         "x": [
          1994,
          1995,
          1996,
          1997,
          1998,
          1999,
          2000,
          2001,
          2002,
          2003,
          2004,
          2005,
          2006,
          2007,
          2008,
          2009,
          2010,
          2011,
          2012,
          2013,
          2014,
          2015,
          2016,
          2017,
          2018,
          2019,
          2020
         ],
         "xaxis": "x",
         "y": [
          3035,
          1987,
          2509,
          2307,
          1420,
          1646,
          1565,
          1543,
          1654,
          1429,
          1478,
          1440,
          1330,
          1443,
          1366,
          1232,
          1273,
          1183,
          1082,
          1148,
          1143,
          1113,
          998,
          1032,
          1027,
          1028,
          858
         ],
         "yaxis": "y"
        },
        {
         "alignmentgroup": "True",
         "hovertemplate": "Municipio=Fronteras<br>Año=%{x}<br>nacimientos=%{y}<extra></extra>",
         "legendgroup": "Fronteras",
         "marker": {
          "color": "#A3A500",
          "pattern": {
           "shape": ""
          }
         },
         "name": "Fronteras",
         "offsetgroup": "Fronteras",
         "orientation": "v",
         "showlegend": true,
         "textposition": "auto",
         "type": "bar",
         "x": [
          1994,
          1995,
          1996,
          1997,
          1998,
          1999,
          2000,
          2001,
          2002,
          2003,
          2004,
          2005,
          2006,
          2007,
          2008,
          2009,
          2010,
          2011,
          2012,
          2013,
          2014,
          2015,
          2016,
          2017,
          2018,
          2019,
          2020
         ],
         "xaxis": "x",
         "y": [
          175,
          227,
          211,
          246,
          221,
          235,
          255,
          245,
          234,
          173,
          192,
          204,
          235,
          259,
          246,
          212,
          216,
          197,
          183,
          201,
          183,
          171,
          167,
          134,
          154,
          158,
          140
         ],
         "yaxis": "y"
        },
        {
         "alignmentgroup": "True",
         "hovertemplate": "Municipio=Granados<br>Año=%{x}<br>nacimientos=%{y}<extra></extra>",
         "legendgroup": "Granados",
         "marker": {
          "color": "#00BF7D",
          "pattern": {
           "shape": ""
          }
         },
         "name": "Granados",
         "offsetgroup": "Granados",
         "orientation": "v",
         "showlegend": true,
         "textposition": "auto",
         "type": "bar",
         "x": [
          1994,
          1995,
          1996,
          1997,
          1998,
          1999,
          2000,
          2001,
          2002,
          2003,
          2004,
          2005,
          2006,
          2007,
          2008,
          2009,
          2010,
          2011,
          2012,
          2013,
          2014,
          2015,
          2016,
          2017,
          2018,
          2019,
          2020
         ],
         "xaxis": "x",
         "y": [
          27,
          20,
          25,
          27,
          15,
          22,
          20,
          21,
          27,
          20,
          28,
          22,
          25,
          15,
          13,
          14,
          20,
          16,
          18,
          14,
          13,
          12,
          11,
          7,
          11,
          11,
          2
         ],
         "yaxis": "y"
        },
        {
         "alignmentgroup": "True",
         "hovertemplate": "Municipio=Guaymas<br>Año=%{x}<br>nacimientos=%{y}<extra></extra>",
         "legendgroup": "Guaymas",
         "marker": {
          "color": "#00B0F6",
          "pattern": {
           "shape": ""
          }
         },
         "name": "Guaymas",
         "offsetgroup": "Guaymas",
         "orientation": "v",
         "showlegend": true,
         "textposition": "auto",
         "type": "bar",
         "x": [
          1994,
          1995,
          1996,
          1997,
          1998,
          1999,
          2000,
          2001,
          2002,
          2003,
          2004,
          2005,
          2006,
          2007,
          2008,
          2009,
          2010,
          2011,
          2012,
          2013,
          2014,
          2015,
          2016,
          2017,
          2018,
          2019,
          2020
         ],
         "xaxis": "x",
         "y": [
          3409,
          3652,
          3645,
          3736,
          3234,
          3456,
          3766,
          3335,
          3344,
          3705,
          2939,
          2937,
          2906,
          2963,
          2985,
          2905,
          3065,
          3057,
          3066,
          3040,
          3017,
          2869,
          2719,
          2679,
          2507,
          2480,
          1609
         ],
         "yaxis": "y"
        },
        {
         "alignmentgroup": "True",
         "hovertemplate": "Municipio=Hermosillo<br>Año=%{x}<br>nacimientos=%{y}<extra></extra>",
         "legendgroup": "Hermosillo",
         "marker": {
          "color": "#E76BF3",
          "pattern": {
           "shape": ""
          }
         },
         "name": "Hermosillo",
         "offsetgroup": "Hermosillo",
         "orientation": "v",
         "showlegend": true,
         "textposition": "auto",
         "type": "bar",
         "x": [
          1994,
          1995,
          1996,
          1997,
          1998,
          1999,
          2000,
          2001,
          2002,
          2003,
          2004,
          2005,
          2006,
          2007,
          2008,
          2009,
          2010,
          2011,
          2012,
          2013,
          2014,
          2015,
          2016,
          2017,
          2018,
          2019,
          2020
         ],
         "xaxis": "x",
         "y": [
          14921,
          14683,
          14502,
          14653,
          15010,
          14750,
          15311,
          15167,
          15351,
          14671,
          14712,
          14649,
          14857,
          16030,
          15943,
          15913,
          15916,
          16445,
          15879,
          16322,
          16053,
          14903,
          14204,
          13857,
          13166,
          13314,
          8841
         ],
         "yaxis": "y"
        },
        {
         "alignmentgroup": "True",
         "hovertemplate": "Municipio=Huachinera<br>Año=%{x}<br>nacimientos=%{y}<extra></extra>",
         "legendgroup": "Huachinera",
         "marker": {
          "color": "#F8766D",
          "pattern": {
           "shape": ""
          }
         },
         "name": "Huachinera",
         "offsetgroup": "Huachinera",
         "orientation": "v",
         "showlegend": true,
         "textposition": "auto",
         "type": "bar",
         "x": [
          1994,
          1995,
          1996,
          1997,
          1998,
          1999,
          2000,
          2001,
          2002,
          2003,
          2004,
          2005,
          2006,
          2007,
          2008,
          2009,
          2010,
          2011,
          2012,
          2013,
          2014,
          2015,
          2016,
          2017,
          2018,
          2019,
          2020
         ],
         "xaxis": "x",
         "y": [
          38,
          34,
          33,
          23,
          36,
          41,
          25,
          35,
          27,
          26,
          30,
          30,
          29,
          26,
          23,
          21,
          30,
          17,
          19,
          17,
          12,
          18,
          23,
          16,
          19,
          5,
          15
         ],
         "yaxis": "y"
        },
        {
         "alignmentgroup": "True",
         "hovertemplate": "Municipio=Huásabas<br>Año=%{x}<br>nacimientos=%{y}<extra></extra>",
         "legendgroup": "Huásabas",
         "marker": {
          "color": "#A3A500",
          "pattern": {
           "shape": ""
          }
         },
         "name": "Huásabas",
         "offsetgroup": "Huásabas",
         "orientation": "v",
         "showlegend": true,
         "textposition": "auto",
         "type": "bar",
         "x": [
          1994,
          1995,
          1996,
          1997,
          1998,
          1999,
          2000,
          2001,
          2002,
          2003,
          2004,
          2005,
          2006,
          2007,
          2008,
          2009,
          2010,
          2011,
          2012,
          2013,
          2014,
          2015,
          2016,
          2017,
          2018,
          2019,
          2020
         ],
         "xaxis": "x",
         "y": [
          21,
          26,
          19,
          21,
          16,
          17,
          20,
          15,
          20,
          24,
          10,
          20,
          18,
          11,
          14,
          9,
          9,
          12,
          12,
          5,
          6,
          16,
          5,
          5,
          8,
          7,
          7
         ],
         "yaxis": "y"
        },
        {
         "alignmentgroup": "True",
         "hovertemplate": "Municipio=Huatabampo<br>Año=%{x}<br>nacimientos=%{y}<extra></extra>",
         "legendgroup": "Huatabampo",
         "marker": {
          "color": "#00BF7D",
          "pattern": {
           "shape": ""
          }
         },
         "name": "Huatabampo",
         "offsetgroup": "Huatabampo",
         "orientation": "v",
         "showlegend": true,
         "textposition": "auto",
         "type": "bar",
         "x": [
          1994,
          1995,
          1996,
          1997,
          1998,
          1999,
          2000,
          2001,
          2002,
          2003,
          2004,
          2005,
          2006,
          2007,
          2008,
          2009,
          2010,
          2011,
          2012,
          2013,
          2014,
          2015,
          2016,
          2017,
          2018,
          2019,
          2020
         ],
         "xaxis": "x",
         "y": [
          2130,
          2002,
          1960,
          1978,
          1894,
          2053,
          2070,
          1847,
          2168,
          1763,
          1667,
          1744,
          1646,
          1735,
          1566,
          1490,
          1561,
          1488,
          1398,
          1303,
          1274,
          1298,
          1215,
          1236,
          1211,
          1186,
          931
         ],
         "yaxis": "y"
        },
        {
         "alignmentgroup": "True",
         "hovertemplate": "Municipio=Huépac<br>Año=%{x}<br>nacimientos=%{y}<extra></extra>",
         "legendgroup": "Huépac",
         "marker": {
          "color": "#00B0F6",
          "pattern": {
           "shape": ""
          }
         },
         "name": "Huépac",
         "offsetgroup": "Huépac",
         "orientation": "v",
         "showlegend": true,
         "textposition": "auto",
         "type": "bar",
         "x": [
          1994,
          1995,
          1996,
          1997,
          1998,
          1999,
          2000,
          2001,
          2002,
          2003,
          2004,
          2005,
          2006,
          2007,
          2008,
          2009,
          2010,
          2011,
          2012,
          2013,
          2014,
          2015,
          2016,
          2017,
          2018,
          2019,
          2020
         ],
         "xaxis": "x",
         "y": [
          25,
          30,
          17,
          23,
          19,
          23,
          16,
          12,
          24,
          16,
          21,
          20,
          11,
          15,
          11,
          20,
          11,
          10,
          3,
          9,
          12,
          12,
          7,
          12,
          6,
          13,
          4
         ],
         "yaxis": "y"
        },
        {
         "alignmentgroup": "True",
         "hovertemplate": "Municipio=Imuris<br>Año=%{x}<br>nacimientos=%{y}<extra></extra>",
         "legendgroup": "Imuris",
         "marker": {
          "color": "#E76BF3",
          "pattern": {
           "shape": ""
          }
         },
         "name": "Imuris",
         "offsetgroup": "Imuris",
         "orientation": "v",
         "showlegend": true,
         "textposition": "auto",
         "type": "bar",
         "x": [
          1994,
          1995,
          1996,
          1997,
          1998,
          1999,
          2000,
          2001,
          2002,
          2003,
          2004,
          2005,
          2006,
          2007,
          2008,
          2009,
          2010,
          2011,
          2012,
          2013,
          2014,
          2015,
          2016,
          2017,
          2018,
          2019,
          2020
         ],
         "xaxis": "x",
         "y": [
          273,
          359,
          319,
          278,
          317,
          292,
          303,
          290,
          307,
          272,
          275,
          285,
          287,
          282,
          285,
          276,
          275,
          301,
          294,
          245,
          242,
          241,
          248,
          255,
          231,
          228,
          111
         ],
         "yaxis": "y"
        },
        {
         "alignmentgroup": "True",
         "hovertemplate": "Municipio=Magdalena<br>Año=%{x}<br>nacimientos=%{y}<extra></extra>",
         "legendgroup": "Magdalena",
         "marker": {
          "color": "#F8766D",
          "pattern": {
           "shape": ""
          }
         },
         "name": "Magdalena",
         "offsetgroup": "Magdalena",
         "orientation": "v",
         "showlegend": true,
         "textposition": "auto",
         "type": "bar",
         "x": [
          1994,
          1995,
          1996,
          1997,
          1998,
          1999,
          2000,
          2001,
          2002,
          2003,
          2004,
          2005,
          2006,
          2007,
          2008,
          2009,
          2010,
          2011,
          2012,
          2013,
          2014,
          2015,
          2016,
          2017,
          2018,
          2019,
          2020
         ],
         "xaxis": "x",
         "y": [
          607,
          647,
          697,
          653,
          670,
          692,
          666,
          697,
          662,
          714,
          662,
          661,
          635,
          611,
          637,
          650,
          641,
          641,
          647,
          682,
          601,
          591,
          607,
          547,
          502,
          509,
          395
         ],
         "yaxis": "y"
        },
        {
         "alignmentgroup": "True",
         "hovertemplate": "Municipio=Mazatán<br>Año=%{x}<br>nacimientos=%{y}<extra></extra>",
         "legendgroup": "Mazatán",
         "marker": {
          "color": "#A3A500",
          "pattern": {
           "shape": ""
          }
         },
         "name": "Mazatán",
         "offsetgroup": "Mazatán",
         "orientation": "v",
         "showlegend": true,
         "textposition": "auto",
         "type": "bar",
         "x": [
          1994,
          1995,
          1996,
          1997,
          1998,
          1999,
          2000,
          2001,
          2002,
          2003,
          2004,
          2005,
          2006,
          2007,
          2008,
          2009,
          2010,
          2011,
          2012,
          2013,
          2014,
          2015,
          2016,
          2017,
          2018,
          2019,
          2020
         ],
         "xaxis": "x",
         "y": [
          40,
          35,
          50,
          43,
          35,
          26,
          29,
          29,
          17,
          26,
          28,
          22,
          18,
          25,
          24,
          16,
          14,
          21,
          12,
          21,
          25,
          11,
          13,
          8,
          7,
          14,
          17
         ],
         "yaxis": "y"
        },
        {
         "alignmentgroup": "True",
         "hovertemplate": "Municipio=Moctezuma<br>Año=%{x}<br>nacimientos=%{y}<extra></extra>",
         "legendgroup": "Moctezuma",
         "marker": {
          "color": "#00BF7D",
          "pattern": {
           "shape": ""
          }
         },
         "name": "Moctezuma",
         "offsetgroup": "Moctezuma",
         "orientation": "v",
         "showlegend": true,
         "textposition": "auto",
         "type": "bar",
         "x": [
          1994,
          1995,
          1996,
          1997,
          1998,
          1999,
          2000,
          2001,
          2002,
          2003,
          2004,
          2005,
          2006,
          2007,
          2008,
          2009,
          2010,
          2011,
          2012,
          2013,
          2014,
          2015,
          2016,
          2017,
          2018,
          2019,
          2020
         ],
         "xaxis": "x",
         "y": [
          340,
          106,
          84,
          89,
          86,
          94,
          84,
          95,
          75,
          84,
          92,
          78,
          56,
          73,
          83,
          84,
          83,
          97,
          82,
          94,
          71,
          80,
          65,
          85,
          72,
          77,
          67
         ],
         "yaxis": "y"
        },
        {
         "alignmentgroup": "True",
         "hovertemplate": "Municipio=Naco<br>Año=%{x}<br>nacimientos=%{y}<extra></extra>",
         "legendgroup": "Naco",
         "marker": {
          "color": "#00B0F6",
          "pattern": {
           "shape": ""
          }
         },
         "name": "Naco",
         "offsetgroup": "Naco",
         "orientation": "v",
         "showlegend": true,
         "textposition": "auto",
         "type": "bar",
         "x": [
          1994,
          1995,
          1996,
          1997,
          1998,
          1999,
          2000,
          2001,
          2002,
          2003,
          2004,
          2005,
          2006,
          2007,
          2008,
          2009,
          2010,
          2011,
          2012,
          2013,
          2014,
          2015,
          2016,
          2017,
          2018,
          2019,
          2020
         ],
         "xaxis": "x",
         "y": [
          129,
          182,
          160,
          163,
          136,
          139,
          165,
          159,
          144,
          117,
          130,
          116,
          112,
          125,
          104,
          110,
          115,
          138,
          134,
          127,
          109,
          100,
          92,
          98,
          83,
          102,
          57
         ],
         "yaxis": "y"
        },
        {
         "alignmentgroup": "True",
         "hovertemplate": "Municipio=Nácori Chico<br>Año=%{x}<br>nacimientos=%{y}<extra></extra>",
         "legendgroup": "Nácori Chico",
         "marker": {
          "color": "#E76BF3",
          "pattern": {
           "shape": ""
          }
         },
         "name": "Nácori Chico",
         "offsetgroup": "Nácori Chico",
         "orientation": "v",
         "showlegend": true,
         "textposition": "auto",
         "type": "bar",
         "x": [
          1994,
          1995,
          1996,
          1997,
          1998,
          1999,
          2000,
          2001,
          2002,
          2003,
          2004,
          2005,
          2006,
          2007,
          2008,
          2009,
          2010,
          2011,
          2012,
          2013,
          2014,
          2015,
          2016,
          2017,
          2018,
          2019,
          2020
         ],
         "xaxis": "x",
         "y": [
          25,
          45,
          68,
          70,
          61,
          52,
          39,
          43,
          52,
          34,
          37,
          45,
          33,
          44,
          28,
          42,
          48,
          49,
          45,
          38,
          39,
          39,
          31,
          35,
          31,
          19,
          17
         ],
         "yaxis": "y"
        },
        {
         "alignmentgroup": "True",
         "hovertemplate": "Municipio=Nacozari de García<br>Año=%{x}<br>nacimientos=%{y}<extra></extra>",
         "legendgroup": "Nacozari de García",
         "marker": {
          "color": "#F8766D",
          "pattern": {
           "shape": ""
          }
         },
         "name": "Nacozari de García",
         "offsetgroup": "Nacozari de García",
         "orientation": "v",
         "showlegend": true,
         "textposition": "auto",
         "type": "bar",
         "x": [
          1994,
          1995,
          1996,
          1997,
          1998,
          1999,
          2000,
          2001,
          2002,
          2003,
          2004,
          2005,
          2006,
          2007,
          2008,
          2009,
          2010,
          2011,
          2012,
          2013,
          2014,
          2015,
          2016,
          2017,
          2018,
          2019,
          2020
         ],
         "xaxis": "x",
         "y": [
          422,
          414,
          403,
          453,
          465,
          505,
          430,
          355,
          367,
          303,
          291,
          269,
          276,
          302,
          274,
          296,
          254,
          311,
          319,
          307,
          294,
          278,
          229,
          251,
          233,
          243,
          127
         ],
         "yaxis": "y"
        },
        {
         "alignmentgroup": "True",
         "hovertemplate": "Municipio=Navojoa<br>Año=%{x}<br>nacimientos=%{y}<extra></extra>",
         "legendgroup": "Navojoa",
         "marker": {
          "color": "#A3A500",
          "pattern": {
           "shape": ""
          }
         },
         "name": "Navojoa",
         "offsetgroup": "Navojoa",
         "orientation": "v",
         "showlegend": true,
         "textposition": "auto",
         "type": "bar",
         "x": [
          1994,
          1995,
          1996,
          1997,
          1998,
          1999,
          2000,
          2001,
          2002,
          2003,
          2004,
          2005,
          2006,
          2007,
          2008,
          2009,
          2010,
          2011,
          2012,
          2013,
          2014,
          2015,
          2016,
          2017,
          2018,
          2019,
          2020
         ],
         "xaxis": "x",
         "y": [
          3421,
          3612,
          3612,
          3615,
          3439,
          3832,
          4080,
          3759,
          3724,
          3478,
          3358,
          3479,
          3321,
          3419,
          3285,
          2982,
          3169,
          3049,
          2918,
          2831,
          2694,
          2777,
          2750,
          2717,
          2499,
          2542,
          2107
         ],
         "yaxis": "y"
        },
        {
         "alignmentgroup": "True",
         "hovertemplate": "Municipio=Nogales<br>Año=%{x}<br>nacimientos=%{y}<extra></extra>",
         "legendgroup": "Nogales",
         "marker": {
          "color": "#00BF7D",
          "pattern": {
           "shape": ""
          }
         },
         "name": "Nogales",
         "offsetgroup": "Nogales",
         "orientation": "v",
         "showlegend": true,
         "textposition": "auto",
         "type": "bar",
         "x": [
          1994,
          1995,
          1996,
          1997,
          1998,
          1999,
          2000,
          2001,
          2002,
          2003,
          2004,
          2005,
          2006,
          2007,
          2008,
          2009,
          2010,
          2011,
          2012,
          2013,
          2014,
          2015,
          2016,
          2017,
          2018,
          2019,
          2020
         ],
         "xaxis": "x",
         "y": [
          4058,
          4340,
          4563,
          4527,
          4693,
          5009,
          5173,
          5345,
          5098,
          4895,
          4893,
          4968,
          4858,
          5100,
          5288,
          4899,
          4746,
          4975,
          4774,
          4384,
          4342,
          4216,
          4007,
          4001,
          3732,
          3903,
          2797
         ],
         "yaxis": "y"
        },
        {
         "alignmentgroup": "True",
         "hovertemplate": "Municipio=Onavas<br>Año=%{x}<br>nacimientos=%{y}<extra></extra>",
         "legendgroup": "Onavas",
         "marker": {
          "color": "#00B0F6",
          "pattern": {
           "shape": ""
          }
         },
         "name": "Onavas",
         "offsetgroup": "Onavas",
         "orientation": "v",
         "showlegend": true,
         "textposition": "auto",
         "type": "bar",
         "x": [
          1994,
          1995,
          1996,
          1997,
          1998,
          1999,
          2000,
          2001,
          2002,
          2003,
          2004,
          2005,
          2006,
          2007,
          2008,
          2009,
          2010,
          2011,
          2012,
          2013,
          2014,
          2015,
          2016,
          2017,
          2018,
          2019,
          2020
         ],
         "xaxis": "x",
         "y": [
          6,
          9,
          13,
          9,
          7,
          10,
          4,
          2,
          3,
          5,
          11,
          4,
          13,
          10,
          5,
          6,
          5,
          5,
          5,
          4,
          12,
          7,
          4,
          5,
          5,
          11,
          12
         ],
         "yaxis": "y"
        },
        {
         "alignmentgroup": "True",
         "hovertemplate": "Municipio=Opodepe<br>Año=%{x}<br>nacimientos=%{y}<extra></extra>",
         "legendgroup": "Opodepe",
         "marker": {
          "color": "#E76BF3",
          "pattern": {
           "shape": ""
          }
         },
         "name": "Opodepe",
         "offsetgroup": "Opodepe",
         "orientation": "v",
         "showlegend": true,
         "textposition": "auto",
         "type": "bar",
         "x": [
          1994,
          1995,
          1996,
          1997,
          1998,
          1999,
          2000,
          2001,
          2002,
          2003,
          2004,
          2005,
          2006,
          2007,
          2008,
          2009,
          2010,
          2011,
          2012,
          2013,
          2014,
          2015,
          2016,
          2017,
          2018,
          2019,
          2020
         ],
         "xaxis": "x",
         "y": [
          67,
          82,
          69,
          78,
          74,
          84,
          65,
          54,
          60,
          61,
          46,
          63,
          52,
          46,
          74,
          64,
          58,
          56,
          45,
          37,
          39,
          36,
          30,
          33,
          23,
          20,
          22
         ],
         "yaxis": "y"
        },
        {
         "alignmentgroup": "True",
         "hovertemplate": "Municipio=Oquitoa<br>Año=%{x}<br>nacimientos=%{y}<extra></extra>",
         "legendgroup": "Oquitoa",
         "marker": {
          "color": "#F8766D",
          "pattern": {
           "shape": ""
          }
         },
         "name": "Oquitoa",
         "offsetgroup": "Oquitoa",
         "orientation": "v",
         "showlegend": true,
         "textposition": "auto",
         "type": "bar",
         "x": [
          1994,
          1995,
          1996,
          1997,
          1998,
          1999,
          2000,
          2001,
          2002,
          2003,
          2004,
          2005,
          2006,
          2007,
          2008,
          2009,
          2010,
          2011,
          2012,
          2013,
          2014,
          2015,
          2016,
          2017,
          2018,
          2019,
          2020
         ],
         "xaxis": "x",
         "y": [
          3,
          11,
          19,
          14,
          14,
          9,
          6,
          10,
          5,
          3,
          8,
          12,
          3,
          7,
          13,
          9,
          10,
          9,
          5,
          2,
          14,
          7,
          10,
          6,
          4,
          2,
          4
         ],
         "yaxis": "y"
        },
        {
         "alignmentgroup": "True",
         "hovertemplate": "Municipio=Pitiquito<br>Año=%{x}<br>nacimientos=%{y}<extra></extra>",
         "legendgroup": "Pitiquito",
         "marker": {
          "color": "#A3A500",
          "pattern": {
           "shape": ""
          }
         },
         "name": "Pitiquito",
         "offsetgroup": "Pitiquito",
         "orientation": "v",
         "showlegend": true,
         "textposition": "auto",
         "type": "bar",
         "x": [
          1994,
          1995,
          1996,
          1997,
          1998,
          1999,
          2000,
          2001,
          2002,
          2003,
          2004,
          2005,
          2006,
          2007,
          2008,
          2009,
          2010,
          2011,
          2012,
          2013,
          2014,
          2015,
          2016,
          2017,
          2018,
          2019,
          2020
         ],
         "xaxis": "x",
         "y": [
          209,
          234,
          211,
          216,
          246,
          191,
          221,
          211,
          166,
          178,
          198,
          164,
          177,
          159,
          203,
          166,
          174,
          176,
          196,
          196,
          168,
          155,
          151,
          138,
          147,
          146,
          96
         ],
         "yaxis": "y"
        },
        {
         "alignmentgroup": "True",
         "hovertemplate": "Municipio=Puerto Peñasco<br>Año=%{x}<br>nacimientos=%{y}<extra></extra>",
         "legendgroup": "Puerto Peñasco",
         "marker": {
          "color": "#00BF7D",
          "pattern": {
           "shape": ""
          }
         },
         "name": "Puerto Peñasco",
         "offsetgroup": "Puerto Peñasco",
         "orientation": "v",
         "showlegend": true,
         "textposition": "auto",
         "type": "bar",
         "x": [
          1994,
          1995,
          1996,
          1997,
          1998,
          1999,
          2000,
          2001,
          2002,
          2003,
          2004,
          2005,
          2006,
          2007,
          2008,
          2009,
          2010,
          2011,
          2012,
          2013,
          2014,
          2015,
          2016,
          2017,
          2018,
          2019,
          2020
         ],
         "xaxis": "x",
         "y": [
          653,
          771,
          781,
          781,
          941,
          896,
          918,
          973,
          951,
          986,
          907,
          1163,
          1237,
          1416,
          1680,
          1438,
          1307,
          1200,
          1228,
          1096,
          1095,
          956,
          949,
          948,
          1069,
          1077,
          563
         ],
         "yaxis": "y"
        },
        {
         "alignmentgroup": "True",
         "hovertemplate": "Municipio=Quiriego<br>Año=%{x}<br>nacimientos=%{y}<extra></extra>",
         "legendgroup": "Quiriego",
         "marker": {
          "color": "#00B0F6",
          "pattern": {
           "shape": ""
          }
         },
         "name": "Quiriego",
         "offsetgroup": "Quiriego",
         "orientation": "v",
         "showlegend": true,
         "textposition": "auto",
         "type": "bar",
         "x": [
          1994,
          1995,
          1996,
          1997,
          1998,
          1999,
          2000,
          2001,
          2002,
          2003,
          2004,
          2005,
          2006,
          2007,
          2008,
          2009,
          2010,
          2011,
          2012,
          2013,
          2014,
          2015,
          2016,
          2017,
          2018,
          2019,
          2020
         ],
         "xaxis": "x",
         "y": [
          78,
          114,
          99,
          72,
          49,
          55,
          58,
          86,
          71,
          85,
          62,
          130,
          64,
          71,
          77,
          60,
          101,
          66,
          76,
          92,
          76,
          64,
          68,
          55,
          59,
          53,
          44
         ],
         "yaxis": "y"
        },
        {
         "alignmentgroup": "True",
         "hovertemplate": "Municipio=Rayón<br>Año=%{x}<br>nacimientos=%{y}<extra></extra>",
         "legendgroup": "Rayón",
         "marker": {
          "color": "#E76BF3",
          "pattern": {
           "shape": ""
          }
         },
         "name": "Rayón",
         "offsetgroup": "Rayón",
         "orientation": "v",
         "showlegend": true,
         "textposition": "auto",
         "type": "bar",
         "x": [
          1994,
          1995,
          1996,
          1997,
          1998,
          1999,
          2000,
          2001,
          2002,
          2003,
          2004,
          2005,
          2006,
          2007,
          2008,
          2009,
          2010,
          2011,
          2012,
          2013,
          2014,
          2015,
          2016,
          2017,
          2018,
          2019,
          2020
         ],
         "xaxis": "x",
         "y": [
          25,
          27,
          23,
          42,
          25,
          27,
          12,
          19,
          17,
          25,
          27,
          27,
          24,
          19,
          20,
          24,
          22,
          19,
          23,
          30,
          22,
          20,
          20,
          17,
          21,
          10,
          16
         ],
         "yaxis": "y"
        },
        {
         "alignmentgroup": "True",
         "hovertemplate": "Municipio=Rosario<br>Año=%{x}<br>nacimientos=%{y}<extra></extra>",
         "legendgroup": "Rosario",
         "marker": {
          "color": "#F8766D",
          "pattern": {
           "shape": ""
          }
         },
         "name": "Rosario",
         "offsetgroup": "Rosario",
         "orientation": "v",
         "showlegend": true,
         "textposition": "auto",
         "type": "bar",
         "x": [
          1994,
          1995,
          1996,
          1997,
          1998,
          1999,
          2000,
          2001,
          2002,
          2003,
          2004,
          2005,
          2006,
          2007,
          2008,
          2009,
          2010,
          2011,
          2012,
          2013,
          2014,
          2015,
          2016,
          2017,
          2018,
          2019,
          2020
         ],
         "xaxis": "x",
         "y": [
          151,
          175,
          127,
          150,
          171,
          140,
          151,
          117,
          125,
          110,
          111,
          114,
          102,
          90,
          122,
          111,
          131,
          113,
          98,
          104,
          100,
          109,
          91,
          87,
          80,
          93,
          78
         ],
         "yaxis": "y"
        },
        {
         "alignmentgroup": "True",
         "hovertemplate": "Municipio=Sahuaripa<br>Año=%{x}<br>nacimientos=%{y}<extra></extra>",
         "legendgroup": "Sahuaripa",
         "marker": {
          "color": "#A3A500",
          "pattern": {
           "shape": ""
          }
         },
         "name": "Sahuaripa",
         "offsetgroup": "Sahuaripa",
         "orientation": "v",
         "showlegend": true,
         "textposition": "auto",
         "type": "bar",
         "x": [
          1994,
          1995,
          1996,
          1997,
          1998,
          1999,
          2000,
          2001,
          2002,
          2003,
          2004,
          2005,
          2006,
          2007,
          2008,
          2009,
          2010,
          2011,
          2012,
          2013,
          2014,
          2015,
          2016,
          2017,
          2018,
          2019,
          2020
         ],
         "xaxis": "x",
         "y": [
          135,
          125,
          129,
          123,
          148,
          133,
          108,
          117,
          126,
          106,
          121,
          106,
          99,
          95,
          105,
          113,
          89,
          99,
          108,
          88,
          101,
          76,
          66,
          82,
          67,
          60,
          35
         ],
         "yaxis": "y"
        },
        {
         "alignmentgroup": "True",
         "hovertemplate": "Municipio=San Felipe de Jesús<br>Año=%{x}<br>nacimientos=%{y}<extra></extra>",
         "legendgroup": "San Felipe de Jesús",
         "marker": {
          "color": "#00BF7D",
          "pattern": {
           "shape": ""
          }
         },
         "name": "San Felipe de Jesús",
         "offsetgroup": "San Felipe de Jesús",
         "orientation": "v",
         "showlegend": true,
         "textposition": "auto",
         "type": "bar",
         "x": [
          1994,
          1995,
          1996,
          1997,
          1998,
          1999,
          2000,
          2001,
          2002,
          2003,
          2004,
          2005,
          2006,
          2007,
          2008,
          2009,
          2010,
          2011,
          2012,
          2013,
          2014,
          2015,
          2016,
          2017,
          2018,
          2019,
          2020
         ],
         "xaxis": "x",
         "y": [
          21,
          12,
          9,
          6,
          7,
          11,
          9,
          8,
          5,
          9,
          4,
          5,
          5,
          6,
          9,
          7,
          12,
          4,
          5,
          6,
          4,
          8,
          5,
          6,
          5,
          11,
          5
         ],
         "yaxis": "y"
        },
        {
         "alignmentgroup": "True",
         "hovertemplate": "Municipio=San Javier<br>Año=%{x}<br>nacimientos=%{y}<extra></extra>",
         "legendgroup": "San Javier",
         "marker": {
          "color": "#00B0F6",
          "pattern": {
           "shape": ""
          }
         },
         "name": "San Javier",
         "offsetgroup": "San Javier",
         "orientation": "v",
         "showlegend": true,
         "textposition": "auto",
         "type": "bar",
         "x": [
          1994,
          1995,
          1996,
          1997,
          1998,
          1999,
          2000,
          2001,
          2002,
          2003,
          2004,
          2005,
          2006,
          2007,
          2008,
          2009,
          2010,
          2011,
          2012,
          2013,
          2014,
          2015,
          2016,
          2017,
          2018,
          2019,
          2020
         ],
         "xaxis": "x",
         "y": [
          5,
          7,
          15,
          8,
          4,
          1,
          5,
          3,
          5,
          4,
          3,
          3,
          6,
          14,
          11,
          4,
          10,
          15,
          7,
          14,
          8,
          11,
          7,
          8,
          2,
          5,
          11
         ],
         "yaxis": "y"
        },
        {
         "alignmentgroup": "True",
         "hovertemplate": "Municipio=San Luis Río Colorado<br>Año=%{x}<br>nacimientos=%{y}<extra></extra>",
         "legendgroup": "San Luis Río Colorado",
         "marker": {
          "color": "#E76BF3",
          "pattern": {
           "shape": ""
          }
         },
         "name": "San Luis Río Colorado",
         "offsetgroup": "San Luis Río Colorado",
         "orientation": "v",
         "showlegend": true,
         "textposition": "auto",
         "type": "bar",
         "x": [
          1994,
          1995,
          1996,
          1997,
          1998,
          1999,
          2000,
          2001,
          2002,
          2003,
          2004,
          2005,
          2006,
          2007,
          2008,
          2009,
          2010,
          2011,
          2012,
          2013,
          2014,
          2015,
          2016,
          2017,
          2018,
          2019,
          2020
         ],
         "xaxis": "x",
         "y": [
          3317,
          3548,
          3467,
          3556,
          3615,
          3693,
          3817,
          3568,
          3606,
          3272,
          3430,
          3408,
          3479,
          3604,
          3591,
          3460,
          3374,
          3436,
          3531,
          3432,
          3466,
          3225,
          3065,
          3006,
          2887,
          3025,
          2027
         ],
         "yaxis": "y"
        },
        {
         "alignmentgroup": "True",
         "hovertemplate": "Municipio=San Miguel de Horcasitas<br>Año=%{x}<br>nacimientos=%{y}<extra></extra>",
         "legendgroup": "San Miguel de Horcasitas",
         "marker": {
          "color": "#F8766D",
          "pattern": {
           "shape": ""
          }
         },
         "name": "San Miguel de Horcasitas",
         "offsetgroup": "San Miguel de Horcasitas",
         "orientation": "v",
         "showlegend": true,
         "textposition": "auto",
         "type": "bar",
         "x": [
          1994,
          1995,
          1996,
          1997,
          1998,
          1999,
          2000,
          2001,
          2002,
          2003,
          2004,
          2005,
          2006,
          2007,
          2008,
          2009,
          2010,
          2011,
          2012,
          2013,
          2014,
          2015,
          2016,
          2017,
          2018,
          2019,
          2020
         ],
         "xaxis": "x",
         "y": [
          96,
          116,
          140,
          102,
          248,
          202,
          187,
          266,
          265,
          337,
          182,
          182,
          206,
          208,
          198,
          277,
          253,
          240,
          230,
          275,
          224,
          247,
          227,
          231,
          240,
          217,
          171
         ],
         "yaxis": "y"
        },
        {
         "alignmentgroup": "True",
         "hovertemplate": "Municipio=San Pedro de la Cueva<br>Año=%{x}<br>nacimientos=%{y}<extra></extra>",
         "legendgroup": "San Pedro de la Cueva",
         "marker": {
          "color": "#A3A500",
          "pattern": {
           "shape": ""
          }
         },
         "name": "San Pedro de la Cueva",
         "offsetgroup": "San Pedro de la Cueva",
         "orientation": "v",
         "showlegend": true,
         "textposition": "auto",
         "type": "bar",
         "x": [
          1994,
          1995,
          1996,
          1997,
          1998,
          1999,
          2000,
          2001,
          2002,
          2003,
          2004,
          2005,
          2006,
          2007,
          2008,
          2009,
          2010,
          2011,
          2012,
          2013,
          2014,
          2015,
          2016,
          2017,
          2018,
          2019,
          2020
         ],
         "xaxis": "x",
         "y": [
          49,
          36,
          43,
          28,
          33,
          32,
          27,
          29,
          33,
          41,
          22,
          15,
          15,
          19,
          18,
          18,
          24,
          21,
          19,
          9,
          12,
          19,
          28,
          19,
          8,
          13,
          12
         ],
         "yaxis": "y"
        },
        {
         "alignmentgroup": "True",
         "hovertemplate": "Municipio=Santa Ana<br>Año=%{x}<br>nacimientos=%{y}<extra></extra>",
         "legendgroup": "Santa Ana",
         "marker": {
          "color": "#00BF7D",
          "pattern": {
           "shape": ""
          }
         },
         "name": "Santa Ana",
         "offsetgroup": "Santa Ana",
         "orientation": "v",
         "showlegend": true,
         "textposition": "auto",
         "type": "bar",
         "x": [
          1994,
          1995,
          1996,
          1997,
          1998,
          1999,
          2000,
          2001,
          2002,
          2003,
          2004,
          2005,
          2006,
          2007,
          2008,
          2009,
          2010,
          2011,
          2012,
          2013,
          2014,
          2015,
          2016,
          2017,
          2018,
          2019,
          2020
         ],
         "xaxis": "x",
         "y": [
          325,
          384,
          373,
          332,
          364,
          356,
          363,
          334,
          385,
          351,
          347,
          365,
          341,
          328,
          335,
          288,
          322,
          351,
          348,
          294,
          296,
          299,
          286,
          271,
          239,
          256,
          190
         ],
         "yaxis": "y"
        },
        {
         "alignmentgroup": "True",
         "hovertemplate": "Municipio=Santa Cruz<br>Año=%{x}<br>nacimientos=%{y}<extra></extra>",
         "legendgroup": "Santa Cruz",
         "marker": {
          "color": "#00B0F6",
          "pattern": {
           "shape": ""
          }
         },
         "name": "Santa Cruz",
         "offsetgroup": "Santa Cruz",
         "orientation": "v",
         "showlegend": true,
         "textposition": "auto",
         "type": "bar",
         "x": [
          1994,
          1995,
          1996,
          1997,
          1998,
          1999,
          2000,
          2001,
          2002,
          2003,
          2004,
          2005,
          2006,
          2007,
          2008,
          2009,
          2010,
          2011,
          2012,
          2013,
          2014,
          2015,
          2016,
          2017,
          2018,
          2019,
          2020
         ],
         "xaxis": "x",
         "y": [
          41,
          40,
          33,
          37,
          51,
          38,
          51,
          35,
          51,
          42,
          45,
          43,
          39,
          50,
          44,
          59,
          63,
          55,
          43,
          42,
          46,
          46,
          30,
          34,
          54,
          31,
          21
         ],
         "yaxis": "y"
        },
        {
         "alignmentgroup": "True",
         "hovertemplate": "Municipio=Sáric<br>Año=%{x}<br>nacimientos=%{y}<extra></extra>",
         "legendgroup": "Sáric",
         "marker": {
          "color": "#E76BF3",
          "pattern": {
           "shape": ""
          }
         },
         "name": "Sáric",
         "offsetgroup": "Sáric",
         "orientation": "v",
         "showlegend": true,
         "textposition": "auto",
         "type": "bar",
         "x": [
          1994,
          1995,
          1996,
          1997,
          1998,
          1999,
          2000,
          2001,
          2002,
          2003,
          2004,
          2005,
          2006,
          2007,
          2008,
          2009,
          2010,
          2011,
          2012,
          2013,
          2014,
          2015,
          2016,
          2017,
          2018,
          2019,
          2020
         ],
         "xaxis": "x",
         "y": [
          31,
          48,
          55,
          55,
          50,
          56,
          67,
          57,
          68,
          70,
          72,
          71,
          93,
          70,
          61,
          63,
          61,
          31,
          52,
          27,
          48,
          45,
          26,
          25,
          32,
          32,
          14
         ],
         "yaxis": "y"
        },
        {
         "alignmentgroup": "True",
         "hovertemplate": "Municipio=Soyopa<br>Año=%{x}<br>nacimientos=%{y}<extra></extra>",
         "legendgroup": "Soyopa",
         "marker": {
          "color": "#F8766D",
          "pattern": {
           "shape": ""
          }
         },
         "name": "Soyopa",
         "offsetgroup": "Soyopa",
         "orientation": "v",
         "showlegend": true,
         "textposition": "auto",
         "type": "bar",
         "x": [
          1994,
          1995,
          1996,
          1997,
          1998,
          1999,
          2000,
          2001,
          2002,
          2003,
          2004,
          2005,
          2006,
          2007,
          2008,
          2009,
          2010,
          2011,
          2012,
          2013,
          2014,
          2015,
          2016,
          2017,
          2018,
          2019,
          2020
         ],
         "xaxis": "x",
         "y": [
          22,
          35,
          36,
          29,
          33,
          35,
          26,
          25,
          22,
          19,
          21,
          31,
          28,
          31,
          23,
          20,
          21,
          14,
          14,
          19,
          31,
          23,
          11,
          14,
          30,
          16,
          20
         ],
         "yaxis": "y"
        },
        {
         "alignmentgroup": "True",
         "hovertemplate": "Municipio=Suaqui Grande<br>Año=%{x}<br>nacimientos=%{y}<extra></extra>",
         "legendgroup": "Suaqui Grande",
         "marker": {
          "color": "#A3A500",
          "pattern": {
           "shape": ""
          }
         },
         "name": "Suaqui Grande",
         "offsetgroup": "Suaqui Grande",
         "orientation": "v",
         "showlegend": true,
         "textposition": "auto",
         "type": "bar",
         "x": [
          1994,
          1995,
          1996,
          1997,
          1998,
          1999,
          2000,
          2001,
          2002,
          2003,
          2004,
          2005,
          2006,
          2007,
          2008,
          2009,
          2010,
          2011,
          2012,
          2013,
          2014,
          2015,
          2016,
          2017,
          2018,
          2019,
          2020
         ],
         "xaxis": "x",
         "y": [
          38,
          43,
          35,
          19,
          21,
          23,
          24,
          35,
          34,
          21,
          25,
          30,
          21,
          27,
          28,
          24,
          26,
          21,
          18,
          14,
          18,
          17,
          10,
          13,
          17,
          14,
          15
         ],
         "yaxis": "y"
        },
        {
         "alignmentgroup": "True",
         "hovertemplate": "Municipio=Tepache<br>Año=%{x}<br>nacimientos=%{y}<extra></extra>",
         "legendgroup": "Tepache",
         "marker": {
          "color": "#00BF7D",
          "pattern": {
           "shape": ""
          }
         },
         "name": "Tepache",
         "offsetgroup": "Tepache",
         "orientation": "v",
         "showlegend": true,
         "textposition": "auto",
         "type": "bar",
         "x": [
          1994,
          1995,
          1996,
          1997,
          1998,
          1999,
          2000,
          2001,
          2002,
          2003,
          2004,
          2005,
          2006,
          2007,
          2008,
          2009,
          2010,
          2011,
          2012,
          2013,
          2014,
          2015,
          2016,
          2017,
          2018,
          2019,
          2020
         ],
         "xaxis": "x",
         "y": [
          23,
          28,
          21,
          17,
          12,
          20,
          16,
          21,
          23,
          20,
          8,
          13,
          14,
          13,
          13,
          21,
          14,
          14,
          13,
          13,
          7,
          7,
          11,
          9,
          7,
          9,
          11
         ],
         "yaxis": "y"
        },
        {
         "alignmentgroup": "True",
         "hovertemplate": "Municipio=Trincheras<br>Año=%{x}<br>nacimientos=%{y}<extra></extra>",
         "legendgroup": "Trincheras",
         "marker": {
          "color": "#00B0F6",
          "pattern": {
           "shape": ""
          }
         },
         "name": "Trincheras",
         "offsetgroup": "Trincheras",
         "orientation": "v",
         "showlegend": true,
         "textposition": "auto",
         "type": "bar",
         "x": [
          1994,
          1995,
          1996,
          1997,
          1998,
          1999,
          2000,
          2001,
          2002,
          2003,
          2004,
          2005,
          2006,
          2007,
          2008,
          2009,
          2010,
          2011,
          2012,
          2013,
          2014,
          2015,
          2016,
          2017,
          2018,
          2019,
          2020
         ],
         "xaxis": "x",
         "y": [
          43,
          46,
          36,
          43,
          6,
          13,
          44,
          42,
          37,
          36,
          41,
          41,
          39,
          32,
          37,
          32,
          36,
          36,
          32,
          32,
          22,
          22,
          26,
          31,
          30,
          20,
          10
         ],
         "yaxis": "y"
        },
        {
         "alignmentgroup": "True",
         "hovertemplate": "Municipio=Tubutama<br>Año=%{x}<br>nacimientos=%{y}<extra></extra>",
         "legendgroup": "Tubutama",
         "marker": {
          "color": "#E76BF3",
          "pattern": {
           "shape": ""
          }
         },
         "name": "Tubutama",
         "offsetgroup": "Tubutama",
         "orientation": "v",
         "showlegend": true,
         "textposition": "auto",
         "type": "bar",
         "x": [
          1994,
          1995,
          1996,
          1997,
          1998,
          1999,
          2000,
          2001,
          2002,
          2003,
          2004,
          2005,
          2006,
          2007,
          2008,
          2009,
          2010,
          2011,
          2012,
          2013,
          2014,
          2015,
          2016,
          2017,
          2018,
          2019,
          2020
         ],
         "xaxis": "x",
         "y": [
          43,
          58,
          66,
          44,
          59,
          50,
          34,
          55,
          43,
          34,
          39,
          43,
          46,
          44,
          37,
          36,
          37,
          30,
          33,
          34,
          24,
          21,
          23,
          31,
          16,
          14,
          10
         ],
         "yaxis": "y"
        },
        {
         "alignmentgroup": "True",
         "hovertemplate": "Municipio=Ures<br>Año=%{x}<br>nacimientos=%{y}<extra></extra>",
         "legendgroup": "Ures",
         "marker": {
          "color": "#F8766D",
          "pattern": {
           "shape": ""
          }
         },
         "name": "Ures",
         "offsetgroup": "Ures",
         "orientation": "v",
         "showlegend": true,
         "textposition": "auto",
         "type": "bar",
         "x": [
          1994,
          1995,
          1996,
          1997,
          1998,
          1999,
          2000,
          2001,
          2002,
          2003,
          2004,
          2005,
          2006,
          2007,
          2008,
          2009,
          2010,
          2011,
          2012,
          2013,
          2014,
          2015,
          2016,
          2017,
          2018,
          2019,
          2020
         ],
         "xaxis": "x",
         "y": [
          237,
          243,
          248,
          230,
          214,
          205,
          210,
          198,
          208,
          185,
          192,
          170,
          183,
          148,
          161,
          151,
          147,
          147,
          143,
          118,
          119,
          132,
          116,
          100,
          107,
          114,
          103
         ],
         "yaxis": "y"
        },
        {
         "alignmentgroup": "True",
         "hovertemplate": "Municipio=Villa Hidalgo<br>Año=%{x}<br>nacimientos=%{y}<extra></extra>",
         "legendgroup": "Villa Hidalgo",
         "marker": {
          "color": "#A3A500",
          "pattern": {
           "shape": ""
          }
         },
         "name": "Villa Hidalgo",
         "offsetgroup": "Villa Hidalgo",
         "orientation": "v",
         "showlegend": true,
         "textposition": "auto",
         "type": "bar",
         "x": [
          1994,
          1995,
          1996,
          1997,
          1998,
          1999,
          2000,
          2001,
          2002,
          2003,
          2004,
          2005,
          2006,
          2007,
          2008,
          2009,
          2010,
          2011,
          2012,
          2013,
          2014,
          2015,
          2016,
          2017,
          2018,
          2019,
          2020
         ],
         "xaxis": "x",
         "y": [
          28,
          27,
          25,
          34,
          42,
          42,
          39,
          31,
          32,
          30,
          40,
          35,
          35,
          31,
          35,
          29,
          37,
          37,
          32,
          25,
          14,
          25,
          16,
          14,
          11,
          9,
          7
         ],
         "yaxis": "y"
        },
        {
         "alignmentgroup": "True",
         "hovertemplate": "Municipio=Villa Pesqueira<br>Año=%{x}<br>nacimientos=%{y}<extra></extra>",
         "legendgroup": "Villa Pesqueira",
         "marker": {
          "color": "#00BF7D",
          "pattern": {
           "shape": ""
          }
         },
         "name": "Villa Pesqueira",
         "offsetgroup": "Villa Pesqueira",
         "orientation": "v",
         "showlegend": true,
         "textposition": "auto",
         "type": "bar",
         "x": [
          1994,
          1995,
          1996,
          1997,
          1998,
          1999,
          2000,
          2001,
          2002,
          2003,
          2004,
          2005,
          2006,
          2007,
          2008,
          2009,
          2010,
          2011,
          2012,
          2013,
          2014,
          2015,
          2016,
          2017,
          2018,
          2019,
          2020
         ],
         "xaxis": "x",
         "y": [
          38,
          56,
          38,
          25,
          43,
          38,
          36,
          34,
          36,
          21,
          25,
          22,
          19,
          25,
          18,
          12,
          14,
          12,
          18,
          15,
          8,
          9,
          6,
          11,
          8,
          10,
          12
         ],
         "yaxis": "y"
        },
        {
         "alignmentgroup": "True",
         "hovertemplate": "Municipio=Yécora<br>Año=%{x}<br>nacimientos=%{y}<extra></extra>",
         "legendgroup": "Yécora",
         "marker": {
          "color": "#00B0F6",
          "pattern": {
           "shape": ""
          }
         },
         "name": "Yécora",
         "offsetgroup": "Yécora",
         "orientation": "v",
         "showlegend": true,
         "textposition": "auto",
         "type": "bar",
         "x": [
          1994,
          1995,
          1996,
          1997,
          1998,
          1999,
          2000,
          2001,
          2002,
          2003,
          2004,
          2005,
          2006,
          2007,
          2008,
          2009,
          2010,
          2011,
          2012,
          2013,
          2014,
          2015,
          2016,
          2017,
          2018,
          2019,
          2020
         ],
         "xaxis": "x",
         "y": [
          172,
          151,
          324,
          156,
          117,
          127,
          116,
          130,
          134,
          130,
          146,
          200,
          143,
          148,
          165,
          134,
          187,
          133,
          121,
          127,
          130,
          110,
          98,
          85,
          86,
          75,
          61
         ],
         "yaxis": "y"
        },
        {
         "alignmentgroup": "True",
         "hovertemplate": "Municipio=General Plutarco Elías Calles<br>Año=%{x}<br>nacimientos=%{y}<extra></extra>",
         "legendgroup": "General Plutarco Elías Calles",
         "marker": {
          "color": "#E76BF3",
          "pattern": {
           "shape": ""
          }
         },
         "name": "General Plutarco Elías Calles",
         "offsetgroup": "General Plutarco Elías Calles",
         "orientation": "v",
         "showlegend": true,
         "textposition": "auto",
         "type": "bar",
         "x": [
          1994,
          1995,
          1996,
          1997,
          1998,
          1999,
          2000,
          2001,
          2002,
          2003,
          2004,
          2005,
          2006,
          2007,
          2008,
          2009,
          2010,
          2011,
          2012,
          2013,
          2014,
          2015,
          2016,
          2017,
          2018,
          2019,
          2020
         ],
         "xaxis": "x",
         "y": [
          340,
          329,
          300,
          410,
          328,
          332,
          331,
          336,
          349,
          337,
          364,
          376,
          366,
          363,
          331,
          373,
          409,
          400,
          416,
          323,
          358,
          328,
          291,
          243,
          246,
          206,
          115
         ],
         "yaxis": "y"
        },
        {
         "alignmentgroup": "True",
         "hovertemplate": "Municipio=Benito Juárez<br>Año=%{x}<br>nacimientos=%{y}<extra></extra>",
         "legendgroup": "Benito Juárez",
         "marker": {
          "color": "#F8766D",
          "pattern": {
           "shape": ""
          }
         },
         "name": "Benito Juárez",
         "offsetgroup": "Benito Juárez",
         "orientation": "v",
         "showlegend": true,
         "textposition": "auto",
         "type": "bar",
         "x": [
          1994,
          1995,
          1996,
          1997,
          1998,
          1999,
          2000,
          2001,
          2002,
          2003,
          2004,
          2005,
          2006,
          2007,
          2008,
          2009,
          2010,
          2011,
          2012,
          2013,
          2014,
          2015,
          2016,
          2017,
          2018,
          2019,
          2020
         ],
         "xaxis": "x",
         "y": [
          0,
          0,
          0,
          0,
          559,
          604,
          570,
          590,
          580,
          513,
          529,
          607,
          494,
          454,
          479,
          474,
          518,
          488,
          490,
          488,
          474,
          461,
          392,
          409,
          365,
          394,
          291
         ],
         "yaxis": "y"
        },
        {
         "alignmentgroup": "True",
         "hovertemplate": "Municipio=San Ignacio Río Muerto<br>Año=%{x}<br>nacimientos=%{y}<extra></extra>",
         "legendgroup": "San Ignacio Río Muerto",
         "marker": {
          "color": "#A3A500",
          "pattern": {
           "shape": ""
          }
         },
         "name": "San Ignacio Río Muerto",
         "offsetgroup": "San Ignacio Río Muerto",
         "orientation": "v",
         "showlegend": true,
         "textposition": "auto",
         "type": "bar",
         "x": [
          1994,
          1995,
          1996,
          1997,
          1998,
          1999,
          2000,
          2001,
          2002,
          2003,
          2004,
          2005,
          2006,
          2007,
          2008,
          2009,
          2010,
          2011,
          2012,
          2013,
          2014,
          2015,
          2016,
          2017,
          2018,
          2019,
          2020
         ],
         "xaxis": "x",
         "y": [
          0,
          0,
          0,
          0,
          329,
          412,
          338,
          334,
          337,
          356,
          347,
          313,
          304,
          298,
          333,
          304,
          285,
          247,
          307,
          299,
          273,
          283,
          250,
          266,
          268,
          231,
          212
         ],
         "yaxis": "y"
        },
        {
         "alignmentgroup": "True",
         "hovertemplate": "Municipio=No especificado<br>Año=%{x}<br>nacimientos=%{y}<extra></extra>",
         "legendgroup": "No especificado",
         "marker": {
          "color": "#00BF7D",
          "pattern": {
           "shape": ""
          }
         },
         "name": "No especificado",
         "offsetgroup": "No especificado",
         "orientation": "v",
         "showlegend": true,
         "textposition": "auto",
         "type": "bar",
         "x": [
          1994,
          1995,
          1996,
          1997,
          1998,
          1999,
          2000,
          2001,
          2002,
          2003,
          2004,
          2005,
          2006,
          2007,
          2008,
          2009,
          2010,
          2011,
          2012,
          2013,
          2014,
          2015,
          2016,
          2017,
          2018,
          2019,
          2020
         ],
         "xaxis": "x",
         "y": [
          35,
          4,
          8,
          14,
          4,
          15,
          17,
          7,
          9,
          6,
          20,
          5,
          7,
          4,
          2,
          10,
          7,
          1,
          6,
          4,
          6,
          3,
          3,
          3,
          4,
          5,
          6
         ],
         "yaxis": "y"
        }
       ],
       "layout": {
        "barmode": "relative",
        "legend": {
         "title": {
          "text": "Municipio"
         },
         "tracegroupgap": 0
        },
        "template": {
         "data": {
          "bar": [
           {
            "error_x": {
             "color": "rgb(51,51,51)"
            },
            "error_y": {
             "color": "rgb(51,51,51)"
            },
            "marker": {
             "line": {
              "color": "rgb(237,237,237)",
              "width": 0.5
             },
             "pattern": {
              "fillmode": "overlay",
              "size": 10,
              "solidity": 0.2
             }
            },
            "type": "bar"
           }
          ],
          "barpolar": [
           {
            "marker": {
             "line": {
              "color": "rgb(237,237,237)",
              "width": 0.5
             },
             "pattern": {
              "fillmode": "overlay",
              "size": 10,
              "solidity": 0.2
             }
            },
            "type": "barpolar"
           }
          ],
          "carpet": [
           {
            "aaxis": {
             "endlinecolor": "rgb(51,51,51)",
             "gridcolor": "white",
             "linecolor": "white",
             "minorgridcolor": "white",
             "startlinecolor": "rgb(51,51,51)"
            },
            "baxis": {
             "endlinecolor": "rgb(51,51,51)",
             "gridcolor": "white",
             "linecolor": "white",
             "minorgridcolor": "white",
             "startlinecolor": "rgb(51,51,51)"
            },
            "type": "carpet"
           }
          ],
          "choropleth": [
           {
            "colorbar": {
             "outlinewidth": 0,
             "tickcolor": "rgb(237,237,237)",
             "ticklen": 6,
             "ticks": "inside"
            },
            "type": "choropleth"
           }
          ],
          "contour": [
           {
            "colorbar": {
             "outlinewidth": 0,
             "tickcolor": "rgb(237,237,237)",
             "ticklen": 6,
             "ticks": "inside"
            },
            "colorscale": [
             [
              0,
              "rgb(20,44,66)"
             ],
             [
              1,
              "rgb(90,179,244)"
             ]
            ],
            "type": "contour"
           }
          ],
          "contourcarpet": [
           {
            "colorbar": {
             "outlinewidth": 0,
             "tickcolor": "rgb(237,237,237)",
             "ticklen": 6,
             "ticks": "inside"
            },
            "type": "contourcarpet"
           }
          ],
          "heatmap": [
           {
            "colorbar": {
             "outlinewidth": 0,
             "tickcolor": "rgb(237,237,237)",
             "ticklen": 6,
             "ticks": "inside"
            },
            "colorscale": [
             [
              0,
              "rgb(20,44,66)"
             ],
             [
              1,
              "rgb(90,179,244)"
             ]
            ],
            "type": "heatmap"
           }
          ],
          "heatmapgl": [
           {
            "colorbar": {
             "outlinewidth": 0,
             "tickcolor": "rgb(237,237,237)",
             "ticklen": 6,
             "ticks": "inside"
            },
            "colorscale": [
             [
              0,
              "rgb(20,44,66)"
             ],
             [
              1,
              "rgb(90,179,244)"
             ]
            ],
            "type": "heatmapgl"
           }
          ],
          "histogram": [
           {
            "marker": {
             "pattern": {
              "fillmode": "overlay",
              "size": 10,
              "solidity": 0.2
             }
            },
            "type": "histogram"
           }
          ],
          "histogram2d": [
           {
            "colorbar": {
             "outlinewidth": 0,
             "tickcolor": "rgb(237,237,237)",
             "ticklen": 6,
             "ticks": "inside"
            },
            "colorscale": [
             [
              0,
              "rgb(20,44,66)"
             ],
             [
              1,
              "rgb(90,179,244)"
             ]
            ],
            "type": "histogram2d"
           }
          ],
          "histogram2dcontour": [
           {
            "colorbar": {
             "outlinewidth": 0,
             "tickcolor": "rgb(237,237,237)",
             "ticklen": 6,
             "ticks": "inside"
            },
            "colorscale": [
             [
              0,
              "rgb(20,44,66)"
             ],
             [
              1,
              "rgb(90,179,244)"
             ]
            ],
            "type": "histogram2dcontour"
           }
          ],
          "mesh3d": [
           {
            "colorbar": {
             "outlinewidth": 0,
             "tickcolor": "rgb(237,237,237)",
             "ticklen": 6,
             "ticks": "inside"
            },
            "type": "mesh3d"
           }
          ],
          "parcoords": [
           {
            "line": {
             "colorbar": {
              "outlinewidth": 0,
              "tickcolor": "rgb(237,237,237)",
              "ticklen": 6,
              "ticks": "inside"
             }
            },
            "type": "parcoords"
           }
          ],
          "pie": [
           {
            "automargin": true,
            "type": "pie"
           }
          ],
          "scatter": [
           {
            "fillpattern": {
             "fillmode": "overlay",
             "size": 10,
             "solidity": 0.2
            },
            "type": "scatter"
           }
          ],
          "scatter3d": [
           {
            "line": {
             "colorbar": {
              "outlinewidth": 0,
              "tickcolor": "rgb(237,237,237)",
              "ticklen": 6,
              "ticks": "inside"
             }
            },
            "marker": {
             "colorbar": {
              "outlinewidth": 0,
              "tickcolor": "rgb(237,237,237)",
              "ticklen": 6,
              "ticks": "inside"
             }
            },
            "type": "scatter3d"
           }
          ],
          "scattercarpet": [
           {
            "marker": {
             "colorbar": {
              "outlinewidth": 0,
              "tickcolor": "rgb(237,237,237)",
              "ticklen": 6,
              "ticks": "inside"
             }
            },
            "type": "scattercarpet"
           }
          ],
          "scattergeo": [
           {
            "marker": {
             "colorbar": {
              "outlinewidth": 0,
              "tickcolor": "rgb(237,237,237)",
              "ticklen": 6,
              "ticks": "inside"
             }
            },
            "type": "scattergeo"
           }
          ],
          "scattergl": [
           {
            "marker": {
             "colorbar": {
              "outlinewidth": 0,
              "tickcolor": "rgb(237,237,237)",
              "ticklen": 6,
              "ticks": "inside"
             }
            },
            "type": "scattergl"
           }
          ],
          "scattermapbox": [
           {
            "marker": {
             "colorbar": {
              "outlinewidth": 0,
              "tickcolor": "rgb(237,237,237)",
              "ticklen": 6,
              "ticks": "inside"
             }
            },
            "type": "scattermapbox"
           }
          ],
          "scatterpolar": [
           {
            "marker": {
             "colorbar": {
              "outlinewidth": 0,
              "tickcolor": "rgb(237,237,237)",
              "ticklen": 6,
              "ticks": "inside"
             }
            },
            "type": "scatterpolar"
           }
          ],
          "scatterpolargl": [
           {
            "marker": {
             "colorbar": {
              "outlinewidth": 0,
              "tickcolor": "rgb(237,237,237)",
              "ticklen": 6,
              "ticks": "inside"
             }
            },
            "type": "scatterpolargl"
           }
          ],
          "scatterternary": [
           {
            "marker": {
             "colorbar": {
              "outlinewidth": 0,
              "tickcolor": "rgb(237,237,237)",
              "ticklen": 6,
              "ticks": "inside"
             }
            },
            "type": "scatterternary"
           }
          ],
          "surface": [
           {
            "colorbar": {
             "outlinewidth": 0,
             "tickcolor": "rgb(237,237,237)",
             "ticklen": 6,
             "ticks": "inside"
            },
            "colorscale": [
             [
              0,
              "rgb(20,44,66)"
             ],
             [
              1,
              "rgb(90,179,244)"
             ]
            ],
            "type": "surface"
           }
          ],
          "table": [
           {
            "cells": {
             "fill": {
              "color": "rgb(237,237,237)"
             },
             "line": {
              "color": "white"
             }
            },
            "header": {
             "fill": {
              "color": "rgb(217,217,217)"
             },
             "line": {
              "color": "white"
             }
            },
            "type": "table"
           }
          ]
         },
         "layout": {
          "annotationdefaults": {
           "arrowhead": 0,
           "arrowwidth": 1
          },
          "autotypenumbers": "strict",
          "coloraxis": {
           "colorbar": {
            "outlinewidth": 0,
            "tickcolor": "rgb(237,237,237)",
            "ticklen": 6,
            "ticks": "inside"
           }
          },
          "colorscale": {
           "sequential": [
            [
             0,
             "rgb(20,44,66)"
            ],
            [
             1,
             "rgb(90,179,244)"
            ]
           ],
           "sequentialminus": [
            [
             0,
             "rgb(20,44,66)"
            ],
            [
             1,
             "rgb(90,179,244)"
            ]
           ]
          },
          "colorway": [
           "#F8766D",
           "#A3A500",
           "#00BF7D",
           "#00B0F6",
           "#E76BF3"
          ],
          "font": {
           "color": "rgb(51,51,51)"
          },
          "geo": {
           "bgcolor": "white",
           "lakecolor": "white",
           "landcolor": "rgb(237,237,237)",
           "showlakes": true,
           "showland": true,
           "subunitcolor": "white"
          },
          "hoverlabel": {
           "align": "left"
          },
          "hovermode": "closest",
          "paper_bgcolor": "white",
          "plot_bgcolor": "rgb(237,237,237)",
          "polar": {
           "angularaxis": {
            "gridcolor": "white",
            "linecolor": "white",
            "showgrid": true,
            "tickcolor": "rgb(51,51,51)",
            "ticks": "outside"
           },
           "bgcolor": "rgb(237,237,237)",
           "radialaxis": {
            "gridcolor": "white",
            "linecolor": "white",
            "showgrid": true,
            "tickcolor": "rgb(51,51,51)",
            "ticks": "outside"
           }
          },
          "scene": {
           "xaxis": {
            "backgroundcolor": "rgb(237,237,237)",
            "gridcolor": "white",
            "gridwidth": 2,
            "linecolor": "white",
            "showbackground": true,
            "showgrid": true,
            "tickcolor": "rgb(51,51,51)",
            "ticks": "outside",
            "zerolinecolor": "white"
           },
           "yaxis": {
            "backgroundcolor": "rgb(237,237,237)",
            "gridcolor": "white",
            "gridwidth": 2,
            "linecolor": "white",
            "showbackground": true,
            "showgrid": true,
            "tickcolor": "rgb(51,51,51)",
            "ticks": "outside",
            "zerolinecolor": "white"
           },
           "zaxis": {
            "backgroundcolor": "rgb(237,237,237)",
            "gridcolor": "white",
            "gridwidth": 2,
            "linecolor": "white",
            "showbackground": true,
            "showgrid": true,
            "tickcolor": "rgb(51,51,51)",
            "ticks": "outside",
            "zerolinecolor": "white"
           }
          },
          "shapedefaults": {
           "fillcolor": "black",
           "line": {
            "width": 0
           },
           "opacity": 0.3
          },
          "ternary": {
           "aaxis": {
            "gridcolor": "white",
            "linecolor": "white",
            "showgrid": true,
            "tickcolor": "rgb(51,51,51)",
            "ticks": "outside"
           },
           "baxis": {
            "gridcolor": "white",
            "linecolor": "white",
            "showgrid": true,
            "tickcolor": "rgb(51,51,51)",
            "ticks": "outside"
           },
           "bgcolor": "rgb(237,237,237)",
           "caxis": {
            "gridcolor": "white",
            "linecolor": "white",
            "showgrid": true,
            "tickcolor": "rgb(51,51,51)",
            "ticks": "outside"
           }
          },
          "xaxis": {
           "automargin": true,
           "gridcolor": "white",
           "linecolor": "white",
           "showgrid": true,
           "tickcolor": "rgb(51,51,51)",
           "ticks": "outside",
           "title": {
            "standoff": 15
           },
           "zerolinecolor": "white"
          },
          "yaxis": {
           "automargin": true,
           "gridcolor": "white",
           "linecolor": "white",
           "showgrid": true,
           "tickcolor": "rgb(51,51,51)",
           "ticks": "outside",
           "title": {
            "standoff": 15
           },
           "zerolinecolor": "white"
          }
         }
        },
        "title": {
         "text": "Nacimientos en los municipios de Hermosillo"
        },
        "xaxis": {
         "anchor": "y",
         "domain": [
          0,
          1
         ],
         "title": {
          "text": "Año"
         }
        },
        "yaxis": {
         "anchor": "x",
         "domain": [
          0,
          1
         ],
         "title": {
          "text": "nacimientos"
         }
        }
       }
      }
     },
     "metadata": {},
     "output_type": "display_data"
    }
   ],
   "source": [
    "fig = px.bar(nacimientos_tidy, x=\"año\", y='nacimientos',color='municipio',\n",
    "              title='Nacimientos en los municipios de Hermosillo',\n",
    "              labels={'municipio':'Municipio',\n",
    "                      'año':'Año'},\n",
    "                template='ggplot2')\n",
    "\n",
    "fig.show()"
   ]
  },
  {
   "cell_type": "code",
   "execution_count": 43,
   "metadata": {},
   "outputs": [
    {
     "data": {
      "application/vnd.plotly.v1+json": {
       "config": {
        "plotlyServerURL": "https://plot.ly"
       },
       "data": [
        {
         "hovertemplate": "Año=%{x}<br>nacimientos=%{y}<extra></extra>",
         "legendgroup": "",
         "marker": {
          "color": "#F8766D",
          "symbol": "circle"
         },
         "mode": "markers",
         "name": "",
         "orientation": "v",
         "showlegend": false,
         "type": "scatter",
         "x": [
          1994,
          1995,
          1996,
          1997,
          1998,
          1999,
          2000,
          2001,
          2002,
          2003,
          2004,
          2005,
          2006,
          2007,
          2008,
          2009,
          2010,
          2011,
          2012,
          2013,
          2014,
          2015,
          2016,
          2017,
          2018,
          2019,
          2020
         ],
         "xaxis": "x",
         "y": [
          14921,
          14683,
          14502,
          14653,
          15010,
          14750,
          15311,
          15167,
          15351,
          14671,
          14712,
          14649,
          14857,
          16030,
          15943,
          15913,
          15916,
          16445,
          15879,
          16322,
          16053,
          14903,
          14204,
          13857,
          13166,
          13314,
          8841
         ],
         "yaxis": "y"
        },
        {
         "hovertemplate": "<b>OLS trendline</b><br>nacimientos = -58.0391 * año + 131300<br>R<sup>2</sup>=0.099182<br><br>Año=%{x}<br>nacimientos=%{y} <b>(trend)</b><extra></extra>",
         "legendgroup": "",
         "marker": {
          "color": "#F8766D",
          "symbol": "circle"
         },
         "mode": "lines",
         "name": "",
         "showlegend": false,
         "type": "scatter",
         "x": [
          1994,
          1995,
          1996,
          1997,
          1998,
          1999,
          2000,
          2001,
          2002,
          2003,
          2004,
          2005,
          2006,
          2007,
          2008,
          2009,
          2010,
          2011,
          2012,
          2013,
          2014,
          2015,
          2016,
          2017,
          2018,
          2019,
          2020
         ],
         "xaxis": "x",
         "y": [
          15570.174603174804,
          15512.135531135733,
          15454.096459096661,
          15396.05738705759,
          15338.018315018518,
          15279.979242979447,
          15221.940170940376,
          15163.901098901304,
          15105.862026862233,
          15047.822954823161,
          14989.78388278409,
          14931.744810745018,
          14873.705738705932,
          14815.66666666686,
          14757.62759462779,
          14699.588522588718,
          14641.549450549646,
          14583.510378510575,
          14525.471306471503,
          14467.432234432432,
          14409.39316239336,
          14351.354090354289,
          14293.315018315217,
          14235.275946276146,
          14177.236874237075,
          14119.197802198003,
          14061.158730158932
         ],
         "yaxis": "y"
        }
       ],
       "layout": {
        "legend": {
         "tracegroupgap": 0
        },
        "template": {
         "data": {
          "bar": [
           {
            "error_x": {
             "color": "rgb(51,51,51)"
            },
            "error_y": {
             "color": "rgb(51,51,51)"
            },
            "marker": {
             "line": {
              "color": "rgb(237,237,237)",
              "width": 0.5
             },
             "pattern": {
              "fillmode": "overlay",
              "size": 10,
              "solidity": 0.2
             }
            },
            "type": "bar"
           }
          ],
          "barpolar": [
           {
            "marker": {
             "line": {
              "color": "rgb(237,237,237)",
              "width": 0.5
             },
             "pattern": {
              "fillmode": "overlay",
              "size": 10,
              "solidity": 0.2
             }
            },
            "type": "barpolar"
           }
          ],
          "carpet": [
           {
            "aaxis": {
             "endlinecolor": "rgb(51,51,51)",
             "gridcolor": "white",
             "linecolor": "white",
             "minorgridcolor": "white",
             "startlinecolor": "rgb(51,51,51)"
            },
            "baxis": {
             "endlinecolor": "rgb(51,51,51)",
             "gridcolor": "white",
             "linecolor": "white",
             "minorgridcolor": "white",
             "startlinecolor": "rgb(51,51,51)"
            },
            "type": "carpet"
           }
          ],
          "choropleth": [
           {
            "colorbar": {
             "outlinewidth": 0,
             "tickcolor": "rgb(237,237,237)",
             "ticklen": 6,
             "ticks": "inside"
            },
            "type": "choropleth"
           }
          ],
          "contour": [
           {
            "colorbar": {
             "outlinewidth": 0,
             "tickcolor": "rgb(237,237,237)",
             "ticklen": 6,
             "ticks": "inside"
            },
            "colorscale": [
             [
              0,
              "rgb(20,44,66)"
             ],
             [
              1,
              "rgb(90,179,244)"
             ]
            ],
            "type": "contour"
           }
          ],
          "contourcarpet": [
           {
            "colorbar": {
             "outlinewidth": 0,
             "tickcolor": "rgb(237,237,237)",
             "ticklen": 6,
             "ticks": "inside"
            },
            "type": "contourcarpet"
           }
          ],
          "heatmap": [
           {
            "colorbar": {
             "outlinewidth": 0,
             "tickcolor": "rgb(237,237,237)",
             "ticklen": 6,
             "ticks": "inside"
            },
            "colorscale": [
             [
              0,
              "rgb(20,44,66)"
             ],
             [
              1,
              "rgb(90,179,244)"
             ]
            ],
            "type": "heatmap"
           }
          ],
          "heatmapgl": [
           {
            "colorbar": {
             "outlinewidth": 0,
             "tickcolor": "rgb(237,237,237)",
             "ticklen": 6,
             "ticks": "inside"
            },
            "colorscale": [
             [
              0,
              "rgb(20,44,66)"
             ],
             [
              1,
              "rgb(90,179,244)"
             ]
            ],
            "type": "heatmapgl"
           }
          ],
          "histogram": [
           {
            "marker": {
             "pattern": {
              "fillmode": "overlay",
              "size": 10,
              "solidity": 0.2
             }
            },
            "type": "histogram"
           }
          ],
          "histogram2d": [
           {
            "colorbar": {
             "outlinewidth": 0,
             "tickcolor": "rgb(237,237,237)",
             "ticklen": 6,
             "ticks": "inside"
            },
            "colorscale": [
             [
              0,
              "rgb(20,44,66)"
             ],
             [
              1,
              "rgb(90,179,244)"
             ]
            ],
            "type": "histogram2d"
           }
          ],
          "histogram2dcontour": [
           {
            "colorbar": {
             "outlinewidth": 0,
             "tickcolor": "rgb(237,237,237)",
             "ticklen": 6,
             "ticks": "inside"
            },
            "colorscale": [
             [
              0,
              "rgb(20,44,66)"
             ],
             [
              1,
              "rgb(90,179,244)"
             ]
            ],
            "type": "histogram2dcontour"
           }
          ],
          "mesh3d": [
           {
            "colorbar": {
             "outlinewidth": 0,
             "tickcolor": "rgb(237,237,237)",
             "ticklen": 6,
             "ticks": "inside"
            },
            "type": "mesh3d"
           }
          ],
          "parcoords": [
           {
            "line": {
             "colorbar": {
              "outlinewidth": 0,
              "tickcolor": "rgb(237,237,237)",
              "ticklen": 6,
              "ticks": "inside"
             }
            },
            "type": "parcoords"
           }
          ],
          "pie": [
           {
            "automargin": true,
            "type": "pie"
           }
          ],
          "scatter": [
           {
            "fillpattern": {
             "fillmode": "overlay",
             "size": 10,
             "solidity": 0.2
            },
            "type": "scatter"
           }
          ],
          "scatter3d": [
           {
            "line": {
             "colorbar": {
              "outlinewidth": 0,
              "tickcolor": "rgb(237,237,237)",
              "ticklen": 6,
              "ticks": "inside"
             }
            },
            "marker": {
             "colorbar": {
              "outlinewidth": 0,
              "tickcolor": "rgb(237,237,237)",
              "ticklen": 6,
              "ticks": "inside"
             }
            },
            "type": "scatter3d"
           }
          ],
          "scattercarpet": [
           {
            "marker": {
             "colorbar": {
              "outlinewidth": 0,
              "tickcolor": "rgb(237,237,237)",
              "ticklen": 6,
              "ticks": "inside"
             }
            },
            "type": "scattercarpet"
           }
          ],
          "scattergeo": [
           {
            "marker": {
             "colorbar": {
              "outlinewidth": 0,
              "tickcolor": "rgb(237,237,237)",
              "ticklen": 6,
              "ticks": "inside"
             }
            },
            "type": "scattergeo"
           }
          ],
          "scattergl": [
           {
            "marker": {
             "colorbar": {
              "outlinewidth": 0,
              "tickcolor": "rgb(237,237,237)",
              "ticklen": 6,
              "ticks": "inside"
             }
            },
            "type": "scattergl"
           }
          ],
          "scattermapbox": [
           {
            "marker": {
             "colorbar": {
              "outlinewidth": 0,
              "tickcolor": "rgb(237,237,237)",
              "ticklen": 6,
              "ticks": "inside"
             }
            },
            "type": "scattermapbox"
           }
          ],
          "scatterpolar": [
           {
            "marker": {
             "colorbar": {
              "outlinewidth": 0,
              "tickcolor": "rgb(237,237,237)",
              "ticklen": 6,
              "ticks": "inside"
             }
            },
            "type": "scatterpolar"
           }
          ],
          "scatterpolargl": [
           {
            "marker": {
             "colorbar": {
              "outlinewidth": 0,
              "tickcolor": "rgb(237,237,237)",
              "ticklen": 6,
              "ticks": "inside"
             }
            },
            "type": "scatterpolargl"
           }
          ],
          "scatterternary": [
           {
            "marker": {
             "colorbar": {
              "outlinewidth": 0,
              "tickcolor": "rgb(237,237,237)",
              "ticklen": 6,
              "ticks": "inside"
             }
            },
            "type": "scatterternary"
           }
          ],
          "surface": [
           {
            "colorbar": {
             "outlinewidth": 0,
             "tickcolor": "rgb(237,237,237)",
             "ticklen": 6,
             "ticks": "inside"
            },
            "colorscale": [
             [
              0,
              "rgb(20,44,66)"
             ],
             [
              1,
              "rgb(90,179,244)"
             ]
            ],
            "type": "surface"
           }
          ],
          "table": [
           {
            "cells": {
             "fill": {
              "color": "rgb(237,237,237)"
             },
             "line": {
              "color": "white"
             }
            },
            "header": {
             "fill": {
              "color": "rgb(217,217,217)"
             },
             "line": {
              "color": "white"
             }
            },
            "type": "table"
           }
          ]
         },
         "layout": {
          "annotationdefaults": {
           "arrowhead": 0,
           "arrowwidth": 1
          },
          "autotypenumbers": "strict",
          "coloraxis": {
           "colorbar": {
            "outlinewidth": 0,
            "tickcolor": "rgb(237,237,237)",
            "ticklen": 6,
            "ticks": "inside"
           }
          },
          "colorscale": {
           "sequential": [
            [
             0,
             "rgb(20,44,66)"
            ],
            [
             1,
             "rgb(90,179,244)"
            ]
           ],
           "sequentialminus": [
            [
             0,
             "rgb(20,44,66)"
            ],
            [
             1,
             "rgb(90,179,244)"
            ]
           ]
          },
          "colorway": [
           "#F8766D",
           "#A3A500",
           "#00BF7D",
           "#00B0F6",
           "#E76BF3"
          ],
          "font": {
           "color": "rgb(51,51,51)"
          },
          "geo": {
           "bgcolor": "white",
           "lakecolor": "white",
           "landcolor": "rgb(237,237,237)",
           "showlakes": true,
           "showland": true,
           "subunitcolor": "white"
          },
          "hoverlabel": {
           "align": "left"
          },
          "hovermode": "closest",
          "paper_bgcolor": "white",
          "plot_bgcolor": "rgb(237,237,237)",
          "polar": {
           "angularaxis": {
            "gridcolor": "white",
            "linecolor": "white",
            "showgrid": true,
            "tickcolor": "rgb(51,51,51)",
            "ticks": "outside"
           },
           "bgcolor": "rgb(237,237,237)",
           "radialaxis": {
            "gridcolor": "white",
            "linecolor": "white",
            "showgrid": true,
            "tickcolor": "rgb(51,51,51)",
            "ticks": "outside"
           }
          },
          "scene": {
           "xaxis": {
            "backgroundcolor": "rgb(237,237,237)",
            "gridcolor": "white",
            "gridwidth": 2,
            "linecolor": "white",
            "showbackground": true,
            "showgrid": true,
            "tickcolor": "rgb(51,51,51)",
            "ticks": "outside",
            "zerolinecolor": "white"
           },
           "yaxis": {
            "backgroundcolor": "rgb(237,237,237)",
            "gridcolor": "white",
            "gridwidth": 2,
            "linecolor": "white",
            "showbackground": true,
            "showgrid": true,
            "tickcolor": "rgb(51,51,51)",
            "ticks": "outside",
            "zerolinecolor": "white"
           },
           "zaxis": {
            "backgroundcolor": "rgb(237,237,237)",
            "gridcolor": "white",
            "gridwidth": 2,
            "linecolor": "white",
            "showbackground": true,
            "showgrid": true,
            "tickcolor": "rgb(51,51,51)",
            "ticks": "outside",
            "zerolinecolor": "white"
           }
          },
          "shapedefaults": {
           "fillcolor": "black",
           "line": {
            "width": 0
           },
           "opacity": 0.3
          },
          "ternary": {
           "aaxis": {
            "gridcolor": "white",
            "linecolor": "white",
            "showgrid": true,
            "tickcolor": "rgb(51,51,51)",
            "ticks": "outside"
           },
           "baxis": {
            "gridcolor": "white",
            "linecolor": "white",
            "showgrid": true,
            "tickcolor": "rgb(51,51,51)",
            "ticks": "outside"
           },
           "bgcolor": "rgb(237,237,237)",
           "caxis": {
            "gridcolor": "white",
            "linecolor": "white",
            "showgrid": true,
            "tickcolor": "rgb(51,51,51)",
            "ticks": "outside"
           }
          },
          "xaxis": {
           "automargin": true,
           "gridcolor": "white",
           "linecolor": "white",
           "showgrid": true,
           "tickcolor": "rgb(51,51,51)",
           "ticks": "outside",
           "title": {
            "standoff": 15
           },
           "zerolinecolor": "white"
          },
          "yaxis": {
           "automargin": true,
           "gridcolor": "white",
           "linecolor": "white",
           "showgrid": true,
           "tickcolor": "rgb(51,51,51)",
           "ticks": "outside",
           "title": {
            "standoff": 15
           },
           "zerolinecolor": "white"
          }
         }
        },
        "title": {
         "text": "Nacimientos en Hermosillo"
        },
        "xaxis": {
         "anchor": "y",
         "domain": [
          0,
          1
         ],
         "title": {
          "text": "Año"
         }
        },
        "yaxis": {
         "anchor": "x",
         "domain": [
          0,
          1
         ],
         "title": {
          "text": "nacimientos"
         }
        }
       }
      }
     },
     "metadata": {},
     "output_type": "display_data"
    }
   ],
   "source": [
    "dff = nacimientos_tidy[nacimientos_tidy['municipio'] == 'Hermosillo']\n",
    "fig = px.scatter(dff, x=\"año\", y=\"nacimientos\", trendline=\"ols\",\n",
    "                title='Nacimientos en Hermosillo',\n",
    "                labels={'municipio':'Municipio',\n",
    "                      'año':'Año'},\n",
    "                template='ggplot2')\n",
    "fig.show()"
   ]
  },
  {
   "cell_type": "code",
   "execution_count": 44,
   "metadata": {},
   "outputs": [],
   "source": [
    "tendencias = pd.DataFrame()\n",
    "#Obteniendo la tendencia para cada municipio\n",
    "for municipio in nacimientos_tidy['municipio'].unique():\n",
    "    dff = nacimientos_tidy[nacimientos_tidy['municipio'] == municipio]\n",
    "    X = dff[['año']] # here we have 2 variables for the multiple linear regression. If you just want to use one variable for simple linear regression, then use X = df['Interest_Rate'] for example\n",
    "    Y = dff['nacimientos']\n",
    "    X = sm.add_constant(X) # adding a constant\n",
    "\n",
    "    model = sm.OLS(Y, X).fit()\n",
    "    predictions = model.predict(X) \n",
    "\n",
    "    df = pd.DataFrame({\"municipio\":[municipio],\n",
    "                    \"tendencia\":[model.params[1]]})\n",
    "    tendencias = pd.concat([tendencias, df])"
   ]
  },
  {
   "cell_type": "code",
   "execution_count": 45,
   "metadata": {},
   "outputs": [
    {
     "data": {
      "text/html": [
       "<div>\n",
       "<style scoped>\n",
       "    .dataframe tbody tr th:only-of-type {\n",
       "        vertical-align: middle;\n",
       "    }\n",
       "\n",
       "    .dataframe tbody tr th {\n",
       "        vertical-align: top;\n",
       "    }\n",
       "\n",
       "    .dataframe thead th {\n",
       "        text-align: right;\n",
       "    }\n",
       "</style>\n",
       "<table border=\"1\" class=\"dataframe\">\n",
       "  <thead>\n",
       "    <tr style=\"text-align: right;\">\n",
       "      <th></th>\n",
       "      <th>municipio</th>\n",
       "      <th>tendencia</th>\n",
       "    </tr>\n",
       "  </thead>\n",
       "  <tbody>\n",
       "    <tr>\n",
       "      <th>0</th>\n",
       "      <td>Aconchi</td>\n",
       "      <td>-1.741758</td>\n",
       "    </tr>\n",
       "    <tr>\n",
       "      <th>0</th>\n",
       "      <td>Agua Prieta</td>\n",
       "      <td>-15.336996</td>\n",
       "    </tr>\n",
       "    <tr>\n",
       "      <th>0</th>\n",
       "      <td>Alamos</td>\n",
       "      <td>-12.514042</td>\n",
       "    </tr>\n",
       "    <tr>\n",
       "      <th>0</th>\n",
       "      <td>Altar</td>\n",
       "      <td>-1.006105</td>\n",
       "    </tr>\n",
       "    <tr>\n",
       "      <th>0</th>\n",
       "      <td>Arivechi</td>\n",
       "      <td>-1.212454</td>\n",
       "    </tr>\n",
       "    <tr>\n",
       "      <th>...</th>\n",
       "      <td>...</td>\n",
       "      <td>...</td>\n",
       "    </tr>\n",
       "    <tr>\n",
       "      <th>0</th>\n",
       "      <td>Yécora</td>\n",
       "      <td>-3.632479</td>\n",
       "    </tr>\n",
       "    <tr>\n",
       "      <th>0</th>\n",
       "      <td>General Plutarco Elías Calles</td>\n",
       "      <td>-3.808303</td>\n",
       "    </tr>\n",
       "    <tr>\n",
       "      <th>0</th>\n",
       "      <td>Benito Juárez</td>\n",
       "      <td>7.216728</td>\n",
       "    </tr>\n",
       "    <tr>\n",
       "      <th>0</th>\n",
       "      <td>San Ignacio Río Muerto</td>\n",
       "      <td>4.863858</td>\n",
       "    </tr>\n",
       "    <tr>\n",
       "      <th>0</th>\n",
       "      <td>No especificado</td>\n",
       "      <td>-0.481074</td>\n",
       "    </tr>\n",
       "  </tbody>\n",
       "</table>\n",
       "<p>73 rows × 2 columns</p>\n",
       "</div>"
      ],
      "text/plain": [
       "                        municipio  tendencia\n",
       "0                         Aconchi  -1.741758\n",
       "0                     Agua Prieta -15.336996\n",
       "0                          Alamos -12.514042\n",
       "0                           Altar  -1.006105\n",
       "0                        Arivechi  -1.212454\n",
       "..                            ...        ...\n",
       "0                          Yécora  -3.632479\n",
       "0   General Plutarco Elías Calles  -3.808303\n",
       "0                   Benito Juárez   7.216728\n",
       "0          San Ignacio Río Muerto   4.863858\n",
       "0                 No especificado  -0.481074\n",
       "\n",
       "[73 rows x 2 columns]"
      ]
     },
     "execution_count": 45,
     "metadata": {},
     "output_type": "execute_result"
    }
   ],
   "source": [
    "tendencias"
   ]
  },
  {
   "cell_type": "code",
   "execution_count": 47,
   "metadata": {},
   "outputs": [
    {
     "data": {
      "application/vnd.plotly.v1+json": {
       "config": {
        "plotlyServerURL": "https://plot.ly"
       },
       "data": [
        {
         "hovertemplate": "Año=%{x}<br>nacimientos=%{y}<extra></extra>",
         "legendgroup": "",
         "marker": {
          "color": "#F8766D",
          "symbol": "circle"
         },
         "mode": "markers",
         "name": "",
         "orientation": "v",
         "showlegend": false,
         "type": "scatter",
         "x": [
          1994,
          1995,
          1996,
          1997,
          1998,
          1999,
          2000,
          2001,
          2002,
          2003,
          2004,
          2005,
          2006,
          2007,
          2008,
          2009,
          2010,
          2011,
          2012,
          2013,
          2014,
          2015,
          2016,
          2017,
          2018,
          2019,
          2020
         ],
         "xaxis": "x",
         "y": [
          0,
          0,
          0,
          0,
          559,
          604,
          570,
          590,
          580,
          513,
          529,
          607,
          494,
          454,
          479,
          474,
          518,
          488,
          490,
          488,
          474,
          461,
          392,
          409,
          365,
          394,
          291
         ],
         "yaxis": "y"
        },
        {
         "hovertemplate": "<b>OLS trendline</b><br>nacimientos = 7.21673 * año + -14068.3<br>R<sup>2</sup>=0.089479<br><br>Año=%{x}<br>nacimientos=%{y} <b>(trend)</b><extra></extra>",
         "legendgroup": "",
         "marker": {
          "color": "#F8766D",
          "symbol": "circle"
         },
         "mode": "lines",
         "name": "",
         "showlegend": false,
         "type": "scatter",
         "x": [
          1994,
          1995,
          1996,
          1997,
          1998,
          1999,
          2000,
          2001,
          2002,
          2003,
          2004,
          2005,
          2006,
          2007,
          2008,
          2009,
          2010,
          2011,
          2012,
          2013,
          2014,
          2015,
          2016,
          2017,
          2018,
          2019,
          2020
         ],
         "xaxis": "x",
         "y": [
          321.84920634920854,
          329.06593406593674,
          336.28266178266495,
          343.49938949939315,
          350.7161172161195,
          357.93284493284773,
          365.14957264957593,
          372.36630036630413,
          379.5830280830305,
          386.7997557997587,
          394.0164835164869,
          401.2332112332151,
          408.4499389499433,
          415.6666666666697,
          422.8833943833979,
          430.1001221001261,
          437.3168498168543,
          444.5335775335807,
          451.7503052503089,
          458.9670329670371,
          466.1837606837653,
          473.4004884004935,
          480.61721611721987,
          487.83394383394807,
          495.05067155067627,
          502.26739926740447,
          509.48412698413085
         ],
         "yaxis": "y"
        }
       ],
       "layout": {
        "legend": {
         "tracegroupgap": 0
        },
        "template": {
         "data": {
          "bar": [
           {
            "error_x": {
             "color": "rgb(51,51,51)"
            },
            "error_y": {
             "color": "rgb(51,51,51)"
            },
            "marker": {
             "line": {
              "color": "rgb(237,237,237)",
              "width": 0.5
             },
             "pattern": {
              "fillmode": "overlay",
              "size": 10,
              "solidity": 0.2
             }
            },
            "type": "bar"
           }
          ],
          "barpolar": [
           {
            "marker": {
             "line": {
              "color": "rgb(237,237,237)",
              "width": 0.5
             },
             "pattern": {
              "fillmode": "overlay",
              "size": 10,
              "solidity": 0.2
             }
            },
            "type": "barpolar"
           }
          ],
          "carpet": [
           {
            "aaxis": {
             "endlinecolor": "rgb(51,51,51)",
             "gridcolor": "white",
             "linecolor": "white",
             "minorgridcolor": "white",
             "startlinecolor": "rgb(51,51,51)"
            },
            "baxis": {
             "endlinecolor": "rgb(51,51,51)",
             "gridcolor": "white",
             "linecolor": "white",
             "minorgridcolor": "white",
             "startlinecolor": "rgb(51,51,51)"
            },
            "type": "carpet"
           }
          ],
          "choropleth": [
           {
            "colorbar": {
             "outlinewidth": 0,
             "tickcolor": "rgb(237,237,237)",
             "ticklen": 6,
             "ticks": "inside"
            },
            "type": "choropleth"
           }
          ],
          "contour": [
           {
            "colorbar": {
             "outlinewidth": 0,
             "tickcolor": "rgb(237,237,237)",
             "ticklen": 6,
             "ticks": "inside"
            },
            "colorscale": [
             [
              0,
              "rgb(20,44,66)"
             ],
             [
              1,
              "rgb(90,179,244)"
             ]
            ],
            "type": "contour"
           }
          ],
          "contourcarpet": [
           {
            "colorbar": {
             "outlinewidth": 0,
             "tickcolor": "rgb(237,237,237)",
             "ticklen": 6,
             "ticks": "inside"
            },
            "type": "contourcarpet"
           }
          ],
          "heatmap": [
           {
            "colorbar": {
             "outlinewidth": 0,
             "tickcolor": "rgb(237,237,237)",
             "ticklen": 6,
             "ticks": "inside"
            },
            "colorscale": [
             [
              0,
              "rgb(20,44,66)"
             ],
             [
              1,
              "rgb(90,179,244)"
             ]
            ],
            "type": "heatmap"
           }
          ],
          "heatmapgl": [
           {
            "colorbar": {
             "outlinewidth": 0,
             "tickcolor": "rgb(237,237,237)",
             "ticklen": 6,
             "ticks": "inside"
            },
            "colorscale": [
             [
              0,
              "rgb(20,44,66)"
             ],
             [
              1,
              "rgb(90,179,244)"
             ]
            ],
            "type": "heatmapgl"
           }
          ],
          "histogram": [
           {
            "marker": {
             "pattern": {
              "fillmode": "overlay",
              "size": 10,
              "solidity": 0.2
             }
            },
            "type": "histogram"
           }
          ],
          "histogram2d": [
           {
            "colorbar": {
             "outlinewidth": 0,
             "tickcolor": "rgb(237,237,237)",
             "ticklen": 6,
             "ticks": "inside"
            },
            "colorscale": [
             [
              0,
              "rgb(20,44,66)"
             ],
             [
              1,
              "rgb(90,179,244)"
             ]
            ],
            "type": "histogram2d"
           }
          ],
          "histogram2dcontour": [
           {
            "colorbar": {
             "outlinewidth": 0,
             "tickcolor": "rgb(237,237,237)",
             "ticklen": 6,
             "ticks": "inside"
            },
            "colorscale": [
             [
              0,
              "rgb(20,44,66)"
             ],
             [
              1,
              "rgb(90,179,244)"
             ]
            ],
            "type": "histogram2dcontour"
           }
          ],
          "mesh3d": [
           {
            "colorbar": {
             "outlinewidth": 0,
             "tickcolor": "rgb(237,237,237)",
             "ticklen": 6,
             "ticks": "inside"
            },
            "type": "mesh3d"
           }
          ],
          "parcoords": [
           {
            "line": {
             "colorbar": {
              "outlinewidth": 0,
              "tickcolor": "rgb(237,237,237)",
              "ticklen": 6,
              "ticks": "inside"
             }
            },
            "type": "parcoords"
           }
          ],
          "pie": [
           {
            "automargin": true,
            "type": "pie"
           }
          ],
          "scatter": [
           {
            "fillpattern": {
             "fillmode": "overlay",
             "size": 10,
             "solidity": 0.2
            },
            "type": "scatter"
           }
          ],
          "scatter3d": [
           {
            "line": {
             "colorbar": {
              "outlinewidth": 0,
              "tickcolor": "rgb(237,237,237)",
              "ticklen": 6,
              "ticks": "inside"
             }
            },
            "marker": {
             "colorbar": {
              "outlinewidth": 0,
              "tickcolor": "rgb(237,237,237)",
              "ticklen": 6,
              "ticks": "inside"
             }
            },
            "type": "scatter3d"
           }
          ],
          "scattercarpet": [
           {
            "marker": {
             "colorbar": {
              "outlinewidth": 0,
              "tickcolor": "rgb(237,237,237)",
              "ticklen": 6,
              "ticks": "inside"
             }
            },
            "type": "scattercarpet"
           }
          ],
          "scattergeo": [
           {
            "marker": {
             "colorbar": {
              "outlinewidth": 0,
              "tickcolor": "rgb(237,237,237)",
              "ticklen": 6,
              "ticks": "inside"
             }
            },
            "type": "scattergeo"
           }
          ],
          "scattergl": [
           {
            "marker": {
             "colorbar": {
              "outlinewidth": 0,
              "tickcolor": "rgb(237,237,237)",
              "ticklen": 6,
              "ticks": "inside"
             }
            },
            "type": "scattergl"
           }
          ],
          "scattermapbox": [
           {
            "marker": {
             "colorbar": {
              "outlinewidth": 0,
              "tickcolor": "rgb(237,237,237)",
              "ticklen": 6,
              "ticks": "inside"
             }
            },
            "type": "scattermapbox"
           }
          ],
          "scatterpolar": [
           {
            "marker": {
             "colorbar": {
              "outlinewidth": 0,
              "tickcolor": "rgb(237,237,237)",
              "ticklen": 6,
              "ticks": "inside"
             }
            },
            "type": "scatterpolar"
           }
          ],
          "scatterpolargl": [
           {
            "marker": {
             "colorbar": {
              "outlinewidth": 0,
              "tickcolor": "rgb(237,237,237)",
              "ticklen": 6,
              "ticks": "inside"
             }
            },
            "type": "scatterpolargl"
           }
          ],
          "scatterternary": [
           {
            "marker": {
             "colorbar": {
              "outlinewidth": 0,
              "tickcolor": "rgb(237,237,237)",
              "ticklen": 6,
              "ticks": "inside"
             }
            },
            "type": "scatterternary"
           }
          ],
          "surface": [
           {
            "colorbar": {
             "outlinewidth": 0,
             "tickcolor": "rgb(237,237,237)",
             "ticklen": 6,
             "ticks": "inside"
            },
            "colorscale": [
             [
              0,
              "rgb(20,44,66)"
             ],
             [
              1,
              "rgb(90,179,244)"
             ]
            ],
            "type": "surface"
           }
          ],
          "table": [
           {
            "cells": {
             "fill": {
              "color": "rgb(237,237,237)"
             },
             "line": {
              "color": "white"
             }
            },
            "header": {
             "fill": {
              "color": "rgb(217,217,217)"
             },
             "line": {
              "color": "white"
             }
            },
            "type": "table"
           }
          ]
         },
         "layout": {
          "annotationdefaults": {
           "arrowhead": 0,
           "arrowwidth": 1
          },
          "autotypenumbers": "strict",
          "coloraxis": {
           "colorbar": {
            "outlinewidth": 0,
            "tickcolor": "rgb(237,237,237)",
            "ticklen": 6,
            "ticks": "inside"
           }
          },
          "colorscale": {
           "sequential": [
            [
             0,
             "rgb(20,44,66)"
            ],
            [
             1,
             "rgb(90,179,244)"
            ]
           ],
           "sequentialminus": [
            [
             0,
             "rgb(20,44,66)"
            ],
            [
             1,
             "rgb(90,179,244)"
            ]
           ]
          },
          "colorway": [
           "#F8766D",
           "#A3A500",
           "#00BF7D",
           "#00B0F6",
           "#E76BF3"
          ],
          "font": {
           "color": "rgb(51,51,51)"
          },
          "geo": {
           "bgcolor": "white",
           "lakecolor": "white",
           "landcolor": "rgb(237,237,237)",
           "showlakes": true,
           "showland": true,
           "subunitcolor": "white"
          },
          "hoverlabel": {
           "align": "left"
          },
          "hovermode": "closest",
          "paper_bgcolor": "white",
          "plot_bgcolor": "rgb(237,237,237)",
          "polar": {
           "angularaxis": {
            "gridcolor": "white",
            "linecolor": "white",
            "showgrid": true,
            "tickcolor": "rgb(51,51,51)",
            "ticks": "outside"
           },
           "bgcolor": "rgb(237,237,237)",
           "radialaxis": {
            "gridcolor": "white",
            "linecolor": "white",
            "showgrid": true,
            "tickcolor": "rgb(51,51,51)",
            "ticks": "outside"
           }
          },
          "scene": {
           "xaxis": {
            "backgroundcolor": "rgb(237,237,237)",
            "gridcolor": "white",
            "gridwidth": 2,
            "linecolor": "white",
            "showbackground": true,
            "showgrid": true,
            "tickcolor": "rgb(51,51,51)",
            "ticks": "outside",
            "zerolinecolor": "white"
           },
           "yaxis": {
            "backgroundcolor": "rgb(237,237,237)",
            "gridcolor": "white",
            "gridwidth": 2,
            "linecolor": "white",
            "showbackground": true,
            "showgrid": true,
            "tickcolor": "rgb(51,51,51)",
            "ticks": "outside",
            "zerolinecolor": "white"
           },
           "zaxis": {
            "backgroundcolor": "rgb(237,237,237)",
            "gridcolor": "white",
            "gridwidth": 2,
            "linecolor": "white",
            "showbackground": true,
            "showgrid": true,
            "tickcolor": "rgb(51,51,51)",
            "ticks": "outside",
            "zerolinecolor": "white"
           }
          },
          "shapedefaults": {
           "fillcolor": "black",
           "line": {
            "width": 0
           },
           "opacity": 0.3
          },
          "ternary": {
           "aaxis": {
            "gridcolor": "white",
            "linecolor": "white",
            "showgrid": true,
            "tickcolor": "rgb(51,51,51)",
            "ticks": "outside"
           },
           "baxis": {
            "gridcolor": "white",
            "linecolor": "white",
            "showgrid": true,
            "tickcolor": "rgb(51,51,51)",
            "ticks": "outside"
           },
           "bgcolor": "rgb(237,237,237)",
           "caxis": {
            "gridcolor": "white",
            "linecolor": "white",
            "showgrid": true,
            "tickcolor": "rgb(51,51,51)",
            "ticks": "outside"
           }
          },
          "xaxis": {
           "automargin": true,
           "gridcolor": "white",
           "linecolor": "white",
           "showgrid": true,
           "tickcolor": "rgb(51,51,51)",
           "ticks": "outside",
           "title": {
            "standoff": 15
           },
           "zerolinecolor": "white"
          },
          "yaxis": {
           "automargin": true,
           "gridcolor": "white",
           "linecolor": "white",
           "showgrid": true,
           "tickcolor": "rgb(51,51,51)",
           "ticks": "outside",
           "title": {
            "standoff": 15
           },
           "zerolinecolor": "white"
          }
         }
        },
        "title": {
         "text": "Nacimientos en Benito Juarez"
        },
        "xaxis": {
         "anchor": "y",
         "domain": [
          0,
          1
         ],
         "title": {
          "text": "Año"
         }
        },
        "yaxis": {
         "anchor": "x",
         "domain": [
          0,
          1
         ],
         "title": {
          "text": "nacimientos"
         }
        }
       }
      }
     },
     "metadata": {},
     "output_type": "display_data"
    }
   ],
   "source": [
    "dff = nacimientos_tidy[nacimientos_tidy['municipio'] == 'Benito Juárez']\n",
    "fig = px.scatter(dff, x=\"año\", y=\"nacimientos\", trendline=\"ols\",\n",
    "                title='Nacimientos en Benito Juarez',\n",
    "                labels={'municipio':'Municipio',\n",
    "                      'año':'Año'},\n",
    "                template='ggplot2')\n",
    "fig.show()"
   ]
  }
 ],
 "metadata": {
  "interpreter": {
   "hash": "916dbcbb3f70747c44a77c7bcd40155683ae19c65e1c03b4aa3499c5328201f1"
  },
  "kernelspec": {
   "display_name": "Python 3.8.10 64-bit",
   "language": "python",
   "name": "python3"
  },
  "language_info": {
   "codemirror_mode": {
    "name": "ipython",
    "version": 3
   },
   "file_extension": ".py",
   "mimetype": "text/x-python",
   "name": "python",
   "nbconvert_exporter": "python",
   "pygments_lexer": "ipython3",
   "version": "3.8.10"
  },
  "orig_nbformat": 4
 },
 "nbformat": 4,
 "nbformat_minor": 2
}
